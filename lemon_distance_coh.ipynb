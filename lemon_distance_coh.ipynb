{
 "cells": [
  {
   "cell_type": "markdown",
   "metadata": {},
   "source": [
    "# Imports"
   ]
  },
  {
   "cell_type": "code",
   "execution_count": 10,
   "metadata": {},
   "outputs": [],
   "source": [
    "import mne\n",
    "from mne.externals.pymatreader import read_mat\n",
    "import numpy as np\n",
    "import xarray as xr\n",
    "import seaborn as sns\n",
    "import pandas as pd\n",
    "from tqdm.notebook import tqdm\n",
    "import os.path as op\n",
    "import matplotlib.pyplot as plt\n",
    "from scipy.optimize import minimize\n",
    "import scipy\n",
    "from mpl_toolkits.axes_grid1.inset_locator import InsetPosition\n",
    "import sympy as sp\n",
    "import matplotlib.image as mpimg\n",
    "from pathlib import Path\n",
    "import numpy.fft as fft\n",
    "import matplotlib.image as mpimg\n",
    "\n",
    "from acareeg.lemon import get_epochs_lemon, get_trials_lemon\n",
    "from acareeg.utils import get_epochs_to_trials\n",
    "from acareeg.simulation import get_epochs_sim, get_corrected_sources_one_epoch, \\\n",
    "    get_model_kdtree, correct_source_amplitude"
   ]
  },
  {
   "cell_type": "markdown",
   "metadata": {},
   "source": [
    "# Functions"
   ]
  },
  {
   "cell_type": "code",
   "execution_count": 2,
   "metadata": {},
   "outputs": [],
   "source": [
    "def get_dist2(eeg_loc, name1, name2):\n",
    "    return np.sqrt(np.sum((eeg_loc.loc[name1].values - eeg_loc.loc[name2].values)**2, axis=1)) \n",
    "\n",
    "def get_coh_dist_df(trials_all, locations, con_method = \"cohy\", sfreq=250, between=False):\n",
    "\n",
    "    if between:\n",
    "        trials_all = trials_all.copy()\n",
    "        tmp = trials_all.data\n",
    "        for i in range(len(trials_all.channel)):\n",
    "            tmp[:, i] = np.roll(tmp[:, i], shift=i, axis=2)            \n",
    "        trials_all.data = tmp\n",
    "\n",
    "    return_df = []\n",
    "    for subject in tqdm(trials_all.subject):\n",
    "        trial_subject = trials_all.sel(subject=subject, channel=locations[locations.subject == subject].index.values)\n",
    "        con, freqs, times, n_epochs, n_tapers = \\\n",
    "            mne.connectivity.spectral_connectivity(trial_subject.data, \n",
    "                                                   method=con_method, sfreq=sfreq,\n",
    "                                                   faverage=True, block_size=1000, verbose=False)\n",
    "        ch_names = trial_subject.channel.values\n",
    "        nb_signals = len(ch_names)\n",
    "        inds = np.tril_indices(nb_signals, k=-1)\n",
    "\n",
    "        ch_name1 = np.ravel(np.tile(ch_names, (nb_signals, 1))[inds])\n",
    "        ch_name2 = np.ravel(np.tile(np.array(ch_names)[:, None], (1, nb_signals))[inds])\n",
    "\n",
    "        con_df = pd.DataFrame({\"con\": np.ravel(con[inds]),\n",
    "                                   \"ch_names1\": ch_name1, \n",
    "                                   \"ch_names2\": ch_name2})\n",
    "\n",
    "        con_df[\"dist\"] = get_dist2(locations[locations.subject == subject][[\"x\", \"y\", \"z\"]], \n",
    "                                   con_df.ch_names1.values, con_df.ch_names2.values)*1000\n",
    "        con_df[\"abs_cohy\"] = np.abs(con_df.con)\n",
    "        return_df.append(con_df)\n",
    "    \n",
    "    return pd.concat(return_df)\n",
    "\n",
    "def get_sources(epochs, fwd, lambda2=1e-4, loose=0.0, spatial_random=False, phase_random=False, seed=4234): \n",
    "    noise_cov = mne.compute_covariance(epochs, method=\"auto\", verbose=False).as_diag()\n",
    "    inverse_operator = mne.minimum_norm.make_inverse_operator(epochs.info, fwd, noise_cov, loose=loose, verbose=False)     \n",
    "    stcs = mne.minimum_norm.apply_inverse_epochs(epochs, inverse_operator, lambda2, method=\"eLORETA\",\n",
    "                                                 pick_ori=None, return_generator=False, verbose=False)\n",
    "    if seed is not None:\n",
    "        np.random.seed(seed)    \n",
    "    if spatial_random or phase_random:\n",
    "        for stc in stcs:\n",
    "            if spatial_random:\n",
    "                # Shuffling the sources                \n",
    "                nb_sources = fwd[\"src\"][0][\"nuse\"] + fwd[\"src\"][1][\"nuse\"]\n",
    "                inds = np.arange(nb_sources)\n",
    "                np.random.shuffle(inds)                \n",
    "                stc.data = stc.data[inds]\n",
    "            if phase_random:\n",
    "                stc.data = rand_phase(stc.data)\n",
    "\n",
    "    return stcs\n",
    "\n",
    "def get_vertice_pos(fwd):\n",
    "    return np.vstack((fwd[\"src\"][0]['rr'][fwd[\"src\"][0][\"vertno\"]], \n",
    "                      fwd[\"src\"][1]['rr'][fwd[\"src\"][1][\"vertno\"]]))   \n",
    "\n",
    "    \n",
    "def sources_to_df(stcs, fwd, nb_selected_sources=100, con_method = \"cohy\", seed=34345345): #, nb_selected_epochs=10):\n",
    "    # Selecting a subset of sources\n",
    "    if seed is not None:\n",
    "        np.random.seed(seed)\n",
    "    selected_sources = np.random.choice(len(range(stcs[0].data.shape[0])), nb_selected_sources, False)\n",
    "    selected_stcs = np.stack([s.data[selected_sources, :] for s in stcs])    \n",
    "       \n",
    "    # Computed coherency\n",
    "    con_sources, freqs, times, n_epochs, n_tapers = \\\n",
    "            mne.connectivity.spectral_connectivity(selected_stcs, method=con_method, \n",
    "                                                   sfreq=epochs.info[\"sfreq\"],\n",
    "                                                   faverage=True, verbose=False)\n",
    "    \n",
    "    # Building the dataframes\n",
    "    inds = np.tril_indices(nb_selected_sources, k=-1)\n",
    "\n",
    "    ch_name1 = np.ravel(np.tile(selected_sources, (nb_selected_sources, 1))[inds])\n",
    "    ch_name2 = np.ravel(np.tile(np.array(selected_sources)[:, None], (1, nb_selected_sources))[inds])    \n",
    "    \n",
    "    df_within_sources = pd.DataFrame({\"con\": np.ravel(con_sources[inds]),\n",
    "                                      \"ch_names1\": ch_name1, \n",
    "                                      \"ch_names2\": ch_name2})\n",
    "\n",
    "    pos = get_vertice_pos(fwd)\n",
    "    df_within_sources[\"dist\"] = get_dist2(pd.DataFrame(pos), df_within_sources.ch_names1.values, df_within_sources.ch_names2.values)*1000\n",
    "    df_within_sources[\"abs_cohy\"] = np.abs(df_within_sources.con)\n",
    "    \n",
    "    return df_within_sources    \n",
    "    \n",
    "def get_coh_dist_df_sources(epochs, fwd, nb_selected_sources=100, con_method = \"cohy\", \n",
    "                            seed=234234, **kwargs): #, nb_selected_epochs=10):\n",
    "    stcs = get_sources(epochs, fwd, seed=seed, **kwargs)\n",
    "    df_within_sources = sources_to_df(stcs, fwd, nb_selected_sources=100, con_method = \"cohy\", seed=seed)\n",
    "    return df_within_sources, stcs\n",
    "\n",
    "def get_epochs_sim_lemon(subject, fwd, lambda2=1e-4, spatial_random=False, phase_random=False, seed=4234):\n",
    "    epochs = get_epochs_lemon(subject, lemon_root, event_id)\n",
    "    epochs = epochs[nb_selected_epochs]\n",
    "    epochs.load_data()\n",
    "    if seed is not None:\n",
    "        np.random.seed(seed)\n",
    "    df_within_sources_01, stcs_01 = get_coh_dist_df_sources(epochs, fwd, lambda2=lambda2, spatial_random=spatial_random, \n",
    "                                                            phase_random=phase_random, seed=None)    \n",
    "    epochs_sim = get_epochs_sim(epochs, stcs_01, fwd, return_snr=False)\n",
    "\n",
    "    return epochs_sim, epochs, df_within_sources_01, stcs_01\n",
    "\n",
    "def get_corrected_amplitude_surrogate(epochs, stcs, fwd, return_con_df=True, seed=34234):    \n",
    "    correct_source_amplitude(epochs, stcs, fwd)\n",
    "        \n",
    "    # Re-simulate the EEG from the sources with corrected amplitude\n",
    "    raw_sim = mne.simulation.simulate_raw(info=epochs.info, stc=stcs, forward=fwd, verbose=False)    \n",
    "    epochs_sim = mne.Epochs(raw_sim, events, tmin=epochs.times[0], tmax=epochs.times[-1], \n",
    "                            baseline=None, preload=True, reject_by_annotation=False, verbose=False)    \n",
    "    \n",
    "    if return_con_df:\n",
    "        return epochs_sim, sources_to_df(stcs, fwd, nb_selected_sources=100, seed=seed)    \n",
    "    \n",
    "    return epochs_sim"
   ]
  },
  {
   "cell_type": "markdown",
   "metadata": {},
   "source": [
    "# Setting paths and variables"
   ]
  },
  {
   "cell_type": "code",
   "execution_count": 3,
   "metadata": {},
   "outputs": [],
   "source": [
    "# This dataset is available online: http://fcon_1000.projects.nitrc.org/indi/retro/MPI_LEMON.html\n",
    "lemon_root = Path(\"/media/christian/MyBook/Experimental_data/MPI-Leipzig_Mind-Brain-Body-LEMON\")\n",
    "eeg_rel_path = \"EEG_MPILMBB_LEMON/EEG_Preprocessed_BIDS_ID/EEG_Preprocessed\"\n",
    "path_eeg = lemon_root / eeg_rel_path\n",
    "glob_pattern = \"sub-*_E?.set\"\n",
    "parse_pattern = \"sub-{}_{}.set\"\n",
    "parse_pattern_montage = \"sub-{subject}/sub-{subject}.mat\"\n",
    "\n",
    "nb_selected_epochs = np.arange(10)\n",
    "event_id= \"EO\""
   ]
  },
  {
   "cell_type": "markdown",
   "metadata": {},
   "source": [
    "# Listing subjects with EEG, T1, FLAIR and electrode digitization"
   ]
  },
  {
   "cell_type": "code",
   "execution_count": 4,
   "metadata": {},
   "outputs": [
    {
     "data": {
      "application/vnd.jupyter.widget-view+json": {
       "model_id": "af947c441ab8405cae302e389efdc4f1",
       "version_major": 2,
       "version_minor": 0
      },
      "text/plain": [
       "HBox(children=(FloatProgress(value=0.0, max=203.0), HTML(value='')))"
      ]
     },
     "metadata": {},
     "output_type": "display_data"
    },
    {
     "name": "stderr",
     "output_type": "stream",
     "text": [
      "/home/christian/code/acareeg/acareeg/lemon.py:58: RuntimeWarning: Limited 1 annotation(s) that were expanding outside the data range.\n",
      "  raw = mne.io.read_raw_eeglab(str(Path(root_path) / eeg_rel_path / f\"sub-{subject}_{event_id}.set\"), verbose=False)\n",
      "/home/christian/code/acareeg/acareeg/lemon.py:58: RuntimeWarning: The data contains 'boundary' events, indicating data discontinuities. Be cautious of filtering and epoching around these events.\n",
      "  raw = mne.io.read_raw_eeglab(str(Path(root_path) / eeg_rel_path / f\"sub-{subject}_{event_id}.set\"), verbose=False)\n",
      "/home/christian/code/acareeg/acareeg/lemon.py:58: RuntimeWarning: Limited 1 annotation(s) that were expanding outside the data range.\n",
      "  raw = mne.io.read_raw_eeglab(str(Path(root_path) / eeg_rel_path / f\"sub-{subject}_{event_id}.set\"), verbose=False)\n",
      "/home/christian/code/acareeg/acareeg/lemon.py:58: RuntimeWarning: The data contains 'boundary' events, indicating data discontinuities. Be cautious of filtering and epoching around these events.\n",
      "  raw = mne.io.read_raw_eeglab(str(Path(root_path) / eeg_rel_path / f\"sub-{subject}_{event_id}.set\"), verbose=False)\n",
      "/home/christian/code/acareeg/acareeg/lemon.py:58: RuntimeWarning: Limited 1 annotation(s) that were expanding outside the data range.\n",
      "  raw = mne.io.read_raw_eeglab(str(Path(root_path) / eeg_rel_path / f\"sub-{subject}_{event_id}.set\"), verbose=False)\n",
      "/home/christian/code/acareeg/acareeg/lemon.py:58: RuntimeWarning: The data contains 'boundary' events, indicating data discontinuities. Be cautious of filtering and epoching around these events.\n",
      "  raw = mne.io.read_raw_eeglab(str(Path(root_path) / eeg_rel_path / f\"sub-{subject}_{event_id}.set\"), verbose=False)\n",
      "/home/christian/code/acareeg/acareeg/lemon.py:58: RuntimeWarning: Limited 1 annotation(s) that were expanding outside the data range.\n",
      "  raw = mne.io.read_raw_eeglab(str(Path(root_path) / eeg_rel_path / f\"sub-{subject}_{event_id}.set\"), verbose=False)\n",
      "/home/christian/code/acareeg/acareeg/lemon.py:58: RuntimeWarning: The data contains 'boundary' events, indicating data discontinuities. Be cautious of filtering and epoching around these events.\n",
      "  raw = mne.io.read_raw_eeglab(str(Path(root_path) / eeg_rel_path / f\"sub-{subject}_{event_id}.set\"), verbose=False)\n",
      "/home/christian/code/acareeg/acareeg/lemon.py:58: RuntimeWarning: Limited 1 annotation(s) that were expanding outside the data range.\n",
      "  raw = mne.io.read_raw_eeglab(str(Path(root_path) / eeg_rel_path / f\"sub-{subject}_{event_id}.set\"), verbose=False)\n",
      "/home/christian/code/acareeg/acareeg/lemon.py:58: RuntimeWarning: The data contains 'boundary' events, indicating data discontinuities. Be cautious of filtering and epoching around these events.\n",
      "  raw = mne.io.read_raw_eeglab(str(Path(root_path) / eeg_rel_path / f\"sub-{subject}_{event_id}.set\"), verbose=False)\n",
      "/home/christian/code/acareeg/acareeg/lemon.py:58: RuntimeWarning: Limited 1 annotation(s) that were expanding outside the data range.\n",
      "  raw = mne.io.read_raw_eeglab(str(Path(root_path) / eeg_rel_path / f\"sub-{subject}_{event_id}.set\"), verbose=False)\n",
      "/home/christian/code/acareeg/acareeg/lemon.py:58: RuntimeWarning: The data contains 'boundary' events, indicating data discontinuities. Be cautious of filtering and epoching around these events.\n",
      "  raw = mne.io.read_raw_eeglab(str(Path(root_path) / eeg_rel_path / f\"sub-{subject}_{event_id}.set\"), verbose=False)\n",
      "/home/christian/code/acareeg/acareeg/lemon.py:58: RuntimeWarning: Limited 1 annotation(s) that were expanding outside the data range.\n",
      "  raw = mne.io.read_raw_eeglab(str(Path(root_path) / eeg_rel_path / f\"sub-{subject}_{event_id}.set\"), verbose=False)\n",
      "/home/christian/code/acareeg/acareeg/lemon.py:58: RuntimeWarning: The data contains 'boundary' events, indicating data discontinuities. Be cautious of filtering and epoching around these events.\n",
      "  raw = mne.io.read_raw_eeglab(str(Path(root_path) / eeg_rel_path / f\"sub-{subject}_{event_id}.set\"), verbose=False)\n",
      "/home/christian/code/acareeg/acareeg/lemon.py:58: RuntimeWarning: Limited 1 annotation(s) that were expanding outside the data range.\n",
      "  raw = mne.io.read_raw_eeglab(str(Path(root_path) / eeg_rel_path / f\"sub-{subject}_{event_id}.set\"), verbose=False)\n",
      "/home/christian/code/acareeg/acareeg/lemon.py:58: RuntimeWarning: The data contains 'boundary' events, indicating data discontinuities. Be cautious of filtering and epoching around these events.\n",
      "  raw = mne.io.read_raw_eeglab(str(Path(root_path) / eeg_rel_path / f\"sub-{subject}_{event_id}.set\"), verbose=False)\n",
      "/home/christian/code/acareeg/acareeg/lemon.py:58: RuntimeWarning: Limited 1 annotation(s) that were expanding outside the data range.\n",
      "  raw = mne.io.read_raw_eeglab(str(Path(root_path) / eeg_rel_path / f\"sub-{subject}_{event_id}.set\"), verbose=False)\n",
      "/home/christian/code/acareeg/acareeg/lemon.py:58: RuntimeWarning: The data contains 'boundary' events, indicating data discontinuities. Be cautious of filtering and epoching around these events.\n",
      "  raw = mne.io.read_raw_eeglab(str(Path(root_path) / eeg_rel_path / f\"sub-{subject}_{event_id}.set\"), verbose=False)\n",
      "/home/christian/code/acareeg/acareeg/lemon.py:58: RuntimeWarning: Limited 1 annotation(s) that were expanding outside the data range.\n",
      "  raw = mne.io.read_raw_eeglab(str(Path(root_path) / eeg_rel_path / f\"sub-{subject}_{event_id}.set\"), verbose=False)\n",
      "/home/christian/code/acareeg/acareeg/lemon.py:58: RuntimeWarning: The data contains 'boundary' events, indicating data discontinuities. Be cautious of filtering and epoching around these events.\n",
      "  raw = mne.io.read_raw_eeglab(str(Path(root_path) / eeg_rel_path / f\"sub-{subject}_{event_id}.set\"), verbose=False)\n",
      "/home/christian/code/acareeg/acareeg/lemon.py:58: RuntimeWarning: Limited 1 annotation(s) that were expanding outside the data range.\n",
      "  raw = mne.io.read_raw_eeglab(str(Path(root_path) / eeg_rel_path / f\"sub-{subject}_{event_id}.set\"), verbose=False)\n",
      "/home/christian/code/acareeg/acareeg/lemon.py:58: RuntimeWarning: The data contains 'boundary' events, indicating data discontinuities. Be cautious of filtering and epoching around these events.\n",
      "  raw = mne.io.read_raw_eeglab(str(Path(root_path) / eeg_rel_path / f\"sub-{subject}_{event_id}.set\"), verbose=False)\n",
      "/home/christian/code/acareeg/acareeg/lemon.py:58: RuntimeWarning: Limited 1 annotation(s) that were expanding outside the data range.\n",
      "  raw = mne.io.read_raw_eeglab(str(Path(root_path) / eeg_rel_path / f\"sub-{subject}_{event_id}.set\"), verbose=False)\n",
      "/home/christian/code/acareeg/acareeg/lemon.py:58: RuntimeWarning: The data contains 'boundary' events, indicating data discontinuities. Be cautious of filtering and epoching around these events.\n",
      "  raw = mne.io.read_raw_eeglab(str(Path(root_path) / eeg_rel_path / f\"sub-{subject}_{event_id}.set\"), verbose=False)\n",
      "/home/christian/code/acareeg/acareeg/lemon.py:58: RuntimeWarning: Limited 1 annotation(s) that were expanding outside the data range.\n",
      "  raw = mne.io.read_raw_eeglab(str(Path(root_path) / eeg_rel_path / f\"sub-{subject}_{event_id}.set\"), verbose=False)\n",
      "/home/christian/code/acareeg/acareeg/lemon.py:58: RuntimeWarning: The data contains 'boundary' events, indicating data discontinuities. Be cautious of filtering and epoching around these events.\n",
      "  raw = mne.io.read_raw_eeglab(str(Path(root_path) / eeg_rel_path / f\"sub-{subject}_{event_id}.set\"), verbose=False)\n",
      "/home/christian/code/acareeg/acareeg/lemon.py:58: RuntimeWarning: Limited 1 annotation(s) that were expanding outside the data range.\n",
      "  raw = mne.io.read_raw_eeglab(str(Path(root_path) / eeg_rel_path / f\"sub-{subject}_{event_id}.set\"), verbose=False)\n",
      "/home/christian/code/acareeg/acareeg/lemon.py:58: RuntimeWarning: The data contains 'boundary' events, indicating data discontinuities. Be cautious of filtering and epoching around these events.\n",
      "  raw = mne.io.read_raw_eeglab(str(Path(root_path) / eeg_rel_path / f\"sub-{subject}_{event_id}.set\"), verbose=False)\n",
      "/home/christian/code/acareeg/acareeg/lemon.py:58: RuntimeWarning: Limited 1 annotation(s) that were expanding outside the data range.\n",
      "  raw = mne.io.read_raw_eeglab(str(Path(root_path) / eeg_rel_path / f\"sub-{subject}_{event_id}.set\"), verbose=False)\n",
      "/home/christian/code/acareeg/acareeg/lemon.py:58: RuntimeWarning: The data contains 'boundary' events, indicating data discontinuities. Be cautious of filtering and epoching around these events.\n",
      "  raw = mne.io.read_raw_eeglab(str(Path(root_path) / eeg_rel_path / f\"sub-{subject}_{event_id}.set\"), verbose=False)\n"
     ]
    },
    {
     "name": "stderr",
     "output_type": "stream",
     "text": [
      "/home/christian/code/acareeg/acareeg/lemon.py:58: RuntimeWarning: Limited 1 annotation(s) that were expanding outside the data range.\n",
      "  raw = mne.io.read_raw_eeglab(str(Path(root_path) / eeg_rel_path / f\"sub-{subject}_{event_id}.set\"), verbose=False)\n",
      "/home/christian/code/acareeg/acareeg/lemon.py:58: RuntimeWarning: The data contains 'boundary' events, indicating data discontinuities. Be cautious of filtering and epoching around these events.\n",
      "  raw = mne.io.read_raw_eeglab(str(Path(root_path) / eeg_rel_path / f\"sub-{subject}_{event_id}.set\"), verbose=False)\n",
      "/home/christian/code/acareeg/acareeg/lemon.py:58: RuntimeWarning: Limited 1 annotation(s) that were expanding outside the data range.\n",
      "  raw = mne.io.read_raw_eeglab(str(Path(root_path) / eeg_rel_path / f\"sub-{subject}_{event_id}.set\"), verbose=False)\n",
      "/home/christian/code/acareeg/acareeg/lemon.py:58: RuntimeWarning: The data contains 'boundary' events, indicating data discontinuities. Be cautious of filtering and epoching around these events.\n",
      "  raw = mne.io.read_raw_eeglab(str(Path(root_path) / eeg_rel_path / f\"sub-{subject}_{event_id}.set\"), verbose=False)\n",
      "/home/christian/code/acareeg/acareeg/lemon.py:58: RuntimeWarning: Limited 1 annotation(s) that were expanding outside the data range.\n",
      "  raw = mne.io.read_raw_eeglab(str(Path(root_path) / eeg_rel_path / f\"sub-{subject}_{event_id}.set\"), verbose=False)\n",
      "/home/christian/code/acareeg/acareeg/lemon.py:58: RuntimeWarning: The data contains 'boundary' events, indicating data discontinuities. Be cautious of filtering and epoching around these events.\n",
      "  raw = mne.io.read_raw_eeglab(str(Path(root_path) / eeg_rel_path / f\"sub-{subject}_{event_id}.set\"), verbose=False)\n",
      "/home/christian/code/acareeg/acareeg/lemon.py:58: RuntimeWarning: Limited 1 annotation(s) that were expanding outside the data range.\n",
      "  raw = mne.io.read_raw_eeglab(str(Path(root_path) / eeg_rel_path / f\"sub-{subject}_{event_id}.set\"), verbose=False)\n",
      "/home/christian/code/acareeg/acareeg/lemon.py:58: RuntimeWarning: The data contains 'boundary' events, indicating data discontinuities. Be cautious of filtering and epoching around these events.\n",
      "  raw = mne.io.read_raw_eeglab(str(Path(root_path) / eeg_rel_path / f\"sub-{subject}_{event_id}.set\"), verbose=False)\n",
      "/home/christian/code/acareeg/acareeg/lemon.py:58: RuntimeWarning: Limited 1 annotation(s) that were expanding outside the data range.\n",
      "  raw = mne.io.read_raw_eeglab(str(Path(root_path) / eeg_rel_path / f\"sub-{subject}_{event_id}.set\"), verbose=False)\n",
      "/home/christian/code/acareeg/acareeg/lemon.py:58: RuntimeWarning: The data contains 'boundary' events, indicating data discontinuities. Be cautious of filtering and epoching around these events.\n",
      "  raw = mne.io.read_raw_eeglab(str(Path(root_path) / eeg_rel_path / f\"sub-{subject}_{event_id}.set\"), verbose=False)\n",
      "/home/christian/code/acareeg/acareeg/lemon.py:58: RuntimeWarning: Limited 1 annotation(s) that were expanding outside the data range.\n",
      "  raw = mne.io.read_raw_eeglab(str(Path(root_path) / eeg_rel_path / f\"sub-{subject}_{event_id}.set\"), verbose=False)\n",
      "/home/christian/code/acareeg/acareeg/lemon.py:58: RuntimeWarning: The data contains 'boundary' events, indicating data discontinuities. Be cautious of filtering and epoching around these events.\n",
      "  raw = mne.io.read_raw_eeglab(str(Path(root_path) / eeg_rel_path / f\"sub-{subject}_{event_id}.set\"), verbose=False)\n",
      "/home/christian/code/acareeg/acareeg/lemon.py:58: RuntimeWarning: Limited 1 annotation(s) that were expanding outside the data range.\n",
      "  raw = mne.io.read_raw_eeglab(str(Path(root_path) / eeg_rel_path / f\"sub-{subject}_{event_id}.set\"), verbose=False)\n",
      "/home/christian/code/acareeg/acareeg/lemon.py:58: RuntimeWarning: The data contains 'boundary' events, indicating data discontinuities. Be cautious of filtering and epoching around these events.\n",
      "  raw = mne.io.read_raw_eeglab(str(Path(root_path) / eeg_rel_path / f\"sub-{subject}_{event_id}.set\"), verbose=False)\n",
      "/home/christian/code/acareeg/acareeg/lemon.py:58: RuntimeWarning: Limited 1 annotation(s) that were expanding outside the data range.\n",
      "  raw = mne.io.read_raw_eeglab(str(Path(root_path) / eeg_rel_path / f\"sub-{subject}_{event_id}.set\"), verbose=False)\n",
      "/home/christian/code/acareeg/acareeg/lemon.py:58: RuntimeWarning: The data contains 'boundary' events, indicating data discontinuities. Be cautious of filtering and epoching around these events.\n",
      "  raw = mne.io.read_raw_eeglab(str(Path(root_path) / eeg_rel_path / f\"sub-{subject}_{event_id}.set\"), verbose=False)\n",
      "/home/christian/code/acareeg/acareeg/lemon.py:58: RuntimeWarning: Limited 1 annotation(s) that were expanding outside the data range.\n",
      "  raw = mne.io.read_raw_eeglab(str(Path(root_path) / eeg_rel_path / f\"sub-{subject}_{event_id}.set\"), verbose=False)\n",
      "/home/christian/code/acareeg/acareeg/lemon.py:58: RuntimeWarning: The data contains 'boundary' events, indicating data discontinuities. Be cautious of filtering and epoching around these events.\n",
      "  raw = mne.io.read_raw_eeglab(str(Path(root_path) / eeg_rel_path / f\"sub-{subject}_{event_id}.set\"), verbose=False)\n",
      "/home/christian/code/acareeg/acareeg/lemon.py:58: RuntimeWarning: Limited 1 annotation(s) that were expanding outside the data range.\n",
      "  raw = mne.io.read_raw_eeglab(str(Path(root_path) / eeg_rel_path / f\"sub-{subject}_{event_id}.set\"), verbose=False)\n",
      "/home/christian/code/acareeg/acareeg/lemon.py:58: RuntimeWarning: The data contains 'boundary' events, indicating data discontinuities. Be cautious of filtering and epoching around these events.\n",
      "  raw = mne.io.read_raw_eeglab(str(Path(root_path) / eeg_rel_path / f\"sub-{subject}_{event_id}.set\"), verbose=False)\n",
      "/home/christian/code/acareeg/acareeg/lemon.py:58: RuntimeWarning: Limited 1 annotation(s) that were expanding outside the data range.\n",
      "  raw = mne.io.read_raw_eeglab(str(Path(root_path) / eeg_rel_path / f\"sub-{subject}_{event_id}.set\"), verbose=False)\n",
      "/home/christian/code/acareeg/acareeg/lemon.py:58: RuntimeWarning: The data contains 'boundary' events, indicating data discontinuities. Be cautious of filtering and epoching around these events.\n",
      "  raw = mne.io.read_raw_eeglab(str(Path(root_path) / eeg_rel_path / f\"sub-{subject}_{event_id}.set\"), verbose=False)\n",
      "/home/christian/code/acareeg/acareeg/lemon.py:58: RuntimeWarning: Limited 1 annotation(s) that were expanding outside the data range.\n",
      "  raw = mne.io.read_raw_eeglab(str(Path(root_path) / eeg_rel_path / f\"sub-{subject}_{event_id}.set\"), verbose=False)\n",
      "/home/christian/code/acareeg/acareeg/lemon.py:58: RuntimeWarning: The data contains 'boundary' events, indicating data discontinuities. Be cautious of filtering and epoching around these events.\n",
      "  raw = mne.io.read_raw_eeglab(str(Path(root_path) / eeg_rel_path / f\"sub-{subject}_{event_id}.set\"), verbose=False)\n",
      "/home/christian/code/acareeg/acareeg/lemon.py:58: RuntimeWarning: Limited 1 annotation(s) that were expanding outside the data range.\n",
      "  raw = mne.io.read_raw_eeglab(str(Path(root_path) / eeg_rel_path / f\"sub-{subject}_{event_id}.set\"), verbose=False)\n",
      "/home/christian/code/acareeg/acareeg/lemon.py:58: RuntimeWarning: The data contains 'boundary' events, indicating data discontinuities. Be cautious of filtering and epoching around these events.\n",
      "  raw = mne.io.read_raw_eeglab(str(Path(root_path) / eeg_rel_path / f\"sub-{subject}_{event_id}.set\"), verbose=False)\n",
      "/home/christian/code/acareeg/acareeg/lemon.py:58: RuntimeWarning: Limited 1 annotation(s) that were expanding outside the data range.\n",
      "  raw = mne.io.read_raw_eeglab(str(Path(root_path) / eeg_rel_path / f\"sub-{subject}_{event_id}.set\"), verbose=False)\n",
      "/home/christian/code/acareeg/acareeg/lemon.py:58: RuntimeWarning: The data contains 'boundary' events, indicating data discontinuities. Be cautious of filtering and epoching around these events.\n",
      "  raw = mne.io.read_raw_eeglab(str(Path(root_path) / eeg_rel_path / f\"sub-{subject}_{event_id}.set\"), verbose=False)\n",
      "/home/christian/code/acareeg/acareeg/lemon.py:58: RuntimeWarning: Limited 1 annotation(s) that were expanding outside the data range.\n",
      "  raw = mne.io.read_raw_eeglab(str(Path(root_path) / eeg_rel_path / f\"sub-{subject}_{event_id}.set\"), verbose=False)\n",
      "/home/christian/code/acareeg/acareeg/lemon.py:58: RuntimeWarning: The data contains 'boundary' events, indicating data discontinuities. Be cautious of filtering and epoching around these events.\n",
      "  raw = mne.io.read_raw_eeglab(str(Path(root_path) / eeg_rel_path / f\"sub-{subject}_{event_id}.set\"), verbose=False)\n",
      "/home/christian/code/acareeg/acareeg/lemon.py:58: RuntimeWarning: Limited 1 annotation(s) that were expanding outside the data range.\n",
      "  raw = mne.io.read_raw_eeglab(str(Path(root_path) / eeg_rel_path / f\"sub-{subject}_{event_id}.set\"), verbose=False)\n",
      "/home/christian/code/acareeg/acareeg/lemon.py:58: RuntimeWarning: The data contains 'boundary' events, indicating data discontinuities. Be cautious of filtering and epoching around these events.\n",
      "  raw = mne.io.read_raw_eeglab(str(Path(root_path) / eeg_rel_path / f\"sub-{subject}_{event_id}.set\"), verbose=False)\n",
      "/home/christian/code/acareeg/acareeg/lemon.py:58: RuntimeWarning: Limited 1 annotation(s) that were expanding outside the data range.\n",
      "  raw = mne.io.read_raw_eeglab(str(Path(root_path) / eeg_rel_path / f\"sub-{subject}_{event_id}.set\"), verbose=False)\n",
      "/home/christian/code/acareeg/acareeg/lemon.py:58: RuntimeWarning: The data contains 'boundary' events, indicating data discontinuities. Be cautious of filtering and epoching around these events.\n",
      "  raw = mne.io.read_raw_eeglab(str(Path(root_path) / eeg_rel_path / f\"sub-{subject}_{event_id}.set\"), verbose=False)\n",
      "/home/christian/code/acareeg/acareeg/lemon.py:58: RuntimeWarning: Limited 1 annotation(s) that were expanding outside the data range.\n",
      "  raw = mne.io.read_raw_eeglab(str(Path(root_path) / eeg_rel_path / f\"sub-{subject}_{event_id}.set\"), verbose=False)\n",
      "/home/christian/code/acareeg/acareeg/lemon.py:58: RuntimeWarning: The data contains 'boundary' events, indicating data discontinuities. Be cautious of filtering and epoching around these events.\n",
      "  raw = mne.io.read_raw_eeglab(str(Path(root_path) / eeg_rel_path / f\"sub-{subject}_{event_id}.set\"), verbose=False)\n"
     ]
    },
    {
     "name": "stderr",
     "output_type": "stream",
     "text": [
      "/home/christian/code/acareeg/acareeg/lemon.py:58: RuntimeWarning: Limited 1 annotation(s) that were expanding outside the data range.\n",
      "  raw = mne.io.read_raw_eeglab(str(Path(root_path) / eeg_rel_path / f\"sub-{subject}_{event_id}.set\"), verbose=False)\n",
      "/home/christian/code/acareeg/acareeg/lemon.py:58: RuntimeWarning: The data contains 'boundary' events, indicating data discontinuities. Be cautious of filtering and epoching around these events.\n",
      "  raw = mne.io.read_raw_eeglab(str(Path(root_path) / eeg_rel_path / f\"sub-{subject}_{event_id}.set\"), verbose=False)\n",
      "/home/christian/code/acareeg/acareeg/lemon.py:58: RuntimeWarning: Limited 1 annotation(s) that were expanding outside the data range.\n",
      "  raw = mne.io.read_raw_eeglab(str(Path(root_path) / eeg_rel_path / f\"sub-{subject}_{event_id}.set\"), verbose=False)\n",
      "/home/christian/code/acareeg/acareeg/lemon.py:58: RuntimeWarning: The data contains 'boundary' events, indicating data discontinuities. Be cautious of filtering and epoching around these events.\n",
      "  raw = mne.io.read_raw_eeglab(str(Path(root_path) / eeg_rel_path / f\"sub-{subject}_{event_id}.set\"), verbose=False)\n",
      "/home/christian/code/acareeg/acareeg/lemon.py:58: RuntimeWarning: Limited 1 annotation(s) that were expanding outside the data range.\n",
      "  raw = mne.io.read_raw_eeglab(str(Path(root_path) / eeg_rel_path / f\"sub-{subject}_{event_id}.set\"), verbose=False)\n",
      "/home/christian/code/acareeg/acareeg/lemon.py:58: RuntimeWarning: The data contains 'boundary' events, indicating data discontinuities. Be cautious of filtering and epoching around these events.\n",
      "  raw = mne.io.read_raw_eeglab(str(Path(root_path) / eeg_rel_path / f\"sub-{subject}_{event_id}.set\"), verbose=False)\n",
      "/home/christian/code/acareeg/acareeg/lemon.py:58: RuntimeWarning: Limited 1 annotation(s) that were expanding outside the data range.\n",
      "  raw = mne.io.read_raw_eeglab(str(Path(root_path) / eeg_rel_path / f\"sub-{subject}_{event_id}.set\"), verbose=False)\n",
      "/home/christian/code/acareeg/acareeg/lemon.py:58: RuntimeWarning: The data contains 'boundary' events, indicating data discontinuities. Be cautious of filtering and epoching around these events.\n",
      "  raw = mne.io.read_raw_eeglab(str(Path(root_path) / eeg_rel_path / f\"sub-{subject}_{event_id}.set\"), verbose=False)\n",
      "/home/christian/code/acareeg/acareeg/lemon.py:58: RuntimeWarning: Limited 1 annotation(s) that were expanding outside the data range.\n",
      "  raw = mne.io.read_raw_eeglab(str(Path(root_path) / eeg_rel_path / f\"sub-{subject}_{event_id}.set\"), verbose=False)\n",
      "/home/christian/code/acareeg/acareeg/lemon.py:58: RuntimeWarning: The data contains 'boundary' events, indicating data discontinuities. Be cautious of filtering and epoching around these events.\n",
      "  raw = mne.io.read_raw_eeglab(str(Path(root_path) / eeg_rel_path / f\"sub-{subject}_{event_id}.set\"), verbose=False)\n",
      "/home/christian/code/acareeg/acareeg/lemon.py:58: RuntimeWarning: Limited 1 annotation(s) that were expanding outside the data range.\n",
      "  raw = mne.io.read_raw_eeglab(str(Path(root_path) / eeg_rel_path / f\"sub-{subject}_{event_id}.set\"), verbose=False)\n",
      "/home/christian/code/acareeg/acareeg/lemon.py:58: RuntimeWarning: The data contains 'boundary' events, indicating data discontinuities. Be cautious of filtering and epoching around these events.\n",
      "  raw = mne.io.read_raw_eeglab(str(Path(root_path) / eeg_rel_path / f\"sub-{subject}_{event_id}.set\"), verbose=False)\n",
      "/home/christian/code/acareeg/acareeg/lemon.py:58: RuntimeWarning: Limited 1 annotation(s) that were expanding outside the data range.\n",
      "  raw = mne.io.read_raw_eeglab(str(Path(root_path) / eeg_rel_path / f\"sub-{subject}_{event_id}.set\"), verbose=False)\n",
      "/home/christian/code/acareeg/acareeg/lemon.py:58: RuntimeWarning: The data contains 'boundary' events, indicating data discontinuities. Be cautious of filtering and epoching around these events.\n",
      "  raw = mne.io.read_raw_eeglab(str(Path(root_path) / eeg_rel_path / f\"sub-{subject}_{event_id}.set\"), verbose=False)\n",
      "/home/christian/code/acareeg/acareeg/lemon.py:58: RuntimeWarning: Limited 1 annotation(s) that were expanding outside the data range.\n",
      "  raw = mne.io.read_raw_eeglab(str(Path(root_path) / eeg_rel_path / f\"sub-{subject}_{event_id}.set\"), verbose=False)\n",
      "/home/christian/code/acareeg/acareeg/lemon.py:58: RuntimeWarning: The data contains 'boundary' events, indicating data discontinuities. Be cautious of filtering and epoching around these events.\n",
      "  raw = mne.io.read_raw_eeglab(str(Path(root_path) / eeg_rel_path / f\"sub-{subject}_{event_id}.set\"), verbose=False)\n",
      "/home/christian/code/acareeg/acareeg/lemon.py:58: RuntimeWarning: Limited 1 annotation(s) that were expanding outside the data range.\n",
      "  raw = mne.io.read_raw_eeglab(str(Path(root_path) / eeg_rel_path / f\"sub-{subject}_{event_id}.set\"), verbose=False)\n",
      "/home/christian/code/acareeg/acareeg/lemon.py:58: RuntimeWarning: The data contains 'boundary' events, indicating data discontinuities. Be cautious of filtering and epoching around these events.\n",
      "  raw = mne.io.read_raw_eeglab(str(Path(root_path) / eeg_rel_path / f\"sub-{subject}_{event_id}.set\"), verbose=False)\n",
      "/home/christian/code/acareeg/acareeg/lemon.py:58: RuntimeWarning: Limited 1 annotation(s) that were expanding outside the data range.\n",
      "  raw = mne.io.read_raw_eeglab(str(Path(root_path) / eeg_rel_path / f\"sub-{subject}_{event_id}.set\"), verbose=False)\n",
      "/home/christian/code/acareeg/acareeg/lemon.py:58: RuntimeWarning: The data contains 'boundary' events, indicating data discontinuities. Be cautious of filtering and epoching around these events.\n",
      "  raw = mne.io.read_raw_eeglab(str(Path(root_path) / eeg_rel_path / f\"sub-{subject}_{event_id}.set\"), verbose=False)\n",
      "/home/christian/code/acareeg/acareeg/lemon.py:58: RuntimeWarning: Limited 1 annotation(s) that were expanding outside the data range.\n",
      "  raw = mne.io.read_raw_eeglab(str(Path(root_path) / eeg_rel_path / f\"sub-{subject}_{event_id}.set\"), verbose=False)\n",
      "/home/christian/code/acareeg/acareeg/lemon.py:58: RuntimeWarning: The data contains 'boundary' events, indicating data discontinuities. Be cautious of filtering and epoching around these events.\n",
      "  raw = mne.io.read_raw_eeglab(str(Path(root_path) / eeg_rel_path / f\"sub-{subject}_{event_id}.set\"), verbose=False)\n",
      "/home/christian/code/acareeg/acareeg/lemon.py:58: RuntimeWarning: Limited 1 annotation(s) that were expanding outside the data range.\n",
      "  raw = mne.io.read_raw_eeglab(str(Path(root_path) / eeg_rel_path / f\"sub-{subject}_{event_id}.set\"), verbose=False)\n",
      "/home/christian/code/acareeg/acareeg/lemon.py:58: RuntimeWarning: The data contains 'boundary' events, indicating data discontinuities. Be cautious of filtering and epoching around these events.\n",
      "  raw = mne.io.read_raw_eeglab(str(Path(root_path) / eeg_rel_path / f\"sub-{subject}_{event_id}.set\"), verbose=False)\n",
      "/home/christian/code/acareeg/acareeg/lemon.py:58: RuntimeWarning: Limited 1 annotation(s) that were expanding outside the data range.\n",
      "  raw = mne.io.read_raw_eeglab(str(Path(root_path) / eeg_rel_path / f\"sub-{subject}_{event_id}.set\"), verbose=False)\n",
      "/home/christian/code/acareeg/acareeg/lemon.py:58: RuntimeWarning: The data contains 'boundary' events, indicating data discontinuities. Be cautious of filtering and epoching around these events.\n",
      "  raw = mne.io.read_raw_eeglab(str(Path(root_path) / eeg_rel_path / f\"sub-{subject}_{event_id}.set\"), verbose=False)\n",
      "/home/christian/code/acareeg/acareeg/lemon.py:58: RuntimeWarning: Limited 1 annotation(s) that were expanding outside the data range.\n",
      "  raw = mne.io.read_raw_eeglab(str(Path(root_path) / eeg_rel_path / f\"sub-{subject}_{event_id}.set\"), verbose=False)\n",
      "/home/christian/code/acareeg/acareeg/lemon.py:58: RuntimeWarning: The data contains 'boundary' events, indicating data discontinuities. Be cautious of filtering and epoching around these events.\n",
      "  raw = mne.io.read_raw_eeglab(str(Path(root_path) / eeg_rel_path / f\"sub-{subject}_{event_id}.set\"), verbose=False)\n",
      "/home/christian/code/acareeg/acareeg/lemon.py:58: RuntimeWarning: Limited 1 annotation(s) that were expanding outside the data range.\n",
      "  raw = mne.io.read_raw_eeglab(str(Path(root_path) / eeg_rel_path / f\"sub-{subject}_{event_id}.set\"), verbose=False)\n",
      "/home/christian/code/acareeg/acareeg/lemon.py:58: RuntimeWarning: The data contains 'boundary' events, indicating data discontinuities. Be cautious of filtering and epoching around these events.\n",
      "  raw = mne.io.read_raw_eeglab(str(Path(root_path) / eeg_rel_path / f\"sub-{subject}_{event_id}.set\"), verbose=False)\n",
      "/home/christian/code/acareeg/acareeg/lemon.py:58: RuntimeWarning: Limited 1 annotation(s) that were expanding outside the data range.\n",
      "  raw = mne.io.read_raw_eeglab(str(Path(root_path) / eeg_rel_path / f\"sub-{subject}_{event_id}.set\"), verbose=False)\n",
      "/home/christian/code/acareeg/acareeg/lemon.py:58: RuntimeWarning: The data contains 'boundary' events, indicating data discontinuities. Be cautious of filtering and epoching around these events.\n",
      "  raw = mne.io.read_raw_eeglab(str(Path(root_path) / eeg_rel_path / f\"sub-{subject}_{event_id}.set\"), verbose=False)\n",
      "/home/christian/code/acareeg/acareeg/lemon.py:58: RuntimeWarning: Limited 1 annotation(s) that were expanding outside the data range.\n",
      "  raw = mne.io.read_raw_eeglab(str(Path(root_path) / eeg_rel_path / f\"sub-{subject}_{event_id}.set\"), verbose=False)\n",
      "/home/christian/code/acareeg/acareeg/lemon.py:58: RuntimeWarning: The data contains 'boundary' events, indicating data discontinuities. Be cautious of filtering and epoching around these events.\n",
      "  raw = mne.io.read_raw_eeglab(str(Path(root_path) / eeg_rel_path / f\"sub-{subject}_{event_id}.set\"), verbose=False)\n"
     ]
    },
    {
     "name": "stderr",
     "output_type": "stream",
     "text": [
      "/home/christian/code/acareeg/acareeg/lemon.py:58: RuntimeWarning: Limited 1 annotation(s) that were expanding outside the data range.\n",
      "  raw = mne.io.read_raw_eeglab(str(Path(root_path) / eeg_rel_path / f\"sub-{subject}_{event_id}.set\"), verbose=False)\n",
      "/home/christian/code/acareeg/acareeg/lemon.py:58: RuntimeWarning: The data contains 'boundary' events, indicating data discontinuities. Be cautious of filtering and epoching around these events.\n",
      "  raw = mne.io.read_raw_eeglab(str(Path(root_path) / eeg_rel_path / f\"sub-{subject}_{event_id}.set\"), verbose=False)\n",
      "/home/christian/code/acareeg/acareeg/lemon.py:58: RuntimeWarning: Limited 1 annotation(s) that were expanding outside the data range.\n",
      "  raw = mne.io.read_raw_eeglab(str(Path(root_path) / eeg_rel_path / f\"sub-{subject}_{event_id}.set\"), verbose=False)\n",
      "/home/christian/code/acareeg/acareeg/lemon.py:58: RuntimeWarning: The data contains 'boundary' events, indicating data discontinuities. Be cautious of filtering and epoching around these events.\n",
      "  raw = mne.io.read_raw_eeglab(str(Path(root_path) / eeg_rel_path / f\"sub-{subject}_{event_id}.set\"), verbose=False)\n",
      "/home/christian/code/acareeg/acareeg/lemon.py:58: RuntimeWarning: Limited 1 annotation(s) that were expanding outside the data range.\n",
      "  raw = mne.io.read_raw_eeglab(str(Path(root_path) / eeg_rel_path / f\"sub-{subject}_{event_id}.set\"), verbose=False)\n",
      "/home/christian/code/acareeg/acareeg/lemon.py:58: RuntimeWarning: The data contains 'boundary' events, indicating data discontinuities. Be cautious of filtering and epoching around these events.\n",
      "  raw = mne.io.read_raw_eeglab(str(Path(root_path) / eeg_rel_path / f\"sub-{subject}_{event_id}.set\"), verbose=False)\n",
      "/home/christian/code/acareeg/acareeg/lemon.py:58: RuntimeWarning: Limited 1 annotation(s) that were expanding outside the data range.\n",
      "  raw = mne.io.read_raw_eeglab(str(Path(root_path) / eeg_rel_path / f\"sub-{subject}_{event_id}.set\"), verbose=False)\n",
      "/home/christian/code/acareeg/acareeg/lemon.py:58: RuntimeWarning: The data contains 'boundary' events, indicating data discontinuities. Be cautious of filtering and epoching around these events.\n",
      "  raw = mne.io.read_raw_eeglab(str(Path(root_path) / eeg_rel_path / f\"sub-{subject}_{event_id}.set\"), verbose=False)\n",
      "/home/christian/code/acareeg/acareeg/lemon.py:58: RuntimeWarning: Limited 1 annotation(s) that were expanding outside the data range.\n",
      "  raw = mne.io.read_raw_eeglab(str(Path(root_path) / eeg_rel_path / f\"sub-{subject}_{event_id}.set\"), verbose=False)\n",
      "/home/christian/code/acareeg/acareeg/lemon.py:58: RuntimeWarning: The data contains 'boundary' events, indicating data discontinuities. Be cautious of filtering and epoching around these events.\n",
      "  raw = mne.io.read_raw_eeglab(str(Path(root_path) / eeg_rel_path / f\"sub-{subject}_{event_id}.set\"), verbose=False)\n",
      "/home/christian/code/acareeg/acareeg/lemon.py:58: RuntimeWarning: Limited 1 annotation(s) that were expanding outside the data range.\n",
      "  raw = mne.io.read_raw_eeglab(str(Path(root_path) / eeg_rel_path / f\"sub-{subject}_{event_id}.set\"), verbose=False)\n",
      "/home/christian/code/acareeg/acareeg/lemon.py:58: RuntimeWarning: The data contains 'boundary' events, indicating data discontinuities. Be cautious of filtering and epoching around these events.\n",
      "  raw = mne.io.read_raw_eeglab(str(Path(root_path) / eeg_rel_path / f\"sub-{subject}_{event_id}.set\"), verbose=False)\n",
      "/home/christian/code/acareeg/acareeg/lemon.py:58: RuntimeWarning: Limited 1 annotation(s) that were expanding outside the data range.\n",
      "  raw = mne.io.read_raw_eeglab(str(Path(root_path) / eeg_rel_path / f\"sub-{subject}_{event_id}.set\"), verbose=False)\n",
      "/home/christian/code/acareeg/acareeg/lemon.py:58: RuntimeWarning: The data contains 'boundary' events, indicating data discontinuities. Be cautious of filtering and epoching around these events.\n",
      "  raw = mne.io.read_raw_eeglab(str(Path(root_path) / eeg_rel_path / f\"sub-{subject}_{event_id}.set\"), verbose=False)\n",
      "/home/christian/code/acareeg/acareeg/lemon.py:58: RuntimeWarning: Limited 1 annotation(s) that were expanding outside the data range.\n",
      "  raw = mne.io.read_raw_eeglab(str(Path(root_path) / eeg_rel_path / f\"sub-{subject}_{event_id}.set\"), verbose=False)\n",
      "/home/christian/code/acareeg/acareeg/lemon.py:58: RuntimeWarning: The data contains 'boundary' events, indicating data discontinuities. Be cautious of filtering and epoching around these events.\n",
      "  raw = mne.io.read_raw_eeglab(str(Path(root_path) / eeg_rel_path / f\"sub-{subject}_{event_id}.set\"), verbose=False)\n",
      "/home/christian/code/acareeg/acareeg/lemon.py:58: RuntimeWarning: Limited 1 annotation(s) that were expanding outside the data range.\n",
      "  raw = mne.io.read_raw_eeglab(str(Path(root_path) / eeg_rel_path / f\"sub-{subject}_{event_id}.set\"), verbose=False)\n",
      "/home/christian/code/acareeg/acareeg/lemon.py:58: RuntimeWarning: The data contains 'boundary' events, indicating data discontinuities. Be cautious of filtering and epoching around these events.\n",
      "  raw = mne.io.read_raw_eeglab(str(Path(root_path) / eeg_rel_path / f\"sub-{subject}_{event_id}.set\"), verbose=False)\n",
      "/home/christian/code/acareeg/acareeg/lemon.py:58: RuntimeWarning: Limited 1 annotation(s) that were expanding outside the data range.\n",
      "  raw = mne.io.read_raw_eeglab(str(Path(root_path) / eeg_rel_path / f\"sub-{subject}_{event_id}.set\"), verbose=False)\n",
      "/home/christian/code/acareeg/acareeg/lemon.py:58: RuntimeWarning: The data contains 'boundary' events, indicating data discontinuities. Be cautious of filtering and epoching around these events.\n",
      "  raw = mne.io.read_raw_eeglab(str(Path(root_path) / eeg_rel_path / f\"sub-{subject}_{event_id}.set\"), verbose=False)\n",
      "/home/christian/code/acareeg/acareeg/lemon.py:58: RuntimeWarning: Limited 1 annotation(s) that were expanding outside the data range.\n",
      "  raw = mne.io.read_raw_eeglab(str(Path(root_path) / eeg_rel_path / f\"sub-{subject}_{event_id}.set\"), verbose=False)\n",
      "/home/christian/code/acareeg/acareeg/lemon.py:58: RuntimeWarning: The data contains 'boundary' events, indicating data discontinuities. Be cautious of filtering and epoching around these events.\n",
      "  raw = mne.io.read_raw_eeglab(str(Path(root_path) / eeg_rel_path / f\"sub-{subject}_{event_id}.set\"), verbose=False)\n",
      "/home/christian/code/acareeg/acareeg/lemon.py:58: RuntimeWarning: Limited 1 annotation(s) that were expanding outside the data range.\n",
      "  raw = mne.io.read_raw_eeglab(str(Path(root_path) / eeg_rel_path / f\"sub-{subject}_{event_id}.set\"), verbose=False)\n",
      "/home/christian/code/acareeg/acareeg/lemon.py:58: RuntimeWarning: The data contains 'boundary' events, indicating data discontinuities. Be cautious of filtering and epoching around these events.\n",
      "  raw = mne.io.read_raw_eeglab(str(Path(root_path) / eeg_rel_path / f\"sub-{subject}_{event_id}.set\"), verbose=False)\n",
      "/home/christian/code/acareeg/acareeg/lemon.py:58: RuntimeWarning: Limited 1 annotation(s) that were expanding outside the data range.\n",
      "  raw = mne.io.read_raw_eeglab(str(Path(root_path) / eeg_rel_path / f\"sub-{subject}_{event_id}.set\"), verbose=False)\n",
      "/home/christian/code/acareeg/acareeg/lemon.py:58: RuntimeWarning: The data contains 'boundary' events, indicating data discontinuities. Be cautious of filtering and epoching around these events.\n",
      "  raw = mne.io.read_raw_eeglab(str(Path(root_path) / eeg_rel_path / f\"sub-{subject}_{event_id}.set\"), verbose=False)\n",
      "/home/christian/code/acareeg/acareeg/lemon.py:58: RuntimeWarning: Limited 1 annotation(s) that were expanding outside the data range.\n",
      "  raw = mne.io.read_raw_eeglab(str(Path(root_path) / eeg_rel_path / f\"sub-{subject}_{event_id}.set\"), verbose=False)\n",
      "/home/christian/code/acareeg/acareeg/lemon.py:58: RuntimeWarning: The data contains 'boundary' events, indicating data discontinuities. Be cautious of filtering and epoching around these events.\n",
      "  raw = mne.io.read_raw_eeglab(str(Path(root_path) / eeg_rel_path / f\"sub-{subject}_{event_id}.set\"), verbose=False)\n",
      "/home/christian/code/acareeg/acareeg/lemon.py:58: RuntimeWarning: Limited 1 annotation(s) that were expanding outside the data range.\n",
      "  raw = mne.io.read_raw_eeglab(str(Path(root_path) / eeg_rel_path / f\"sub-{subject}_{event_id}.set\"), verbose=False)\n",
      "/home/christian/code/acareeg/acareeg/lemon.py:58: RuntimeWarning: The data contains 'boundary' events, indicating data discontinuities. Be cautious of filtering and epoching around these events.\n",
      "  raw = mne.io.read_raw_eeglab(str(Path(root_path) / eeg_rel_path / f\"sub-{subject}_{event_id}.set\"), verbose=False)\n",
      "/home/christian/code/acareeg/acareeg/lemon.py:58: RuntimeWarning: Limited 1 annotation(s) that were expanding outside the data range.\n",
      "  raw = mne.io.read_raw_eeglab(str(Path(root_path) / eeg_rel_path / f\"sub-{subject}_{event_id}.set\"), verbose=False)\n",
      "/home/christian/code/acareeg/acareeg/lemon.py:58: RuntimeWarning: The data contains 'boundary' events, indicating data discontinuities. Be cautious of filtering and epoching around these events.\n",
      "  raw = mne.io.read_raw_eeglab(str(Path(root_path) / eeg_rel_path / f\"sub-{subject}_{event_id}.set\"), verbose=False)\n"
     ]
    },
    {
     "name": "stderr",
     "output_type": "stream",
     "text": [
      "/home/christian/code/acareeg/acareeg/lemon.py:58: RuntimeWarning: Limited 1 annotation(s) that were expanding outside the data range.\n",
      "  raw = mne.io.read_raw_eeglab(str(Path(root_path) / eeg_rel_path / f\"sub-{subject}_{event_id}.set\"), verbose=False)\n",
      "/home/christian/code/acareeg/acareeg/lemon.py:58: RuntimeWarning: The data contains 'boundary' events, indicating data discontinuities. Be cautious of filtering and epoching around these events.\n",
      "  raw = mne.io.read_raw_eeglab(str(Path(root_path) / eeg_rel_path / f\"sub-{subject}_{event_id}.set\"), verbose=False)\n",
      "/home/christian/code/acareeg/acareeg/lemon.py:58: RuntimeWarning: Limited 1 annotation(s) that were expanding outside the data range.\n",
      "  raw = mne.io.read_raw_eeglab(str(Path(root_path) / eeg_rel_path / f\"sub-{subject}_{event_id}.set\"), verbose=False)\n",
      "/home/christian/code/acareeg/acareeg/lemon.py:58: RuntimeWarning: The data contains 'boundary' events, indicating data discontinuities. Be cautious of filtering and epoching around these events.\n",
      "  raw = mne.io.read_raw_eeglab(str(Path(root_path) / eeg_rel_path / f\"sub-{subject}_{event_id}.set\"), verbose=False)\n",
      "/home/christian/code/acareeg/acareeg/lemon.py:58: RuntimeWarning: Limited 1 annotation(s) that were expanding outside the data range.\n",
      "  raw = mne.io.read_raw_eeglab(str(Path(root_path) / eeg_rel_path / f\"sub-{subject}_{event_id}.set\"), verbose=False)\n",
      "/home/christian/code/acareeg/acareeg/lemon.py:58: RuntimeWarning: The data contains 'boundary' events, indicating data discontinuities. Be cautious of filtering and epoching around these events.\n",
      "  raw = mne.io.read_raw_eeglab(str(Path(root_path) / eeg_rel_path / f\"sub-{subject}_{event_id}.set\"), verbose=False)\n",
      "/home/christian/code/acareeg/acareeg/lemon.py:58: RuntimeWarning: Limited 1 annotation(s) that were expanding outside the data range.\n",
      "  raw = mne.io.read_raw_eeglab(str(Path(root_path) / eeg_rel_path / f\"sub-{subject}_{event_id}.set\"), verbose=False)\n",
      "/home/christian/code/acareeg/acareeg/lemon.py:58: RuntimeWarning: The data contains 'boundary' events, indicating data discontinuities. Be cautious of filtering and epoching around these events.\n",
      "  raw = mne.io.read_raw_eeglab(str(Path(root_path) / eeg_rel_path / f\"sub-{subject}_{event_id}.set\"), verbose=False)\n",
      "/home/christian/code/acareeg/acareeg/lemon.py:58: RuntimeWarning: Limited 1 annotation(s) that were expanding outside the data range.\n",
      "  raw = mne.io.read_raw_eeglab(str(Path(root_path) / eeg_rel_path / f\"sub-{subject}_{event_id}.set\"), verbose=False)\n",
      "/home/christian/code/acareeg/acareeg/lemon.py:58: RuntimeWarning: The data contains 'boundary' events, indicating data discontinuities. Be cautious of filtering and epoching around these events.\n",
      "  raw = mne.io.read_raw_eeglab(str(Path(root_path) / eeg_rel_path / f\"sub-{subject}_{event_id}.set\"), verbose=False)\n",
      "/home/christian/code/acareeg/acareeg/lemon.py:58: RuntimeWarning: Limited 1 annotation(s) that were expanding outside the data range.\n",
      "  raw = mne.io.read_raw_eeglab(str(Path(root_path) / eeg_rel_path / f\"sub-{subject}_{event_id}.set\"), verbose=False)\n",
      "/home/christian/code/acareeg/acareeg/lemon.py:58: RuntimeWarning: The data contains 'boundary' events, indicating data discontinuities. Be cautious of filtering and epoching around these events.\n",
      "  raw = mne.io.read_raw_eeglab(str(Path(root_path) / eeg_rel_path / f\"sub-{subject}_{event_id}.set\"), verbose=False)\n",
      "/home/christian/code/acareeg/acareeg/lemon.py:58: RuntimeWarning: Limited 1 annotation(s) that were expanding outside the data range.\n",
      "  raw = mne.io.read_raw_eeglab(str(Path(root_path) / eeg_rel_path / f\"sub-{subject}_{event_id}.set\"), verbose=False)\n",
      "/home/christian/code/acareeg/acareeg/lemon.py:58: RuntimeWarning: The data contains 'boundary' events, indicating data discontinuities. Be cautious of filtering and epoching around these events.\n",
      "  raw = mne.io.read_raw_eeglab(str(Path(root_path) / eeg_rel_path / f\"sub-{subject}_{event_id}.set\"), verbose=False)\n",
      "/home/christian/code/acareeg/acareeg/lemon.py:58: RuntimeWarning: Limited 1 annotation(s) that were expanding outside the data range.\n",
      "  raw = mne.io.read_raw_eeglab(str(Path(root_path) / eeg_rel_path / f\"sub-{subject}_{event_id}.set\"), verbose=False)\n",
      "/home/christian/code/acareeg/acareeg/lemon.py:58: RuntimeWarning: The data contains 'boundary' events, indicating data discontinuities. Be cautious of filtering and epoching around these events.\n",
      "  raw = mne.io.read_raw_eeglab(str(Path(root_path) / eeg_rel_path / f\"sub-{subject}_{event_id}.set\"), verbose=False)\n",
      "/home/christian/code/acareeg/acareeg/lemon.py:58: RuntimeWarning: Limited 1 annotation(s) that were expanding outside the data range.\n",
      "  raw = mne.io.read_raw_eeglab(str(Path(root_path) / eeg_rel_path / f\"sub-{subject}_{event_id}.set\"), verbose=False)\n",
      "/home/christian/code/acareeg/acareeg/lemon.py:58: RuntimeWarning: The data contains 'boundary' events, indicating data discontinuities. Be cautious of filtering and epoching around these events.\n",
      "  raw = mne.io.read_raw_eeglab(str(Path(root_path) / eeg_rel_path / f\"sub-{subject}_{event_id}.set\"), verbose=False)\n",
      "/home/christian/code/acareeg/acareeg/lemon.py:58: RuntimeWarning: Limited 1 annotation(s) that were expanding outside the data range.\n",
      "  raw = mne.io.read_raw_eeglab(str(Path(root_path) / eeg_rel_path / f\"sub-{subject}_{event_id}.set\"), verbose=False)\n",
      "/home/christian/code/acareeg/acareeg/lemon.py:58: RuntimeWarning: The data contains 'boundary' events, indicating data discontinuities. Be cautious of filtering and epoching around these events.\n",
      "  raw = mne.io.read_raw_eeglab(str(Path(root_path) / eeg_rel_path / f\"sub-{subject}_{event_id}.set\"), verbose=False)\n",
      "/home/christian/code/acareeg/acareeg/lemon.py:58: RuntimeWarning: Limited 1 annotation(s) that were expanding outside the data range.\n",
      "  raw = mne.io.read_raw_eeglab(str(Path(root_path) / eeg_rel_path / f\"sub-{subject}_{event_id}.set\"), verbose=False)\n",
      "/home/christian/code/acareeg/acareeg/lemon.py:58: RuntimeWarning: The data contains 'boundary' events, indicating data discontinuities. Be cautious of filtering and epoching around these events.\n",
      "  raw = mne.io.read_raw_eeglab(str(Path(root_path) / eeg_rel_path / f\"sub-{subject}_{event_id}.set\"), verbose=False)\n",
      "/home/christian/code/acareeg/acareeg/lemon.py:58: RuntimeWarning: Limited 1 annotation(s) that were expanding outside the data range.\n",
      "  raw = mne.io.read_raw_eeglab(str(Path(root_path) / eeg_rel_path / f\"sub-{subject}_{event_id}.set\"), verbose=False)\n",
      "/home/christian/code/acareeg/acareeg/lemon.py:58: RuntimeWarning: The data contains 'boundary' events, indicating data discontinuities. Be cautious of filtering and epoching around these events.\n",
      "  raw = mne.io.read_raw_eeglab(str(Path(root_path) / eeg_rel_path / f\"sub-{subject}_{event_id}.set\"), verbose=False)\n",
      "/home/christian/code/acareeg/acareeg/lemon.py:58: RuntimeWarning: Limited 1 annotation(s) that were expanding outside the data range.\n",
      "  raw = mne.io.read_raw_eeglab(str(Path(root_path) / eeg_rel_path / f\"sub-{subject}_{event_id}.set\"), verbose=False)\n",
      "/home/christian/code/acareeg/acareeg/lemon.py:58: RuntimeWarning: The data contains 'boundary' events, indicating data discontinuities. Be cautious of filtering and epoching around these events.\n",
      "  raw = mne.io.read_raw_eeglab(str(Path(root_path) / eeg_rel_path / f\"sub-{subject}_{event_id}.set\"), verbose=False)\n",
      "/home/christian/code/acareeg/acareeg/lemon.py:58: RuntimeWarning: Limited 1 annotation(s) that were expanding outside the data range.\n",
      "  raw = mne.io.read_raw_eeglab(str(Path(root_path) / eeg_rel_path / f\"sub-{subject}_{event_id}.set\"), verbose=False)\n",
      "/home/christian/code/acareeg/acareeg/lemon.py:58: RuntimeWarning: The data contains 'boundary' events, indicating data discontinuities. Be cautious of filtering and epoching around these events.\n",
      "  raw = mne.io.read_raw_eeglab(str(Path(root_path) / eeg_rel_path / f\"sub-{subject}_{event_id}.set\"), verbose=False)\n",
      "/home/christian/code/acareeg/acareeg/lemon.py:58: RuntimeWarning: Limited 1 annotation(s) that were expanding outside the data range.\n",
      "  raw = mne.io.read_raw_eeglab(str(Path(root_path) / eeg_rel_path / f\"sub-{subject}_{event_id}.set\"), verbose=False)\n",
      "/home/christian/code/acareeg/acareeg/lemon.py:58: RuntimeWarning: The data contains 'boundary' events, indicating data discontinuities. Be cautious of filtering and epoching around these events.\n",
      "  raw = mne.io.read_raw_eeglab(str(Path(root_path) / eeg_rel_path / f\"sub-{subject}_{event_id}.set\"), verbose=False)\n",
      "/home/christian/code/acareeg/acareeg/lemon.py:58: RuntimeWarning: Limited 1 annotation(s) that were expanding outside the data range.\n",
      "  raw = mne.io.read_raw_eeglab(str(Path(root_path) / eeg_rel_path / f\"sub-{subject}_{event_id}.set\"), verbose=False)\n",
      "/home/christian/code/acareeg/acareeg/lemon.py:58: RuntimeWarning: The data contains 'boundary' events, indicating data discontinuities. Be cautious of filtering and epoching around these events.\n",
      "  raw = mne.io.read_raw_eeglab(str(Path(root_path) / eeg_rel_path / f\"sub-{subject}_{event_id}.set\"), verbose=False)\n"
     ]
    },
    {
     "name": "stdout",
     "output_type": "stream",
     "text": [
      "\n"
     ]
    },
    {
     "name": "stderr",
     "output_type": "stream",
     "text": [
      "/home/christian/code/acareeg/acareeg/lemon.py:58: RuntimeWarning: Limited 1 annotation(s) that were expanding outside the data range.\n",
      "  raw = mne.io.read_raw_eeglab(str(Path(root_path) / eeg_rel_path / f\"sub-{subject}_{event_id}.set\"), verbose=False)\n",
      "/home/christian/code/acareeg/acareeg/lemon.py:58: RuntimeWarning: The data contains 'boundary' events, indicating data discontinuities. Be cautious of filtering and epoching around these events.\n",
      "  raw = mne.io.read_raw_eeglab(str(Path(root_path) / eeg_rel_path / f\"sub-{subject}_{event_id}.set\"), verbose=False)\n",
      "/home/christian/code/acareeg/acareeg/lemon.py:58: RuntimeWarning: Limited 1 annotation(s) that were expanding outside the data range.\n",
      "  raw = mne.io.read_raw_eeglab(str(Path(root_path) / eeg_rel_path / f\"sub-{subject}_{event_id}.set\"), verbose=False)\n",
      "/home/christian/code/acareeg/acareeg/lemon.py:58: RuntimeWarning: The data contains 'boundary' events, indicating data discontinuities. Be cautious of filtering and epoching around these events.\n",
      "  raw = mne.io.read_raw_eeglab(str(Path(root_path) / eeg_rel_path / f\"sub-{subject}_{event_id}.set\"), verbose=False)\n"
     ]
    }
   ],
   "source": [
    "complete_subjects = []\n",
    "for path in tqdm(list(path_eeg.glob(f\"sub-*_{event_id}.set\"))):\n",
    "    subject = Path(path).name[4:-7]\n",
    "    if ((lemon_root / f\"BIDS_LEMON/sub-{subject}/ses-01/anat/sub-{subject}_ses-01_acq-mp2rage_T1w.nii.gz\").exists() and\n",
    "        (lemon_root / f\"BIDS_LEMON/sub-{subject}/ses-01/anat/sub-{subject}_ses-01_acq-highres_FLAIR.nii.gz\").exists() and\n",
    "        (lemon_root / f\"EEG_MPILMBB_LEMON/EEG_Localizer_BIDS_ID/sub-{subject}/sub-{subject}.mat\").exists()):\n",
    "        epochs = get_epochs_lemon(subject, lemon_root, event_id)\n",
    "        if epochs.info[\"sfreq\"] == 250:\n",
    "            complete_subjects.append(subject)\n",
    "            \n",
    "complete_subjects = complete_subjects"
   ]
  },
  {
   "cell_type": "markdown",
   "metadata": {},
   "source": [
    "# Building a forward model (head model) for the fsaverage subject from MNE-Python"
   ]
  },
  {
   "cell_type": "code",
   "execution_count": 5,
   "metadata": {
    "scrolled": true
   },
   "outputs": [
    {
     "name": "stdout",
     "output_type": "stream",
     "text": [
      "0 files missing from root.txt in /usr/local/freesurfer/subjects\n",
      "0 files missing from bem.txt in /usr/local/freesurfer/subjects/fsaverage\n",
      "Source space          : /usr/local/freesurfer/subjects/fsaverage/bem/fsaverage-ico-5-src.fif\n",
      "MRI -> head transform : /home/christian/code/mne-python/mne/data/fsaverage/fsaverage-trans.fif\n",
      "Measurement data      : instance of Info\n",
      "Conductor model   : /usr/local/freesurfer/subjects/fsaverage/bem/fsaverage-5120-5120-5120-bem-sol.fif\n",
      "Accurate field computations\n",
      "Do computations in head coordinates\n",
      "Free source orientations\n",
      "\n",
      "Reading /usr/local/freesurfer/subjects/fsaverage/bem/fsaverage-ico-5-src.fif...\n"
     ]
    },
    {
     "name": "stderr",
     "output_type": "stream",
     "text": [
      "/home/christian/code/acareeg/acareeg/lemon.py:58: RuntimeWarning: Limited 1 annotation(s) that were expanding outside the data range.\n",
      "  raw = mne.io.read_raw_eeglab(str(Path(root_path) / eeg_rel_path / f\"sub-{subject}_{event_id}.set\"), verbose=False)\n",
      "/home/christian/code/acareeg/acareeg/lemon.py:58: RuntimeWarning: The data contains 'boundary' events, indicating data discontinuities. Be cautious of filtering and epoching around these events.\n",
      "  raw = mne.io.read_raw_eeglab(str(Path(root_path) / eeg_rel_path / f\"sub-{subject}_{event_id}.set\"), verbose=False)\n"
     ]
    },
    {
     "name": "stdout",
     "output_type": "stream",
     "text": [
      "Read 2 source spaces a total of 20484 active source locations\n",
      "\n",
      "Coordinate transformation: MRI (surface RAS) -> head\n",
      "     0.999994  0.003552  0.000202      -1.76 mm\n",
      "    -0.003558  0.998389  0.056626      31.09 mm\n",
      "    -0.000001 -0.056626  0.998395      39.60 mm\n",
      "     0.000000  0.000000  0.000000       1.00\n",
      "\n",
      "Read  61 EEG channels from info\n",
      "Head coordinate coil definitions created.\n",
      "Source spaces are now in head coordinates.\n",
      "\n",
      "Setting up the BEM model using /usr/local/freesurfer/subjects/fsaverage/bem/fsaverage-5120-5120-5120-bem-sol.fif...\n",
      "\n",
      "Loading surfaces...\n",
      "\n",
      "Loading the solution matrix...\n",
      "\n",
      "Three-layer model surfaces loaded.\n",
      "Loaded linear_collocation BEM solution from /usr/local/freesurfer/subjects/fsaverage/bem/fsaverage-5120-5120-5120-bem-sol.fif\n",
      "Employing the head->MRI coordinate transform with the BEM model.\n",
      "BEM model fsaverage-5120-5120-5120-bem-sol.fif is now set up\n",
      "\n",
      "Source spaces are in head coordinates.\n",
      "Checking that the sources are inside the surface and at least    5.0 mm away (will take a few...)\n",
      "    Skipping interior check for 2433 sources that fit inside a sphere of radius   47.7 mm\n",
      "    Skipping solid angle check for 0 points using Qhull\n",
      "    Skipping interior check for 2241 sources that fit inside a sphere of radius   47.7 mm\n",
      "    Skipping solid angle check for 0 points using Qhull\n",
      "\n",
      "Setting up for EEG...\n",
      "Computing EEG at 20484 source locations (free orientations)...\n",
      "\n",
      "Finished.\n"
     ]
    }
   ],
   "source": [
    "epochs = get_epochs_lemon(complete_subjects[0], lemon_root, event_id)\n",
    "\n",
    "fs_dir = mne.datasets.fetch_fsaverage(verbose=True)\n",
    "subjects_dir = op.dirname(fs_dir)\n",
    "subject = 'fsaverage'\n",
    "trans = 'fsaverage'  # MNE has a built-in fsaverage transformation\n",
    "src = op.join(fs_dir, 'bem', 'fsaverage-ico-5-src.fif')\n",
    "bem = op.join(fs_dir, 'bem', 'fsaverage-5120-5120-5120-bem-sol.fif')\n",
    "\n",
    "fwd = mne.make_forward_solution(epochs.info, trans=trans, src=src,\n",
    "                                bem=bem, eeg=True, mindist=5.0, n_jobs=1)"
   ]
  },
  {
   "cell_type": "code",
   "execution_count": 6,
   "metadata": {},
   "outputs": [
    {
     "data": {
      "application/vnd.jupyter.widget-view+json": {
       "model_id": "9b6d8bab7e3f4fe5b4e4048cc83159c1",
       "version_major": 2,
       "version_minor": 0
      },
      "text/plain": [
       "HBox(children=(FloatProgress(value=0.0, max=82.0), HTML(value='')))"
      ]
     },
     "metadata": {},
     "output_type": "display_data"
    },
    {
     "name": "stderr",
     "output_type": "stream",
     "text": [
      "/home/christian/code/acareeg/acareeg/lemon.py:58: RuntimeWarning: Limited 1 annotation(s) that were expanding outside the data range.\n",
      "  raw = mne.io.read_raw_eeglab(str(Path(root_path) / eeg_rel_path / f\"sub-{subject}_{event_id}.set\"), verbose=False)\n",
      "/home/christian/code/acareeg/acareeg/lemon.py:58: RuntimeWarning: The data contains 'boundary' events, indicating data discontinuities. Be cautious of filtering and epoching around these events.\n",
      "  raw = mne.io.read_raw_eeglab(str(Path(root_path) / eeg_rel_path / f\"sub-{subject}_{event_id}.set\"), verbose=False)\n",
      "/home/christian/code/acareeg/acareeg/lemon.py:58: RuntimeWarning: Limited 1 annotation(s) that were expanding outside the data range.\n",
      "  raw = mne.io.read_raw_eeglab(str(Path(root_path) / eeg_rel_path / f\"sub-{subject}_{event_id}.set\"), verbose=False)\n",
      "/home/christian/code/acareeg/acareeg/lemon.py:58: RuntimeWarning: The data contains 'boundary' events, indicating data discontinuities. Be cautious of filtering and epoching around these events.\n",
      "  raw = mne.io.read_raw_eeglab(str(Path(root_path) / eeg_rel_path / f\"sub-{subject}_{event_id}.set\"), verbose=False)\n"
     ]
    },
    {
     "name": "stdout",
     "output_type": "stream",
     "text": [
      "Fitted sphere radius:         102.9 mm\n",
      "Origin head coordinates:      0.4 3.3 48.6 mm\n",
      "Origin device coordinates:    0.4 3.3 48.6 mm\n"
     ]
    },
    {
     "name": "stderr",
     "output_type": "stream",
     "text": [
      "/home/christian/code/acareeg/acareeg/lemon.py:58: RuntimeWarning: Limited 1 annotation(s) that were expanding outside the data range.\n",
      "  raw = mne.io.read_raw_eeglab(str(Path(root_path) / eeg_rel_path / f\"sub-{subject}_{event_id}.set\"), verbose=False)\n",
      "/home/christian/code/acareeg/acareeg/lemon.py:58: RuntimeWarning: The data contains 'boundary' events, indicating data discontinuities. Be cautious of filtering and epoching around these events.\n",
      "  raw = mne.io.read_raw_eeglab(str(Path(root_path) / eeg_rel_path / f\"sub-{subject}_{event_id}.set\"), verbose=False)\n",
      "/home/christian/code/acareeg/acareeg/lemon.py:58: RuntimeWarning: Limited 1 annotation(s) that were expanding outside the data range.\n",
      "  raw = mne.io.read_raw_eeglab(str(Path(root_path) / eeg_rel_path / f\"sub-{subject}_{event_id}.set\"), verbose=False)\n",
      "/home/christian/code/acareeg/acareeg/lemon.py:58: RuntimeWarning: The data contains 'boundary' events, indicating data discontinuities. Be cautious of filtering and epoching around these events.\n",
      "  raw = mne.io.read_raw_eeglab(str(Path(root_path) / eeg_rel_path / f\"sub-{subject}_{event_id}.set\"), verbose=False)\n"
     ]
    },
    {
     "name": "stdout",
     "output_type": "stream",
     "text": [
      "Fitted sphere radius:         99.4 mm\n",
      "Origin head coordinates:      4.3 5.8 49.5 mm\n",
      "Origin device coordinates:    4.3 5.8 49.5 mm\n"
     ]
    },
    {
     "name": "stderr",
     "output_type": "stream",
     "text": [
      "/home/christian/code/acareeg/acareeg/lemon.py:58: RuntimeWarning: Limited 1 annotation(s) that were expanding outside the data range.\n",
      "  raw = mne.io.read_raw_eeglab(str(Path(root_path) / eeg_rel_path / f\"sub-{subject}_{event_id}.set\"), verbose=False)\n",
      "/home/christian/code/acareeg/acareeg/lemon.py:58: RuntimeWarning: The data contains 'boundary' events, indicating data discontinuities. Be cautious of filtering and epoching around these events.\n",
      "  raw = mne.io.read_raw_eeglab(str(Path(root_path) / eeg_rel_path / f\"sub-{subject}_{event_id}.set\"), verbose=False)\n",
      "/home/christian/code/acareeg/acareeg/lemon.py:58: RuntimeWarning: Limited 1 annotation(s) that were expanding outside the data range.\n",
      "  raw = mne.io.read_raw_eeglab(str(Path(root_path) / eeg_rel_path / f\"sub-{subject}_{event_id}.set\"), verbose=False)\n",
      "/home/christian/code/acareeg/acareeg/lemon.py:58: RuntimeWarning: The data contains 'boundary' events, indicating data discontinuities. Be cautious of filtering and epoching around these events.\n",
      "  raw = mne.io.read_raw_eeglab(str(Path(root_path) / eeg_rel_path / f\"sub-{subject}_{event_id}.set\"), verbose=False)\n"
     ]
    },
    {
     "name": "stdout",
     "output_type": "stream",
     "text": [
      "Fitted sphere radius:         103.0 mm\n",
      "Origin head coordinates:      0.4 11.5 42.4 mm\n",
      "Origin device coordinates:    0.4 11.5 42.4 mm\n"
     ]
    },
    {
     "name": "stderr",
     "output_type": "stream",
     "text": [
      "/home/christian/code/acareeg/acareeg/lemon.py:58: RuntimeWarning: Limited 1 annotation(s) that were expanding outside the data range.\n",
      "  raw = mne.io.read_raw_eeglab(str(Path(root_path) / eeg_rel_path / f\"sub-{subject}_{event_id}.set\"), verbose=False)\n",
      "/home/christian/code/acareeg/acareeg/lemon.py:58: RuntimeWarning: The data contains 'boundary' events, indicating data discontinuities. Be cautious of filtering and epoching around these events.\n",
      "  raw = mne.io.read_raw_eeglab(str(Path(root_path) / eeg_rel_path / f\"sub-{subject}_{event_id}.set\"), verbose=False)\n",
      "/home/christian/code/acareeg/acareeg/lemon.py:58: RuntimeWarning: Limited 1 annotation(s) that were expanding outside the data range.\n",
      "  raw = mne.io.read_raw_eeglab(str(Path(root_path) / eeg_rel_path / f\"sub-{subject}_{event_id}.set\"), verbose=False)\n",
      "/home/christian/code/acareeg/acareeg/lemon.py:58: RuntimeWarning: The data contains 'boundary' events, indicating data discontinuities. Be cautious of filtering and epoching around these events.\n",
      "  raw = mne.io.read_raw_eeglab(str(Path(root_path) / eeg_rel_path / f\"sub-{subject}_{event_id}.set\"), verbose=False)\n"
     ]
    },
    {
     "name": "stdout",
     "output_type": "stream",
     "text": [
      "Fitted sphere radius:         105.2 mm\n",
      "Origin head coordinates:      3.2 1.8 42.6 mm\n",
      "Origin device coordinates:    3.2 1.8 42.6 mm\n"
     ]
    },
    {
     "name": "stderr",
     "output_type": "stream",
     "text": [
      "/home/christian/code/acareeg/acareeg/lemon.py:58: RuntimeWarning: Limited 1 annotation(s) that were expanding outside the data range.\n",
      "  raw = mne.io.read_raw_eeglab(str(Path(root_path) / eeg_rel_path / f\"sub-{subject}_{event_id}.set\"), verbose=False)\n",
      "/home/christian/code/acareeg/acareeg/lemon.py:58: RuntimeWarning: The data contains 'boundary' events, indicating data discontinuities. Be cautious of filtering and epoching around these events.\n",
      "  raw = mne.io.read_raw_eeglab(str(Path(root_path) / eeg_rel_path / f\"sub-{subject}_{event_id}.set\"), verbose=False)\n",
      "/home/christian/code/acareeg/acareeg/lemon.py:58: RuntimeWarning: Limited 1 annotation(s) that were expanding outside the data range.\n",
      "  raw = mne.io.read_raw_eeglab(str(Path(root_path) / eeg_rel_path / f\"sub-{subject}_{event_id}.set\"), verbose=False)\n",
      "/home/christian/code/acareeg/acareeg/lemon.py:58: RuntimeWarning: The data contains 'boundary' events, indicating data discontinuities. Be cautious of filtering and epoching around these events.\n",
      "  raw = mne.io.read_raw_eeglab(str(Path(root_path) / eeg_rel_path / f\"sub-{subject}_{event_id}.set\"), verbose=False)\n"
     ]
    },
    {
     "name": "stdout",
     "output_type": "stream",
     "text": [
      "Fitted sphere radius:         102.4 mm\n",
      "Origin head coordinates:      3.2 -1.4 41.5 mm\n",
      "Origin device coordinates:    3.2 -1.4 41.5 mm\n"
     ]
    },
    {
     "name": "stderr",
     "output_type": "stream",
     "text": [
      "/home/christian/code/acareeg/acareeg/lemon.py:58: RuntimeWarning: Limited 1 annotation(s) that were expanding outside the data range.\n",
      "  raw = mne.io.read_raw_eeglab(str(Path(root_path) / eeg_rel_path / f\"sub-{subject}_{event_id}.set\"), verbose=False)\n",
      "/home/christian/code/acareeg/acareeg/lemon.py:58: RuntimeWarning: The data contains 'boundary' events, indicating data discontinuities. Be cautious of filtering and epoching around these events.\n",
      "  raw = mne.io.read_raw_eeglab(str(Path(root_path) / eeg_rel_path / f\"sub-{subject}_{event_id}.set\"), verbose=False)\n",
      "/home/christian/code/acareeg/acareeg/lemon.py:58: RuntimeWarning: Limited 1 annotation(s) that were expanding outside the data range.\n",
      "  raw = mne.io.read_raw_eeglab(str(Path(root_path) / eeg_rel_path / f\"sub-{subject}_{event_id}.set\"), verbose=False)\n",
      "/home/christian/code/acareeg/acareeg/lemon.py:58: RuntimeWarning: The data contains 'boundary' events, indicating data discontinuities. Be cautious of filtering and epoching around these events.\n",
      "  raw = mne.io.read_raw_eeglab(str(Path(root_path) / eeg_rel_path / f\"sub-{subject}_{event_id}.set\"), verbose=False)\n"
     ]
    },
    {
     "name": "stdout",
     "output_type": "stream",
     "text": [
      "Fitted sphere radius:         99.0 mm\n",
      "Origin head coordinates:      -2.0 3.8 53.9 mm\n",
      "Origin device coordinates:    -2.0 3.8 53.9 mm\n"
     ]
    },
    {
     "name": "stderr",
     "output_type": "stream",
     "text": [
      "/home/christian/code/acareeg/acareeg/lemon.py:58: RuntimeWarning: Limited 1 annotation(s) that were expanding outside the data range.\n",
      "  raw = mne.io.read_raw_eeglab(str(Path(root_path) / eeg_rel_path / f\"sub-{subject}_{event_id}.set\"), verbose=False)\n",
      "/home/christian/code/acareeg/acareeg/lemon.py:58: RuntimeWarning: The data contains 'boundary' events, indicating data discontinuities. Be cautious of filtering and epoching around these events.\n",
      "  raw = mne.io.read_raw_eeglab(str(Path(root_path) / eeg_rel_path / f\"sub-{subject}_{event_id}.set\"), verbose=False)\n",
      "/home/christian/code/acareeg/acareeg/lemon.py:58: RuntimeWarning: Limited 1 annotation(s) that were expanding outside the data range.\n",
      "  raw = mne.io.read_raw_eeglab(str(Path(root_path) / eeg_rel_path / f\"sub-{subject}_{event_id}.set\"), verbose=False)\n",
      "/home/christian/code/acareeg/acareeg/lemon.py:58: RuntimeWarning: The data contains 'boundary' events, indicating data discontinuities. Be cautious of filtering and epoching around these events.\n",
      "  raw = mne.io.read_raw_eeglab(str(Path(root_path) / eeg_rel_path / f\"sub-{subject}_{event_id}.set\"), verbose=False)\n"
     ]
    },
    {
     "name": "stdout",
     "output_type": "stream",
     "text": [
      "Fitted sphere radius:         99.4 mm\n",
      "Origin head coordinates:      6.5 -2.2 47.2 mm\n",
      "Origin device coordinates:    6.5 -2.2 47.2 mm\n"
     ]
    },
    {
     "name": "stderr",
     "output_type": "stream",
     "text": [
      "/home/christian/code/acareeg/acareeg/lemon.py:58: RuntimeWarning: Limited 1 annotation(s) that were expanding outside the data range.\n",
      "  raw = mne.io.read_raw_eeglab(str(Path(root_path) / eeg_rel_path / f\"sub-{subject}_{event_id}.set\"), verbose=False)\n",
      "/home/christian/code/acareeg/acareeg/lemon.py:58: RuntimeWarning: The data contains 'boundary' events, indicating data discontinuities. Be cautious of filtering and epoching around these events.\n",
      "  raw = mne.io.read_raw_eeglab(str(Path(root_path) / eeg_rel_path / f\"sub-{subject}_{event_id}.set\"), verbose=False)\n",
      "/home/christian/code/acareeg/acareeg/lemon.py:58: RuntimeWarning: Limited 1 annotation(s) that were expanding outside the data range.\n",
      "  raw = mne.io.read_raw_eeglab(str(Path(root_path) / eeg_rel_path / f\"sub-{subject}_{event_id}.set\"), verbose=False)\n",
      "/home/christian/code/acareeg/acareeg/lemon.py:58: RuntimeWarning: The data contains 'boundary' events, indicating data discontinuities. Be cautious of filtering and epoching around these events.\n",
      "  raw = mne.io.read_raw_eeglab(str(Path(root_path) / eeg_rel_path / f\"sub-{subject}_{event_id}.set\"), verbose=False)\n"
     ]
    },
    {
     "name": "stdout",
     "output_type": "stream",
     "text": [
      "Fitted sphere radius:         104.0 mm\n",
      "Origin head coordinates:      3.3 11.0 42.8 mm\n",
      "Origin device coordinates:    3.3 11.0 42.8 mm\n"
     ]
    },
    {
     "name": "stderr",
     "output_type": "stream",
     "text": [
      "/home/christian/code/acareeg/acareeg/lemon.py:58: RuntimeWarning: Limited 1 annotation(s) that were expanding outside the data range.\n",
      "  raw = mne.io.read_raw_eeglab(str(Path(root_path) / eeg_rel_path / f\"sub-{subject}_{event_id}.set\"), verbose=False)\n",
      "/home/christian/code/acareeg/acareeg/lemon.py:58: RuntimeWarning: The data contains 'boundary' events, indicating data discontinuities. Be cautious of filtering and epoching around these events.\n",
      "  raw = mne.io.read_raw_eeglab(str(Path(root_path) / eeg_rel_path / f\"sub-{subject}_{event_id}.set\"), verbose=False)\n",
      "/home/christian/code/acareeg/acareeg/lemon.py:58: RuntimeWarning: Limited 1 annotation(s) that were expanding outside the data range.\n",
      "  raw = mne.io.read_raw_eeglab(str(Path(root_path) / eeg_rel_path / f\"sub-{subject}_{event_id}.set\"), verbose=False)\n",
      "/home/christian/code/acareeg/acareeg/lemon.py:58: RuntimeWarning: The data contains 'boundary' events, indicating data discontinuities. Be cautious of filtering and epoching around these events.\n",
      "  raw = mne.io.read_raw_eeglab(str(Path(root_path) / eeg_rel_path / f\"sub-{subject}_{event_id}.set\"), verbose=False)\n"
     ]
    },
    {
     "name": "stdout",
     "output_type": "stream",
     "text": [
      "Fitted sphere radius:         102.9 mm\n",
      "Origin head coordinates:      3.9 0.1 39.6 mm\n",
      "Origin device coordinates:    3.9 0.1 39.6 mm\n"
     ]
    },
    {
     "name": "stderr",
     "output_type": "stream",
     "text": [
      "/home/christian/code/acareeg/acareeg/lemon.py:58: RuntimeWarning: Limited 1 annotation(s) that were expanding outside the data range.\n",
      "  raw = mne.io.read_raw_eeglab(str(Path(root_path) / eeg_rel_path / f\"sub-{subject}_{event_id}.set\"), verbose=False)\n",
      "/home/christian/code/acareeg/acareeg/lemon.py:58: RuntimeWarning: The data contains 'boundary' events, indicating data discontinuities. Be cautious of filtering and epoching around these events.\n",
      "  raw = mne.io.read_raw_eeglab(str(Path(root_path) / eeg_rel_path / f\"sub-{subject}_{event_id}.set\"), verbose=False)\n",
      "/home/christian/code/acareeg/acareeg/lemon.py:58: RuntimeWarning: Limited 1 annotation(s) that were expanding outside the data range.\n",
      "  raw = mne.io.read_raw_eeglab(str(Path(root_path) / eeg_rel_path / f\"sub-{subject}_{event_id}.set\"), verbose=False)\n",
      "/home/christian/code/acareeg/acareeg/lemon.py:58: RuntimeWarning: The data contains 'boundary' events, indicating data discontinuities. Be cautious of filtering and epoching around these events.\n",
      "  raw = mne.io.read_raw_eeglab(str(Path(root_path) / eeg_rel_path / f\"sub-{subject}_{event_id}.set\"), verbose=False)\n"
     ]
    },
    {
     "name": "stdout",
     "output_type": "stream",
     "text": [
      "Fitted sphere radius:         100.5 mm\n",
      "Origin head coordinates:      2.3 1.5 43.3 mm\n",
      "Origin device coordinates:    2.3 1.5 43.3 mm\n"
     ]
    },
    {
     "name": "stderr",
     "output_type": "stream",
     "text": [
      "/home/christian/code/acareeg/acareeg/lemon.py:58: RuntimeWarning: Limited 1 annotation(s) that were expanding outside the data range.\n",
      "  raw = mne.io.read_raw_eeglab(str(Path(root_path) / eeg_rel_path / f\"sub-{subject}_{event_id}.set\"), verbose=False)\n",
      "/home/christian/code/acareeg/acareeg/lemon.py:58: RuntimeWarning: The data contains 'boundary' events, indicating data discontinuities. Be cautious of filtering and epoching around these events.\n",
      "  raw = mne.io.read_raw_eeglab(str(Path(root_path) / eeg_rel_path / f\"sub-{subject}_{event_id}.set\"), verbose=False)\n",
      "/home/christian/code/acareeg/acareeg/lemon.py:58: RuntimeWarning: Limited 1 annotation(s) that were expanding outside the data range.\n",
      "  raw = mne.io.read_raw_eeglab(str(Path(root_path) / eeg_rel_path / f\"sub-{subject}_{event_id}.set\"), verbose=False)\n",
      "/home/christian/code/acareeg/acareeg/lemon.py:58: RuntimeWarning: The data contains 'boundary' events, indicating data discontinuities. Be cautious of filtering and epoching around these events.\n",
      "  raw = mne.io.read_raw_eeglab(str(Path(root_path) / eeg_rel_path / f\"sub-{subject}_{event_id}.set\"), verbose=False)\n"
     ]
    },
    {
     "name": "stdout",
     "output_type": "stream",
     "text": [
      "Fitted sphere radius:         97.8 mm\n",
      "Origin head coordinates:      1.6 1.4 44.7 mm\n",
      "Origin device coordinates:    1.6 1.4 44.7 mm\n"
     ]
    },
    {
     "name": "stderr",
     "output_type": "stream",
     "text": [
      "/home/christian/code/acareeg/acareeg/lemon.py:58: RuntimeWarning: Limited 1 annotation(s) that were expanding outside the data range.\n",
      "  raw = mne.io.read_raw_eeglab(str(Path(root_path) / eeg_rel_path / f\"sub-{subject}_{event_id}.set\"), verbose=False)\n",
      "/home/christian/code/acareeg/acareeg/lemon.py:58: RuntimeWarning: The data contains 'boundary' events, indicating data discontinuities. Be cautious of filtering and epoching around these events.\n",
      "  raw = mne.io.read_raw_eeglab(str(Path(root_path) / eeg_rel_path / f\"sub-{subject}_{event_id}.set\"), verbose=False)\n",
      "/home/christian/code/acareeg/acareeg/lemon.py:58: RuntimeWarning: Limited 1 annotation(s) that were expanding outside the data range.\n",
      "  raw = mne.io.read_raw_eeglab(str(Path(root_path) / eeg_rel_path / f\"sub-{subject}_{event_id}.set\"), verbose=False)\n",
      "/home/christian/code/acareeg/acareeg/lemon.py:58: RuntimeWarning: The data contains 'boundary' events, indicating data discontinuities. Be cautious of filtering and epoching around these events.\n",
      "  raw = mne.io.read_raw_eeglab(str(Path(root_path) / eeg_rel_path / f\"sub-{subject}_{event_id}.set\"), verbose=False)\n"
     ]
    },
    {
     "name": "stdout",
     "output_type": "stream",
     "text": [
      "Fitted sphere radius:         98.5 mm\n",
      "Origin head coordinates:      3.3 9.2 45.1 mm\n",
      "Origin device coordinates:    3.3 9.2 45.1 mm\n"
     ]
    },
    {
     "name": "stderr",
     "output_type": "stream",
     "text": [
      "/home/christian/code/acareeg/acareeg/lemon.py:58: RuntimeWarning: Limited 1 annotation(s) that were expanding outside the data range.\n",
      "  raw = mne.io.read_raw_eeglab(str(Path(root_path) / eeg_rel_path / f\"sub-{subject}_{event_id}.set\"), verbose=False)\n",
      "/home/christian/code/acareeg/acareeg/lemon.py:58: RuntimeWarning: The data contains 'boundary' events, indicating data discontinuities. Be cautious of filtering and epoching around these events.\n",
      "  raw = mne.io.read_raw_eeglab(str(Path(root_path) / eeg_rel_path / f\"sub-{subject}_{event_id}.set\"), verbose=False)\n",
      "/home/christian/code/acareeg/acareeg/lemon.py:58: RuntimeWarning: Limited 1 annotation(s) that were expanding outside the data range.\n",
      "  raw = mne.io.read_raw_eeglab(str(Path(root_path) / eeg_rel_path / f\"sub-{subject}_{event_id}.set\"), verbose=False)\n",
      "/home/christian/code/acareeg/acareeg/lemon.py:58: RuntimeWarning: The data contains 'boundary' events, indicating data discontinuities. Be cautious of filtering and epoching around these events.\n",
      "  raw = mne.io.read_raw_eeglab(str(Path(root_path) / eeg_rel_path / f\"sub-{subject}_{event_id}.set\"), verbose=False)\n"
     ]
    },
    {
     "name": "stdout",
     "output_type": "stream",
     "text": [
      "Fitted sphere radius:         100.1 mm\n",
      "Origin head coordinates:      2.3 -1.6 39.0 mm\n",
      "Origin device coordinates:    2.3 -1.6 39.0 mm\n"
     ]
    },
    {
     "name": "stderr",
     "output_type": "stream",
     "text": [
      "/home/christian/code/acareeg/acareeg/lemon.py:58: RuntimeWarning: Limited 1 annotation(s) that were expanding outside the data range.\n",
      "  raw = mne.io.read_raw_eeglab(str(Path(root_path) / eeg_rel_path / f\"sub-{subject}_{event_id}.set\"), verbose=False)\n",
      "/home/christian/code/acareeg/acareeg/lemon.py:58: RuntimeWarning: The data contains 'boundary' events, indicating data discontinuities. Be cautious of filtering and epoching around these events.\n",
      "  raw = mne.io.read_raw_eeglab(str(Path(root_path) / eeg_rel_path / f\"sub-{subject}_{event_id}.set\"), verbose=False)\n",
      "/home/christian/code/acareeg/acareeg/lemon.py:58: RuntimeWarning: Limited 1 annotation(s) that were expanding outside the data range.\n",
      "  raw = mne.io.read_raw_eeglab(str(Path(root_path) / eeg_rel_path / f\"sub-{subject}_{event_id}.set\"), verbose=False)\n",
      "/home/christian/code/acareeg/acareeg/lemon.py:58: RuntimeWarning: The data contains 'boundary' events, indicating data discontinuities. Be cautious of filtering and epoching around these events.\n",
      "  raw = mne.io.read_raw_eeglab(str(Path(root_path) / eeg_rel_path / f\"sub-{subject}_{event_id}.set\"), verbose=False)\n"
     ]
    },
    {
     "name": "stdout",
     "output_type": "stream",
     "text": [
      "Fitted sphere radius:         101.2 mm\n",
      "Origin head coordinates:      2.7 6.7 45.7 mm\n",
      "Origin device coordinates:    2.7 6.7 45.7 mm\n"
     ]
    },
    {
     "name": "stderr",
     "output_type": "stream",
     "text": [
      "/home/christian/code/acareeg/acareeg/lemon.py:58: RuntimeWarning: Limited 1 annotation(s) that were expanding outside the data range.\n",
      "  raw = mne.io.read_raw_eeglab(str(Path(root_path) / eeg_rel_path / f\"sub-{subject}_{event_id}.set\"), verbose=False)\n",
      "/home/christian/code/acareeg/acareeg/lemon.py:58: RuntimeWarning: The data contains 'boundary' events, indicating data discontinuities. Be cautious of filtering and epoching around these events.\n",
      "  raw = mne.io.read_raw_eeglab(str(Path(root_path) / eeg_rel_path / f\"sub-{subject}_{event_id}.set\"), verbose=False)\n",
      "/home/christian/code/acareeg/acareeg/lemon.py:58: RuntimeWarning: Limited 1 annotation(s) that were expanding outside the data range.\n",
      "  raw = mne.io.read_raw_eeglab(str(Path(root_path) / eeg_rel_path / f\"sub-{subject}_{event_id}.set\"), verbose=False)\n",
      "/home/christian/code/acareeg/acareeg/lemon.py:58: RuntimeWarning: The data contains 'boundary' events, indicating data discontinuities. Be cautious of filtering and epoching around these events.\n",
      "  raw = mne.io.read_raw_eeglab(str(Path(root_path) / eeg_rel_path / f\"sub-{subject}_{event_id}.set\"), verbose=False)\n"
     ]
    },
    {
     "name": "stdout",
     "output_type": "stream",
     "text": [
      "Fitted sphere radius:         99.5 mm\n",
      "Origin head coordinates:      0.5 4.1 42.2 mm\n",
      "Origin device coordinates:    0.5 4.1 42.2 mm\n"
     ]
    },
    {
     "name": "stderr",
     "output_type": "stream",
     "text": [
      "/home/christian/code/acareeg/acareeg/lemon.py:58: RuntimeWarning: Limited 1 annotation(s) that were expanding outside the data range.\n",
      "  raw = mne.io.read_raw_eeglab(str(Path(root_path) / eeg_rel_path / f\"sub-{subject}_{event_id}.set\"), verbose=False)\n",
      "/home/christian/code/acareeg/acareeg/lemon.py:58: RuntimeWarning: The data contains 'boundary' events, indicating data discontinuities. Be cautious of filtering and epoching around these events.\n",
      "  raw = mne.io.read_raw_eeglab(str(Path(root_path) / eeg_rel_path / f\"sub-{subject}_{event_id}.set\"), verbose=False)\n",
      "/home/christian/code/acareeg/acareeg/lemon.py:58: RuntimeWarning: Limited 1 annotation(s) that were expanding outside the data range.\n",
      "  raw = mne.io.read_raw_eeglab(str(Path(root_path) / eeg_rel_path / f\"sub-{subject}_{event_id}.set\"), verbose=False)\n",
      "/home/christian/code/acareeg/acareeg/lemon.py:58: RuntimeWarning: The data contains 'boundary' events, indicating data discontinuities. Be cautious of filtering and epoching around these events.\n",
      "  raw = mne.io.read_raw_eeglab(str(Path(root_path) / eeg_rel_path / f\"sub-{subject}_{event_id}.set\"), verbose=False)\n"
     ]
    },
    {
     "name": "stdout",
     "output_type": "stream",
     "text": [
      "Fitted sphere radius:         99.5 mm\n",
      "Origin head coordinates:      1.6 -3.6 41.7 mm\n",
      "Origin device coordinates:    1.6 -3.6 41.7 mm\n"
     ]
    },
    {
     "name": "stderr",
     "output_type": "stream",
     "text": [
      "/home/christian/code/acareeg/acareeg/lemon.py:58: RuntimeWarning: Limited 1 annotation(s) that were expanding outside the data range.\n",
      "  raw = mne.io.read_raw_eeglab(str(Path(root_path) / eeg_rel_path / f\"sub-{subject}_{event_id}.set\"), verbose=False)\n",
      "/home/christian/code/acareeg/acareeg/lemon.py:58: RuntimeWarning: The data contains 'boundary' events, indicating data discontinuities. Be cautious of filtering and epoching around these events.\n",
      "  raw = mne.io.read_raw_eeglab(str(Path(root_path) / eeg_rel_path / f\"sub-{subject}_{event_id}.set\"), verbose=False)\n",
      "/home/christian/code/acareeg/acareeg/lemon.py:58: RuntimeWarning: Limited 1 annotation(s) that were expanding outside the data range.\n",
      "  raw = mne.io.read_raw_eeglab(str(Path(root_path) / eeg_rel_path / f\"sub-{subject}_{event_id}.set\"), verbose=False)\n",
      "/home/christian/code/acareeg/acareeg/lemon.py:58: RuntimeWarning: The data contains 'boundary' events, indicating data discontinuities. Be cautious of filtering and epoching around these events.\n",
      "  raw = mne.io.read_raw_eeglab(str(Path(root_path) / eeg_rel_path / f\"sub-{subject}_{event_id}.set\"), verbose=False)\n"
     ]
    },
    {
     "name": "stdout",
     "output_type": "stream",
     "text": [
      "Fitted sphere radius:         98.5 mm\n",
      "Origin head coordinates:      3.5 -2.5 45.9 mm\n",
      "Origin device coordinates:    3.5 -2.5 45.9 mm\n"
     ]
    },
    {
     "name": "stderr",
     "output_type": "stream",
     "text": [
      "/home/christian/code/acareeg/acareeg/lemon.py:58: RuntimeWarning: Limited 1 annotation(s) that were expanding outside the data range.\n",
      "  raw = mne.io.read_raw_eeglab(str(Path(root_path) / eeg_rel_path / f\"sub-{subject}_{event_id}.set\"), verbose=False)\n",
      "/home/christian/code/acareeg/acareeg/lemon.py:58: RuntimeWarning: The data contains 'boundary' events, indicating data discontinuities. Be cautious of filtering and epoching around these events.\n",
      "  raw = mne.io.read_raw_eeglab(str(Path(root_path) / eeg_rel_path / f\"sub-{subject}_{event_id}.set\"), verbose=False)\n",
      "/home/christian/code/acareeg/acareeg/lemon.py:58: RuntimeWarning: Limited 1 annotation(s) that were expanding outside the data range.\n",
      "  raw = mne.io.read_raw_eeglab(str(Path(root_path) / eeg_rel_path / f\"sub-{subject}_{event_id}.set\"), verbose=False)\n",
      "/home/christian/code/acareeg/acareeg/lemon.py:58: RuntimeWarning: The data contains 'boundary' events, indicating data discontinuities. Be cautious of filtering and epoching around these events.\n",
      "  raw = mne.io.read_raw_eeglab(str(Path(root_path) / eeg_rel_path / f\"sub-{subject}_{event_id}.set\"), verbose=False)\n"
     ]
    },
    {
     "name": "stdout",
     "output_type": "stream",
     "text": [
      "Fitted sphere radius:         100.6 mm\n",
      "Origin head coordinates:      1.4 -2.2 40.7 mm\n",
      "Origin device coordinates:    1.4 -2.2 40.7 mm\n"
     ]
    },
    {
     "name": "stderr",
     "output_type": "stream",
     "text": [
      "/home/christian/code/acareeg/acareeg/lemon.py:58: RuntimeWarning: Limited 1 annotation(s) that were expanding outside the data range.\n",
      "  raw = mne.io.read_raw_eeglab(str(Path(root_path) / eeg_rel_path / f\"sub-{subject}_{event_id}.set\"), verbose=False)\n",
      "/home/christian/code/acareeg/acareeg/lemon.py:58: RuntimeWarning: The data contains 'boundary' events, indicating data discontinuities. Be cautious of filtering and epoching around these events.\n",
      "  raw = mne.io.read_raw_eeglab(str(Path(root_path) / eeg_rel_path / f\"sub-{subject}_{event_id}.set\"), verbose=False)\n",
      "/home/christian/code/acareeg/acareeg/lemon.py:58: RuntimeWarning: Limited 1 annotation(s) that were expanding outside the data range.\n",
      "  raw = mne.io.read_raw_eeglab(str(Path(root_path) / eeg_rel_path / f\"sub-{subject}_{event_id}.set\"), verbose=False)\n",
      "/home/christian/code/acareeg/acareeg/lemon.py:58: RuntimeWarning: The data contains 'boundary' events, indicating data discontinuities. Be cautious of filtering and epoching around these events.\n",
      "  raw = mne.io.read_raw_eeglab(str(Path(root_path) / eeg_rel_path / f\"sub-{subject}_{event_id}.set\"), verbose=False)\n"
     ]
    },
    {
     "name": "stdout",
     "output_type": "stream",
     "text": [
      "Fitted sphere radius:         103.5 mm\n",
      "Origin head coordinates:      4.0 4.2 43.1 mm\n",
      "Origin device coordinates:    4.0 4.2 43.1 mm\n"
     ]
    },
    {
     "name": "stderr",
     "output_type": "stream",
     "text": [
      "/home/christian/code/acareeg/acareeg/lemon.py:58: RuntimeWarning: Limited 1 annotation(s) that were expanding outside the data range.\n",
      "  raw = mne.io.read_raw_eeglab(str(Path(root_path) / eeg_rel_path / f\"sub-{subject}_{event_id}.set\"), verbose=False)\n",
      "/home/christian/code/acareeg/acareeg/lemon.py:58: RuntimeWarning: The data contains 'boundary' events, indicating data discontinuities. Be cautious of filtering and epoching around these events.\n",
      "  raw = mne.io.read_raw_eeglab(str(Path(root_path) / eeg_rel_path / f\"sub-{subject}_{event_id}.set\"), verbose=False)\n",
      "/home/christian/code/acareeg/acareeg/lemon.py:58: RuntimeWarning: Limited 1 annotation(s) that were expanding outside the data range.\n",
      "  raw = mne.io.read_raw_eeglab(str(Path(root_path) / eeg_rel_path / f\"sub-{subject}_{event_id}.set\"), verbose=False)\n",
      "/home/christian/code/acareeg/acareeg/lemon.py:58: RuntimeWarning: The data contains 'boundary' events, indicating data discontinuities. Be cautious of filtering and epoching around these events.\n",
      "  raw = mne.io.read_raw_eeglab(str(Path(root_path) / eeg_rel_path / f\"sub-{subject}_{event_id}.set\"), verbose=False)\n"
     ]
    },
    {
     "name": "stdout",
     "output_type": "stream",
     "text": [
      "Fitted sphere radius:         101.0 mm\n",
      "Origin head coordinates:      7.0 7.5 34.2 mm\n",
      "Origin device coordinates:    7.0 7.5 34.2 mm\n"
     ]
    },
    {
     "name": "stderr",
     "output_type": "stream",
     "text": [
      "/home/christian/code/acareeg/acareeg/lemon.py:58: RuntimeWarning: Limited 1 annotation(s) that were expanding outside the data range.\n",
      "  raw = mne.io.read_raw_eeglab(str(Path(root_path) / eeg_rel_path / f\"sub-{subject}_{event_id}.set\"), verbose=False)\n",
      "/home/christian/code/acareeg/acareeg/lemon.py:58: RuntimeWarning: The data contains 'boundary' events, indicating data discontinuities. Be cautious of filtering and epoching around these events.\n",
      "  raw = mne.io.read_raw_eeglab(str(Path(root_path) / eeg_rel_path / f\"sub-{subject}_{event_id}.set\"), verbose=False)\n",
      "/home/christian/code/acareeg/acareeg/lemon.py:58: RuntimeWarning: Limited 1 annotation(s) that were expanding outside the data range.\n",
      "  raw = mne.io.read_raw_eeglab(str(Path(root_path) / eeg_rel_path / f\"sub-{subject}_{event_id}.set\"), verbose=False)\n",
      "/home/christian/code/acareeg/acareeg/lemon.py:58: RuntimeWarning: The data contains 'boundary' events, indicating data discontinuities. Be cautious of filtering and epoching around these events.\n",
      "  raw = mne.io.read_raw_eeglab(str(Path(root_path) / eeg_rel_path / f\"sub-{subject}_{event_id}.set\"), verbose=False)\n"
     ]
    },
    {
     "name": "stdout",
     "output_type": "stream",
     "text": [
      "Fitted sphere radius:         103.3 mm\n",
      "Origin head coordinates:      0.3 3.2 38.8 mm\n",
      "Origin device coordinates:    0.3 3.2 38.8 mm\n"
     ]
    },
    {
     "name": "stderr",
     "output_type": "stream",
     "text": [
      "/home/christian/code/acareeg/acareeg/lemon.py:58: RuntimeWarning: Limited 1 annotation(s) that were expanding outside the data range.\n",
      "  raw = mne.io.read_raw_eeglab(str(Path(root_path) / eeg_rel_path / f\"sub-{subject}_{event_id}.set\"), verbose=False)\n",
      "/home/christian/code/acareeg/acareeg/lemon.py:58: RuntimeWarning: The data contains 'boundary' events, indicating data discontinuities. Be cautious of filtering and epoching around these events.\n",
      "  raw = mne.io.read_raw_eeglab(str(Path(root_path) / eeg_rel_path / f\"sub-{subject}_{event_id}.set\"), verbose=False)\n",
      "/home/christian/code/acareeg/acareeg/lemon.py:58: RuntimeWarning: Limited 1 annotation(s) that were expanding outside the data range.\n",
      "  raw = mne.io.read_raw_eeglab(str(Path(root_path) / eeg_rel_path / f\"sub-{subject}_{event_id}.set\"), verbose=False)\n",
      "/home/christian/code/acareeg/acareeg/lemon.py:58: RuntimeWarning: The data contains 'boundary' events, indicating data discontinuities. Be cautious of filtering and epoching around these events.\n",
      "  raw = mne.io.read_raw_eeglab(str(Path(root_path) / eeg_rel_path / f\"sub-{subject}_{event_id}.set\"), verbose=False)\n"
     ]
    },
    {
     "name": "stdout",
     "output_type": "stream",
     "text": [
      "Fitted sphere radius:         105.4 mm\n",
      "Origin head coordinates:      3.9 -2.1 48.2 mm\n",
      "Origin device coordinates:    3.9 -2.1 48.2 mm\n"
     ]
    },
    {
     "name": "stderr",
     "output_type": "stream",
     "text": [
      "/home/christian/code/acareeg/acareeg/lemon.py:58: RuntimeWarning: Limited 1 annotation(s) that were expanding outside the data range.\n",
      "  raw = mne.io.read_raw_eeglab(str(Path(root_path) / eeg_rel_path / f\"sub-{subject}_{event_id}.set\"), verbose=False)\n",
      "/home/christian/code/acareeg/acareeg/lemon.py:58: RuntimeWarning: The data contains 'boundary' events, indicating data discontinuities. Be cautious of filtering and epoching around these events.\n",
      "  raw = mne.io.read_raw_eeglab(str(Path(root_path) / eeg_rel_path / f\"sub-{subject}_{event_id}.set\"), verbose=False)\n",
      "/home/christian/code/acareeg/acareeg/lemon.py:58: RuntimeWarning: Limited 1 annotation(s) that were expanding outside the data range.\n",
      "  raw = mne.io.read_raw_eeglab(str(Path(root_path) / eeg_rel_path / f\"sub-{subject}_{event_id}.set\"), verbose=False)\n",
      "/home/christian/code/acareeg/acareeg/lemon.py:58: RuntimeWarning: The data contains 'boundary' events, indicating data discontinuities. Be cautious of filtering and epoching around these events.\n",
      "  raw = mne.io.read_raw_eeglab(str(Path(root_path) / eeg_rel_path / f\"sub-{subject}_{event_id}.set\"), verbose=False)\n"
     ]
    },
    {
     "name": "stdout",
     "output_type": "stream",
     "text": [
      "Fitted sphere radius:         102.8 mm\n",
      "Origin head coordinates:      4.6 -3.7 51.4 mm\n",
      "Origin device coordinates:    4.6 -3.7 51.4 mm\n"
     ]
    },
    {
     "name": "stderr",
     "output_type": "stream",
     "text": [
      "/home/christian/code/acareeg/acareeg/lemon.py:58: RuntimeWarning: Limited 1 annotation(s) that were expanding outside the data range.\n",
      "  raw = mne.io.read_raw_eeglab(str(Path(root_path) / eeg_rel_path / f\"sub-{subject}_{event_id}.set\"), verbose=False)\n",
      "/home/christian/code/acareeg/acareeg/lemon.py:58: RuntimeWarning: The data contains 'boundary' events, indicating data discontinuities. Be cautious of filtering and epoching around these events.\n",
      "  raw = mne.io.read_raw_eeglab(str(Path(root_path) / eeg_rel_path / f\"sub-{subject}_{event_id}.set\"), verbose=False)\n",
      "/home/christian/code/acareeg/acareeg/lemon.py:58: RuntimeWarning: Limited 1 annotation(s) that were expanding outside the data range.\n",
      "  raw = mne.io.read_raw_eeglab(str(Path(root_path) / eeg_rel_path / f\"sub-{subject}_{event_id}.set\"), verbose=False)\n",
      "/home/christian/code/acareeg/acareeg/lemon.py:58: RuntimeWarning: The data contains 'boundary' events, indicating data discontinuities. Be cautious of filtering and epoching around these events.\n",
      "  raw = mne.io.read_raw_eeglab(str(Path(root_path) / eeg_rel_path / f\"sub-{subject}_{event_id}.set\"), verbose=False)\n"
     ]
    },
    {
     "name": "stdout",
     "output_type": "stream",
     "text": [
      "Fitted sphere radius:         102.6 mm\n",
      "Origin head coordinates:      2.5 4.4 40.7 mm\n",
      "Origin device coordinates:    2.5 4.4 40.7 mm\n"
     ]
    },
    {
     "name": "stderr",
     "output_type": "stream",
     "text": [
      "/home/christian/code/acareeg/acareeg/lemon.py:58: RuntimeWarning: Limited 1 annotation(s) that were expanding outside the data range.\n",
      "  raw = mne.io.read_raw_eeglab(str(Path(root_path) / eeg_rel_path / f\"sub-{subject}_{event_id}.set\"), verbose=False)\n",
      "/home/christian/code/acareeg/acareeg/lemon.py:58: RuntimeWarning: The data contains 'boundary' events, indicating data discontinuities. Be cautious of filtering and epoching around these events.\n",
      "  raw = mne.io.read_raw_eeglab(str(Path(root_path) / eeg_rel_path / f\"sub-{subject}_{event_id}.set\"), verbose=False)\n",
      "/home/christian/code/acareeg/acareeg/lemon.py:58: RuntimeWarning: Limited 1 annotation(s) that were expanding outside the data range.\n",
      "  raw = mne.io.read_raw_eeglab(str(Path(root_path) / eeg_rel_path / f\"sub-{subject}_{event_id}.set\"), verbose=False)\n",
      "/home/christian/code/acareeg/acareeg/lemon.py:58: RuntimeWarning: The data contains 'boundary' events, indicating data discontinuities. Be cautious of filtering and epoching around these events.\n",
      "  raw = mne.io.read_raw_eeglab(str(Path(root_path) / eeg_rel_path / f\"sub-{subject}_{event_id}.set\"), verbose=False)\n"
     ]
    },
    {
     "name": "stdout",
     "output_type": "stream",
     "text": [
      "Fitted sphere radius:         91.1 mm\n",
      "Origin head coordinates:      -7.4 -14.2 -48.0 mm\n",
      "Origin device coordinates:    -7.4 -14.2 -48.0 mm\n"
     ]
    },
    {
     "name": "stderr",
     "output_type": "stream",
     "text": [
      "/home/christian/code/acareeg/acareeg/lemon.py:58: RuntimeWarning: Limited 1 annotation(s) that were expanding outside the data range.\n",
      "  raw = mne.io.read_raw_eeglab(str(Path(root_path) / eeg_rel_path / f\"sub-{subject}_{event_id}.set\"), verbose=False)\n",
      "/home/christian/code/acareeg/acareeg/lemon.py:58: RuntimeWarning: The data contains 'boundary' events, indicating data discontinuities. Be cautious of filtering and epoching around these events.\n",
      "  raw = mne.io.read_raw_eeglab(str(Path(root_path) / eeg_rel_path / f\"sub-{subject}_{event_id}.set\"), verbose=False)\n",
      "/home/christian/code/acareeg/acareeg/lemon.py:58: RuntimeWarning: Limited 1 annotation(s) that were expanding outside the data range.\n",
      "  raw = mne.io.read_raw_eeglab(str(Path(root_path) / eeg_rel_path / f\"sub-{subject}_{event_id}.set\"), verbose=False)\n",
      "/home/christian/code/acareeg/acareeg/lemon.py:58: RuntimeWarning: The data contains 'boundary' events, indicating data discontinuities. Be cautious of filtering and epoching around these events.\n",
      "  raw = mne.io.read_raw_eeglab(str(Path(root_path) / eeg_rel_path / f\"sub-{subject}_{event_id}.set\"), verbose=False)\n"
     ]
    },
    {
     "name": "stdout",
     "output_type": "stream",
     "text": [
      "Fitted sphere radius:         103.0 mm\n",
      "Origin head coordinates:      1.1 3.7 32.9 mm\n",
      "Origin device coordinates:    1.1 3.7 32.9 mm\n"
     ]
    },
    {
     "name": "stderr",
     "output_type": "stream",
     "text": [
      "/home/christian/code/acareeg/acareeg/lemon.py:58: RuntimeWarning: Limited 1 annotation(s) that were expanding outside the data range.\n",
      "  raw = mne.io.read_raw_eeglab(str(Path(root_path) / eeg_rel_path / f\"sub-{subject}_{event_id}.set\"), verbose=False)\n",
      "/home/christian/code/acareeg/acareeg/lemon.py:58: RuntimeWarning: The data contains 'boundary' events, indicating data discontinuities. Be cautious of filtering and epoching around these events.\n",
      "  raw = mne.io.read_raw_eeglab(str(Path(root_path) / eeg_rel_path / f\"sub-{subject}_{event_id}.set\"), verbose=False)\n",
      "/home/christian/code/acareeg/acareeg/lemon.py:58: RuntimeWarning: Limited 1 annotation(s) that were expanding outside the data range.\n",
      "  raw = mne.io.read_raw_eeglab(str(Path(root_path) / eeg_rel_path / f\"sub-{subject}_{event_id}.set\"), verbose=False)\n",
      "/home/christian/code/acareeg/acareeg/lemon.py:58: RuntimeWarning: The data contains 'boundary' events, indicating data discontinuities. Be cautious of filtering and epoching around these events.\n",
      "  raw = mne.io.read_raw_eeglab(str(Path(root_path) / eeg_rel_path / f\"sub-{subject}_{event_id}.set\"), verbose=False)\n"
     ]
    },
    {
     "name": "stdout",
     "output_type": "stream",
     "text": [
      "Fitted sphere radius:         102.8 mm\n",
      "Origin head coordinates:      3.6 4.3 35.9 mm\n",
      "Origin device coordinates:    3.6 4.3 35.9 mm\n"
     ]
    },
    {
     "name": "stderr",
     "output_type": "stream",
     "text": [
      "/home/christian/code/acareeg/acareeg/lemon.py:58: RuntimeWarning: Limited 1 annotation(s) that were expanding outside the data range.\n",
      "  raw = mne.io.read_raw_eeglab(str(Path(root_path) / eeg_rel_path / f\"sub-{subject}_{event_id}.set\"), verbose=False)\n",
      "/home/christian/code/acareeg/acareeg/lemon.py:58: RuntimeWarning: The data contains 'boundary' events, indicating data discontinuities. Be cautious of filtering and epoching around these events.\n",
      "  raw = mne.io.read_raw_eeglab(str(Path(root_path) / eeg_rel_path / f\"sub-{subject}_{event_id}.set\"), verbose=False)\n",
      "/home/christian/code/acareeg/acareeg/lemon.py:58: RuntimeWarning: Limited 1 annotation(s) that were expanding outside the data range.\n",
      "  raw = mne.io.read_raw_eeglab(str(Path(root_path) / eeg_rel_path / f\"sub-{subject}_{event_id}.set\"), verbose=False)\n",
      "/home/christian/code/acareeg/acareeg/lemon.py:58: RuntimeWarning: The data contains 'boundary' events, indicating data discontinuities. Be cautious of filtering and epoching around these events.\n",
      "  raw = mne.io.read_raw_eeglab(str(Path(root_path) / eeg_rel_path / f\"sub-{subject}_{event_id}.set\"), verbose=False)\n"
     ]
    },
    {
     "name": "stdout",
     "output_type": "stream",
     "text": [
      "Fitted sphere radius:         94.7 mm\n",
      "Origin head coordinates:      3.2 1.4 38.3 mm\n",
      "Origin device coordinates:    3.2 1.4 38.3 mm\n"
     ]
    },
    {
     "name": "stderr",
     "output_type": "stream",
     "text": [
      "/home/christian/code/acareeg/acareeg/lemon.py:58: RuntimeWarning: Limited 1 annotation(s) that were expanding outside the data range.\n",
      "  raw = mne.io.read_raw_eeglab(str(Path(root_path) / eeg_rel_path / f\"sub-{subject}_{event_id}.set\"), verbose=False)\n",
      "/home/christian/code/acareeg/acareeg/lemon.py:58: RuntimeWarning: The data contains 'boundary' events, indicating data discontinuities. Be cautious of filtering and epoching around these events.\n",
      "  raw = mne.io.read_raw_eeglab(str(Path(root_path) / eeg_rel_path / f\"sub-{subject}_{event_id}.set\"), verbose=False)\n",
      "/home/christian/code/acareeg/acareeg/lemon.py:58: RuntimeWarning: Limited 1 annotation(s) that were expanding outside the data range.\n",
      "  raw = mne.io.read_raw_eeglab(str(Path(root_path) / eeg_rel_path / f\"sub-{subject}_{event_id}.set\"), verbose=False)\n",
      "/home/christian/code/acareeg/acareeg/lemon.py:58: RuntimeWarning: The data contains 'boundary' events, indicating data discontinuities. Be cautious of filtering and epoching around these events.\n",
      "  raw = mne.io.read_raw_eeglab(str(Path(root_path) / eeg_rel_path / f\"sub-{subject}_{event_id}.set\"), verbose=False)\n"
     ]
    },
    {
     "name": "stdout",
     "output_type": "stream",
     "text": [
      "Fitted sphere radius:         99.9 mm\n",
      "Origin head coordinates:      4.8 -1.5 31.8 mm\n",
      "Origin device coordinates:    4.8 -1.5 31.8 mm\n"
     ]
    },
    {
     "name": "stderr",
     "output_type": "stream",
     "text": [
      "/home/christian/code/acareeg/acareeg/lemon.py:58: RuntimeWarning: Limited 1 annotation(s) that were expanding outside the data range.\n",
      "  raw = mne.io.read_raw_eeglab(str(Path(root_path) / eeg_rel_path / f\"sub-{subject}_{event_id}.set\"), verbose=False)\n",
      "/home/christian/code/acareeg/acareeg/lemon.py:58: RuntimeWarning: The data contains 'boundary' events, indicating data discontinuities. Be cautious of filtering and epoching around these events.\n",
      "  raw = mne.io.read_raw_eeglab(str(Path(root_path) / eeg_rel_path / f\"sub-{subject}_{event_id}.set\"), verbose=False)\n",
      "/home/christian/code/acareeg/acareeg/lemon.py:58: RuntimeWarning: Limited 1 annotation(s) that were expanding outside the data range.\n",
      "  raw = mne.io.read_raw_eeglab(str(Path(root_path) / eeg_rel_path / f\"sub-{subject}_{event_id}.set\"), verbose=False)\n",
      "/home/christian/code/acareeg/acareeg/lemon.py:58: RuntimeWarning: The data contains 'boundary' events, indicating data discontinuities. Be cautious of filtering and epoching around these events.\n",
      "  raw = mne.io.read_raw_eeglab(str(Path(root_path) / eeg_rel_path / f\"sub-{subject}_{event_id}.set\"), verbose=False)\n"
     ]
    },
    {
     "name": "stdout",
     "output_type": "stream",
     "text": [
      "Fitted sphere radius:         100.2 mm\n",
      "Origin head coordinates:      3.0 3.9 41.0 mm\n",
      "Origin device coordinates:    3.0 3.9 41.0 mm\n"
     ]
    },
    {
     "name": "stderr",
     "output_type": "stream",
     "text": [
      "/home/christian/code/acareeg/acareeg/lemon.py:58: RuntimeWarning: Limited 1 annotation(s) that were expanding outside the data range.\n",
      "  raw = mne.io.read_raw_eeglab(str(Path(root_path) / eeg_rel_path / f\"sub-{subject}_{event_id}.set\"), verbose=False)\n",
      "/home/christian/code/acareeg/acareeg/lemon.py:58: RuntimeWarning: The data contains 'boundary' events, indicating data discontinuities. Be cautious of filtering and epoching around these events.\n",
      "  raw = mne.io.read_raw_eeglab(str(Path(root_path) / eeg_rel_path / f\"sub-{subject}_{event_id}.set\"), verbose=False)\n",
      "/home/christian/code/acareeg/acareeg/lemon.py:58: RuntimeWarning: Limited 1 annotation(s) that were expanding outside the data range.\n",
      "  raw = mne.io.read_raw_eeglab(str(Path(root_path) / eeg_rel_path / f\"sub-{subject}_{event_id}.set\"), verbose=False)\n",
      "/home/christian/code/acareeg/acareeg/lemon.py:58: RuntimeWarning: The data contains 'boundary' events, indicating data discontinuities. Be cautious of filtering and epoching around these events.\n",
      "  raw = mne.io.read_raw_eeglab(str(Path(root_path) / eeg_rel_path / f\"sub-{subject}_{event_id}.set\"), verbose=False)\n"
     ]
    },
    {
     "name": "stdout",
     "output_type": "stream",
     "text": [
      "Fitted sphere radius:         102.4 mm\n",
      "Origin head coordinates:      3.4 -1.1 38.6 mm\n",
      "Origin device coordinates:    3.4 -1.1 38.6 mm\n"
     ]
    },
    {
     "name": "stderr",
     "output_type": "stream",
     "text": [
      "/home/christian/code/acareeg/acareeg/lemon.py:58: RuntimeWarning: Limited 1 annotation(s) that were expanding outside the data range.\n",
      "  raw = mne.io.read_raw_eeglab(str(Path(root_path) / eeg_rel_path / f\"sub-{subject}_{event_id}.set\"), verbose=False)\n",
      "/home/christian/code/acareeg/acareeg/lemon.py:58: RuntimeWarning: The data contains 'boundary' events, indicating data discontinuities. Be cautious of filtering and epoching around these events.\n",
      "  raw = mne.io.read_raw_eeglab(str(Path(root_path) / eeg_rel_path / f\"sub-{subject}_{event_id}.set\"), verbose=False)\n",
      "/home/christian/code/acareeg/acareeg/lemon.py:58: RuntimeWarning: Limited 1 annotation(s) that were expanding outside the data range.\n",
      "  raw = mne.io.read_raw_eeglab(str(Path(root_path) / eeg_rel_path / f\"sub-{subject}_{event_id}.set\"), verbose=False)\n",
      "/home/christian/code/acareeg/acareeg/lemon.py:58: RuntimeWarning: The data contains 'boundary' events, indicating data discontinuities. Be cautious of filtering and epoching around these events.\n",
      "  raw = mne.io.read_raw_eeglab(str(Path(root_path) / eeg_rel_path / f\"sub-{subject}_{event_id}.set\"), verbose=False)\n"
     ]
    },
    {
     "name": "stdout",
     "output_type": "stream",
     "text": [
      "Fitted sphere radius:         92.0 mm\n",
      "Origin head coordinates:      -8.6 -17.2 -43.7 mm\n",
      "Origin device coordinates:    -8.6 -17.2 -43.7 mm\n"
     ]
    },
    {
     "name": "stderr",
     "output_type": "stream",
     "text": [
      "/home/christian/code/acareeg/acareeg/lemon.py:58: RuntimeWarning: Limited 1 annotation(s) that were expanding outside the data range.\n",
      "  raw = mne.io.read_raw_eeglab(str(Path(root_path) / eeg_rel_path / f\"sub-{subject}_{event_id}.set\"), verbose=False)\n",
      "/home/christian/code/acareeg/acareeg/lemon.py:58: RuntimeWarning: The data contains 'boundary' events, indicating data discontinuities. Be cautious of filtering and epoching around these events.\n",
      "  raw = mne.io.read_raw_eeglab(str(Path(root_path) / eeg_rel_path / f\"sub-{subject}_{event_id}.set\"), verbose=False)\n",
      "/home/christian/code/acareeg/acareeg/lemon.py:58: RuntimeWarning: Limited 1 annotation(s) that were expanding outside the data range.\n",
      "  raw = mne.io.read_raw_eeglab(str(Path(root_path) / eeg_rel_path / f\"sub-{subject}_{event_id}.set\"), verbose=False)\n",
      "/home/christian/code/acareeg/acareeg/lemon.py:58: RuntimeWarning: The data contains 'boundary' events, indicating data discontinuities. Be cautious of filtering and epoching around these events.\n",
      "  raw = mne.io.read_raw_eeglab(str(Path(root_path) / eeg_rel_path / f\"sub-{subject}_{event_id}.set\"), verbose=False)\n"
     ]
    },
    {
     "name": "stdout",
     "output_type": "stream",
     "text": [
      "Fitted sphere radius:         95.0 mm\n",
      "Origin head coordinates:      -2.9 -1.3 37.2 mm\n",
      "Origin device coordinates:    -2.9 -1.3 37.2 mm\n"
     ]
    },
    {
     "name": "stderr",
     "output_type": "stream",
     "text": [
      "/home/christian/code/acareeg/acareeg/lemon.py:58: RuntimeWarning: Limited 1 annotation(s) that were expanding outside the data range.\n",
      "  raw = mne.io.read_raw_eeglab(str(Path(root_path) / eeg_rel_path / f\"sub-{subject}_{event_id}.set\"), verbose=False)\n",
      "/home/christian/code/acareeg/acareeg/lemon.py:58: RuntimeWarning: The data contains 'boundary' events, indicating data discontinuities. Be cautious of filtering and epoching around these events.\n",
      "  raw = mne.io.read_raw_eeglab(str(Path(root_path) / eeg_rel_path / f\"sub-{subject}_{event_id}.set\"), verbose=False)\n",
      "/home/christian/code/acareeg/acareeg/lemon.py:58: RuntimeWarning: Limited 1 annotation(s) that were expanding outside the data range.\n",
      "  raw = mne.io.read_raw_eeglab(str(Path(root_path) / eeg_rel_path / f\"sub-{subject}_{event_id}.set\"), verbose=False)\n",
      "/home/christian/code/acareeg/acareeg/lemon.py:58: RuntimeWarning: The data contains 'boundary' events, indicating data discontinuities. Be cautious of filtering and epoching around these events.\n",
      "  raw = mne.io.read_raw_eeglab(str(Path(root_path) / eeg_rel_path / f\"sub-{subject}_{event_id}.set\"), verbose=False)\n"
     ]
    },
    {
     "name": "stdout",
     "output_type": "stream",
     "text": [
      "Fitted sphere radius:         94.5 mm\n",
      "Origin head coordinates:      2.8 3.6 38.2 mm\n",
      "Origin device coordinates:    2.8 3.6 38.2 mm\n"
     ]
    },
    {
     "name": "stderr",
     "output_type": "stream",
     "text": [
      "/home/christian/code/acareeg/acareeg/lemon.py:58: RuntimeWarning: Limited 1 annotation(s) that were expanding outside the data range.\n",
      "  raw = mne.io.read_raw_eeglab(str(Path(root_path) / eeg_rel_path / f\"sub-{subject}_{event_id}.set\"), verbose=False)\n",
      "/home/christian/code/acareeg/acareeg/lemon.py:58: RuntimeWarning: The data contains 'boundary' events, indicating data discontinuities. Be cautious of filtering and epoching around these events.\n",
      "  raw = mne.io.read_raw_eeglab(str(Path(root_path) / eeg_rel_path / f\"sub-{subject}_{event_id}.set\"), verbose=False)\n",
      "/home/christian/code/acareeg/acareeg/lemon.py:58: RuntimeWarning: Limited 1 annotation(s) that were expanding outside the data range.\n",
      "  raw = mne.io.read_raw_eeglab(str(Path(root_path) / eeg_rel_path / f\"sub-{subject}_{event_id}.set\"), verbose=False)\n",
      "/home/christian/code/acareeg/acareeg/lemon.py:58: RuntimeWarning: The data contains 'boundary' events, indicating data discontinuities. Be cautious of filtering and epoching around these events.\n",
      "  raw = mne.io.read_raw_eeglab(str(Path(root_path) / eeg_rel_path / f\"sub-{subject}_{event_id}.set\"), verbose=False)\n"
     ]
    },
    {
     "name": "stdout",
     "output_type": "stream",
     "text": [
      "Fitted sphere radius:         99.7 mm\n",
      "Origin head coordinates:      4.2 6.9 49.8 mm\n",
      "Origin device coordinates:    4.2 6.9 49.8 mm\n"
     ]
    },
    {
     "name": "stderr",
     "output_type": "stream",
     "text": [
      "/home/christian/code/acareeg/acareeg/lemon.py:58: RuntimeWarning: Limited 1 annotation(s) that were expanding outside the data range.\n",
      "  raw = mne.io.read_raw_eeglab(str(Path(root_path) / eeg_rel_path / f\"sub-{subject}_{event_id}.set\"), verbose=False)\n",
      "/home/christian/code/acareeg/acareeg/lemon.py:58: RuntimeWarning: The data contains 'boundary' events, indicating data discontinuities. Be cautious of filtering and epoching around these events.\n",
      "  raw = mne.io.read_raw_eeglab(str(Path(root_path) / eeg_rel_path / f\"sub-{subject}_{event_id}.set\"), verbose=False)\n",
      "/home/christian/code/acareeg/acareeg/lemon.py:58: RuntimeWarning: Limited 1 annotation(s) that were expanding outside the data range.\n",
      "  raw = mne.io.read_raw_eeglab(str(Path(root_path) / eeg_rel_path / f\"sub-{subject}_{event_id}.set\"), verbose=False)\n",
      "/home/christian/code/acareeg/acareeg/lemon.py:58: RuntimeWarning: The data contains 'boundary' events, indicating data discontinuities. Be cautious of filtering and epoching around these events.\n",
      "  raw = mne.io.read_raw_eeglab(str(Path(root_path) / eeg_rel_path / f\"sub-{subject}_{event_id}.set\"), verbose=False)\n"
     ]
    },
    {
     "name": "stdout",
     "output_type": "stream",
     "text": [
      "Fitted sphere radius:         94.8 mm\n",
      "Origin head coordinates:      0.9 -2.0 43.7 mm\n",
      "Origin device coordinates:    0.9 -2.0 43.7 mm\n"
     ]
    },
    {
     "name": "stderr",
     "output_type": "stream",
     "text": [
      "/home/christian/code/acareeg/acareeg/lemon.py:58: RuntimeWarning: Limited 1 annotation(s) that were expanding outside the data range.\n",
      "  raw = mne.io.read_raw_eeglab(str(Path(root_path) / eeg_rel_path / f\"sub-{subject}_{event_id}.set\"), verbose=False)\n",
      "/home/christian/code/acareeg/acareeg/lemon.py:58: RuntimeWarning: The data contains 'boundary' events, indicating data discontinuities. Be cautious of filtering and epoching around these events.\n",
      "  raw = mne.io.read_raw_eeglab(str(Path(root_path) / eeg_rel_path / f\"sub-{subject}_{event_id}.set\"), verbose=False)\n",
      "/home/christian/code/acareeg/acareeg/lemon.py:58: RuntimeWarning: Limited 1 annotation(s) that were expanding outside the data range.\n",
      "  raw = mne.io.read_raw_eeglab(str(Path(root_path) / eeg_rel_path / f\"sub-{subject}_{event_id}.set\"), verbose=False)\n",
      "/home/christian/code/acareeg/acareeg/lemon.py:58: RuntimeWarning: The data contains 'boundary' events, indicating data discontinuities. Be cautious of filtering and epoching around these events.\n",
      "  raw = mne.io.read_raw_eeglab(str(Path(root_path) / eeg_rel_path / f\"sub-{subject}_{event_id}.set\"), verbose=False)\n"
     ]
    },
    {
     "name": "stdout",
     "output_type": "stream",
     "text": [
      "Fitted sphere radius:         98.8 mm\n",
      "Origin head coordinates:      3.6 3.6 46.5 mm\n",
      "Origin device coordinates:    3.6 3.6 46.5 mm\n"
     ]
    },
    {
     "name": "stderr",
     "output_type": "stream",
     "text": [
      "/home/christian/code/acareeg/acareeg/lemon.py:58: RuntimeWarning: Limited 1 annotation(s) that were expanding outside the data range.\n",
      "  raw = mne.io.read_raw_eeglab(str(Path(root_path) / eeg_rel_path / f\"sub-{subject}_{event_id}.set\"), verbose=False)\n",
      "/home/christian/code/acareeg/acareeg/lemon.py:58: RuntimeWarning: The data contains 'boundary' events, indicating data discontinuities. Be cautious of filtering and epoching around these events.\n",
      "  raw = mne.io.read_raw_eeglab(str(Path(root_path) / eeg_rel_path / f\"sub-{subject}_{event_id}.set\"), verbose=False)\n",
      "/home/christian/code/acareeg/acareeg/lemon.py:58: RuntimeWarning: Limited 1 annotation(s) that were expanding outside the data range.\n",
      "  raw = mne.io.read_raw_eeglab(str(Path(root_path) / eeg_rel_path / f\"sub-{subject}_{event_id}.set\"), verbose=False)\n",
      "/home/christian/code/acareeg/acareeg/lemon.py:58: RuntimeWarning: The data contains 'boundary' events, indicating data discontinuities. Be cautious of filtering and epoching around these events.\n",
      "  raw = mne.io.read_raw_eeglab(str(Path(root_path) / eeg_rel_path / f\"sub-{subject}_{event_id}.set\"), verbose=False)\n"
     ]
    },
    {
     "name": "stdout",
     "output_type": "stream",
     "text": [
      "Fitted sphere radius:         100.2 mm\n",
      "Origin head coordinates:      6.6 5.4 38.2 mm\n",
      "Origin device coordinates:    6.6 5.4 38.2 mm\n"
     ]
    },
    {
     "name": "stderr",
     "output_type": "stream",
     "text": [
      "/home/christian/code/acareeg/acareeg/lemon.py:58: RuntimeWarning: Limited 1 annotation(s) that were expanding outside the data range.\n",
      "  raw = mne.io.read_raw_eeglab(str(Path(root_path) / eeg_rel_path / f\"sub-{subject}_{event_id}.set\"), verbose=False)\n",
      "/home/christian/code/acareeg/acareeg/lemon.py:58: RuntimeWarning: The data contains 'boundary' events, indicating data discontinuities. Be cautious of filtering and epoching around these events.\n",
      "  raw = mne.io.read_raw_eeglab(str(Path(root_path) / eeg_rel_path / f\"sub-{subject}_{event_id}.set\"), verbose=False)\n",
      "/home/christian/code/acareeg/acareeg/lemon.py:58: RuntimeWarning: Limited 1 annotation(s) that were expanding outside the data range.\n",
      "  raw = mne.io.read_raw_eeglab(str(Path(root_path) / eeg_rel_path / f\"sub-{subject}_{event_id}.set\"), verbose=False)\n",
      "/home/christian/code/acareeg/acareeg/lemon.py:58: RuntimeWarning: The data contains 'boundary' events, indicating data discontinuities. Be cautious of filtering and epoching around these events.\n",
      "  raw = mne.io.read_raw_eeglab(str(Path(root_path) / eeg_rel_path / f\"sub-{subject}_{event_id}.set\"), verbose=False)\n"
     ]
    },
    {
     "name": "stdout",
     "output_type": "stream",
     "text": [
      "Fitted sphere radius:         99.1 mm\n",
      "Origin head coordinates:      0.3 5.6 46.1 mm\n",
      "Origin device coordinates:    0.3 5.6 46.1 mm\n"
     ]
    },
    {
     "name": "stderr",
     "output_type": "stream",
     "text": [
      "/home/christian/code/acareeg/acareeg/lemon.py:58: RuntimeWarning: Limited 1 annotation(s) that were expanding outside the data range.\n",
      "  raw = mne.io.read_raw_eeglab(str(Path(root_path) / eeg_rel_path / f\"sub-{subject}_{event_id}.set\"), verbose=False)\n",
      "/home/christian/code/acareeg/acareeg/lemon.py:58: RuntimeWarning: The data contains 'boundary' events, indicating data discontinuities. Be cautious of filtering and epoching around these events.\n",
      "  raw = mne.io.read_raw_eeglab(str(Path(root_path) / eeg_rel_path / f\"sub-{subject}_{event_id}.set\"), verbose=False)\n",
      "/home/christian/code/acareeg/acareeg/lemon.py:58: RuntimeWarning: Limited 1 annotation(s) that were expanding outside the data range.\n",
      "  raw = mne.io.read_raw_eeglab(str(Path(root_path) / eeg_rel_path / f\"sub-{subject}_{event_id}.set\"), verbose=False)\n",
      "/home/christian/code/acareeg/acareeg/lemon.py:58: RuntimeWarning: The data contains 'boundary' events, indicating data discontinuities. Be cautious of filtering and epoching around these events.\n",
      "  raw = mne.io.read_raw_eeglab(str(Path(root_path) / eeg_rel_path / f\"sub-{subject}_{event_id}.set\"), verbose=False)\n"
     ]
    },
    {
     "name": "stdout",
     "output_type": "stream",
     "text": [
      "Fitted sphere radius:         96.0 mm\n",
      "Origin head coordinates:      5.0 -7.1 38.0 mm\n",
      "Origin device coordinates:    5.0 -7.1 38.0 mm\n"
     ]
    },
    {
     "name": "stderr",
     "output_type": "stream",
     "text": [
      "/home/christian/code/acareeg/acareeg/lemon.py:58: RuntimeWarning: Limited 1 annotation(s) that were expanding outside the data range.\n",
      "  raw = mne.io.read_raw_eeglab(str(Path(root_path) / eeg_rel_path / f\"sub-{subject}_{event_id}.set\"), verbose=False)\n",
      "/home/christian/code/acareeg/acareeg/lemon.py:58: RuntimeWarning: The data contains 'boundary' events, indicating data discontinuities. Be cautious of filtering and epoching around these events.\n",
      "  raw = mne.io.read_raw_eeglab(str(Path(root_path) / eeg_rel_path / f\"sub-{subject}_{event_id}.set\"), verbose=False)\n",
      "/home/christian/code/acareeg/acareeg/lemon.py:58: RuntimeWarning: Limited 1 annotation(s) that were expanding outside the data range.\n",
      "  raw = mne.io.read_raw_eeglab(str(Path(root_path) / eeg_rel_path / f\"sub-{subject}_{event_id}.set\"), verbose=False)\n",
      "/home/christian/code/acareeg/acareeg/lemon.py:58: RuntimeWarning: The data contains 'boundary' events, indicating data discontinuities. Be cautious of filtering and epoching around these events.\n",
      "  raw = mne.io.read_raw_eeglab(str(Path(root_path) / eeg_rel_path / f\"sub-{subject}_{event_id}.set\"), verbose=False)\n"
     ]
    },
    {
     "name": "stdout",
     "output_type": "stream",
     "text": [
      "Fitted sphere radius:         102.7 mm\n",
      "Origin head coordinates:      2.5 1.8 42.7 mm\n",
      "Origin device coordinates:    2.5 1.8 42.7 mm\n"
     ]
    },
    {
     "name": "stderr",
     "output_type": "stream",
     "text": [
      "/home/christian/code/acareeg/acareeg/lemon.py:58: RuntimeWarning: Limited 1 annotation(s) that were expanding outside the data range.\n",
      "  raw = mne.io.read_raw_eeglab(str(Path(root_path) / eeg_rel_path / f\"sub-{subject}_{event_id}.set\"), verbose=False)\n",
      "/home/christian/code/acareeg/acareeg/lemon.py:58: RuntimeWarning: The data contains 'boundary' events, indicating data discontinuities. Be cautious of filtering and epoching around these events.\n",
      "  raw = mne.io.read_raw_eeglab(str(Path(root_path) / eeg_rel_path / f\"sub-{subject}_{event_id}.set\"), verbose=False)\n",
      "/home/christian/code/acareeg/acareeg/lemon.py:58: RuntimeWarning: Limited 1 annotation(s) that were expanding outside the data range.\n",
      "  raw = mne.io.read_raw_eeglab(str(Path(root_path) / eeg_rel_path / f\"sub-{subject}_{event_id}.set\"), verbose=False)\n",
      "/home/christian/code/acareeg/acareeg/lemon.py:58: RuntimeWarning: The data contains 'boundary' events, indicating data discontinuities. Be cautious of filtering and epoching around these events.\n",
      "  raw = mne.io.read_raw_eeglab(str(Path(root_path) / eeg_rel_path / f\"sub-{subject}_{event_id}.set\"), verbose=False)\n"
     ]
    },
    {
     "name": "stdout",
     "output_type": "stream",
     "text": [
      "Fitted sphere radius:         103.1 mm\n",
      "Origin head coordinates:      3.2 10.6 38.9 mm\n",
      "Origin device coordinates:    3.2 10.6 38.9 mm\n"
     ]
    },
    {
     "name": "stderr",
     "output_type": "stream",
     "text": [
      "/home/christian/code/acareeg/acareeg/lemon.py:58: RuntimeWarning: Limited 1 annotation(s) that were expanding outside the data range.\n",
      "  raw = mne.io.read_raw_eeglab(str(Path(root_path) / eeg_rel_path / f\"sub-{subject}_{event_id}.set\"), verbose=False)\n",
      "/home/christian/code/acareeg/acareeg/lemon.py:58: RuntimeWarning: The data contains 'boundary' events, indicating data discontinuities. Be cautious of filtering and epoching around these events.\n",
      "  raw = mne.io.read_raw_eeglab(str(Path(root_path) / eeg_rel_path / f\"sub-{subject}_{event_id}.set\"), verbose=False)\n",
      "/home/christian/code/acareeg/acareeg/lemon.py:58: RuntimeWarning: Limited 1 annotation(s) that were expanding outside the data range.\n",
      "  raw = mne.io.read_raw_eeglab(str(Path(root_path) / eeg_rel_path / f\"sub-{subject}_{event_id}.set\"), verbose=False)\n",
      "/home/christian/code/acareeg/acareeg/lemon.py:58: RuntimeWarning: The data contains 'boundary' events, indicating data discontinuities. Be cautious of filtering and epoching around these events.\n",
      "  raw = mne.io.read_raw_eeglab(str(Path(root_path) / eeg_rel_path / f\"sub-{subject}_{event_id}.set\"), verbose=False)\n"
     ]
    },
    {
     "name": "stdout",
     "output_type": "stream",
     "text": [
      "Fitted sphere radius:         97.3 mm\n",
      "Origin head coordinates:      2.8 -1.4 42.2 mm\n",
      "Origin device coordinates:    2.8 -1.4 42.2 mm\n"
     ]
    },
    {
     "name": "stderr",
     "output_type": "stream",
     "text": [
      "/home/christian/code/acareeg/acareeg/lemon.py:58: RuntimeWarning: Limited 1 annotation(s) that were expanding outside the data range.\n",
      "  raw = mne.io.read_raw_eeglab(str(Path(root_path) / eeg_rel_path / f\"sub-{subject}_{event_id}.set\"), verbose=False)\n",
      "/home/christian/code/acareeg/acareeg/lemon.py:58: RuntimeWarning: The data contains 'boundary' events, indicating data discontinuities. Be cautious of filtering and epoching around these events.\n",
      "  raw = mne.io.read_raw_eeglab(str(Path(root_path) / eeg_rel_path / f\"sub-{subject}_{event_id}.set\"), verbose=False)\n",
      "/home/christian/code/acareeg/acareeg/lemon.py:58: RuntimeWarning: Limited 1 annotation(s) that were expanding outside the data range.\n",
      "  raw = mne.io.read_raw_eeglab(str(Path(root_path) / eeg_rel_path / f\"sub-{subject}_{event_id}.set\"), verbose=False)\n",
      "/home/christian/code/acareeg/acareeg/lemon.py:58: RuntimeWarning: The data contains 'boundary' events, indicating data discontinuities. Be cautious of filtering and epoching around these events.\n",
      "  raw = mne.io.read_raw_eeglab(str(Path(root_path) / eeg_rel_path / f\"sub-{subject}_{event_id}.set\"), verbose=False)\n"
     ]
    },
    {
     "name": "stdout",
     "output_type": "stream",
     "text": [
      "Fitted sphere radius:         96.7 mm\n",
      "Origin head coordinates:      4.0 2.2 39.5 mm\n",
      "Origin device coordinates:    4.0 2.2 39.5 mm\n"
     ]
    },
    {
     "name": "stderr",
     "output_type": "stream",
     "text": [
      "/home/christian/code/acareeg/acareeg/lemon.py:58: RuntimeWarning: Limited 1 annotation(s) that were expanding outside the data range.\n",
      "  raw = mne.io.read_raw_eeglab(str(Path(root_path) / eeg_rel_path / f\"sub-{subject}_{event_id}.set\"), verbose=False)\n",
      "/home/christian/code/acareeg/acareeg/lemon.py:58: RuntimeWarning: The data contains 'boundary' events, indicating data discontinuities. Be cautious of filtering and epoching around these events.\n",
      "  raw = mne.io.read_raw_eeglab(str(Path(root_path) / eeg_rel_path / f\"sub-{subject}_{event_id}.set\"), verbose=False)\n",
      "/home/christian/code/acareeg/acareeg/lemon.py:58: RuntimeWarning: Limited 1 annotation(s) that were expanding outside the data range.\n",
      "  raw = mne.io.read_raw_eeglab(str(Path(root_path) / eeg_rel_path / f\"sub-{subject}_{event_id}.set\"), verbose=False)\n",
      "/home/christian/code/acareeg/acareeg/lemon.py:58: RuntimeWarning: The data contains 'boundary' events, indicating data discontinuities. Be cautious of filtering and epoching around these events.\n",
      "  raw = mne.io.read_raw_eeglab(str(Path(root_path) / eeg_rel_path / f\"sub-{subject}_{event_id}.set\"), verbose=False)\n"
     ]
    },
    {
     "name": "stdout",
     "output_type": "stream",
     "text": [
      "Fitted sphere radius:         103.8 mm\n",
      "Origin head coordinates:      6.7 11.7 48.3 mm\n",
      "Origin device coordinates:    6.7 11.7 48.3 mm\n"
     ]
    },
    {
     "name": "stderr",
     "output_type": "stream",
     "text": [
      "/home/christian/code/acareeg/acareeg/lemon.py:58: RuntimeWarning: Limited 1 annotation(s) that were expanding outside the data range.\n",
      "  raw = mne.io.read_raw_eeglab(str(Path(root_path) / eeg_rel_path / f\"sub-{subject}_{event_id}.set\"), verbose=False)\n",
      "/home/christian/code/acareeg/acareeg/lemon.py:58: RuntimeWarning: The data contains 'boundary' events, indicating data discontinuities. Be cautious of filtering and epoching around these events.\n",
      "  raw = mne.io.read_raw_eeglab(str(Path(root_path) / eeg_rel_path / f\"sub-{subject}_{event_id}.set\"), verbose=False)\n",
      "/home/christian/code/acareeg/acareeg/lemon.py:58: RuntimeWarning: Limited 1 annotation(s) that were expanding outside the data range.\n",
      "  raw = mne.io.read_raw_eeglab(str(Path(root_path) / eeg_rel_path / f\"sub-{subject}_{event_id}.set\"), verbose=False)\n",
      "/home/christian/code/acareeg/acareeg/lemon.py:58: RuntimeWarning: The data contains 'boundary' events, indicating data discontinuities. Be cautious of filtering and epoching around these events.\n",
      "  raw = mne.io.read_raw_eeglab(str(Path(root_path) / eeg_rel_path / f\"sub-{subject}_{event_id}.set\"), verbose=False)\n"
     ]
    },
    {
     "name": "stdout",
     "output_type": "stream",
     "text": [
      "Fitted sphere radius:         98.3 mm\n",
      "Origin head coordinates:      6.3 13.5 48.1 mm\n",
      "Origin device coordinates:    6.3 13.5 48.1 mm\n"
     ]
    },
    {
     "name": "stderr",
     "output_type": "stream",
     "text": [
      "/home/christian/code/acareeg/acareeg/lemon.py:58: RuntimeWarning: Limited 1 annotation(s) that were expanding outside the data range.\n",
      "  raw = mne.io.read_raw_eeglab(str(Path(root_path) / eeg_rel_path / f\"sub-{subject}_{event_id}.set\"), verbose=False)\n",
      "/home/christian/code/acareeg/acareeg/lemon.py:58: RuntimeWarning: The data contains 'boundary' events, indicating data discontinuities. Be cautious of filtering and epoching around these events.\n",
      "  raw = mne.io.read_raw_eeglab(str(Path(root_path) / eeg_rel_path / f\"sub-{subject}_{event_id}.set\"), verbose=False)\n",
      "/home/christian/code/acareeg/acareeg/lemon.py:58: RuntimeWarning: Limited 1 annotation(s) that were expanding outside the data range.\n",
      "  raw = mne.io.read_raw_eeglab(str(Path(root_path) / eeg_rel_path / f\"sub-{subject}_{event_id}.set\"), verbose=False)\n",
      "/home/christian/code/acareeg/acareeg/lemon.py:58: RuntimeWarning: The data contains 'boundary' events, indicating data discontinuities. Be cautious of filtering and epoching around these events.\n",
      "  raw = mne.io.read_raw_eeglab(str(Path(root_path) / eeg_rel_path / f\"sub-{subject}_{event_id}.set\"), verbose=False)\n"
     ]
    },
    {
     "name": "stdout",
     "output_type": "stream",
     "text": [
      "Fitted sphere radius:         97.0 mm\n",
      "Origin head coordinates:      4.4 3.9 49.8 mm\n",
      "Origin device coordinates:    4.4 3.9 49.8 mm\n"
     ]
    },
    {
     "name": "stderr",
     "output_type": "stream",
     "text": [
      "/home/christian/code/acareeg/acareeg/lemon.py:58: RuntimeWarning: Limited 1 annotation(s) that were expanding outside the data range.\n",
      "  raw = mne.io.read_raw_eeglab(str(Path(root_path) / eeg_rel_path / f\"sub-{subject}_{event_id}.set\"), verbose=False)\n",
      "/home/christian/code/acareeg/acareeg/lemon.py:58: RuntimeWarning: The data contains 'boundary' events, indicating data discontinuities. Be cautious of filtering and epoching around these events.\n",
      "  raw = mne.io.read_raw_eeglab(str(Path(root_path) / eeg_rel_path / f\"sub-{subject}_{event_id}.set\"), verbose=False)\n",
      "/home/christian/code/acareeg/acareeg/lemon.py:58: RuntimeWarning: Limited 1 annotation(s) that were expanding outside the data range.\n",
      "  raw = mne.io.read_raw_eeglab(str(Path(root_path) / eeg_rel_path / f\"sub-{subject}_{event_id}.set\"), verbose=False)\n",
      "/home/christian/code/acareeg/acareeg/lemon.py:58: RuntimeWarning: The data contains 'boundary' events, indicating data discontinuities. Be cautious of filtering and epoching around these events.\n",
      "  raw = mne.io.read_raw_eeglab(str(Path(root_path) / eeg_rel_path / f\"sub-{subject}_{event_id}.set\"), verbose=False)\n"
     ]
    },
    {
     "name": "stdout",
     "output_type": "stream",
     "text": [
      "Fitted sphere radius:         101.3 mm\n",
      "Origin head coordinates:      0.3 -2.6 37.6 mm\n",
      "Origin device coordinates:    0.3 -2.6 37.6 mm\n"
     ]
    },
    {
     "name": "stderr",
     "output_type": "stream",
     "text": [
      "/home/christian/code/acareeg/acareeg/lemon.py:58: RuntimeWarning: Limited 1 annotation(s) that were expanding outside the data range.\n",
      "  raw = mne.io.read_raw_eeglab(str(Path(root_path) / eeg_rel_path / f\"sub-{subject}_{event_id}.set\"), verbose=False)\n",
      "/home/christian/code/acareeg/acareeg/lemon.py:58: RuntimeWarning: The data contains 'boundary' events, indicating data discontinuities. Be cautious of filtering and epoching around these events.\n",
      "  raw = mne.io.read_raw_eeglab(str(Path(root_path) / eeg_rel_path / f\"sub-{subject}_{event_id}.set\"), verbose=False)\n",
      "/home/christian/code/acareeg/acareeg/lemon.py:58: RuntimeWarning: Limited 1 annotation(s) that were expanding outside the data range.\n",
      "  raw = mne.io.read_raw_eeglab(str(Path(root_path) / eeg_rel_path / f\"sub-{subject}_{event_id}.set\"), verbose=False)\n",
      "/home/christian/code/acareeg/acareeg/lemon.py:58: RuntimeWarning: The data contains 'boundary' events, indicating data discontinuities. Be cautious of filtering and epoching around these events.\n",
      "  raw = mne.io.read_raw_eeglab(str(Path(root_path) / eeg_rel_path / f\"sub-{subject}_{event_id}.set\"), verbose=False)\n"
     ]
    },
    {
     "name": "stdout",
     "output_type": "stream",
     "text": [
      "Fitted sphere radius:         97.7 mm\n",
      "Origin head coordinates:      -2.1 2.2 48.0 mm\n",
      "Origin device coordinates:    -2.1 2.2 48.0 mm\n"
     ]
    },
    {
     "name": "stderr",
     "output_type": "stream",
     "text": [
      "/home/christian/code/acareeg/acareeg/lemon.py:58: RuntimeWarning: Limited 1 annotation(s) that were expanding outside the data range.\n",
      "  raw = mne.io.read_raw_eeglab(str(Path(root_path) / eeg_rel_path / f\"sub-{subject}_{event_id}.set\"), verbose=False)\n",
      "/home/christian/code/acareeg/acareeg/lemon.py:58: RuntimeWarning: The data contains 'boundary' events, indicating data discontinuities. Be cautious of filtering and epoching around these events.\n",
      "  raw = mne.io.read_raw_eeglab(str(Path(root_path) / eeg_rel_path / f\"sub-{subject}_{event_id}.set\"), verbose=False)\n",
      "/home/christian/code/acareeg/acareeg/lemon.py:58: RuntimeWarning: Limited 1 annotation(s) that were expanding outside the data range.\n",
      "  raw = mne.io.read_raw_eeglab(str(Path(root_path) / eeg_rel_path / f\"sub-{subject}_{event_id}.set\"), verbose=False)\n",
      "/home/christian/code/acareeg/acareeg/lemon.py:58: RuntimeWarning: The data contains 'boundary' events, indicating data discontinuities. Be cautious of filtering and epoching around these events.\n",
      "  raw = mne.io.read_raw_eeglab(str(Path(root_path) / eeg_rel_path / f\"sub-{subject}_{event_id}.set\"), verbose=False)\n"
     ]
    },
    {
     "name": "stdout",
     "output_type": "stream",
     "text": [
      "Fitted sphere radius:         102.0 mm\n",
      "Origin head coordinates:      3.4 3.8 49.4 mm\n",
      "Origin device coordinates:    3.4 3.8 49.4 mm\n"
     ]
    },
    {
     "name": "stderr",
     "output_type": "stream",
     "text": [
      "/home/christian/code/acareeg/acareeg/lemon.py:58: RuntimeWarning: Limited 1 annotation(s) that were expanding outside the data range.\n",
      "  raw = mne.io.read_raw_eeglab(str(Path(root_path) / eeg_rel_path / f\"sub-{subject}_{event_id}.set\"), verbose=False)\n",
      "/home/christian/code/acareeg/acareeg/lemon.py:58: RuntimeWarning: The data contains 'boundary' events, indicating data discontinuities. Be cautious of filtering and epoching around these events.\n",
      "  raw = mne.io.read_raw_eeglab(str(Path(root_path) / eeg_rel_path / f\"sub-{subject}_{event_id}.set\"), verbose=False)\n",
      "/home/christian/code/acareeg/acareeg/lemon.py:58: RuntimeWarning: Limited 1 annotation(s) that were expanding outside the data range.\n",
      "  raw = mne.io.read_raw_eeglab(str(Path(root_path) / eeg_rel_path / f\"sub-{subject}_{event_id}.set\"), verbose=False)\n",
      "/home/christian/code/acareeg/acareeg/lemon.py:58: RuntimeWarning: The data contains 'boundary' events, indicating data discontinuities. Be cautious of filtering and epoching around these events.\n",
      "  raw = mne.io.read_raw_eeglab(str(Path(root_path) / eeg_rel_path / f\"sub-{subject}_{event_id}.set\"), verbose=False)\n"
     ]
    },
    {
     "name": "stdout",
     "output_type": "stream",
     "text": [
      "Fitted sphere radius:         98.9 mm\n",
      "Origin head coordinates:      4.1 1.5 40.1 mm\n",
      "Origin device coordinates:    4.1 1.5 40.1 mm\n"
     ]
    },
    {
     "name": "stderr",
     "output_type": "stream",
     "text": [
      "/home/christian/code/acareeg/acareeg/lemon.py:58: RuntimeWarning: Limited 1 annotation(s) that were expanding outside the data range.\n",
      "  raw = mne.io.read_raw_eeglab(str(Path(root_path) / eeg_rel_path / f\"sub-{subject}_{event_id}.set\"), verbose=False)\n",
      "/home/christian/code/acareeg/acareeg/lemon.py:58: RuntimeWarning: The data contains 'boundary' events, indicating data discontinuities. Be cautious of filtering and epoching around these events.\n",
      "  raw = mne.io.read_raw_eeglab(str(Path(root_path) / eeg_rel_path / f\"sub-{subject}_{event_id}.set\"), verbose=False)\n",
      "/home/christian/code/acareeg/acareeg/lemon.py:58: RuntimeWarning: Limited 1 annotation(s) that were expanding outside the data range.\n",
      "  raw = mne.io.read_raw_eeglab(str(Path(root_path) / eeg_rel_path / f\"sub-{subject}_{event_id}.set\"), verbose=False)\n",
      "/home/christian/code/acareeg/acareeg/lemon.py:58: RuntimeWarning: The data contains 'boundary' events, indicating data discontinuities. Be cautious of filtering and epoching around these events.\n",
      "  raw = mne.io.read_raw_eeglab(str(Path(root_path) / eeg_rel_path / f\"sub-{subject}_{event_id}.set\"), verbose=False)\n"
     ]
    },
    {
     "name": "stdout",
     "output_type": "stream",
     "text": [
      "Fitted sphere radius:         102.0 mm\n",
      "Origin head coordinates:      4.3 3.7 47.3 mm\n",
      "Origin device coordinates:    4.3 3.7 47.3 mm\n"
     ]
    },
    {
     "name": "stderr",
     "output_type": "stream",
     "text": [
      "/home/christian/code/acareeg/acareeg/lemon.py:58: RuntimeWarning: Limited 1 annotation(s) that were expanding outside the data range.\n",
      "  raw = mne.io.read_raw_eeglab(str(Path(root_path) / eeg_rel_path / f\"sub-{subject}_{event_id}.set\"), verbose=False)\n",
      "/home/christian/code/acareeg/acareeg/lemon.py:58: RuntimeWarning: The data contains 'boundary' events, indicating data discontinuities. Be cautious of filtering and epoching around these events.\n",
      "  raw = mne.io.read_raw_eeglab(str(Path(root_path) / eeg_rel_path / f\"sub-{subject}_{event_id}.set\"), verbose=False)\n",
      "/home/christian/code/acareeg/acareeg/lemon.py:58: RuntimeWarning: Limited 1 annotation(s) that were expanding outside the data range.\n",
      "  raw = mne.io.read_raw_eeglab(str(Path(root_path) / eeg_rel_path / f\"sub-{subject}_{event_id}.set\"), verbose=False)\n",
      "/home/christian/code/acareeg/acareeg/lemon.py:58: RuntimeWarning: The data contains 'boundary' events, indicating data discontinuities. Be cautious of filtering and epoching around these events.\n",
      "  raw = mne.io.read_raw_eeglab(str(Path(root_path) / eeg_rel_path / f\"sub-{subject}_{event_id}.set\"), verbose=False)\n"
     ]
    },
    {
     "name": "stdout",
     "output_type": "stream",
     "text": [
      "Fitted sphere radius:         100.2 mm\n",
      "Origin head coordinates:      0.5 1.0 45.3 mm\n",
      "Origin device coordinates:    0.5 1.0 45.3 mm\n"
     ]
    },
    {
     "name": "stderr",
     "output_type": "stream",
     "text": [
      "/home/christian/code/acareeg/acareeg/lemon.py:58: RuntimeWarning: Limited 1 annotation(s) that were expanding outside the data range.\n",
      "  raw = mne.io.read_raw_eeglab(str(Path(root_path) / eeg_rel_path / f\"sub-{subject}_{event_id}.set\"), verbose=False)\n",
      "/home/christian/code/acareeg/acareeg/lemon.py:58: RuntimeWarning: The data contains 'boundary' events, indicating data discontinuities. Be cautious of filtering and epoching around these events.\n",
      "  raw = mne.io.read_raw_eeglab(str(Path(root_path) / eeg_rel_path / f\"sub-{subject}_{event_id}.set\"), verbose=False)\n",
      "/home/christian/code/acareeg/acareeg/lemon.py:58: RuntimeWarning: Limited 1 annotation(s) that were expanding outside the data range.\n",
      "  raw = mne.io.read_raw_eeglab(str(Path(root_path) / eeg_rel_path / f\"sub-{subject}_{event_id}.set\"), verbose=False)\n",
      "/home/christian/code/acareeg/acareeg/lemon.py:58: RuntimeWarning: The data contains 'boundary' events, indicating data discontinuities. Be cautious of filtering and epoching around these events.\n",
      "  raw = mne.io.read_raw_eeglab(str(Path(root_path) / eeg_rel_path / f\"sub-{subject}_{event_id}.set\"), verbose=False)\n"
     ]
    },
    {
     "name": "stdout",
     "output_type": "stream",
     "text": [
      "Fitted sphere radius:         98.2 mm\n",
      "Origin head coordinates:      1.0 4.6 38.5 mm\n",
      "Origin device coordinates:    1.0 4.6 38.5 mm\n"
     ]
    },
    {
     "name": "stderr",
     "output_type": "stream",
     "text": [
      "/home/christian/code/acareeg/acareeg/lemon.py:58: RuntimeWarning: Limited 1 annotation(s) that were expanding outside the data range.\n",
      "  raw = mne.io.read_raw_eeglab(str(Path(root_path) / eeg_rel_path / f\"sub-{subject}_{event_id}.set\"), verbose=False)\n",
      "/home/christian/code/acareeg/acareeg/lemon.py:58: RuntimeWarning: The data contains 'boundary' events, indicating data discontinuities. Be cautious of filtering and epoching around these events.\n",
      "  raw = mne.io.read_raw_eeglab(str(Path(root_path) / eeg_rel_path / f\"sub-{subject}_{event_id}.set\"), verbose=False)\n",
      "/home/christian/code/acareeg/acareeg/lemon.py:58: RuntimeWarning: Limited 1 annotation(s) that were expanding outside the data range.\n",
      "  raw = mne.io.read_raw_eeglab(str(Path(root_path) / eeg_rel_path / f\"sub-{subject}_{event_id}.set\"), verbose=False)\n",
      "/home/christian/code/acareeg/acareeg/lemon.py:58: RuntimeWarning: The data contains 'boundary' events, indicating data discontinuities. Be cautious of filtering and epoching around these events.\n",
      "  raw = mne.io.read_raw_eeglab(str(Path(root_path) / eeg_rel_path / f\"sub-{subject}_{event_id}.set\"), verbose=False)\n"
     ]
    },
    {
     "name": "stdout",
     "output_type": "stream",
     "text": [
      "Fitted sphere radius:         102.7 mm\n",
      "Origin head coordinates:      0.1 -0.7 38.7 mm\n",
      "Origin device coordinates:    0.1 -0.7 38.7 mm\n"
     ]
    },
    {
     "name": "stderr",
     "output_type": "stream",
     "text": [
      "/home/christian/code/acareeg/acareeg/lemon.py:58: RuntimeWarning: Limited 1 annotation(s) that were expanding outside the data range.\n",
      "  raw = mne.io.read_raw_eeglab(str(Path(root_path) / eeg_rel_path / f\"sub-{subject}_{event_id}.set\"), verbose=False)\n",
      "/home/christian/code/acareeg/acareeg/lemon.py:58: RuntimeWarning: The data contains 'boundary' events, indicating data discontinuities. Be cautious of filtering and epoching around these events.\n",
      "  raw = mne.io.read_raw_eeglab(str(Path(root_path) / eeg_rel_path / f\"sub-{subject}_{event_id}.set\"), verbose=False)\n",
      "/home/christian/code/acareeg/acareeg/lemon.py:58: RuntimeWarning: Limited 1 annotation(s) that were expanding outside the data range.\n",
      "  raw = mne.io.read_raw_eeglab(str(Path(root_path) / eeg_rel_path / f\"sub-{subject}_{event_id}.set\"), verbose=False)\n",
      "/home/christian/code/acareeg/acareeg/lemon.py:58: RuntimeWarning: The data contains 'boundary' events, indicating data discontinuities. Be cautious of filtering and epoching around these events.\n",
      "  raw = mne.io.read_raw_eeglab(str(Path(root_path) / eeg_rel_path / f\"sub-{subject}_{event_id}.set\"), verbose=False)\n"
     ]
    },
    {
     "name": "stdout",
     "output_type": "stream",
     "text": [
      "Fitted sphere radius:         100.0 mm\n",
      "Origin head coordinates:      1.8 3.7 40.7 mm\n",
      "Origin device coordinates:    1.8 3.7 40.7 mm\n"
     ]
    },
    {
     "name": "stderr",
     "output_type": "stream",
     "text": [
      "/home/christian/code/acareeg/acareeg/lemon.py:58: RuntimeWarning: Limited 1 annotation(s) that were expanding outside the data range.\n",
      "  raw = mne.io.read_raw_eeglab(str(Path(root_path) / eeg_rel_path / f\"sub-{subject}_{event_id}.set\"), verbose=False)\n",
      "/home/christian/code/acareeg/acareeg/lemon.py:58: RuntimeWarning: The data contains 'boundary' events, indicating data discontinuities. Be cautious of filtering and epoching around these events.\n",
      "  raw = mne.io.read_raw_eeglab(str(Path(root_path) / eeg_rel_path / f\"sub-{subject}_{event_id}.set\"), verbose=False)\n",
      "/home/christian/code/acareeg/acareeg/lemon.py:58: RuntimeWarning: Limited 1 annotation(s) that were expanding outside the data range.\n",
      "  raw = mne.io.read_raw_eeglab(str(Path(root_path) / eeg_rel_path / f\"sub-{subject}_{event_id}.set\"), verbose=False)\n",
      "/home/christian/code/acareeg/acareeg/lemon.py:58: RuntimeWarning: The data contains 'boundary' events, indicating data discontinuities. Be cautious of filtering and epoching around these events.\n",
      "  raw = mne.io.read_raw_eeglab(str(Path(root_path) / eeg_rel_path / f\"sub-{subject}_{event_id}.set\"), verbose=False)\n"
     ]
    },
    {
     "name": "stdout",
     "output_type": "stream",
     "text": [
      "Fitted sphere radius:         100.6 mm\n",
      "Origin head coordinates:      3.9 2.1 41.9 mm\n",
      "Origin device coordinates:    3.9 2.1 41.9 mm\n"
     ]
    },
    {
     "name": "stderr",
     "output_type": "stream",
     "text": [
      "/home/christian/code/acareeg/acareeg/lemon.py:58: RuntimeWarning: Limited 1 annotation(s) that were expanding outside the data range.\n",
      "  raw = mne.io.read_raw_eeglab(str(Path(root_path) / eeg_rel_path / f\"sub-{subject}_{event_id}.set\"), verbose=False)\n",
      "/home/christian/code/acareeg/acareeg/lemon.py:58: RuntimeWarning: The data contains 'boundary' events, indicating data discontinuities. Be cautious of filtering and epoching around these events.\n",
      "  raw = mne.io.read_raw_eeglab(str(Path(root_path) / eeg_rel_path / f\"sub-{subject}_{event_id}.set\"), verbose=False)\n",
      "/home/christian/code/acareeg/acareeg/lemon.py:58: RuntimeWarning: Limited 1 annotation(s) that were expanding outside the data range.\n",
      "  raw = mne.io.read_raw_eeglab(str(Path(root_path) / eeg_rel_path / f\"sub-{subject}_{event_id}.set\"), verbose=False)\n",
      "/home/christian/code/acareeg/acareeg/lemon.py:58: RuntimeWarning: The data contains 'boundary' events, indicating data discontinuities. Be cautious of filtering and epoching around these events.\n",
      "  raw = mne.io.read_raw_eeglab(str(Path(root_path) / eeg_rel_path / f\"sub-{subject}_{event_id}.set\"), verbose=False)\n"
     ]
    },
    {
     "name": "stdout",
     "output_type": "stream",
     "text": [
      "Fitted sphere radius:         96.9 mm\n",
      "Origin head coordinates:      0.9 1.3 40.9 mm\n",
      "Origin device coordinates:    0.9 1.3 40.9 mm\n"
     ]
    },
    {
     "name": "stderr",
     "output_type": "stream",
     "text": [
      "/home/christian/code/acareeg/acareeg/lemon.py:58: RuntimeWarning: Limited 1 annotation(s) that were expanding outside the data range.\n",
      "  raw = mne.io.read_raw_eeglab(str(Path(root_path) / eeg_rel_path / f\"sub-{subject}_{event_id}.set\"), verbose=False)\n",
      "/home/christian/code/acareeg/acareeg/lemon.py:58: RuntimeWarning: The data contains 'boundary' events, indicating data discontinuities. Be cautious of filtering and epoching around these events.\n",
      "  raw = mne.io.read_raw_eeglab(str(Path(root_path) / eeg_rel_path / f\"sub-{subject}_{event_id}.set\"), verbose=False)\n",
      "/home/christian/code/acareeg/acareeg/lemon.py:58: RuntimeWarning: Limited 1 annotation(s) that were expanding outside the data range.\n",
      "  raw = mne.io.read_raw_eeglab(str(Path(root_path) / eeg_rel_path / f\"sub-{subject}_{event_id}.set\"), verbose=False)\n",
      "/home/christian/code/acareeg/acareeg/lemon.py:58: RuntimeWarning: The data contains 'boundary' events, indicating data discontinuities. Be cautious of filtering and epoching around these events.\n",
      "  raw = mne.io.read_raw_eeglab(str(Path(root_path) / eeg_rel_path / f\"sub-{subject}_{event_id}.set\"), verbose=False)\n"
     ]
    },
    {
     "name": "stdout",
     "output_type": "stream",
     "text": [
      "Fitted sphere radius:         96.8 mm\n",
      "Origin head coordinates:      3.6 -2.7 42.9 mm\n",
      "Origin device coordinates:    3.6 -2.7 42.9 mm\n"
     ]
    },
    {
     "name": "stderr",
     "output_type": "stream",
     "text": [
      "/home/christian/code/acareeg/acareeg/lemon.py:58: RuntimeWarning: Limited 1 annotation(s) that were expanding outside the data range.\n",
      "  raw = mne.io.read_raw_eeglab(str(Path(root_path) / eeg_rel_path / f\"sub-{subject}_{event_id}.set\"), verbose=False)\n",
      "/home/christian/code/acareeg/acareeg/lemon.py:58: RuntimeWarning: The data contains 'boundary' events, indicating data discontinuities. Be cautious of filtering and epoching around these events.\n",
      "  raw = mne.io.read_raw_eeglab(str(Path(root_path) / eeg_rel_path / f\"sub-{subject}_{event_id}.set\"), verbose=False)\n",
      "/home/christian/code/acareeg/acareeg/lemon.py:58: RuntimeWarning: Limited 1 annotation(s) that were expanding outside the data range.\n",
      "  raw = mne.io.read_raw_eeglab(str(Path(root_path) / eeg_rel_path / f\"sub-{subject}_{event_id}.set\"), verbose=False)\n",
      "/home/christian/code/acareeg/acareeg/lemon.py:58: RuntimeWarning: The data contains 'boundary' events, indicating data discontinuities. Be cautious of filtering and epoching around these events.\n",
      "  raw = mne.io.read_raw_eeglab(str(Path(root_path) / eeg_rel_path / f\"sub-{subject}_{event_id}.set\"), verbose=False)\n"
     ]
    },
    {
     "name": "stdout",
     "output_type": "stream",
     "text": [
      "Fitted sphere radius:         99.5 mm\n",
      "Origin head coordinates:      1.4 4.4 43.3 mm\n",
      "Origin device coordinates:    1.4 4.4 43.3 mm\n"
     ]
    },
    {
     "name": "stderr",
     "output_type": "stream",
     "text": [
      "/home/christian/code/acareeg/acareeg/lemon.py:58: RuntimeWarning: Limited 1 annotation(s) that were expanding outside the data range.\n",
      "  raw = mne.io.read_raw_eeglab(str(Path(root_path) / eeg_rel_path / f\"sub-{subject}_{event_id}.set\"), verbose=False)\n",
      "/home/christian/code/acareeg/acareeg/lemon.py:58: RuntimeWarning: The data contains 'boundary' events, indicating data discontinuities. Be cautious of filtering and epoching around these events.\n",
      "  raw = mne.io.read_raw_eeglab(str(Path(root_path) / eeg_rel_path / f\"sub-{subject}_{event_id}.set\"), verbose=False)\n",
      "/home/christian/code/acareeg/acareeg/lemon.py:58: RuntimeWarning: Limited 1 annotation(s) that were expanding outside the data range.\n",
      "  raw = mne.io.read_raw_eeglab(str(Path(root_path) / eeg_rel_path / f\"sub-{subject}_{event_id}.set\"), verbose=False)\n",
      "/home/christian/code/acareeg/acareeg/lemon.py:58: RuntimeWarning: The data contains 'boundary' events, indicating data discontinuities. Be cautious of filtering and epoching around these events.\n",
      "  raw = mne.io.read_raw_eeglab(str(Path(root_path) / eeg_rel_path / f\"sub-{subject}_{event_id}.set\"), verbose=False)\n"
     ]
    },
    {
     "name": "stdout",
     "output_type": "stream",
     "text": [
      "Fitted sphere radius:         101.0 mm\n",
      "Origin head coordinates:      3.2 -4.0 47.7 mm\n",
      "Origin device coordinates:    3.2 -4.0 47.7 mm\n"
     ]
    },
    {
     "name": "stderr",
     "output_type": "stream",
     "text": [
      "/home/christian/code/acareeg/acareeg/lemon.py:58: RuntimeWarning: Limited 1 annotation(s) that were expanding outside the data range.\n",
      "  raw = mne.io.read_raw_eeglab(str(Path(root_path) / eeg_rel_path / f\"sub-{subject}_{event_id}.set\"), verbose=False)\n",
      "/home/christian/code/acareeg/acareeg/lemon.py:58: RuntimeWarning: The data contains 'boundary' events, indicating data discontinuities. Be cautious of filtering and epoching around these events.\n",
      "  raw = mne.io.read_raw_eeglab(str(Path(root_path) / eeg_rel_path / f\"sub-{subject}_{event_id}.set\"), verbose=False)\n",
      "/home/christian/code/acareeg/acareeg/lemon.py:58: RuntimeWarning: Limited 1 annotation(s) that were expanding outside the data range.\n",
      "  raw = mne.io.read_raw_eeglab(str(Path(root_path) / eeg_rel_path / f\"sub-{subject}_{event_id}.set\"), verbose=False)\n",
      "/home/christian/code/acareeg/acareeg/lemon.py:58: RuntimeWarning: The data contains 'boundary' events, indicating data discontinuities. Be cautious of filtering and epoching around these events.\n",
      "  raw = mne.io.read_raw_eeglab(str(Path(root_path) / eeg_rel_path / f\"sub-{subject}_{event_id}.set\"), verbose=False)\n"
     ]
    },
    {
     "name": "stdout",
     "output_type": "stream",
     "text": [
      "Fitted sphere radius:         98.2 mm\n",
      "Origin head coordinates:      5.1 6.3 52.2 mm\n",
      "Origin device coordinates:    5.1 6.3 52.2 mm\n"
     ]
    },
    {
     "name": "stderr",
     "output_type": "stream",
     "text": [
      "/home/christian/code/acareeg/acareeg/lemon.py:58: RuntimeWarning: Limited 1 annotation(s) that were expanding outside the data range.\n",
      "  raw = mne.io.read_raw_eeglab(str(Path(root_path) / eeg_rel_path / f\"sub-{subject}_{event_id}.set\"), verbose=False)\n",
      "/home/christian/code/acareeg/acareeg/lemon.py:58: RuntimeWarning: The data contains 'boundary' events, indicating data discontinuities. Be cautious of filtering and epoching around these events.\n",
      "  raw = mne.io.read_raw_eeglab(str(Path(root_path) / eeg_rel_path / f\"sub-{subject}_{event_id}.set\"), verbose=False)\n",
      "/home/christian/code/acareeg/acareeg/lemon.py:58: RuntimeWarning: Limited 1 annotation(s) that were expanding outside the data range.\n",
      "  raw = mne.io.read_raw_eeglab(str(Path(root_path) / eeg_rel_path / f\"sub-{subject}_{event_id}.set\"), verbose=False)\n",
      "/home/christian/code/acareeg/acareeg/lemon.py:58: RuntimeWarning: The data contains 'boundary' events, indicating data discontinuities. Be cautious of filtering and epoching around these events.\n",
      "  raw = mne.io.read_raw_eeglab(str(Path(root_path) / eeg_rel_path / f\"sub-{subject}_{event_id}.set\"), verbose=False)\n"
     ]
    },
    {
     "name": "stdout",
     "output_type": "stream",
     "text": [
      "Fitted sphere radius:         103.7 mm\n",
      "Origin head coordinates:      -1.0 3.4 44.1 mm\n",
      "Origin device coordinates:    -1.0 3.4 44.1 mm\n"
     ]
    },
    {
     "name": "stderr",
     "output_type": "stream",
     "text": [
      "/home/christian/code/acareeg/acareeg/lemon.py:58: RuntimeWarning: Limited 1 annotation(s) that were expanding outside the data range.\n",
      "  raw = mne.io.read_raw_eeglab(str(Path(root_path) / eeg_rel_path / f\"sub-{subject}_{event_id}.set\"), verbose=False)\n",
      "/home/christian/code/acareeg/acareeg/lemon.py:58: RuntimeWarning: The data contains 'boundary' events, indicating data discontinuities. Be cautious of filtering and epoching around these events.\n",
      "  raw = mne.io.read_raw_eeglab(str(Path(root_path) / eeg_rel_path / f\"sub-{subject}_{event_id}.set\"), verbose=False)\n",
      "/home/christian/code/acareeg/acareeg/lemon.py:58: RuntimeWarning: Limited 1 annotation(s) that were expanding outside the data range.\n",
      "  raw = mne.io.read_raw_eeglab(str(Path(root_path) / eeg_rel_path / f\"sub-{subject}_{event_id}.set\"), verbose=False)\n",
      "/home/christian/code/acareeg/acareeg/lemon.py:58: RuntimeWarning: The data contains 'boundary' events, indicating data discontinuities. Be cautious of filtering and epoching around these events.\n",
      "  raw = mne.io.read_raw_eeglab(str(Path(root_path) / eeg_rel_path / f\"sub-{subject}_{event_id}.set\"), verbose=False)\n"
     ]
    },
    {
     "name": "stdout",
     "output_type": "stream",
     "text": [
      "Fitted sphere radius:         100.7 mm\n",
      "Origin head coordinates:      2.7 5.8 55.3 mm\n",
      "Origin device coordinates:    2.7 5.8 55.3 mm\n"
     ]
    },
    {
     "name": "stderr",
     "output_type": "stream",
     "text": [
      "/home/christian/code/acareeg/acareeg/lemon.py:58: RuntimeWarning: Limited 1 annotation(s) that were expanding outside the data range.\n",
      "  raw = mne.io.read_raw_eeglab(str(Path(root_path) / eeg_rel_path / f\"sub-{subject}_{event_id}.set\"), verbose=False)\n",
      "/home/christian/code/acareeg/acareeg/lemon.py:58: RuntimeWarning: The data contains 'boundary' events, indicating data discontinuities. Be cautious of filtering and epoching around these events.\n",
      "  raw = mne.io.read_raw_eeglab(str(Path(root_path) / eeg_rel_path / f\"sub-{subject}_{event_id}.set\"), verbose=False)\n",
      "/home/christian/code/acareeg/acareeg/lemon.py:58: RuntimeWarning: Limited 1 annotation(s) that were expanding outside the data range.\n",
      "  raw = mne.io.read_raw_eeglab(str(Path(root_path) / eeg_rel_path / f\"sub-{subject}_{event_id}.set\"), verbose=False)\n",
      "/home/christian/code/acareeg/acareeg/lemon.py:58: RuntimeWarning: The data contains 'boundary' events, indicating data discontinuities. Be cautious of filtering and epoching around these events.\n",
      "  raw = mne.io.read_raw_eeglab(str(Path(root_path) / eeg_rel_path / f\"sub-{subject}_{event_id}.set\"), verbose=False)\n"
     ]
    },
    {
     "name": "stdout",
     "output_type": "stream",
     "text": [
      "Fitted sphere radius:         104.4 mm\n",
      "Origin head coordinates:      5.2 1.2 41.7 mm\n",
      "Origin device coordinates:    5.2 1.2 41.7 mm\n"
     ]
    },
    {
     "name": "stderr",
     "output_type": "stream",
     "text": [
      "/home/christian/code/acareeg/acareeg/lemon.py:58: RuntimeWarning: Limited 1 annotation(s) that were expanding outside the data range.\n",
      "  raw = mne.io.read_raw_eeglab(str(Path(root_path) / eeg_rel_path / f\"sub-{subject}_{event_id}.set\"), verbose=False)\n",
      "/home/christian/code/acareeg/acareeg/lemon.py:58: RuntimeWarning: The data contains 'boundary' events, indicating data discontinuities. Be cautious of filtering and epoching around these events.\n",
      "  raw = mne.io.read_raw_eeglab(str(Path(root_path) / eeg_rel_path / f\"sub-{subject}_{event_id}.set\"), verbose=False)\n",
      "/home/christian/code/acareeg/acareeg/lemon.py:58: RuntimeWarning: Limited 1 annotation(s) that were expanding outside the data range.\n",
      "  raw = mne.io.read_raw_eeglab(str(Path(root_path) / eeg_rel_path / f\"sub-{subject}_{event_id}.set\"), verbose=False)\n",
      "/home/christian/code/acareeg/acareeg/lemon.py:58: RuntimeWarning: The data contains 'boundary' events, indicating data discontinuities. Be cautious of filtering and epoching around these events.\n",
      "  raw = mne.io.read_raw_eeglab(str(Path(root_path) / eeg_rel_path / f\"sub-{subject}_{event_id}.set\"), verbose=False)\n"
     ]
    },
    {
     "name": "stdout",
     "output_type": "stream",
     "text": [
      "Fitted sphere radius:         98.1 mm\n",
      "Origin head coordinates:      3.0 2.7 46.9 mm\n",
      "Origin device coordinates:    3.0 2.7 46.9 mm\n"
     ]
    },
    {
     "name": "stderr",
     "output_type": "stream",
     "text": [
      "/home/christian/code/acareeg/acareeg/lemon.py:58: RuntimeWarning: Limited 1 annotation(s) that were expanding outside the data range.\n",
      "  raw = mne.io.read_raw_eeglab(str(Path(root_path) / eeg_rel_path / f\"sub-{subject}_{event_id}.set\"), verbose=False)\n",
      "/home/christian/code/acareeg/acareeg/lemon.py:58: RuntimeWarning: The data contains 'boundary' events, indicating data discontinuities. Be cautious of filtering and epoching around these events.\n",
      "  raw = mne.io.read_raw_eeglab(str(Path(root_path) / eeg_rel_path / f\"sub-{subject}_{event_id}.set\"), verbose=False)\n",
      "/home/christian/code/acareeg/acareeg/lemon.py:58: RuntimeWarning: Limited 1 annotation(s) that were expanding outside the data range.\n",
      "  raw = mne.io.read_raw_eeglab(str(Path(root_path) / eeg_rel_path / f\"sub-{subject}_{event_id}.set\"), verbose=False)\n",
      "/home/christian/code/acareeg/acareeg/lemon.py:58: RuntimeWarning: The data contains 'boundary' events, indicating data discontinuities. Be cautious of filtering and epoching around these events.\n",
      "  raw = mne.io.read_raw_eeglab(str(Path(root_path) / eeg_rel_path / f\"sub-{subject}_{event_id}.set\"), verbose=False)\n"
     ]
    },
    {
     "name": "stdout",
     "output_type": "stream",
     "text": [
      "Fitted sphere radius:         100.5 mm\n",
      "Origin head coordinates:      2.4 0.4 37.1 mm\n",
      "Origin device coordinates:    2.4 0.4 37.1 mm\n"
     ]
    },
    {
     "name": "stderr",
     "output_type": "stream",
     "text": [
      "/home/christian/code/acareeg/acareeg/lemon.py:58: RuntimeWarning: Limited 1 annotation(s) that were expanding outside the data range.\n",
      "  raw = mne.io.read_raw_eeglab(str(Path(root_path) / eeg_rel_path / f\"sub-{subject}_{event_id}.set\"), verbose=False)\n",
      "/home/christian/code/acareeg/acareeg/lemon.py:58: RuntimeWarning: The data contains 'boundary' events, indicating data discontinuities. Be cautious of filtering and epoching around these events.\n",
      "  raw = mne.io.read_raw_eeglab(str(Path(root_path) / eeg_rel_path / f\"sub-{subject}_{event_id}.set\"), verbose=False)\n",
      "/home/christian/code/acareeg/acareeg/lemon.py:58: RuntimeWarning: Limited 1 annotation(s) that were expanding outside the data range.\n",
      "  raw = mne.io.read_raw_eeglab(str(Path(root_path) / eeg_rel_path / f\"sub-{subject}_{event_id}.set\"), verbose=False)\n",
      "/home/christian/code/acareeg/acareeg/lemon.py:58: RuntimeWarning: The data contains 'boundary' events, indicating data discontinuities. Be cautious of filtering and epoching around these events.\n",
      "  raw = mne.io.read_raw_eeglab(str(Path(root_path) / eeg_rel_path / f\"sub-{subject}_{event_id}.set\"), verbose=False)\n"
     ]
    },
    {
     "name": "stdout",
     "output_type": "stream",
     "text": [
      "Fitted sphere radius:         97.6 mm\n",
      "Origin head coordinates:      3.0 -0.1 45.6 mm\n",
      "Origin device coordinates:    3.0 -0.1 45.6 mm\n"
     ]
    },
    {
     "name": "stderr",
     "output_type": "stream",
     "text": [
      "/home/christian/code/acareeg/acareeg/lemon.py:58: RuntimeWarning: Limited 1 annotation(s) that were expanding outside the data range.\n",
      "  raw = mne.io.read_raw_eeglab(str(Path(root_path) / eeg_rel_path / f\"sub-{subject}_{event_id}.set\"), verbose=False)\n",
      "/home/christian/code/acareeg/acareeg/lemon.py:58: RuntimeWarning: The data contains 'boundary' events, indicating data discontinuities. Be cautious of filtering and epoching around these events.\n",
      "  raw = mne.io.read_raw_eeglab(str(Path(root_path) / eeg_rel_path / f\"sub-{subject}_{event_id}.set\"), verbose=False)\n",
      "/home/christian/code/acareeg/acareeg/lemon.py:58: RuntimeWarning: Limited 1 annotation(s) that were expanding outside the data range.\n",
      "  raw = mne.io.read_raw_eeglab(str(Path(root_path) / eeg_rel_path / f\"sub-{subject}_{event_id}.set\"), verbose=False)\n",
      "/home/christian/code/acareeg/acareeg/lemon.py:58: RuntimeWarning: The data contains 'boundary' events, indicating data discontinuities. Be cautious of filtering and epoching around these events.\n",
      "  raw = mne.io.read_raw_eeglab(str(Path(root_path) / eeg_rel_path / f\"sub-{subject}_{event_id}.set\"), verbose=False)\n"
     ]
    },
    {
     "name": "stdout",
     "output_type": "stream",
     "text": [
      "Fitted sphere radius:         100.8 mm\n",
      "Origin head coordinates:      3.8 -3.6 37.9 mm\n",
      "Origin device coordinates:    3.8 -3.6 37.9 mm\n"
     ]
    },
    {
     "name": "stderr",
     "output_type": "stream",
     "text": [
      "/home/christian/code/acareeg/acareeg/lemon.py:58: RuntimeWarning: Limited 1 annotation(s) that were expanding outside the data range.\n",
      "  raw = mne.io.read_raw_eeglab(str(Path(root_path) / eeg_rel_path / f\"sub-{subject}_{event_id}.set\"), verbose=False)\n",
      "/home/christian/code/acareeg/acareeg/lemon.py:58: RuntimeWarning: The data contains 'boundary' events, indicating data discontinuities. Be cautious of filtering and epoching around these events.\n",
      "  raw = mne.io.read_raw_eeglab(str(Path(root_path) / eeg_rel_path / f\"sub-{subject}_{event_id}.set\"), verbose=False)\n",
      "/home/christian/code/acareeg/acareeg/lemon.py:58: RuntimeWarning: Limited 1 annotation(s) that were expanding outside the data range.\n",
      "  raw = mne.io.read_raw_eeglab(str(Path(root_path) / eeg_rel_path / f\"sub-{subject}_{event_id}.set\"), verbose=False)\n",
      "/home/christian/code/acareeg/acareeg/lemon.py:58: RuntimeWarning: The data contains 'boundary' events, indicating data discontinuities. Be cautious of filtering and epoching around these events.\n",
      "  raw = mne.io.read_raw_eeglab(str(Path(root_path) / eeg_rel_path / f\"sub-{subject}_{event_id}.set\"), verbose=False)\n"
     ]
    },
    {
     "name": "stdout",
     "output_type": "stream",
     "text": [
      "Fitted sphere radius:         93.6 mm\n",
      "Origin head coordinates:      6.4 2.4 42.2 mm\n",
      "Origin device coordinates:    6.4 2.4 42.2 mm\n"
     ]
    },
    {
     "name": "stderr",
     "output_type": "stream",
     "text": [
      "/home/christian/code/acareeg/acareeg/lemon.py:58: RuntimeWarning: Limited 1 annotation(s) that were expanding outside the data range.\n",
      "  raw = mne.io.read_raw_eeglab(str(Path(root_path) / eeg_rel_path / f\"sub-{subject}_{event_id}.set\"), verbose=False)\n",
      "/home/christian/code/acareeg/acareeg/lemon.py:58: RuntimeWarning: The data contains 'boundary' events, indicating data discontinuities. Be cautious of filtering and epoching around these events.\n",
      "  raw = mne.io.read_raw_eeglab(str(Path(root_path) / eeg_rel_path / f\"sub-{subject}_{event_id}.set\"), verbose=False)\n",
      "/home/christian/code/acareeg/acareeg/lemon.py:58: RuntimeWarning: Limited 1 annotation(s) that were expanding outside the data range.\n",
      "  raw = mne.io.read_raw_eeglab(str(Path(root_path) / eeg_rel_path / f\"sub-{subject}_{event_id}.set\"), verbose=False)\n",
      "/home/christian/code/acareeg/acareeg/lemon.py:58: RuntimeWarning: The data contains 'boundary' events, indicating data discontinuities. Be cautious of filtering and epoching around these events.\n",
      "  raw = mne.io.read_raw_eeglab(str(Path(root_path) / eeg_rel_path / f\"sub-{subject}_{event_id}.set\"), verbose=False)\n"
     ]
    },
    {
     "name": "stdout",
     "output_type": "stream",
     "text": [
      "Fitted sphere radius:         100.8 mm\n",
      "Origin head coordinates:      1.5 -1.6 44.2 mm\n",
      "Origin device coordinates:    1.5 -1.6 44.2 mm\n"
     ]
    },
    {
     "name": "stderr",
     "output_type": "stream",
     "text": [
      "/home/christian/code/acareeg/acareeg/lemon.py:58: RuntimeWarning: Limited 1 annotation(s) that were expanding outside the data range.\n",
      "  raw = mne.io.read_raw_eeglab(str(Path(root_path) / eeg_rel_path / f\"sub-{subject}_{event_id}.set\"), verbose=False)\n",
      "/home/christian/code/acareeg/acareeg/lemon.py:58: RuntimeWarning: The data contains 'boundary' events, indicating data discontinuities. Be cautious of filtering and epoching around these events.\n",
      "  raw = mne.io.read_raw_eeglab(str(Path(root_path) / eeg_rel_path / f\"sub-{subject}_{event_id}.set\"), verbose=False)\n",
      "/home/christian/code/acareeg/acareeg/lemon.py:58: RuntimeWarning: Limited 1 annotation(s) that were expanding outside the data range.\n",
      "  raw = mne.io.read_raw_eeglab(str(Path(root_path) / eeg_rel_path / f\"sub-{subject}_{event_id}.set\"), verbose=False)\n",
      "/home/christian/code/acareeg/acareeg/lemon.py:58: RuntimeWarning: The data contains 'boundary' events, indicating data discontinuities. Be cautious of filtering and epoching around these events.\n",
      "  raw = mne.io.read_raw_eeglab(str(Path(root_path) / eeg_rel_path / f\"sub-{subject}_{event_id}.set\"), verbose=False)\n"
     ]
    },
    {
     "name": "stdout",
     "output_type": "stream",
     "text": [
      "Fitted sphere radius:         102.8 mm\n",
      "Origin head coordinates:      3.7 -1.7 38.6 mm\n",
      "Origin device coordinates:    3.7 -1.7 38.6 mm\n"
     ]
    },
    {
     "name": "stderr",
     "output_type": "stream",
     "text": [
      "/home/christian/code/acareeg/acareeg/lemon.py:58: RuntimeWarning: Limited 1 annotation(s) that were expanding outside the data range.\n",
      "  raw = mne.io.read_raw_eeglab(str(Path(root_path) / eeg_rel_path / f\"sub-{subject}_{event_id}.set\"), verbose=False)\n",
      "/home/christian/code/acareeg/acareeg/lemon.py:58: RuntimeWarning: The data contains 'boundary' events, indicating data discontinuities. Be cautious of filtering and epoching around these events.\n",
      "  raw = mne.io.read_raw_eeglab(str(Path(root_path) / eeg_rel_path / f\"sub-{subject}_{event_id}.set\"), verbose=False)\n",
      "/home/christian/code/acareeg/acareeg/lemon.py:58: RuntimeWarning: Limited 1 annotation(s) that were expanding outside the data range.\n",
      "  raw = mne.io.read_raw_eeglab(str(Path(root_path) / eeg_rel_path / f\"sub-{subject}_{event_id}.set\"), verbose=False)\n",
      "/home/christian/code/acareeg/acareeg/lemon.py:58: RuntimeWarning: The data contains 'boundary' events, indicating data discontinuities. Be cautious of filtering and epoching around these events.\n",
      "  raw = mne.io.read_raw_eeglab(str(Path(root_path) / eeg_rel_path / f\"sub-{subject}_{event_id}.set\"), verbose=False)\n"
     ]
    },
    {
     "name": "stdout",
     "output_type": "stream",
     "text": [
      "Fitted sphere radius:         98.9 mm\n",
      "Origin head coordinates:      4.7 5.1 49.1 mm\n",
      "Origin device coordinates:    4.7 5.1 49.1 mm\n"
     ]
    },
    {
     "name": "stderr",
     "output_type": "stream",
     "text": [
      "/home/christian/code/acareeg/acareeg/lemon.py:58: RuntimeWarning: Limited 1 annotation(s) that were expanding outside the data range.\n",
      "  raw = mne.io.read_raw_eeglab(str(Path(root_path) / eeg_rel_path / f\"sub-{subject}_{event_id}.set\"), verbose=False)\n",
      "/home/christian/code/acareeg/acareeg/lemon.py:58: RuntimeWarning: The data contains 'boundary' events, indicating data discontinuities. Be cautious of filtering and epoching around these events.\n",
      "  raw = mne.io.read_raw_eeglab(str(Path(root_path) / eeg_rel_path / f\"sub-{subject}_{event_id}.set\"), verbose=False)\n",
      "/home/christian/code/acareeg/acareeg/lemon.py:58: RuntimeWarning: Limited 1 annotation(s) that were expanding outside the data range.\n",
      "  raw = mne.io.read_raw_eeglab(str(Path(root_path) / eeg_rel_path / f\"sub-{subject}_{event_id}.set\"), verbose=False)\n",
      "/home/christian/code/acareeg/acareeg/lemon.py:58: RuntimeWarning: The data contains 'boundary' events, indicating data discontinuities. Be cautious of filtering and epoching around these events.\n",
      "  raw = mne.io.read_raw_eeglab(str(Path(root_path) / eeg_rel_path / f\"sub-{subject}_{event_id}.set\"), verbose=False)\n"
     ]
    },
    {
     "name": "stdout",
     "output_type": "stream",
     "text": [
      "Fitted sphere radius:         99.6 mm\n",
      "Origin head coordinates:      1.2 1.6 40.7 mm\n",
      "Origin device coordinates:    1.2 1.6 40.7 mm\n"
     ]
    },
    {
     "name": "stderr",
     "output_type": "stream",
     "text": [
      "/home/christian/code/acareeg/acareeg/lemon.py:58: RuntimeWarning: Limited 1 annotation(s) that were expanding outside the data range.\n",
      "  raw = mne.io.read_raw_eeglab(str(Path(root_path) / eeg_rel_path / f\"sub-{subject}_{event_id}.set\"), verbose=False)\n",
      "/home/christian/code/acareeg/acareeg/lemon.py:58: RuntimeWarning: The data contains 'boundary' events, indicating data discontinuities. Be cautious of filtering and epoching around these events.\n",
      "  raw = mne.io.read_raw_eeglab(str(Path(root_path) / eeg_rel_path / f\"sub-{subject}_{event_id}.set\"), verbose=False)\n",
      "/home/christian/code/acareeg/acareeg/lemon.py:58: RuntimeWarning: Limited 1 annotation(s) that were expanding outside the data range.\n",
      "  raw = mne.io.read_raw_eeglab(str(Path(root_path) / eeg_rel_path / f\"sub-{subject}_{event_id}.set\"), verbose=False)\n",
      "/home/christian/code/acareeg/acareeg/lemon.py:58: RuntimeWarning: The data contains 'boundary' events, indicating data discontinuities. Be cautious of filtering and epoching around these events.\n",
      "  raw = mne.io.read_raw_eeglab(str(Path(root_path) / eeg_rel_path / f\"sub-{subject}_{event_id}.set\"), verbose=False)\n"
     ]
    },
    {
     "name": "stdout",
     "output_type": "stream",
     "text": [
      "Fitted sphere radius:         95.4 mm\n",
      "Origin head coordinates:      3.2 -1.1 39.7 mm\n",
      "Origin device coordinates:    3.2 -1.1 39.7 mm\n"
     ]
    },
    {
     "name": "stderr",
     "output_type": "stream",
     "text": [
      "/home/christian/code/acareeg/acareeg/lemon.py:58: RuntimeWarning: Limited 1 annotation(s) that were expanding outside the data range.\n",
      "  raw = mne.io.read_raw_eeglab(str(Path(root_path) / eeg_rel_path / f\"sub-{subject}_{event_id}.set\"), verbose=False)\n",
      "/home/christian/code/acareeg/acareeg/lemon.py:58: RuntimeWarning: The data contains 'boundary' events, indicating data discontinuities. Be cautious of filtering and epoching around these events.\n",
      "  raw = mne.io.read_raw_eeglab(str(Path(root_path) / eeg_rel_path / f\"sub-{subject}_{event_id}.set\"), verbose=False)\n",
      "/home/christian/code/acareeg/acareeg/lemon.py:58: RuntimeWarning: Limited 1 annotation(s) that were expanding outside the data range.\n",
      "  raw = mne.io.read_raw_eeglab(str(Path(root_path) / eeg_rel_path / f\"sub-{subject}_{event_id}.set\"), verbose=False)\n",
      "/home/christian/code/acareeg/acareeg/lemon.py:58: RuntimeWarning: The data contains 'boundary' events, indicating data discontinuities. Be cautious of filtering and epoching around these events.\n",
      "  raw = mne.io.read_raw_eeglab(str(Path(root_path) / eeg_rel_path / f\"sub-{subject}_{event_id}.set\"), verbose=False)\n"
     ]
    },
    {
     "name": "stdout",
     "output_type": "stream",
     "text": [
      "Fitted sphere radius:         102.7 mm\n",
      "Origin head coordinates:      2.7 4.1 50.5 mm\n",
      "Origin device coordinates:    2.7 4.1 50.5 mm\n"
     ]
    },
    {
     "name": "stderr",
     "output_type": "stream",
     "text": [
      "/home/christian/code/acareeg/acareeg/lemon.py:58: RuntimeWarning: Limited 1 annotation(s) that were expanding outside the data range.\n",
      "  raw = mne.io.read_raw_eeglab(str(Path(root_path) / eeg_rel_path / f\"sub-{subject}_{event_id}.set\"), verbose=False)\n",
      "/home/christian/code/acareeg/acareeg/lemon.py:58: RuntimeWarning: The data contains 'boundary' events, indicating data discontinuities. Be cautious of filtering and epoching around these events.\n",
      "  raw = mne.io.read_raw_eeglab(str(Path(root_path) / eeg_rel_path / f\"sub-{subject}_{event_id}.set\"), verbose=False)\n",
      "/home/christian/code/acareeg/acareeg/lemon.py:58: RuntimeWarning: Limited 1 annotation(s) that were expanding outside the data range.\n",
      "  raw = mne.io.read_raw_eeglab(str(Path(root_path) / eeg_rel_path / f\"sub-{subject}_{event_id}.set\"), verbose=False)\n",
      "/home/christian/code/acareeg/acareeg/lemon.py:58: RuntimeWarning: The data contains 'boundary' events, indicating data discontinuities. Be cautious of filtering and epoching around these events.\n",
      "  raw = mne.io.read_raw_eeglab(str(Path(root_path) / eeg_rel_path / f\"sub-{subject}_{event_id}.set\"), verbose=False)\n"
     ]
    },
    {
     "name": "stdout",
     "output_type": "stream",
     "text": [
      "Fitted sphere radius:         94.5 mm\n",
      "Origin head coordinates:      -0.1 -5.1 43.7 mm\n",
      "Origin device coordinates:    -0.1 -5.1 43.7 mm\n"
     ]
    },
    {
     "name": "stderr",
     "output_type": "stream",
     "text": [
      "/home/christian/code/acareeg/acareeg/lemon.py:58: RuntimeWarning: Limited 1 annotation(s) that were expanding outside the data range.\n",
      "  raw = mne.io.read_raw_eeglab(str(Path(root_path) / eeg_rel_path / f\"sub-{subject}_{event_id}.set\"), verbose=False)\n",
      "/home/christian/code/acareeg/acareeg/lemon.py:58: RuntimeWarning: The data contains 'boundary' events, indicating data discontinuities. Be cautious of filtering and epoching around these events.\n",
      "  raw = mne.io.read_raw_eeglab(str(Path(root_path) / eeg_rel_path / f\"sub-{subject}_{event_id}.set\"), verbose=False)\n",
      "/home/christian/code/acareeg/acareeg/lemon.py:58: RuntimeWarning: Limited 1 annotation(s) that were expanding outside the data range.\n",
      "  raw = mne.io.read_raw_eeglab(str(Path(root_path) / eeg_rel_path / f\"sub-{subject}_{event_id}.set\"), verbose=False)\n",
      "/home/christian/code/acareeg/acareeg/lemon.py:58: RuntimeWarning: The data contains 'boundary' events, indicating data discontinuities. Be cautious of filtering and epoching around these events.\n",
      "  raw = mne.io.read_raw_eeglab(str(Path(root_path) / eeg_rel_path / f\"sub-{subject}_{event_id}.set\"), verbose=False)\n"
     ]
    },
    {
     "name": "stdout",
     "output_type": "stream",
     "text": [
      "Fitted sphere radius:         101.3 mm\n",
      "Origin head coordinates:      2.0 0.8 42.0 mm\n",
      "Origin device coordinates:    2.0 0.8 42.0 mm\n"
     ]
    },
    {
     "name": "stderr",
     "output_type": "stream",
     "text": [
      "/home/christian/code/acareeg/acareeg/lemon.py:58: RuntimeWarning: Limited 1 annotation(s) that were expanding outside the data range.\n",
      "  raw = mne.io.read_raw_eeglab(str(Path(root_path) / eeg_rel_path / f\"sub-{subject}_{event_id}.set\"), verbose=False)\n",
      "/home/christian/code/acareeg/acareeg/lemon.py:58: RuntimeWarning: The data contains 'boundary' events, indicating data discontinuities. Be cautious of filtering and epoching around these events.\n",
      "  raw = mne.io.read_raw_eeglab(str(Path(root_path) / eeg_rel_path / f\"sub-{subject}_{event_id}.set\"), verbose=False)\n",
      "/home/christian/code/acareeg/acareeg/lemon.py:58: RuntimeWarning: Limited 1 annotation(s) that were expanding outside the data range.\n",
      "  raw = mne.io.read_raw_eeglab(str(Path(root_path) / eeg_rel_path / f\"sub-{subject}_{event_id}.set\"), verbose=False)\n",
      "/home/christian/code/acareeg/acareeg/lemon.py:58: RuntimeWarning: The data contains 'boundary' events, indicating data discontinuities. Be cautious of filtering and epoching around these events.\n",
      "  raw = mne.io.read_raw_eeglab(str(Path(root_path) / eeg_rel_path / f\"sub-{subject}_{event_id}.set\"), verbose=False)\n"
     ]
    },
    {
     "name": "stdout",
     "output_type": "stream",
     "text": [
      "Fitted sphere radius:         96.6 mm\n",
      "Origin head coordinates:      2.1 4.9 39.7 mm\n",
      "Origin device coordinates:    2.1 4.9 39.7 mm\n"
     ]
    },
    {
     "name": "stderr",
     "output_type": "stream",
     "text": [
      "/home/christian/code/acareeg/acareeg/lemon.py:58: RuntimeWarning: Limited 1 annotation(s) that were expanding outside the data range.\n",
      "  raw = mne.io.read_raw_eeglab(str(Path(root_path) / eeg_rel_path / f\"sub-{subject}_{event_id}.set\"), verbose=False)\n",
      "/home/christian/code/acareeg/acareeg/lemon.py:58: RuntimeWarning: The data contains 'boundary' events, indicating data discontinuities. Be cautious of filtering and epoching around these events.\n",
      "  raw = mne.io.read_raw_eeglab(str(Path(root_path) / eeg_rel_path / f\"sub-{subject}_{event_id}.set\"), verbose=False)\n",
      "/home/christian/code/acareeg/acareeg/lemon.py:58: RuntimeWarning: Limited 1 annotation(s) that were expanding outside the data range.\n",
      "  raw = mne.io.read_raw_eeglab(str(Path(root_path) / eeg_rel_path / f\"sub-{subject}_{event_id}.set\"), verbose=False)\n",
      "/home/christian/code/acareeg/acareeg/lemon.py:58: RuntimeWarning: The data contains 'boundary' events, indicating data discontinuities. Be cautious of filtering and epoching around these events.\n",
      "  raw = mne.io.read_raw_eeglab(str(Path(root_path) / eeg_rel_path / f\"sub-{subject}_{event_id}.set\"), verbose=False)\n"
     ]
    },
    {
     "name": "stdout",
     "output_type": "stream",
     "text": [
      "Fitted sphere radius:         103.3 mm\n",
      "Origin head coordinates:      2.4 5.8 40.3 mm\n",
      "Origin device coordinates:    2.4 5.8 40.3 mm\n"
     ]
    },
    {
     "name": "stderr",
     "output_type": "stream",
     "text": [
      "/home/christian/code/acareeg/acareeg/lemon.py:58: RuntimeWarning: Limited 1 annotation(s) that were expanding outside the data range.\n",
      "  raw = mne.io.read_raw_eeglab(str(Path(root_path) / eeg_rel_path / f\"sub-{subject}_{event_id}.set\"), verbose=False)\n",
      "/home/christian/code/acareeg/acareeg/lemon.py:58: RuntimeWarning: The data contains 'boundary' events, indicating data discontinuities. Be cautious of filtering and epoching around these events.\n",
      "  raw = mne.io.read_raw_eeglab(str(Path(root_path) / eeg_rel_path / f\"sub-{subject}_{event_id}.set\"), verbose=False)\n",
      "/home/christian/code/acareeg/acareeg/lemon.py:58: RuntimeWarning: Limited 1 annotation(s) that were expanding outside the data range.\n",
      "  raw = mne.io.read_raw_eeglab(str(Path(root_path) / eeg_rel_path / f\"sub-{subject}_{event_id}.set\"), verbose=False)\n",
      "/home/christian/code/acareeg/acareeg/lemon.py:58: RuntimeWarning: The data contains 'boundary' events, indicating data discontinuities. Be cautious of filtering and epoching around these events.\n",
      "  raw = mne.io.read_raw_eeglab(str(Path(root_path) / eeg_rel_path / f\"sub-{subject}_{event_id}.set\"), verbose=False)\n"
     ]
    },
    {
     "name": "stdout",
     "output_type": "stream",
     "text": [
      "Fitted sphere radius:         100.7 mm\n",
      "Origin head coordinates:      1.1 0.4 42.0 mm\n",
      "Origin device coordinates:    1.1 0.4 42.0 mm\n"
     ]
    },
    {
     "name": "stderr",
     "output_type": "stream",
     "text": [
      "/home/christian/code/acareeg/acareeg/lemon.py:58: RuntimeWarning: Limited 1 annotation(s) that were expanding outside the data range.\n",
      "  raw = mne.io.read_raw_eeglab(str(Path(root_path) / eeg_rel_path / f\"sub-{subject}_{event_id}.set\"), verbose=False)\n",
      "/home/christian/code/acareeg/acareeg/lemon.py:58: RuntimeWarning: The data contains 'boundary' events, indicating data discontinuities. Be cautious of filtering and epoching around these events.\n",
      "  raw = mne.io.read_raw_eeglab(str(Path(root_path) / eeg_rel_path / f\"sub-{subject}_{event_id}.set\"), verbose=False)\n",
      "/home/christian/code/acareeg/acareeg/lemon.py:58: RuntimeWarning: Limited 1 annotation(s) that were expanding outside the data range.\n",
      "  raw = mne.io.read_raw_eeglab(str(Path(root_path) / eeg_rel_path / f\"sub-{subject}_{event_id}.set\"), verbose=False)\n",
      "/home/christian/code/acareeg/acareeg/lemon.py:58: RuntimeWarning: The data contains 'boundary' events, indicating data discontinuities. Be cautious of filtering and epoching around these events.\n",
      "  raw = mne.io.read_raw_eeglab(str(Path(root_path) / eeg_rel_path / f\"sub-{subject}_{event_id}.set\"), verbose=False)\n"
     ]
    },
    {
     "name": "stdout",
     "output_type": "stream",
     "text": [
      "Fitted sphere radius:         98.9 mm\n",
      "Origin head coordinates:      4.5 4.0 40.4 mm\n",
      "Origin device coordinates:    4.5 4.0 40.4 mm\n",
      "\n"
     ]
    }
   ],
   "source": [
    "trials = []\n",
    "trials_csd = []\n",
    "for subject in tqdm(complete_subjects):\n",
    "    path = path_eeg / f\"sub-{subject}_{event_id}.set\"\n",
    "    trials.append(get_trials_lemon(subject, lemon_root, [event_id], use_csd=False).sel(epoch=nb_selected_epochs))\n",
    "    trials_csd.append(get_trials_lemon(subject, lemon_root, [event_id], use_csd=True).sel(epoch=nb_selected_epochs))\n",
    "trials = xr.concat(trials, dim=\"subject\")\n",
    "trials_csd = xr.concat(trials_csd, dim=\"subject\")"
   ]
  },
  {
   "cell_type": "markdown",
   "metadata": {},
   "source": [
    "# Building a dataframe with subjects' electrode positions"
   ]
  },
  {
   "cell_type": "code",
   "execution_count": 7,
   "metadata": {
    "scrolled": true
   },
   "outputs": [
    {
     "name": "stderr",
     "output_type": "stream",
     "text": [
      "/home/christian/code/acareeg/acareeg/lemon.py:58: RuntimeWarning: Limited 1 annotation(s) that were expanding outside the data range.\n",
      "  raw = mne.io.read_raw_eeglab(str(Path(root_path) / eeg_rel_path / f\"sub-{subject}_{event_id}.set\"), verbose=False)\n",
      "/home/christian/code/acareeg/acareeg/lemon.py:58: RuntimeWarning: The data contains 'boundary' events, indicating data discontinuities. Be cautious of filtering and epoching around these events.\n",
      "  raw = mne.io.read_raw_eeglab(str(Path(root_path) / eeg_rel_path / f\"sub-{subject}_{event_id}.set\"), verbose=False)\n",
      "/home/christian/code/acareeg/acareeg/lemon.py:58: RuntimeWarning: Limited 1 annotation(s) that were expanding outside the data range.\n",
      "  raw = mne.io.read_raw_eeglab(str(Path(root_path) / eeg_rel_path / f\"sub-{subject}_{event_id}.set\"), verbose=False)\n",
      "/home/christian/code/acareeg/acareeg/lemon.py:58: RuntimeWarning: The data contains 'boundary' events, indicating data discontinuities. Be cautious of filtering and epoching around these events.\n",
      "  raw = mne.io.read_raw_eeglab(str(Path(root_path) / eeg_rel_path / f\"sub-{subject}_{event_id}.set\"), verbose=False)\n",
      "/home/christian/code/acareeg/acareeg/lemon.py:58: RuntimeWarning: Limited 1 annotation(s) that were expanding outside the data range.\n",
      "  raw = mne.io.read_raw_eeglab(str(Path(root_path) / eeg_rel_path / f\"sub-{subject}_{event_id}.set\"), verbose=False)\n",
      "/home/christian/code/acareeg/acareeg/lemon.py:58: RuntimeWarning: The data contains 'boundary' events, indicating data discontinuities. Be cautious of filtering and epoching around these events.\n",
      "  raw = mne.io.read_raw_eeglab(str(Path(root_path) / eeg_rel_path / f\"sub-{subject}_{event_id}.set\"), verbose=False)\n",
      "/home/christian/code/acareeg/acareeg/lemon.py:58: RuntimeWarning: Limited 1 annotation(s) that were expanding outside the data range.\n",
      "  raw = mne.io.read_raw_eeglab(str(Path(root_path) / eeg_rel_path / f\"sub-{subject}_{event_id}.set\"), verbose=False)\n",
      "/home/christian/code/acareeg/acareeg/lemon.py:58: RuntimeWarning: The data contains 'boundary' events, indicating data discontinuities. Be cautious of filtering and epoching around these events.\n",
      "  raw = mne.io.read_raw_eeglab(str(Path(root_path) / eeg_rel_path / f\"sub-{subject}_{event_id}.set\"), verbose=False)\n",
      "/home/christian/code/acareeg/acareeg/lemon.py:58: RuntimeWarning: Limited 1 annotation(s) that were expanding outside the data range.\n",
      "  raw = mne.io.read_raw_eeglab(str(Path(root_path) / eeg_rel_path / f\"sub-{subject}_{event_id}.set\"), verbose=False)\n",
      "/home/christian/code/acareeg/acareeg/lemon.py:58: RuntimeWarning: The data contains 'boundary' events, indicating data discontinuities. Be cautious of filtering and epoching around these events.\n",
      "  raw = mne.io.read_raw_eeglab(str(Path(root_path) / eeg_rel_path / f\"sub-{subject}_{event_id}.set\"), verbose=False)\n",
      "/home/christian/code/acareeg/acareeg/lemon.py:58: RuntimeWarning: Limited 1 annotation(s) that were expanding outside the data range.\n",
      "  raw = mne.io.read_raw_eeglab(str(Path(root_path) / eeg_rel_path / f\"sub-{subject}_{event_id}.set\"), verbose=False)\n",
      "/home/christian/code/acareeg/acareeg/lemon.py:58: RuntimeWarning: The data contains 'boundary' events, indicating data discontinuities. Be cautious of filtering and epoching around these events.\n",
      "  raw = mne.io.read_raw_eeglab(str(Path(root_path) / eeg_rel_path / f\"sub-{subject}_{event_id}.set\"), verbose=False)\n",
      "/home/christian/code/acareeg/acareeg/lemon.py:58: RuntimeWarning: Limited 1 annotation(s) that were expanding outside the data range.\n",
      "  raw = mne.io.read_raw_eeglab(str(Path(root_path) / eeg_rel_path / f\"sub-{subject}_{event_id}.set\"), verbose=False)\n",
      "/home/christian/code/acareeg/acareeg/lemon.py:58: RuntimeWarning: The data contains 'boundary' events, indicating data discontinuities. Be cautious of filtering and epoching around these events.\n",
      "  raw = mne.io.read_raw_eeglab(str(Path(root_path) / eeg_rel_path / f\"sub-{subject}_{event_id}.set\"), verbose=False)\n",
      "/home/christian/code/acareeg/acareeg/lemon.py:58: RuntimeWarning: Limited 1 annotation(s) that were expanding outside the data range.\n",
      "  raw = mne.io.read_raw_eeglab(str(Path(root_path) / eeg_rel_path / f\"sub-{subject}_{event_id}.set\"), verbose=False)\n",
      "/home/christian/code/acareeg/acareeg/lemon.py:58: RuntimeWarning: The data contains 'boundary' events, indicating data discontinuities. Be cautious of filtering and epoching around these events.\n",
      "  raw = mne.io.read_raw_eeglab(str(Path(root_path) / eeg_rel_path / f\"sub-{subject}_{event_id}.set\"), verbose=False)\n",
      "/home/christian/code/acareeg/acareeg/lemon.py:58: RuntimeWarning: Limited 1 annotation(s) that were expanding outside the data range.\n",
      "  raw = mne.io.read_raw_eeglab(str(Path(root_path) / eeg_rel_path / f\"sub-{subject}_{event_id}.set\"), verbose=False)\n",
      "/home/christian/code/acareeg/acareeg/lemon.py:58: RuntimeWarning: The data contains 'boundary' events, indicating data discontinuities. Be cautious of filtering and epoching around these events.\n",
      "  raw = mne.io.read_raw_eeglab(str(Path(root_path) / eeg_rel_path / f\"sub-{subject}_{event_id}.set\"), verbose=False)\n",
      "/home/christian/code/acareeg/acareeg/lemon.py:58: RuntimeWarning: Limited 1 annotation(s) that were expanding outside the data range.\n",
      "  raw = mne.io.read_raw_eeglab(str(Path(root_path) / eeg_rel_path / f\"sub-{subject}_{event_id}.set\"), verbose=False)\n",
      "/home/christian/code/acareeg/acareeg/lemon.py:58: RuntimeWarning: The data contains 'boundary' events, indicating data discontinuities. Be cautious of filtering and epoching around these events.\n",
      "  raw = mne.io.read_raw_eeglab(str(Path(root_path) / eeg_rel_path / f\"sub-{subject}_{event_id}.set\"), verbose=False)\n",
      "/home/christian/code/acareeg/acareeg/lemon.py:58: RuntimeWarning: Limited 1 annotation(s) that were expanding outside the data range.\n",
      "  raw = mne.io.read_raw_eeglab(str(Path(root_path) / eeg_rel_path / f\"sub-{subject}_{event_id}.set\"), verbose=False)\n",
      "/home/christian/code/acareeg/acareeg/lemon.py:58: RuntimeWarning: The data contains 'boundary' events, indicating data discontinuities. Be cautious of filtering and epoching around these events.\n",
      "  raw = mne.io.read_raw_eeglab(str(Path(root_path) / eeg_rel_path / f\"sub-{subject}_{event_id}.set\"), verbose=False)\n",
      "/home/christian/code/acareeg/acareeg/lemon.py:58: RuntimeWarning: Limited 1 annotation(s) that were expanding outside the data range.\n",
      "  raw = mne.io.read_raw_eeglab(str(Path(root_path) / eeg_rel_path / f\"sub-{subject}_{event_id}.set\"), verbose=False)\n",
      "/home/christian/code/acareeg/acareeg/lemon.py:58: RuntimeWarning: The data contains 'boundary' events, indicating data discontinuities. Be cautious of filtering and epoching around these events.\n",
      "  raw = mne.io.read_raw_eeglab(str(Path(root_path) / eeg_rel_path / f\"sub-{subject}_{event_id}.set\"), verbose=False)\n",
      "/home/christian/code/acareeg/acareeg/lemon.py:58: RuntimeWarning: Limited 1 annotation(s) that were expanding outside the data range.\n",
      "  raw = mne.io.read_raw_eeglab(str(Path(root_path) / eeg_rel_path / f\"sub-{subject}_{event_id}.set\"), verbose=False)\n",
      "/home/christian/code/acareeg/acareeg/lemon.py:58: RuntimeWarning: The data contains 'boundary' events, indicating data discontinuities. Be cautious of filtering and epoching around these events.\n",
      "  raw = mne.io.read_raw_eeglab(str(Path(root_path) / eeg_rel_path / f\"sub-{subject}_{event_id}.set\"), verbose=False)\n",
      "/home/christian/code/acareeg/acareeg/lemon.py:58: RuntimeWarning: Limited 1 annotation(s) that were expanding outside the data range.\n",
      "  raw = mne.io.read_raw_eeglab(str(Path(root_path) / eeg_rel_path / f\"sub-{subject}_{event_id}.set\"), verbose=False)\n",
      "/home/christian/code/acareeg/acareeg/lemon.py:58: RuntimeWarning: The data contains 'boundary' events, indicating data discontinuities. Be cautious of filtering and epoching around these events.\n",
      "  raw = mne.io.read_raw_eeglab(str(Path(root_path) / eeg_rel_path / f\"sub-{subject}_{event_id}.set\"), verbose=False)\n",
      "/home/christian/code/acareeg/acareeg/lemon.py:58: RuntimeWarning: Limited 1 annotation(s) that were expanding outside the data range.\n",
      "  raw = mne.io.read_raw_eeglab(str(Path(root_path) / eeg_rel_path / f\"sub-{subject}_{event_id}.set\"), verbose=False)\n",
      "/home/christian/code/acareeg/acareeg/lemon.py:58: RuntimeWarning: The data contains 'boundary' events, indicating data discontinuities. Be cautious of filtering and epoching around these events.\n",
      "  raw = mne.io.read_raw_eeglab(str(Path(root_path) / eeg_rel_path / f\"sub-{subject}_{event_id}.set\"), verbose=False)\n",
      "/home/christian/code/acareeg/acareeg/lemon.py:58: RuntimeWarning: Limited 1 annotation(s) that were expanding outside the data range.\n",
      "  raw = mne.io.read_raw_eeglab(str(Path(root_path) / eeg_rel_path / f\"sub-{subject}_{event_id}.set\"), verbose=False)\n",
      "/home/christian/code/acareeg/acareeg/lemon.py:58: RuntimeWarning: The data contains 'boundary' events, indicating data discontinuities. Be cautious of filtering and epoching around these events.\n",
      "  raw = mne.io.read_raw_eeglab(str(Path(root_path) / eeg_rel_path / f\"sub-{subject}_{event_id}.set\"), verbose=False)\n"
     ]
    },
    {
     "name": "stderr",
     "output_type": "stream",
     "text": [
      "/home/christian/code/acareeg/acareeg/lemon.py:58: RuntimeWarning: Limited 1 annotation(s) that were expanding outside the data range.\n",
      "  raw = mne.io.read_raw_eeglab(str(Path(root_path) / eeg_rel_path / f\"sub-{subject}_{event_id}.set\"), verbose=False)\n",
      "/home/christian/code/acareeg/acareeg/lemon.py:58: RuntimeWarning: The data contains 'boundary' events, indicating data discontinuities. Be cautious of filtering and epoching around these events.\n",
      "  raw = mne.io.read_raw_eeglab(str(Path(root_path) / eeg_rel_path / f\"sub-{subject}_{event_id}.set\"), verbose=False)\n",
      "/home/christian/code/acareeg/acareeg/lemon.py:58: RuntimeWarning: Limited 1 annotation(s) that were expanding outside the data range.\n",
      "  raw = mne.io.read_raw_eeglab(str(Path(root_path) / eeg_rel_path / f\"sub-{subject}_{event_id}.set\"), verbose=False)\n",
      "/home/christian/code/acareeg/acareeg/lemon.py:58: RuntimeWarning: The data contains 'boundary' events, indicating data discontinuities. Be cautious of filtering and epoching around these events.\n",
      "  raw = mne.io.read_raw_eeglab(str(Path(root_path) / eeg_rel_path / f\"sub-{subject}_{event_id}.set\"), verbose=False)\n",
      "/home/christian/code/acareeg/acareeg/lemon.py:58: RuntimeWarning: Limited 1 annotation(s) that were expanding outside the data range.\n",
      "  raw = mne.io.read_raw_eeglab(str(Path(root_path) / eeg_rel_path / f\"sub-{subject}_{event_id}.set\"), verbose=False)\n",
      "/home/christian/code/acareeg/acareeg/lemon.py:58: RuntimeWarning: The data contains 'boundary' events, indicating data discontinuities. Be cautious of filtering and epoching around these events.\n",
      "  raw = mne.io.read_raw_eeglab(str(Path(root_path) / eeg_rel_path / f\"sub-{subject}_{event_id}.set\"), verbose=False)\n",
      "/home/christian/code/acareeg/acareeg/lemon.py:58: RuntimeWarning: Limited 1 annotation(s) that were expanding outside the data range.\n",
      "  raw = mne.io.read_raw_eeglab(str(Path(root_path) / eeg_rel_path / f\"sub-{subject}_{event_id}.set\"), verbose=False)\n",
      "/home/christian/code/acareeg/acareeg/lemon.py:58: RuntimeWarning: The data contains 'boundary' events, indicating data discontinuities. Be cautious of filtering and epoching around these events.\n",
      "  raw = mne.io.read_raw_eeglab(str(Path(root_path) / eeg_rel_path / f\"sub-{subject}_{event_id}.set\"), verbose=False)\n",
      "/home/christian/code/acareeg/acareeg/lemon.py:58: RuntimeWarning: Limited 1 annotation(s) that were expanding outside the data range.\n",
      "  raw = mne.io.read_raw_eeglab(str(Path(root_path) / eeg_rel_path / f\"sub-{subject}_{event_id}.set\"), verbose=False)\n",
      "/home/christian/code/acareeg/acareeg/lemon.py:58: RuntimeWarning: The data contains 'boundary' events, indicating data discontinuities. Be cautious of filtering and epoching around these events.\n",
      "  raw = mne.io.read_raw_eeglab(str(Path(root_path) / eeg_rel_path / f\"sub-{subject}_{event_id}.set\"), verbose=False)\n",
      "/home/christian/code/acareeg/acareeg/lemon.py:58: RuntimeWarning: Limited 1 annotation(s) that were expanding outside the data range.\n",
      "  raw = mne.io.read_raw_eeglab(str(Path(root_path) / eeg_rel_path / f\"sub-{subject}_{event_id}.set\"), verbose=False)\n",
      "/home/christian/code/acareeg/acareeg/lemon.py:58: RuntimeWarning: The data contains 'boundary' events, indicating data discontinuities. Be cautious of filtering and epoching around these events.\n",
      "  raw = mne.io.read_raw_eeglab(str(Path(root_path) / eeg_rel_path / f\"sub-{subject}_{event_id}.set\"), verbose=False)\n",
      "/home/christian/code/acareeg/acareeg/lemon.py:58: RuntimeWarning: Limited 1 annotation(s) that were expanding outside the data range.\n",
      "  raw = mne.io.read_raw_eeglab(str(Path(root_path) / eeg_rel_path / f\"sub-{subject}_{event_id}.set\"), verbose=False)\n",
      "/home/christian/code/acareeg/acareeg/lemon.py:58: RuntimeWarning: The data contains 'boundary' events, indicating data discontinuities. Be cautious of filtering and epoching around these events.\n",
      "  raw = mne.io.read_raw_eeglab(str(Path(root_path) / eeg_rel_path / f\"sub-{subject}_{event_id}.set\"), verbose=False)\n",
      "/home/christian/code/acareeg/acareeg/lemon.py:58: RuntimeWarning: Limited 1 annotation(s) that were expanding outside the data range.\n",
      "  raw = mne.io.read_raw_eeglab(str(Path(root_path) / eeg_rel_path / f\"sub-{subject}_{event_id}.set\"), verbose=False)\n",
      "/home/christian/code/acareeg/acareeg/lemon.py:58: RuntimeWarning: The data contains 'boundary' events, indicating data discontinuities. Be cautious of filtering and epoching around these events.\n",
      "  raw = mne.io.read_raw_eeglab(str(Path(root_path) / eeg_rel_path / f\"sub-{subject}_{event_id}.set\"), verbose=False)\n",
      "/home/christian/code/acareeg/acareeg/lemon.py:58: RuntimeWarning: Limited 1 annotation(s) that were expanding outside the data range.\n",
      "  raw = mne.io.read_raw_eeglab(str(Path(root_path) / eeg_rel_path / f\"sub-{subject}_{event_id}.set\"), verbose=False)\n",
      "/home/christian/code/acareeg/acareeg/lemon.py:58: RuntimeWarning: The data contains 'boundary' events, indicating data discontinuities. Be cautious of filtering and epoching around these events.\n",
      "  raw = mne.io.read_raw_eeglab(str(Path(root_path) / eeg_rel_path / f\"sub-{subject}_{event_id}.set\"), verbose=False)\n",
      "/home/christian/code/acareeg/acareeg/lemon.py:58: RuntimeWarning: Limited 1 annotation(s) that were expanding outside the data range.\n",
      "  raw = mne.io.read_raw_eeglab(str(Path(root_path) / eeg_rel_path / f\"sub-{subject}_{event_id}.set\"), verbose=False)\n",
      "/home/christian/code/acareeg/acareeg/lemon.py:58: RuntimeWarning: The data contains 'boundary' events, indicating data discontinuities. Be cautious of filtering and epoching around these events.\n",
      "  raw = mne.io.read_raw_eeglab(str(Path(root_path) / eeg_rel_path / f\"sub-{subject}_{event_id}.set\"), verbose=False)\n",
      "/home/christian/code/acareeg/acareeg/lemon.py:58: RuntimeWarning: Limited 1 annotation(s) that were expanding outside the data range.\n",
      "  raw = mne.io.read_raw_eeglab(str(Path(root_path) / eeg_rel_path / f\"sub-{subject}_{event_id}.set\"), verbose=False)\n",
      "/home/christian/code/acareeg/acareeg/lemon.py:58: RuntimeWarning: The data contains 'boundary' events, indicating data discontinuities. Be cautious of filtering and epoching around these events.\n",
      "  raw = mne.io.read_raw_eeglab(str(Path(root_path) / eeg_rel_path / f\"sub-{subject}_{event_id}.set\"), verbose=False)\n",
      "/home/christian/code/acareeg/acareeg/lemon.py:58: RuntimeWarning: Limited 1 annotation(s) that were expanding outside the data range.\n",
      "  raw = mne.io.read_raw_eeglab(str(Path(root_path) / eeg_rel_path / f\"sub-{subject}_{event_id}.set\"), verbose=False)\n",
      "/home/christian/code/acareeg/acareeg/lemon.py:58: RuntimeWarning: The data contains 'boundary' events, indicating data discontinuities. Be cautious of filtering and epoching around these events.\n",
      "  raw = mne.io.read_raw_eeglab(str(Path(root_path) / eeg_rel_path / f\"sub-{subject}_{event_id}.set\"), verbose=False)\n",
      "/home/christian/code/acareeg/acareeg/lemon.py:58: RuntimeWarning: Limited 1 annotation(s) that were expanding outside the data range.\n",
      "  raw = mne.io.read_raw_eeglab(str(Path(root_path) / eeg_rel_path / f\"sub-{subject}_{event_id}.set\"), verbose=False)\n",
      "/home/christian/code/acareeg/acareeg/lemon.py:58: RuntimeWarning: The data contains 'boundary' events, indicating data discontinuities. Be cautious of filtering and epoching around these events.\n",
      "  raw = mne.io.read_raw_eeglab(str(Path(root_path) / eeg_rel_path / f\"sub-{subject}_{event_id}.set\"), verbose=False)\n",
      "/home/christian/code/acareeg/acareeg/lemon.py:58: RuntimeWarning: Limited 1 annotation(s) that were expanding outside the data range.\n",
      "  raw = mne.io.read_raw_eeglab(str(Path(root_path) / eeg_rel_path / f\"sub-{subject}_{event_id}.set\"), verbose=False)\n",
      "/home/christian/code/acareeg/acareeg/lemon.py:58: RuntimeWarning: The data contains 'boundary' events, indicating data discontinuities. Be cautious of filtering and epoching around these events.\n",
      "  raw = mne.io.read_raw_eeglab(str(Path(root_path) / eeg_rel_path / f\"sub-{subject}_{event_id}.set\"), verbose=False)\n",
      "/home/christian/code/acareeg/acareeg/lemon.py:58: RuntimeWarning: Limited 1 annotation(s) that were expanding outside the data range.\n",
      "  raw = mne.io.read_raw_eeglab(str(Path(root_path) / eeg_rel_path / f\"sub-{subject}_{event_id}.set\"), verbose=False)\n",
      "/home/christian/code/acareeg/acareeg/lemon.py:58: RuntimeWarning: The data contains 'boundary' events, indicating data discontinuities. Be cautious of filtering and epoching around these events.\n",
      "  raw = mne.io.read_raw_eeglab(str(Path(root_path) / eeg_rel_path / f\"sub-{subject}_{event_id}.set\"), verbose=False)\n"
     ]
    },
    {
     "name": "stderr",
     "output_type": "stream",
     "text": [
      "/home/christian/code/acareeg/acareeg/lemon.py:58: RuntimeWarning: Limited 1 annotation(s) that were expanding outside the data range.\n",
      "  raw = mne.io.read_raw_eeglab(str(Path(root_path) / eeg_rel_path / f\"sub-{subject}_{event_id}.set\"), verbose=False)\n",
      "/home/christian/code/acareeg/acareeg/lemon.py:58: RuntimeWarning: The data contains 'boundary' events, indicating data discontinuities. Be cautious of filtering and epoching around these events.\n",
      "  raw = mne.io.read_raw_eeglab(str(Path(root_path) / eeg_rel_path / f\"sub-{subject}_{event_id}.set\"), verbose=False)\n",
      "/home/christian/code/acareeg/acareeg/lemon.py:58: RuntimeWarning: Limited 1 annotation(s) that were expanding outside the data range.\n",
      "  raw = mne.io.read_raw_eeglab(str(Path(root_path) / eeg_rel_path / f\"sub-{subject}_{event_id}.set\"), verbose=False)\n",
      "/home/christian/code/acareeg/acareeg/lemon.py:58: RuntimeWarning: The data contains 'boundary' events, indicating data discontinuities. Be cautious of filtering and epoching around these events.\n",
      "  raw = mne.io.read_raw_eeglab(str(Path(root_path) / eeg_rel_path / f\"sub-{subject}_{event_id}.set\"), verbose=False)\n",
      "/home/christian/code/acareeg/acareeg/lemon.py:58: RuntimeWarning: Limited 1 annotation(s) that were expanding outside the data range.\n",
      "  raw = mne.io.read_raw_eeglab(str(Path(root_path) / eeg_rel_path / f\"sub-{subject}_{event_id}.set\"), verbose=False)\n",
      "/home/christian/code/acareeg/acareeg/lemon.py:58: RuntimeWarning: The data contains 'boundary' events, indicating data discontinuities. Be cautious of filtering and epoching around these events.\n",
      "  raw = mne.io.read_raw_eeglab(str(Path(root_path) / eeg_rel_path / f\"sub-{subject}_{event_id}.set\"), verbose=False)\n",
      "/home/christian/code/acareeg/acareeg/lemon.py:58: RuntimeWarning: Limited 1 annotation(s) that were expanding outside the data range.\n",
      "  raw = mne.io.read_raw_eeglab(str(Path(root_path) / eeg_rel_path / f\"sub-{subject}_{event_id}.set\"), verbose=False)\n",
      "/home/christian/code/acareeg/acareeg/lemon.py:58: RuntimeWarning: The data contains 'boundary' events, indicating data discontinuities. Be cautious of filtering and epoching around these events.\n",
      "  raw = mne.io.read_raw_eeglab(str(Path(root_path) / eeg_rel_path / f\"sub-{subject}_{event_id}.set\"), verbose=False)\n",
      "/home/christian/code/acareeg/acareeg/lemon.py:58: RuntimeWarning: Limited 1 annotation(s) that were expanding outside the data range.\n",
      "  raw = mne.io.read_raw_eeglab(str(Path(root_path) / eeg_rel_path / f\"sub-{subject}_{event_id}.set\"), verbose=False)\n",
      "/home/christian/code/acareeg/acareeg/lemon.py:58: RuntimeWarning: The data contains 'boundary' events, indicating data discontinuities. Be cautious of filtering and epoching around these events.\n",
      "  raw = mne.io.read_raw_eeglab(str(Path(root_path) / eeg_rel_path / f\"sub-{subject}_{event_id}.set\"), verbose=False)\n",
      "/home/christian/code/acareeg/acareeg/lemon.py:58: RuntimeWarning: Limited 1 annotation(s) that were expanding outside the data range.\n",
      "  raw = mne.io.read_raw_eeglab(str(Path(root_path) / eeg_rel_path / f\"sub-{subject}_{event_id}.set\"), verbose=False)\n",
      "/home/christian/code/acareeg/acareeg/lemon.py:58: RuntimeWarning: The data contains 'boundary' events, indicating data discontinuities. Be cautious of filtering and epoching around these events.\n",
      "  raw = mne.io.read_raw_eeglab(str(Path(root_path) / eeg_rel_path / f\"sub-{subject}_{event_id}.set\"), verbose=False)\n",
      "/home/christian/code/acareeg/acareeg/lemon.py:58: RuntimeWarning: Limited 1 annotation(s) that were expanding outside the data range.\n",
      "  raw = mne.io.read_raw_eeglab(str(Path(root_path) / eeg_rel_path / f\"sub-{subject}_{event_id}.set\"), verbose=False)\n",
      "/home/christian/code/acareeg/acareeg/lemon.py:58: RuntimeWarning: The data contains 'boundary' events, indicating data discontinuities. Be cautious of filtering and epoching around these events.\n",
      "  raw = mne.io.read_raw_eeglab(str(Path(root_path) / eeg_rel_path / f\"sub-{subject}_{event_id}.set\"), verbose=False)\n",
      "/home/christian/code/acareeg/acareeg/lemon.py:58: RuntimeWarning: Limited 1 annotation(s) that were expanding outside the data range.\n",
      "  raw = mne.io.read_raw_eeglab(str(Path(root_path) / eeg_rel_path / f\"sub-{subject}_{event_id}.set\"), verbose=False)\n",
      "/home/christian/code/acareeg/acareeg/lemon.py:58: RuntimeWarning: The data contains 'boundary' events, indicating data discontinuities. Be cautious of filtering and epoching around these events.\n",
      "  raw = mne.io.read_raw_eeglab(str(Path(root_path) / eeg_rel_path / f\"sub-{subject}_{event_id}.set\"), verbose=False)\n",
      "/home/christian/code/acareeg/acareeg/lemon.py:58: RuntimeWarning: Limited 1 annotation(s) that were expanding outside the data range.\n",
      "  raw = mne.io.read_raw_eeglab(str(Path(root_path) / eeg_rel_path / f\"sub-{subject}_{event_id}.set\"), verbose=False)\n",
      "/home/christian/code/acareeg/acareeg/lemon.py:58: RuntimeWarning: The data contains 'boundary' events, indicating data discontinuities. Be cautious of filtering and epoching around these events.\n",
      "  raw = mne.io.read_raw_eeglab(str(Path(root_path) / eeg_rel_path / f\"sub-{subject}_{event_id}.set\"), verbose=False)\n",
      "/home/christian/code/acareeg/acareeg/lemon.py:58: RuntimeWarning: Limited 1 annotation(s) that were expanding outside the data range.\n",
      "  raw = mne.io.read_raw_eeglab(str(Path(root_path) / eeg_rel_path / f\"sub-{subject}_{event_id}.set\"), verbose=False)\n",
      "/home/christian/code/acareeg/acareeg/lemon.py:58: RuntimeWarning: The data contains 'boundary' events, indicating data discontinuities. Be cautious of filtering and epoching around these events.\n",
      "  raw = mne.io.read_raw_eeglab(str(Path(root_path) / eeg_rel_path / f\"sub-{subject}_{event_id}.set\"), verbose=False)\n",
      "/home/christian/code/acareeg/acareeg/lemon.py:58: RuntimeWarning: Limited 1 annotation(s) that were expanding outside the data range.\n",
      "  raw = mne.io.read_raw_eeglab(str(Path(root_path) / eeg_rel_path / f\"sub-{subject}_{event_id}.set\"), verbose=False)\n",
      "/home/christian/code/acareeg/acareeg/lemon.py:58: RuntimeWarning: The data contains 'boundary' events, indicating data discontinuities. Be cautious of filtering and epoching around these events.\n",
      "  raw = mne.io.read_raw_eeglab(str(Path(root_path) / eeg_rel_path / f\"sub-{subject}_{event_id}.set\"), verbose=False)\n",
      "/home/christian/code/acareeg/acareeg/lemon.py:58: RuntimeWarning: Limited 1 annotation(s) that were expanding outside the data range.\n",
      "  raw = mne.io.read_raw_eeglab(str(Path(root_path) / eeg_rel_path / f\"sub-{subject}_{event_id}.set\"), verbose=False)\n",
      "/home/christian/code/acareeg/acareeg/lemon.py:58: RuntimeWarning: The data contains 'boundary' events, indicating data discontinuities. Be cautious of filtering and epoching around these events.\n",
      "  raw = mne.io.read_raw_eeglab(str(Path(root_path) / eeg_rel_path / f\"sub-{subject}_{event_id}.set\"), verbose=False)\n",
      "/home/christian/code/acareeg/acareeg/lemon.py:58: RuntimeWarning: Limited 1 annotation(s) that were expanding outside the data range.\n",
      "  raw = mne.io.read_raw_eeglab(str(Path(root_path) / eeg_rel_path / f\"sub-{subject}_{event_id}.set\"), verbose=False)\n",
      "/home/christian/code/acareeg/acareeg/lemon.py:58: RuntimeWarning: The data contains 'boundary' events, indicating data discontinuities. Be cautious of filtering and epoching around these events.\n",
      "  raw = mne.io.read_raw_eeglab(str(Path(root_path) / eeg_rel_path / f\"sub-{subject}_{event_id}.set\"), verbose=False)\n",
      "/home/christian/code/acareeg/acareeg/lemon.py:58: RuntimeWarning: Limited 1 annotation(s) that were expanding outside the data range.\n",
      "  raw = mne.io.read_raw_eeglab(str(Path(root_path) / eeg_rel_path / f\"sub-{subject}_{event_id}.set\"), verbose=False)\n",
      "/home/christian/code/acareeg/acareeg/lemon.py:58: RuntimeWarning: The data contains 'boundary' events, indicating data discontinuities. Be cautious of filtering and epoching around these events.\n",
      "  raw = mne.io.read_raw_eeglab(str(Path(root_path) / eeg_rel_path / f\"sub-{subject}_{event_id}.set\"), verbose=False)\n",
      "/home/christian/code/acareeg/acareeg/lemon.py:58: RuntimeWarning: Limited 1 annotation(s) that were expanding outside the data range.\n",
      "  raw = mne.io.read_raw_eeglab(str(Path(root_path) / eeg_rel_path / f\"sub-{subject}_{event_id}.set\"), verbose=False)\n",
      "/home/christian/code/acareeg/acareeg/lemon.py:58: RuntimeWarning: The data contains 'boundary' events, indicating data discontinuities. Be cautious of filtering and epoching around these events.\n",
      "  raw = mne.io.read_raw_eeglab(str(Path(root_path) / eeg_rel_path / f\"sub-{subject}_{event_id}.set\"), verbose=False)\n",
      "/home/christian/code/acareeg/acareeg/lemon.py:58: RuntimeWarning: Limited 1 annotation(s) that were expanding outside the data range.\n",
      "  raw = mne.io.read_raw_eeglab(str(Path(root_path) / eeg_rel_path / f\"sub-{subject}_{event_id}.set\"), verbose=False)\n",
      "/home/christian/code/acareeg/acareeg/lemon.py:58: RuntimeWarning: The data contains 'boundary' events, indicating data discontinuities. Be cautious of filtering and epoching around these events.\n",
      "  raw = mne.io.read_raw_eeglab(str(Path(root_path) / eeg_rel_path / f\"sub-{subject}_{event_id}.set\"), verbose=False)\n",
      "/home/christian/code/acareeg/acareeg/lemon.py:58: RuntimeWarning: Limited 1 annotation(s) that were expanding outside the data range.\n",
      "  raw = mne.io.read_raw_eeglab(str(Path(root_path) / eeg_rel_path / f\"sub-{subject}_{event_id}.set\"), verbose=False)\n",
      "/home/christian/code/acareeg/acareeg/lemon.py:58: RuntimeWarning: The data contains 'boundary' events, indicating data discontinuities. Be cautious of filtering and epoching around these events.\n",
      "  raw = mne.io.read_raw_eeglab(str(Path(root_path) / eeg_rel_path / f\"sub-{subject}_{event_id}.set\"), verbose=False)\n",
      "/home/christian/code/acareeg/acareeg/lemon.py:58: RuntimeWarning: Limited 1 annotation(s) that were expanding outside the data range.\n",
      "  raw = mne.io.read_raw_eeglab(str(Path(root_path) / eeg_rel_path / f\"sub-{subject}_{event_id}.set\"), verbose=False)\n",
      "/home/christian/code/acareeg/acareeg/lemon.py:58: RuntimeWarning: The data contains 'boundary' events, indicating data discontinuities. Be cautious of filtering and epoching around these events.\n",
      "  raw = mne.io.read_raw_eeglab(str(Path(root_path) / eeg_rel_path / f\"sub-{subject}_{event_id}.set\"), verbose=False)\n"
     ]
    },
    {
     "name": "stderr",
     "output_type": "stream",
     "text": [
      "/home/christian/code/acareeg/acareeg/lemon.py:58: RuntimeWarning: Limited 1 annotation(s) that were expanding outside the data range.\n",
      "  raw = mne.io.read_raw_eeglab(str(Path(root_path) / eeg_rel_path / f\"sub-{subject}_{event_id}.set\"), verbose=False)\n",
      "/home/christian/code/acareeg/acareeg/lemon.py:58: RuntimeWarning: The data contains 'boundary' events, indicating data discontinuities. Be cautious of filtering and epoching around these events.\n",
      "  raw = mne.io.read_raw_eeglab(str(Path(root_path) / eeg_rel_path / f\"sub-{subject}_{event_id}.set\"), verbose=False)\n",
      "/home/christian/code/acareeg/acareeg/lemon.py:58: RuntimeWarning: Limited 1 annotation(s) that were expanding outside the data range.\n",
      "  raw = mne.io.read_raw_eeglab(str(Path(root_path) / eeg_rel_path / f\"sub-{subject}_{event_id}.set\"), verbose=False)\n",
      "/home/christian/code/acareeg/acareeg/lemon.py:58: RuntimeWarning: The data contains 'boundary' events, indicating data discontinuities. Be cautious of filtering and epoching around these events.\n",
      "  raw = mne.io.read_raw_eeglab(str(Path(root_path) / eeg_rel_path / f\"sub-{subject}_{event_id}.set\"), verbose=False)\n",
      "/home/christian/code/acareeg/acareeg/lemon.py:58: RuntimeWarning: Limited 1 annotation(s) that were expanding outside the data range.\n",
      "  raw = mne.io.read_raw_eeglab(str(Path(root_path) / eeg_rel_path / f\"sub-{subject}_{event_id}.set\"), verbose=False)\n",
      "/home/christian/code/acareeg/acareeg/lemon.py:58: RuntimeWarning: The data contains 'boundary' events, indicating data discontinuities. Be cautious of filtering and epoching around these events.\n",
      "  raw = mne.io.read_raw_eeglab(str(Path(root_path) / eeg_rel_path / f\"sub-{subject}_{event_id}.set\"), verbose=False)\n",
      "/home/christian/code/acareeg/acareeg/lemon.py:58: RuntimeWarning: Limited 1 annotation(s) that were expanding outside the data range.\n",
      "  raw = mne.io.read_raw_eeglab(str(Path(root_path) / eeg_rel_path / f\"sub-{subject}_{event_id}.set\"), verbose=False)\n",
      "/home/christian/code/acareeg/acareeg/lemon.py:58: RuntimeWarning: The data contains 'boundary' events, indicating data discontinuities. Be cautious of filtering and epoching around these events.\n",
      "  raw = mne.io.read_raw_eeglab(str(Path(root_path) / eeg_rel_path / f\"sub-{subject}_{event_id}.set\"), verbose=False)\n",
      "/home/christian/code/acareeg/acareeg/lemon.py:58: RuntimeWarning: Limited 1 annotation(s) that were expanding outside the data range.\n",
      "  raw = mne.io.read_raw_eeglab(str(Path(root_path) / eeg_rel_path / f\"sub-{subject}_{event_id}.set\"), verbose=False)\n",
      "/home/christian/code/acareeg/acareeg/lemon.py:58: RuntimeWarning: The data contains 'boundary' events, indicating data discontinuities. Be cautious of filtering and epoching around these events.\n",
      "  raw = mne.io.read_raw_eeglab(str(Path(root_path) / eeg_rel_path / f\"sub-{subject}_{event_id}.set\"), verbose=False)\n",
      "/home/christian/code/acareeg/acareeg/lemon.py:58: RuntimeWarning: Limited 1 annotation(s) that were expanding outside the data range.\n",
      "  raw = mne.io.read_raw_eeglab(str(Path(root_path) / eeg_rel_path / f\"sub-{subject}_{event_id}.set\"), verbose=False)\n",
      "/home/christian/code/acareeg/acareeg/lemon.py:58: RuntimeWarning: The data contains 'boundary' events, indicating data discontinuities. Be cautious of filtering and epoching around these events.\n",
      "  raw = mne.io.read_raw_eeglab(str(Path(root_path) / eeg_rel_path / f\"sub-{subject}_{event_id}.set\"), verbose=False)\n",
      "/home/christian/code/acareeg/acareeg/lemon.py:58: RuntimeWarning: Limited 1 annotation(s) that were expanding outside the data range.\n",
      "  raw = mne.io.read_raw_eeglab(str(Path(root_path) / eeg_rel_path / f\"sub-{subject}_{event_id}.set\"), verbose=False)\n",
      "/home/christian/code/acareeg/acareeg/lemon.py:58: RuntimeWarning: The data contains 'boundary' events, indicating data discontinuities. Be cautious of filtering and epoching around these events.\n",
      "  raw = mne.io.read_raw_eeglab(str(Path(root_path) / eeg_rel_path / f\"sub-{subject}_{event_id}.set\"), verbose=False)\n",
      "/home/christian/code/acareeg/acareeg/lemon.py:58: RuntimeWarning: Limited 1 annotation(s) that were expanding outside the data range.\n",
      "  raw = mne.io.read_raw_eeglab(str(Path(root_path) / eeg_rel_path / f\"sub-{subject}_{event_id}.set\"), verbose=False)\n",
      "/home/christian/code/acareeg/acareeg/lemon.py:58: RuntimeWarning: The data contains 'boundary' events, indicating data discontinuities. Be cautious of filtering and epoching around these events.\n",
      "  raw = mne.io.read_raw_eeglab(str(Path(root_path) / eeg_rel_path / f\"sub-{subject}_{event_id}.set\"), verbose=False)\n",
      "/home/christian/code/acareeg/acareeg/lemon.py:58: RuntimeWarning: Limited 1 annotation(s) that were expanding outside the data range.\n",
      "  raw = mne.io.read_raw_eeglab(str(Path(root_path) / eeg_rel_path / f\"sub-{subject}_{event_id}.set\"), verbose=False)\n",
      "/home/christian/code/acareeg/acareeg/lemon.py:58: RuntimeWarning: The data contains 'boundary' events, indicating data discontinuities. Be cautious of filtering and epoching around these events.\n",
      "  raw = mne.io.read_raw_eeglab(str(Path(root_path) / eeg_rel_path / f\"sub-{subject}_{event_id}.set\"), verbose=False)\n",
      "/home/christian/code/acareeg/acareeg/lemon.py:58: RuntimeWarning: Limited 1 annotation(s) that were expanding outside the data range.\n",
      "  raw = mne.io.read_raw_eeglab(str(Path(root_path) / eeg_rel_path / f\"sub-{subject}_{event_id}.set\"), verbose=False)\n",
      "/home/christian/code/acareeg/acareeg/lemon.py:58: RuntimeWarning: The data contains 'boundary' events, indicating data discontinuities. Be cautious of filtering and epoching around these events.\n",
      "  raw = mne.io.read_raw_eeglab(str(Path(root_path) / eeg_rel_path / f\"sub-{subject}_{event_id}.set\"), verbose=False)\n",
      "/home/christian/code/acareeg/acareeg/lemon.py:58: RuntimeWarning: Limited 1 annotation(s) that were expanding outside the data range.\n",
      "  raw = mne.io.read_raw_eeglab(str(Path(root_path) / eeg_rel_path / f\"sub-{subject}_{event_id}.set\"), verbose=False)\n",
      "/home/christian/code/acareeg/acareeg/lemon.py:58: RuntimeWarning: The data contains 'boundary' events, indicating data discontinuities. Be cautious of filtering and epoching around these events.\n",
      "  raw = mne.io.read_raw_eeglab(str(Path(root_path) / eeg_rel_path / f\"sub-{subject}_{event_id}.set\"), verbose=False)\n",
      "/home/christian/code/acareeg/acareeg/lemon.py:58: RuntimeWarning: Limited 1 annotation(s) that were expanding outside the data range.\n",
      "  raw = mne.io.read_raw_eeglab(str(Path(root_path) / eeg_rel_path / f\"sub-{subject}_{event_id}.set\"), verbose=False)\n",
      "/home/christian/code/acareeg/acareeg/lemon.py:58: RuntimeWarning: The data contains 'boundary' events, indicating data discontinuities. Be cautious of filtering and epoching around these events.\n",
      "  raw = mne.io.read_raw_eeglab(str(Path(root_path) / eeg_rel_path / f\"sub-{subject}_{event_id}.set\"), verbose=False)\n",
      "/home/christian/code/acareeg/acareeg/lemon.py:58: RuntimeWarning: Limited 1 annotation(s) that were expanding outside the data range.\n",
      "  raw = mne.io.read_raw_eeglab(str(Path(root_path) / eeg_rel_path / f\"sub-{subject}_{event_id}.set\"), verbose=False)\n",
      "/home/christian/code/acareeg/acareeg/lemon.py:58: RuntimeWarning: The data contains 'boundary' events, indicating data discontinuities. Be cautious of filtering and epoching around these events.\n",
      "  raw = mne.io.read_raw_eeglab(str(Path(root_path) / eeg_rel_path / f\"sub-{subject}_{event_id}.set\"), verbose=False)\n",
      "/home/christian/code/acareeg/acareeg/lemon.py:58: RuntimeWarning: Limited 1 annotation(s) that were expanding outside the data range.\n",
      "  raw = mne.io.read_raw_eeglab(str(Path(root_path) / eeg_rel_path / f\"sub-{subject}_{event_id}.set\"), verbose=False)\n",
      "/home/christian/code/acareeg/acareeg/lemon.py:58: RuntimeWarning: The data contains 'boundary' events, indicating data discontinuities. Be cautious of filtering and epoching around these events.\n",
      "  raw = mne.io.read_raw_eeglab(str(Path(root_path) / eeg_rel_path / f\"sub-{subject}_{event_id}.set\"), verbose=False)\n",
      "/home/christian/code/acareeg/acareeg/lemon.py:58: RuntimeWarning: Limited 1 annotation(s) that were expanding outside the data range.\n",
      "  raw = mne.io.read_raw_eeglab(str(Path(root_path) / eeg_rel_path / f\"sub-{subject}_{event_id}.set\"), verbose=False)\n",
      "/home/christian/code/acareeg/acareeg/lemon.py:58: RuntimeWarning: The data contains 'boundary' events, indicating data discontinuities. Be cautious of filtering and epoching around these events.\n",
      "  raw = mne.io.read_raw_eeglab(str(Path(root_path) / eeg_rel_path / f\"sub-{subject}_{event_id}.set\"), verbose=False)\n"
     ]
    },
    {
     "name": "stderr",
     "output_type": "stream",
     "text": [
      "/home/christian/code/acareeg/acareeg/lemon.py:58: RuntimeWarning: Limited 1 annotation(s) that were expanding outside the data range.\n",
      "  raw = mne.io.read_raw_eeglab(str(Path(root_path) / eeg_rel_path / f\"sub-{subject}_{event_id}.set\"), verbose=False)\n",
      "/home/christian/code/acareeg/acareeg/lemon.py:58: RuntimeWarning: The data contains 'boundary' events, indicating data discontinuities. Be cautious of filtering and epoching around these events.\n",
      "  raw = mne.io.read_raw_eeglab(str(Path(root_path) / eeg_rel_path / f\"sub-{subject}_{event_id}.set\"), verbose=False)\n",
      "/home/christian/code/acareeg/acareeg/lemon.py:58: RuntimeWarning: Limited 1 annotation(s) that were expanding outside the data range.\n",
      "  raw = mne.io.read_raw_eeglab(str(Path(root_path) / eeg_rel_path / f\"sub-{subject}_{event_id}.set\"), verbose=False)\n",
      "/home/christian/code/acareeg/acareeg/lemon.py:58: RuntimeWarning: The data contains 'boundary' events, indicating data discontinuities. Be cautious of filtering and epoching around these events.\n",
      "  raw = mne.io.read_raw_eeglab(str(Path(root_path) / eeg_rel_path / f\"sub-{subject}_{event_id}.set\"), verbose=False)\n",
      "/home/christian/code/acareeg/acareeg/lemon.py:58: RuntimeWarning: Limited 1 annotation(s) that were expanding outside the data range.\n",
      "  raw = mne.io.read_raw_eeglab(str(Path(root_path) / eeg_rel_path / f\"sub-{subject}_{event_id}.set\"), verbose=False)\n",
      "/home/christian/code/acareeg/acareeg/lemon.py:58: RuntimeWarning: The data contains 'boundary' events, indicating data discontinuities. Be cautious of filtering and epoching around these events.\n",
      "  raw = mne.io.read_raw_eeglab(str(Path(root_path) / eeg_rel_path / f\"sub-{subject}_{event_id}.set\"), verbose=False)\n",
      "/home/christian/code/acareeg/acareeg/lemon.py:58: RuntimeWarning: Limited 1 annotation(s) that were expanding outside the data range.\n",
      "  raw = mne.io.read_raw_eeglab(str(Path(root_path) / eeg_rel_path / f\"sub-{subject}_{event_id}.set\"), verbose=False)\n",
      "/home/christian/code/acareeg/acareeg/lemon.py:58: RuntimeWarning: The data contains 'boundary' events, indicating data discontinuities. Be cautious of filtering and epoching around these events.\n",
      "  raw = mne.io.read_raw_eeglab(str(Path(root_path) / eeg_rel_path / f\"sub-{subject}_{event_id}.set\"), verbose=False)\n",
      "/home/christian/code/acareeg/acareeg/lemon.py:58: RuntimeWarning: Limited 1 annotation(s) that were expanding outside the data range.\n",
      "  raw = mne.io.read_raw_eeglab(str(Path(root_path) / eeg_rel_path / f\"sub-{subject}_{event_id}.set\"), verbose=False)\n",
      "/home/christian/code/acareeg/acareeg/lemon.py:58: RuntimeWarning: The data contains 'boundary' events, indicating data discontinuities. Be cautious of filtering and epoching around these events.\n",
      "  raw = mne.io.read_raw_eeglab(str(Path(root_path) / eeg_rel_path / f\"sub-{subject}_{event_id}.set\"), verbose=False)\n",
      "/home/christian/code/acareeg/acareeg/lemon.py:58: RuntimeWarning: Limited 1 annotation(s) that were expanding outside the data range.\n",
      "  raw = mne.io.read_raw_eeglab(str(Path(root_path) / eeg_rel_path / f\"sub-{subject}_{event_id}.set\"), verbose=False)\n",
      "/home/christian/code/acareeg/acareeg/lemon.py:58: RuntimeWarning: The data contains 'boundary' events, indicating data discontinuities. Be cautious of filtering and epoching around these events.\n",
      "  raw = mne.io.read_raw_eeglab(str(Path(root_path) / eeg_rel_path / f\"sub-{subject}_{event_id}.set\"), verbose=False)\n",
      "/home/christian/code/acareeg/acareeg/lemon.py:58: RuntimeWarning: Limited 1 annotation(s) that were expanding outside the data range.\n",
      "  raw = mne.io.read_raw_eeglab(str(Path(root_path) / eeg_rel_path / f\"sub-{subject}_{event_id}.set\"), verbose=False)\n",
      "/home/christian/code/acareeg/acareeg/lemon.py:58: RuntimeWarning: The data contains 'boundary' events, indicating data discontinuities. Be cautious of filtering and epoching around these events.\n",
      "  raw = mne.io.read_raw_eeglab(str(Path(root_path) / eeg_rel_path / f\"sub-{subject}_{event_id}.set\"), verbose=False)\n",
      "/home/christian/code/acareeg/acareeg/lemon.py:58: RuntimeWarning: Limited 1 annotation(s) that were expanding outside the data range.\n",
      "  raw = mne.io.read_raw_eeglab(str(Path(root_path) / eeg_rel_path / f\"sub-{subject}_{event_id}.set\"), verbose=False)\n",
      "/home/christian/code/acareeg/acareeg/lemon.py:58: RuntimeWarning: The data contains 'boundary' events, indicating data discontinuities. Be cautious of filtering and epoching around these events.\n",
      "  raw = mne.io.read_raw_eeglab(str(Path(root_path) / eeg_rel_path / f\"sub-{subject}_{event_id}.set\"), verbose=False)\n",
      "/home/christian/code/acareeg/acareeg/lemon.py:58: RuntimeWarning: Limited 1 annotation(s) that were expanding outside the data range.\n",
      "  raw = mne.io.read_raw_eeglab(str(Path(root_path) / eeg_rel_path / f\"sub-{subject}_{event_id}.set\"), verbose=False)\n",
      "/home/christian/code/acareeg/acareeg/lemon.py:58: RuntimeWarning: The data contains 'boundary' events, indicating data discontinuities. Be cautious of filtering and epoching around these events.\n",
      "  raw = mne.io.read_raw_eeglab(str(Path(root_path) / eeg_rel_path / f\"sub-{subject}_{event_id}.set\"), verbose=False)\n",
      "/home/christian/code/acareeg/acareeg/lemon.py:58: RuntimeWarning: Limited 1 annotation(s) that were expanding outside the data range.\n",
      "  raw = mne.io.read_raw_eeglab(str(Path(root_path) / eeg_rel_path / f\"sub-{subject}_{event_id}.set\"), verbose=False)\n",
      "/home/christian/code/acareeg/acareeg/lemon.py:58: RuntimeWarning: The data contains 'boundary' events, indicating data discontinuities. Be cautious of filtering and epoching around these events.\n",
      "  raw = mne.io.read_raw_eeglab(str(Path(root_path) / eeg_rel_path / f\"sub-{subject}_{event_id}.set\"), verbose=False)\n",
      "/home/christian/code/acareeg/acareeg/lemon.py:58: RuntimeWarning: Limited 1 annotation(s) that were expanding outside the data range.\n",
      "  raw = mne.io.read_raw_eeglab(str(Path(root_path) / eeg_rel_path / f\"sub-{subject}_{event_id}.set\"), verbose=False)\n",
      "/home/christian/code/acareeg/acareeg/lemon.py:58: RuntimeWarning: The data contains 'boundary' events, indicating data discontinuities. Be cautious of filtering and epoching around these events.\n",
      "  raw = mne.io.read_raw_eeglab(str(Path(root_path) / eeg_rel_path / f\"sub-{subject}_{event_id}.set\"), verbose=False)\n",
      "/home/christian/code/acareeg/acareeg/lemon.py:58: RuntimeWarning: Limited 1 annotation(s) that were expanding outside the data range.\n",
      "  raw = mne.io.read_raw_eeglab(str(Path(root_path) / eeg_rel_path / f\"sub-{subject}_{event_id}.set\"), verbose=False)\n",
      "/home/christian/code/acareeg/acareeg/lemon.py:58: RuntimeWarning: The data contains 'boundary' events, indicating data discontinuities. Be cautious of filtering and epoching around these events.\n",
      "  raw = mne.io.read_raw_eeglab(str(Path(root_path) / eeg_rel_path / f\"sub-{subject}_{event_id}.set\"), verbose=False)\n",
      "/home/christian/code/acareeg/acareeg/lemon.py:58: RuntimeWarning: Limited 1 annotation(s) that were expanding outside the data range.\n",
      "  raw = mne.io.read_raw_eeglab(str(Path(root_path) / eeg_rel_path / f\"sub-{subject}_{event_id}.set\"), verbose=False)\n",
      "/home/christian/code/acareeg/acareeg/lemon.py:58: RuntimeWarning: The data contains 'boundary' events, indicating data discontinuities. Be cautious of filtering and epoching around these events.\n",
      "  raw = mne.io.read_raw_eeglab(str(Path(root_path) / eeg_rel_path / f\"sub-{subject}_{event_id}.set\"), verbose=False)\n",
      "/home/christian/code/acareeg/acareeg/lemon.py:58: RuntimeWarning: Limited 1 annotation(s) that were expanding outside the data range.\n",
      "  raw = mne.io.read_raw_eeglab(str(Path(root_path) / eeg_rel_path / f\"sub-{subject}_{event_id}.set\"), verbose=False)\n",
      "/home/christian/code/acareeg/acareeg/lemon.py:58: RuntimeWarning: The data contains 'boundary' events, indicating data discontinuities. Be cautious of filtering and epoching around these events.\n",
      "  raw = mne.io.read_raw_eeglab(str(Path(root_path) / eeg_rel_path / f\"sub-{subject}_{event_id}.set\"), verbose=False)\n",
      "/home/christian/code/acareeg/acareeg/lemon.py:58: RuntimeWarning: Limited 1 annotation(s) that were expanding outside the data range.\n",
      "  raw = mne.io.read_raw_eeglab(str(Path(root_path) / eeg_rel_path / f\"sub-{subject}_{event_id}.set\"), verbose=False)\n",
      "/home/christian/code/acareeg/acareeg/lemon.py:58: RuntimeWarning: The data contains 'boundary' events, indicating data discontinuities. Be cautious of filtering and epoching around these events.\n",
      "  raw = mne.io.read_raw_eeglab(str(Path(root_path) / eeg_rel_path / f\"sub-{subject}_{event_id}.set\"), verbose=False)\n",
      "/home/christian/code/acareeg/acareeg/lemon.py:58: RuntimeWarning: Limited 1 annotation(s) that were expanding outside the data range.\n",
      "  raw = mne.io.read_raw_eeglab(str(Path(root_path) / eeg_rel_path / f\"sub-{subject}_{event_id}.set\"), verbose=False)\n",
      "/home/christian/code/acareeg/acareeg/lemon.py:58: RuntimeWarning: The data contains 'boundary' events, indicating data discontinuities. Be cautious of filtering and epoching around these events.\n",
      "  raw = mne.io.read_raw_eeglab(str(Path(root_path) / eeg_rel_path / f\"sub-{subject}_{event_id}.set\"), verbose=False)\n"
     ]
    },
    {
     "name": "stderr",
     "output_type": "stream",
     "text": [
      "/home/christian/code/acareeg/acareeg/lemon.py:58: RuntimeWarning: Limited 1 annotation(s) that were expanding outside the data range.\n",
      "  raw = mne.io.read_raw_eeglab(str(Path(root_path) / eeg_rel_path / f\"sub-{subject}_{event_id}.set\"), verbose=False)\n",
      "/home/christian/code/acareeg/acareeg/lemon.py:58: RuntimeWarning: The data contains 'boundary' events, indicating data discontinuities. Be cautious of filtering and epoching around these events.\n",
      "  raw = mne.io.read_raw_eeglab(str(Path(root_path) / eeg_rel_path / f\"sub-{subject}_{event_id}.set\"), verbose=False)\n",
      "/home/christian/code/acareeg/acareeg/lemon.py:58: RuntimeWarning: Limited 1 annotation(s) that were expanding outside the data range.\n",
      "  raw = mne.io.read_raw_eeglab(str(Path(root_path) / eeg_rel_path / f\"sub-{subject}_{event_id}.set\"), verbose=False)\n",
      "/home/christian/code/acareeg/acareeg/lemon.py:58: RuntimeWarning: The data contains 'boundary' events, indicating data discontinuities. Be cautious of filtering and epoching around these events.\n",
      "  raw = mne.io.read_raw_eeglab(str(Path(root_path) / eeg_rel_path / f\"sub-{subject}_{event_id}.set\"), verbose=False)\n"
     ]
    }
   ],
   "source": [
    "locations = []\n",
    "for subject in trials.subject:\n",
    "    epochs = get_epochs_lemon(subject.values, lemon_root, event_id)\n",
    "    eeg_loc = pd.DataFrame({ch[\"ch_name\"]:ch['loc'][:3] for ch in epochs.info['chs']}).T\n",
    "    eeg_loc.columns = [\"x\", \"y\", \"z\"]\n",
    "    eeg_loc[\"subject\"] = subject.values\n",
    "    locations.append(eeg_loc)\n",
    "locations = pd.concat(locations)"
   ]
  },
  {
   "cell_type": "code",
   "execution_count": 8,
   "metadata": {},
   "outputs": [],
   "source": [
    "recompute = False\n",
    "if Path(\"df_between_csd.pck\").exists() and not recompute:\n",
    "    df_between = pd.read_pickle(\"df_between.pck\")\n",
    "    df_within = pd.read_pickle(\"df_within.pck\")\n",
    "    df_within_csd = pd.read_pickle(\"df_within_csd.pck\")\n",
    "    df_between_csd = pd.read_pickle(\"df_between_csd.pck\")\n",
    "else:\n",
    "    df_between = get_coh_dist_df(trials, locations, between=True)\n",
    "    df_within = get_coh_dist_df(trials, locations)\n",
    "    df_within_csd = get_coh_dist_df(trials_csd, locations)\n",
    "    df_between_csd = get_coh_dist_df(trials_csd, locations, between=True)    \n",
    "    \n",
    "    df_between.to_pickle(\"df_between.pck\")\n",
    "    df_within.to_pickle(\"df_within.pck\")\n",
    "    df_within_csd.to_pickle(\"df_within_csd.pck\")\n",
    "    df_between_csd.to_pickle(\"df_between_csd.pck\")"
   ]
  },
  {
   "cell_type": "markdown",
   "metadata": {},
   "source": [
    "# Connectivity on the scalp, sources and simulated EEG"
   ]
  },
  {
   "cell_type": "code",
   "execution_count": null,
   "metadata": {
    "scrolled": true
   },
   "outputs": [
    {
     "data": {
      "application/vnd.jupyter.widget-view+json": {
       "model_id": "31d20a694cd240e1aff6264cf8f0267f",
       "version_major": 2,
       "version_minor": 0
      },
      "text/plain": [
       "HBox(children=(FloatProgress(value=0.0, max=4.0), HTML(value='')))"
      ]
     },
     "metadata": {},
     "output_type": "display_data"
    },
    {
     "data": {
      "application/vnd.jupyter.widget-view+json": {
       "model_id": "",
       "version_major": 2,
       "version_minor": 0
      },
      "text/plain": [
       "HBox(children=(FloatProgress(value=0.0, max=82.0), HTML(value='')))"
      ]
     },
     "metadata": {},
     "output_type": "display_data"
    },
    {
     "name": "stderr",
     "output_type": "stream",
     "text": [
      "/home/christian/code/acareeg/acareeg/lemon.py:58: RuntimeWarning: Limited 1 annotation(s) that were expanding outside the data range.\n",
      "  raw = mne.io.read_raw_eeglab(str(Path(root_path) / eeg_rel_path / f\"sub-{subject}_{event_id}.set\"), verbose=False)\n",
      "/home/christian/code/acareeg/acareeg/lemon.py:58: RuntimeWarning: The data contains 'boundary' events, indicating data discontinuities. Be cautious of filtering and epoching around these events.\n",
      "  raw = mne.io.read_raw_eeglab(str(Path(root_path) / eeg_rel_path / f\"sub-{subject}_{event_id}.set\"), verbose=False)\n",
      "<ipython-input-2-c47d3aa7e58e>:39: RuntimeWarning: Epochs are not baseline corrected, covariance matrix may be inaccurate\n",
      "  noise_cov = mne.compute_covariance(epochs, method=\"auto\", verbose=False).as_diag()\n",
      "<ipython-input-2-c47d3aa7e58e>:40: RuntimeWarning: No average EEG reference present in info[\"projs\"], covariance may be adversely affected. Consider recomputing covariance using with an average eeg reference projector added.\n",
      "  inverse_operator = mne.minimum_norm.make_inverse_operator(epochs.info, fwd, noise_cov, loose=loose, verbose=False)\n",
      "<ipython-input-2-c47d3aa7e58e>:40: RuntimeWarning: No average EEG reference present in info[\"projs\"], covariance may be adversely affected. Consider recomputing covariance using with an average eeg reference projector added.\n",
      "  inverse_operator = mne.minimum_norm.make_inverse_operator(epochs.info, fwd, noise_cov, loose=loose, verbose=False)\n"
     ]
    },
    {
     "name": "stdout",
     "output_type": "stream",
     "text": [
      "Not setting metadata\n",
      "Not setting metadata\n",
      "10 matching events found\n",
      "No baseline correction applied\n",
      "0 projection items activated\n",
      "Loading data for 10 events and 500 original time points ...\n",
      "0 bad epochs dropped\n",
      "Fitted sphere radius:         102.9 mm\n",
      "Origin head coordinates:      0.4 3.3 48.6 mm\n",
      "Origin device coordinates:    0.4 3.3 48.6 mm\n"
     ]
    },
    {
     "name": "stderr",
     "output_type": "stream",
     "text": [
      "/home/christian/code/acareeg/acareeg/lemon.py:58: RuntimeWarning: Limited 1 annotation(s) that were expanding outside the data range.\n",
      "  raw = mne.io.read_raw_eeglab(str(Path(root_path) / eeg_rel_path / f\"sub-{subject}_{event_id}.set\"), verbose=False)\n",
      "/home/christian/code/acareeg/acareeg/lemon.py:58: RuntimeWarning: The data contains 'boundary' events, indicating data discontinuities. Be cautious of filtering and epoching around these events.\n",
      "  raw = mne.io.read_raw_eeglab(str(Path(root_path) / eeg_rel_path / f\"sub-{subject}_{event_id}.set\"), verbose=False)\n",
      "<ipython-input-2-c47d3aa7e58e>:39: RuntimeWarning: Epochs are not baseline corrected, covariance matrix may be inaccurate\n",
      "  noise_cov = mne.compute_covariance(epochs, method=\"auto\", verbose=False).as_diag()\n",
      "<ipython-input-2-c47d3aa7e58e>:40: RuntimeWarning: No average EEG reference present in info[\"projs\"], covariance may be adversely affected. Consider recomputing covariance using with an average eeg reference projector added.\n",
      "  inverse_operator = mne.minimum_norm.make_inverse_operator(epochs.info, fwd, noise_cov, loose=loose, verbose=False)\n",
      "<ipython-input-2-c47d3aa7e58e>:40: RuntimeWarning: No average EEG reference present in info[\"projs\"], covariance may be adversely affected. Consider recomputing covariance using with an average eeg reference projector added.\n",
      "  inverse_operator = mne.minimum_norm.make_inverse_operator(epochs.info, fwd, noise_cov, loose=loose, verbose=False)\n"
     ]
    },
    {
     "name": "stdout",
     "output_type": "stream",
     "text": [
      "Not setting metadata\n",
      "Not setting metadata\n",
      "10 matching events found\n",
      "No baseline correction applied\n",
      "0 projection items activated\n",
      "Loading data for 10 events and 500 original time points ...\n",
      "0 bad epochs dropped\n",
      "Fitted sphere radius:         99.4 mm\n",
      "Origin head coordinates:      4.3 5.8 49.5 mm\n",
      "Origin device coordinates:    4.3 5.8 49.5 mm\n"
     ]
    },
    {
     "name": "stderr",
     "output_type": "stream",
     "text": [
      "/home/christian/code/acareeg/acareeg/lemon.py:58: RuntimeWarning: Limited 1 annotation(s) that were expanding outside the data range.\n",
      "  raw = mne.io.read_raw_eeglab(str(Path(root_path) / eeg_rel_path / f\"sub-{subject}_{event_id}.set\"), verbose=False)\n",
      "/home/christian/code/acareeg/acareeg/lemon.py:58: RuntimeWarning: The data contains 'boundary' events, indicating data discontinuities. Be cautious of filtering and epoching around these events.\n",
      "  raw = mne.io.read_raw_eeglab(str(Path(root_path) / eeg_rel_path / f\"sub-{subject}_{event_id}.set\"), verbose=False)\n",
      "<ipython-input-2-c47d3aa7e58e>:39: RuntimeWarning: Epochs are not baseline corrected, covariance matrix may be inaccurate\n",
      "  noise_cov = mne.compute_covariance(epochs, method=\"auto\", verbose=False).as_diag()\n",
      "<ipython-input-2-c47d3aa7e58e>:40: RuntimeWarning: No average EEG reference present in info[\"projs\"], covariance may be adversely affected. Consider recomputing covariance using with an average eeg reference projector added.\n",
      "  inverse_operator = mne.minimum_norm.make_inverse_operator(epochs.info, fwd, noise_cov, loose=loose, verbose=False)\n",
      "<ipython-input-2-c47d3aa7e58e>:40: RuntimeWarning: No average EEG reference present in info[\"projs\"], covariance may be adversely affected. Consider recomputing covariance using with an average eeg reference projector added.\n",
      "  inverse_operator = mne.minimum_norm.make_inverse_operator(epochs.info, fwd, noise_cov, loose=loose, verbose=False)\n"
     ]
    },
    {
     "name": "stdout",
     "output_type": "stream",
     "text": [
      "Not setting metadata\n",
      "Not setting metadata\n",
      "10 matching events found\n",
      "No baseline correction applied\n",
      "0 projection items activated\n",
      "Loading data for 10 events and 500 original time points ...\n",
      "0 bad epochs dropped\n",
      "Fitted sphere radius:         103.0 mm\n",
      "Origin head coordinates:      0.4 11.5 42.4 mm\n",
      "Origin device coordinates:    0.4 11.5 42.4 mm\n"
     ]
    },
    {
     "name": "stderr",
     "output_type": "stream",
     "text": [
      "/home/christian/code/acareeg/acareeg/lemon.py:58: RuntimeWarning: Limited 1 annotation(s) that were expanding outside the data range.\n",
      "  raw = mne.io.read_raw_eeglab(str(Path(root_path) / eeg_rel_path / f\"sub-{subject}_{event_id}.set\"), verbose=False)\n",
      "/home/christian/code/acareeg/acareeg/lemon.py:58: RuntimeWarning: The data contains 'boundary' events, indicating data discontinuities. Be cautious of filtering and epoching around these events.\n",
      "  raw = mne.io.read_raw_eeglab(str(Path(root_path) / eeg_rel_path / f\"sub-{subject}_{event_id}.set\"), verbose=False)\n",
      "<ipython-input-2-c47d3aa7e58e>:39: RuntimeWarning: Epochs are not baseline corrected, covariance matrix may be inaccurate\n",
      "  noise_cov = mne.compute_covariance(epochs, method=\"auto\", verbose=False).as_diag()\n",
      "<ipython-input-2-c47d3aa7e58e>:40: RuntimeWarning: No average EEG reference present in info[\"projs\"], covariance may be adversely affected. Consider recomputing covariance using with an average eeg reference projector added.\n",
      "  inverse_operator = mne.minimum_norm.make_inverse_operator(epochs.info, fwd, noise_cov, loose=loose, verbose=False)\n",
      "<ipython-input-2-c47d3aa7e58e>:40: RuntimeWarning: No average EEG reference present in info[\"projs\"], covariance may be adversely affected. Consider recomputing covariance using with an average eeg reference projector added.\n",
      "  inverse_operator = mne.minimum_norm.make_inverse_operator(epochs.info, fwd, noise_cov, loose=loose, verbose=False)\n"
     ]
    },
    {
     "name": "stdout",
     "output_type": "stream",
     "text": [
      "Not setting metadata\n",
      "Not setting metadata\n",
      "10 matching events found\n",
      "No baseline correction applied\n",
      "0 projection items activated\n",
      "Loading data for 10 events and 500 original time points ...\n",
      "0 bad epochs dropped\n",
      "Fitted sphere radius:         105.2 mm\n",
      "Origin head coordinates:      3.2 1.8 42.6 mm\n",
      "Origin device coordinates:    3.2 1.8 42.6 mm\n"
     ]
    },
    {
     "name": "stderr",
     "output_type": "stream",
     "text": [
      "/home/christian/code/acareeg/acareeg/lemon.py:58: RuntimeWarning: Limited 1 annotation(s) that were expanding outside the data range.\n",
      "  raw = mne.io.read_raw_eeglab(str(Path(root_path) / eeg_rel_path / f\"sub-{subject}_{event_id}.set\"), verbose=False)\n",
      "/home/christian/code/acareeg/acareeg/lemon.py:58: RuntimeWarning: The data contains 'boundary' events, indicating data discontinuities. Be cautious of filtering and epoching around these events.\n",
      "  raw = mne.io.read_raw_eeglab(str(Path(root_path) / eeg_rel_path / f\"sub-{subject}_{event_id}.set\"), verbose=False)\n",
      "<ipython-input-2-c47d3aa7e58e>:39: RuntimeWarning: Epochs are not baseline corrected, covariance matrix may be inaccurate\n",
      "  noise_cov = mne.compute_covariance(epochs, method=\"auto\", verbose=False).as_diag()\n",
      "<ipython-input-2-c47d3aa7e58e>:40: RuntimeWarning: No average EEG reference present in info[\"projs\"], covariance may be adversely affected. Consider recomputing covariance using with an average eeg reference projector added.\n",
      "  inverse_operator = mne.minimum_norm.make_inverse_operator(epochs.info, fwd, noise_cov, loose=loose, verbose=False)\n",
      "<ipython-input-2-c47d3aa7e58e>:40: RuntimeWarning: No average EEG reference present in info[\"projs\"], covariance may be adversely affected. Consider recomputing covariance using with an average eeg reference projector added.\n",
      "  inverse_operator = mne.minimum_norm.make_inverse_operator(epochs.info, fwd, noise_cov, loose=loose, verbose=False)\n"
     ]
    },
    {
     "name": "stdout",
     "output_type": "stream",
     "text": [
      "Not setting metadata\n",
      "Not setting metadata\n",
      "10 matching events found\n",
      "No baseline correction applied\n",
      "0 projection items activated\n",
      "Loading data for 10 events and 500 original time points ...\n",
      "0 bad epochs dropped\n",
      "Fitted sphere radius:         102.4 mm\n",
      "Origin head coordinates:      3.2 -1.4 41.5 mm\n",
      "Origin device coordinates:    3.2 -1.4 41.5 mm\n"
     ]
    },
    {
     "name": "stderr",
     "output_type": "stream",
     "text": [
      "/home/christian/code/acareeg/acareeg/lemon.py:58: RuntimeWarning: Limited 1 annotation(s) that were expanding outside the data range.\n",
      "  raw = mne.io.read_raw_eeglab(str(Path(root_path) / eeg_rel_path / f\"sub-{subject}_{event_id}.set\"), verbose=False)\n",
      "/home/christian/code/acareeg/acareeg/lemon.py:58: RuntimeWarning: The data contains 'boundary' events, indicating data discontinuities. Be cautious of filtering and epoching around these events.\n",
      "  raw = mne.io.read_raw_eeglab(str(Path(root_path) / eeg_rel_path / f\"sub-{subject}_{event_id}.set\"), verbose=False)\n",
      "<ipython-input-2-c47d3aa7e58e>:39: RuntimeWarning: Epochs are not baseline corrected, covariance matrix may be inaccurate\n",
      "  noise_cov = mne.compute_covariance(epochs, method=\"auto\", verbose=False).as_diag()\n",
      "<ipython-input-2-c47d3aa7e58e>:40: RuntimeWarning: No average EEG reference present in info[\"projs\"], covariance may be adversely affected. Consider recomputing covariance using with an average eeg reference projector added.\n",
      "  inverse_operator = mne.minimum_norm.make_inverse_operator(epochs.info, fwd, noise_cov, loose=loose, verbose=False)\n",
      "<ipython-input-2-c47d3aa7e58e>:40: RuntimeWarning: No average EEG reference present in info[\"projs\"], covariance may be adversely affected. Consider recomputing covariance using with an average eeg reference projector added.\n",
      "  inverse_operator = mne.minimum_norm.make_inverse_operator(epochs.info, fwd, noise_cov, loose=loose, verbose=False)\n"
     ]
    },
    {
     "name": "stdout",
     "output_type": "stream",
     "text": [
      "Not setting metadata\n",
      "Not setting metadata\n",
      "10 matching events found\n",
      "No baseline correction applied\n",
      "0 projection items activated\n",
      "Loading data for 10 events and 500 original time points ...\n",
      "0 bad epochs dropped\n",
      "Fitted sphere radius:         99.0 mm\n",
      "Origin head coordinates:      -2.0 3.8 53.9 mm\n",
      "Origin device coordinates:    -2.0 3.8 53.9 mm\n"
     ]
    },
    {
     "name": "stderr",
     "output_type": "stream",
     "text": [
      "/home/christian/code/acareeg/acareeg/lemon.py:58: RuntimeWarning: Limited 1 annotation(s) that were expanding outside the data range.\n",
      "  raw = mne.io.read_raw_eeglab(str(Path(root_path) / eeg_rel_path / f\"sub-{subject}_{event_id}.set\"), verbose=False)\n",
      "/home/christian/code/acareeg/acareeg/lemon.py:58: RuntimeWarning: The data contains 'boundary' events, indicating data discontinuities. Be cautious of filtering and epoching around these events.\n",
      "  raw = mne.io.read_raw_eeglab(str(Path(root_path) / eeg_rel_path / f\"sub-{subject}_{event_id}.set\"), verbose=False)\n",
      "<ipython-input-2-c47d3aa7e58e>:39: RuntimeWarning: Epochs are not baseline corrected, covariance matrix may be inaccurate\n",
      "  noise_cov = mne.compute_covariance(epochs, method=\"auto\", verbose=False).as_diag()\n",
      "<ipython-input-2-c47d3aa7e58e>:40: RuntimeWarning: No average EEG reference present in info[\"projs\"], covariance may be adversely affected. Consider recomputing covariance using with an average eeg reference projector added.\n",
      "  inverse_operator = mne.minimum_norm.make_inverse_operator(epochs.info, fwd, noise_cov, loose=loose, verbose=False)\n",
      "<ipython-input-2-c47d3aa7e58e>:40: RuntimeWarning: No average EEG reference present in info[\"projs\"], covariance may be adversely affected. Consider recomputing covariance using with an average eeg reference projector added.\n",
      "  inverse_operator = mne.minimum_norm.make_inverse_operator(epochs.info, fwd, noise_cov, loose=loose, verbose=False)\n"
     ]
    },
    {
     "name": "stdout",
     "output_type": "stream",
     "text": [
      "Not setting metadata\n",
      "Not setting metadata\n",
      "10 matching events found\n",
      "No baseline correction applied\n",
      "0 projection items activated\n",
      "Loading data for 10 events and 500 original time points ...\n",
      "0 bad epochs dropped\n",
      "Fitted sphere radius:         99.4 mm\n",
      "Origin head coordinates:      6.5 -2.2 47.2 mm\n",
      "Origin device coordinates:    6.5 -2.2 47.2 mm\n"
     ]
    },
    {
     "name": "stderr",
     "output_type": "stream",
     "text": [
      "/home/christian/code/acareeg/acareeg/lemon.py:58: RuntimeWarning: Limited 1 annotation(s) that were expanding outside the data range.\n",
      "  raw = mne.io.read_raw_eeglab(str(Path(root_path) / eeg_rel_path / f\"sub-{subject}_{event_id}.set\"), verbose=False)\n",
      "/home/christian/code/acareeg/acareeg/lemon.py:58: RuntimeWarning: The data contains 'boundary' events, indicating data discontinuities. Be cautious of filtering and epoching around these events.\n",
      "  raw = mne.io.read_raw_eeglab(str(Path(root_path) / eeg_rel_path / f\"sub-{subject}_{event_id}.set\"), verbose=False)\n",
      "<ipython-input-2-c47d3aa7e58e>:39: RuntimeWarning: Epochs are not baseline corrected, covariance matrix may be inaccurate\n",
      "  noise_cov = mne.compute_covariance(epochs, method=\"auto\", verbose=False).as_diag()\n",
      "<ipython-input-2-c47d3aa7e58e>:40: RuntimeWarning: No average EEG reference present in info[\"projs\"], covariance may be adversely affected. Consider recomputing covariance using with an average eeg reference projector added.\n",
      "  inverse_operator = mne.minimum_norm.make_inverse_operator(epochs.info, fwd, noise_cov, loose=loose, verbose=False)\n",
      "<ipython-input-2-c47d3aa7e58e>:40: RuntimeWarning: No average EEG reference present in info[\"projs\"], covariance may be adversely affected. Consider recomputing covariance using with an average eeg reference projector added.\n",
      "  inverse_operator = mne.minimum_norm.make_inverse_operator(epochs.info, fwd, noise_cov, loose=loose, verbose=False)\n"
     ]
    },
    {
     "name": "stdout",
     "output_type": "stream",
     "text": [
      "Not setting metadata\n",
      "Not setting metadata\n",
      "10 matching events found\n",
      "No baseline correction applied\n",
      "0 projection items activated\n",
      "Loading data for 10 events and 500 original time points ...\n",
      "0 bad epochs dropped\n",
      "Fitted sphere radius:         104.0 mm\n",
      "Origin head coordinates:      3.3 11.0 42.8 mm\n",
      "Origin device coordinates:    3.3 11.0 42.8 mm\n"
     ]
    },
    {
     "name": "stderr",
     "output_type": "stream",
     "text": [
      "/home/christian/code/acareeg/acareeg/lemon.py:58: RuntimeWarning: Limited 1 annotation(s) that were expanding outside the data range.\n",
      "  raw = mne.io.read_raw_eeglab(str(Path(root_path) / eeg_rel_path / f\"sub-{subject}_{event_id}.set\"), verbose=False)\n",
      "/home/christian/code/acareeg/acareeg/lemon.py:58: RuntimeWarning: The data contains 'boundary' events, indicating data discontinuities. Be cautious of filtering and epoching around these events.\n",
      "  raw = mne.io.read_raw_eeglab(str(Path(root_path) / eeg_rel_path / f\"sub-{subject}_{event_id}.set\"), verbose=False)\n",
      "<ipython-input-2-c47d3aa7e58e>:39: RuntimeWarning: Epochs are not baseline corrected, covariance matrix may be inaccurate\n",
      "  noise_cov = mne.compute_covariance(epochs, method=\"auto\", verbose=False).as_diag()\n",
      "<ipython-input-2-c47d3aa7e58e>:40: RuntimeWarning: No average EEG reference present in info[\"projs\"], covariance may be adversely affected. Consider recomputing covariance using with an average eeg reference projector added.\n",
      "  inverse_operator = mne.minimum_norm.make_inverse_operator(epochs.info, fwd, noise_cov, loose=loose, verbose=False)\n",
      "<ipython-input-2-c47d3aa7e58e>:40: RuntimeWarning: No average EEG reference present in info[\"projs\"], covariance may be adversely affected. Consider recomputing covariance using with an average eeg reference projector added.\n",
      "  inverse_operator = mne.minimum_norm.make_inverse_operator(epochs.info, fwd, noise_cov, loose=loose, verbose=False)\n"
     ]
    },
    {
     "name": "stdout",
     "output_type": "stream",
     "text": [
      "Not setting metadata\n",
      "Not setting metadata\n",
      "10 matching events found\n",
      "No baseline correction applied\n",
      "0 projection items activated\n",
      "Loading data for 10 events and 500 original time points ...\n",
      "0 bad epochs dropped\n",
      "Fitted sphere radius:         102.9 mm\n",
      "Origin head coordinates:      3.9 0.1 39.6 mm\n",
      "Origin device coordinates:    3.9 0.1 39.6 mm\n"
     ]
    },
    {
     "name": "stderr",
     "output_type": "stream",
     "text": [
      "/home/christian/code/acareeg/acareeg/lemon.py:58: RuntimeWarning: Limited 1 annotation(s) that were expanding outside the data range.\n",
      "  raw = mne.io.read_raw_eeglab(str(Path(root_path) / eeg_rel_path / f\"sub-{subject}_{event_id}.set\"), verbose=False)\n",
      "/home/christian/code/acareeg/acareeg/lemon.py:58: RuntimeWarning: The data contains 'boundary' events, indicating data discontinuities. Be cautious of filtering and epoching around these events.\n",
      "  raw = mne.io.read_raw_eeglab(str(Path(root_path) / eeg_rel_path / f\"sub-{subject}_{event_id}.set\"), verbose=False)\n",
      "<ipython-input-2-c47d3aa7e58e>:39: RuntimeWarning: Epochs are not baseline corrected, covariance matrix may be inaccurate\n",
      "  noise_cov = mne.compute_covariance(epochs, method=\"auto\", verbose=False).as_diag()\n",
      "<ipython-input-2-c47d3aa7e58e>:40: RuntimeWarning: No average EEG reference present in info[\"projs\"], covariance may be adversely affected. Consider recomputing covariance using with an average eeg reference projector added.\n",
      "  inverse_operator = mne.minimum_norm.make_inverse_operator(epochs.info, fwd, noise_cov, loose=loose, verbose=False)\n",
      "<ipython-input-2-c47d3aa7e58e>:40: RuntimeWarning: No average EEG reference present in info[\"projs\"], covariance may be adversely affected. Consider recomputing covariance using with an average eeg reference projector added.\n",
      "  inverse_operator = mne.minimum_norm.make_inverse_operator(epochs.info, fwd, noise_cov, loose=loose, verbose=False)\n"
     ]
    },
    {
     "name": "stdout",
     "output_type": "stream",
     "text": [
      "Not setting metadata\n",
      "Not setting metadata\n",
      "10 matching events found\n",
      "No baseline correction applied\n",
      "0 projection items activated\n",
      "Loading data for 10 events and 500 original time points ...\n",
      "0 bad epochs dropped\n",
      "Fitted sphere radius:         100.5 mm\n",
      "Origin head coordinates:      2.3 1.5 43.3 mm\n",
      "Origin device coordinates:    2.3 1.5 43.3 mm\n"
     ]
    },
    {
     "name": "stderr",
     "output_type": "stream",
     "text": [
      "/home/christian/code/acareeg/acareeg/lemon.py:58: RuntimeWarning: Limited 1 annotation(s) that were expanding outside the data range.\n",
      "  raw = mne.io.read_raw_eeglab(str(Path(root_path) / eeg_rel_path / f\"sub-{subject}_{event_id}.set\"), verbose=False)\n",
      "/home/christian/code/acareeg/acareeg/lemon.py:58: RuntimeWarning: The data contains 'boundary' events, indicating data discontinuities. Be cautious of filtering and epoching around these events.\n",
      "  raw = mne.io.read_raw_eeglab(str(Path(root_path) / eeg_rel_path / f\"sub-{subject}_{event_id}.set\"), verbose=False)\n",
      "<ipython-input-2-c47d3aa7e58e>:39: RuntimeWarning: Epochs are not baseline corrected, covariance matrix may be inaccurate\n",
      "  noise_cov = mne.compute_covariance(epochs, method=\"auto\", verbose=False).as_diag()\n",
      "<ipython-input-2-c47d3aa7e58e>:40: RuntimeWarning: No average EEG reference present in info[\"projs\"], covariance may be adversely affected. Consider recomputing covariance using with an average eeg reference projector added.\n",
      "  inverse_operator = mne.minimum_norm.make_inverse_operator(epochs.info, fwd, noise_cov, loose=loose, verbose=False)\n",
      "<ipython-input-2-c47d3aa7e58e>:40: RuntimeWarning: No average EEG reference present in info[\"projs\"], covariance may be adversely affected. Consider recomputing covariance using with an average eeg reference projector added.\n",
      "  inverse_operator = mne.minimum_norm.make_inverse_operator(epochs.info, fwd, noise_cov, loose=loose, verbose=False)\n"
     ]
    },
    {
     "name": "stdout",
     "output_type": "stream",
     "text": [
      "Not setting metadata\n",
      "Not setting metadata\n",
      "10 matching events found\n",
      "No baseline correction applied\n",
      "0 projection items activated\n",
      "Loading data for 10 events and 500 original time points ...\n",
      "0 bad epochs dropped\n",
      "Fitted sphere radius:         97.8 mm\n",
      "Origin head coordinates:      1.6 1.4 44.7 mm\n",
      "Origin device coordinates:    1.6 1.4 44.7 mm\n"
     ]
    },
    {
     "name": "stderr",
     "output_type": "stream",
     "text": [
      "/home/christian/code/acareeg/acareeg/lemon.py:58: RuntimeWarning: Limited 1 annotation(s) that were expanding outside the data range.\n",
      "  raw = mne.io.read_raw_eeglab(str(Path(root_path) / eeg_rel_path / f\"sub-{subject}_{event_id}.set\"), verbose=False)\n",
      "/home/christian/code/acareeg/acareeg/lemon.py:58: RuntimeWarning: The data contains 'boundary' events, indicating data discontinuities. Be cautious of filtering and epoching around these events.\n",
      "  raw = mne.io.read_raw_eeglab(str(Path(root_path) / eeg_rel_path / f\"sub-{subject}_{event_id}.set\"), verbose=False)\n",
      "<ipython-input-2-c47d3aa7e58e>:39: RuntimeWarning: Epochs are not baseline corrected, covariance matrix may be inaccurate\n",
      "  noise_cov = mne.compute_covariance(epochs, method=\"auto\", verbose=False).as_diag()\n",
      "<ipython-input-2-c47d3aa7e58e>:40: RuntimeWarning: No average EEG reference present in info[\"projs\"], covariance may be adversely affected. Consider recomputing covariance using with an average eeg reference projector added.\n",
      "  inverse_operator = mne.minimum_norm.make_inverse_operator(epochs.info, fwd, noise_cov, loose=loose, verbose=False)\n",
      "<ipython-input-2-c47d3aa7e58e>:40: RuntimeWarning: No average EEG reference present in info[\"projs\"], covariance may be adversely affected. Consider recomputing covariance using with an average eeg reference projector added.\n",
      "  inverse_operator = mne.minimum_norm.make_inverse_operator(epochs.info, fwd, noise_cov, loose=loose, verbose=False)\n"
     ]
    },
    {
     "name": "stdout",
     "output_type": "stream",
     "text": [
      "Not setting metadata\n",
      "Not setting metadata\n",
      "10 matching events found\n",
      "No baseline correction applied\n",
      "0 projection items activated\n",
      "Loading data for 10 events and 500 original time points ...\n",
      "0 bad epochs dropped\n",
      "Fitted sphere radius:         98.5 mm\n",
      "Origin head coordinates:      3.3 9.2 45.1 mm\n",
      "Origin device coordinates:    3.3 9.2 45.1 mm\n"
     ]
    },
    {
     "name": "stderr",
     "output_type": "stream",
     "text": [
      "/home/christian/code/acareeg/acareeg/lemon.py:58: RuntimeWarning: Limited 1 annotation(s) that were expanding outside the data range.\n",
      "  raw = mne.io.read_raw_eeglab(str(Path(root_path) / eeg_rel_path / f\"sub-{subject}_{event_id}.set\"), verbose=False)\n",
      "/home/christian/code/acareeg/acareeg/lemon.py:58: RuntimeWarning: The data contains 'boundary' events, indicating data discontinuities. Be cautious of filtering and epoching around these events.\n",
      "  raw = mne.io.read_raw_eeglab(str(Path(root_path) / eeg_rel_path / f\"sub-{subject}_{event_id}.set\"), verbose=False)\n",
      "<ipython-input-2-c47d3aa7e58e>:39: RuntimeWarning: Epochs are not baseline corrected, covariance matrix may be inaccurate\n",
      "  noise_cov = mne.compute_covariance(epochs, method=\"auto\", verbose=False).as_diag()\n",
      "<ipython-input-2-c47d3aa7e58e>:40: RuntimeWarning: No average EEG reference present in info[\"projs\"], covariance may be adversely affected. Consider recomputing covariance using with an average eeg reference projector added.\n",
      "  inverse_operator = mne.minimum_norm.make_inverse_operator(epochs.info, fwd, noise_cov, loose=loose, verbose=False)\n",
      "<ipython-input-2-c47d3aa7e58e>:40: RuntimeWarning: No average EEG reference present in info[\"projs\"], covariance may be adversely affected. Consider recomputing covariance using with an average eeg reference projector added.\n",
      "  inverse_operator = mne.minimum_norm.make_inverse_operator(epochs.info, fwd, noise_cov, loose=loose, verbose=False)\n"
     ]
    },
    {
     "name": "stdout",
     "output_type": "stream",
     "text": [
      "Not setting metadata\n",
      "Not setting metadata\n",
      "10 matching events found\n",
      "No baseline correction applied\n",
      "0 projection items activated\n",
      "Loading data for 10 events and 500 original time points ...\n",
      "0 bad epochs dropped\n",
      "Fitted sphere radius:         100.1 mm\n",
      "Origin head coordinates:      2.3 -1.6 39.0 mm\n",
      "Origin device coordinates:    2.3 -1.6 39.0 mm\n"
     ]
    },
    {
     "name": "stderr",
     "output_type": "stream",
     "text": [
      "/home/christian/code/acareeg/acareeg/lemon.py:58: RuntimeWarning: Limited 1 annotation(s) that were expanding outside the data range.\n",
      "  raw = mne.io.read_raw_eeglab(str(Path(root_path) / eeg_rel_path / f\"sub-{subject}_{event_id}.set\"), verbose=False)\n",
      "/home/christian/code/acareeg/acareeg/lemon.py:58: RuntimeWarning: The data contains 'boundary' events, indicating data discontinuities. Be cautious of filtering and epoching around these events.\n",
      "  raw = mne.io.read_raw_eeglab(str(Path(root_path) / eeg_rel_path / f\"sub-{subject}_{event_id}.set\"), verbose=False)\n",
      "<ipython-input-2-c47d3aa7e58e>:39: RuntimeWarning: Epochs are not baseline corrected, covariance matrix may be inaccurate\n",
      "  noise_cov = mne.compute_covariance(epochs, method=\"auto\", verbose=False).as_diag()\n",
      "<ipython-input-2-c47d3aa7e58e>:40: RuntimeWarning: No average EEG reference present in info[\"projs\"], covariance may be adversely affected. Consider recomputing covariance using with an average eeg reference projector added.\n",
      "  inverse_operator = mne.minimum_norm.make_inverse_operator(epochs.info, fwd, noise_cov, loose=loose, verbose=False)\n",
      "<ipython-input-2-c47d3aa7e58e>:40: RuntimeWarning: No average EEG reference present in info[\"projs\"], covariance may be adversely affected. Consider recomputing covariance using with an average eeg reference projector added.\n",
      "  inverse_operator = mne.minimum_norm.make_inverse_operator(epochs.info, fwd, noise_cov, loose=loose, verbose=False)\n"
     ]
    },
    {
     "name": "stdout",
     "output_type": "stream",
     "text": [
      "Not setting metadata\n",
      "Not setting metadata\n",
      "10 matching events found\n",
      "No baseline correction applied\n",
      "0 projection items activated\n",
      "Loading data for 10 events and 500 original time points ...\n",
      "0 bad epochs dropped\n",
      "Fitted sphere radius:         101.2 mm\n",
      "Origin head coordinates:      2.7 6.7 45.7 mm\n",
      "Origin device coordinates:    2.7 6.7 45.7 mm\n"
     ]
    },
    {
     "name": "stderr",
     "output_type": "stream",
     "text": [
      "/home/christian/code/acareeg/acareeg/lemon.py:58: RuntimeWarning: Limited 1 annotation(s) that were expanding outside the data range.\n",
      "  raw = mne.io.read_raw_eeglab(str(Path(root_path) / eeg_rel_path / f\"sub-{subject}_{event_id}.set\"), verbose=False)\n",
      "/home/christian/code/acareeg/acareeg/lemon.py:58: RuntimeWarning: The data contains 'boundary' events, indicating data discontinuities. Be cautious of filtering and epoching around these events.\n",
      "  raw = mne.io.read_raw_eeglab(str(Path(root_path) / eeg_rel_path / f\"sub-{subject}_{event_id}.set\"), verbose=False)\n",
      "<ipython-input-2-c47d3aa7e58e>:39: RuntimeWarning: Epochs are not baseline corrected, covariance matrix may be inaccurate\n",
      "  noise_cov = mne.compute_covariance(epochs, method=\"auto\", verbose=False).as_diag()\n",
      "<ipython-input-2-c47d3aa7e58e>:40: RuntimeWarning: No average EEG reference present in info[\"projs\"], covariance may be adversely affected. Consider recomputing covariance using with an average eeg reference projector added.\n",
      "  inverse_operator = mne.minimum_norm.make_inverse_operator(epochs.info, fwd, noise_cov, loose=loose, verbose=False)\n",
      "<ipython-input-2-c47d3aa7e58e>:40: RuntimeWarning: No average EEG reference present in info[\"projs\"], covariance may be adversely affected. Consider recomputing covariance using with an average eeg reference projector added.\n",
      "  inverse_operator = mne.minimum_norm.make_inverse_operator(epochs.info, fwd, noise_cov, loose=loose, verbose=False)\n"
     ]
    },
    {
     "name": "stdout",
     "output_type": "stream",
     "text": [
      "Not setting metadata\n",
      "Not setting metadata\n",
      "10 matching events found\n",
      "No baseline correction applied\n",
      "0 projection items activated\n",
      "Loading data for 10 events and 500 original time points ...\n",
      "0 bad epochs dropped\n",
      "Fitted sphere radius:         99.5 mm\n",
      "Origin head coordinates:      0.5 4.1 42.2 mm\n",
      "Origin device coordinates:    0.5 4.1 42.2 mm\n"
     ]
    },
    {
     "name": "stderr",
     "output_type": "stream",
     "text": [
      "/home/christian/code/acareeg/acareeg/lemon.py:58: RuntimeWarning: Limited 1 annotation(s) that were expanding outside the data range.\n",
      "  raw = mne.io.read_raw_eeglab(str(Path(root_path) / eeg_rel_path / f\"sub-{subject}_{event_id}.set\"), verbose=False)\n",
      "/home/christian/code/acareeg/acareeg/lemon.py:58: RuntimeWarning: The data contains 'boundary' events, indicating data discontinuities. Be cautious of filtering and epoching around these events.\n",
      "  raw = mne.io.read_raw_eeglab(str(Path(root_path) / eeg_rel_path / f\"sub-{subject}_{event_id}.set\"), verbose=False)\n",
      "<ipython-input-2-c47d3aa7e58e>:39: RuntimeWarning: Epochs are not baseline corrected, covariance matrix may be inaccurate\n",
      "  noise_cov = mne.compute_covariance(epochs, method=\"auto\", verbose=False).as_diag()\n",
      "<ipython-input-2-c47d3aa7e58e>:40: RuntimeWarning: No average EEG reference present in info[\"projs\"], covariance may be adversely affected. Consider recomputing covariance using with an average eeg reference projector added.\n",
      "  inverse_operator = mne.minimum_norm.make_inverse_operator(epochs.info, fwd, noise_cov, loose=loose, verbose=False)\n",
      "<ipython-input-2-c47d3aa7e58e>:40: RuntimeWarning: No average EEG reference present in info[\"projs\"], covariance may be adversely affected. Consider recomputing covariance using with an average eeg reference projector added.\n",
      "  inverse_operator = mne.minimum_norm.make_inverse_operator(epochs.info, fwd, noise_cov, loose=loose, verbose=False)\n"
     ]
    },
    {
     "name": "stdout",
     "output_type": "stream",
     "text": [
      "Not setting metadata\n",
      "Not setting metadata\n",
      "10 matching events found\n",
      "No baseline correction applied\n",
      "0 projection items activated\n",
      "Loading data for 10 events and 500 original time points ...\n",
      "0 bad epochs dropped\n",
      "Fitted sphere radius:         99.5 mm\n",
      "Origin head coordinates:      1.6 -3.6 41.7 mm\n",
      "Origin device coordinates:    1.6 -3.6 41.7 mm\n"
     ]
    },
    {
     "name": "stderr",
     "output_type": "stream",
     "text": [
      "/home/christian/code/acareeg/acareeg/lemon.py:58: RuntimeWarning: Limited 1 annotation(s) that were expanding outside the data range.\n",
      "  raw = mne.io.read_raw_eeglab(str(Path(root_path) / eeg_rel_path / f\"sub-{subject}_{event_id}.set\"), verbose=False)\n",
      "/home/christian/code/acareeg/acareeg/lemon.py:58: RuntimeWarning: The data contains 'boundary' events, indicating data discontinuities. Be cautious of filtering and epoching around these events.\n",
      "  raw = mne.io.read_raw_eeglab(str(Path(root_path) / eeg_rel_path / f\"sub-{subject}_{event_id}.set\"), verbose=False)\n",
      "<ipython-input-2-c47d3aa7e58e>:39: RuntimeWarning: Epochs are not baseline corrected, covariance matrix may be inaccurate\n",
      "  noise_cov = mne.compute_covariance(epochs, method=\"auto\", verbose=False).as_diag()\n",
      "<ipython-input-2-c47d3aa7e58e>:40: RuntimeWarning: No average EEG reference present in info[\"projs\"], covariance may be adversely affected. Consider recomputing covariance using with an average eeg reference projector added.\n",
      "  inverse_operator = mne.minimum_norm.make_inverse_operator(epochs.info, fwd, noise_cov, loose=loose, verbose=False)\n",
      "<ipython-input-2-c47d3aa7e58e>:40: RuntimeWarning: No average EEG reference present in info[\"projs\"], covariance may be adversely affected. Consider recomputing covariance using with an average eeg reference projector added.\n",
      "  inverse_operator = mne.minimum_norm.make_inverse_operator(epochs.info, fwd, noise_cov, loose=loose, verbose=False)\n"
     ]
    },
    {
     "name": "stdout",
     "output_type": "stream",
     "text": [
      "Not setting metadata\n",
      "Not setting metadata\n",
      "10 matching events found\n",
      "No baseline correction applied\n",
      "0 projection items activated\n",
      "Loading data for 10 events and 500 original time points ...\n",
      "0 bad epochs dropped\n",
      "Fitted sphere radius:         98.5 mm\n",
      "Origin head coordinates:      3.5 -2.5 45.9 mm\n",
      "Origin device coordinates:    3.5 -2.5 45.9 mm\n"
     ]
    },
    {
     "name": "stderr",
     "output_type": "stream",
     "text": [
      "/home/christian/code/acareeg/acareeg/lemon.py:58: RuntimeWarning: Limited 1 annotation(s) that were expanding outside the data range.\n",
      "  raw = mne.io.read_raw_eeglab(str(Path(root_path) / eeg_rel_path / f\"sub-{subject}_{event_id}.set\"), verbose=False)\n",
      "/home/christian/code/acareeg/acareeg/lemon.py:58: RuntimeWarning: The data contains 'boundary' events, indicating data discontinuities. Be cautious of filtering and epoching around these events.\n",
      "  raw = mne.io.read_raw_eeglab(str(Path(root_path) / eeg_rel_path / f\"sub-{subject}_{event_id}.set\"), verbose=False)\n",
      "<ipython-input-2-c47d3aa7e58e>:39: RuntimeWarning: Epochs are not baseline corrected, covariance matrix may be inaccurate\n",
      "  noise_cov = mne.compute_covariance(epochs, method=\"auto\", verbose=False).as_diag()\n",
      "<ipython-input-2-c47d3aa7e58e>:40: RuntimeWarning: No average EEG reference present in info[\"projs\"], covariance may be adversely affected. Consider recomputing covariance using with an average eeg reference projector added.\n",
      "  inverse_operator = mne.minimum_norm.make_inverse_operator(epochs.info, fwd, noise_cov, loose=loose, verbose=False)\n",
      "<ipython-input-2-c47d3aa7e58e>:40: RuntimeWarning: No average EEG reference present in info[\"projs\"], covariance may be adversely affected. Consider recomputing covariance using with an average eeg reference projector added.\n",
      "  inverse_operator = mne.minimum_norm.make_inverse_operator(epochs.info, fwd, noise_cov, loose=loose, verbose=False)\n"
     ]
    },
    {
     "name": "stdout",
     "output_type": "stream",
     "text": [
      "Not setting metadata\n",
      "Not setting metadata\n",
      "10 matching events found\n",
      "No baseline correction applied\n",
      "0 projection items activated\n",
      "Loading data for 10 events and 500 original time points ...\n",
      "0 bad epochs dropped\n",
      "Fitted sphere radius:         100.6 mm\n",
      "Origin head coordinates:      1.4 -2.2 40.7 mm\n",
      "Origin device coordinates:    1.4 -2.2 40.7 mm\n"
     ]
    },
    {
     "name": "stderr",
     "output_type": "stream",
     "text": [
      "/home/christian/code/acareeg/acareeg/lemon.py:58: RuntimeWarning: Limited 1 annotation(s) that were expanding outside the data range.\n",
      "  raw = mne.io.read_raw_eeglab(str(Path(root_path) / eeg_rel_path / f\"sub-{subject}_{event_id}.set\"), verbose=False)\n",
      "/home/christian/code/acareeg/acareeg/lemon.py:58: RuntimeWarning: The data contains 'boundary' events, indicating data discontinuities. Be cautious of filtering and epoching around these events.\n",
      "  raw = mne.io.read_raw_eeglab(str(Path(root_path) / eeg_rel_path / f\"sub-{subject}_{event_id}.set\"), verbose=False)\n",
      "<ipython-input-2-c47d3aa7e58e>:39: RuntimeWarning: Epochs are not baseline corrected, covariance matrix may be inaccurate\n",
      "  noise_cov = mne.compute_covariance(epochs, method=\"auto\", verbose=False).as_diag()\n",
      "<ipython-input-2-c47d3aa7e58e>:40: RuntimeWarning: No average EEG reference present in info[\"projs\"], covariance may be adversely affected. Consider recomputing covariance using with an average eeg reference projector added.\n",
      "  inverse_operator = mne.minimum_norm.make_inverse_operator(epochs.info, fwd, noise_cov, loose=loose, verbose=False)\n",
      "<ipython-input-2-c47d3aa7e58e>:40: RuntimeWarning: No average EEG reference present in info[\"projs\"], covariance may be adversely affected. Consider recomputing covariance using with an average eeg reference projector added.\n",
      "  inverse_operator = mne.minimum_norm.make_inverse_operator(epochs.info, fwd, noise_cov, loose=loose, verbose=False)\n"
     ]
    },
    {
     "name": "stdout",
     "output_type": "stream",
     "text": [
      "Not setting metadata\n",
      "Not setting metadata\n",
      "10 matching events found\n",
      "No baseline correction applied\n",
      "0 projection items activated\n",
      "Loading data for 10 events and 500 original time points ...\n",
      "0 bad epochs dropped\n",
      "Fitted sphere radius:         103.5 mm\n",
      "Origin head coordinates:      4.0 4.2 43.1 mm\n",
      "Origin device coordinates:    4.0 4.2 43.1 mm\n"
     ]
    },
    {
     "name": "stderr",
     "output_type": "stream",
     "text": [
      "/home/christian/code/acareeg/acareeg/lemon.py:58: RuntimeWarning: Limited 1 annotation(s) that were expanding outside the data range.\n",
      "  raw = mne.io.read_raw_eeglab(str(Path(root_path) / eeg_rel_path / f\"sub-{subject}_{event_id}.set\"), verbose=False)\n",
      "/home/christian/code/acareeg/acareeg/lemon.py:58: RuntimeWarning: The data contains 'boundary' events, indicating data discontinuities. Be cautious of filtering and epoching around these events.\n",
      "  raw = mne.io.read_raw_eeglab(str(Path(root_path) / eeg_rel_path / f\"sub-{subject}_{event_id}.set\"), verbose=False)\n",
      "<ipython-input-2-c47d3aa7e58e>:39: RuntimeWarning: Epochs are not baseline corrected, covariance matrix may be inaccurate\n",
      "  noise_cov = mne.compute_covariance(epochs, method=\"auto\", verbose=False).as_diag()\n",
      "<ipython-input-2-c47d3aa7e58e>:40: RuntimeWarning: No average EEG reference present in info[\"projs\"], covariance may be adversely affected. Consider recomputing covariance using with an average eeg reference projector added.\n",
      "  inverse_operator = mne.minimum_norm.make_inverse_operator(epochs.info, fwd, noise_cov, loose=loose, verbose=False)\n",
      "<ipython-input-2-c47d3aa7e58e>:40: RuntimeWarning: No average EEG reference present in info[\"projs\"], covariance may be adversely affected. Consider recomputing covariance using with an average eeg reference projector added.\n",
      "  inverse_operator = mne.minimum_norm.make_inverse_operator(epochs.info, fwd, noise_cov, loose=loose, verbose=False)\n"
     ]
    },
    {
     "name": "stdout",
     "output_type": "stream",
     "text": [
      "Not setting metadata\n",
      "Not setting metadata\n",
      "10 matching events found\n",
      "No baseline correction applied\n",
      "0 projection items activated\n",
      "Loading data for 10 events and 500 original time points ...\n",
      "0 bad epochs dropped\n",
      "Fitted sphere radius:         101.0 mm\n",
      "Origin head coordinates:      7.0 7.5 34.2 mm\n",
      "Origin device coordinates:    7.0 7.5 34.2 mm\n"
     ]
    },
    {
     "name": "stderr",
     "output_type": "stream",
     "text": [
      "/home/christian/code/acareeg/acareeg/lemon.py:58: RuntimeWarning: Limited 1 annotation(s) that were expanding outside the data range.\n",
      "  raw = mne.io.read_raw_eeglab(str(Path(root_path) / eeg_rel_path / f\"sub-{subject}_{event_id}.set\"), verbose=False)\n",
      "/home/christian/code/acareeg/acareeg/lemon.py:58: RuntimeWarning: The data contains 'boundary' events, indicating data discontinuities. Be cautious of filtering and epoching around these events.\n",
      "  raw = mne.io.read_raw_eeglab(str(Path(root_path) / eeg_rel_path / f\"sub-{subject}_{event_id}.set\"), verbose=False)\n",
      "<ipython-input-2-c47d3aa7e58e>:39: RuntimeWarning: Epochs are not baseline corrected, covariance matrix may be inaccurate\n",
      "  noise_cov = mne.compute_covariance(epochs, method=\"auto\", verbose=False).as_diag()\n",
      "<ipython-input-2-c47d3aa7e58e>:40: RuntimeWarning: No average EEG reference present in info[\"projs\"], covariance may be adversely affected. Consider recomputing covariance using with an average eeg reference projector added.\n",
      "  inverse_operator = mne.minimum_norm.make_inverse_operator(epochs.info, fwd, noise_cov, loose=loose, verbose=False)\n",
      "<ipython-input-2-c47d3aa7e58e>:40: RuntimeWarning: No average EEG reference present in info[\"projs\"], covariance may be adversely affected. Consider recomputing covariance using with an average eeg reference projector added.\n",
      "  inverse_operator = mne.minimum_norm.make_inverse_operator(epochs.info, fwd, noise_cov, loose=loose, verbose=False)\n"
     ]
    },
    {
     "name": "stdout",
     "output_type": "stream",
     "text": [
      "Not setting metadata\n",
      "Not setting metadata\n",
      "10 matching events found\n",
      "No baseline correction applied\n",
      "0 projection items activated\n",
      "Loading data for 10 events and 500 original time points ...\n",
      "0 bad epochs dropped\n",
      "Fitted sphere radius:         103.3 mm\n",
      "Origin head coordinates:      0.3 3.2 38.8 mm\n",
      "Origin device coordinates:    0.3 3.2 38.8 mm\n"
     ]
    },
    {
     "name": "stderr",
     "output_type": "stream",
     "text": [
      "/home/christian/code/acareeg/acareeg/lemon.py:58: RuntimeWarning: Limited 1 annotation(s) that were expanding outside the data range.\n",
      "  raw = mne.io.read_raw_eeglab(str(Path(root_path) / eeg_rel_path / f\"sub-{subject}_{event_id}.set\"), verbose=False)\n",
      "/home/christian/code/acareeg/acareeg/lemon.py:58: RuntimeWarning: The data contains 'boundary' events, indicating data discontinuities. Be cautious of filtering and epoching around these events.\n",
      "  raw = mne.io.read_raw_eeglab(str(Path(root_path) / eeg_rel_path / f\"sub-{subject}_{event_id}.set\"), verbose=False)\n",
      "<ipython-input-2-c47d3aa7e58e>:39: RuntimeWarning: Epochs are not baseline corrected, covariance matrix may be inaccurate\n",
      "  noise_cov = mne.compute_covariance(epochs, method=\"auto\", verbose=False).as_diag()\n",
      "<ipython-input-2-c47d3aa7e58e>:40: RuntimeWarning: No average EEG reference present in info[\"projs\"], covariance may be adversely affected. Consider recomputing covariance using with an average eeg reference projector added.\n",
      "  inverse_operator = mne.minimum_norm.make_inverse_operator(epochs.info, fwd, noise_cov, loose=loose, verbose=False)\n",
      "<ipython-input-2-c47d3aa7e58e>:40: RuntimeWarning: No average EEG reference present in info[\"projs\"], covariance may be adversely affected. Consider recomputing covariance using with an average eeg reference projector added.\n",
      "  inverse_operator = mne.minimum_norm.make_inverse_operator(epochs.info, fwd, noise_cov, loose=loose, verbose=False)\n"
     ]
    },
    {
     "name": "stdout",
     "output_type": "stream",
     "text": [
      "Not setting metadata\n",
      "Not setting metadata\n",
      "10 matching events found\n",
      "No baseline correction applied\n",
      "0 projection items activated\n",
      "Loading data for 10 events and 500 original time points ...\n",
      "0 bad epochs dropped\n",
      "Fitted sphere radius:         105.4 mm\n",
      "Origin head coordinates:      3.9 -2.1 48.2 mm\n",
      "Origin device coordinates:    3.9 -2.1 48.2 mm\n"
     ]
    },
    {
     "name": "stderr",
     "output_type": "stream",
     "text": [
      "/home/christian/code/acareeg/acareeg/lemon.py:58: RuntimeWarning: Limited 1 annotation(s) that were expanding outside the data range.\n",
      "  raw = mne.io.read_raw_eeglab(str(Path(root_path) / eeg_rel_path / f\"sub-{subject}_{event_id}.set\"), verbose=False)\n",
      "/home/christian/code/acareeg/acareeg/lemon.py:58: RuntimeWarning: The data contains 'boundary' events, indicating data discontinuities. Be cautious of filtering and epoching around these events.\n",
      "  raw = mne.io.read_raw_eeglab(str(Path(root_path) / eeg_rel_path / f\"sub-{subject}_{event_id}.set\"), verbose=False)\n",
      "<ipython-input-2-c47d3aa7e58e>:39: RuntimeWarning: Epochs are not baseline corrected, covariance matrix may be inaccurate\n",
      "  noise_cov = mne.compute_covariance(epochs, method=\"auto\", verbose=False).as_diag()\n",
      "<ipython-input-2-c47d3aa7e58e>:40: RuntimeWarning: No average EEG reference present in info[\"projs\"], covariance may be adversely affected. Consider recomputing covariance using with an average eeg reference projector added.\n",
      "  inverse_operator = mne.minimum_norm.make_inverse_operator(epochs.info, fwd, noise_cov, loose=loose, verbose=False)\n",
      "<ipython-input-2-c47d3aa7e58e>:40: RuntimeWarning: No average EEG reference present in info[\"projs\"], covariance may be adversely affected. Consider recomputing covariance using with an average eeg reference projector added.\n",
      "  inverse_operator = mne.minimum_norm.make_inverse_operator(epochs.info, fwd, noise_cov, loose=loose, verbose=False)\n"
     ]
    },
    {
     "name": "stdout",
     "output_type": "stream",
     "text": [
      "Not setting metadata\n",
      "Not setting metadata\n",
      "10 matching events found\n",
      "No baseline correction applied\n",
      "0 projection items activated\n",
      "Loading data for 10 events and 500 original time points ...\n",
      "0 bad epochs dropped\n",
      "Fitted sphere radius:         102.8 mm\n",
      "Origin head coordinates:      4.6 -3.7 51.4 mm\n",
      "Origin device coordinates:    4.6 -3.7 51.4 mm\n"
     ]
    },
    {
     "name": "stderr",
     "output_type": "stream",
     "text": [
      "/home/christian/code/acareeg/acareeg/lemon.py:58: RuntimeWarning: Limited 1 annotation(s) that were expanding outside the data range.\n",
      "  raw = mne.io.read_raw_eeglab(str(Path(root_path) / eeg_rel_path / f\"sub-{subject}_{event_id}.set\"), verbose=False)\n",
      "/home/christian/code/acareeg/acareeg/lemon.py:58: RuntimeWarning: The data contains 'boundary' events, indicating data discontinuities. Be cautious of filtering and epoching around these events.\n",
      "  raw = mne.io.read_raw_eeglab(str(Path(root_path) / eeg_rel_path / f\"sub-{subject}_{event_id}.set\"), verbose=False)\n",
      "<ipython-input-2-c47d3aa7e58e>:39: RuntimeWarning: Epochs are not baseline corrected, covariance matrix may be inaccurate\n",
      "  noise_cov = mne.compute_covariance(epochs, method=\"auto\", verbose=False).as_diag()\n",
      "<ipython-input-2-c47d3aa7e58e>:40: RuntimeWarning: No average EEG reference present in info[\"projs\"], covariance may be adversely affected. Consider recomputing covariance using with an average eeg reference projector added.\n",
      "  inverse_operator = mne.minimum_norm.make_inverse_operator(epochs.info, fwd, noise_cov, loose=loose, verbose=False)\n",
      "<ipython-input-2-c47d3aa7e58e>:40: RuntimeWarning: No average EEG reference present in info[\"projs\"], covariance may be adversely affected. Consider recomputing covariance using with an average eeg reference projector added.\n",
      "  inverse_operator = mne.minimum_norm.make_inverse_operator(epochs.info, fwd, noise_cov, loose=loose, verbose=False)\n"
     ]
    },
    {
     "name": "stdout",
     "output_type": "stream",
     "text": [
      "Not setting metadata\n",
      "Not setting metadata\n",
      "10 matching events found\n",
      "No baseline correction applied\n",
      "0 projection items activated\n",
      "Loading data for 10 events and 500 original time points ...\n",
      "0 bad epochs dropped\n",
      "Fitted sphere radius:         102.6 mm\n",
      "Origin head coordinates:      2.5 4.4 40.7 mm\n",
      "Origin device coordinates:    2.5 4.4 40.7 mm\n"
     ]
    },
    {
     "name": "stderr",
     "output_type": "stream",
     "text": [
      "/home/christian/code/acareeg/acareeg/lemon.py:58: RuntimeWarning: Limited 1 annotation(s) that were expanding outside the data range.\n",
      "  raw = mne.io.read_raw_eeglab(str(Path(root_path) / eeg_rel_path / f\"sub-{subject}_{event_id}.set\"), verbose=False)\n",
      "/home/christian/code/acareeg/acareeg/lemon.py:58: RuntimeWarning: The data contains 'boundary' events, indicating data discontinuities. Be cautious of filtering and epoching around these events.\n",
      "  raw = mne.io.read_raw_eeglab(str(Path(root_path) / eeg_rel_path / f\"sub-{subject}_{event_id}.set\"), verbose=False)\n",
      "<ipython-input-2-c47d3aa7e58e>:39: RuntimeWarning: Epochs are not baseline corrected, covariance matrix may be inaccurate\n",
      "  noise_cov = mne.compute_covariance(epochs, method=\"auto\", verbose=False).as_diag()\n",
      "<ipython-input-2-c47d3aa7e58e>:40: RuntimeWarning: No average EEG reference present in info[\"projs\"], covariance may be adversely affected. Consider recomputing covariance using with an average eeg reference projector added.\n",
      "  inverse_operator = mne.minimum_norm.make_inverse_operator(epochs.info, fwd, noise_cov, loose=loose, verbose=False)\n",
      "<ipython-input-2-c47d3aa7e58e>:40: RuntimeWarning: No average EEG reference present in info[\"projs\"], covariance may be adversely affected. Consider recomputing covariance using with an average eeg reference projector added.\n",
      "  inverse_operator = mne.minimum_norm.make_inverse_operator(epochs.info, fwd, noise_cov, loose=loose, verbose=False)\n"
     ]
    },
    {
     "name": "stdout",
     "output_type": "stream",
     "text": [
      "Not setting metadata\n",
      "Not setting metadata\n",
      "10 matching events found\n",
      "No baseline correction applied\n",
      "0 projection items activated\n",
      "Loading data for 10 events and 500 original time points ...\n",
      "0 bad epochs dropped\n",
      "Fitted sphere radius:         91.1 mm\n",
      "Origin head coordinates:      -7.4 -14.2 -48.0 mm\n",
      "Origin device coordinates:    -7.4 -14.2 -48.0 mm\n"
     ]
    },
    {
     "name": "stderr",
     "output_type": "stream",
     "text": [
      "/home/christian/code/acareeg/acareeg/lemon.py:58: RuntimeWarning: Limited 1 annotation(s) that were expanding outside the data range.\n",
      "  raw = mne.io.read_raw_eeglab(str(Path(root_path) / eeg_rel_path / f\"sub-{subject}_{event_id}.set\"), verbose=False)\n",
      "/home/christian/code/acareeg/acareeg/lemon.py:58: RuntimeWarning: The data contains 'boundary' events, indicating data discontinuities. Be cautious of filtering and epoching around these events.\n",
      "  raw = mne.io.read_raw_eeglab(str(Path(root_path) / eeg_rel_path / f\"sub-{subject}_{event_id}.set\"), verbose=False)\n",
      "<ipython-input-2-c47d3aa7e58e>:39: RuntimeWarning: Epochs are not baseline corrected, covariance matrix may be inaccurate\n",
      "  noise_cov = mne.compute_covariance(epochs, method=\"auto\", verbose=False).as_diag()\n",
      "<ipython-input-2-c47d3aa7e58e>:40: RuntimeWarning: No average EEG reference present in info[\"projs\"], covariance may be adversely affected. Consider recomputing covariance using with an average eeg reference projector added.\n",
      "  inverse_operator = mne.minimum_norm.make_inverse_operator(epochs.info, fwd, noise_cov, loose=loose, verbose=False)\n",
      "<ipython-input-2-c47d3aa7e58e>:40: RuntimeWarning: No average EEG reference present in info[\"projs\"], covariance may be adversely affected. Consider recomputing covariance using with an average eeg reference projector added.\n",
      "  inverse_operator = mne.minimum_norm.make_inverse_operator(epochs.info, fwd, noise_cov, loose=loose, verbose=False)\n"
     ]
    },
    {
     "name": "stdout",
     "output_type": "stream",
     "text": [
      "Not setting metadata\n",
      "Not setting metadata\n",
      "10 matching events found\n",
      "No baseline correction applied\n",
      "0 projection items activated\n",
      "Loading data for 10 events and 500 original time points ...\n",
      "0 bad epochs dropped\n",
      "Fitted sphere radius:         103.0 mm\n",
      "Origin head coordinates:      1.1 3.7 32.9 mm\n",
      "Origin device coordinates:    1.1 3.7 32.9 mm\n"
     ]
    },
    {
     "name": "stderr",
     "output_type": "stream",
     "text": [
      "/home/christian/code/acareeg/acareeg/lemon.py:58: RuntimeWarning: Limited 1 annotation(s) that were expanding outside the data range.\n",
      "  raw = mne.io.read_raw_eeglab(str(Path(root_path) / eeg_rel_path / f\"sub-{subject}_{event_id}.set\"), verbose=False)\n",
      "/home/christian/code/acareeg/acareeg/lemon.py:58: RuntimeWarning: The data contains 'boundary' events, indicating data discontinuities. Be cautious of filtering and epoching around these events.\n",
      "  raw = mne.io.read_raw_eeglab(str(Path(root_path) / eeg_rel_path / f\"sub-{subject}_{event_id}.set\"), verbose=False)\n",
      "<ipython-input-2-c47d3aa7e58e>:39: RuntimeWarning: Epochs are not baseline corrected, covariance matrix may be inaccurate\n",
      "  noise_cov = mne.compute_covariance(epochs, method=\"auto\", verbose=False).as_diag()\n",
      "<ipython-input-2-c47d3aa7e58e>:40: RuntimeWarning: No average EEG reference present in info[\"projs\"], covariance may be adversely affected. Consider recomputing covariance using with an average eeg reference projector added.\n",
      "  inverse_operator = mne.minimum_norm.make_inverse_operator(epochs.info, fwd, noise_cov, loose=loose, verbose=False)\n",
      "<ipython-input-2-c47d3aa7e58e>:40: RuntimeWarning: No average EEG reference present in info[\"projs\"], covariance may be adversely affected. Consider recomputing covariance using with an average eeg reference projector added.\n",
      "  inverse_operator = mne.minimum_norm.make_inverse_operator(epochs.info, fwd, noise_cov, loose=loose, verbose=False)\n"
     ]
    },
    {
     "name": "stdout",
     "output_type": "stream",
     "text": [
      "Not setting metadata\n",
      "Not setting metadata\n",
      "10 matching events found\n",
      "No baseline correction applied\n",
      "0 projection items activated\n",
      "Loading data for 10 events and 500 original time points ...\n",
      "0 bad epochs dropped\n",
      "Fitted sphere radius:         102.8 mm\n",
      "Origin head coordinates:      3.6 4.3 35.9 mm\n",
      "Origin device coordinates:    3.6 4.3 35.9 mm\n"
     ]
    },
    {
     "name": "stderr",
     "output_type": "stream",
     "text": [
      "/home/christian/code/acareeg/acareeg/lemon.py:58: RuntimeWarning: Limited 1 annotation(s) that were expanding outside the data range.\n",
      "  raw = mne.io.read_raw_eeglab(str(Path(root_path) / eeg_rel_path / f\"sub-{subject}_{event_id}.set\"), verbose=False)\n",
      "/home/christian/code/acareeg/acareeg/lemon.py:58: RuntimeWarning: The data contains 'boundary' events, indicating data discontinuities. Be cautious of filtering and epoching around these events.\n",
      "  raw = mne.io.read_raw_eeglab(str(Path(root_path) / eeg_rel_path / f\"sub-{subject}_{event_id}.set\"), verbose=False)\n",
      "<ipython-input-2-c47d3aa7e58e>:39: RuntimeWarning: Epochs are not baseline corrected, covariance matrix may be inaccurate\n",
      "  noise_cov = mne.compute_covariance(epochs, method=\"auto\", verbose=False).as_diag()\n",
      "<ipython-input-2-c47d3aa7e58e>:40: RuntimeWarning: No average EEG reference present in info[\"projs\"], covariance may be adversely affected. Consider recomputing covariance using with an average eeg reference projector added.\n",
      "  inverse_operator = mne.minimum_norm.make_inverse_operator(epochs.info, fwd, noise_cov, loose=loose, verbose=False)\n",
      "<ipython-input-2-c47d3aa7e58e>:40: RuntimeWarning: No average EEG reference present in info[\"projs\"], covariance may be adversely affected. Consider recomputing covariance using with an average eeg reference projector added.\n",
      "  inverse_operator = mne.minimum_norm.make_inverse_operator(epochs.info, fwd, noise_cov, loose=loose, verbose=False)\n"
     ]
    },
    {
     "name": "stdout",
     "output_type": "stream",
     "text": [
      "Not setting metadata\n",
      "Not setting metadata\n",
      "10 matching events found\n",
      "No baseline correction applied\n",
      "0 projection items activated\n",
      "Loading data for 10 events and 500 original time points ...\n",
      "0 bad epochs dropped\n",
      "Fitted sphere radius:         94.7 mm\n",
      "Origin head coordinates:      3.2 1.4 38.3 mm\n",
      "Origin device coordinates:    3.2 1.4 38.3 mm\n"
     ]
    },
    {
     "name": "stderr",
     "output_type": "stream",
     "text": [
      "/home/christian/code/acareeg/acareeg/lemon.py:58: RuntimeWarning: Limited 1 annotation(s) that were expanding outside the data range.\n",
      "  raw = mne.io.read_raw_eeglab(str(Path(root_path) / eeg_rel_path / f\"sub-{subject}_{event_id}.set\"), verbose=False)\n",
      "/home/christian/code/acareeg/acareeg/lemon.py:58: RuntimeWarning: The data contains 'boundary' events, indicating data discontinuities. Be cautious of filtering and epoching around these events.\n",
      "  raw = mne.io.read_raw_eeglab(str(Path(root_path) / eeg_rel_path / f\"sub-{subject}_{event_id}.set\"), verbose=False)\n",
      "<ipython-input-2-c47d3aa7e58e>:39: RuntimeWarning: Epochs are not baseline corrected, covariance matrix may be inaccurate\n",
      "  noise_cov = mne.compute_covariance(epochs, method=\"auto\", verbose=False).as_diag()\n",
      "<ipython-input-2-c47d3aa7e58e>:40: RuntimeWarning: No average EEG reference present in info[\"projs\"], covariance may be adversely affected. Consider recomputing covariance using with an average eeg reference projector added.\n",
      "  inverse_operator = mne.minimum_norm.make_inverse_operator(epochs.info, fwd, noise_cov, loose=loose, verbose=False)\n",
      "<ipython-input-2-c47d3aa7e58e>:40: RuntimeWarning: No average EEG reference present in info[\"projs\"], covariance may be adversely affected. Consider recomputing covariance using with an average eeg reference projector added.\n",
      "  inverse_operator = mne.minimum_norm.make_inverse_operator(epochs.info, fwd, noise_cov, loose=loose, verbose=False)\n"
     ]
    },
    {
     "name": "stdout",
     "output_type": "stream",
     "text": [
      "Not setting metadata\n",
      "Not setting metadata\n",
      "10 matching events found\n",
      "No baseline correction applied\n",
      "0 projection items activated\n",
      "Loading data for 10 events and 500 original time points ...\n",
      "0 bad epochs dropped\n",
      "Fitted sphere radius:         99.9 mm\n",
      "Origin head coordinates:      4.8 -1.5 31.8 mm\n",
      "Origin device coordinates:    4.8 -1.5 31.8 mm\n"
     ]
    },
    {
     "name": "stderr",
     "output_type": "stream",
     "text": [
      "/home/christian/code/acareeg/acareeg/lemon.py:58: RuntimeWarning: Limited 1 annotation(s) that were expanding outside the data range.\n",
      "  raw = mne.io.read_raw_eeglab(str(Path(root_path) / eeg_rel_path / f\"sub-{subject}_{event_id}.set\"), verbose=False)\n",
      "/home/christian/code/acareeg/acareeg/lemon.py:58: RuntimeWarning: The data contains 'boundary' events, indicating data discontinuities. Be cautious of filtering and epoching around these events.\n",
      "  raw = mne.io.read_raw_eeglab(str(Path(root_path) / eeg_rel_path / f\"sub-{subject}_{event_id}.set\"), verbose=False)\n",
      "<ipython-input-2-c47d3aa7e58e>:39: RuntimeWarning: Epochs are not baseline corrected, covariance matrix may be inaccurate\n",
      "  noise_cov = mne.compute_covariance(epochs, method=\"auto\", verbose=False).as_diag()\n",
      "<ipython-input-2-c47d3aa7e58e>:40: RuntimeWarning: No average EEG reference present in info[\"projs\"], covariance may be adversely affected. Consider recomputing covariance using with an average eeg reference projector added.\n",
      "  inverse_operator = mne.minimum_norm.make_inverse_operator(epochs.info, fwd, noise_cov, loose=loose, verbose=False)\n",
      "<ipython-input-2-c47d3aa7e58e>:40: RuntimeWarning: No average EEG reference present in info[\"projs\"], covariance may be adversely affected. Consider recomputing covariance using with an average eeg reference projector added.\n",
      "  inverse_operator = mne.minimum_norm.make_inverse_operator(epochs.info, fwd, noise_cov, loose=loose, verbose=False)\n"
     ]
    },
    {
     "name": "stdout",
     "output_type": "stream",
     "text": [
      "Not setting metadata\n",
      "Not setting metadata\n",
      "10 matching events found\n",
      "No baseline correction applied\n",
      "0 projection items activated\n",
      "Loading data for 10 events and 500 original time points ...\n",
      "0 bad epochs dropped\n",
      "Fitted sphere radius:         100.2 mm\n",
      "Origin head coordinates:      3.0 3.9 41.0 mm\n",
      "Origin device coordinates:    3.0 3.9 41.0 mm\n"
     ]
    },
    {
     "name": "stderr",
     "output_type": "stream",
     "text": [
      "/home/christian/code/acareeg/acareeg/lemon.py:58: RuntimeWarning: Limited 1 annotation(s) that were expanding outside the data range.\n",
      "  raw = mne.io.read_raw_eeglab(str(Path(root_path) / eeg_rel_path / f\"sub-{subject}_{event_id}.set\"), verbose=False)\n",
      "/home/christian/code/acareeg/acareeg/lemon.py:58: RuntimeWarning: The data contains 'boundary' events, indicating data discontinuities. Be cautious of filtering and epoching around these events.\n",
      "  raw = mne.io.read_raw_eeglab(str(Path(root_path) / eeg_rel_path / f\"sub-{subject}_{event_id}.set\"), verbose=False)\n",
      "<ipython-input-2-c47d3aa7e58e>:39: RuntimeWarning: Epochs are not baseline corrected, covariance matrix may be inaccurate\n",
      "  noise_cov = mne.compute_covariance(epochs, method=\"auto\", verbose=False).as_diag()\n",
      "<ipython-input-2-c47d3aa7e58e>:40: RuntimeWarning: No average EEG reference present in info[\"projs\"], covariance may be adversely affected. Consider recomputing covariance using with an average eeg reference projector added.\n",
      "  inverse_operator = mne.minimum_norm.make_inverse_operator(epochs.info, fwd, noise_cov, loose=loose, verbose=False)\n",
      "<ipython-input-2-c47d3aa7e58e>:40: RuntimeWarning: No average EEG reference present in info[\"projs\"], covariance may be adversely affected. Consider recomputing covariance using with an average eeg reference projector added.\n",
      "  inverse_operator = mne.minimum_norm.make_inverse_operator(epochs.info, fwd, noise_cov, loose=loose, verbose=False)\n"
     ]
    },
    {
     "name": "stdout",
     "output_type": "stream",
     "text": [
      "Not setting metadata\n",
      "Not setting metadata\n",
      "10 matching events found\n",
      "No baseline correction applied\n",
      "0 projection items activated\n",
      "Loading data for 10 events and 500 original time points ...\n",
      "0 bad epochs dropped\n",
      "Fitted sphere radius:         102.4 mm\n",
      "Origin head coordinates:      3.4 -1.1 38.6 mm\n",
      "Origin device coordinates:    3.4 -1.1 38.6 mm\n"
     ]
    },
    {
     "name": "stderr",
     "output_type": "stream",
     "text": [
      "/home/christian/code/acareeg/acareeg/lemon.py:58: RuntimeWarning: Limited 1 annotation(s) that were expanding outside the data range.\n",
      "  raw = mne.io.read_raw_eeglab(str(Path(root_path) / eeg_rel_path / f\"sub-{subject}_{event_id}.set\"), verbose=False)\n",
      "/home/christian/code/acareeg/acareeg/lemon.py:58: RuntimeWarning: The data contains 'boundary' events, indicating data discontinuities. Be cautious of filtering and epoching around these events.\n",
      "  raw = mne.io.read_raw_eeglab(str(Path(root_path) / eeg_rel_path / f\"sub-{subject}_{event_id}.set\"), verbose=False)\n",
      "<ipython-input-2-c47d3aa7e58e>:39: RuntimeWarning: Epochs are not baseline corrected, covariance matrix may be inaccurate\n",
      "  noise_cov = mne.compute_covariance(epochs, method=\"auto\", verbose=False).as_diag()\n",
      "<ipython-input-2-c47d3aa7e58e>:40: RuntimeWarning: No average EEG reference present in info[\"projs\"], covariance may be adversely affected. Consider recomputing covariance using with an average eeg reference projector added.\n",
      "  inverse_operator = mne.minimum_norm.make_inverse_operator(epochs.info, fwd, noise_cov, loose=loose, verbose=False)\n",
      "<ipython-input-2-c47d3aa7e58e>:40: RuntimeWarning: No average EEG reference present in info[\"projs\"], covariance may be adversely affected. Consider recomputing covariance using with an average eeg reference projector added.\n",
      "  inverse_operator = mne.minimum_norm.make_inverse_operator(epochs.info, fwd, noise_cov, loose=loose, verbose=False)\n"
     ]
    },
    {
     "name": "stdout",
     "output_type": "stream",
     "text": [
      "Not setting metadata\n",
      "Not setting metadata\n",
      "10 matching events found\n",
      "No baseline correction applied\n",
      "0 projection items activated\n",
      "Loading data for 10 events and 500 original time points ...\n",
      "0 bad epochs dropped\n",
      "Fitted sphere radius:         92.0 mm\n",
      "Origin head coordinates:      -8.6 -17.2 -43.7 mm\n",
      "Origin device coordinates:    -8.6 -17.2 -43.7 mm\n"
     ]
    },
    {
     "name": "stderr",
     "output_type": "stream",
     "text": [
      "/home/christian/code/acareeg/acareeg/lemon.py:58: RuntimeWarning: Limited 1 annotation(s) that were expanding outside the data range.\n",
      "  raw = mne.io.read_raw_eeglab(str(Path(root_path) / eeg_rel_path / f\"sub-{subject}_{event_id}.set\"), verbose=False)\n",
      "/home/christian/code/acareeg/acareeg/lemon.py:58: RuntimeWarning: The data contains 'boundary' events, indicating data discontinuities. Be cautious of filtering and epoching around these events.\n",
      "  raw = mne.io.read_raw_eeglab(str(Path(root_path) / eeg_rel_path / f\"sub-{subject}_{event_id}.set\"), verbose=False)\n",
      "<ipython-input-2-c47d3aa7e58e>:39: RuntimeWarning: Epochs are not baseline corrected, covariance matrix may be inaccurate\n",
      "  noise_cov = mne.compute_covariance(epochs, method=\"auto\", verbose=False).as_diag()\n",
      "<ipython-input-2-c47d3aa7e58e>:40: RuntimeWarning: No average EEG reference present in info[\"projs\"], covariance may be adversely affected. Consider recomputing covariance using with an average eeg reference projector added.\n",
      "  inverse_operator = mne.minimum_norm.make_inverse_operator(epochs.info, fwd, noise_cov, loose=loose, verbose=False)\n",
      "<ipython-input-2-c47d3aa7e58e>:40: RuntimeWarning: No average EEG reference present in info[\"projs\"], covariance may be adversely affected. Consider recomputing covariance using with an average eeg reference projector added.\n",
      "  inverse_operator = mne.minimum_norm.make_inverse_operator(epochs.info, fwd, noise_cov, loose=loose, verbose=False)\n"
     ]
    },
    {
     "name": "stdout",
     "output_type": "stream",
     "text": [
      "Not setting metadata\n",
      "Not setting metadata\n",
      "10 matching events found\n",
      "No baseline correction applied\n",
      "0 projection items activated\n",
      "Loading data for 10 events and 500 original time points ...\n",
      "0 bad epochs dropped\n",
      "Fitted sphere radius:         95.0 mm\n",
      "Origin head coordinates:      -2.9 -1.3 37.2 mm\n",
      "Origin device coordinates:    -2.9 -1.3 37.2 mm\n"
     ]
    },
    {
     "name": "stderr",
     "output_type": "stream",
     "text": [
      "/home/christian/code/acareeg/acareeg/lemon.py:58: RuntimeWarning: Limited 1 annotation(s) that were expanding outside the data range.\n",
      "  raw = mne.io.read_raw_eeglab(str(Path(root_path) / eeg_rel_path / f\"sub-{subject}_{event_id}.set\"), verbose=False)\n",
      "/home/christian/code/acareeg/acareeg/lemon.py:58: RuntimeWarning: The data contains 'boundary' events, indicating data discontinuities. Be cautious of filtering and epoching around these events.\n",
      "  raw = mne.io.read_raw_eeglab(str(Path(root_path) / eeg_rel_path / f\"sub-{subject}_{event_id}.set\"), verbose=False)\n",
      "<ipython-input-2-c47d3aa7e58e>:39: RuntimeWarning: Epochs are not baseline corrected, covariance matrix may be inaccurate\n",
      "  noise_cov = mne.compute_covariance(epochs, method=\"auto\", verbose=False).as_diag()\n",
      "<ipython-input-2-c47d3aa7e58e>:40: RuntimeWarning: No average EEG reference present in info[\"projs\"], covariance may be adversely affected. Consider recomputing covariance using with an average eeg reference projector added.\n",
      "  inverse_operator = mne.minimum_norm.make_inverse_operator(epochs.info, fwd, noise_cov, loose=loose, verbose=False)\n",
      "<ipython-input-2-c47d3aa7e58e>:40: RuntimeWarning: No average EEG reference present in info[\"projs\"], covariance may be adversely affected. Consider recomputing covariance using with an average eeg reference projector added.\n",
      "  inverse_operator = mne.minimum_norm.make_inverse_operator(epochs.info, fwd, noise_cov, loose=loose, verbose=False)\n"
     ]
    },
    {
     "name": "stdout",
     "output_type": "stream",
     "text": [
      "Not setting metadata\n",
      "Not setting metadata\n",
      "10 matching events found\n",
      "No baseline correction applied\n",
      "0 projection items activated\n",
      "Loading data for 10 events and 500 original time points ...\n",
      "0 bad epochs dropped\n",
      "Fitted sphere radius:         94.5 mm\n",
      "Origin head coordinates:      2.8 3.6 38.2 mm\n",
      "Origin device coordinates:    2.8 3.6 38.2 mm\n"
     ]
    },
    {
     "name": "stderr",
     "output_type": "stream",
     "text": [
      "/home/christian/code/acareeg/acareeg/lemon.py:58: RuntimeWarning: Limited 1 annotation(s) that were expanding outside the data range.\n",
      "  raw = mne.io.read_raw_eeglab(str(Path(root_path) / eeg_rel_path / f\"sub-{subject}_{event_id}.set\"), verbose=False)\n",
      "/home/christian/code/acareeg/acareeg/lemon.py:58: RuntimeWarning: The data contains 'boundary' events, indicating data discontinuities. Be cautious of filtering and epoching around these events.\n",
      "  raw = mne.io.read_raw_eeglab(str(Path(root_path) / eeg_rel_path / f\"sub-{subject}_{event_id}.set\"), verbose=False)\n",
      "<ipython-input-2-c47d3aa7e58e>:39: RuntimeWarning: Epochs are not baseline corrected, covariance matrix may be inaccurate\n",
      "  noise_cov = mne.compute_covariance(epochs, method=\"auto\", verbose=False).as_diag()\n",
      "<ipython-input-2-c47d3aa7e58e>:40: RuntimeWarning: No average EEG reference present in info[\"projs\"], covariance may be adversely affected. Consider recomputing covariance using with an average eeg reference projector added.\n",
      "  inverse_operator = mne.minimum_norm.make_inverse_operator(epochs.info, fwd, noise_cov, loose=loose, verbose=False)\n",
      "<ipython-input-2-c47d3aa7e58e>:40: RuntimeWarning: No average EEG reference present in info[\"projs\"], covariance may be adversely affected. Consider recomputing covariance using with an average eeg reference projector added.\n",
      "  inverse_operator = mne.minimum_norm.make_inverse_operator(epochs.info, fwd, noise_cov, loose=loose, verbose=False)\n"
     ]
    },
    {
     "name": "stdout",
     "output_type": "stream",
     "text": [
      "Not setting metadata\n",
      "Not setting metadata\n",
      "10 matching events found\n",
      "No baseline correction applied\n",
      "0 projection items activated\n",
      "Loading data for 10 events and 500 original time points ...\n",
      "0 bad epochs dropped\n",
      "Fitted sphere radius:         99.7 mm\n",
      "Origin head coordinates:      4.2 6.9 49.8 mm\n",
      "Origin device coordinates:    4.2 6.9 49.8 mm\n"
     ]
    },
    {
     "name": "stderr",
     "output_type": "stream",
     "text": [
      "/home/christian/code/acareeg/acareeg/lemon.py:58: RuntimeWarning: Limited 1 annotation(s) that were expanding outside the data range.\n",
      "  raw = mne.io.read_raw_eeglab(str(Path(root_path) / eeg_rel_path / f\"sub-{subject}_{event_id}.set\"), verbose=False)\n",
      "/home/christian/code/acareeg/acareeg/lemon.py:58: RuntimeWarning: The data contains 'boundary' events, indicating data discontinuities. Be cautious of filtering and epoching around these events.\n",
      "  raw = mne.io.read_raw_eeglab(str(Path(root_path) / eeg_rel_path / f\"sub-{subject}_{event_id}.set\"), verbose=False)\n",
      "<ipython-input-2-c47d3aa7e58e>:39: RuntimeWarning: Epochs are not baseline corrected, covariance matrix may be inaccurate\n",
      "  noise_cov = mne.compute_covariance(epochs, method=\"auto\", verbose=False).as_diag()\n",
      "<ipython-input-2-c47d3aa7e58e>:40: RuntimeWarning: No average EEG reference present in info[\"projs\"], covariance may be adversely affected. Consider recomputing covariance using with an average eeg reference projector added.\n",
      "  inverse_operator = mne.minimum_norm.make_inverse_operator(epochs.info, fwd, noise_cov, loose=loose, verbose=False)\n",
      "<ipython-input-2-c47d3aa7e58e>:40: RuntimeWarning: No average EEG reference present in info[\"projs\"], covariance may be adversely affected. Consider recomputing covariance using with an average eeg reference projector added.\n",
      "  inverse_operator = mne.minimum_norm.make_inverse_operator(epochs.info, fwd, noise_cov, loose=loose, verbose=False)\n"
     ]
    },
    {
     "name": "stdout",
     "output_type": "stream",
     "text": [
      "Not setting metadata\n",
      "Not setting metadata\n",
      "10 matching events found\n",
      "No baseline correction applied\n",
      "0 projection items activated\n",
      "Loading data for 10 events and 500 original time points ...\n",
      "0 bad epochs dropped\n",
      "Fitted sphere radius:         94.8 mm\n",
      "Origin head coordinates:      0.9 -2.0 43.7 mm\n",
      "Origin device coordinates:    0.9 -2.0 43.7 mm\n"
     ]
    },
    {
     "name": "stderr",
     "output_type": "stream",
     "text": [
      "/home/christian/code/acareeg/acareeg/lemon.py:58: RuntimeWarning: Limited 1 annotation(s) that were expanding outside the data range.\n",
      "  raw = mne.io.read_raw_eeglab(str(Path(root_path) / eeg_rel_path / f\"sub-{subject}_{event_id}.set\"), verbose=False)\n",
      "/home/christian/code/acareeg/acareeg/lemon.py:58: RuntimeWarning: The data contains 'boundary' events, indicating data discontinuities. Be cautious of filtering and epoching around these events.\n",
      "  raw = mne.io.read_raw_eeglab(str(Path(root_path) / eeg_rel_path / f\"sub-{subject}_{event_id}.set\"), verbose=False)\n",
      "<ipython-input-2-c47d3aa7e58e>:39: RuntimeWarning: Epochs are not baseline corrected, covariance matrix may be inaccurate\n",
      "  noise_cov = mne.compute_covariance(epochs, method=\"auto\", verbose=False).as_diag()\n",
      "<ipython-input-2-c47d3aa7e58e>:40: RuntimeWarning: No average EEG reference present in info[\"projs\"], covariance may be adversely affected. Consider recomputing covariance using with an average eeg reference projector added.\n",
      "  inverse_operator = mne.minimum_norm.make_inverse_operator(epochs.info, fwd, noise_cov, loose=loose, verbose=False)\n",
      "<ipython-input-2-c47d3aa7e58e>:40: RuntimeWarning: No average EEG reference present in info[\"projs\"], covariance may be adversely affected. Consider recomputing covariance using with an average eeg reference projector added.\n",
      "  inverse_operator = mne.minimum_norm.make_inverse_operator(epochs.info, fwd, noise_cov, loose=loose, verbose=False)\n"
     ]
    },
    {
     "name": "stdout",
     "output_type": "stream",
     "text": [
      "Not setting metadata\n",
      "Not setting metadata\n",
      "10 matching events found\n",
      "No baseline correction applied\n",
      "0 projection items activated\n",
      "Loading data for 10 events and 500 original time points ...\n",
      "0 bad epochs dropped\n",
      "Fitted sphere radius:         98.8 mm\n",
      "Origin head coordinates:      3.6 3.6 46.5 mm\n",
      "Origin device coordinates:    3.6 3.6 46.5 mm\n"
     ]
    },
    {
     "name": "stderr",
     "output_type": "stream",
     "text": [
      "/home/christian/code/acareeg/acareeg/lemon.py:58: RuntimeWarning: Limited 1 annotation(s) that were expanding outside the data range.\n",
      "  raw = mne.io.read_raw_eeglab(str(Path(root_path) / eeg_rel_path / f\"sub-{subject}_{event_id}.set\"), verbose=False)\n",
      "/home/christian/code/acareeg/acareeg/lemon.py:58: RuntimeWarning: The data contains 'boundary' events, indicating data discontinuities. Be cautious of filtering and epoching around these events.\n",
      "  raw = mne.io.read_raw_eeglab(str(Path(root_path) / eeg_rel_path / f\"sub-{subject}_{event_id}.set\"), verbose=False)\n",
      "<ipython-input-2-c47d3aa7e58e>:39: RuntimeWarning: Epochs are not baseline corrected, covariance matrix may be inaccurate\n",
      "  noise_cov = mne.compute_covariance(epochs, method=\"auto\", verbose=False).as_diag()\n",
      "<ipython-input-2-c47d3aa7e58e>:40: RuntimeWarning: No average EEG reference present in info[\"projs\"], covariance may be adversely affected. Consider recomputing covariance using with an average eeg reference projector added.\n",
      "  inverse_operator = mne.minimum_norm.make_inverse_operator(epochs.info, fwd, noise_cov, loose=loose, verbose=False)\n",
      "<ipython-input-2-c47d3aa7e58e>:40: RuntimeWarning: No average EEG reference present in info[\"projs\"], covariance may be adversely affected. Consider recomputing covariance using with an average eeg reference projector added.\n",
      "  inverse_operator = mne.minimum_norm.make_inverse_operator(epochs.info, fwd, noise_cov, loose=loose, verbose=False)\n"
     ]
    },
    {
     "name": "stdout",
     "output_type": "stream",
     "text": [
      "Not setting metadata\n",
      "Not setting metadata\n",
      "10 matching events found\n",
      "No baseline correction applied\n",
      "0 projection items activated\n",
      "Loading data for 10 events and 500 original time points ...\n",
      "0 bad epochs dropped\n",
      "Fitted sphere radius:         100.2 mm\n",
      "Origin head coordinates:      6.6 5.4 38.2 mm\n",
      "Origin device coordinates:    6.6 5.4 38.2 mm\n"
     ]
    },
    {
     "name": "stderr",
     "output_type": "stream",
     "text": [
      "/home/christian/code/acareeg/acareeg/lemon.py:58: RuntimeWarning: Limited 1 annotation(s) that were expanding outside the data range.\n",
      "  raw = mne.io.read_raw_eeglab(str(Path(root_path) / eeg_rel_path / f\"sub-{subject}_{event_id}.set\"), verbose=False)\n",
      "/home/christian/code/acareeg/acareeg/lemon.py:58: RuntimeWarning: The data contains 'boundary' events, indicating data discontinuities. Be cautious of filtering and epoching around these events.\n",
      "  raw = mne.io.read_raw_eeglab(str(Path(root_path) / eeg_rel_path / f\"sub-{subject}_{event_id}.set\"), verbose=False)\n",
      "<ipython-input-2-c47d3aa7e58e>:39: RuntimeWarning: Epochs are not baseline corrected, covariance matrix may be inaccurate\n",
      "  noise_cov = mne.compute_covariance(epochs, method=\"auto\", verbose=False).as_diag()\n",
      "<ipython-input-2-c47d3aa7e58e>:40: RuntimeWarning: No average EEG reference present in info[\"projs\"], covariance may be adversely affected. Consider recomputing covariance using with an average eeg reference projector added.\n",
      "  inverse_operator = mne.minimum_norm.make_inverse_operator(epochs.info, fwd, noise_cov, loose=loose, verbose=False)\n",
      "<ipython-input-2-c47d3aa7e58e>:40: RuntimeWarning: No average EEG reference present in info[\"projs\"], covariance may be adversely affected. Consider recomputing covariance using with an average eeg reference projector added.\n",
      "  inverse_operator = mne.minimum_norm.make_inverse_operator(epochs.info, fwd, noise_cov, loose=loose, verbose=False)\n"
     ]
    },
    {
     "name": "stdout",
     "output_type": "stream",
     "text": [
      "Not setting metadata\n",
      "Not setting metadata\n",
      "10 matching events found\n",
      "No baseline correction applied\n",
      "0 projection items activated\n",
      "Loading data for 10 events and 500 original time points ...\n",
      "0 bad epochs dropped\n",
      "Fitted sphere radius:         99.1 mm\n",
      "Origin head coordinates:      0.3 5.6 46.1 mm\n",
      "Origin device coordinates:    0.3 5.6 46.1 mm\n"
     ]
    },
    {
     "name": "stderr",
     "output_type": "stream",
     "text": [
      "/home/christian/code/acareeg/acareeg/lemon.py:58: RuntimeWarning: Limited 1 annotation(s) that were expanding outside the data range.\n",
      "  raw = mne.io.read_raw_eeglab(str(Path(root_path) / eeg_rel_path / f\"sub-{subject}_{event_id}.set\"), verbose=False)\n",
      "/home/christian/code/acareeg/acareeg/lemon.py:58: RuntimeWarning: The data contains 'boundary' events, indicating data discontinuities. Be cautious of filtering and epoching around these events.\n",
      "  raw = mne.io.read_raw_eeglab(str(Path(root_path) / eeg_rel_path / f\"sub-{subject}_{event_id}.set\"), verbose=False)\n",
      "<ipython-input-2-c47d3aa7e58e>:39: RuntimeWarning: Epochs are not baseline corrected, covariance matrix may be inaccurate\n",
      "  noise_cov = mne.compute_covariance(epochs, method=\"auto\", verbose=False).as_diag()\n",
      "<ipython-input-2-c47d3aa7e58e>:40: RuntimeWarning: No average EEG reference present in info[\"projs\"], covariance may be adversely affected. Consider recomputing covariance using with an average eeg reference projector added.\n",
      "  inverse_operator = mne.minimum_norm.make_inverse_operator(epochs.info, fwd, noise_cov, loose=loose, verbose=False)\n",
      "<ipython-input-2-c47d3aa7e58e>:40: RuntimeWarning: No average EEG reference present in info[\"projs\"], covariance may be adversely affected. Consider recomputing covariance using with an average eeg reference projector added.\n",
      "  inverse_operator = mne.minimum_norm.make_inverse_operator(epochs.info, fwd, noise_cov, loose=loose, verbose=False)\n"
     ]
    },
    {
     "name": "stdout",
     "output_type": "stream",
     "text": [
      "Not setting metadata\n",
      "Not setting metadata\n",
      "10 matching events found\n",
      "No baseline correction applied\n",
      "0 projection items activated\n",
      "Loading data for 10 events and 500 original time points ...\n",
      "0 bad epochs dropped\n",
      "Fitted sphere radius:         96.0 mm\n",
      "Origin head coordinates:      5.0 -7.1 38.0 mm\n",
      "Origin device coordinates:    5.0 -7.1 38.0 mm\n"
     ]
    },
    {
     "name": "stderr",
     "output_type": "stream",
     "text": [
      "/home/christian/code/acareeg/acareeg/lemon.py:58: RuntimeWarning: Limited 1 annotation(s) that were expanding outside the data range.\n",
      "  raw = mne.io.read_raw_eeglab(str(Path(root_path) / eeg_rel_path / f\"sub-{subject}_{event_id}.set\"), verbose=False)\n",
      "/home/christian/code/acareeg/acareeg/lemon.py:58: RuntimeWarning: The data contains 'boundary' events, indicating data discontinuities. Be cautious of filtering and epoching around these events.\n",
      "  raw = mne.io.read_raw_eeglab(str(Path(root_path) / eeg_rel_path / f\"sub-{subject}_{event_id}.set\"), verbose=False)\n",
      "<ipython-input-2-c47d3aa7e58e>:39: RuntimeWarning: Epochs are not baseline corrected, covariance matrix may be inaccurate\n",
      "  noise_cov = mne.compute_covariance(epochs, method=\"auto\", verbose=False).as_diag()\n",
      "<ipython-input-2-c47d3aa7e58e>:40: RuntimeWarning: No average EEG reference present in info[\"projs\"], covariance may be adversely affected. Consider recomputing covariance using with an average eeg reference projector added.\n",
      "  inverse_operator = mne.minimum_norm.make_inverse_operator(epochs.info, fwd, noise_cov, loose=loose, verbose=False)\n",
      "<ipython-input-2-c47d3aa7e58e>:40: RuntimeWarning: No average EEG reference present in info[\"projs\"], covariance may be adversely affected. Consider recomputing covariance using with an average eeg reference projector added.\n",
      "  inverse_operator = mne.minimum_norm.make_inverse_operator(epochs.info, fwd, noise_cov, loose=loose, verbose=False)\n"
     ]
    },
    {
     "name": "stdout",
     "output_type": "stream",
     "text": [
      "Not setting metadata\n",
      "Not setting metadata\n",
      "10 matching events found\n",
      "No baseline correction applied\n",
      "0 projection items activated\n",
      "Loading data for 10 events and 500 original time points ...\n",
      "0 bad epochs dropped\n",
      "Fitted sphere radius:         102.7 mm\n",
      "Origin head coordinates:      2.5 1.8 42.7 mm\n",
      "Origin device coordinates:    2.5 1.8 42.7 mm\n"
     ]
    },
    {
     "name": "stderr",
     "output_type": "stream",
     "text": [
      "/home/christian/code/acareeg/acareeg/lemon.py:58: RuntimeWarning: Limited 1 annotation(s) that were expanding outside the data range.\n",
      "  raw = mne.io.read_raw_eeglab(str(Path(root_path) / eeg_rel_path / f\"sub-{subject}_{event_id}.set\"), verbose=False)\n",
      "/home/christian/code/acareeg/acareeg/lemon.py:58: RuntimeWarning: The data contains 'boundary' events, indicating data discontinuities. Be cautious of filtering and epoching around these events.\n",
      "  raw = mne.io.read_raw_eeglab(str(Path(root_path) / eeg_rel_path / f\"sub-{subject}_{event_id}.set\"), verbose=False)\n",
      "<ipython-input-2-c47d3aa7e58e>:39: RuntimeWarning: Epochs are not baseline corrected, covariance matrix may be inaccurate\n",
      "  noise_cov = mne.compute_covariance(epochs, method=\"auto\", verbose=False).as_diag()\n",
      "<ipython-input-2-c47d3aa7e58e>:40: RuntimeWarning: No average EEG reference present in info[\"projs\"], covariance may be adversely affected. Consider recomputing covariance using with an average eeg reference projector added.\n",
      "  inverse_operator = mne.minimum_norm.make_inverse_operator(epochs.info, fwd, noise_cov, loose=loose, verbose=False)\n",
      "<ipython-input-2-c47d3aa7e58e>:40: RuntimeWarning: No average EEG reference present in info[\"projs\"], covariance may be adversely affected. Consider recomputing covariance using with an average eeg reference projector added.\n",
      "  inverse_operator = mne.minimum_norm.make_inverse_operator(epochs.info, fwd, noise_cov, loose=loose, verbose=False)\n"
     ]
    },
    {
     "name": "stdout",
     "output_type": "stream",
     "text": [
      "Not setting metadata\n",
      "Not setting metadata\n",
      "10 matching events found\n",
      "No baseline correction applied\n",
      "0 projection items activated\n",
      "Loading data for 10 events and 500 original time points ...\n",
      "0 bad epochs dropped\n",
      "Fitted sphere radius:         103.1 mm\n",
      "Origin head coordinates:      3.2 10.6 38.9 mm\n",
      "Origin device coordinates:    3.2 10.6 38.9 mm\n"
     ]
    },
    {
     "name": "stderr",
     "output_type": "stream",
     "text": [
      "/home/christian/code/acareeg/acareeg/lemon.py:58: RuntimeWarning: Limited 1 annotation(s) that were expanding outside the data range.\n",
      "  raw = mne.io.read_raw_eeglab(str(Path(root_path) / eeg_rel_path / f\"sub-{subject}_{event_id}.set\"), verbose=False)\n",
      "/home/christian/code/acareeg/acareeg/lemon.py:58: RuntimeWarning: The data contains 'boundary' events, indicating data discontinuities. Be cautious of filtering and epoching around these events.\n",
      "  raw = mne.io.read_raw_eeglab(str(Path(root_path) / eeg_rel_path / f\"sub-{subject}_{event_id}.set\"), verbose=False)\n",
      "<ipython-input-2-c47d3aa7e58e>:39: RuntimeWarning: Epochs are not baseline corrected, covariance matrix may be inaccurate\n",
      "  noise_cov = mne.compute_covariance(epochs, method=\"auto\", verbose=False).as_diag()\n",
      "<ipython-input-2-c47d3aa7e58e>:40: RuntimeWarning: No average EEG reference present in info[\"projs\"], covariance may be adversely affected. Consider recomputing covariance using with an average eeg reference projector added.\n",
      "  inverse_operator = mne.minimum_norm.make_inverse_operator(epochs.info, fwd, noise_cov, loose=loose, verbose=False)\n",
      "<ipython-input-2-c47d3aa7e58e>:40: RuntimeWarning: No average EEG reference present in info[\"projs\"], covariance may be adversely affected. Consider recomputing covariance using with an average eeg reference projector added.\n",
      "  inverse_operator = mne.minimum_norm.make_inverse_operator(epochs.info, fwd, noise_cov, loose=loose, verbose=False)\n"
     ]
    },
    {
     "name": "stdout",
     "output_type": "stream",
     "text": [
      "Not setting metadata\n",
      "Not setting metadata\n",
      "10 matching events found\n",
      "No baseline correction applied\n",
      "0 projection items activated\n",
      "Loading data for 10 events and 500 original time points ...\n",
      "0 bad epochs dropped\n",
      "Fitted sphere radius:         97.3 mm\n",
      "Origin head coordinates:      2.8 -1.4 42.2 mm\n",
      "Origin device coordinates:    2.8 -1.4 42.2 mm\n"
     ]
    },
    {
     "name": "stderr",
     "output_type": "stream",
     "text": [
      "/home/christian/code/acareeg/acareeg/lemon.py:58: RuntimeWarning: Limited 1 annotation(s) that were expanding outside the data range.\n",
      "  raw = mne.io.read_raw_eeglab(str(Path(root_path) / eeg_rel_path / f\"sub-{subject}_{event_id}.set\"), verbose=False)\n",
      "/home/christian/code/acareeg/acareeg/lemon.py:58: RuntimeWarning: The data contains 'boundary' events, indicating data discontinuities. Be cautious of filtering and epoching around these events.\n",
      "  raw = mne.io.read_raw_eeglab(str(Path(root_path) / eeg_rel_path / f\"sub-{subject}_{event_id}.set\"), verbose=False)\n",
      "<ipython-input-2-c47d3aa7e58e>:39: RuntimeWarning: Epochs are not baseline corrected, covariance matrix may be inaccurate\n",
      "  noise_cov = mne.compute_covariance(epochs, method=\"auto\", verbose=False).as_diag()\n",
      "<ipython-input-2-c47d3aa7e58e>:40: RuntimeWarning: No average EEG reference present in info[\"projs\"], covariance may be adversely affected. Consider recomputing covariance using with an average eeg reference projector added.\n",
      "  inverse_operator = mne.minimum_norm.make_inverse_operator(epochs.info, fwd, noise_cov, loose=loose, verbose=False)\n",
      "<ipython-input-2-c47d3aa7e58e>:40: RuntimeWarning: No average EEG reference present in info[\"projs\"], covariance may be adversely affected. Consider recomputing covariance using with an average eeg reference projector added.\n",
      "  inverse_operator = mne.minimum_norm.make_inverse_operator(epochs.info, fwd, noise_cov, loose=loose, verbose=False)\n"
     ]
    },
    {
     "name": "stdout",
     "output_type": "stream",
     "text": [
      "Not setting metadata\n",
      "Not setting metadata\n",
      "10 matching events found\n",
      "No baseline correction applied\n",
      "0 projection items activated\n",
      "Loading data for 10 events and 500 original time points ...\n",
      "0 bad epochs dropped\n",
      "Fitted sphere radius:         96.7 mm\n",
      "Origin head coordinates:      4.0 2.2 39.5 mm\n",
      "Origin device coordinates:    4.0 2.2 39.5 mm\n"
     ]
    },
    {
     "name": "stderr",
     "output_type": "stream",
     "text": [
      "/home/christian/code/acareeg/acareeg/lemon.py:58: RuntimeWarning: Limited 1 annotation(s) that were expanding outside the data range.\n",
      "  raw = mne.io.read_raw_eeglab(str(Path(root_path) / eeg_rel_path / f\"sub-{subject}_{event_id}.set\"), verbose=False)\n",
      "/home/christian/code/acareeg/acareeg/lemon.py:58: RuntimeWarning: The data contains 'boundary' events, indicating data discontinuities. Be cautious of filtering and epoching around these events.\n",
      "  raw = mne.io.read_raw_eeglab(str(Path(root_path) / eeg_rel_path / f\"sub-{subject}_{event_id}.set\"), verbose=False)\n",
      "<ipython-input-2-c47d3aa7e58e>:39: RuntimeWarning: Epochs are not baseline corrected, covariance matrix may be inaccurate\n",
      "  noise_cov = mne.compute_covariance(epochs, method=\"auto\", verbose=False).as_diag()\n",
      "<ipython-input-2-c47d3aa7e58e>:40: RuntimeWarning: No average EEG reference present in info[\"projs\"], covariance may be adversely affected. Consider recomputing covariance using with an average eeg reference projector added.\n",
      "  inverse_operator = mne.minimum_norm.make_inverse_operator(epochs.info, fwd, noise_cov, loose=loose, verbose=False)\n",
      "<ipython-input-2-c47d3aa7e58e>:40: RuntimeWarning: No average EEG reference present in info[\"projs\"], covariance may be adversely affected. Consider recomputing covariance using with an average eeg reference projector added.\n",
      "  inverse_operator = mne.minimum_norm.make_inverse_operator(epochs.info, fwd, noise_cov, loose=loose, verbose=False)\n"
     ]
    },
    {
     "name": "stdout",
     "output_type": "stream",
     "text": [
      "Not setting metadata\n",
      "Not setting metadata\n",
      "10 matching events found\n",
      "No baseline correction applied\n",
      "0 projection items activated\n",
      "Loading data for 10 events and 500 original time points ...\n",
      "0 bad epochs dropped\n",
      "Fitted sphere radius:         103.8 mm\n",
      "Origin head coordinates:      6.7 11.7 48.3 mm\n",
      "Origin device coordinates:    6.7 11.7 48.3 mm\n"
     ]
    },
    {
     "name": "stderr",
     "output_type": "stream",
     "text": [
      "/home/christian/code/acareeg/acareeg/lemon.py:58: RuntimeWarning: Limited 1 annotation(s) that were expanding outside the data range.\n",
      "  raw = mne.io.read_raw_eeglab(str(Path(root_path) / eeg_rel_path / f\"sub-{subject}_{event_id}.set\"), verbose=False)\n",
      "/home/christian/code/acareeg/acareeg/lemon.py:58: RuntimeWarning: The data contains 'boundary' events, indicating data discontinuities. Be cautious of filtering and epoching around these events.\n",
      "  raw = mne.io.read_raw_eeglab(str(Path(root_path) / eeg_rel_path / f\"sub-{subject}_{event_id}.set\"), verbose=False)\n",
      "<ipython-input-2-c47d3aa7e58e>:39: RuntimeWarning: Epochs are not baseline corrected, covariance matrix may be inaccurate\n",
      "  noise_cov = mne.compute_covariance(epochs, method=\"auto\", verbose=False).as_diag()\n",
      "<ipython-input-2-c47d3aa7e58e>:40: RuntimeWarning: No average EEG reference present in info[\"projs\"], covariance may be adversely affected. Consider recomputing covariance using with an average eeg reference projector added.\n",
      "  inverse_operator = mne.minimum_norm.make_inverse_operator(epochs.info, fwd, noise_cov, loose=loose, verbose=False)\n",
      "<ipython-input-2-c47d3aa7e58e>:40: RuntimeWarning: No average EEG reference present in info[\"projs\"], covariance may be adversely affected. Consider recomputing covariance using with an average eeg reference projector added.\n",
      "  inverse_operator = mne.minimum_norm.make_inverse_operator(epochs.info, fwd, noise_cov, loose=loose, verbose=False)\n"
     ]
    },
    {
     "name": "stdout",
     "output_type": "stream",
     "text": [
      "Not setting metadata\n",
      "Not setting metadata\n",
      "10 matching events found\n",
      "No baseline correction applied\n",
      "0 projection items activated\n",
      "Loading data for 10 events and 500 original time points ...\n",
      "0 bad epochs dropped\n",
      "Fitted sphere radius:         98.3 mm\n",
      "Origin head coordinates:      6.3 13.5 48.1 mm\n",
      "Origin device coordinates:    6.3 13.5 48.1 mm\n"
     ]
    },
    {
     "name": "stderr",
     "output_type": "stream",
     "text": [
      "/home/christian/code/acareeg/acareeg/lemon.py:58: RuntimeWarning: Limited 1 annotation(s) that were expanding outside the data range.\n",
      "  raw = mne.io.read_raw_eeglab(str(Path(root_path) / eeg_rel_path / f\"sub-{subject}_{event_id}.set\"), verbose=False)\n",
      "/home/christian/code/acareeg/acareeg/lemon.py:58: RuntimeWarning: The data contains 'boundary' events, indicating data discontinuities. Be cautious of filtering and epoching around these events.\n",
      "  raw = mne.io.read_raw_eeglab(str(Path(root_path) / eeg_rel_path / f\"sub-{subject}_{event_id}.set\"), verbose=False)\n",
      "<ipython-input-2-c47d3aa7e58e>:39: RuntimeWarning: Epochs are not baseline corrected, covariance matrix may be inaccurate\n",
      "  noise_cov = mne.compute_covariance(epochs, method=\"auto\", verbose=False).as_diag()\n",
      "<ipython-input-2-c47d3aa7e58e>:40: RuntimeWarning: No average EEG reference present in info[\"projs\"], covariance may be adversely affected. Consider recomputing covariance using with an average eeg reference projector added.\n",
      "  inverse_operator = mne.minimum_norm.make_inverse_operator(epochs.info, fwd, noise_cov, loose=loose, verbose=False)\n",
      "<ipython-input-2-c47d3aa7e58e>:40: RuntimeWarning: No average EEG reference present in info[\"projs\"], covariance may be adversely affected. Consider recomputing covariance using with an average eeg reference projector added.\n",
      "  inverse_operator = mne.minimum_norm.make_inverse_operator(epochs.info, fwd, noise_cov, loose=loose, verbose=False)\n"
     ]
    },
    {
     "name": "stdout",
     "output_type": "stream",
     "text": [
      "Not setting metadata\n",
      "Not setting metadata\n",
      "10 matching events found\n",
      "No baseline correction applied\n",
      "0 projection items activated\n",
      "Loading data for 10 events and 500 original time points ...\n",
      "0 bad epochs dropped\n",
      "Fitted sphere radius:         97.0 mm\n",
      "Origin head coordinates:      4.4 3.9 49.8 mm\n",
      "Origin device coordinates:    4.4 3.9 49.8 mm\n"
     ]
    },
    {
     "name": "stderr",
     "output_type": "stream",
     "text": [
      "/home/christian/code/acareeg/acareeg/lemon.py:58: RuntimeWarning: Limited 1 annotation(s) that were expanding outside the data range.\n",
      "  raw = mne.io.read_raw_eeglab(str(Path(root_path) / eeg_rel_path / f\"sub-{subject}_{event_id}.set\"), verbose=False)\n",
      "/home/christian/code/acareeg/acareeg/lemon.py:58: RuntimeWarning: The data contains 'boundary' events, indicating data discontinuities. Be cautious of filtering and epoching around these events.\n",
      "  raw = mne.io.read_raw_eeglab(str(Path(root_path) / eeg_rel_path / f\"sub-{subject}_{event_id}.set\"), verbose=False)\n",
      "<ipython-input-2-c47d3aa7e58e>:39: RuntimeWarning: Epochs are not baseline corrected, covariance matrix may be inaccurate\n",
      "  noise_cov = mne.compute_covariance(epochs, method=\"auto\", verbose=False).as_diag()\n",
      "<ipython-input-2-c47d3aa7e58e>:40: RuntimeWarning: No average EEG reference present in info[\"projs\"], covariance may be adversely affected. Consider recomputing covariance using with an average eeg reference projector added.\n",
      "  inverse_operator = mne.minimum_norm.make_inverse_operator(epochs.info, fwd, noise_cov, loose=loose, verbose=False)\n",
      "<ipython-input-2-c47d3aa7e58e>:40: RuntimeWarning: No average EEG reference present in info[\"projs\"], covariance may be adversely affected. Consider recomputing covariance using with an average eeg reference projector added.\n",
      "  inverse_operator = mne.minimum_norm.make_inverse_operator(epochs.info, fwd, noise_cov, loose=loose, verbose=False)\n"
     ]
    },
    {
     "name": "stdout",
     "output_type": "stream",
     "text": [
      "Not setting metadata\n",
      "Not setting metadata\n",
      "10 matching events found\n",
      "No baseline correction applied\n",
      "0 projection items activated\n",
      "Loading data for 10 events and 500 original time points ...\n",
      "0 bad epochs dropped\n",
      "Fitted sphere radius:         101.3 mm\n",
      "Origin head coordinates:      0.3 -2.6 37.6 mm\n",
      "Origin device coordinates:    0.3 -2.6 37.6 mm\n"
     ]
    },
    {
     "name": "stderr",
     "output_type": "stream",
     "text": [
      "/home/christian/code/acareeg/acareeg/lemon.py:58: RuntimeWarning: Limited 1 annotation(s) that were expanding outside the data range.\n",
      "  raw = mne.io.read_raw_eeglab(str(Path(root_path) / eeg_rel_path / f\"sub-{subject}_{event_id}.set\"), verbose=False)\n",
      "/home/christian/code/acareeg/acareeg/lemon.py:58: RuntimeWarning: The data contains 'boundary' events, indicating data discontinuities. Be cautious of filtering and epoching around these events.\n",
      "  raw = mne.io.read_raw_eeglab(str(Path(root_path) / eeg_rel_path / f\"sub-{subject}_{event_id}.set\"), verbose=False)\n",
      "<ipython-input-2-c47d3aa7e58e>:39: RuntimeWarning: Epochs are not baseline corrected, covariance matrix may be inaccurate\n",
      "  noise_cov = mne.compute_covariance(epochs, method=\"auto\", verbose=False).as_diag()\n",
      "<ipython-input-2-c47d3aa7e58e>:40: RuntimeWarning: No average EEG reference present in info[\"projs\"], covariance may be adversely affected. Consider recomputing covariance using with an average eeg reference projector added.\n",
      "  inverse_operator = mne.minimum_norm.make_inverse_operator(epochs.info, fwd, noise_cov, loose=loose, verbose=False)\n",
      "<ipython-input-2-c47d3aa7e58e>:40: RuntimeWarning: No average EEG reference present in info[\"projs\"], covariance may be adversely affected. Consider recomputing covariance using with an average eeg reference projector added.\n",
      "  inverse_operator = mne.minimum_norm.make_inverse_operator(epochs.info, fwd, noise_cov, loose=loose, verbose=False)\n"
     ]
    },
    {
     "name": "stdout",
     "output_type": "stream",
     "text": [
      "Not setting metadata\n",
      "Not setting metadata\n",
      "10 matching events found\n",
      "No baseline correction applied\n",
      "0 projection items activated\n",
      "Loading data for 10 events and 500 original time points ...\n",
      "0 bad epochs dropped\n",
      "Fitted sphere radius:         97.7 mm\n",
      "Origin head coordinates:      -2.1 2.2 48.0 mm\n",
      "Origin device coordinates:    -2.1 2.2 48.0 mm\n"
     ]
    },
    {
     "name": "stderr",
     "output_type": "stream",
     "text": [
      "/home/christian/code/acareeg/acareeg/lemon.py:58: RuntimeWarning: Limited 1 annotation(s) that were expanding outside the data range.\n",
      "  raw = mne.io.read_raw_eeglab(str(Path(root_path) / eeg_rel_path / f\"sub-{subject}_{event_id}.set\"), verbose=False)\n",
      "/home/christian/code/acareeg/acareeg/lemon.py:58: RuntimeWarning: The data contains 'boundary' events, indicating data discontinuities. Be cautious of filtering and epoching around these events.\n",
      "  raw = mne.io.read_raw_eeglab(str(Path(root_path) / eeg_rel_path / f\"sub-{subject}_{event_id}.set\"), verbose=False)\n",
      "<ipython-input-2-c47d3aa7e58e>:39: RuntimeWarning: Epochs are not baseline corrected, covariance matrix may be inaccurate\n",
      "  noise_cov = mne.compute_covariance(epochs, method=\"auto\", verbose=False).as_diag()\n",
      "<ipython-input-2-c47d3aa7e58e>:40: RuntimeWarning: No average EEG reference present in info[\"projs\"], covariance may be adversely affected. Consider recomputing covariance using with an average eeg reference projector added.\n",
      "  inverse_operator = mne.minimum_norm.make_inverse_operator(epochs.info, fwd, noise_cov, loose=loose, verbose=False)\n",
      "<ipython-input-2-c47d3aa7e58e>:40: RuntimeWarning: No average EEG reference present in info[\"projs\"], covariance may be adversely affected. Consider recomputing covariance using with an average eeg reference projector added.\n",
      "  inverse_operator = mne.minimum_norm.make_inverse_operator(epochs.info, fwd, noise_cov, loose=loose, verbose=False)\n"
     ]
    },
    {
     "name": "stdout",
     "output_type": "stream",
     "text": [
      "Not setting metadata\n",
      "Not setting metadata\n",
      "10 matching events found\n",
      "No baseline correction applied\n",
      "0 projection items activated\n",
      "Loading data for 10 events and 500 original time points ...\n",
      "0 bad epochs dropped\n",
      "Fitted sphere radius:         102.0 mm\n",
      "Origin head coordinates:      3.4 3.8 49.4 mm\n",
      "Origin device coordinates:    3.4 3.8 49.4 mm\n"
     ]
    },
    {
     "name": "stderr",
     "output_type": "stream",
     "text": [
      "/home/christian/code/acareeg/acareeg/lemon.py:58: RuntimeWarning: Limited 1 annotation(s) that were expanding outside the data range.\n",
      "  raw = mne.io.read_raw_eeglab(str(Path(root_path) / eeg_rel_path / f\"sub-{subject}_{event_id}.set\"), verbose=False)\n",
      "/home/christian/code/acareeg/acareeg/lemon.py:58: RuntimeWarning: The data contains 'boundary' events, indicating data discontinuities. Be cautious of filtering and epoching around these events.\n",
      "  raw = mne.io.read_raw_eeglab(str(Path(root_path) / eeg_rel_path / f\"sub-{subject}_{event_id}.set\"), verbose=False)\n",
      "<ipython-input-2-c47d3aa7e58e>:39: RuntimeWarning: Epochs are not baseline corrected, covariance matrix may be inaccurate\n",
      "  noise_cov = mne.compute_covariance(epochs, method=\"auto\", verbose=False).as_diag()\n",
      "<ipython-input-2-c47d3aa7e58e>:40: RuntimeWarning: No average EEG reference present in info[\"projs\"], covariance may be adversely affected. Consider recomputing covariance using with an average eeg reference projector added.\n",
      "  inverse_operator = mne.minimum_norm.make_inverse_operator(epochs.info, fwd, noise_cov, loose=loose, verbose=False)\n",
      "<ipython-input-2-c47d3aa7e58e>:40: RuntimeWarning: No average EEG reference present in info[\"projs\"], covariance may be adversely affected. Consider recomputing covariance using with an average eeg reference projector added.\n",
      "  inverse_operator = mne.minimum_norm.make_inverse_operator(epochs.info, fwd, noise_cov, loose=loose, verbose=False)\n"
     ]
    },
    {
     "name": "stdout",
     "output_type": "stream",
     "text": [
      "Not setting metadata\n",
      "Not setting metadata\n",
      "10 matching events found\n",
      "No baseline correction applied\n",
      "0 projection items activated\n",
      "Loading data for 10 events and 500 original time points ...\n",
      "0 bad epochs dropped\n",
      "Fitted sphere radius:         98.9 mm\n",
      "Origin head coordinates:      4.1 1.5 40.1 mm\n",
      "Origin device coordinates:    4.1 1.5 40.1 mm\n"
     ]
    },
    {
     "name": "stderr",
     "output_type": "stream",
     "text": [
      "/home/christian/code/acareeg/acareeg/lemon.py:58: RuntimeWarning: Limited 1 annotation(s) that were expanding outside the data range.\n",
      "  raw = mne.io.read_raw_eeglab(str(Path(root_path) / eeg_rel_path / f\"sub-{subject}_{event_id}.set\"), verbose=False)\n",
      "/home/christian/code/acareeg/acareeg/lemon.py:58: RuntimeWarning: The data contains 'boundary' events, indicating data discontinuities. Be cautious of filtering and epoching around these events.\n",
      "  raw = mne.io.read_raw_eeglab(str(Path(root_path) / eeg_rel_path / f\"sub-{subject}_{event_id}.set\"), verbose=False)\n",
      "<ipython-input-2-c47d3aa7e58e>:39: RuntimeWarning: Epochs are not baseline corrected, covariance matrix may be inaccurate\n",
      "  noise_cov = mne.compute_covariance(epochs, method=\"auto\", verbose=False).as_diag()\n",
      "<ipython-input-2-c47d3aa7e58e>:40: RuntimeWarning: No average EEG reference present in info[\"projs\"], covariance may be adversely affected. Consider recomputing covariance using with an average eeg reference projector added.\n",
      "  inverse_operator = mne.minimum_norm.make_inverse_operator(epochs.info, fwd, noise_cov, loose=loose, verbose=False)\n",
      "<ipython-input-2-c47d3aa7e58e>:40: RuntimeWarning: No average EEG reference present in info[\"projs\"], covariance may be adversely affected. Consider recomputing covariance using with an average eeg reference projector added.\n",
      "  inverse_operator = mne.minimum_norm.make_inverse_operator(epochs.info, fwd, noise_cov, loose=loose, verbose=False)\n"
     ]
    },
    {
     "name": "stdout",
     "output_type": "stream",
     "text": [
      "Not setting metadata\n",
      "Not setting metadata\n",
      "10 matching events found\n",
      "No baseline correction applied\n",
      "0 projection items activated\n",
      "Loading data for 10 events and 500 original time points ...\n",
      "0 bad epochs dropped\n",
      "Fitted sphere radius:         102.0 mm\n",
      "Origin head coordinates:      4.3 3.7 47.3 mm\n",
      "Origin device coordinates:    4.3 3.7 47.3 mm\n"
     ]
    },
    {
     "name": "stderr",
     "output_type": "stream",
     "text": [
      "/home/christian/code/acareeg/acareeg/lemon.py:58: RuntimeWarning: Limited 1 annotation(s) that were expanding outside the data range.\n",
      "  raw = mne.io.read_raw_eeglab(str(Path(root_path) / eeg_rel_path / f\"sub-{subject}_{event_id}.set\"), verbose=False)\n",
      "/home/christian/code/acareeg/acareeg/lemon.py:58: RuntimeWarning: The data contains 'boundary' events, indicating data discontinuities. Be cautious of filtering and epoching around these events.\n",
      "  raw = mne.io.read_raw_eeglab(str(Path(root_path) / eeg_rel_path / f\"sub-{subject}_{event_id}.set\"), verbose=False)\n",
      "<ipython-input-2-c47d3aa7e58e>:39: RuntimeWarning: Epochs are not baseline corrected, covariance matrix may be inaccurate\n",
      "  noise_cov = mne.compute_covariance(epochs, method=\"auto\", verbose=False).as_diag()\n",
      "<ipython-input-2-c47d3aa7e58e>:40: RuntimeWarning: No average EEG reference present in info[\"projs\"], covariance may be adversely affected. Consider recomputing covariance using with an average eeg reference projector added.\n",
      "  inverse_operator = mne.minimum_norm.make_inverse_operator(epochs.info, fwd, noise_cov, loose=loose, verbose=False)\n",
      "<ipython-input-2-c47d3aa7e58e>:40: RuntimeWarning: No average EEG reference present in info[\"projs\"], covariance may be adversely affected. Consider recomputing covariance using with an average eeg reference projector added.\n",
      "  inverse_operator = mne.minimum_norm.make_inverse_operator(epochs.info, fwd, noise_cov, loose=loose, verbose=False)\n"
     ]
    },
    {
     "name": "stdout",
     "output_type": "stream",
     "text": [
      "Not setting metadata\n",
      "Not setting metadata\n",
      "10 matching events found\n",
      "No baseline correction applied\n",
      "0 projection items activated\n",
      "Loading data for 10 events and 500 original time points ...\n",
      "0 bad epochs dropped\n",
      "Fitted sphere radius:         100.2 mm\n",
      "Origin head coordinates:      0.5 1.0 45.3 mm\n",
      "Origin device coordinates:    0.5 1.0 45.3 mm\n"
     ]
    },
    {
     "name": "stderr",
     "output_type": "stream",
     "text": [
      "/home/christian/code/acareeg/acareeg/lemon.py:58: RuntimeWarning: Limited 1 annotation(s) that were expanding outside the data range.\n",
      "  raw = mne.io.read_raw_eeglab(str(Path(root_path) / eeg_rel_path / f\"sub-{subject}_{event_id}.set\"), verbose=False)\n",
      "/home/christian/code/acareeg/acareeg/lemon.py:58: RuntimeWarning: The data contains 'boundary' events, indicating data discontinuities. Be cautious of filtering and epoching around these events.\n",
      "  raw = mne.io.read_raw_eeglab(str(Path(root_path) / eeg_rel_path / f\"sub-{subject}_{event_id}.set\"), verbose=False)\n",
      "<ipython-input-2-c47d3aa7e58e>:39: RuntimeWarning: Epochs are not baseline corrected, covariance matrix may be inaccurate\n",
      "  noise_cov = mne.compute_covariance(epochs, method=\"auto\", verbose=False).as_diag()\n",
      "<ipython-input-2-c47d3aa7e58e>:40: RuntimeWarning: No average EEG reference present in info[\"projs\"], covariance may be adversely affected. Consider recomputing covariance using with an average eeg reference projector added.\n",
      "  inverse_operator = mne.minimum_norm.make_inverse_operator(epochs.info, fwd, noise_cov, loose=loose, verbose=False)\n",
      "<ipython-input-2-c47d3aa7e58e>:40: RuntimeWarning: No average EEG reference present in info[\"projs\"], covariance may be adversely affected. Consider recomputing covariance using with an average eeg reference projector added.\n",
      "  inverse_operator = mne.minimum_norm.make_inverse_operator(epochs.info, fwd, noise_cov, loose=loose, verbose=False)\n"
     ]
    },
    {
     "name": "stdout",
     "output_type": "stream",
     "text": [
      "Not setting metadata\n",
      "Not setting metadata\n",
      "10 matching events found\n",
      "No baseline correction applied\n",
      "0 projection items activated\n",
      "Loading data for 10 events and 500 original time points ...\n",
      "0 bad epochs dropped\n",
      "Fitted sphere radius:         98.2 mm\n",
      "Origin head coordinates:      1.0 4.6 38.5 mm\n",
      "Origin device coordinates:    1.0 4.6 38.5 mm\n"
     ]
    },
    {
     "name": "stderr",
     "output_type": "stream",
     "text": [
      "/home/christian/code/acareeg/acareeg/lemon.py:58: RuntimeWarning: Limited 1 annotation(s) that were expanding outside the data range.\n",
      "  raw = mne.io.read_raw_eeglab(str(Path(root_path) / eeg_rel_path / f\"sub-{subject}_{event_id}.set\"), verbose=False)\n",
      "/home/christian/code/acareeg/acareeg/lemon.py:58: RuntimeWarning: The data contains 'boundary' events, indicating data discontinuities. Be cautious of filtering and epoching around these events.\n",
      "  raw = mne.io.read_raw_eeglab(str(Path(root_path) / eeg_rel_path / f\"sub-{subject}_{event_id}.set\"), verbose=False)\n",
      "<ipython-input-2-c47d3aa7e58e>:39: RuntimeWarning: Epochs are not baseline corrected, covariance matrix may be inaccurate\n",
      "  noise_cov = mne.compute_covariance(epochs, method=\"auto\", verbose=False).as_diag()\n",
      "<ipython-input-2-c47d3aa7e58e>:40: RuntimeWarning: No average EEG reference present in info[\"projs\"], covariance may be adversely affected. Consider recomputing covariance using with an average eeg reference projector added.\n",
      "  inverse_operator = mne.minimum_norm.make_inverse_operator(epochs.info, fwd, noise_cov, loose=loose, verbose=False)\n",
      "<ipython-input-2-c47d3aa7e58e>:40: RuntimeWarning: No average EEG reference present in info[\"projs\"], covariance may be adversely affected. Consider recomputing covariance using with an average eeg reference projector added.\n",
      "  inverse_operator = mne.minimum_norm.make_inverse_operator(epochs.info, fwd, noise_cov, loose=loose, verbose=False)\n"
     ]
    },
    {
     "name": "stdout",
     "output_type": "stream",
     "text": [
      "Not setting metadata\n",
      "Not setting metadata\n",
      "10 matching events found\n",
      "No baseline correction applied\n",
      "0 projection items activated\n",
      "Loading data for 10 events and 500 original time points ...\n",
      "0 bad epochs dropped\n",
      "Fitted sphere radius:         102.7 mm\n",
      "Origin head coordinates:      0.1 -0.7 38.7 mm\n",
      "Origin device coordinates:    0.1 -0.7 38.7 mm\n"
     ]
    },
    {
     "name": "stderr",
     "output_type": "stream",
     "text": [
      "/home/christian/code/acareeg/acareeg/lemon.py:58: RuntimeWarning: Limited 1 annotation(s) that were expanding outside the data range.\n",
      "  raw = mne.io.read_raw_eeglab(str(Path(root_path) / eeg_rel_path / f\"sub-{subject}_{event_id}.set\"), verbose=False)\n",
      "/home/christian/code/acareeg/acareeg/lemon.py:58: RuntimeWarning: The data contains 'boundary' events, indicating data discontinuities. Be cautious of filtering and epoching around these events.\n",
      "  raw = mne.io.read_raw_eeglab(str(Path(root_path) / eeg_rel_path / f\"sub-{subject}_{event_id}.set\"), verbose=False)\n",
      "<ipython-input-2-c47d3aa7e58e>:39: RuntimeWarning: Epochs are not baseline corrected, covariance matrix may be inaccurate\n",
      "  noise_cov = mne.compute_covariance(epochs, method=\"auto\", verbose=False).as_diag()\n",
      "<ipython-input-2-c47d3aa7e58e>:40: RuntimeWarning: No average EEG reference present in info[\"projs\"], covariance may be adversely affected. Consider recomputing covariance using with an average eeg reference projector added.\n",
      "  inverse_operator = mne.minimum_norm.make_inverse_operator(epochs.info, fwd, noise_cov, loose=loose, verbose=False)\n",
      "<ipython-input-2-c47d3aa7e58e>:40: RuntimeWarning: No average EEG reference present in info[\"projs\"], covariance may be adversely affected. Consider recomputing covariance using with an average eeg reference projector added.\n",
      "  inverse_operator = mne.minimum_norm.make_inverse_operator(epochs.info, fwd, noise_cov, loose=loose, verbose=False)\n"
     ]
    },
    {
     "name": "stdout",
     "output_type": "stream",
     "text": [
      "Not setting metadata\n",
      "Not setting metadata\n",
      "10 matching events found\n",
      "No baseline correction applied\n",
      "0 projection items activated\n",
      "Loading data for 10 events and 500 original time points ...\n",
      "0 bad epochs dropped\n",
      "Fitted sphere radius:         100.0 mm\n",
      "Origin head coordinates:      1.8 3.7 40.7 mm\n",
      "Origin device coordinates:    1.8 3.7 40.7 mm\n"
     ]
    },
    {
     "name": "stderr",
     "output_type": "stream",
     "text": [
      "/home/christian/code/acareeg/acareeg/lemon.py:58: RuntimeWarning: Limited 1 annotation(s) that were expanding outside the data range.\n",
      "  raw = mne.io.read_raw_eeglab(str(Path(root_path) / eeg_rel_path / f\"sub-{subject}_{event_id}.set\"), verbose=False)\n",
      "/home/christian/code/acareeg/acareeg/lemon.py:58: RuntimeWarning: The data contains 'boundary' events, indicating data discontinuities. Be cautious of filtering and epoching around these events.\n",
      "  raw = mne.io.read_raw_eeglab(str(Path(root_path) / eeg_rel_path / f\"sub-{subject}_{event_id}.set\"), verbose=False)\n",
      "<ipython-input-2-c47d3aa7e58e>:39: RuntimeWarning: Epochs are not baseline corrected, covariance matrix may be inaccurate\n",
      "  noise_cov = mne.compute_covariance(epochs, method=\"auto\", verbose=False).as_diag()\n",
      "<ipython-input-2-c47d3aa7e58e>:40: RuntimeWarning: No average EEG reference present in info[\"projs\"], covariance may be adversely affected. Consider recomputing covariance using with an average eeg reference projector added.\n",
      "  inverse_operator = mne.minimum_norm.make_inverse_operator(epochs.info, fwd, noise_cov, loose=loose, verbose=False)\n",
      "<ipython-input-2-c47d3aa7e58e>:40: RuntimeWarning: No average EEG reference present in info[\"projs\"], covariance may be adversely affected. Consider recomputing covariance using with an average eeg reference projector added.\n",
      "  inverse_operator = mne.minimum_norm.make_inverse_operator(epochs.info, fwd, noise_cov, loose=loose, verbose=False)\n"
     ]
    },
    {
     "name": "stdout",
     "output_type": "stream",
     "text": [
      "Not setting metadata\n",
      "Not setting metadata\n",
      "10 matching events found\n",
      "No baseline correction applied\n",
      "0 projection items activated\n",
      "Loading data for 10 events and 500 original time points ...\n",
      "0 bad epochs dropped\n",
      "Fitted sphere radius:         100.6 mm\n",
      "Origin head coordinates:      3.9 2.1 41.9 mm\n",
      "Origin device coordinates:    3.9 2.1 41.9 mm\n"
     ]
    },
    {
     "name": "stderr",
     "output_type": "stream",
     "text": [
      "/home/christian/code/acareeg/acareeg/lemon.py:58: RuntimeWarning: Limited 1 annotation(s) that were expanding outside the data range.\n",
      "  raw = mne.io.read_raw_eeglab(str(Path(root_path) / eeg_rel_path / f\"sub-{subject}_{event_id}.set\"), verbose=False)\n",
      "/home/christian/code/acareeg/acareeg/lemon.py:58: RuntimeWarning: The data contains 'boundary' events, indicating data discontinuities. Be cautious of filtering and epoching around these events.\n",
      "  raw = mne.io.read_raw_eeglab(str(Path(root_path) / eeg_rel_path / f\"sub-{subject}_{event_id}.set\"), verbose=False)\n",
      "<ipython-input-2-c47d3aa7e58e>:39: RuntimeWarning: Epochs are not baseline corrected, covariance matrix may be inaccurate\n",
      "  noise_cov = mne.compute_covariance(epochs, method=\"auto\", verbose=False).as_diag()\n",
      "<ipython-input-2-c47d3aa7e58e>:40: RuntimeWarning: No average EEG reference present in info[\"projs\"], covariance may be adversely affected. Consider recomputing covariance using with an average eeg reference projector added.\n",
      "  inverse_operator = mne.minimum_norm.make_inverse_operator(epochs.info, fwd, noise_cov, loose=loose, verbose=False)\n",
      "<ipython-input-2-c47d3aa7e58e>:40: RuntimeWarning: No average EEG reference present in info[\"projs\"], covariance may be adversely affected. Consider recomputing covariance using with an average eeg reference projector added.\n",
      "  inverse_operator = mne.minimum_norm.make_inverse_operator(epochs.info, fwd, noise_cov, loose=loose, verbose=False)\n"
     ]
    },
    {
     "name": "stdout",
     "output_type": "stream",
     "text": [
      "Not setting metadata\n",
      "Not setting metadata\n",
      "10 matching events found\n",
      "No baseline correction applied\n",
      "0 projection items activated\n",
      "Loading data for 10 events and 500 original time points ...\n",
      "0 bad epochs dropped\n",
      "Fitted sphere radius:         96.9 mm\n",
      "Origin head coordinates:      0.9 1.3 40.9 mm\n",
      "Origin device coordinates:    0.9 1.3 40.9 mm\n"
     ]
    },
    {
     "name": "stderr",
     "output_type": "stream",
     "text": [
      "/home/christian/code/acareeg/acareeg/lemon.py:58: RuntimeWarning: Limited 1 annotation(s) that were expanding outside the data range.\n",
      "  raw = mne.io.read_raw_eeglab(str(Path(root_path) / eeg_rel_path / f\"sub-{subject}_{event_id}.set\"), verbose=False)\n",
      "/home/christian/code/acareeg/acareeg/lemon.py:58: RuntimeWarning: The data contains 'boundary' events, indicating data discontinuities. Be cautious of filtering and epoching around these events.\n",
      "  raw = mne.io.read_raw_eeglab(str(Path(root_path) / eeg_rel_path / f\"sub-{subject}_{event_id}.set\"), verbose=False)\n",
      "<ipython-input-2-c47d3aa7e58e>:39: RuntimeWarning: Epochs are not baseline corrected, covariance matrix may be inaccurate\n",
      "  noise_cov = mne.compute_covariance(epochs, method=\"auto\", verbose=False).as_diag()\n",
      "<ipython-input-2-c47d3aa7e58e>:40: RuntimeWarning: No average EEG reference present in info[\"projs\"], covariance may be adversely affected. Consider recomputing covariance using with an average eeg reference projector added.\n",
      "  inverse_operator = mne.minimum_norm.make_inverse_operator(epochs.info, fwd, noise_cov, loose=loose, verbose=False)\n",
      "<ipython-input-2-c47d3aa7e58e>:40: RuntimeWarning: No average EEG reference present in info[\"projs\"], covariance may be adversely affected. Consider recomputing covariance using with an average eeg reference projector added.\n",
      "  inverse_operator = mne.minimum_norm.make_inverse_operator(epochs.info, fwd, noise_cov, loose=loose, verbose=False)\n"
     ]
    },
    {
     "name": "stdout",
     "output_type": "stream",
     "text": [
      "Not setting metadata\n",
      "Not setting metadata\n",
      "10 matching events found\n",
      "No baseline correction applied\n",
      "0 projection items activated\n",
      "Loading data for 10 events and 500 original time points ...\n",
      "0 bad epochs dropped\n",
      "Fitted sphere radius:         96.8 mm\n",
      "Origin head coordinates:      3.6 -2.7 42.9 mm\n",
      "Origin device coordinates:    3.6 -2.7 42.9 mm\n"
     ]
    },
    {
     "name": "stderr",
     "output_type": "stream",
     "text": [
      "/home/christian/code/acareeg/acareeg/lemon.py:58: RuntimeWarning: Limited 1 annotation(s) that were expanding outside the data range.\n",
      "  raw = mne.io.read_raw_eeglab(str(Path(root_path) / eeg_rel_path / f\"sub-{subject}_{event_id}.set\"), verbose=False)\n",
      "/home/christian/code/acareeg/acareeg/lemon.py:58: RuntimeWarning: The data contains 'boundary' events, indicating data discontinuities. Be cautious of filtering and epoching around these events.\n",
      "  raw = mne.io.read_raw_eeglab(str(Path(root_path) / eeg_rel_path / f\"sub-{subject}_{event_id}.set\"), verbose=False)\n",
      "<ipython-input-2-c47d3aa7e58e>:39: RuntimeWarning: Epochs are not baseline corrected, covariance matrix may be inaccurate\n",
      "  noise_cov = mne.compute_covariance(epochs, method=\"auto\", verbose=False).as_diag()\n",
      "<ipython-input-2-c47d3aa7e58e>:40: RuntimeWarning: No average EEG reference present in info[\"projs\"], covariance may be adversely affected. Consider recomputing covariance using with an average eeg reference projector added.\n",
      "  inverse_operator = mne.minimum_norm.make_inverse_operator(epochs.info, fwd, noise_cov, loose=loose, verbose=False)\n",
      "<ipython-input-2-c47d3aa7e58e>:40: RuntimeWarning: No average EEG reference present in info[\"projs\"], covariance may be adversely affected. Consider recomputing covariance using with an average eeg reference projector added.\n",
      "  inverse_operator = mne.minimum_norm.make_inverse_operator(epochs.info, fwd, noise_cov, loose=loose, verbose=False)\n"
     ]
    },
    {
     "name": "stdout",
     "output_type": "stream",
     "text": [
      "Not setting metadata\n",
      "Not setting metadata\n",
      "10 matching events found\n",
      "No baseline correction applied\n",
      "0 projection items activated\n",
      "Loading data for 10 events and 500 original time points ...\n",
      "0 bad epochs dropped\n",
      "Fitted sphere radius:         99.5 mm\n",
      "Origin head coordinates:      1.4 4.4 43.3 mm\n",
      "Origin device coordinates:    1.4 4.4 43.3 mm\n"
     ]
    },
    {
     "name": "stderr",
     "output_type": "stream",
     "text": [
      "/home/christian/code/acareeg/acareeg/lemon.py:58: RuntimeWarning: Limited 1 annotation(s) that were expanding outside the data range.\n",
      "  raw = mne.io.read_raw_eeglab(str(Path(root_path) / eeg_rel_path / f\"sub-{subject}_{event_id}.set\"), verbose=False)\n",
      "/home/christian/code/acareeg/acareeg/lemon.py:58: RuntimeWarning: The data contains 'boundary' events, indicating data discontinuities. Be cautious of filtering and epoching around these events.\n",
      "  raw = mne.io.read_raw_eeglab(str(Path(root_path) / eeg_rel_path / f\"sub-{subject}_{event_id}.set\"), verbose=False)\n",
      "<ipython-input-2-c47d3aa7e58e>:39: RuntimeWarning: Epochs are not baseline corrected, covariance matrix may be inaccurate\n",
      "  noise_cov = mne.compute_covariance(epochs, method=\"auto\", verbose=False).as_diag()\n",
      "<ipython-input-2-c47d3aa7e58e>:40: RuntimeWarning: No average EEG reference present in info[\"projs\"], covariance may be adversely affected. Consider recomputing covariance using with an average eeg reference projector added.\n",
      "  inverse_operator = mne.minimum_norm.make_inverse_operator(epochs.info, fwd, noise_cov, loose=loose, verbose=False)\n",
      "<ipython-input-2-c47d3aa7e58e>:40: RuntimeWarning: No average EEG reference present in info[\"projs\"], covariance may be adversely affected. Consider recomputing covariance using with an average eeg reference projector added.\n",
      "  inverse_operator = mne.minimum_norm.make_inverse_operator(epochs.info, fwd, noise_cov, loose=loose, verbose=False)\n"
     ]
    },
    {
     "name": "stdout",
     "output_type": "stream",
     "text": [
      "Not setting metadata\n",
      "Not setting metadata\n",
      "10 matching events found\n",
      "No baseline correction applied\n",
      "0 projection items activated\n",
      "Loading data for 10 events and 500 original time points ...\n",
      "0 bad epochs dropped\n",
      "Fitted sphere radius:         101.0 mm\n",
      "Origin head coordinates:      3.2 -4.0 47.7 mm\n",
      "Origin device coordinates:    3.2 -4.0 47.7 mm\n"
     ]
    },
    {
     "name": "stderr",
     "output_type": "stream",
     "text": [
      "/home/christian/code/acareeg/acareeg/lemon.py:58: RuntimeWarning: Limited 1 annotation(s) that were expanding outside the data range.\n",
      "  raw = mne.io.read_raw_eeglab(str(Path(root_path) / eeg_rel_path / f\"sub-{subject}_{event_id}.set\"), verbose=False)\n",
      "/home/christian/code/acareeg/acareeg/lemon.py:58: RuntimeWarning: The data contains 'boundary' events, indicating data discontinuities. Be cautious of filtering and epoching around these events.\n",
      "  raw = mne.io.read_raw_eeglab(str(Path(root_path) / eeg_rel_path / f\"sub-{subject}_{event_id}.set\"), verbose=False)\n",
      "<ipython-input-2-c47d3aa7e58e>:39: RuntimeWarning: Epochs are not baseline corrected, covariance matrix may be inaccurate\n",
      "  noise_cov = mne.compute_covariance(epochs, method=\"auto\", verbose=False).as_diag()\n",
      "<ipython-input-2-c47d3aa7e58e>:40: RuntimeWarning: No average EEG reference present in info[\"projs\"], covariance may be adversely affected. Consider recomputing covariance using with an average eeg reference projector added.\n",
      "  inverse_operator = mne.minimum_norm.make_inverse_operator(epochs.info, fwd, noise_cov, loose=loose, verbose=False)\n",
      "<ipython-input-2-c47d3aa7e58e>:40: RuntimeWarning: No average EEG reference present in info[\"projs\"], covariance may be adversely affected. Consider recomputing covariance using with an average eeg reference projector added.\n",
      "  inverse_operator = mne.minimum_norm.make_inverse_operator(epochs.info, fwd, noise_cov, loose=loose, verbose=False)\n"
     ]
    },
    {
     "name": "stdout",
     "output_type": "stream",
     "text": [
      "Not setting metadata\n",
      "Not setting metadata\n",
      "10 matching events found\n",
      "No baseline correction applied\n",
      "0 projection items activated\n",
      "Loading data for 10 events and 500 original time points ...\n",
      "0 bad epochs dropped\n",
      "Fitted sphere radius:         98.2 mm\n",
      "Origin head coordinates:      5.1 6.3 52.2 mm\n",
      "Origin device coordinates:    5.1 6.3 52.2 mm\n"
     ]
    },
    {
     "name": "stderr",
     "output_type": "stream",
     "text": [
      "/home/christian/code/acareeg/acareeg/lemon.py:58: RuntimeWarning: Limited 1 annotation(s) that were expanding outside the data range.\n",
      "  raw = mne.io.read_raw_eeglab(str(Path(root_path) / eeg_rel_path / f\"sub-{subject}_{event_id}.set\"), verbose=False)\n",
      "/home/christian/code/acareeg/acareeg/lemon.py:58: RuntimeWarning: The data contains 'boundary' events, indicating data discontinuities. Be cautious of filtering and epoching around these events.\n",
      "  raw = mne.io.read_raw_eeglab(str(Path(root_path) / eeg_rel_path / f\"sub-{subject}_{event_id}.set\"), verbose=False)\n",
      "<ipython-input-2-c47d3aa7e58e>:39: RuntimeWarning: Epochs are not baseline corrected, covariance matrix may be inaccurate\n",
      "  noise_cov = mne.compute_covariance(epochs, method=\"auto\", verbose=False).as_diag()\n",
      "<ipython-input-2-c47d3aa7e58e>:40: RuntimeWarning: No average EEG reference present in info[\"projs\"], covariance may be adversely affected. Consider recomputing covariance using with an average eeg reference projector added.\n",
      "  inverse_operator = mne.minimum_norm.make_inverse_operator(epochs.info, fwd, noise_cov, loose=loose, verbose=False)\n",
      "<ipython-input-2-c47d3aa7e58e>:40: RuntimeWarning: No average EEG reference present in info[\"projs\"], covariance may be adversely affected. Consider recomputing covariance using with an average eeg reference projector added.\n",
      "  inverse_operator = mne.minimum_norm.make_inverse_operator(epochs.info, fwd, noise_cov, loose=loose, verbose=False)\n"
     ]
    },
    {
     "name": "stdout",
     "output_type": "stream",
     "text": [
      "Not setting metadata\n",
      "Not setting metadata\n",
      "10 matching events found\n",
      "No baseline correction applied\n",
      "0 projection items activated\n",
      "Loading data for 10 events and 500 original time points ...\n",
      "0 bad epochs dropped\n",
      "Fitted sphere radius:         103.7 mm\n",
      "Origin head coordinates:      -1.0 3.4 44.1 mm\n",
      "Origin device coordinates:    -1.0 3.4 44.1 mm\n"
     ]
    },
    {
     "name": "stderr",
     "output_type": "stream",
     "text": [
      "/home/christian/code/acareeg/acareeg/lemon.py:58: RuntimeWarning: Limited 1 annotation(s) that were expanding outside the data range.\n",
      "  raw = mne.io.read_raw_eeglab(str(Path(root_path) / eeg_rel_path / f\"sub-{subject}_{event_id}.set\"), verbose=False)\n",
      "/home/christian/code/acareeg/acareeg/lemon.py:58: RuntimeWarning: The data contains 'boundary' events, indicating data discontinuities. Be cautious of filtering and epoching around these events.\n",
      "  raw = mne.io.read_raw_eeglab(str(Path(root_path) / eeg_rel_path / f\"sub-{subject}_{event_id}.set\"), verbose=False)\n",
      "<ipython-input-2-c47d3aa7e58e>:39: RuntimeWarning: Epochs are not baseline corrected, covariance matrix may be inaccurate\n",
      "  noise_cov = mne.compute_covariance(epochs, method=\"auto\", verbose=False).as_diag()\n",
      "<ipython-input-2-c47d3aa7e58e>:40: RuntimeWarning: No average EEG reference present in info[\"projs\"], covariance may be adversely affected. Consider recomputing covariance using with an average eeg reference projector added.\n",
      "  inverse_operator = mne.minimum_norm.make_inverse_operator(epochs.info, fwd, noise_cov, loose=loose, verbose=False)\n",
      "<ipython-input-2-c47d3aa7e58e>:40: RuntimeWarning: No average EEG reference present in info[\"projs\"], covariance may be adversely affected. Consider recomputing covariance using with an average eeg reference projector added.\n",
      "  inverse_operator = mne.minimum_norm.make_inverse_operator(epochs.info, fwd, noise_cov, loose=loose, verbose=False)\n"
     ]
    },
    {
     "name": "stdout",
     "output_type": "stream",
     "text": [
      "Not setting metadata\n",
      "Not setting metadata\n",
      "10 matching events found\n",
      "No baseline correction applied\n",
      "0 projection items activated\n",
      "Loading data for 10 events and 500 original time points ...\n",
      "0 bad epochs dropped\n",
      "Fitted sphere radius:         100.7 mm\n",
      "Origin head coordinates:      2.7 5.8 55.3 mm\n",
      "Origin device coordinates:    2.7 5.8 55.3 mm\n"
     ]
    },
    {
     "name": "stderr",
     "output_type": "stream",
     "text": [
      "/home/christian/code/acareeg/acareeg/lemon.py:58: RuntimeWarning: Limited 1 annotation(s) that were expanding outside the data range.\n",
      "  raw = mne.io.read_raw_eeglab(str(Path(root_path) / eeg_rel_path / f\"sub-{subject}_{event_id}.set\"), verbose=False)\n",
      "/home/christian/code/acareeg/acareeg/lemon.py:58: RuntimeWarning: The data contains 'boundary' events, indicating data discontinuities. Be cautious of filtering and epoching around these events.\n",
      "  raw = mne.io.read_raw_eeglab(str(Path(root_path) / eeg_rel_path / f\"sub-{subject}_{event_id}.set\"), verbose=False)\n",
      "<ipython-input-2-c47d3aa7e58e>:39: RuntimeWarning: Epochs are not baseline corrected, covariance matrix may be inaccurate\n",
      "  noise_cov = mne.compute_covariance(epochs, method=\"auto\", verbose=False).as_diag()\n",
      "<ipython-input-2-c47d3aa7e58e>:40: RuntimeWarning: No average EEG reference present in info[\"projs\"], covariance may be adversely affected. Consider recomputing covariance using with an average eeg reference projector added.\n",
      "  inverse_operator = mne.minimum_norm.make_inverse_operator(epochs.info, fwd, noise_cov, loose=loose, verbose=False)\n",
      "<ipython-input-2-c47d3aa7e58e>:40: RuntimeWarning: No average EEG reference present in info[\"projs\"], covariance may be adversely affected. Consider recomputing covariance using with an average eeg reference projector added.\n",
      "  inverse_operator = mne.minimum_norm.make_inverse_operator(epochs.info, fwd, noise_cov, loose=loose, verbose=False)\n"
     ]
    },
    {
     "name": "stdout",
     "output_type": "stream",
     "text": [
      "Not setting metadata\n",
      "Not setting metadata\n",
      "10 matching events found\n",
      "No baseline correction applied\n",
      "0 projection items activated\n",
      "Loading data for 10 events and 500 original time points ...\n",
      "0 bad epochs dropped\n",
      "Fitted sphere radius:         104.4 mm\n",
      "Origin head coordinates:      5.2 1.2 41.7 mm\n",
      "Origin device coordinates:    5.2 1.2 41.7 mm\n"
     ]
    },
    {
     "name": "stderr",
     "output_type": "stream",
     "text": [
      "/home/christian/code/acareeg/acareeg/lemon.py:58: RuntimeWarning: Limited 1 annotation(s) that were expanding outside the data range.\n",
      "  raw = mne.io.read_raw_eeglab(str(Path(root_path) / eeg_rel_path / f\"sub-{subject}_{event_id}.set\"), verbose=False)\n",
      "/home/christian/code/acareeg/acareeg/lemon.py:58: RuntimeWarning: The data contains 'boundary' events, indicating data discontinuities. Be cautious of filtering and epoching around these events.\n",
      "  raw = mne.io.read_raw_eeglab(str(Path(root_path) / eeg_rel_path / f\"sub-{subject}_{event_id}.set\"), verbose=False)\n",
      "<ipython-input-2-c47d3aa7e58e>:39: RuntimeWarning: Epochs are not baseline corrected, covariance matrix may be inaccurate\n",
      "  noise_cov = mne.compute_covariance(epochs, method=\"auto\", verbose=False).as_diag()\n",
      "<ipython-input-2-c47d3aa7e58e>:40: RuntimeWarning: No average EEG reference present in info[\"projs\"], covariance may be adversely affected. Consider recomputing covariance using with an average eeg reference projector added.\n",
      "  inverse_operator = mne.minimum_norm.make_inverse_operator(epochs.info, fwd, noise_cov, loose=loose, verbose=False)\n",
      "<ipython-input-2-c47d3aa7e58e>:40: RuntimeWarning: No average EEG reference present in info[\"projs\"], covariance may be adversely affected. Consider recomputing covariance using with an average eeg reference projector added.\n",
      "  inverse_operator = mne.minimum_norm.make_inverse_operator(epochs.info, fwd, noise_cov, loose=loose, verbose=False)\n"
     ]
    },
    {
     "name": "stdout",
     "output_type": "stream",
     "text": [
      "Not setting metadata\n",
      "Not setting metadata\n",
      "10 matching events found\n",
      "No baseline correction applied\n",
      "0 projection items activated\n",
      "Loading data for 10 events and 500 original time points ...\n",
      "0 bad epochs dropped\n",
      "Fitted sphere radius:         98.1 mm\n",
      "Origin head coordinates:      3.0 2.7 46.9 mm\n",
      "Origin device coordinates:    3.0 2.7 46.9 mm\n"
     ]
    },
    {
     "name": "stderr",
     "output_type": "stream",
     "text": [
      "/home/christian/code/acareeg/acareeg/lemon.py:58: RuntimeWarning: Limited 1 annotation(s) that were expanding outside the data range.\n",
      "  raw = mne.io.read_raw_eeglab(str(Path(root_path) / eeg_rel_path / f\"sub-{subject}_{event_id}.set\"), verbose=False)\n",
      "/home/christian/code/acareeg/acareeg/lemon.py:58: RuntimeWarning: The data contains 'boundary' events, indicating data discontinuities. Be cautious of filtering and epoching around these events.\n",
      "  raw = mne.io.read_raw_eeglab(str(Path(root_path) / eeg_rel_path / f\"sub-{subject}_{event_id}.set\"), verbose=False)\n",
      "<ipython-input-2-c47d3aa7e58e>:39: RuntimeWarning: Epochs are not baseline corrected, covariance matrix may be inaccurate\n",
      "  noise_cov = mne.compute_covariance(epochs, method=\"auto\", verbose=False).as_diag()\n",
      "<ipython-input-2-c47d3aa7e58e>:40: RuntimeWarning: No average EEG reference present in info[\"projs\"], covariance may be adversely affected. Consider recomputing covariance using with an average eeg reference projector added.\n",
      "  inverse_operator = mne.minimum_norm.make_inverse_operator(epochs.info, fwd, noise_cov, loose=loose, verbose=False)\n",
      "<ipython-input-2-c47d3aa7e58e>:40: RuntimeWarning: No average EEG reference present in info[\"projs\"], covariance may be adversely affected. Consider recomputing covariance using with an average eeg reference projector added.\n",
      "  inverse_operator = mne.minimum_norm.make_inverse_operator(epochs.info, fwd, noise_cov, loose=loose, verbose=False)\n"
     ]
    },
    {
     "name": "stdout",
     "output_type": "stream",
     "text": [
      "Not setting metadata\n",
      "Not setting metadata\n",
      "10 matching events found\n",
      "No baseline correction applied\n",
      "0 projection items activated\n",
      "Loading data for 10 events and 500 original time points ...\n",
      "0 bad epochs dropped\n",
      "Fitted sphere radius:         100.5 mm\n",
      "Origin head coordinates:      2.4 0.4 37.1 mm\n",
      "Origin device coordinates:    2.4 0.4 37.1 mm\n"
     ]
    },
    {
     "name": "stderr",
     "output_type": "stream",
     "text": [
      "/home/christian/code/acareeg/acareeg/lemon.py:58: RuntimeWarning: Limited 1 annotation(s) that were expanding outside the data range.\n",
      "  raw = mne.io.read_raw_eeglab(str(Path(root_path) / eeg_rel_path / f\"sub-{subject}_{event_id}.set\"), verbose=False)\n",
      "/home/christian/code/acareeg/acareeg/lemon.py:58: RuntimeWarning: The data contains 'boundary' events, indicating data discontinuities. Be cautious of filtering and epoching around these events.\n",
      "  raw = mne.io.read_raw_eeglab(str(Path(root_path) / eeg_rel_path / f\"sub-{subject}_{event_id}.set\"), verbose=False)\n",
      "<ipython-input-2-c47d3aa7e58e>:39: RuntimeWarning: Epochs are not baseline corrected, covariance matrix may be inaccurate\n",
      "  noise_cov = mne.compute_covariance(epochs, method=\"auto\", verbose=False).as_diag()\n",
      "<ipython-input-2-c47d3aa7e58e>:40: RuntimeWarning: No average EEG reference present in info[\"projs\"], covariance may be adversely affected. Consider recomputing covariance using with an average eeg reference projector added.\n",
      "  inverse_operator = mne.minimum_norm.make_inverse_operator(epochs.info, fwd, noise_cov, loose=loose, verbose=False)\n",
      "<ipython-input-2-c47d3aa7e58e>:40: RuntimeWarning: No average EEG reference present in info[\"projs\"], covariance may be adversely affected. Consider recomputing covariance using with an average eeg reference projector added.\n",
      "  inverse_operator = mne.minimum_norm.make_inverse_operator(epochs.info, fwd, noise_cov, loose=loose, verbose=False)\n"
     ]
    },
    {
     "name": "stdout",
     "output_type": "stream",
     "text": [
      "Not setting metadata\n",
      "Not setting metadata\n",
      "10 matching events found\n",
      "No baseline correction applied\n",
      "0 projection items activated\n",
      "Loading data for 10 events and 500 original time points ...\n",
      "0 bad epochs dropped\n",
      "Fitted sphere radius:         97.6 mm\n",
      "Origin head coordinates:      3.0 -0.1 45.6 mm\n",
      "Origin device coordinates:    3.0 -0.1 45.6 mm\n"
     ]
    },
    {
     "name": "stderr",
     "output_type": "stream",
     "text": [
      "/home/christian/code/acareeg/acareeg/lemon.py:58: RuntimeWarning: Limited 1 annotation(s) that were expanding outside the data range.\n",
      "  raw = mne.io.read_raw_eeglab(str(Path(root_path) / eeg_rel_path / f\"sub-{subject}_{event_id}.set\"), verbose=False)\n",
      "/home/christian/code/acareeg/acareeg/lemon.py:58: RuntimeWarning: The data contains 'boundary' events, indicating data discontinuities. Be cautious of filtering and epoching around these events.\n",
      "  raw = mne.io.read_raw_eeglab(str(Path(root_path) / eeg_rel_path / f\"sub-{subject}_{event_id}.set\"), verbose=False)\n",
      "<ipython-input-2-c47d3aa7e58e>:39: RuntimeWarning: Epochs are not baseline corrected, covariance matrix may be inaccurate\n",
      "  noise_cov = mne.compute_covariance(epochs, method=\"auto\", verbose=False).as_diag()\n",
      "<ipython-input-2-c47d3aa7e58e>:40: RuntimeWarning: No average EEG reference present in info[\"projs\"], covariance may be adversely affected. Consider recomputing covariance using with an average eeg reference projector added.\n",
      "  inverse_operator = mne.minimum_norm.make_inverse_operator(epochs.info, fwd, noise_cov, loose=loose, verbose=False)\n",
      "<ipython-input-2-c47d3aa7e58e>:40: RuntimeWarning: No average EEG reference present in info[\"projs\"], covariance may be adversely affected. Consider recomputing covariance using with an average eeg reference projector added.\n",
      "  inverse_operator = mne.minimum_norm.make_inverse_operator(epochs.info, fwd, noise_cov, loose=loose, verbose=False)\n"
     ]
    },
    {
     "name": "stdout",
     "output_type": "stream",
     "text": [
      "Not setting metadata\n",
      "Not setting metadata\n",
      "10 matching events found\n",
      "No baseline correction applied\n",
      "0 projection items activated\n",
      "Loading data for 10 events and 500 original time points ...\n",
      "0 bad epochs dropped\n",
      "Fitted sphere radius:         100.8 mm\n",
      "Origin head coordinates:      3.8 -3.6 37.9 mm\n",
      "Origin device coordinates:    3.8 -3.6 37.9 mm\n"
     ]
    },
    {
     "name": "stderr",
     "output_type": "stream",
     "text": [
      "/home/christian/code/acareeg/acareeg/lemon.py:58: RuntimeWarning: Limited 1 annotation(s) that were expanding outside the data range.\n",
      "  raw = mne.io.read_raw_eeglab(str(Path(root_path) / eeg_rel_path / f\"sub-{subject}_{event_id}.set\"), verbose=False)\n",
      "/home/christian/code/acareeg/acareeg/lemon.py:58: RuntimeWarning: The data contains 'boundary' events, indicating data discontinuities. Be cautious of filtering and epoching around these events.\n",
      "  raw = mne.io.read_raw_eeglab(str(Path(root_path) / eeg_rel_path / f\"sub-{subject}_{event_id}.set\"), verbose=False)\n",
      "<ipython-input-2-c47d3aa7e58e>:39: RuntimeWarning: Epochs are not baseline corrected, covariance matrix may be inaccurate\n",
      "  noise_cov = mne.compute_covariance(epochs, method=\"auto\", verbose=False).as_diag()\n",
      "<ipython-input-2-c47d3aa7e58e>:40: RuntimeWarning: No average EEG reference present in info[\"projs\"], covariance may be adversely affected. Consider recomputing covariance using with an average eeg reference projector added.\n",
      "  inverse_operator = mne.minimum_norm.make_inverse_operator(epochs.info, fwd, noise_cov, loose=loose, verbose=False)\n",
      "<ipython-input-2-c47d3aa7e58e>:40: RuntimeWarning: No average EEG reference present in info[\"projs\"], covariance may be adversely affected. Consider recomputing covariance using with an average eeg reference projector added.\n",
      "  inverse_operator = mne.minimum_norm.make_inverse_operator(epochs.info, fwd, noise_cov, loose=loose, verbose=False)\n"
     ]
    },
    {
     "name": "stdout",
     "output_type": "stream",
     "text": [
      "Not setting metadata\n",
      "Not setting metadata\n",
      "10 matching events found\n",
      "No baseline correction applied\n",
      "0 projection items activated\n",
      "Loading data for 10 events and 500 original time points ...\n",
      "0 bad epochs dropped\n",
      "Fitted sphere radius:         93.6 mm\n",
      "Origin head coordinates:      6.4 2.4 42.2 mm\n",
      "Origin device coordinates:    6.4 2.4 42.2 mm\n"
     ]
    },
    {
     "name": "stderr",
     "output_type": "stream",
     "text": [
      "/home/christian/code/acareeg/acareeg/lemon.py:58: RuntimeWarning: Limited 1 annotation(s) that were expanding outside the data range.\n",
      "  raw = mne.io.read_raw_eeglab(str(Path(root_path) / eeg_rel_path / f\"sub-{subject}_{event_id}.set\"), verbose=False)\n",
      "/home/christian/code/acareeg/acareeg/lemon.py:58: RuntimeWarning: The data contains 'boundary' events, indicating data discontinuities. Be cautious of filtering and epoching around these events.\n",
      "  raw = mne.io.read_raw_eeglab(str(Path(root_path) / eeg_rel_path / f\"sub-{subject}_{event_id}.set\"), verbose=False)\n",
      "<ipython-input-2-c47d3aa7e58e>:39: RuntimeWarning: Epochs are not baseline corrected, covariance matrix may be inaccurate\n",
      "  noise_cov = mne.compute_covariance(epochs, method=\"auto\", verbose=False).as_diag()\n",
      "<ipython-input-2-c47d3aa7e58e>:40: RuntimeWarning: No average EEG reference present in info[\"projs\"], covariance may be adversely affected. Consider recomputing covariance using with an average eeg reference projector added.\n",
      "  inverse_operator = mne.minimum_norm.make_inverse_operator(epochs.info, fwd, noise_cov, loose=loose, verbose=False)\n",
      "<ipython-input-2-c47d3aa7e58e>:40: RuntimeWarning: No average EEG reference present in info[\"projs\"], covariance may be adversely affected. Consider recomputing covariance using with an average eeg reference projector added.\n",
      "  inverse_operator = mne.minimum_norm.make_inverse_operator(epochs.info, fwd, noise_cov, loose=loose, verbose=False)\n"
     ]
    },
    {
     "name": "stdout",
     "output_type": "stream",
     "text": [
      "Not setting metadata\n",
      "Not setting metadata\n",
      "10 matching events found\n",
      "No baseline correction applied\n",
      "0 projection items activated\n",
      "Loading data for 10 events and 500 original time points ...\n",
      "0 bad epochs dropped\n",
      "Fitted sphere radius:         100.8 mm\n",
      "Origin head coordinates:      1.5 -1.6 44.2 mm\n",
      "Origin device coordinates:    1.5 -1.6 44.2 mm\n"
     ]
    },
    {
     "name": "stderr",
     "output_type": "stream",
     "text": [
      "/home/christian/code/acareeg/acareeg/lemon.py:58: RuntimeWarning: Limited 1 annotation(s) that were expanding outside the data range.\n",
      "  raw = mne.io.read_raw_eeglab(str(Path(root_path) / eeg_rel_path / f\"sub-{subject}_{event_id}.set\"), verbose=False)\n",
      "/home/christian/code/acareeg/acareeg/lemon.py:58: RuntimeWarning: The data contains 'boundary' events, indicating data discontinuities. Be cautious of filtering and epoching around these events.\n",
      "  raw = mne.io.read_raw_eeglab(str(Path(root_path) / eeg_rel_path / f\"sub-{subject}_{event_id}.set\"), verbose=False)\n",
      "<ipython-input-2-c47d3aa7e58e>:39: RuntimeWarning: Epochs are not baseline corrected, covariance matrix may be inaccurate\n",
      "  noise_cov = mne.compute_covariance(epochs, method=\"auto\", verbose=False).as_diag()\n",
      "<ipython-input-2-c47d3aa7e58e>:40: RuntimeWarning: No average EEG reference present in info[\"projs\"], covariance may be adversely affected. Consider recomputing covariance using with an average eeg reference projector added.\n",
      "  inverse_operator = mne.minimum_norm.make_inverse_operator(epochs.info, fwd, noise_cov, loose=loose, verbose=False)\n",
      "<ipython-input-2-c47d3aa7e58e>:40: RuntimeWarning: No average EEG reference present in info[\"projs\"], covariance may be adversely affected. Consider recomputing covariance using with an average eeg reference projector added.\n",
      "  inverse_operator = mne.minimum_norm.make_inverse_operator(epochs.info, fwd, noise_cov, loose=loose, verbose=False)\n"
     ]
    },
    {
     "name": "stdout",
     "output_type": "stream",
     "text": [
      "Not setting metadata\n",
      "Not setting metadata\n",
      "10 matching events found\n",
      "No baseline correction applied\n",
      "0 projection items activated\n",
      "Loading data for 10 events and 500 original time points ...\n",
      "0 bad epochs dropped\n",
      "Fitted sphere radius:         102.8 mm\n",
      "Origin head coordinates:      3.7 -1.7 38.6 mm\n",
      "Origin device coordinates:    3.7 -1.7 38.6 mm\n"
     ]
    },
    {
     "name": "stderr",
     "output_type": "stream",
     "text": [
      "/home/christian/code/acareeg/acareeg/lemon.py:58: RuntimeWarning: Limited 1 annotation(s) that were expanding outside the data range.\n",
      "  raw = mne.io.read_raw_eeglab(str(Path(root_path) / eeg_rel_path / f\"sub-{subject}_{event_id}.set\"), verbose=False)\n",
      "/home/christian/code/acareeg/acareeg/lemon.py:58: RuntimeWarning: The data contains 'boundary' events, indicating data discontinuities. Be cautious of filtering and epoching around these events.\n",
      "  raw = mne.io.read_raw_eeglab(str(Path(root_path) / eeg_rel_path / f\"sub-{subject}_{event_id}.set\"), verbose=False)\n",
      "<ipython-input-2-c47d3aa7e58e>:39: RuntimeWarning: Epochs are not baseline corrected, covariance matrix may be inaccurate\n",
      "  noise_cov = mne.compute_covariance(epochs, method=\"auto\", verbose=False).as_diag()\n",
      "<ipython-input-2-c47d3aa7e58e>:40: RuntimeWarning: No average EEG reference present in info[\"projs\"], covariance may be adversely affected. Consider recomputing covariance using with an average eeg reference projector added.\n",
      "  inverse_operator = mne.minimum_norm.make_inverse_operator(epochs.info, fwd, noise_cov, loose=loose, verbose=False)\n",
      "<ipython-input-2-c47d3aa7e58e>:40: RuntimeWarning: No average EEG reference present in info[\"projs\"], covariance may be adversely affected. Consider recomputing covariance using with an average eeg reference projector added.\n",
      "  inverse_operator = mne.minimum_norm.make_inverse_operator(epochs.info, fwd, noise_cov, loose=loose, verbose=False)\n"
     ]
    },
    {
     "name": "stdout",
     "output_type": "stream",
     "text": [
      "Not setting metadata\n",
      "Not setting metadata\n",
      "10 matching events found\n",
      "No baseline correction applied\n",
      "0 projection items activated\n",
      "Loading data for 10 events and 500 original time points ...\n",
      "0 bad epochs dropped\n",
      "Fitted sphere radius:         98.9 mm\n",
      "Origin head coordinates:      4.7 5.1 49.1 mm\n",
      "Origin device coordinates:    4.7 5.1 49.1 mm\n"
     ]
    },
    {
     "name": "stderr",
     "output_type": "stream",
     "text": [
      "/home/christian/code/acareeg/acareeg/lemon.py:58: RuntimeWarning: Limited 1 annotation(s) that were expanding outside the data range.\n",
      "  raw = mne.io.read_raw_eeglab(str(Path(root_path) / eeg_rel_path / f\"sub-{subject}_{event_id}.set\"), verbose=False)\n",
      "/home/christian/code/acareeg/acareeg/lemon.py:58: RuntimeWarning: The data contains 'boundary' events, indicating data discontinuities. Be cautious of filtering and epoching around these events.\n",
      "  raw = mne.io.read_raw_eeglab(str(Path(root_path) / eeg_rel_path / f\"sub-{subject}_{event_id}.set\"), verbose=False)\n",
      "<ipython-input-2-c47d3aa7e58e>:39: RuntimeWarning: Epochs are not baseline corrected, covariance matrix may be inaccurate\n",
      "  noise_cov = mne.compute_covariance(epochs, method=\"auto\", verbose=False).as_diag()\n",
      "<ipython-input-2-c47d3aa7e58e>:40: RuntimeWarning: No average EEG reference present in info[\"projs\"], covariance may be adversely affected. Consider recomputing covariance using with an average eeg reference projector added.\n",
      "  inverse_operator = mne.minimum_norm.make_inverse_operator(epochs.info, fwd, noise_cov, loose=loose, verbose=False)\n",
      "<ipython-input-2-c47d3aa7e58e>:40: RuntimeWarning: No average EEG reference present in info[\"projs\"], covariance may be adversely affected. Consider recomputing covariance using with an average eeg reference projector added.\n",
      "  inverse_operator = mne.minimum_norm.make_inverse_operator(epochs.info, fwd, noise_cov, loose=loose, verbose=False)\n"
     ]
    },
    {
     "name": "stdout",
     "output_type": "stream",
     "text": [
      "Not setting metadata\n",
      "Not setting metadata\n",
      "10 matching events found\n",
      "No baseline correction applied\n",
      "0 projection items activated\n",
      "Loading data for 10 events and 500 original time points ...\n",
      "0 bad epochs dropped\n",
      "Fitted sphere radius:         99.6 mm\n",
      "Origin head coordinates:      1.2 1.6 40.7 mm\n",
      "Origin device coordinates:    1.2 1.6 40.7 mm\n"
     ]
    },
    {
     "name": "stderr",
     "output_type": "stream",
     "text": [
      "/home/christian/code/acareeg/acareeg/lemon.py:58: RuntimeWarning: Limited 1 annotation(s) that were expanding outside the data range.\n",
      "  raw = mne.io.read_raw_eeglab(str(Path(root_path) / eeg_rel_path / f\"sub-{subject}_{event_id}.set\"), verbose=False)\n",
      "/home/christian/code/acareeg/acareeg/lemon.py:58: RuntimeWarning: The data contains 'boundary' events, indicating data discontinuities. Be cautious of filtering and epoching around these events.\n",
      "  raw = mne.io.read_raw_eeglab(str(Path(root_path) / eeg_rel_path / f\"sub-{subject}_{event_id}.set\"), verbose=False)\n",
      "<ipython-input-2-c47d3aa7e58e>:39: RuntimeWarning: Epochs are not baseline corrected, covariance matrix may be inaccurate\n",
      "  noise_cov = mne.compute_covariance(epochs, method=\"auto\", verbose=False).as_diag()\n",
      "<ipython-input-2-c47d3aa7e58e>:40: RuntimeWarning: No average EEG reference present in info[\"projs\"], covariance may be adversely affected. Consider recomputing covariance using with an average eeg reference projector added.\n",
      "  inverse_operator = mne.minimum_norm.make_inverse_operator(epochs.info, fwd, noise_cov, loose=loose, verbose=False)\n",
      "<ipython-input-2-c47d3aa7e58e>:40: RuntimeWarning: No average EEG reference present in info[\"projs\"], covariance may be adversely affected. Consider recomputing covariance using with an average eeg reference projector added.\n",
      "  inverse_operator = mne.minimum_norm.make_inverse_operator(epochs.info, fwd, noise_cov, loose=loose, verbose=False)\n"
     ]
    },
    {
     "name": "stdout",
     "output_type": "stream",
     "text": [
      "Not setting metadata\n",
      "Not setting metadata\n",
      "10 matching events found\n",
      "No baseline correction applied\n",
      "0 projection items activated\n",
      "Loading data for 10 events and 500 original time points ...\n",
      "0 bad epochs dropped\n",
      "Fitted sphere radius:         95.4 mm\n",
      "Origin head coordinates:      3.2 -1.1 39.7 mm\n",
      "Origin device coordinates:    3.2 -1.1 39.7 mm\n"
     ]
    },
    {
     "name": "stderr",
     "output_type": "stream",
     "text": [
      "/home/christian/code/acareeg/acareeg/lemon.py:58: RuntimeWarning: Limited 1 annotation(s) that were expanding outside the data range.\n",
      "  raw = mne.io.read_raw_eeglab(str(Path(root_path) / eeg_rel_path / f\"sub-{subject}_{event_id}.set\"), verbose=False)\n",
      "/home/christian/code/acareeg/acareeg/lemon.py:58: RuntimeWarning: The data contains 'boundary' events, indicating data discontinuities. Be cautious of filtering and epoching around these events.\n",
      "  raw = mne.io.read_raw_eeglab(str(Path(root_path) / eeg_rel_path / f\"sub-{subject}_{event_id}.set\"), verbose=False)\n",
      "<ipython-input-2-c47d3aa7e58e>:39: RuntimeWarning: Epochs are not baseline corrected, covariance matrix may be inaccurate\n",
      "  noise_cov = mne.compute_covariance(epochs, method=\"auto\", verbose=False).as_diag()\n",
      "<ipython-input-2-c47d3aa7e58e>:40: RuntimeWarning: No average EEG reference present in info[\"projs\"], covariance may be adversely affected. Consider recomputing covariance using with an average eeg reference projector added.\n",
      "  inverse_operator = mne.minimum_norm.make_inverse_operator(epochs.info, fwd, noise_cov, loose=loose, verbose=False)\n",
      "<ipython-input-2-c47d3aa7e58e>:40: RuntimeWarning: No average EEG reference present in info[\"projs\"], covariance may be adversely affected. Consider recomputing covariance using with an average eeg reference projector added.\n",
      "  inverse_operator = mne.minimum_norm.make_inverse_operator(epochs.info, fwd, noise_cov, loose=loose, verbose=False)\n"
     ]
    },
    {
     "name": "stdout",
     "output_type": "stream",
     "text": [
      "Not setting metadata\n",
      "Not setting metadata\n",
      "10 matching events found\n",
      "No baseline correction applied\n",
      "0 projection items activated\n",
      "Loading data for 10 events and 500 original time points ...\n",
      "0 bad epochs dropped\n",
      "Fitted sphere radius:         102.7 mm\n",
      "Origin head coordinates:      2.7 4.1 50.5 mm\n",
      "Origin device coordinates:    2.7 4.1 50.5 mm\n"
     ]
    },
    {
     "name": "stderr",
     "output_type": "stream",
     "text": [
      "/home/christian/code/acareeg/acareeg/lemon.py:58: RuntimeWarning: Limited 1 annotation(s) that were expanding outside the data range.\n",
      "  raw = mne.io.read_raw_eeglab(str(Path(root_path) / eeg_rel_path / f\"sub-{subject}_{event_id}.set\"), verbose=False)\n",
      "/home/christian/code/acareeg/acareeg/lemon.py:58: RuntimeWarning: The data contains 'boundary' events, indicating data discontinuities. Be cautious of filtering and epoching around these events.\n",
      "  raw = mne.io.read_raw_eeglab(str(Path(root_path) / eeg_rel_path / f\"sub-{subject}_{event_id}.set\"), verbose=False)\n",
      "<ipython-input-2-c47d3aa7e58e>:39: RuntimeWarning: Epochs are not baseline corrected, covariance matrix may be inaccurate\n",
      "  noise_cov = mne.compute_covariance(epochs, method=\"auto\", verbose=False).as_diag()\n",
      "<ipython-input-2-c47d3aa7e58e>:40: RuntimeWarning: No average EEG reference present in info[\"projs\"], covariance may be adversely affected. Consider recomputing covariance using with an average eeg reference projector added.\n",
      "  inverse_operator = mne.minimum_norm.make_inverse_operator(epochs.info, fwd, noise_cov, loose=loose, verbose=False)\n",
      "<ipython-input-2-c47d3aa7e58e>:40: RuntimeWarning: No average EEG reference present in info[\"projs\"], covariance may be adversely affected. Consider recomputing covariance using with an average eeg reference projector added.\n",
      "  inverse_operator = mne.minimum_norm.make_inverse_operator(epochs.info, fwd, noise_cov, loose=loose, verbose=False)\n"
     ]
    },
    {
     "name": "stdout",
     "output_type": "stream",
     "text": [
      "Not setting metadata\n",
      "Not setting metadata\n",
      "10 matching events found\n",
      "No baseline correction applied\n",
      "0 projection items activated\n",
      "Loading data for 10 events and 500 original time points ...\n",
      "0 bad epochs dropped\n",
      "Fitted sphere radius:         94.5 mm\n",
      "Origin head coordinates:      -0.1 -5.1 43.7 mm\n",
      "Origin device coordinates:    -0.1 -5.1 43.7 mm\n"
     ]
    },
    {
     "name": "stderr",
     "output_type": "stream",
     "text": [
      "/home/christian/code/acareeg/acareeg/lemon.py:58: RuntimeWarning: Limited 1 annotation(s) that were expanding outside the data range.\n",
      "  raw = mne.io.read_raw_eeglab(str(Path(root_path) / eeg_rel_path / f\"sub-{subject}_{event_id}.set\"), verbose=False)\n",
      "/home/christian/code/acareeg/acareeg/lemon.py:58: RuntimeWarning: The data contains 'boundary' events, indicating data discontinuities. Be cautious of filtering and epoching around these events.\n",
      "  raw = mne.io.read_raw_eeglab(str(Path(root_path) / eeg_rel_path / f\"sub-{subject}_{event_id}.set\"), verbose=False)\n",
      "<ipython-input-2-c47d3aa7e58e>:39: RuntimeWarning: Epochs are not baseline corrected, covariance matrix may be inaccurate\n",
      "  noise_cov = mne.compute_covariance(epochs, method=\"auto\", verbose=False).as_diag()\n",
      "<ipython-input-2-c47d3aa7e58e>:40: RuntimeWarning: No average EEG reference present in info[\"projs\"], covariance may be adversely affected. Consider recomputing covariance using with an average eeg reference projector added.\n",
      "  inverse_operator = mne.minimum_norm.make_inverse_operator(epochs.info, fwd, noise_cov, loose=loose, verbose=False)\n",
      "<ipython-input-2-c47d3aa7e58e>:40: RuntimeWarning: No average EEG reference present in info[\"projs\"], covariance may be adversely affected. Consider recomputing covariance using with an average eeg reference projector added.\n",
      "  inverse_operator = mne.minimum_norm.make_inverse_operator(epochs.info, fwd, noise_cov, loose=loose, verbose=False)\n"
     ]
    },
    {
     "name": "stdout",
     "output_type": "stream",
     "text": [
      "Not setting metadata\n",
      "Not setting metadata\n",
      "10 matching events found\n",
      "No baseline correction applied\n",
      "0 projection items activated\n",
      "Loading data for 10 events and 500 original time points ...\n",
      "0 bad epochs dropped\n",
      "Fitted sphere radius:         101.3 mm\n",
      "Origin head coordinates:      2.0 0.8 42.0 mm\n",
      "Origin device coordinates:    2.0 0.8 42.0 mm\n"
     ]
    },
    {
     "name": "stderr",
     "output_type": "stream",
     "text": [
      "/home/christian/code/acareeg/acareeg/lemon.py:58: RuntimeWarning: Limited 1 annotation(s) that were expanding outside the data range.\n",
      "  raw = mne.io.read_raw_eeglab(str(Path(root_path) / eeg_rel_path / f\"sub-{subject}_{event_id}.set\"), verbose=False)\n",
      "/home/christian/code/acareeg/acareeg/lemon.py:58: RuntimeWarning: The data contains 'boundary' events, indicating data discontinuities. Be cautious of filtering and epoching around these events.\n",
      "  raw = mne.io.read_raw_eeglab(str(Path(root_path) / eeg_rel_path / f\"sub-{subject}_{event_id}.set\"), verbose=False)\n",
      "<ipython-input-2-c47d3aa7e58e>:39: RuntimeWarning: Epochs are not baseline corrected, covariance matrix may be inaccurate\n",
      "  noise_cov = mne.compute_covariance(epochs, method=\"auto\", verbose=False).as_diag()\n",
      "<ipython-input-2-c47d3aa7e58e>:40: RuntimeWarning: No average EEG reference present in info[\"projs\"], covariance may be adversely affected. Consider recomputing covariance using with an average eeg reference projector added.\n",
      "  inverse_operator = mne.minimum_norm.make_inverse_operator(epochs.info, fwd, noise_cov, loose=loose, verbose=False)\n",
      "<ipython-input-2-c47d3aa7e58e>:40: RuntimeWarning: No average EEG reference present in info[\"projs\"], covariance may be adversely affected. Consider recomputing covariance using with an average eeg reference projector added.\n",
      "  inverse_operator = mne.minimum_norm.make_inverse_operator(epochs.info, fwd, noise_cov, loose=loose, verbose=False)\n"
     ]
    },
    {
     "name": "stdout",
     "output_type": "stream",
     "text": [
      "Not setting metadata\n",
      "Not setting metadata\n",
      "10 matching events found\n",
      "No baseline correction applied\n",
      "0 projection items activated\n",
      "Loading data for 10 events and 500 original time points ...\n",
      "0 bad epochs dropped\n",
      "Fitted sphere radius:         96.6 mm\n",
      "Origin head coordinates:      2.1 4.9 39.7 mm\n",
      "Origin device coordinates:    2.1 4.9 39.7 mm\n"
     ]
    },
    {
     "name": "stderr",
     "output_type": "stream",
     "text": [
      "/home/christian/code/acareeg/acareeg/lemon.py:58: RuntimeWarning: Limited 1 annotation(s) that were expanding outside the data range.\n",
      "  raw = mne.io.read_raw_eeglab(str(Path(root_path) / eeg_rel_path / f\"sub-{subject}_{event_id}.set\"), verbose=False)\n",
      "/home/christian/code/acareeg/acareeg/lemon.py:58: RuntimeWarning: The data contains 'boundary' events, indicating data discontinuities. Be cautious of filtering and epoching around these events.\n",
      "  raw = mne.io.read_raw_eeglab(str(Path(root_path) / eeg_rel_path / f\"sub-{subject}_{event_id}.set\"), verbose=False)\n",
      "<ipython-input-2-c47d3aa7e58e>:39: RuntimeWarning: Epochs are not baseline corrected, covariance matrix may be inaccurate\n",
      "  noise_cov = mne.compute_covariance(epochs, method=\"auto\", verbose=False).as_diag()\n",
      "<ipython-input-2-c47d3aa7e58e>:40: RuntimeWarning: No average EEG reference present in info[\"projs\"], covariance may be adversely affected. Consider recomputing covariance using with an average eeg reference projector added.\n",
      "  inverse_operator = mne.minimum_norm.make_inverse_operator(epochs.info, fwd, noise_cov, loose=loose, verbose=False)\n",
      "<ipython-input-2-c47d3aa7e58e>:40: RuntimeWarning: No average EEG reference present in info[\"projs\"], covariance may be adversely affected. Consider recomputing covariance using with an average eeg reference projector added.\n",
      "  inverse_operator = mne.minimum_norm.make_inverse_operator(epochs.info, fwd, noise_cov, loose=loose, verbose=False)\n"
     ]
    },
    {
     "name": "stdout",
     "output_type": "stream",
     "text": [
      "Not setting metadata\n",
      "Not setting metadata\n",
      "10 matching events found\n",
      "No baseline correction applied\n",
      "0 projection items activated\n",
      "Loading data for 10 events and 500 original time points ...\n",
      "0 bad epochs dropped\n",
      "Fitted sphere radius:         103.3 mm\n",
      "Origin head coordinates:      2.4 5.8 40.3 mm\n",
      "Origin device coordinates:    2.4 5.8 40.3 mm\n"
     ]
    },
    {
     "name": "stderr",
     "output_type": "stream",
     "text": [
      "/home/christian/code/acareeg/acareeg/lemon.py:58: RuntimeWarning: Limited 1 annotation(s) that were expanding outside the data range.\n",
      "  raw = mne.io.read_raw_eeglab(str(Path(root_path) / eeg_rel_path / f\"sub-{subject}_{event_id}.set\"), verbose=False)\n",
      "/home/christian/code/acareeg/acareeg/lemon.py:58: RuntimeWarning: The data contains 'boundary' events, indicating data discontinuities. Be cautious of filtering and epoching around these events.\n",
      "  raw = mne.io.read_raw_eeglab(str(Path(root_path) / eeg_rel_path / f\"sub-{subject}_{event_id}.set\"), verbose=False)\n",
      "<ipython-input-2-c47d3aa7e58e>:39: RuntimeWarning: Epochs are not baseline corrected, covariance matrix may be inaccurate\n",
      "  noise_cov = mne.compute_covariance(epochs, method=\"auto\", verbose=False).as_diag()\n",
      "<ipython-input-2-c47d3aa7e58e>:40: RuntimeWarning: No average EEG reference present in info[\"projs\"], covariance may be adversely affected. Consider recomputing covariance using with an average eeg reference projector added.\n",
      "  inverse_operator = mne.minimum_norm.make_inverse_operator(epochs.info, fwd, noise_cov, loose=loose, verbose=False)\n",
      "<ipython-input-2-c47d3aa7e58e>:40: RuntimeWarning: No average EEG reference present in info[\"projs\"], covariance may be adversely affected. Consider recomputing covariance using with an average eeg reference projector added.\n",
      "  inverse_operator = mne.minimum_norm.make_inverse_operator(epochs.info, fwd, noise_cov, loose=loose, verbose=False)\n"
     ]
    },
    {
     "name": "stdout",
     "output_type": "stream",
     "text": [
      "Not setting metadata\n",
      "Not setting metadata\n",
      "10 matching events found\n",
      "No baseline correction applied\n",
      "0 projection items activated\n",
      "Loading data for 10 events and 500 original time points ...\n",
      "0 bad epochs dropped\n",
      "Fitted sphere radius:         100.7 mm\n",
      "Origin head coordinates:      1.1 0.4 42.0 mm\n",
      "Origin device coordinates:    1.1 0.4 42.0 mm\n"
     ]
    },
    {
     "name": "stderr",
     "output_type": "stream",
     "text": [
      "/home/christian/code/acareeg/acareeg/lemon.py:58: RuntimeWarning: Limited 1 annotation(s) that were expanding outside the data range.\n",
      "  raw = mne.io.read_raw_eeglab(str(Path(root_path) / eeg_rel_path / f\"sub-{subject}_{event_id}.set\"), verbose=False)\n",
      "/home/christian/code/acareeg/acareeg/lemon.py:58: RuntimeWarning: The data contains 'boundary' events, indicating data discontinuities. Be cautious of filtering and epoching around these events.\n",
      "  raw = mne.io.read_raw_eeglab(str(Path(root_path) / eeg_rel_path / f\"sub-{subject}_{event_id}.set\"), verbose=False)\n",
      "<ipython-input-2-c47d3aa7e58e>:39: RuntimeWarning: Epochs are not baseline corrected, covariance matrix may be inaccurate\n",
      "  noise_cov = mne.compute_covariance(epochs, method=\"auto\", verbose=False).as_diag()\n",
      "<ipython-input-2-c47d3aa7e58e>:40: RuntimeWarning: No average EEG reference present in info[\"projs\"], covariance may be adversely affected. Consider recomputing covariance using with an average eeg reference projector added.\n",
      "  inverse_operator = mne.minimum_norm.make_inverse_operator(epochs.info, fwd, noise_cov, loose=loose, verbose=False)\n",
      "<ipython-input-2-c47d3aa7e58e>:40: RuntimeWarning: No average EEG reference present in info[\"projs\"], covariance may be adversely affected. Consider recomputing covariance using with an average eeg reference projector added.\n",
      "  inverse_operator = mne.minimum_norm.make_inverse_operator(epochs.info, fwd, noise_cov, loose=loose, verbose=False)\n"
     ]
    },
    {
     "name": "stdout",
     "output_type": "stream",
     "text": [
      "Not setting metadata\n",
      "Not setting metadata\n",
      "10 matching events found\n",
      "No baseline correction applied\n",
      "0 projection items activated\n",
      "Loading data for 10 events and 500 original time points ...\n",
      "0 bad epochs dropped\n",
      "Fitted sphere radius:         98.9 mm\n",
      "Origin head coordinates:      4.5 4.0 40.4 mm\n",
      "Origin device coordinates:    4.5 4.0 40.4 mm\n"
     ]
    },
    {
     "data": {
      "application/vnd.jupyter.widget-view+json": {
       "model_id": "ebb6e7bcef244d689f81f7b43052df7b",
       "version_major": 2,
       "version_minor": 0
      },
      "text/plain": [
       "HBox(children=(FloatProgress(value=0.0, max=82.0), HTML(value='')))"
      ]
     },
     "metadata": {},
     "output_type": "display_data"
    },
    {
     "name": "stdout",
     "output_type": "stream",
     "text": [
      "\n"
     ]
    },
    {
     "data": {
      "application/vnd.jupyter.widget-view+json": {
       "model_id": "f383d0432e0d46e2af76ae6b66ef2e9e",
       "version_major": 2,
       "version_minor": 0
      },
      "text/plain": [
       "HBox(children=(FloatProgress(value=0.0, max=82.0), HTML(value='')))"
      ]
     },
     "metadata": {},
     "output_type": "display_data"
    },
    {
     "name": "stdout",
     "output_type": "stream",
     "text": [
      "\n"
     ]
    },
    {
     "data": {
      "application/vnd.jupyter.widget-view+json": {
       "model_id": "",
       "version_major": 2,
       "version_minor": 0
      },
      "text/plain": [
       "HBox(children=(FloatProgress(value=0.0, max=82.0), HTML(value='')))"
      ]
     },
     "metadata": {},
     "output_type": "display_data"
    },
    {
     "name": "stderr",
     "output_type": "stream",
     "text": [
      "/home/christian/code/acareeg/acareeg/lemon.py:58: RuntimeWarning: Limited 1 annotation(s) that were expanding outside the data range.\n",
      "  raw = mne.io.read_raw_eeglab(str(Path(root_path) / eeg_rel_path / f\"sub-{subject}_{event_id}.set\"), verbose=False)\n",
      "/home/christian/code/acareeg/acareeg/lemon.py:58: RuntimeWarning: The data contains 'boundary' events, indicating data discontinuities. Be cautious of filtering and epoching around these events.\n",
      "  raw = mne.io.read_raw_eeglab(str(Path(root_path) / eeg_rel_path / f\"sub-{subject}_{event_id}.set\"), verbose=False)\n",
      "<ipython-input-2-c47d3aa7e58e>:39: RuntimeWarning: Epochs are not baseline corrected, covariance matrix may be inaccurate\n",
      "  noise_cov = mne.compute_covariance(epochs, method=\"auto\", verbose=False).as_diag()\n",
      "<ipython-input-2-c47d3aa7e58e>:40: RuntimeWarning: No average EEG reference present in info[\"projs\"], covariance may be adversely affected. Consider recomputing covariance using with an average eeg reference projector added.\n",
      "  inverse_operator = mne.minimum_norm.make_inverse_operator(epochs.info, fwd, noise_cov, loose=loose, verbose=False)\n",
      "<ipython-input-2-c47d3aa7e58e>:40: RuntimeWarning: No average EEG reference present in info[\"projs\"], covariance may be adversely affected. Consider recomputing covariance using with an average eeg reference projector added.\n",
      "  inverse_operator = mne.minimum_norm.make_inverse_operator(epochs.info, fwd, noise_cov, loose=loose, verbose=False)\n"
     ]
    },
    {
     "name": "stdout",
     "output_type": "stream",
     "text": [
      "Not setting metadata\n",
      "Not setting metadata\n",
      "10 matching events found\n",
      "No baseline correction applied\n",
      "0 projection items activated\n",
      "Loading data for 10 events and 500 original time points ...\n",
      "0 bad epochs dropped\n",
      "Fitted sphere radius:         102.9 mm\n",
      "Origin head coordinates:      0.4 3.3 48.6 mm\n",
      "Origin device coordinates:    0.4 3.3 48.6 mm\n"
     ]
    },
    {
     "name": "stderr",
     "output_type": "stream",
     "text": [
      "/home/christian/code/acareeg/acareeg/lemon.py:58: RuntimeWarning: Limited 1 annotation(s) that were expanding outside the data range.\n",
      "  raw = mne.io.read_raw_eeglab(str(Path(root_path) / eeg_rel_path / f\"sub-{subject}_{event_id}.set\"), verbose=False)\n",
      "/home/christian/code/acareeg/acareeg/lemon.py:58: RuntimeWarning: The data contains 'boundary' events, indicating data discontinuities. Be cautious of filtering and epoching around these events.\n",
      "  raw = mne.io.read_raw_eeglab(str(Path(root_path) / eeg_rel_path / f\"sub-{subject}_{event_id}.set\"), verbose=False)\n",
      "<ipython-input-2-c47d3aa7e58e>:39: RuntimeWarning: Epochs are not baseline corrected, covariance matrix may be inaccurate\n",
      "  noise_cov = mne.compute_covariance(epochs, method=\"auto\", verbose=False).as_diag()\n",
      "<ipython-input-2-c47d3aa7e58e>:40: RuntimeWarning: No average EEG reference present in info[\"projs\"], covariance may be adversely affected. Consider recomputing covariance using with an average eeg reference projector added.\n",
      "  inverse_operator = mne.minimum_norm.make_inverse_operator(epochs.info, fwd, noise_cov, loose=loose, verbose=False)\n",
      "<ipython-input-2-c47d3aa7e58e>:40: RuntimeWarning: No average EEG reference present in info[\"projs\"], covariance may be adversely affected. Consider recomputing covariance using with an average eeg reference projector added.\n",
      "  inverse_operator = mne.minimum_norm.make_inverse_operator(epochs.info, fwd, noise_cov, loose=loose, verbose=False)\n"
     ]
    },
    {
     "name": "stdout",
     "output_type": "stream",
     "text": [
      "Not setting metadata\n",
      "Not setting metadata\n",
      "10 matching events found\n",
      "No baseline correction applied\n",
      "0 projection items activated\n",
      "Loading data for 10 events and 500 original time points ...\n",
      "0 bad epochs dropped\n",
      "Fitted sphere radius:         99.4 mm\n",
      "Origin head coordinates:      4.3 5.8 49.5 mm\n",
      "Origin device coordinates:    4.3 5.8 49.5 mm\n"
     ]
    },
    {
     "name": "stderr",
     "output_type": "stream",
     "text": [
      "/home/christian/code/acareeg/acareeg/lemon.py:58: RuntimeWarning: Limited 1 annotation(s) that were expanding outside the data range.\n",
      "  raw = mne.io.read_raw_eeglab(str(Path(root_path) / eeg_rel_path / f\"sub-{subject}_{event_id}.set\"), verbose=False)\n",
      "/home/christian/code/acareeg/acareeg/lemon.py:58: RuntimeWarning: The data contains 'boundary' events, indicating data discontinuities. Be cautious of filtering and epoching around these events.\n",
      "  raw = mne.io.read_raw_eeglab(str(Path(root_path) / eeg_rel_path / f\"sub-{subject}_{event_id}.set\"), verbose=False)\n",
      "<ipython-input-2-c47d3aa7e58e>:39: RuntimeWarning: Epochs are not baseline corrected, covariance matrix may be inaccurate\n",
      "  noise_cov = mne.compute_covariance(epochs, method=\"auto\", verbose=False).as_diag()\n",
      "<ipython-input-2-c47d3aa7e58e>:40: RuntimeWarning: No average EEG reference present in info[\"projs\"], covariance may be adversely affected. Consider recomputing covariance using with an average eeg reference projector added.\n",
      "  inverse_operator = mne.minimum_norm.make_inverse_operator(epochs.info, fwd, noise_cov, loose=loose, verbose=False)\n",
      "<ipython-input-2-c47d3aa7e58e>:40: RuntimeWarning: No average EEG reference present in info[\"projs\"], covariance may be adversely affected. Consider recomputing covariance using with an average eeg reference projector added.\n",
      "  inverse_operator = mne.minimum_norm.make_inverse_operator(epochs.info, fwd, noise_cov, loose=loose, verbose=False)\n"
     ]
    },
    {
     "name": "stdout",
     "output_type": "stream",
     "text": [
      "Not setting metadata\n",
      "Not setting metadata\n",
      "10 matching events found\n",
      "No baseline correction applied\n",
      "0 projection items activated\n",
      "Loading data for 10 events and 500 original time points ...\n",
      "0 bad epochs dropped\n",
      "Fitted sphere radius:         103.0 mm\n",
      "Origin head coordinates:      0.4 11.5 42.4 mm\n",
      "Origin device coordinates:    0.4 11.5 42.4 mm\n"
     ]
    },
    {
     "name": "stderr",
     "output_type": "stream",
     "text": [
      "/home/christian/code/acareeg/acareeg/lemon.py:58: RuntimeWarning: Limited 1 annotation(s) that were expanding outside the data range.\n",
      "  raw = mne.io.read_raw_eeglab(str(Path(root_path) / eeg_rel_path / f\"sub-{subject}_{event_id}.set\"), verbose=False)\n",
      "/home/christian/code/acareeg/acareeg/lemon.py:58: RuntimeWarning: The data contains 'boundary' events, indicating data discontinuities. Be cautious of filtering and epoching around these events.\n",
      "  raw = mne.io.read_raw_eeglab(str(Path(root_path) / eeg_rel_path / f\"sub-{subject}_{event_id}.set\"), verbose=False)\n",
      "<ipython-input-2-c47d3aa7e58e>:39: RuntimeWarning: Epochs are not baseline corrected, covariance matrix may be inaccurate\n",
      "  noise_cov = mne.compute_covariance(epochs, method=\"auto\", verbose=False).as_diag()\n",
      "<ipython-input-2-c47d3aa7e58e>:40: RuntimeWarning: No average EEG reference present in info[\"projs\"], covariance may be adversely affected. Consider recomputing covariance using with an average eeg reference projector added.\n",
      "  inverse_operator = mne.minimum_norm.make_inverse_operator(epochs.info, fwd, noise_cov, loose=loose, verbose=False)\n",
      "<ipython-input-2-c47d3aa7e58e>:40: RuntimeWarning: No average EEG reference present in info[\"projs\"], covariance may be adversely affected. Consider recomputing covariance using with an average eeg reference projector added.\n",
      "  inverse_operator = mne.minimum_norm.make_inverse_operator(epochs.info, fwd, noise_cov, loose=loose, verbose=False)\n"
     ]
    },
    {
     "name": "stdout",
     "output_type": "stream",
     "text": [
      "Not setting metadata\n",
      "Not setting metadata\n",
      "10 matching events found\n",
      "No baseline correction applied\n",
      "0 projection items activated\n",
      "Loading data for 10 events and 500 original time points ...\n",
      "0 bad epochs dropped\n",
      "Fitted sphere radius:         105.2 mm\n",
      "Origin head coordinates:      3.2 1.8 42.6 mm\n",
      "Origin device coordinates:    3.2 1.8 42.6 mm\n"
     ]
    },
    {
     "name": "stderr",
     "output_type": "stream",
     "text": [
      "/home/christian/code/acareeg/acareeg/lemon.py:58: RuntimeWarning: Limited 1 annotation(s) that were expanding outside the data range.\n",
      "  raw = mne.io.read_raw_eeglab(str(Path(root_path) / eeg_rel_path / f\"sub-{subject}_{event_id}.set\"), verbose=False)\n",
      "/home/christian/code/acareeg/acareeg/lemon.py:58: RuntimeWarning: The data contains 'boundary' events, indicating data discontinuities. Be cautious of filtering and epoching around these events.\n",
      "  raw = mne.io.read_raw_eeglab(str(Path(root_path) / eeg_rel_path / f\"sub-{subject}_{event_id}.set\"), verbose=False)\n",
      "<ipython-input-2-c47d3aa7e58e>:39: RuntimeWarning: Epochs are not baseline corrected, covariance matrix may be inaccurate\n",
      "  noise_cov = mne.compute_covariance(epochs, method=\"auto\", verbose=False).as_diag()\n",
      "<ipython-input-2-c47d3aa7e58e>:40: RuntimeWarning: No average EEG reference present in info[\"projs\"], covariance may be adversely affected. Consider recomputing covariance using with an average eeg reference projector added.\n",
      "  inverse_operator = mne.minimum_norm.make_inverse_operator(epochs.info, fwd, noise_cov, loose=loose, verbose=False)\n",
      "<ipython-input-2-c47d3aa7e58e>:40: RuntimeWarning: No average EEG reference present in info[\"projs\"], covariance may be adversely affected. Consider recomputing covariance using with an average eeg reference projector added.\n",
      "  inverse_operator = mne.minimum_norm.make_inverse_operator(epochs.info, fwd, noise_cov, loose=loose, verbose=False)\n"
     ]
    },
    {
     "name": "stdout",
     "output_type": "stream",
     "text": [
      "Not setting metadata\n",
      "Not setting metadata\n",
      "10 matching events found\n",
      "No baseline correction applied\n",
      "0 projection items activated\n",
      "Loading data for 10 events and 500 original time points ...\n",
      "0 bad epochs dropped\n",
      "Fitted sphere radius:         102.4 mm\n",
      "Origin head coordinates:      3.2 -1.4 41.5 mm\n",
      "Origin device coordinates:    3.2 -1.4 41.5 mm\n"
     ]
    },
    {
     "name": "stderr",
     "output_type": "stream",
     "text": [
      "/home/christian/code/acareeg/acareeg/lemon.py:58: RuntimeWarning: Limited 1 annotation(s) that were expanding outside the data range.\n",
      "  raw = mne.io.read_raw_eeglab(str(Path(root_path) / eeg_rel_path / f\"sub-{subject}_{event_id}.set\"), verbose=False)\n",
      "/home/christian/code/acareeg/acareeg/lemon.py:58: RuntimeWarning: The data contains 'boundary' events, indicating data discontinuities. Be cautious of filtering and epoching around these events.\n",
      "  raw = mne.io.read_raw_eeglab(str(Path(root_path) / eeg_rel_path / f\"sub-{subject}_{event_id}.set\"), verbose=False)\n",
      "<ipython-input-2-c47d3aa7e58e>:39: RuntimeWarning: Epochs are not baseline corrected, covariance matrix may be inaccurate\n",
      "  noise_cov = mne.compute_covariance(epochs, method=\"auto\", verbose=False).as_diag()\n",
      "<ipython-input-2-c47d3aa7e58e>:40: RuntimeWarning: No average EEG reference present in info[\"projs\"], covariance may be adversely affected. Consider recomputing covariance using with an average eeg reference projector added.\n",
      "  inverse_operator = mne.minimum_norm.make_inverse_operator(epochs.info, fwd, noise_cov, loose=loose, verbose=False)\n",
      "<ipython-input-2-c47d3aa7e58e>:40: RuntimeWarning: No average EEG reference present in info[\"projs\"], covariance may be adversely affected. Consider recomputing covariance using with an average eeg reference projector added.\n",
      "  inverse_operator = mne.minimum_norm.make_inverse_operator(epochs.info, fwd, noise_cov, loose=loose, verbose=False)\n"
     ]
    },
    {
     "name": "stdout",
     "output_type": "stream",
     "text": [
      "Not setting metadata\n",
      "Not setting metadata\n",
      "10 matching events found\n",
      "No baseline correction applied\n",
      "0 projection items activated\n",
      "Loading data for 10 events and 500 original time points ...\n",
      "0 bad epochs dropped\n",
      "Fitted sphere radius:         99.0 mm\n",
      "Origin head coordinates:      -2.0 3.8 53.9 mm\n",
      "Origin device coordinates:    -2.0 3.8 53.9 mm\n"
     ]
    },
    {
     "name": "stderr",
     "output_type": "stream",
     "text": [
      "/home/christian/code/acareeg/acareeg/lemon.py:58: RuntimeWarning: Limited 1 annotation(s) that were expanding outside the data range.\n",
      "  raw = mne.io.read_raw_eeglab(str(Path(root_path) / eeg_rel_path / f\"sub-{subject}_{event_id}.set\"), verbose=False)\n",
      "/home/christian/code/acareeg/acareeg/lemon.py:58: RuntimeWarning: The data contains 'boundary' events, indicating data discontinuities. Be cautious of filtering and epoching around these events.\n",
      "  raw = mne.io.read_raw_eeglab(str(Path(root_path) / eeg_rel_path / f\"sub-{subject}_{event_id}.set\"), verbose=False)\n",
      "<ipython-input-2-c47d3aa7e58e>:39: RuntimeWarning: Epochs are not baseline corrected, covariance matrix may be inaccurate\n",
      "  noise_cov = mne.compute_covariance(epochs, method=\"auto\", verbose=False).as_diag()\n",
      "<ipython-input-2-c47d3aa7e58e>:40: RuntimeWarning: No average EEG reference present in info[\"projs\"], covariance may be adversely affected. Consider recomputing covariance using with an average eeg reference projector added.\n",
      "  inverse_operator = mne.minimum_norm.make_inverse_operator(epochs.info, fwd, noise_cov, loose=loose, verbose=False)\n",
      "<ipython-input-2-c47d3aa7e58e>:40: RuntimeWarning: No average EEG reference present in info[\"projs\"], covariance may be adversely affected. Consider recomputing covariance using with an average eeg reference projector added.\n",
      "  inverse_operator = mne.minimum_norm.make_inverse_operator(epochs.info, fwd, noise_cov, loose=loose, verbose=False)\n"
     ]
    },
    {
     "name": "stdout",
     "output_type": "stream",
     "text": [
      "Not setting metadata\n",
      "Not setting metadata\n",
      "10 matching events found\n",
      "No baseline correction applied\n",
      "0 projection items activated\n",
      "Loading data for 10 events and 500 original time points ...\n",
      "0 bad epochs dropped\n",
      "Fitted sphere radius:         99.4 mm\n",
      "Origin head coordinates:      6.5 -2.2 47.2 mm\n",
      "Origin device coordinates:    6.5 -2.2 47.2 mm\n"
     ]
    },
    {
     "name": "stderr",
     "output_type": "stream",
     "text": [
      "/home/christian/code/acareeg/acareeg/lemon.py:58: RuntimeWarning: Limited 1 annotation(s) that were expanding outside the data range.\n",
      "  raw = mne.io.read_raw_eeglab(str(Path(root_path) / eeg_rel_path / f\"sub-{subject}_{event_id}.set\"), verbose=False)\n",
      "/home/christian/code/acareeg/acareeg/lemon.py:58: RuntimeWarning: The data contains 'boundary' events, indicating data discontinuities. Be cautious of filtering and epoching around these events.\n",
      "  raw = mne.io.read_raw_eeglab(str(Path(root_path) / eeg_rel_path / f\"sub-{subject}_{event_id}.set\"), verbose=False)\n",
      "<ipython-input-2-c47d3aa7e58e>:39: RuntimeWarning: Epochs are not baseline corrected, covariance matrix may be inaccurate\n",
      "  noise_cov = mne.compute_covariance(epochs, method=\"auto\", verbose=False).as_diag()\n",
      "<ipython-input-2-c47d3aa7e58e>:40: RuntimeWarning: No average EEG reference present in info[\"projs\"], covariance may be adversely affected. Consider recomputing covariance using with an average eeg reference projector added.\n",
      "  inverse_operator = mne.minimum_norm.make_inverse_operator(epochs.info, fwd, noise_cov, loose=loose, verbose=False)\n",
      "<ipython-input-2-c47d3aa7e58e>:40: RuntimeWarning: No average EEG reference present in info[\"projs\"], covariance may be adversely affected. Consider recomputing covariance using with an average eeg reference projector added.\n",
      "  inverse_operator = mne.minimum_norm.make_inverse_operator(epochs.info, fwd, noise_cov, loose=loose, verbose=False)\n"
     ]
    },
    {
     "name": "stdout",
     "output_type": "stream",
     "text": [
      "Not setting metadata\n",
      "Not setting metadata\n",
      "10 matching events found\n",
      "No baseline correction applied\n",
      "0 projection items activated\n",
      "Loading data for 10 events and 500 original time points ...\n",
      "0 bad epochs dropped\n",
      "Fitted sphere radius:         104.0 mm\n",
      "Origin head coordinates:      3.3 11.0 42.8 mm\n",
      "Origin device coordinates:    3.3 11.0 42.8 mm\n"
     ]
    },
    {
     "name": "stderr",
     "output_type": "stream",
     "text": [
      "/home/christian/code/acareeg/acareeg/lemon.py:58: RuntimeWarning: Limited 1 annotation(s) that were expanding outside the data range.\n",
      "  raw = mne.io.read_raw_eeglab(str(Path(root_path) / eeg_rel_path / f\"sub-{subject}_{event_id}.set\"), verbose=False)\n",
      "/home/christian/code/acareeg/acareeg/lemon.py:58: RuntimeWarning: The data contains 'boundary' events, indicating data discontinuities. Be cautious of filtering and epoching around these events.\n",
      "  raw = mne.io.read_raw_eeglab(str(Path(root_path) / eeg_rel_path / f\"sub-{subject}_{event_id}.set\"), verbose=False)\n",
      "<ipython-input-2-c47d3aa7e58e>:39: RuntimeWarning: Epochs are not baseline corrected, covariance matrix may be inaccurate\n",
      "  noise_cov = mne.compute_covariance(epochs, method=\"auto\", verbose=False).as_diag()\n",
      "<ipython-input-2-c47d3aa7e58e>:40: RuntimeWarning: No average EEG reference present in info[\"projs\"], covariance may be adversely affected. Consider recomputing covariance using with an average eeg reference projector added.\n",
      "  inverse_operator = mne.minimum_norm.make_inverse_operator(epochs.info, fwd, noise_cov, loose=loose, verbose=False)\n",
      "<ipython-input-2-c47d3aa7e58e>:40: RuntimeWarning: No average EEG reference present in info[\"projs\"], covariance may be adversely affected. Consider recomputing covariance using with an average eeg reference projector added.\n",
      "  inverse_operator = mne.minimum_norm.make_inverse_operator(epochs.info, fwd, noise_cov, loose=loose, verbose=False)\n"
     ]
    },
    {
     "name": "stdout",
     "output_type": "stream",
     "text": [
      "Not setting metadata\n",
      "Not setting metadata\n",
      "10 matching events found\n",
      "No baseline correction applied\n",
      "0 projection items activated\n",
      "Loading data for 10 events and 500 original time points ...\n",
      "0 bad epochs dropped\n",
      "Fitted sphere radius:         102.9 mm\n",
      "Origin head coordinates:      3.9 0.1 39.6 mm\n",
      "Origin device coordinates:    3.9 0.1 39.6 mm\n"
     ]
    },
    {
     "name": "stderr",
     "output_type": "stream",
     "text": [
      "/home/christian/code/acareeg/acareeg/lemon.py:58: RuntimeWarning: Limited 1 annotation(s) that were expanding outside the data range.\n",
      "  raw = mne.io.read_raw_eeglab(str(Path(root_path) / eeg_rel_path / f\"sub-{subject}_{event_id}.set\"), verbose=False)\n",
      "/home/christian/code/acareeg/acareeg/lemon.py:58: RuntimeWarning: The data contains 'boundary' events, indicating data discontinuities. Be cautious of filtering and epoching around these events.\n",
      "  raw = mne.io.read_raw_eeglab(str(Path(root_path) / eeg_rel_path / f\"sub-{subject}_{event_id}.set\"), verbose=False)\n",
      "<ipython-input-2-c47d3aa7e58e>:39: RuntimeWarning: Epochs are not baseline corrected, covariance matrix may be inaccurate\n",
      "  noise_cov = mne.compute_covariance(epochs, method=\"auto\", verbose=False).as_diag()\n",
      "<ipython-input-2-c47d3aa7e58e>:40: RuntimeWarning: No average EEG reference present in info[\"projs\"], covariance may be adversely affected. Consider recomputing covariance using with an average eeg reference projector added.\n",
      "  inverse_operator = mne.minimum_norm.make_inverse_operator(epochs.info, fwd, noise_cov, loose=loose, verbose=False)\n",
      "<ipython-input-2-c47d3aa7e58e>:40: RuntimeWarning: No average EEG reference present in info[\"projs\"], covariance may be adversely affected. Consider recomputing covariance using with an average eeg reference projector added.\n",
      "  inverse_operator = mne.minimum_norm.make_inverse_operator(epochs.info, fwd, noise_cov, loose=loose, verbose=False)\n"
     ]
    },
    {
     "name": "stdout",
     "output_type": "stream",
     "text": [
      "Not setting metadata\n",
      "Not setting metadata\n",
      "10 matching events found\n",
      "No baseline correction applied\n",
      "0 projection items activated\n",
      "Loading data for 10 events and 500 original time points ...\n",
      "0 bad epochs dropped\n",
      "Fitted sphere radius:         100.5 mm\n",
      "Origin head coordinates:      2.3 1.5 43.3 mm\n",
      "Origin device coordinates:    2.3 1.5 43.3 mm\n"
     ]
    },
    {
     "name": "stderr",
     "output_type": "stream",
     "text": [
      "/home/christian/code/acareeg/acareeg/lemon.py:58: RuntimeWarning: Limited 1 annotation(s) that were expanding outside the data range.\n",
      "  raw = mne.io.read_raw_eeglab(str(Path(root_path) / eeg_rel_path / f\"sub-{subject}_{event_id}.set\"), verbose=False)\n",
      "/home/christian/code/acareeg/acareeg/lemon.py:58: RuntimeWarning: The data contains 'boundary' events, indicating data discontinuities. Be cautious of filtering and epoching around these events.\n",
      "  raw = mne.io.read_raw_eeglab(str(Path(root_path) / eeg_rel_path / f\"sub-{subject}_{event_id}.set\"), verbose=False)\n",
      "<ipython-input-2-c47d3aa7e58e>:39: RuntimeWarning: Epochs are not baseline corrected, covariance matrix may be inaccurate\n",
      "  noise_cov = mne.compute_covariance(epochs, method=\"auto\", verbose=False).as_diag()\n",
      "<ipython-input-2-c47d3aa7e58e>:40: RuntimeWarning: No average EEG reference present in info[\"projs\"], covariance may be adversely affected. Consider recomputing covariance using with an average eeg reference projector added.\n",
      "  inverse_operator = mne.minimum_norm.make_inverse_operator(epochs.info, fwd, noise_cov, loose=loose, verbose=False)\n",
      "<ipython-input-2-c47d3aa7e58e>:40: RuntimeWarning: No average EEG reference present in info[\"projs\"], covariance may be adversely affected. Consider recomputing covariance using with an average eeg reference projector added.\n",
      "  inverse_operator = mne.minimum_norm.make_inverse_operator(epochs.info, fwd, noise_cov, loose=loose, verbose=False)\n"
     ]
    },
    {
     "name": "stdout",
     "output_type": "stream",
     "text": [
      "Not setting metadata\n",
      "Not setting metadata\n",
      "10 matching events found\n",
      "No baseline correction applied\n",
      "0 projection items activated\n",
      "Loading data for 10 events and 500 original time points ...\n",
      "0 bad epochs dropped\n",
      "Fitted sphere radius:         97.8 mm\n",
      "Origin head coordinates:      1.6 1.4 44.7 mm\n",
      "Origin device coordinates:    1.6 1.4 44.7 mm\n"
     ]
    },
    {
     "name": "stderr",
     "output_type": "stream",
     "text": [
      "/home/christian/code/acareeg/acareeg/lemon.py:58: RuntimeWarning: Limited 1 annotation(s) that were expanding outside the data range.\n",
      "  raw = mne.io.read_raw_eeglab(str(Path(root_path) / eeg_rel_path / f\"sub-{subject}_{event_id}.set\"), verbose=False)\n",
      "/home/christian/code/acareeg/acareeg/lemon.py:58: RuntimeWarning: The data contains 'boundary' events, indicating data discontinuities. Be cautious of filtering and epoching around these events.\n",
      "  raw = mne.io.read_raw_eeglab(str(Path(root_path) / eeg_rel_path / f\"sub-{subject}_{event_id}.set\"), verbose=False)\n",
      "<ipython-input-2-c47d3aa7e58e>:39: RuntimeWarning: Epochs are not baseline corrected, covariance matrix may be inaccurate\n",
      "  noise_cov = mne.compute_covariance(epochs, method=\"auto\", verbose=False).as_diag()\n",
      "<ipython-input-2-c47d3aa7e58e>:40: RuntimeWarning: No average EEG reference present in info[\"projs\"], covariance may be adversely affected. Consider recomputing covariance using with an average eeg reference projector added.\n",
      "  inverse_operator = mne.minimum_norm.make_inverse_operator(epochs.info, fwd, noise_cov, loose=loose, verbose=False)\n",
      "<ipython-input-2-c47d3aa7e58e>:40: RuntimeWarning: No average EEG reference present in info[\"projs\"], covariance may be adversely affected. Consider recomputing covariance using with an average eeg reference projector added.\n",
      "  inverse_operator = mne.minimum_norm.make_inverse_operator(epochs.info, fwd, noise_cov, loose=loose, verbose=False)\n"
     ]
    },
    {
     "name": "stdout",
     "output_type": "stream",
     "text": [
      "Not setting metadata\n",
      "Not setting metadata\n",
      "10 matching events found\n",
      "No baseline correction applied\n",
      "0 projection items activated\n",
      "Loading data for 10 events and 500 original time points ...\n",
      "0 bad epochs dropped\n",
      "Fitted sphere radius:         98.5 mm\n",
      "Origin head coordinates:      3.3 9.2 45.1 mm\n",
      "Origin device coordinates:    3.3 9.2 45.1 mm\n"
     ]
    },
    {
     "name": "stderr",
     "output_type": "stream",
     "text": [
      "/home/christian/code/acareeg/acareeg/lemon.py:58: RuntimeWarning: Limited 1 annotation(s) that were expanding outside the data range.\n",
      "  raw = mne.io.read_raw_eeglab(str(Path(root_path) / eeg_rel_path / f\"sub-{subject}_{event_id}.set\"), verbose=False)\n",
      "/home/christian/code/acareeg/acareeg/lemon.py:58: RuntimeWarning: The data contains 'boundary' events, indicating data discontinuities. Be cautious of filtering and epoching around these events.\n",
      "  raw = mne.io.read_raw_eeglab(str(Path(root_path) / eeg_rel_path / f\"sub-{subject}_{event_id}.set\"), verbose=False)\n",
      "<ipython-input-2-c47d3aa7e58e>:39: RuntimeWarning: Epochs are not baseline corrected, covariance matrix may be inaccurate\n",
      "  noise_cov = mne.compute_covariance(epochs, method=\"auto\", verbose=False).as_diag()\n",
      "<ipython-input-2-c47d3aa7e58e>:40: RuntimeWarning: No average EEG reference present in info[\"projs\"], covariance may be adversely affected. Consider recomputing covariance using with an average eeg reference projector added.\n",
      "  inverse_operator = mne.minimum_norm.make_inverse_operator(epochs.info, fwd, noise_cov, loose=loose, verbose=False)\n",
      "<ipython-input-2-c47d3aa7e58e>:40: RuntimeWarning: No average EEG reference present in info[\"projs\"], covariance may be adversely affected. Consider recomputing covariance using with an average eeg reference projector added.\n",
      "  inverse_operator = mne.minimum_norm.make_inverse_operator(epochs.info, fwd, noise_cov, loose=loose, verbose=False)\n"
     ]
    },
    {
     "name": "stdout",
     "output_type": "stream",
     "text": [
      "Not setting metadata\n",
      "Not setting metadata\n",
      "10 matching events found\n",
      "No baseline correction applied\n",
      "0 projection items activated\n",
      "Loading data for 10 events and 500 original time points ...\n",
      "0 bad epochs dropped\n",
      "Fitted sphere radius:         100.1 mm\n",
      "Origin head coordinates:      2.3 -1.6 39.0 mm\n",
      "Origin device coordinates:    2.3 -1.6 39.0 mm\n"
     ]
    },
    {
     "name": "stderr",
     "output_type": "stream",
     "text": [
      "/home/christian/code/acareeg/acareeg/lemon.py:58: RuntimeWarning: Limited 1 annotation(s) that were expanding outside the data range.\n",
      "  raw = mne.io.read_raw_eeglab(str(Path(root_path) / eeg_rel_path / f\"sub-{subject}_{event_id}.set\"), verbose=False)\n",
      "/home/christian/code/acareeg/acareeg/lemon.py:58: RuntimeWarning: The data contains 'boundary' events, indicating data discontinuities. Be cautious of filtering and epoching around these events.\n",
      "  raw = mne.io.read_raw_eeglab(str(Path(root_path) / eeg_rel_path / f\"sub-{subject}_{event_id}.set\"), verbose=False)\n",
      "<ipython-input-2-c47d3aa7e58e>:39: RuntimeWarning: Epochs are not baseline corrected, covariance matrix may be inaccurate\n",
      "  noise_cov = mne.compute_covariance(epochs, method=\"auto\", verbose=False).as_diag()\n",
      "<ipython-input-2-c47d3aa7e58e>:40: RuntimeWarning: No average EEG reference present in info[\"projs\"], covariance may be adversely affected. Consider recomputing covariance using with an average eeg reference projector added.\n",
      "  inverse_operator = mne.minimum_norm.make_inverse_operator(epochs.info, fwd, noise_cov, loose=loose, verbose=False)\n",
      "<ipython-input-2-c47d3aa7e58e>:40: RuntimeWarning: No average EEG reference present in info[\"projs\"], covariance may be adversely affected. Consider recomputing covariance using with an average eeg reference projector added.\n",
      "  inverse_operator = mne.minimum_norm.make_inverse_operator(epochs.info, fwd, noise_cov, loose=loose, verbose=False)\n"
     ]
    },
    {
     "name": "stdout",
     "output_type": "stream",
     "text": [
      "Not setting metadata\n",
      "Not setting metadata\n",
      "10 matching events found\n",
      "No baseline correction applied\n",
      "0 projection items activated\n",
      "Loading data for 10 events and 500 original time points ...\n",
      "0 bad epochs dropped\n",
      "Fitted sphere radius:         101.2 mm\n",
      "Origin head coordinates:      2.7 6.7 45.7 mm\n",
      "Origin device coordinates:    2.7 6.7 45.7 mm\n"
     ]
    },
    {
     "name": "stderr",
     "output_type": "stream",
     "text": [
      "/home/christian/code/acareeg/acareeg/lemon.py:58: RuntimeWarning: Limited 1 annotation(s) that were expanding outside the data range.\n",
      "  raw = mne.io.read_raw_eeglab(str(Path(root_path) / eeg_rel_path / f\"sub-{subject}_{event_id}.set\"), verbose=False)\n",
      "/home/christian/code/acareeg/acareeg/lemon.py:58: RuntimeWarning: The data contains 'boundary' events, indicating data discontinuities. Be cautious of filtering and epoching around these events.\n",
      "  raw = mne.io.read_raw_eeglab(str(Path(root_path) / eeg_rel_path / f\"sub-{subject}_{event_id}.set\"), verbose=False)\n",
      "<ipython-input-2-c47d3aa7e58e>:39: RuntimeWarning: Epochs are not baseline corrected, covariance matrix may be inaccurate\n",
      "  noise_cov = mne.compute_covariance(epochs, method=\"auto\", verbose=False).as_diag()\n",
      "<ipython-input-2-c47d3aa7e58e>:40: RuntimeWarning: No average EEG reference present in info[\"projs\"], covariance may be adversely affected. Consider recomputing covariance using with an average eeg reference projector added.\n",
      "  inverse_operator = mne.minimum_norm.make_inverse_operator(epochs.info, fwd, noise_cov, loose=loose, verbose=False)\n",
      "<ipython-input-2-c47d3aa7e58e>:40: RuntimeWarning: No average EEG reference present in info[\"projs\"], covariance may be adversely affected. Consider recomputing covariance using with an average eeg reference projector added.\n",
      "  inverse_operator = mne.minimum_norm.make_inverse_operator(epochs.info, fwd, noise_cov, loose=loose, verbose=False)\n"
     ]
    },
    {
     "name": "stdout",
     "output_type": "stream",
     "text": [
      "Not setting metadata\n",
      "Not setting metadata\n",
      "10 matching events found\n",
      "No baseline correction applied\n",
      "0 projection items activated\n",
      "Loading data for 10 events and 500 original time points ...\n",
      "0 bad epochs dropped\n",
      "Fitted sphere radius:         99.5 mm\n",
      "Origin head coordinates:      0.5 4.1 42.2 mm\n",
      "Origin device coordinates:    0.5 4.1 42.2 mm\n"
     ]
    },
    {
     "name": "stderr",
     "output_type": "stream",
     "text": [
      "/home/christian/code/acareeg/acareeg/lemon.py:58: RuntimeWarning: Limited 1 annotation(s) that were expanding outside the data range.\n",
      "  raw = mne.io.read_raw_eeglab(str(Path(root_path) / eeg_rel_path / f\"sub-{subject}_{event_id}.set\"), verbose=False)\n",
      "/home/christian/code/acareeg/acareeg/lemon.py:58: RuntimeWarning: The data contains 'boundary' events, indicating data discontinuities. Be cautious of filtering and epoching around these events.\n",
      "  raw = mne.io.read_raw_eeglab(str(Path(root_path) / eeg_rel_path / f\"sub-{subject}_{event_id}.set\"), verbose=False)\n",
      "<ipython-input-2-c47d3aa7e58e>:39: RuntimeWarning: Epochs are not baseline corrected, covariance matrix may be inaccurate\n",
      "  noise_cov = mne.compute_covariance(epochs, method=\"auto\", verbose=False).as_diag()\n",
      "<ipython-input-2-c47d3aa7e58e>:40: RuntimeWarning: No average EEG reference present in info[\"projs\"], covariance may be adversely affected. Consider recomputing covariance using with an average eeg reference projector added.\n",
      "  inverse_operator = mne.minimum_norm.make_inverse_operator(epochs.info, fwd, noise_cov, loose=loose, verbose=False)\n",
      "<ipython-input-2-c47d3aa7e58e>:40: RuntimeWarning: No average EEG reference present in info[\"projs\"], covariance may be adversely affected. Consider recomputing covariance using with an average eeg reference projector added.\n",
      "  inverse_operator = mne.minimum_norm.make_inverse_operator(epochs.info, fwd, noise_cov, loose=loose, verbose=False)\n"
     ]
    },
    {
     "name": "stdout",
     "output_type": "stream",
     "text": [
      "Not setting metadata\n",
      "Not setting metadata\n",
      "10 matching events found\n",
      "No baseline correction applied\n",
      "0 projection items activated\n",
      "Loading data for 10 events and 500 original time points ...\n",
      "0 bad epochs dropped\n",
      "Fitted sphere radius:         99.5 mm\n",
      "Origin head coordinates:      1.6 -3.6 41.7 mm\n",
      "Origin device coordinates:    1.6 -3.6 41.7 mm\n"
     ]
    },
    {
     "name": "stderr",
     "output_type": "stream",
     "text": [
      "/home/christian/code/acareeg/acareeg/lemon.py:58: RuntimeWarning: Limited 1 annotation(s) that were expanding outside the data range.\n",
      "  raw = mne.io.read_raw_eeglab(str(Path(root_path) / eeg_rel_path / f\"sub-{subject}_{event_id}.set\"), verbose=False)\n",
      "/home/christian/code/acareeg/acareeg/lemon.py:58: RuntimeWarning: The data contains 'boundary' events, indicating data discontinuities. Be cautious of filtering and epoching around these events.\n",
      "  raw = mne.io.read_raw_eeglab(str(Path(root_path) / eeg_rel_path / f\"sub-{subject}_{event_id}.set\"), verbose=False)\n",
      "<ipython-input-2-c47d3aa7e58e>:39: RuntimeWarning: Epochs are not baseline corrected, covariance matrix may be inaccurate\n",
      "  noise_cov = mne.compute_covariance(epochs, method=\"auto\", verbose=False).as_diag()\n",
      "<ipython-input-2-c47d3aa7e58e>:40: RuntimeWarning: No average EEG reference present in info[\"projs\"], covariance may be adversely affected. Consider recomputing covariance using with an average eeg reference projector added.\n",
      "  inverse_operator = mne.minimum_norm.make_inverse_operator(epochs.info, fwd, noise_cov, loose=loose, verbose=False)\n",
      "<ipython-input-2-c47d3aa7e58e>:40: RuntimeWarning: No average EEG reference present in info[\"projs\"], covariance may be adversely affected. Consider recomputing covariance using with an average eeg reference projector added.\n",
      "  inverse_operator = mne.minimum_norm.make_inverse_operator(epochs.info, fwd, noise_cov, loose=loose, verbose=False)\n"
     ]
    },
    {
     "name": "stdout",
     "output_type": "stream",
     "text": [
      "Not setting metadata\n",
      "Not setting metadata\n",
      "10 matching events found\n",
      "No baseline correction applied\n",
      "0 projection items activated\n",
      "Loading data for 10 events and 500 original time points ...\n",
      "0 bad epochs dropped\n",
      "Fitted sphere radius:         98.5 mm\n",
      "Origin head coordinates:      3.5 -2.5 45.9 mm\n",
      "Origin device coordinates:    3.5 -2.5 45.9 mm\n"
     ]
    },
    {
     "name": "stderr",
     "output_type": "stream",
     "text": [
      "/home/christian/code/acareeg/acareeg/lemon.py:58: RuntimeWarning: Limited 1 annotation(s) that were expanding outside the data range.\n",
      "  raw = mne.io.read_raw_eeglab(str(Path(root_path) / eeg_rel_path / f\"sub-{subject}_{event_id}.set\"), verbose=False)\n",
      "/home/christian/code/acareeg/acareeg/lemon.py:58: RuntimeWarning: The data contains 'boundary' events, indicating data discontinuities. Be cautious of filtering and epoching around these events.\n",
      "  raw = mne.io.read_raw_eeglab(str(Path(root_path) / eeg_rel_path / f\"sub-{subject}_{event_id}.set\"), verbose=False)\n",
      "<ipython-input-2-c47d3aa7e58e>:39: RuntimeWarning: Epochs are not baseline corrected, covariance matrix may be inaccurate\n",
      "  noise_cov = mne.compute_covariance(epochs, method=\"auto\", verbose=False).as_diag()\n",
      "<ipython-input-2-c47d3aa7e58e>:40: RuntimeWarning: No average EEG reference present in info[\"projs\"], covariance may be adversely affected. Consider recomputing covariance using with an average eeg reference projector added.\n",
      "  inverse_operator = mne.minimum_norm.make_inverse_operator(epochs.info, fwd, noise_cov, loose=loose, verbose=False)\n",
      "<ipython-input-2-c47d3aa7e58e>:40: RuntimeWarning: No average EEG reference present in info[\"projs\"], covariance may be adversely affected. Consider recomputing covariance using with an average eeg reference projector added.\n",
      "  inverse_operator = mne.minimum_norm.make_inverse_operator(epochs.info, fwd, noise_cov, loose=loose, verbose=False)\n"
     ]
    },
    {
     "name": "stdout",
     "output_type": "stream",
     "text": [
      "Not setting metadata\n",
      "Not setting metadata\n",
      "10 matching events found\n",
      "No baseline correction applied\n",
      "0 projection items activated\n",
      "Loading data for 10 events and 500 original time points ...\n",
      "0 bad epochs dropped\n",
      "Fitted sphere radius:         100.6 mm\n",
      "Origin head coordinates:      1.4 -2.2 40.7 mm\n",
      "Origin device coordinates:    1.4 -2.2 40.7 mm\n"
     ]
    },
    {
     "name": "stderr",
     "output_type": "stream",
     "text": [
      "/home/christian/code/acareeg/acareeg/lemon.py:58: RuntimeWarning: Limited 1 annotation(s) that were expanding outside the data range.\n",
      "  raw = mne.io.read_raw_eeglab(str(Path(root_path) / eeg_rel_path / f\"sub-{subject}_{event_id}.set\"), verbose=False)\n",
      "/home/christian/code/acareeg/acareeg/lemon.py:58: RuntimeWarning: The data contains 'boundary' events, indicating data discontinuities. Be cautious of filtering and epoching around these events.\n",
      "  raw = mne.io.read_raw_eeglab(str(Path(root_path) / eeg_rel_path / f\"sub-{subject}_{event_id}.set\"), verbose=False)\n",
      "<ipython-input-2-c47d3aa7e58e>:39: RuntimeWarning: Epochs are not baseline corrected, covariance matrix may be inaccurate\n",
      "  noise_cov = mne.compute_covariance(epochs, method=\"auto\", verbose=False).as_diag()\n",
      "<ipython-input-2-c47d3aa7e58e>:40: RuntimeWarning: No average EEG reference present in info[\"projs\"], covariance may be adversely affected. Consider recomputing covariance using with an average eeg reference projector added.\n",
      "  inverse_operator = mne.minimum_norm.make_inverse_operator(epochs.info, fwd, noise_cov, loose=loose, verbose=False)\n",
      "<ipython-input-2-c47d3aa7e58e>:40: RuntimeWarning: No average EEG reference present in info[\"projs\"], covariance may be adversely affected. Consider recomputing covariance using with an average eeg reference projector added.\n",
      "  inverse_operator = mne.minimum_norm.make_inverse_operator(epochs.info, fwd, noise_cov, loose=loose, verbose=False)\n"
     ]
    },
    {
     "name": "stdout",
     "output_type": "stream",
     "text": [
      "Not setting metadata\n",
      "Not setting metadata\n",
      "10 matching events found\n",
      "No baseline correction applied\n",
      "0 projection items activated\n",
      "Loading data for 10 events and 500 original time points ...\n",
      "0 bad epochs dropped\n",
      "Fitted sphere radius:         103.5 mm\n",
      "Origin head coordinates:      4.0 4.2 43.1 mm\n",
      "Origin device coordinates:    4.0 4.2 43.1 mm\n"
     ]
    },
    {
     "name": "stderr",
     "output_type": "stream",
     "text": [
      "/home/christian/code/acareeg/acareeg/lemon.py:58: RuntimeWarning: Limited 1 annotation(s) that were expanding outside the data range.\n",
      "  raw = mne.io.read_raw_eeglab(str(Path(root_path) / eeg_rel_path / f\"sub-{subject}_{event_id}.set\"), verbose=False)\n",
      "/home/christian/code/acareeg/acareeg/lemon.py:58: RuntimeWarning: The data contains 'boundary' events, indicating data discontinuities. Be cautious of filtering and epoching around these events.\n",
      "  raw = mne.io.read_raw_eeglab(str(Path(root_path) / eeg_rel_path / f\"sub-{subject}_{event_id}.set\"), verbose=False)\n",
      "<ipython-input-2-c47d3aa7e58e>:39: RuntimeWarning: Epochs are not baseline corrected, covariance matrix may be inaccurate\n",
      "  noise_cov = mne.compute_covariance(epochs, method=\"auto\", verbose=False).as_diag()\n",
      "<ipython-input-2-c47d3aa7e58e>:40: RuntimeWarning: No average EEG reference present in info[\"projs\"], covariance may be adversely affected. Consider recomputing covariance using with an average eeg reference projector added.\n",
      "  inverse_operator = mne.minimum_norm.make_inverse_operator(epochs.info, fwd, noise_cov, loose=loose, verbose=False)\n",
      "<ipython-input-2-c47d3aa7e58e>:40: RuntimeWarning: No average EEG reference present in info[\"projs\"], covariance may be adversely affected. Consider recomputing covariance using with an average eeg reference projector added.\n",
      "  inverse_operator = mne.minimum_norm.make_inverse_operator(epochs.info, fwd, noise_cov, loose=loose, verbose=False)\n"
     ]
    },
    {
     "name": "stdout",
     "output_type": "stream",
     "text": [
      "Not setting metadata\n",
      "Not setting metadata\n",
      "10 matching events found\n",
      "No baseline correction applied\n",
      "0 projection items activated\n",
      "Loading data for 10 events and 500 original time points ...\n",
      "0 bad epochs dropped\n",
      "Fitted sphere radius:         101.0 mm\n",
      "Origin head coordinates:      7.0 7.5 34.2 mm\n",
      "Origin device coordinates:    7.0 7.5 34.2 mm\n"
     ]
    },
    {
     "name": "stderr",
     "output_type": "stream",
     "text": [
      "/home/christian/code/acareeg/acareeg/lemon.py:58: RuntimeWarning: Limited 1 annotation(s) that were expanding outside the data range.\n",
      "  raw = mne.io.read_raw_eeglab(str(Path(root_path) / eeg_rel_path / f\"sub-{subject}_{event_id}.set\"), verbose=False)\n",
      "/home/christian/code/acareeg/acareeg/lemon.py:58: RuntimeWarning: The data contains 'boundary' events, indicating data discontinuities. Be cautious of filtering and epoching around these events.\n",
      "  raw = mne.io.read_raw_eeglab(str(Path(root_path) / eeg_rel_path / f\"sub-{subject}_{event_id}.set\"), verbose=False)\n",
      "<ipython-input-2-c47d3aa7e58e>:39: RuntimeWarning: Epochs are not baseline corrected, covariance matrix may be inaccurate\n",
      "  noise_cov = mne.compute_covariance(epochs, method=\"auto\", verbose=False).as_diag()\n",
      "<ipython-input-2-c47d3aa7e58e>:40: RuntimeWarning: No average EEG reference present in info[\"projs\"], covariance may be adversely affected. Consider recomputing covariance using with an average eeg reference projector added.\n",
      "  inverse_operator = mne.minimum_norm.make_inverse_operator(epochs.info, fwd, noise_cov, loose=loose, verbose=False)\n",
      "<ipython-input-2-c47d3aa7e58e>:40: RuntimeWarning: No average EEG reference present in info[\"projs\"], covariance may be adversely affected. Consider recomputing covariance using with an average eeg reference projector added.\n",
      "  inverse_operator = mne.minimum_norm.make_inverse_operator(epochs.info, fwd, noise_cov, loose=loose, verbose=False)\n"
     ]
    },
    {
     "name": "stdout",
     "output_type": "stream",
     "text": [
      "Not setting metadata\n",
      "Not setting metadata\n",
      "10 matching events found\n",
      "No baseline correction applied\n",
      "0 projection items activated\n",
      "Loading data for 10 events and 500 original time points ...\n",
      "0 bad epochs dropped\n",
      "Fitted sphere radius:         103.3 mm\n",
      "Origin head coordinates:      0.3 3.2 38.8 mm\n",
      "Origin device coordinates:    0.3 3.2 38.8 mm\n"
     ]
    },
    {
     "name": "stderr",
     "output_type": "stream",
     "text": [
      "/home/christian/code/acareeg/acareeg/lemon.py:58: RuntimeWarning: Limited 1 annotation(s) that were expanding outside the data range.\n",
      "  raw = mne.io.read_raw_eeglab(str(Path(root_path) / eeg_rel_path / f\"sub-{subject}_{event_id}.set\"), verbose=False)\n",
      "/home/christian/code/acareeg/acareeg/lemon.py:58: RuntimeWarning: The data contains 'boundary' events, indicating data discontinuities. Be cautious of filtering and epoching around these events.\n",
      "  raw = mne.io.read_raw_eeglab(str(Path(root_path) / eeg_rel_path / f\"sub-{subject}_{event_id}.set\"), verbose=False)\n",
      "<ipython-input-2-c47d3aa7e58e>:39: RuntimeWarning: Epochs are not baseline corrected, covariance matrix may be inaccurate\n",
      "  noise_cov = mne.compute_covariance(epochs, method=\"auto\", verbose=False).as_diag()\n",
      "<ipython-input-2-c47d3aa7e58e>:40: RuntimeWarning: No average EEG reference present in info[\"projs\"], covariance may be adversely affected. Consider recomputing covariance using with an average eeg reference projector added.\n",
      "  inverse_operator = mne.minimum_norm.make_inverse_operator(epochs.info, fwd, noise_cov, loose=loose, verbose=False)\n",
      "<ipython-input-2-c47d3aa7e58e>:40: RuntimeWarning: No average EEG reference present in info[\"projs\"], covariance may be adversely affected. Consider recomputing covariance using with an average eeg reference projector added.\n",
      "  inverse_operator = mne.minimum_norm.make_inverse_operator(epochs.info, fwd, noise_cov, loose=loose, verbose=False)\n"
     ]
    },
    {
     "name": "stdout",
     "output_type": "stream",
     "text": [
      "Not setting metadata\n",
      "Not setting metadata\n",
      "10 matching events found\n",
      "No baseline correction applied\n",
      "0 projection items activated\n",
      "Loading data for 10 events and 500 original time points ...\n",
      "0 bad epochs dropped\n",
      "Fitted sphere radius:         105.4 mm\n",
      "Origin head coordinates:      3.9 -2.1 48.2 mm\n",
      "Origin device coordinates:    3.9 -2.1 48.2 mm\n"
     ]
    },
    {
     "name": "stderr",
     "output_type": "stream",
     "text": [
      "/home/christian/code/acareeg/acareeg/lemon.py:58: RuntimeWarning: Limited 1 annotation(s) that were expanding outside the data range.\n",
      "  raw = mne.io.read_raw_eeglab(str(Path(root_path) / eeg_rel_path / f\"sub-{subject}_{event_id}.set\"), verbose=False)\n",
      "/home/christian/code/acareeg/acareeg/lemon.py:58: RuntimeWarning: The data contains 'boundary' events, indicating data discontinuities. Be cautious of filtering and epoching around these events.\n",
      "  raw = mne.io.read_raw_eeglab(str(Path(root_path) / eeg_rel_path / f\"sub-{subject}_{event_id}.set\"), verbose=False)\n",
      "<ipython-input-2-c47d3aa7e58e>:39: RuntimeWarning: Epochs are not baseline corrected, covariance matrix may be inaccurate\n",
      "  noise_cov = mne.compute_covariance(epochs, method=\"auto\", verbose=False).as_diag()\n",
      "<ipython-input-2-c47d3aa7e58e>:40: RuntimeWarning: No average EEG reference present in info[\"projs\"], covariance may be adversely affected. Consider recomputing covariance using with an average eeg reference projector added.\n",
      "  inverse_operator = mne.minimum_norm.make_inverse_operator(epochs.info, fwd, noise_cov, loose=loose, verbose=False)\n",
      "<ipython-input-2-c47d3aa7e58e>:40: RuntimeWarning: No average EEG reference present in info[\"projs\"], covariance may be adversely affected. Consider recomputing covariance using with an average eeg reference projector added.\n",
      "  inverse_operator = mne.minimum_norm.make_inverse_operator(epochs.info, fwd, noise_cov, loose=loose, verbose=False)\n"
     ]
    },
    {
     "name": "stdout",
     "output_type": "stream",
     "text": [
      "Not setting metadata\n",
      "Not setting metadata\n",
      "10 matching events found\n",
      "No baseline correction applied\n",
      "0 projection items activated\n",
      "Loading data for 10 events and 500 original time points ...\n",
      "0 bad epochs dropped\n",
      "Fitted sphere radius:         102.8 mm\n",
      "Origin head coordinates:      4.6 -3.7 51.4 mm\n",
      "Origin device coordinates:    4.6 -3.7 51.4 mm\n"
     ]
    },
    {
     "name": "stderr",
     "output_type": "stream",
     "text": [
      "/home/christian/code/acareeg/acareeg/lemon.py:58: RuntimeWarning: Limited 1 annotation(s) that were expanding outside the data range.\n",
      "  raw = mne.io.read_raw_eeglab(str(Path(root_path) / eeg_rel_path / f\"sub-{subject}_{event_id}.set\"), verbose=False)\n",
      "/home/christian/code/acareeg/acareeg/lemon.py:58: RuntimeWarning: The data contains 'boundary' events, indicating data discontinuities. Be cautious of filtering and epoching around these events.\n",
      "  raw = mne.io.read_raw_eeglab(str(Path(root_path) / eeg_rel_path / f\"sub-{subject}_{event_id}.set\"), verbose=False)\n",
      "<ipython-input-2-c47d3aa7e58e>:39: RuntimeWarning: Epochs are not baseline corrected, covariance matrix may be inaccurate\n",
      "  noise_cov = mne.compute_covariance(epochs, method=\"auto\", verbose=False).as_diag()\n",
      "<ipython-input-2-c47d3aa7e58e>:40: RuntimeWarning: No average EEG reference present in info[\"projs\"], covariance may be adversely affected. Consider recomputing covariance using with an average eeg reference projector added.\n",
      "  inverse_operator = mne.minimum_norm.make_inverse_operator(epochs.info, fwd, noise_cov, loose=loose, verbose=False)\n",
      "<ipython-input-2-c47d3aa7e58e>:40: RuntimeWarning: No average EEG reference present in info[\"projs\"], covariance may be adversely affected. Consider recomputing covariance using with an average eeg reference projector added.\n",
      "  inverse_operator = mne.minimum_norm.make_inverse_operator(epochs.info, fwd, noise_cov, loose=loose, verbose=False)\n"
     ]
    },
    {
     "name": "stdout",
     "output_type": "stream",
     "text": [
      "Not setting metadata\n",
      "Not setting metadata\n",
      "10 matching events found\n",
      "No baseline correction applied\n",
      "0 projection items activated\n",
      "Loading data for 10 events and 500 original time points ...\n",
      "0 bad epochs dropped\n",
      "Fitted sphere radius:         102.6 mm\n",
      "Origin head coordinates:      2.5 4.4 40.7 mm\n",
      "Origin device coordinates:    2.5 4.4 40.7 mm\n"
     ]
    },
    {
     "name": "stderr",
     "output_type": "stream",
     "text": [
      "/home/christian/code/acareeg/acareeg/lemon.py:58: RuntimeWarning: Limited 1 annotation(s) that were expanding outside the data range.\n",
      "  raw = mne.io.read_raw_eeglab(str(Path(root_path) / eeg_rel_path / f\"sub-{subject}_{event_id}.set\"), verbose=False)\n",
      "/home/christian/code/acareeg/acareeg/lemon.py:58: RuntimeWarning: The data contains 'boundary' events, indicating data discontinuities. Be cautious of filtering and epoching around these events.\n",
      "  raw = mne.io.read_raw_eeglab(str(Path(root_path) / eeg_rel_path / f\"sub-{subject}_{event_id}.set\"), verbose=False)\n",
      "<ipython-input-2-c47d3aa7e58e>:39: RuntimeWarning: Epochs are not baseline corrected, covariance matrix may be inaccurate\n",
      "  noise_cov = mne.compute_covariance(epochs, method=\"auto\", verbose=False).as_diag()\n",
      "<ipython-input-2-c47d3aa7e58e>:40: RuntimeWarning: No average EEG reference present in info[\"projs\"], covariance may be adversely affected. Consider recomputing covariance using with an average eeg reference projector added.\n",
      "  inverse_operator = mne.minimum_norm.make_inverse_operator(epochs.info, fwd, noise_cov, loose=loose, verbose=False)\n",
      "<ipython-input-2-c47d3aa7e58e>:40: RuntimeWarning: No average EEG reference present in info[\"projs\"], covariance may be adversely affected. Consider recomputing covariance using with an average eeg reference projector added.\n",
      "  inverse_operator = mne.minimum_norm.make_inverse_operator(epochs.info, fwd, noise_cov, loose=loose, verbose=False)\n"
     ]
    },
    {
     "name": "stdout",
     "output_type": "stream",
     "text": [
      "Not setting metadata\n",
      "Not setting metadata\n",
      "10 matching events found\n",
      "No baseline correction applied\n",
      "0 projection items activated\n",
      "Loading data for 10 events and 500 original time points ...\n",
      "0 bad epochs dropped\n",
      "Fitted sphere radius:         91.1 mm\n",
      "Origin head coordinates:      -7.4 -14.2 -48.0 mm\n",
      "Origin device coordinates:    -7.4 -14.2 -48.0 mm\n"
     ]
    },
    {
     "name": "stderr",
     "output_type": "stream",
     "text": [
      "/home/christian/code/acareeg/acareeg/lemon.py:58: RuntimeWarning: Limited 1 annotation(s) that were expanding outside the data range.\n",
      "  raw = mne.io.read_raw_eeglab(str(Path(root_path) / eeg_rel_path / f\"sub-{subject}_{event_id}.set\"), verbose=False)\n",
      "/home/christian/code/acareeg/acareeg/lemon.py:58: RuntimeWarning: The data contains 'boundary' events, indicating data discontinuities. Be cautious of filtering and epoching around these events.\n",
      "  raw = mne.io.read_raw_eeglab(str(Path(root_path) / eeg_rel_path / f\"sub-{subject}_{event_id}.set\"), verbose=False)\n",
      "<ipython-input-2-c47d3aa7e58e>:39: RuntimeWarning: Epochs are not baseline corrected, covariance matrix may be inaccurate\n",
      "  noise_cov = mne.compute_covariance(epochs, method=\"auto\", verbose=False).as_diag()\n",
      "<ipython-input-2-c47d3aa7e58e>:40: RuntimeWarning: No average EEG reference present in info[\"projs\"], covariance may be adversely affected. Consider recomputing covariance using with an average eeg reference projector added.\n",
      "  inverse_operator = mne.minimum_norm.make_inverse_operator(epochs.info, fwd, noise_cov, loose=loose, verbose=False)\n",
      "<ipython-input-2-c47d3aa7e58e>:40: RuntimeWarning: No average EEG reference present in info[\"projs\"], covariance may be adversely affected. Consider recomputing covariance using with an average eeg reference projector added.\n",
      "  inverse_operator = mne.minimum_norm.make_inverse_operator(epochs.info, fwd, noise_cov, loose=loose, verbose=False)\n"
     ]
    },
    {
     "name": "stdout",
     "output_type": "stream",
     "text": [
      "Not setting metadata\n",
      "Not setting metadata\n",
      "10 matching events found\n",
      "No baseline correction applied\n",
      "0 projection items activated\n",
      "Loading data for 10 events and 500 original time points ...\n",
      "0 bad epochs dropped\n",
      "Fitted sphere radius:         103.0 mm\n",
      "Origin head coordinates:      1.1 3.7 32.9 mm\n",
      "Origin device coordinates:    1.1 3.7 32.9 mm\n"
     ]
    },
    {
     "name": "stderr",
     "output_type": "stream",
     "text": [
      "/home/christian/code/acareeg/acareeg/lemon.py:58: RuntimeWarning: Limited 1 annotation(s) that were expanding outside the data range.\n",
      "  raw = mne.io.read_raw_eeglab(str(Path(root_path) / eeg_rel_path / f\"sub-{subject}_{event_id}.set\"), verbose=False)\n",
      "/home/christian/code/acareeg/acareeg/lemon.py:58: RuntimeWarning: The data contains 'boundary' events, indicating data discontinuities. Be cautious of filtering and epoching around these events.\n",
      "  raw = mne.io.read_raw_eeglab(str(Path(root_path) / eeg_rel_path / f\"sub-{subject}_{event_id}.set\"), verbose=False)\n",
      "<ipython-input-2-c47d3aa7e58e>:39: RuntimeWarning: Epochs are not baseline corrected, covariance matrix may be inaccurate\n",
      "  noise_cov = mne.compute_covariance(epochs, method=\"auto\", verbose=False).as_diag()\n",
      "<ipython-input-2-c47d3aa7e58e>:40: RuntimeWarning: No average EEG reference present in info[\"projs\"], covariance may be adversely affected. Consider recomputing covariance using with an average eeg reference projector added.\n",
      "  inverse_operator = mne.minimum_norm.make_inverse_operator(epochs.info, fwd, noise_cov, loose=loose, verbose=False)\n",
      "<ipython-input-2-c47d3aa7e58e>:40: RuntimeWarning: No average EEG reference present in info[\"projs\"], covariance may be adversely affected. Consider recomputing covariance using with an average eeg reference projector added.\n",
      "  inverse_operator = mne.minimum_norm.make_inverse_operator(epochs.info, fwd, noise_cov, loose=loose, verbose=False)\n"
     ]
    },
    {
     "name": "stdout",
     "output_type": "stream",
     "text": [
      "Not setting metadata\n",
      "Not setting metadata\n",
      "10 matching events found\n",
      "No baseline correction applied\n",
      "0 projection items activated\n",
      "Loading data for 10 events and 500 original time points ...\n",
      "0 bad epochs dropped\n",
      "Fitted sphere radius:         102.8 mm\n",
      "Origin head coordinates:      3.6 4.3 35.9 mm\n",
      "Origin device coordinates:    3.6 4.3 35.9 mm\n"
     ]
    },
    {
     "name": "stderr",
     "output_type": "stream",
     "text": [
      "/home/christian/code/acareeg/acareeg/lemon.py:58: RuntimeWarning: Limited 1 annotation(s) that were expanding outside the data range.\n",
      "  raw = mne.io.read_raw_eeglab(str(Path(root_path) / eeg_rel_path / f\"sub-{subject}_{event_id}.set\"), verbose=False)\n",
      "/home/christian/code/acareeg/acareeg/lemon.py:58: RuntimeWarning: The data contains 'boundary' events, indicating data discontinuities. Be cautious of filtering and epoching around these events.\n",
      "  raw = mne.io.read_raw_eeglab(str(Path(root_path) / eeg_rel_path / f\"sub-{subject}_{event_id}.set\"), verbose=False)\n",
      "<ipython-input-2-c47d3aa7e58e>:39: RuntimeWarning: Epochs are not baseline corrected, covariance matrix may be inaccurate\n",
      "  noise_cov = mne.compute_covariance(epochs, method=\"auto\", verbose=False).as_diag()\n",
      "<ipython-input-2-c47d3aa7e58e>:40: RuntimeWarning: No average EEG reference present in info[\"projs\"], covariance may be adversely affected. Consider recomputing covariance using with an average eeg reference projector added.\n",
      "  inverse_operator = mne.minimum_norm.make_inverse_operator(epochs.info, fwd, noise_cov, loose=loose, verbose=False)\n",
      "<ipython-input-2-c47d3aa7e58e>:40: RuntimeWarning: No average EEG reference present in info[\"projs\"], covariance may be adversely affected. Consider recomputing covariance using with an average eeg reference projector added.\n",
      "  inverse_operator = mne.minimum_norm.make_inverse_operator(epochs.info, fwd, noise_cov, loose=loose, verbose=False)\n"
     ]
    },
    {
     "name": "stdout",
     "output_type": "stream",
     "text": [
      "Not setting metadata\n",
      "Not setting metadata\n",
      "10 matching events found\n",
      "No baseline correction applied\n",
      "0 projection items activated\n",
      "Loading data for 10 events and 500 original time points ...\n",
      "0 bad epochs dropped\n",
      "Fitted sphere radius:         94.7 mm\n",
      "Origin head coordinates:      3.2 1.4 38.3 mm\n",
      "Origin device coordinates:    3.2 1.4 38.3 mm\n"
     ]
    },
    {
     "name": "stderr",
     "output_type": "stream",
     "text": [
      "/home/christian/code/acareeg/acareeg/lemon.py:58: RuntimeWarning: Limited 1 annotation(s) that were expanding outside the data range.\n",
      "  raw = mne.io.read_raw_eeglab(str(Path(root_path) / eeg_rel_path / f\"sub-{subject}_{event_id}.set\"), verbose=False)\n",
      "/home/christian/code/acareeg/acareeg/lemon.py:58: RuntimeWarning: The data contains 'boundary' events, indicating data discontinuities. Be cautious of filtering and epoching around these events.\n",
      "  raw = mne.io.read_raw_eeglab(str(Path(root_path) / eeg_rel_path / f\"sub-{subject}_{event_id}.set\"), verbose=False)\n",
      "<ipython-input-2-c47d3aa7e58e>:39: RuntimeWarning: Epochs are not baseline corrected, covariance matrix may be inaccurate\n",
      "  noise_cov = mne.compute_covariance(epochs, method=\"auto\", verbose=False).as_diag()\n",
      "<ipython-input-2-c47d3aa7e58e>:40: RuntimeWarning: No average EEG reference present in info[\"projs\"], covariance may be adversely affected. Consider recomputing covariance using with an average eeg reference projector added.\n",
      "  inverse_operator = mne.minimum_norm.make_inverse_operator(epochs.info, fwd, noise_cov, loose=loose, verbose=False)\n",
      "<ipython-input-2-c47d3aa7e58e>:40: RuntimeWarning: No average EEG reference present in info[\"projs\"], covariance may be adversely affected. Consider recomputing covariance using with an average eeg reference projector added.\n",
      "  inverse_operator = mne.minimum_norm.make_inverse_operator(epochs.info, fwd, noise_cov, loose=loose, verbose=False)\n"
     ]
    },
    {
     "name": "stdout",
     "output_type": "stream",
     "text": [
      "Not setting metadata\n",
      "Not setting metadata\n",
      "10 matching events found\n",
      "No baseline correction applied\n",
      "0 projection items activated\n",
      "Loading data for 10 events and 500 original time points ...\n",
      "0 bad epochs dropped\n",
      "Fitted sphere radius:         99.9 mm\n",
      "Origin head coordinates:      4.8 -1.5 31.8 mm\n",
      "Origin device coordinates:    4.8 -1.5 31.8 mm\n"
     ]
    },
    {
     "name": "stderr",
     "output_type": "stream",
     "text": [
      "/home/christian/code/acareeg/acareeg/lemon.py:58: RuntimeWarning: Limited 1 annotation(s) that were expanding outside the data range.\n",
      "  raw = mne.io.read_raw_eeglab(str(Path(root_path) / eeg_rel_path / f\"sub-{subject}_{event_id}.set\"), verbose=False)\n",
      "/home/christian/code/acareeg/acareeg/lemon.py:58: RuntimeWarning: The data contains 'boundary' events, indicating data discontinuities. Be cautious of filtering and epoching around these events.\n",
      "  raw = mne.io.read_raw_eeglab(str(Path(root_path) / eeg_rel_path / f\"sub-{subject}_{event_id}.set\"), verbose=False)\n",
      "<ipython-input-2-c47d3aa7e58e>:39: RuntimeWarning: Epochs are not baseline corrected, covariance matrix may be inaccurate\n",
      "  noise_cov = mne.compute_covariance(epochs, method=\"auto\", verbose=False).as_diag()\n",
      "<ipython-input-2-c47d3aa7e58e>:40: RuntimeWarning: No average EEG reference present in info[\"projs\"], covariance may be adversely affected. Consider recomputing covariance using with an average eeg reference projector added.\n",
      "  inverse_operator = mne.minimum_norm.make_inverse_operator(epochs.info, fwd, noise_cov, loose=loose, verbose=False)\n",
      "<ipython-input-2-c47d3aa7e58e>:40: RuntimeWarning: No average EEG reference present in info[\"projs\"], covariance may be adversely affected. Consider recomputing covariance using with an average eeg reference projector added.\n",
      "  inverse_operator = mne.minimum_norm.make_inverse_operator(epochs.info, fwd, noise_cov, loose=loose, verbose=False)\n"
     ]
    },
    {
     "name": "stdout",
     "output_type": "stream",
     "text": [
      "Not setting metadata\n",
      "Not setting metadata\n",
      "10 matching events found\n",
      "No baseline correction applied\n",
      "0 projection items activated\n",
      "Loading data for 10 events and 500 original time points ...\n",
      "0 bad epochs dropped\n",
      "Fitted sphere radius:         100.2 mm\n",
      "Origin head coordinates:      3.0 3.9 41.0 mm\n",
      "Origin device coordinates:    3.0 3.9 41.0 mm\n"
     ]
    },
    {
     "name": "stderr",
     "output_type": "stream",
     "text": [
      "/home/christian/code/acareeg/acareeg/lemon.py:58: RuntimeWarning: Limited 1 annotation(s) that were expanding outside the data range.\n",
      "  raw = mne.io.read_raw_eeglab(str(Path(root_path) / eeg_rel_path / f\"sub-{subject}_{event_id}.set\"), verbose=False)\n",
      "/home/christian/code/acareeg/acareeg/lemon.py:58: RuntimeWarning: The data contains 'boundary' events, indicating data discontinuities. Be cautious of filtering and epoching around these events.\n",
      "  raw = mne.io.read_raw_eeglab(str(Path(root_path) / eeg_rel_path / f\"sub-{subject}_{event_id}.set\"), verbose=False)\n",
      "<ipython-input-2-c47d3aa7e58e>:39: RuntimeWarning: Epochs are not baseline corrected, covariance matrix may be inaccurate\n",
      "  noise_cov = mne.compute_covariance(epochs, method=\"auto\", verbose=False).as_diag()\n",
      "<ipython-input-2-c47d3aa7e58e>:40: RuntimeWarning: No average EEG reference present in info[\"projs\"], covariance may be adversely affected. Consider recomputing covariance using with an average eeg reference projector added.\n",
      "  inverse_operator = mne.minimum_norm.make_inverse_operator(epochs.info, fwd, noise_cov, loose=loose, verbose=False)\n",
      "<ipython-input-2-c47d3aa7e58e>:40: RuntimeWarning: No average EEG reference present in info[\"projs\"], covariance may be adversely affected. Consider recomputing covariance using with an average eeg reference projector added.\n",
      "  inverse_operator = mne.minimum_norm.make_inverse_operator(epochs.info, fwd, noise_cov, loose=loose, verbose=False)\n"
     ]
    },
    {
     "name": "stdout",
     "output_type": "stream",
     "text": [
      "Not setting metadata\n",
      "Not setting metadata\n",
      "10 matching events found\n",
      "No baseline correction applied\n",
      "0 projection items activated\n",
      "Loading data for 10 events and 500 original time points ...\n",
      "0 bad epochs dropped\n",
      "Fitted sphere radius:         102.4 mm\n",
      "Origin head coordinates:      3.4 -1.1 38.6 mm\n",
      "Origin device coordinates:    3.4 -1.1 38.6 mm\n"
     ]
    },
    {
     "name": "stderr",
     "output_type": "stream",
     "text": [
      "/home/christian/code/acareeg/acareeg/lemon.py:58: RuntimeWarning: Limited 1 annotation(s) that were expanding outside the data range.\n",
      "  raw = mne.io.read_raw_eeglab(str(Path(root_path) / eeg_rel_path / f\"sub-{subject}_{event_id}.set\"), verbose=False)\n",
      "/home/christian/code/acareeg/acareeg/lemon.py:58: RuntimeWarning: The data contains 'boundary' events, indicating data discontinuities. Be cautious of filtering and epoching around these events.\n",
      "  raw = mne.io.read_raw_eeglab(str(Path(root_path) / eeg_rel_path / f\"sub-{subject}_{event_id}.set\"), verbose=False)\n",
      "<ipython-input-2-c47d3aa7e58e>:39: RuntimeWarning: Epochs are not baseline corrected, covariance matrix may be inaccurate\n",
      "  noise_cov = mne.compute_covariance(epochs, method=\"auto\", verbose=False).as_diag()\n",
      "<ipython-input-2-c47d3aa7e58e>:40: RuntimeWarning: No average EEG reference present in info[\"projs\"], covariance may be adversely affected. Consider recomputing covariance using with an average eeg reference projector added.\n",
      "  inverse_operator = mne.minimum_norm.make_inverse_operator(epochs.info, fwd, noise_cov, loose=loose, verbose=False)\n",
      "<ipython-input-2-c47d3aa7e58e>:40: RuntimeWarning: No average EEG reference present in info[\"projs\"], covariance may be adversely affected. Consider recomputing covariance using with an average eeg reference projector added.\n",
      "  inverse_operator = mne.minimum_norm.make_inverse_operator(epochs.info, fwd, noise_cov, loose=loose, verbose=False)\n"
     ]
    },
    {
     "name": "stdout",
     "output_type": "stream",
     "text": [
      "Not setting metadata\n",
      "Not setting metadata\n",
      "10 matching events found\n",
      "No baseline correction applied\n",
      "0 projection items activated\n",
      "Loading data for 10 events and 500 original time points ...\n",
      "0 bad epochs dropped\n",
      "Fitted sphere radius:         92.0 mm\n",
      "Origin head coordinates:      -8.6 -17.2 -43.7 mm\n",
      "Origin device coordinates:    -8.6 -17.2 -43.7 mm\n"
     ]
    },
    {
     "name": "stderr",
     "output_type": "stream",
     "text": [
      "/home/christian/code/acareeg/acareeg/lemon.py:58: RuntimeWarning: Limited 1 annotation(s) that were expanding outside the data range.\n",
      "  raw = mne.io.read_raw_eeglab(str(Path(root_path) / eeg_rel_path / f\"sub-{subject}_{event_id}.set\"), verbose=False)\n",
      "/home/christian/code/acareeg/acareeg/lemon.py:58: RuntimeWarning: The data contains 'boundary' events, indicating data discontinuities. Be cautious of filtering and epoching around these events.\n",
      "  raw = mne.io.read_raw_eeglab(str(Path(root_path) / eeg_rel_path / f\"sub-{subject}_{event_id}.set\"), verbose=False)\n",
      "<ipython-input-2-c47d3aa7e58e>:39: RuntimeWarning: Epochs are not baseline corrected, covariance matrix may be inaccurate\n",
      "  noise_cov = mne.compute_covariance(epochs, method=\"auto\", verbose=False).as_diag()\n",
      "<ipython-input-2-c47d3aa7e58e>:40: RuntimeWarning: No average EEG reference present in info[\"projs\"], covariance may be adversely affected. Consider recomputing covariance using with an average eeg reference projector added.\n",
      "  inverse_operator = mne.minimum_norm.make_inverse_operator(epochs.info, fwd, noise_cov, loose=loose, verbose=False)\n",
      "<ipython-input-2-c47d3aa7e58e>:40: RuntimeWarning: No average EEG reference present in info[\"projs\"], covariance may be adversely affected. Consider recomputing covariance using with an average eeg reference projector added.\n",
      "  inverse_operator = mne.minimum_norm.make_inverse_operator(epochs.info, fwd, noise_cov, loose=loose, verbose=False)\n"
     ]
    },
    {
     "name": "stdout",
     "output_type": "stream",
     "text": [
      "Not setting metadata\n",
      "Not setting metadata\n",
      "10 matching events found\n",
      "No baseline correction applied\n",
      "0 projection items activated\n",
      "Loading data for 10 events and 500 original time points ...\n",
      "0 bad epochs dropped\n",
      "Fitted sphere radius:         95.0 mm\n",
      "Origin head coordinates:      -2.9 -1.3 37.2 mm\n",
      "Origin device coordinates:    -2.9 -1.3 37.2 mm\n"
     ]
    },
    {
     "name": "stderr",
     "output_type": "stream",
     "text": [
      "/home/christian/code/acareeg/acareeg/lemon.py:58: RuntimeWarning: Limited 1 annotation(s) that were expanding outside the data range.\n",
      "  raw = mne.io.read_raw_eeglab(str(Path(root_path) / eeg_rel_path / f\"sub-{subject}_{event_id}.set\"), verbose=False)\n",
      "/home/christian/code/acareeg/acareeg/lemon.py:58: RuntimeWarning: The data contains 'boundary' events, indicating data discontinuities. Be cautious of filtering and epoching around these events.\n",
      "  raw = mne.io.read_raw_eeglab(str(Path(root_path) / eeg_rel_path / f\"sub-{subject}_{event_id}.set\"), verbose=False)\n",
      "<ipython-input-2-c47d3aa7e58e>:39: RuntimeWarning: Epochs are not baseline corrected, covariance matrix may be inaccurate\n",
      "  noise_cov = mne.compute_covariance(epochs, method=\"auto\", verbose=False).as_diag()\n",
      "<ipython-input-2-c47d3aa7e58e>:40: RuntimeWarning: No average EEG reference present in info[\"projs\"], covariance may be adversely affected. Consider recomputing covariance using with an average eeg reference projector added.\n",
      "  inverse_operator = mne.minimum_norm.make_inverse_operator(epochs.info, fwd, noise_cov, loose=loose, verbose=False)\n",
      "<ipython-input-2-c47d3aa7e58e>:40: RuntimeWarning: No average EEG reference present in info[\"projs\"], covariance may be adversely affected. Consider recomputing covariance using with an average eeg reference projector added.\n",
      "  inverse_operator = mne.minimum_norm.make_inverse_operator(epochs.info, fwd, noise_cov, loose=loose, verbose=False)\n"
     ]
    },
    {
     "name": "stdout",
     "output_type": "stream",
     "text": [
      "Not setting metadata\n",
      "Not setting metadata\n",
      "10 matching events found\n",
      "No baseline correction applied\n",
      "0 projection items activated\n",
      "Loading data for 10 events and 500 original time points ...\n",
      "0 bad epochs dropped\n",
      "Fitted sphere radius:         94.5 mm\n",
      "Origin head coordinates:      2.8 3.6 38.2 mm\n",
      "Origin device coordinates:    2.8 3.6 38.2 mm\n"
     ]
    },
    {
     "name": "stderr",
     "output_type": "stream",
     "text": [
      "/home/christian/code/acareeg/acareeg/lemon.py:58: RuntimeWarning: Limited 1 annotation(s) that were expanding outside the data range.\n",
      "  raw = mne.io.read_raw_eeglab(str(Path(root_path) / eeg_rel_path / f\"sub-{subject}_{event_id}.set\"), verbose=False)\n",
      "/home/christian/code/acareeg/acareeg/lemon.py:58: RuntimeWarning: The data contains 'boundary' events, indicating data discontinuities. Be cautious of filtering and epoching around these events.\n",
      "  raw = mne.io.read_raw_eeglab(str(Path(root_path) / eeg_rel_path / f\"sub-{subject}_{event_id}.set\"), verbose=False)\n",
      "<ipython-input-2-c47d3aa7e58e>:39: RuntimeWarning: Epochs are not baseline corrected, covariance matrix may be inaccurate\n",
      "  noise_cov = mne.compute_covariance(epochs, method=\"auto\", verbose=False).as_diag()\n",
      "<ipython-input-2-c47d3aa7e58e>:40: RuntimeWarning: No average EEG reference present in info[\"projs\"], covariance may be adversely affected. Consider recomputing covariance using with an average eeg reference projector added.\n",
      "  inverse_operator = mne.minimum_norm.make_inverse_operator(epochs.info, fwd, noise_cov, loose=loose, verbose=False)\n",
      "<ipython-input-2-c47d3aa7e58e>:40: RuntimeWarning: No average EEG reference present in info[\"projs\"], covariance may be adversely affected. Consider recomputing covariance using with an average eeg reference projector added.\n",
      "  inverse_operator = mne.minimum_norm.make_inverse_operator(epochs.info, fwd, noise_cov, loose=loose, verbose=False)\n"
     ]
    },
    {
     "name": "stdout",
     "output_type": "stream",
     "text": [
      "Not setting metadata\n",
      "Not setting metadata\n",
      "10 matching events found\n",
      "No baseline correction applied\n",
      "0 projection items activated\n",
      "Loading data for 10 events and 500 original time points ...\n",
      "0 bad epochs dropped\n",
      "Fitted sphere radius:         99.7 mm\n",
      "Origin head coordinates:      4.2 6.9 49.8 mm\n",
      "Origin device coordinates:    4.2 6.9 49.8 mm\n"
     ]
    },
    {
     "name": "stderr",
     "output_type": "stream",
     "text": [
      "/home/christian/code/acareeg/acareeg/lemon.py:58: RuntimeWarning: Limited 1 annotation(s) that were expanding outside the data range.\n",
      "  raw = mne.io.read_raw_eeglab(str(Path(root_path) / eeg_rel_path / f\"sub-{subject}_{event_id}.set\"), verbose=False)\n",
      "/home/christian/code/acareeg/acareeg/lemon.py:58: RuntimeWarning: The data contains 'boundary' events, indicating data discontinuities. Be cautious of filtering and epoching around these events.\n",
      "  raw = mne.io.read_raw_eeglab(str(Path(root_path) / eeg_rel_path / f\"sub-{subject}_{event_id}.set\"), verbose=False)\n",
      "<ipython-input-2-c47d3aa7e58e>:39: RuntimeWarning: Epochs are not baseline corrected, covariance matrix may be inaccurate\n",
      "  noise_cov = mne.compute_covariance(epochs, method=\"auto\", verbose=False).as_diag()\n",
      "<ipython-input-2-c47d3aa7e58e>:40: RuntimeWarning: No average EEG reference present in info[\"projs\"], covariance may be adversely affected. Consider recomputing covariance using with an average eeg reference projector added.\n",
      "  inverse_operator = mne.minimum_norm.make_inverse_operator(epochs.info, fwd, noise_cov, loose=loose, verbose=False)\n",
      "<ipython-input-2-c47d3aa7e58e>:40: RuntimeWarning: No average EEG reference present in info[\"projs\"], covariance may be adversely affected. Consider recomputing covariance using with an average eeg reference projector added.\n",
      "  inverse_operator = mne.minimum_norm.make_inverse_operator(epochs.info, fwd, noise_cov, loose=loose, verbose=False)\n"
     ]
    },
    {
     "name": "stdout",
     "output_type": "stream",
     "text": [
      "Not setting metadata\n",
      "Not setting metadata\n",
      "10 matching events found\n",
      "No baseline correction applied\n",
      "0 projection items activated\n",
      "Loading data for 10 events and 500 original time points ...\n",
      "0 bad epochs dropped\n",
      "Fitted sphere radius:         94.8 mm\n",
      "Origin head coordinates:      0.9 -2.0 43.7 mm\n",
      "Origin device coordinates:    0.9 -2.0 43.7 mm\n"
     ]
    },
    {
     "name": "stderr",
     "output_type": "stream",
     "text": [
      "/home/christian/code/acareeg/acareeg/lemon.py:58: RuntimeWarning: Limited 1 annotation(s) that were expanding outside the data range.\n",
      "  raw = mne.io.read_raw_eeglab(str(Path(root_path) / eeg_rel_path / f\"sub-{subject}_{event_id}.set\"), verbose=False)\n",
      "/home/christian/code/acareeg/acareeg/lemon.py:58: RuntimeWarning: The data contains 'boundary' events, indicating data discontinuities. Be cautious of filtering and epoching around these events.\n",
      "  raw = mne.io.read_raw_eeglab(str(Path(root_path) / eeg_rel_path / f\"sub-{subject}_{event_id}.set\"), verbose=False)\n",
      "<ipython-input-2-c47d3aa7e58e>:39: RuntimeWarning: Epochs are not baseline corrected, covariance matrix may be inaccurate\n",
      "  noise_cov = mne.compute_covariance(epochs, method=\"auto\", verbose=False).as_diag()\n",
      "<ipython-input-2-c47d3aa7e58e>:40: RuntimeWarning: No average EEG reference present in info[\"projs\"], covariance may be adversely affected. Consider recomputing covariance using with an average eeg reference projector added.\n",
      "  inverse_operator = mne.minimum_norm.make_inverse_operator(epochs.info, fwd, noise_cov, loose=loose, verbose=False)\n",
      "<ipython-input-2-c47d3aa7e58e>:40: RuntimeWarning: No average EEG reference present in info[\"projs\"], covariance may be adversely affected. Consider recomputing covariance using with an average eeg reference projector added.\n",
      "  inverse_operator = mne.minimum_norm.make_inverse_operator(epochs.info, fwd, noise_cov, loose=loose, verbose=False)\n"
     ]
    },
    {
     "name": "stdout",
     "output_type": "stream",
     "text": [
      "Not setting metadata\n",
      "Not setting metadata\n",
      "10 matching events found\n",
      "No baseline correction applied\n",
      "0 projection items activated\n",
      "Loading data for 10 events and 500 original time points ...\n",
      "0 bad epochs dropped\n",
      "Fitted sphere radius:         98.8 mm\n",
      "Origin head coordinates:      3.6 3.6 46.5 mm\n",
      "Origin device coordinates:    3.6 3.6 46.5 mm\n"
     ]
    },
    {
     "name": "stderr",
     "output_type": "stream",
     "text": [
      "/home/christian/code/acareeg/acareeg/lemon.py:58: RuntimeWarning: Limited 1 annotation(s) that were expanding outside the data range.\n",
      "  raw = mne.io.read_raw_eeglab(str(Path(root_path) / eeg_rel_path / f\"sub-{subject}_{event_id}.set\"), verbose=False)\n",
      "/home/christian/code/acareeg/acareeg/lemon.py:58: RuntimeWarning: The data contains 'boundary' events, indicating data discontinuities. Be cautious of filtering and epoching around these events.\n",
      "  raw = mne.io.read_raw_eeglab(str(Path(root_path) / eeg_rel_path / f\"sub-{subject}_{event_id}.set\"), verbose=False)\n",
      "<ipython-input-2-c47d3aa7e58e>:39: RuntimeWarning: Epochs are not baseline corrected, covariance matrix may be inaccurate\n",
      "  noise_cov = mne.compute_covariance(epochs, method=\"auto\", verbose=False).as_diag()\n",
      "<ipython-input-2-c47d3aa7e58e>:40: RuntimeWarning: No average EEG reference present in info[\"projs\"], covariance may be adversely affected. Consider recomputing covariance using with an average eeg reference projector added.\n",
      "  inverse_operator = mne.minimum_norm.make_inverse_operator(epochs.info, fwd, noise_cov, loose=loose, verbose=False)\n",
      "<ipython-input-2-c47d3aa7e58e>:40: RuntimeWarning: No average EEG reference present in info[\"projs\"], covariance may be adversely affected. Consider recomputing covariance using with an average eeg reference projector added.\n",
      "  inverse_operator = mne.minimum_norm.make_inverse_operator(epochs.info, fwd, noise_cov, loose=loose, verbose=False)\n"
     ]
    },
    {
     "name": "stdout",
     "output_type": "stream",
     "text": [
      "Not setting metadata\n",
      "Not setting metadata\n",
      "10 matching events found\n",
      "No baseline correction applied\n",
      "0 projection items activated\n",
      "Loading data for 10 events and 500 original time points ...\n",
      "0 bad epochs dropped\n",
      "Fitted sphere radius:         100.2 mm\n",
      "Origin head coordinates:      6.6 5.4 38.2 mm\n",
      "Origin device coordinates:    6.6 5.4 38.2 mm\n"
     ]
    },
    {
     "name": "stderr",
     "output_type": "stream",
     "text": [
      "/home/christian/code/acareeg/acareeg/lemon.py:58: RuntimeWarning: Limited 1 annotation(s) that were expanding outside the data range.\n",
      "  raw = mne.io.read_raw_eeglab(str(Path(root_path) / eeg_rel_path / f\"sub-{subject}_{event_id}.set\"), verbose=False)\n",
      "/home/christian/code/acareeg/acareeg/lemon.py:58: RuntimeWarning: The data contains 'boundary' events, indicating data discontinuities. Be cautious of filtering and epoching around these events.\n",
      "  raw = mne.io.read_raw_eeglab(str(Path(root_path) / eeg_rel_path / f\"sub-{subject}_{event_id}.set\"), verbose=False)\n",
      "<ipython-input-2-c47d3aa7e58e>:39: RuntimeWarning: Epochs are not baseline corrected, covariance matrix may be inaccurate\n",
      "  noise_cov = mne.compute_covariance(epochs, method=\"auto\", verbose=False).as_diag()\n",
      "<ipython-input-2-c47d3aa7e58e>:40: RuntimeWarning: No average EEG reference present in info[\"projs\"], covariance may be adversely affected. Consider recomputing covariance using with an average eeg reference projector added.\n",
      "  inverse_operator = mne.minimum_norm.make_inverse_operator(epochs.info, fwd, noise_cov, loose=loose, verbose=False)\n",
      "<ipython-input-2-c47d3aa7e58e>:40: RuntimeWarning: No average EEG reference present in info[\"projs\"], covariance may be adversely affected. Consider recomputing covariance using with an average eeg reference projector added.\n",
      "  inverse_operator = mne.minimum_norm.make_inverse_operator(epochs.info, fwd, noise_cov, loose=loose, verbose=False)\n"
     ]
    },
    {
     "name": "stdout",
     "output_type": "stream",
     "text": [
      "Not setting metadata\n",
      "Not setting metadata\n",
      "10 matching events found\n",
      "No baseline correction applied\n",
      "0 projection items activated\n",
      "Loading data for 10 events and 500 original time points ...\n",
      "0 bad epochs dropped\n",
      "Fitted sphere radius:         99.1 mm\n",
      "Origin head coordinates:      0.3 5.6 46.1 mm\n",
      "Origin device coordinates:    0.3 5.6 46.1 mm\n"
     ]
    },
    {
     "name": "stderr",
     "output_type": "stream",
     "text": [
      "/home/christian/code/acareeg/acareeg/lemon.py:58: RuntimeWarning: Limited 1 annotation(s) that were expanding outside the data range.\n",
      "  raw = mne.io.read_raw_eeglab(str(Path(root_path) / eeg_rel_path / f\"sub-{subject}_{event_id}.set\"), verbose=False)\n",
      "/home/christian/code/acareeg/acareeg/lemon.py:58: RuntimeWarning: The data contains 'boundary' events, indicating data discontinuities. Be cautious of filtering and epoching around these events.\n",
      "  raw = mne.io.read_raw_eeglab(str(Path(root_path) / eeg_rel_path / f\"sub-{subject}_{event_id}.set\"), verbose=False)\n",
      "<ipython-input-2-c47d3aa7e58e>:39: RuntimeWarning: Epochs are not baseline corrected, covariance matrix may be inaccurate\n",
      "  noise_cov = mne.compute_covariance(epochs, method=\"auto\", verbose=False).as_diag()\n",
      "<ipython-input-2-c47d3aa7e58e>:40: RuntimeWarning: No average EEG reference present in info[\"projs\"], covariance may be adversely affected. Consider recomputing covariance using with an average eeg reference projector added.\n",
      "  inverse_operator = mne.minimum_norm.make_inverse_operator(epochs.info, fwd, noise_cov, loose=loose, verbose=False)\n",
      "<ipython-input-2-c47d3aa7e58e>:40: RuntimeWarning: No average EEG reference present in info[\"projs\"], covariance may be adversely affected. Consider recomputing covariance using with an average eeg reference projector added.\n",
      "  inverse_operator = mne.minimum_norm.make_inverse_operator(epochs.info, fwd, noise_cov, loose=loose, verbose=False)\n"
     ]
    },
    {
     "name": "stdout",
     "output_type": "stream",
     "text": [
      "Not setting metadata\n",
      "Not setting metadata\n",
      "10 matching events found\n",
      "No baseline correction applied\n",
      "0 projection items activated\n",
      "Loading data for 10 events and 500 original time points ...\n",
      "0 bad epochs dropped\n",
      "Fitted sphere radius:         96.0 mm\n",
      "Origin head coordinates:      5.0 -7.1 38.0 mm\n",
      "Origin device coordinates:    5.0 -7.1 38.0 mm\n"
     ]
    },
    {
     "name": "stderr",
     "output_type": "stream",
     "text": [
      "/home/christian/code/acareeg/acareeg/lemon.py:58: RuntimeWarning: Limited 1 annotation(s) that were expanding outside the data range.\n",
      "  raw = mne.io.read_raw_eeglab(str(Path(root_path) / eeg_rel_path / f\"sub-{subject}_{event_id}.set\"), verbose=False)\n",
      "/home/christian/code/acareeg/acareeg/lemon.py:58: RuntimeWarning: The data contains 'boundary' events, indicating data discontinuities. Be cautious of filtering and epoching around these events.\n",
      "  raw = mne.io.read_raw_eeglab(str(Path(root_path) / eeg_rel_path / f\"sub-{subject}_{event_id}.set\"), verbose=False)\n",
      "<ipython-input-2-c47d3aa7e58e>:39: RuntimeWarning: Epochs are not baseline corrected, covariance matrix may be inaccurate\n",
      "  noise_cov = mne.compute_covariance(epochs, method=\"auto\", verbose=False).as_diag()\n",
      "<ipython-input-2-c47d3aa7e58e>:40: RuntimeWarning: No average EEG reference present in info[\"projs\"], covariance may be adversely affected. Consider recomputing covariance using with an average eeg reference projector added.\n",
      "  inverse_operator = mne.minimum_norm.make_inverse_operator(epochs.info, fwd, noise_cov, loose=loose, verbose=False)\n",
      "<ipython-input-2-c47d3aa7e58e>:40: RuntimeWarning: No average EEG reference present in info[\"projs\"], covariance may be adversely affected. Consider recomputing covariance using with an average eeg reference projector added.\n",
      "  inverse_operator = mne.minimum_norm.make_inverse_operator(epochs.info, fwd, noise_cov, loose=loose, verbose=False)\n"
     ]
    },
    {
     "name": "stdout",
     "output_type": "stream",
     "text": [
      "Not setting metadata\n",
      "Not setting metadata\n",
      "10 matching events found\n",
      "No baseline correction applied\n",
      "0 projection items activated\n",
      "Loading data for 10 events and 500 original time points ...\n",
      "0 bad epochs dropped\n",
      "Fitted sphere radius:         102.7 mm\n",
      "Origin head coordinates:      2.5 1.8 42.7 mm\n",
      "Origin device coordinates:    2.5 1.8 42.7 mm\n"
     ]
    },
    {
     "name": "stderr",
     "output_type": "stream",
     "text": [
      "/home/christian/code/acareeg/acareeg/lemon.py:58: RuntimeWarning: Limited 1 annotation(s) that were expanding outside the data range.\n",
      "  raw = mne.io.read_raw_eeglab(str(Path(root_path) / eeg_rel_path / f\"sub-{subject}_{event_id}.set\"), verbose=False)\n",
      "/home/christian/code/acareeg/acareeg/lemon.py:58: RuntimeWarning: The data contains 'boundary' events, indicating data discontinuities. Be cautious of filtering and epoching around these events.\n",
      "  raw = mne.io.read_raw_eeglab(str(Path(root_path) / eeg_rel_path / f\"sub-{subject}_{event_id}.set\"), verbose=False)\n",
      "<ipython-input-2-c47d3aa7e58e>:39: RuntimeWarning: Epochs are not baseline corrected, covariance matrix may be inaccurate\n",
      "  noise_cov = mne.compute_covariance(epochs, method=\"auto\", verbose=False).as_diag()\n",
      "<ipython-input-2-c47d3aa7e58e>:40: RuntimeWarning: No average EEG reference present in info[\"projs\"], covariance may be adversely affected. Consider recomputing covariance using with an average eeg reference projector added.\n",
      "  inverse_operator = mne.minimum_norm.make_inverse_operator(epochs.info, fwd, noise_cov, loose=loose, verbose=False)\n",
      "<ipython-input-2-c47d3aa7e58e>:40: RuntimeWarning: No average EEG reference present in info[\"projs\"], covariance may be adversely affected. Consider recomputing covariance using with an average eeg reference projector added.\n",
      "  inverse_operator = mne.minimum_norm.make_inverse_operator(epochs.info, fwd, noise_cov, loose=loose, verbose=False)\n"
     ]
    },
    {
     "name": "stdout",
     "output_type": "stream",
     "text": [
      "Not setting metadata\n",
      "Not setting metadata\n",
      "10 matching events found\n",
      "No baseline correction applied\n",
      "0 projection items activated\n",
      "Loading data for 10 events and 500 original time points ...\n",
      "0 bad epochs dropped\n",
      "Fitted sphere radius:         103.1 mm\n",
      "Origin head coordinates:      3.2 10.6 38.9 mm\n",
      "Origin device coordinates:    3.2 10.6 38.9 mm\n"
     ]
    },
    {
     "name": "stderr",
     "output_type": "stream",
     "text": [
      "/home/christian/code/acareeg/acareeg/lemon.py:58: RuntimeWarning: Limited 1 annotation(s) that were expanding outside the data range.\n",
      "  raw = mne.io.read_raw_eeglab(str(Path(root_path) / eeg_rel_path / f\"sub-{subject}_{event_id}.set\"), verbose=False)\n",
      "/home/christian/code/acareeg/acareeg/lemon.py:58: RuntimeWarning: The data contains 'boundary' events, indicating data discontinuities. Be cautious of filtering and epoching around these events.\n",
      "  raw = mne.io.read_raw_eeglab(str(Path(root_path) / eeg_rel_path / f\"sub-{subject}_{event_id}.set\"), verbose=False)\n",
      "<ipython-input-2-c47d3aa7e58e>:39: RuntimeWarning: Epochs are not baseline corrected, covariance matrix may be inaccurate\n",
      "  noise_cov = mne.compute_covariance(epochs, method=\"auto\", verbose=False).as_diag()\n",
      "<ipython-input-2-c47d3aa7e58e>:40: RuntimeWarning: No average EEG reference present in info[\"projs\"], covariance may be adversely affected. Consider recomputing covariance using with an average eeg reference projector added.\n",
      "  inverse_operator = mne.minimum_norm.make_inverse_operator(epochs.info, fwd, noise_cov, loose=loose, verbose=False)\n",
      "<ipython-input-2-c47d3aa7e58e>:40: RuntimeWarning: No average EEG reference present in info[\"projs\"], covariance may be adversely affected. Consider recomputing covariance using with an average eeg reference projector added.\n",
      "  inverse_operator = mne.minimum_norm.make_inverse_operator(epochs.info, fwd, noise_cov, loose=loose, verbose=False)\n"
     ]
    },
    {
     "name": "stdout",
     "output_type": "stream",
     "text": [
      "Not setting metadata\n",
      "Not setting metadata\n",
      "10 matching events found\n",
      "No baseline correction applied\n",
      "0 projection items activated\n",
      "Loading data for 10 events and 500 original time points ...\n",
      "0 bad epochs dropped\n",
      "Fitted sphere radius:         97.3 mm\n",
      "Origin head coordinates:      2.8 -1.4 42.2 mm\n",
      "Origin device coordinates:    2.8 -1.4 42.2 mm\n"
     ]
    },
    {
     "name": "stderr",
     "output_type": "stream",
     "text": [
      "/home/christian/code/acareeg/acareeg/lemon.py:58: RuntimeWarning: Limited 1 annotation(s) that were expanding outside the data range.\n",
      "  raw = mne.io.read_raw_eeglab(str(Path(root_path) / eeg_rel_path / f\"sub-{subject}_{event_id}.set\"), verbose=False)\n",
      "/home/christian/code/acareeg/acareeg/lemon.py:58: RuntimeWarning: The data contains 'boundary' events, indicating data discontinuities. Be cautious of filtering and epoching around these events.\n",
      "  raw = mne.io.read_raw_eeglab(str(Path(root_path) / eeg_rel_path / f\"sub-{subject}_{event_id}.set\"), verbose=False)\n",
      "<ipython-input-2-c47d3aa7e58e>:39: RuntimeWarning: Epochs are not baseline corrected, covariance matrix may be inaccurate\n",
      "  noise_cov = mne.compute_covariance(epochs, method=\"auto\", verbose=False).as_diag()\n",
      "<ipython-input-2-c47d3aa7e58e>:40: RuntimeWarning: No average EEG reference present in info[\"projs\"], covariance may be adversely affected. Consider recomputing covariance using with an average eeg reference projector added.\n",
      "  inverse_operator = mne.minimum_norm.make_inverse_operator(epochs.info, fwd, noise_cov, loose=loose, verbose=False)\n",
      "<ipython-input-2-c47d3aa7e58e>:40: RuntimeWarning: No average EEG reference present in info[\"projs\"], covariance may be adversely affected. Consider recomputing covariance using with an average eeg reference projector added.\n",
      "  inverse_operator = mne.minimum_norm.make_inverse_operator(epochs.info, fwd, noise_cov, loose=loose, verbose=False)\n"
     ]
    },
    {
     "name": "stdout",
     "output_type": "stream",
     "text": [
      "Not setting metadata\n",
      "Not setting metadata\n",
      "10 matching events found\n",
      "No baseline correction applied\n",
      "0 projection items activated\n",
      "Loading data for 10 events and 500 original time points ...\n",
      "0 bad epochs dropped\n",
      "Fitted sphere radius:         96.7 mm\n",
      "Origin head coordinates:      4.0 2.2 39.5 mm\n",
      "Origin device coordinates:    4.0 2.2 39.5 mm\n"
     ]
    },
    {
     "name": "stderr",
     "output_type": "stream",
     "text": [
      "/home/christian/code/acareeg/acareeg/lemon.py:58: RuntimeWarning: Limited 1 annotation(s) that were expanding outside the data range.\n",
      "  raw = mne.io.read_raw_eeglab(str(Path(root_path) / eeg_rel_path / f\"sub-{subject}_{event_id}.set\"), verbose=False)\n",
      "/home/christian/code/acareeg/acareeg/lemon.py:58: RuntimeWarning: The data contains 'boundary' events, indicating data discontinuities. Be cautious of filtering and epoching around these events.\n",
      "  raw = mne.io.read_raw_eeglab(str(Path(root_path) / eeg_rel_path / f\"sub-{subject}_{event_id}.set\"), verbose=False)\n",
      "<ipython-input-2-c47d3aa7e58e>:39: RuntimeWarning: Epochs are not baseline corrected, covariance matrix may be inaccurate\n",
      "  noise_cov = mne.compute_covariance(epochs, method=\"auto\", verbose=False).as_diag()\n",
      "<ipython-input-2-c47d3aa7e58e>:40: RuntimeWarning: No average EEG reference present in info[\"projs\"], covariance may be adversely affected. Consider recomputing covariance using with an average eeg reference projector added.\n",
      "  inverse_operator = mne.minimum_norm.make_inverse_operator(epochs.info, fwd, noise_cov, loose=loose, verbose=False)\n",
      "<ipython-input-2-c47d3aa7e58e>:40: RuntimeWarning: No average EEG reference present in info[\"projs\"], covariance may be adversely affected. Consider recomputing covariance using with an average eeg reference projector added.\n",
      "  inverse_operator = mne.minimum_norm.make_inverse_operator(epochs.info, fwd, noise_cov, loose=loose, verbose=False)\n"
     ]
    },
    {
     "name": "stdout",
     "output_type": "stream",
     "text": [
      "Not setting metadata\n",
      "Not setting metadata\n",
      "10 matching events found\n",
      "No baseline correction applied\n",
      "0 projection items activated\n",
      "Loading data for 10 events and 500 original time points ...\n",
      "0 bad epochs dropped\n",
      "Fitted sphere radius:         103.8 mm\n",
      "Origin head coordinates:      6.7 11.7 48.3 mm\n",
      "Origin device coordinates:    6.7 11.7 48.3 mm\n"
     ]
    },
    {
     "name": "stderr",
     "output_type": "stream",
     "text": [
      "/home/christian/code/acareeg/acareeg/lemon.py:58: RuntimeWarning: Limited 1 annotation(s) that were expanding outside the data range.\n",
      "  raw = mne.io.read_raw_eeglab(str(Path(root_path) / eeg_rel_path / f\"sub-{subject}_{event_id}.set\"), verbose=False)\n",
      "/home/christian/code/acareeg/acareeg/lemon.py:58: RuntimeWarning: The data contains 'boundary' events, indicating data discontinuities. Be cautious of filtering and epoching around these events.\n",
      "  raw = mne.io.read_raw_eeglab(str(Path(root_path) / eeg_rel_path / f\"sub-{subject}_{event_id}.set\"), verbose=False)\n",
      "<ipython-input-2-c47d3aa7e58e>:39: RuntimeWarning: Epochs are not baseline corrected, covariance matrix may be inaccurate\n",
      "  noise_cov = mne.compute_covariance(epochs, method=\"auto\", verbose=False).as_diag()\n",
      "<ipython-input-2-c47d3aa7e58e>:40: RuntimeWarning: No average EEG reference present in info[\"projs\"], covariance may be adversely affected. Consider recomputing covariance using with an average eeg reference projector added.\n",
      "  inverse_operator = mne.minimum_norm.make_inverse_operator(epochs.info, fwd, noise_cov, loose=loose, verbose=False)\n",
      "<ipython-input-2-c47d3aa7e58e>:40: RuntimeWarning: No average EEG reference present in info[\"projs\"], covariance may be adversely affected. Consider recomputing covariance using with an average eeg reference projector added.\n",
      "  inverse_operator = mne.minimum_norm.make_inverse_operator(epochs.info, fwd, noise_cov, loose=loose, verbose=False)\n"
     ]
    },
    {
     "name": "stdout",
     "output_type": "stream",
     "text": [
      "Not setting metadata\n",
      "Not setting metadata\n",
      "10 matching events found\n",
      "No baseline correction applied\n",
      "0 projection items activated\n",
      "Loading data for 10 events and 500 original time points ...\n",
      "0 bad epochs dropped\n",
      "Fitted sphere radius:         98.3 mm\n",
      "Origin head coordinates:      6.3 13.5 48.1 mm\n",
      "Origin device coordinates:    6.3 13.5 48.1 mm\n"
     ]
    },
    {
     "name": "stderr",
     "output_type": "stream",
     "text": [
      "/home/christian/code/acareeg/acareeg/lemon.py:58: RuntimeWarning: Limited 1 annotation(s) that were expanding outside the data range.\n",
      "  raw = mne.io.read_raw_eeglab(str(Path(root_path) / eeg_rel_path / f\"sub-{subject}_{event_id}.set\"), verbose=False)\n",
      "/home/christian/code/acareeg/acareeg/lemon.py:58: RuntimeWarning: The data contains 'boundary' events, indicating data discontinuities. Be cautious of filtering and epoching around these events.\n",
      "  raw = mne.io.read_raw_eeglab(str(Path(root_path) / eeg_rel_path / f\"sub-{subject}_{event_id}.set\"), verbose=False)\n",
      "<ipython-input-2-c47d3aa7e58e>:39: RuntimeWarning: Epochs are not baseline corrected, covariance matrix may be inaccurate\n",
      "  noise_cov = mne.compute_covariance(epochs, method=\"auto\", verbose=False).as_diag()\n",
      "<ipython-input-2-c47d3aa7e58e>:40: RuntimeWarning: No average EEG reference present in info[\"projs\"], covariance may be adversely affected. Consider recomputing covariance using with an average eeg reference projector added.\n",
      "  inverse_operator = mne.minimum_norm.make_inverse_operator(epochs.info, fwd, noise_cov, loose=loose, verbose=False)\n",
      "<ipython-input-2-c47d3aa7e58e>:40: RuntimeWarning: No average EEG reference present in info[\"projs\"], covariance may be adversely affected. Consider recomputing covariance using with an average eeg reference projector added.\n",
      "  inverse_operator = mne.minimum_norm.make_inverse_operator(epochs.info, fwd, noise_cov, loose=loose, verbose=False)\n"
     ]
    },
    {
     "name": "stdout",
     "output_type": "stream",
     "text": [
      "Not setting metadata\n",
      "Not setting metadata\n",
      "10 matching events found\n",
      "No baseline correction applied\n",
      "0 projection items activated\n",
      "Loading data for 10 events and 500 original time points ...\n",
      "0 bad epochs dropped\n",
      "Fitted sphere radius:         97.0 mm\n",
      "Origin head coordinates:      4.4 3.9 49.8 mm\n",
      "Origin device coordinates:    4.4 3.9 49.8 mm\n"
     ]
    },
    {
     "name": "stderr",
     "output_type": "stream",
     "text": [
      "/home/christian/code/acareeg/acareeg/lemon.py:58: RuntimeWarning: Limited 1 annotation(s) that were expanding outside the data range.\n",
      "  raw = mne.io.read_raw_eeglab(str(Path(root_path) / eeg_rel_path / f\"sub-{subject}_{event_id}.set\"), verbose=False)\n",
      "/home/christian/code/acareeg/acareeg/lemon.py:58: RuntimeWarning: The data contains 'boundary' events, indicating data discontinuities. Be cautious of filtering and epoching around these events.\n",
      "  raw = mne.io.read_raw_eeglab(str(Path(root_path) / eeg_rel_path / f\"sub-{subject}_{event_id}.set\"), verbose=False)\n",
      "<ipython-input-2-c47d3aa7e58e>:39: RuntimeWarning: Epochs are not baseline corrected, covariance matrix may be inaccurate\n",
      "  noise_cov = mne.compute_covariance(epochs, method=\"auto\", verbose=False).as_diag()\n",
      "<ipython-input-2-c47d3aa7e58e>:40: RuntimeWarning: No average EEG reference present in info[\"projs\"], covariance may be adversely affected. Consider recomputing covariance using with an average eeg reference projector added.\n",
      "  inverse_operator = mne.minimum_norm.make_inverse_operator(epochs.info, fwd, noise_cov, loose=loose, verbose=False)\n",
      "<ipython-input-2-c47d3aa7e58e>:40: RuntimeWarning: No average EEG reference present in info[\"projs\"], covariance may be adversely affected. Consider recomputing covariance using with an average eeg reference projector added.\n",
      "  inverse_operator = mne.minimum_norm.make_inverse_operator(epochs.info, fwd, noise_cov, loose=loose, verbose=False)\n"
     ]
    },
    {
     "name": "stdout",
     "output_type": "stream",
     "text": [
      "Not setting metadata\n",
      "Not setting metadata\n",
      "10 matching events found\n",
      "No baseline correction applied\n",
      "0 projection items activated\n",
      "Loading data for 10 events and 500 original time points ...\n",
      "0 bad epochs dropped\n",
      "Fitted sphere radius:         101.3 mm\n",
      "Origin head coordinates:      0.3 -2.6 37.6 mm\n",
      "Origin device coordinates:    0.3 -2.6 37.6 mm\n"
     ]
    },
    {
     "name": "stderr",
     "output_type": "stream",
     "text": [
      "/home/christian/code/acareeg/acareeg/lemon.py:58: RuntimeWarning: Limited 1 annotation(s) that were expanding outside the data range.\n",
      "  raw = mne.io.read_raw_eeglab(str(Path(root_path) / eeg_rel_path / f\"sub-{subject}_{event_id}.set\"), verbose=False)\n",
      "/home/christian/code/acareeg/acareeg/lemon.py:58: RuntimeWarning: The data contains 'boundary' events, indicating data discontinuities. Be cautious of filtering and epoching around these events.\n",
      "  raw = mne.io.read_raw_eeglab(str(Path(root_path) / eeg_rel_path / f\"sub-{subject}_{event_id}.set\"), verbose=False)\n",
      "<ipython-input-2-c47d3aa7e58e>:39: RuntimeWarning: Epochs are not baseline corrected, covariance matrix may be inaccurate\n",
      "  noise_cov = mne.compute_covariance(epochs, method=\"auto\", verbose=False).as_diag()\n",
      "<ipython-input-2-c47d3aa7e58e>:40: RuntimeWarning: No average EEG reference present in info[\"projs\"], covariance may be adversely affected. Consider recomputing covariance using with an average eeg reference projector added.\n",
      "  inverse_operator = mne.minimum_norm.make_inverse_operator(epochs.info, fwd, noise_cov, loose=loose, verbose=False)\n",
      "<ipython-input-2-c47d3aa7e58e>:40: RuntimeWarning: No average EEG reference present in info[\"projs\"], covariance may be adversely affected. Consider recomputing covariance using with an average eeg reference projector added.\n",
      "  inverse_operator = mne.minimum_norm.make_inverse_operator(epochs.info, fwd, noise_cov, loose=loose, verbose=False)\n"
     ]
    },
    {
     "name": "stdout",
     "output_type": "stream",
     "text": [
      "Not setting metadata\n",
      "Not setting metadata\n",
      "10 matching events found\n",
      "No baseline correction applied\n",
      "0 projection items activated\n",
      "Loading data for 10 events and 500 original time points ...\n",
      "0 bad epochs dropped\n",
      "Fitted sphere radius:         97.7 mm\n",
      "Origin head coordinates:      -2.1 2.2 48.0 mm\n",
      "Origin device coordinates:    -2.1 2.2 48.0 mm\n"
     ]
    },
    {
     "name": "stderr",
     "output_type": "stream",
     "text": [
      "/home/christian/code/acareeg/acareeg/lemon.py:58: RuntimeWarning: Limited 1 annotation(s) that were expanding outside the data range.\n",
      "  raw = mne.io.read_raw_eeglab(str(Path(root_path) / eeg_rel_path / f\"sub-{subject}_{event_id}.set\"), verbose=False)\n",
      "/home/christian/code/acareeg/acareeg/lemon.py:58: RuntimeWarning: The data contains 'boundary' events, indicating data discontinuities. Be cautious of filtering and epoching around these events.\n",
      "  raw = mne.io.read_raw_eeglab(str(Path(root_path) / eeg_rel_path / f\"sub-{subject}_{event_id}.set\"), verbose=False)\n",
      "<ipython-input-2-c47d3aa7e58e>:39: RuntimeWarning: Epochs are not baseline corrected, covariance matrix may be inaccurate\n",
      "  noise_cov = mne.compute_covariance(epochs, method=\"auto\", verbose=False).as_diag()\n",
      "<ipython-input-2-c47d3aa7e58e>:40: RuntimeWarning: No average EEG reference present in info[\"projs\"], covariance may be adversely affected. Consider recomputing covariance using with an average eeg reference projector added.\n",
      "  inverse_operator = mne.minimum_norm.make_inverse_operator(epochs.info, fwd, noise_cov, loose=loose, verbose=False)\n",
      "<ipython-input-2-c47d3aa7e58e>:40: RuntimeWarning: No average EEG reference present in info[\"projs\"], covariance may be adversely affected. Consider recomputing covariance using with an average eeg reference projector added.\n",
      "  inverse_operator = mne.minimum_norm.make_inverse_operator(epochs.info, fwd, noise_cov, loose=loose, verbose=False)\n"
     ]
    },
    {
     "name": "stdout",
     "output_type": "stream",
     "text": [
      "Not setting metadata\n",
      "Not setting metadata\n",
      "10 matching events found\n",
      "No baseline correction applied\n",
      "0 projection items activated\n",
      "Loading data for 10 events and 500 original time points ...\n",
      "0 bad epochs dropped\n",
      "Fitted sphere radius:         102.0 mm\n",
      "Origin head coordinates:      3.4 3.8 49.4 mm\n",
      "Origin device coordinates:    3.4 3.8 49.4 mm\n"
     ]
    },
    {
     "name": "stderr",
     "output_type": "stream",
     "text": [
      "/home/christian/code/acareeg/acareeg/lemon.py:58: RuntimeWarning: Limited 1 annotation(s) that were expanding outside the data range.\n",
      "  raw = mne.io.read_raw_eeglab(str(Path(root_path) / eeg_rel_path / f\"sub-{subject}_{event_id}.set\"), verbose=False)\n",
      "/home/christian/code/acareeg/acareeg/lemon.py:58: RuntimeWarning: The data contains 'boundary' events, indicating data discontinuities. Be cautious of filtering and epoching around these events.\n",
      "  raw = mne.io.read_raw_eeglab(str(Path(root_path) / eeg_rel_path / f\"sub-{subject}_{event_id}.set\"), verbose=False)\n",
      "<ipython-input-2-c47d3aa7e58e>:39: RuntimeWarning: Epochs are not baseline corrected, covariance matrix may be inaccurate\n",
      "  noise_cov = mne.compute_covariance(epochs, method=\"auto\", verbose=False).as_diag()\n",
      "<ipython-input-2-c47d3aa7e58e>:40: RuntimeWarning: No average EEG reference present in info[\"projs\"], covariance may be adversely affected. Consider recomputing covariance using with an average eeg reference projector added.\n",
      "  inverse_operator = mne.minimum_norm.make_inverse_operator(epochs.info, fwd, noise_cov, loose=loose, verbose=False)\n",
      "<ipython-input-2-c47d3aa7e58e>:40: RuntimeWarning: No average EEG reference present in info[\"projs\"], covariance may be adversely affected. Consider recomputing covariance using with an average eeg reference projector added.\n",
      "  inverse_operator = mne.minimum_norm.make_inverse_operator(epochs.info, fwd, noise_cov, loose=loose, verbose=False)\n"
     ]
    },
    {
     "name": "stdout",
     "output_type": "stream",
     "text": [
      "Not setting metadata\n",
      "Not setting metadata\n",
      "10 matching events found\n",
      "No baseline correction applied\n",
      "0 projection items activated\n",
      "Loading data for 10 events and 500 original time points ...\n",
      "0 bad epochs dropped\n",
      "Fitted sphere radius:         98.9 mm\n",
      "Origin head coordinates:      4.1 1.5 40.1 mm\n",
      "Origin device coordinates:    4.1 1.5 40.1 mm\n"
     ]
    },
    {
     "name": "stderr",
     "output_type": "stream",
     "text": [
      "/home/christian/code/acareeg/acareeg/lemon.py:58: RuntimeWarning: Limited 1 annotation(s) that were expanding outside the data range.\n",
      "  raw = mne.io.read_raw_eeglab(str(Path(root_path) / eeg_rel_path / f\"sub-{subject}_{event_id}.set\"), verbose=False)\n",
      "/home/christian/code/acareeg/acareeg/lemon.py:58: RuntimeWarning: The data contains 'boundary' events, indicating data discontinuities. Be cautious of filtering and epoching around these events.\n",
      "  raw = mne.io.read_raw_eeglab(str(Path(root_path) / eeg_rel_path / f\"sub-{subject}_{event_id}.set\"), verbose=False)\n",
      "<ipython-input-2-c47d3aa7e58e>:39: RuntimeWarning: Epochs are not baseline corrected, covariance matrix may be inaccurate\n",
      "  noise_cov = mne.compute_covariance(epochs, method=\"auto\", verbose=False).as_diag()\n",
      "<ipython-input-2-c47d3aa7e58e>:40: RuntimeWarning: No average EEG reference present in info[\"projs\"], covariance may be adversely affected. Consider recomputing covariance using with an average eeg reference projector added.\n",
      "  inverse_operator = mne.minimum_norm.make_inverse_operator(epochs.info, fwd, noise_cov, loose=loose, verbose=False)\n",
      "<ipython-input-2-c47d3aa7e58e>:40: RuntimeWarning: No average EEG reference present in info[\"projs\"], covariance may be adversely affected. Consider recomputing covariance using with an average eeg reference projector added.\n",
      "  inverse_operator = mne.minimum_norm.make_inverse_operator(epochs.info, fwd, noise_cov, loose=loose, verbose=False)\n"
     ]
    },
    {
     "name": "stdout",
     "output_type": "stream",
     "text": [
      "Not setting metadata\n",
      "Not setting metadata\n",
      "10 matching events found\n",
      "No baseline correction applied\n",
      "0 projection items activated\n",
      "Loading data for 10 events and 500 original time points ...\n",
      "0 bad epochs dropped\n",
      "Fitted sphere radius:         102.0 mm\n",
      "Origin head coordinates:      4.3 3.7 47.3 mm\n",
      "Origin device coordinates:    4.3 3.7 47.3 mm\n"
     ]
    },
    {
     "name": "stderr",
     "output_type": "stream",
     "text": [
      "/home/christian/code/acareeg/acareeg/lemon.py:58: RuntimeWarning: Limited 1 annotation(s) that were expanding outside the data range.\n",
      "  raw = mne.io.read_raw_eeglab(str(Path(root_path) / eeg_rel_path / f\"sub-{subject}_{event_id}.set\"), verbose=False)\n",
      "/home/christian/code/acareeg/acareeg/lemon.py:58: RuntimeWarning: The data contains 'boundary' events, indicating data discontinuities. Be cautious of filtering and epoching around these events.\n",
      "  raw = mne.io.read_raw_eeglab(str(Path(root_path) / eeg_rel_path / f\"sub-{subject}_{event_id}.set\"), verbose=False)\n",
      "<ipython-input-2-c47d3aa7e58e>:39: RuntimeWarning: Epochs are not baseline corrected, covariance matrix may be inaccurate\n",
      "  noise_cov = mne.compute_covariance(epochs, method=\"auto\", verbose=False).as_diag()\n",
      "<ipython-input-2-c47d3aa7e58e>:40: RuntimeWarning: No average EEG reference present in info[\"projs\"], covariance may be adversely affected. Consider recomputing covariance using with an average eeg reference projector added.\n",
      "  inverse_operator = mne.minimum_norm.make_inverse_operator(epochs.info, fwd, noise_cov, loose=loose, verbose=False)\n",
      "<ipython-input-2-c47d3aa7e58e>:40: RuntimeWarning: No average EEG reference present in info[\"projs\"], covariance may be adversely affected. Consider recomputing covariance using with an average eeg reference projector added.\n",
      "  inverse_operator = mne.minimum_norm.make_inverse_operator(epochs.info, fwd, noise_cov, loose=loose, verbose=False)\n"
     ]
    },
    {
     "name": "stdout",
     "output_type": "stream",
     "text": [
      "Not setting metadata\n",
      "Not setting metadata\n",
      "10 matching events found\n",
      "No baseline correction applied\n",
      "0 projection items activated\n",
      "Loading data for 10 events and 500 original time points ...\n",
      "0 bad epochs dropped\n",
      "Fitted sphere radius:         100.2 mm\n",
      "Origin head coordinates:      0.5 1.0 45.3 mm\n",
      "Origin device coordinates:    0.5 1.0 45.3 mm\n"
     ]
    },
    {
     "name": "stderr",
     "output_type": "stream",
     "text": [
      "/home/christian/code/acareeg/acareeg/lemon.py:58: RuntimeWarning: Limited 1 annotation(s) that were expanding outside the data range.\n",
      "  raw = mne.io.read_raw_eeglab(str(Path(root_path) / eeg_rel_path / f\"sub-{subject}_{event_id}.set\"), verbose=False)\n",
      "/home/christian/code/acareeg/acareeg/lemon.py:58: RuntimeWarning: The data contains 'boundary' events, indicating data discontinuities. Be cautious of filtering and epoching around these events.\n",
      "  raw = mne.io.read_raw_eeglab(str(Path(root_path) / eeg_rel_path / f\"sub-{subject}_{event_id}.set\"), verbose=False)\n",
      "<ipython-input-2-c47d3aa7e58e>:39: RuntimeWarning: Epochs are not baseline corrected, covariance matrix may be inaccurate\n",
      "  noise_cov = mne.compute_covariance(epochs, method=\"auto\", verbose=False).as_diag()\n",
      "<ipython-input-2-c47d3aa7e58e>:40: RuntimeWarning: No average EEG reference present in info[\"projs\"], covariance may be adversely affected. Consider recomputing covariance using with an average eeg reference projector added.\n",
      "  inverse_operator = mne.minimum_norm.make_inverse_operator(epochs.info, fwd, noise_cov, loose=loose, verbose=False)\n",
      "<ipython-input-2-c47d3aa7e58e>:40: RuntimeWarning: No average EEG reference present in info[\"projs\"], covariance may be adversely affected. Consider recomputing covariance using with an average eeg reference projector added.\n",
      "  inverse_operator = mne.minimum_norm.make_inverse_operator(epochs.info, fwd, noise_cov, loose=loose, verbose=False)\n"
     ]
    },
    {
     "name": "stdout",
     "output_type": "stream",
     "text": [
      "Not setting metadata\n",
      "Not setting metadata\n",
      "10 matching events found\n",
      "No baseline correction applied\n",
      "0 projection items activated\n",
      "Loading data for 10 events and 500 original time points ...\n",
      "0 bad epochs dropped\n",
      "Fitted sphere radius:         98.2 mm\n",
      "Origin head coordinates:      1.0 4.6 38.5 mm\n",
      "Origin device coordinates:    1.0 4.6 38.5 mm\n"
     ]
    },
    {
     "name": "stderr",
     "output_type": "stream",
     "text": [
      "/home/christian/code/acareeg/acareeg/lemon.py:58: RuntimeWarning: Limited 1 annotation(s) that were expanding outside the data range.\n",
      "  raw = mne.io.read_raw_eeglab(str(Path(root_path) / eeg_rel_path / f\"sub-{subject}_{event_id}.set\"), verbose=False)\n",
      "/home/christian/code/acareeg/acareeg/lemon.py:58: RuntimeWarning: The data contains 'boundary' events, indicating data discontinuities. Be cautious of filtering and epoching around these events.\n",
      "  raw = mne.io.read_raw_eeglab(str(Path(root_path) / eeg_rel_path / f\"sub-{subject}_{event_id}.set\"), verbose=False)\n",
      "<ipython-input-2-c47d3aa7e58e>:39: RuntimeWarning: Epochs are not baseline corrected, covariance matrix may be inaccurate\n",
      "  noise_cov = mne.compute_covariance(epochs, method=\"auto\", verbose=False).as_diag()\n",
      "<ipython-input-2-c47d3aa7e58e>:40: RuntimeWarning: No average EEG reference present in info[\"projs\"], covariance may be adversely affected. Consider recomputing covariance using with an average eeg reference projector added.\n",
      "  inverse_operator = mne.minimum_norm.make_inverse_operator(epochs.info, fwd, noise_cov, loose=loose, verbose=False)\n",
      "<ipython-input-2-c47d3aa7e58e>:40: RuntimeWarning: No average EEG reference present in info[\"projs\"], covariance may be adversely affected. Consider recomputing covariance using with an average eeg reference projector added.\n",
      "  inverse_operator = mne.minimum_norm.make_inverse_operator(epochs.info, fwd, noise_cov, loose=loose, verbose=False)\n"
     ]
    },
    {
     "name": "stdout",
     "output_type": "stream",
     "text": [
      "Not setting metadata\n",
      "Not setting metadata\n",
      "10 matching events found\n",
      "No baseline correction applied\n",
      "0 projection items activated\n",
      "Loading data for 10 events and 500 original time points ...\n",
      "0 bad epochs dropped\n",
      "Fitted sphere radius:         102.7 mm\n",
      "Origin head coordinates:      0.1 -0.7 38.7 mm\n",
      "Origin device coordinates:    0.1 -0.7 38.7 mm\n"
     ]
    },
    {
     "name": "stderr",
     "output_type": "stream",
     "text": [
      "/home/christian/code/acareeg/acareeg/lemon.py:58: RuntimeWarning: Limited 1 annotation(s) that were expanding outside the data range.\n",
      "  raw = mne.io.read_raw_eeglab(str(Path(root_path) / eeg_rel_path / f\"sub-{subject}_{event_id}.set\"), verbose=False)\n",
      "/home/christian/code/acareeg/acareeg/lemon.py:58: RuntimeWarning: The data contains 'boundary' events, indicating data discontinuities. Be cautious of filtering and epoching around these events.\n",
      "  raw = mne.io.read_raw_eeglab(str(Path(root_path) / eeg_rel_path / f\"sub-{subject}_{event_id}.set\"), verbose=False)\n",
      "<ipython-input-2-c47d3aa7e58e>:39: RuntimeWarning: Epochs are not baseline corrected, covariance matrix may be inaccurate\n",
      "  noise_cov = mne.compute_covariance(epochs, method=\"auto\", verbose=False).as_diag()\n",
      "<ipython-input-2-c47d3aa7e58e>:40: RuntimeWarning: No average EEG reference present in info[\"projs\"], covariance may be adversely affected. Consider recomputing covariance using with an average eeg reference projector added.\n",
      "  inverse_operator = mne.minimum_norm.make_inverse_operator(epochs.info, fwd, noise_cov, loose=loose, verbose=False)\n",
      "<ipython-input-2-c47d3aa7e58e>:40: RuntimeWarning: No average EEG reference present in info[\"projs\"], covariance may be adversely affected. Consider recomputing covariance using with an average eeg reference projector added.\n",
      "  inverse_operator = mne.minimum_norm.make_inverse_operator(epochs.info, fwd, noise_cov, loose=loose, verbose=False)\n"
     ]
    },
    {
     "name": "stdout",
     "output_type": "stream",
     "text": [
      "Not setting metadata\n",
      "Not setting metadata\n",
      "10 matching events found\n",
      "No baseline correction applied\n",
      "0 projection items activated\n",
      "Loading data for 10 events and 500 original time points ...\n",
      "0 bad epochs dropped\n",
      "Fitted sphere radius:         100.0 mm\n",
      "Origin head coordinates:      1.8 3.7 40.7 mm\n",
      "Origin device coordinates:    1.8 3.7 40.7 mm\n"
     ]
    },
    {
     "name": "stderr",
     "output_type": "stream",
     "text": [
      "/home/christian/code/acareeg/acareeg/lemon.py:58: RuntimeWarning: Limited 1 annotation(s) that were expanding outside the data range.\n",
      "  raw = mne.io.read_raw_eeglab(str(Path(root_path) / eeg_rel_path / f\"sub-{subject}_{event_id}.set\"), verbose=False)\n",
      "/home/christian/code/acareeg/acareeg/lemon.py:58: RuntimeWarning: The data contains 'boundary' events, indicating data discontinuities. Be cautious of filtering and epoching around these events.\n",
      "  raw = mne.io.read_raw_eeglab(str(Path(root_path) / eeg_rel_path / f\"sub-{subject}_{event_id}.set\"), verbose=False)\n",
      "<ipython-input-2-c47d3aa7e58e>:39: RuntimeWarning: Epochs are not baseline corrected, covariance matrix may be inaccurate\n",
      "  noise_cov = mne.compute_covariance(epochs, method=\"auto\", verbose=False).as_diag()\n",
      "<ipython-input-2-c47d3aa7e58e>:40: RuntimeWarning: No average EEG reference present in info[\"projs\"], covariance may be adversely affected. Consider recomputing covariance using with an average eeg reference projector added.\n",
      "  inverse_operator = mne.minimum_norm.make_inverse_operator(epochs.info, fwd, noise_cov, loose=loose, verbose=False)\n",
      "<ipython-input-2-c47d3aa7e58e>:40: RuntimeWarning: No average EEG reference present in info[\"projs\"], covariance may be adversely affected. Consider recomputing covariance using with an average eeg reference projector added.\n",
      "  inverse_operator = mne.minimum_norm.make_inverse_operator(epochs.info, fwd, noise_cov, loose=loose, verbose=False)\n"
     ]
    },
    {
     "name": "stdout",
     "output_type": "stream",
     "text": [
      "Not setting metadata\n",
      "Not setting metadata\n",
      "10 matching events found\n",
      "No baseline correction applied\n",
      "0 projection items activated\n",
      "Loading data for 10 events and 500 original time points ...\n",
      "0 bad epochs dropped\n",
      "Fitted sphere radius:         100.6 mm\n",
      "Origin head coordinates:      3.9 2.1 41.9 mm\n",
      "Origin device coordinates:    3.9 2.1 41.9 mm\n"
     ]
    },
    {
     "name": "stderr",
     "output_type": "stream",
     "text": [
      "/home/christian/code/acareeg/acareeg/lemon.py:58: RuntimeWarning: Limited 1 annotation(s) that were expanding outside the data range.\n",
      "  raw = mne.io.read_raw_eeglab(str(Path(root_path) / eeg_rel_path / f\"sub-{subject}_{event_id}.set\"), verbose=False)\n",
      "/home/christian/code/acareeg/acareeg/lemon.py:58: RuntimeWarning: The data contains 'boundary' events, indicating data discontinuities. Be cautious of filtering and epoching around these events.\n",
      "  raw = mne.io.read_raw_eeglab(str(Path(root_path) / eeg_rel_path / f\"sub-{subject}_{event_id}.set\"), verbose=False)\n",
      "<ipython-input-2-c47d3aa7e58e>:39: RuntimeWarning: Epochs are not baseline corrected, covariance matrix may be inaccurate\n",
      "  noise_cov = mne.compute_covariance(epochs, method=\"auto\", verbose=False).as_diag()\n",
      "<ipython-input-2-c47d3aa7e58e>:40: RuntimeWarning: No average EEG reference present in info[\"projs\"], covariance may be adversely affected. Consider recomputing covariance using with an average eeg reference projector added.\n",
      "  inverse_operator = mne.minimum_norm.make_inverse_operator(epochs.info, fwd, noise_cov, loose=loose, verbose=False)\n",
      "<ipython-input-2-c47d3aa7e58e>:40: RuntimeWarning: No average EEG reference present in info[\"projs\"], covariance may be adversely affected. Consider recomputing covariance using with an average eeg reference projector added.\n",
      "  inverse_operator = mne.minimum_norm.make_inverse_operator(epochs.info, fwd, noise_cov, loose=loose, verbose=False)\n"
     ]
    },
    {
     "name": "stdout",
     "output_type": "stream",
     "text": [
      "Not setting metadata\n",
      "Not setting metadata\n",
      "10 matching events found\n",
      "No baseline correction applied\n",
      "0 projection items activated\n",
      "Loading data for 10 events and 500 original time points ...\n",
      "0 bad epochs dropped\n",
      "Fitted sphere radius:         96.9 mm\n",
      "Origin head coordinates:      0.9 1.3 40.9 mm\n",
      "Origin device coordinates:    0.9 1.3 40.9 mm\n"
     ]
    },
    {
     "name": "stderr",
     "output_type": "stream",
     "text": [
      "/home/christian/code/acareeg/acareeg/lemon.py:58: RuntimeWarning: Limited 1 annotation(s) that were expanding outside the data range.\n",
      "  raw = mne.io.read_raw_eeglab(str(Path(root_path) / eeg_rel_path / f\"sub-{subject}_{event_id}.set\"), verbose=False)\n",
      "/home/christian/code/acareeg/acareeg/lemon.py:58: RuntimeWarning: The data contains 'boundary' events, indicating data discontinuities. Be cautious of filtering and epoching around these events.\n",
      "  raw = mne.io.read_raw_eeglab(str(Path(root_path) / eeg_rel_path / f\"sub-{subject}_{event_id}.set\"), verbose=False)\n",
      "<ipython-input-2-c47d3aa7e58e>:39: RuntimeWarning: Epochs are not baseline corrected, covariance matrix may be inaccurate\n",
      "  noise_cov = mne.compute_covariance(epochs, method=\"auto\", verbose=False).as_diag()\n",
      "<ipython-input-2-c47d3aa7e58e>:40: RuntimeWarning: No average EEG reference present in info[\"projs\"], covariance may be adversely affected. Consider recomputing covariance using with an average eeg reference projector added.\n",
      "  inverse_operator = mne.minimum_norm.make_inverse_operator(epochs.info, fwd, noise_cov, loose=loose, verbose=False)\n",
      "<ipython-input-2-c47d3aa7e58e>:40: RuntimeWarning: No average EEG reference present in info[\"projs\"], covariance may be adversely affected. Consider recomputing covariance using with an average eeg reference projector added.\n",
      "  inverse_operator = mne.minimum_norm.make_inverse_operator(epochs.info, fwd, noise_cov, loose=loose, verbose=False)\n"
     ]
    },
    {
     "name": "stdout",
     "output_type": "stream",
     "text": [
      "Not setting metadata\n",
      "Not setting metadata\n",
      "10 matching events found\n",
      "No baseline correction applied\n",
      "0 projection items activated\n",
      "Loading data for 10 events and 500 original time points ...\n",
      "0 bad epochs dropped\n",
      "Fitted sphere radius:         96.8 mm\n",
      "Origin head coordinates:      3.6 -2.7 42.9 mm\n",
      "Origin device coordinates:    3.6 -2.7 42.9 mm\n"
     ]
    },
    {
     "name": "stderr",
     "output_type": "stream",
     "text": [
      "/home/christian/code/acareeg/acareeg/lemon.py:58: RuntimeWarning: Limited 1 annotation(s) that were expanding outside the data range.\n",
      "  raw = mne.io.read_raw_eeglab(str(Path(root_path) / eeg_rel_path / f\"sub-{subject}_{event_id}.set\"), verbose=False)\n",
      "/home/christian/code/acareeg/acareeg/lemon.py:58: RuntimeWarning: The data contains 'boundary' events, indicating data discontinuities. Be cautious of filtering and epoching around these events.\n",
      "  raw = mne.io.read_raw_eeglab(str(Path(root_path) / eeg_rel_path / f\"sub-{subject}_{event_id}.set\"), verbose=False)\n",
      "<ipython-input-2-c47d3aa7e58e>:39: RuntimeWarning: Epochs are not baseline corrected, covariance matrix may be inaccurate\n",
      "  noise_cov = mne.compute_covariance(epochs, method=\"auto\", verbose=False).as_diag()\n",
      "<ipython-input-2-c47d3aa7e58e>:40: RuntimeWarning: No average EEG reference present in info[\"projs\"], covariance may be adversely affected. Consider recomputing covariance using with an average eeg reference projector added.\n",
      "  inverse_operator = mne.minimum_norm.make_inverse_operator(epochs.info, fwd, noise_cov, loose=loose, verbose=False)\n",
      "<ipython-input-2-c47d3aa7e58e>:40: RuntimeWarning: No average EEG reference present in info[\"projs\"], covariance may be adversely affected. Consider recomputing covariance using with an average eeg reference projector added.\n",
      "  inverse_operator = mne.minimum_norm.make_inverse_operator(epochs.info, fwd, noise_cov, loose=loose, verbose=False)\n"
     ]
    },
    {
     "name": "stdout",
     "output_type": "stream",
     "text": [
      "Not setting metadata\n",
      "Not setting metadata\n",
      "10 matching events found\n",
      "No baseline correction applied\n",
      "0 projection items activated\n",
      "Loading data for 10 events and 500 original time points ...\n",
      "0 bad epochs dropped\n",
      "Fitted sphere radius:         99.5 mm\n",
      "Origin head coordinates:      1.4 4.4 43.3 mm\n",
      "Origin device coordinates:    1.4 4.4 43.3 mm\n"
     ]
    },
    {
     "name": "stderr",
     "output_type": "stream",
     "text": [
      "/home/christian/code/acareeg/acareeg/lemon.py:58: RuntimeWarning: Limited 1 annotation(s) that were expanding outside the data range.\n",
      "  raw = mne.io.read_raw_eeglab(str(Path(root_path) / eeg_rel_path / f\"sub-{subject}_{event_id}.set\"), verbose=False)\n",
      "/home/christian/code/acareeg/acareeg/lemon.py:58: RuntimeWarning: The data contains 'boundary' events, indicating data discontinuities. Be cautious of filtering and epoching around these events.\n",
      "  raw = mne.io.read_raw_eeglab(str(Path(root_path) / eeg_rel_path / f\"sub-{subject}_{event_id}.set\"), verbose=False)\n",
      "<ipython-input-2-c47d3aa7e58e>:39: RuntimeWarning: Epochs are not baseline corrected, covariance matrix may be inaccurate\n",
      "  noise_cov = mne.compute_covariance(epochs, method=\"auto\", verbose=False).as_diag()\n",
      "<ipython-input-2-c47d3aa7e58e>:40: RuntimeWarning: No average EEG reference present in info[\"projs\"], covariance may be adversely affected. Consider recomputing covariance using with an average eeg reference projector added.\n",
      "  inverse_operator = mne.minimum_norm.make_inverse_operator(epochs.info, fwd, noise_cov, loose=loose, verbose=False)\n",
      "<ipython-input-2-c47d3aa7e58e>:40: RuntimeWarning: No average EEG reference present in info[\"projs\"], covariance may be adversely affected. Consider recomputing covariance using with an average eeg reference projector added.\n",
      "  inverse_operator = mne.minimum_norm.make_inverse_operator(epochs.info, fwd, noise_cov, loose=loose, verbose=False)\n"
     ]
    },
    {
     "name": "stdout",
     "output_type": "stream",
     "text": [
      "Not setting metadata\n",
      "Not setting metadata\n",
      "10 matching events found\n",
      "No baseline correction applied\n",
      "0 projection items activated\n",
      "Loading data for 10 events and 500 original time points ...\n",
      "0 bad epochs dropped\n",
      "Fitted sphere radius:         101.0 mm\n",
      "Origin head coordinates:      3.2 -4.0 47.7 mm\n",
      "Origin device coordinates:    3.2 -4.0 47.7 mm\n"
     ]
    },
    {
     "name": "stderr",
     "output_type": "stream",
     "text": [
      "/home/christian/code/acareeg/acareeg/lemon.py:58: RuntimeWarning: Limited 1 annotation(s) that were expanding outside the data range.\n",
      "  raw = mne.io.read_raw_eeglab(str(Path(root_path) / eeg_rel_path / f\"sub-{subject}_{event_id}.set\"), verbose=False)\n",
      "/home/christian/code/acareeg/acareeg/lemon.py:58: RuntimeWarning: The data contains 'boundary' events, indicating data discontinuities. Be cautious of filtering and epoching around these events.\n",
      "  raw = mne.io.read_raw_eeglab(str(Path(root_path) / eeg_rel_path / f\"sub-{subject}_{event_id}.set\"), verbose=False)\n",
      "<ipython-input-2-c47d3aa7e58e>:39: RuntimeWarning: Epochs are not baseline corrected, covariance matrix may be inaccurate\n",
      "  noise_cov = mne.compute_covariance(epochs, method=\"auto\", verbose=False).as_diag()\n",
      "<ipython-input-2-c47d3aa7e58e>:40: RuntimeWarning: No average EEG reference present in info[\"projs\"], covariance may be adversely affected. Consider recomputing covariance using with an average eeg reference projector added.\n",
      "  inverse_operator = mne.minimum_norm.make_inverse_operator(epochs.info, fwd, noise_cov, loose=loose, verbose=False)\n",
      "<ipython-input-2-c47d3aa7e58e>:40: RuntimeWarning: No average EEG reference present in info[\"projs\"], covariance may be adversely affected. Consider recomputing covariance using with an average eeg reference projector added.\n",
      "  inverse_operator = mne.minimum_norm.make_inverse_operator(epochs.info, fwd, noise_cov, loose=loose, verbose=False)\n"
     ]
    },
    {
     "name": "stdout",
     "output_type": "stream",
     "text": [
      "Not setting metadata\n",
      "Not setting metadata\n",
      "10 matching events found\n",
      "No baseline correction applied\n",
      "0 projection items activated\n",
      "Loading data for 10 events and 500 original time points ...\n",
      "0 bad epochs dropped\n",
      "Fitted sphere radius:         98.2 mm\n",
      "Origin head coordinates:      5.1 6.3 52.2 mm\n",
      "Origin device coordinates:    5.1 6.3 52.2 mm\n"
     ]
    },
    {
     "name": "stderr",
     "output_type": "stream",
     "text": [
      "/home/christian/code/acareeg/acareeg/lemon.py:58: RuntimeWarning: Limited 1 annotation(s) that were expanding outside the data range.\n",
      "  raw = mne.io.read_raw_eeglab(str(Path(root_path) / eeg_rel_path / f\"sub-{subject}_{event_id}.set\"), verbose=False)\n",
      "/home/christian/code/acareeg/acareeg/lemon.py:58: RuntimeWarning: The data contains 'boundary' events, indicating data discontinuities. Be cautious of filtering and epoching around these events.\n",
      "  raw = mne.io.read_raw_eeglab(str(Path(root_path) / eeg_rel_path / f\"sub-{subject}_{event_id}.set\"), verbose=False)\n",
      "<ipython-input-2-c47d3aa7e58e>:39: RuntimeWarning: Epochs are not baseline corrected, covariance matrix may be inaccurate\n",
      "  noise_cov = mne.compute_covariance(epochs, method=\"auto\", verbose=False).as_diag()\n",
      "<ipython-input-2-c47d3aa7e58e>:40: RuntimeWarning: No average EEG reference present in info[\"projs\"], covariance may be adversely affected. Consider recomputing covariance using with an average eeg reference projector added.\n",
      "  inverse_operator = mne.minimum_norm.make_inverse_operator(epochs.info, fwd, noise_cov, loose=loose, verbose=False)\n",
      "<ipython-input-2-c47d3aa7e58e>:40: RuntimeWarning: No average EEG reference present in info[\"projs\"], covariance may be adversely affected. Consider recomputing covariance using with an average eeg reference projector added.\n",
      "  inverse_operator = mne.minimum_norm.make_inverse_operator(epochs.info, fwd, noise_cov, loose=loose, verbose=False)\n"
     ]
    },
    {
     "name": "stdout",
     "output_type": "stream",
     "text": [
      "Not setting metadata\n",
      "Not setting metadata\n",
      "10 matching events found\n",
      "No baseline correction applied\n",
      "0 projection items activated\n",
      "Loading data for 10 events and 500 original time points ...\n",
      "0 bad epochs dropped\n",
      "Fitted sphere radius:         103.7 mm\n",
      "Origin head coordinates:      -1.0 3.4 44.1 mm\n",
      "Origin device coordinates:    -1.0 3.4 44.1 mm\n"
     ]
    },
    {
     "name": "stderr",
     "output_type": "stream",
     "text": [
      "/home/christian/code/acareeg/acareeg/lemon.py:58: RuntimeWarning: Limited 1 annotation(s) that were expanding outside the data range.\n",
      "  raw = mne.io.read_raw_eeglab(str(Path(root_path) / eeg_rel_path / f\"sub-{subject}_{event_id}.set\"), verbose=False)\n",
      "/home/christian/code/acareeg/acareeg/lemon.py:58: RuntimeWarning: The data contains 'boundary' events, indicating data discontinuities. Be cautious of filtering and epoching around these events.\n",
      "  raw = mne.io.read_raw_eeglab(str(Path(root_path) / eeg_rel_path / f\"sub-{subject}_{event_id}.set\"), verbose=False)\n",
      "<ipython-input-2-c47d3aa7e58e>:39: RuntimeWarning: Epochs are not baseline corrected, covariance matrix may be inaccurate\n",
      "  noise_cov = mne.compute_covariance(epochs, method=\"auto\", verbose=False).as_diag()\n",
      "<ipython-input-2-c47d3aa7e58e>:40: RuntimeWarning: No average EEG reference present in info[\"projs\"], covariance may be adversely affected. Consider recomputing covariance using with an average eeg reference projector added.\n",
      "  inverse_operator = mne.minimum_norm.make_inverse_operator(epochs.info, fwd, noise_cov, loose=loose, verbose=False)\n",
      "<ipython-input-2-c47d3aa7e58e>:40: RuntimeWarning: No average EEG reference present in info[\"projs\"], covariance may be adversely affected. Consider recomputing covariance using with an average eeg reference projector added.\n",
      "  inverse_operator = mne.minimum_norm.make_inverse_operator(epochs.info, fwd, noise_cov, loose=loose, verbose=False)\n"
     ]
    },
    {
     "name": "stdout",
     "output_type": "stream",
     "text": [
      "Not setting metadata\n",
      "Not setting metadata\n",
      "10 matching events found\n",
      "No baseline correction applied\n",
      "0 projection items activated\n",
      "Loading data for 10 events and 500 original time points ...\n",
      "0 bad epochs dropped\n",
      "Fitted sphere radius:         100.7 mm\n",
      "Origin head coordinates:      2.7 5.8 55.3 mm\n",
      "Origin device coordinates:    2.7 5.8 55.3 mm\n"
     ]
    },
    {
     "name": "stderr",
     "output_type": "stream",
     "text": [
      "/home/christian/code/acareeg/acareeg/lemon.py:58: RuntimeWarning: Limited 1 annotation(s) that were expanding outside the data range.\n",
      "  raw = mne.io.read_raw_eeglab(str(Path(root_path) / eeg_rel_path / f\"sub-{subject}_{event_id}.set\"), verbose=False)\n",
      "/home/christian/code/acareeg/acareeg/lemon.py:58: RuntimeWarning: The data contains 'boundary' events, indicating data discontinuities. Be cautious of filtering and epoching around these events.\n",
      "  raw = mne.io.read_raw_eeglab(str(Path(root_path) / eeg_rel_path / f\"sub-{subject}_{event_id}.set\"), verbose=False)\n",
      "<ipython-input-2-c47d3aa7e58e>:39: RuntimeWarning: Epochs are not baseline corrected, covariance matrix may be inaccurate\n",
      "  noise_cov = mne.compute_covariance(epochs, method=\"auto\", verbose=False).as_diag()\n",
      "<ipython-input-2-c47d3aa7e58e>:40: RuntimeWarning: No average EEG reference present in info[\"projs\"], covariance may be adversely affected. Consider recomputing covariance using with an average eeg reference projector added.\n",
      "  inverse_operator = mne.minimum_norm.make_inverse_operator(epochs.info, fwd, noise_cov, loose=loose, verbose=False)\n",
      "<ipython-input-2-c47d3aa7e58e>:40: RuntimeWarning: No average EEG reference present in info[\"projs\"], covariance may be adversely affected. Consider recomputing covariance using with an average eeg reference projector added.\n",
      "  inverse_operator = mne.minimum_norm.make_inverse_operator(epochs.info, fwd, noise_cov, loose=loose, verbose=False)\n"
     ]
    },
    {
     "name": "stdout",
     "output_type": "stream",
     "text": [
      "Not setting metadata\n",
      "Not setting metadata\n",
      "10 matching events found\n",
      "No baseline correction applied\n",
      "0 projection items activated\n",
      "Loading data for 10 events and 500 original time points ...\n",
      "0 bad epochs dropped\n",
      "Fitted sphere radius:         104.4 mm\n",
      "Origin head coordinates:      5.2 1.2 41.7 mm\n",
      "Origin device coordinates:    5.2 1.2 41.7 mm\n"
     ]
    },
    {
     "name": "stderr",
     "output_type": "stream",
     "text": [
      "/home/christian/code/acareeg/acareeg/lemon.py:58: RuntimeWarning: Limited 1 annotation(s) that were expanding outside the data range.\n",
      "  raw = mne.io.read_raw_eeglab(str(Path(root_path) / eeg_rel_path / f\"sub-{subject}_{event_id}.set\"), verbose=False)\n",
      "/home/christian/code/acareeg/acareeg/lemon.py:58: RuntimeWarning: The data contains 'boundary' events, indicating data discontinuities. Be cautious of filtering and epoching around these events.\n",
      "  raw = mne.io.read_raw_eeglab(str(Path(root_path) / eeg_rel_path / f\"sub-{subject}_{event_id}.set\"), verbose=False)\n",
      "<ipython-input-2-c47d3aa7e58e>:39: RuntimeWarning: Epochs are not baseline corrected, covariance matrix may be inaccurate\n",
      "  noise_cov = mne.compute_covariance(epochs, method=\"auto\", verbose=False).as_diag()\n",
      "<ipython-input-2-c47d3aa7e58e>:40: RuntimeWarning: No average EEG reference present in info[\"projs\"], covariance may be adversely affected. Consider recomputing covariance using with an average eeg reference projector added.\n",
      "  inverse_operator = mne.minimum_norm.make_inverse_operator(epochs.info, fwd, noise_cov, loose=loose, verbose=False)\n",
      "<ipython-input-2-c47d3aa7e58e>:40: RuntimeWarning: No average EEG reference present in info[\"projs\"], covariance may be adversely affected. Consider recomputing covariance using with an average eeg reference projector added.\n",
      "  inverse_operator = mne.minimum_norm.make_inverse_operator(epochs.info, fwd, noise_cov, loose=loose, verbose=False)\n"
     ]
    },
    {
     "name": "stdout",
     "output_type": "stream",
     "text": [
      "Not setting metadata\n",
      "Not setting metadata\n",
      "10 matching events found\n",
      "No baseline correction applied\n",
      "0 projection items activated\n",
      "Loading data for 10 events and 500 original time points ...\n",
      "0 bad epochs dropped\n",
      "Fitted sphere radius:         98.1 mm\n",
      "Origin head coordinates:      3.0 2.7 46.9 mm\n",
      "Origin device coordinates:    3.0 2.7 46.9 mm\n"
     ]
    },
    {
     "name": "stderr",
     "output_type": "stream",
     "text": [
      "/home/christian/code/acareeg/acareeg/lemon.py:58: RuntimeWarning: Limited 1 annotation(s) that were expanding outside the data range.\n",
      "  raw = mne.io.read_raw_eeglab(str(Path(root_path) / eeg_rel_path / f\"sub-{subject}_{event_id}.set\"), verbose=False)\n",
      "/home/christian/code/acareeg/acareeg/lemon.py:58: RuntimeWarning: The data contains 'boundary' events, indicating data discontinuities. Be cautious of filtering and epoching around these events.\n",
      "  raw = mne.io.read_raw_eeglab(str(Path(root_path) / eeg_rel_path / f\"sub-{subject}_{event_id}.set\"), verbose=False)\n",
      "<ipython-input-2-c47d3aa7e58e>:39: RuntimeWarning: Epochs are not baseline corrected, covariance matrix may be inaccurate\n",
      "  noise_cov = mne.compute_covariance(epochs, method=\"auto\", verbose=False).as_diag()\n",
      "<ipython-input-2-c47d3aa7e58e>:40: RuntimeWarning: No average EEG reference present in info[\"projs\"], covariance may be adversely affected. Consider recomputing covariance using with an average eeg reference projector added.\n",
      "  inverse_operator = mne.minimum_norm.make_inverse_operator(epochs.info, fwd, noise_cov, loose=loose, verbose=False)\n",
      "<ipython-input-2-c47d3aa7e58e>:40: RuntimeWarning: No average EEG reference present in info[\"projs\"], covariance may be adversely affected. Consider recomputing covariance using with an average eeg reference projector added.\n",
      "  inverse_operator = mne.minimum_norm.make_inverse_operator(epochs.info, fwd, noise_cov, loose=loose, verbose=False)\n"
     ]
    },
    {
     "name": "stdout",
     "output_type": "stream",
     "text": [
      "Not setting metadata\n",
      "Not setting metadata\n",
      "10 matching events found\n",
      "No baseline correction applied\n",
      "0 projection items activated\n",
      "Loading data for 10 events and 500 original time points ...\n",
      "0 bad epochs dropped\n",
      "Fitted sphere radius:         100.5 mm\n",
      "Origin head coordinates:      2.4 0.4 37.1 mm\n",
      "Origin device coordinates:    2.4 0.4 37.1 mm\n"
     ]
    },
    {
     "name": "stderr",
     "output_type": "stream",
     "text": [
      "/home/christian/code/acareeg/acareeg/lemon.py:58: RuntimeWarning: Limited 1 annotation(s) that were expanding outside the data range.\n",
      "  raw = mne.io.read_raw_eeglab(str(Path(root_path) / eeg_rel_path / f\"sub-{subject}_{event_id}.set\"), verbose=False)\n",
      "/home/christian/code/acareeg/acareeg/lemon.py:58: RuntimeWarning: The data contains 'boundary' events, indicating data discontinuities. Be cautious of filtering and epoching around these events.\n",
      "  raw = mne.io.read_raw_eeglab(str(Path(root_path) / eeg_rel_path / f\"sub-{subject}_{event_id}.set\"), verbose=False)\n",
      "<ipython-input-2-c47d3aa7e58e>:39: RuntimeWarning: Epochs are not baseline corrected, covariance matrix may be inaccurate\n",
      "  noise_cov = mne.compute_covariance(epochs, method=\"auto\", verbose=False).as_diag()\n",
      "<ipython-input-2-c47d3aa7e58e>:40: RuntimeWarning: No average EEG reference present in info[\"projs\"], covariance may be adversely affected. Consider recomputing covariance using with an average eeg reference projector added.\n",
      "  inverse_operator = mne.minimum_norm.make_inverse_operator(epochs.info, fwd, noise_cov, loose=loose, verbose=False)\n",
      "<ipython-input-2-c47d3aa7e58e>:40: RuntimeWarning: No average EEG reference present in info[\"projs\"], covariance may be adversely affected. Consider recomputing covariance using with an average eeg reference projector added.\n",
      "  inverse_operator = mne.minimum_norm.make_inverse_operator(epochs.info, fwd, noise_cov, loose=loose, verbose=False)\n"
     ]
    },
    {
     "name": "stdout",
     "output_type": "stream",
     "text": [
      "Not setting metadata\n",
      "Not setting metadata\n",
      "10 matching events found\n",
      "No baseline correction applied\n",
      "0 projection items activated\n",
      "Loading data for 10 events and 500 original time points ...\n",
      "0 bad epochs dropped\n",
      "Fitted sphere radius:         97.6 mm\n",
      "Origin head coordinates:      3.0 -0.1 45.6 mm\n",
      "Origin device coordinates:    3.0 -0.1 45.6 mm\n"
     ]
    },
    {
     "name": "stderr",
     "output_type": "stream",
     "text": [
      "/home/christian/code/acareeg/acareeg/lemon.py:58: RuntimeWarning: Limited 1 annotation(s) that were expanding outside the data range.\n",
      "  raw = mne.io.read_raw_eeglab(str(Path(root_path) / eeg_rel_path / f\"sub-{subject}_{event_id}.set\"), verbose=False)\n",
      "/home/christian/code/acareeg/acareeg/lemon.py:58: RuntimeWarning: The data contains 'boundary' events, indicating data discontinuities. Be cautious of filtering and epoching around these events.\n",
      "  raw = mne.io.read_raw_eeglab(str(Path(root_path) / eeg_rel_path / f\"sub-{subject}_{event_id}.set\"), verbose=False)\n",
      "<ipython-input-2-c47d3aa7e58e>:39: RuntimeWarning: Epochs are not baseline corrected, covariance matrix may be inaccurate\n",
      "  noise_cov = mne.compute_covariance(epochs, method=\"auto\", verbose=False).as_diag()\n",
      "<ipython-input-2-c47d3aa7e58e>:40: RuntimeWarning: No average EEG reference present in info[\"projs\"], covariance may be adversely affected. Consider recomputing covariance using with an average eeg reference projector added.\n",
      "  inverse_operator = mne.minimum_norm.make_inverse_operator(epochs.info, fwd, noise_cov, loose=loose, verbose=False)\n",
      "<ipython-input-2-c47d3aa7e58e>:40: RuntimeWarning: No average EEG reference present in info[\"projs\"], covariance may be adversely affected. Consider recomputing covariance using with an average eeg reference projector added.\n",
      "  inverse_operator = mne.minimum_norm.make_inverse_operator(epochs.info, fwd, noise_cov, loose=loose, verbose=False)\n"
     ]
    },
    {
     "name": "stdout",
     "output_type": "stream",
     "text": [
      "Not setting metadata\n",
      "Not setting metadata\n",
      "10 matching events found\n",
      "No baseline correction applied\n",
      "0 projection items activated\n",
      "Loading data for 10 events and 500 original time points ...\n",
      "0 bad epochs dropped\n",
      "Fitted sphere radius:         100.8 mm\n",
      "Origin head coordinates:      3.8 -3.6 37.9 mm\n",
      "Origin device coordinates:    3.8 -3.6 37.9 mm\n"
     ]
    },
    {
     "name": "stderr",
     "output_type": "stream",
     "text": [
      "/home/christian/code/acareeg/acareeg/lemon.py:58: RuntimeWarning: Limited 1 annotation(s) that were expanding outside the data range.\n",
      "  raw = mne.io.read_raw_eeglab(str(Path(root_path) / eeg_rel_path / f\"sub-{subject}_{event_id}.set\"), verbose=False)\n",
      "/home/christian/code/acareeg/acareeg/lemon.py:58: RuntimeWarning: The data contains 'boundary' events, indicating data discontinuities. Be cautious of filtering and epoching around these events.\n",
      "  raw = mne.io.read_raw_eeglab(str(Path(root_path) / eeg_rel_path / f\"sub-{subject}_{event_id}.set\"), verbose=False)\n",
      "<ipython-input-2-c47d3aa7e58e>:39: RuntimeWarning: Epochs are not baseline corrected, covariance matrix may be inaccurate\n",
      "  noise_cov = mne.compute_covariance(epochs, method=\"auto\", verbose=False).as_diag()\n",
      "<ipython-input-2-c47d3aa7e58e>:40: RuntimeWarning: No average EEG reference present in info[\"projs\"], covariance may be adversely affected. Consider recomputing covariance using with an average eeg reference projector added.\n",
      "  inverse_operator = mne.minimum_norm.make_inverse_operator(epochs.info, fwd, noise_cov, loose=loose, verbose=False)\n",
      "<ipython-input-2-c47d3aa7e58e>:40: RuntimeWarning: No average EEG reference present in info[\"projs\"], covariance may be adversely affected. Consider recomputing covariance using with an average eeg reference projector added.\n",
      "  inverse_operator = mne.minimum_norm.make_inverse_operator(epochs.info, fwd, noise_cov, loose=loose, verbose=False)\n"
     ]
    },
    {
     "name": "stdout",
     "output_type": "stream",
     "text": [
      "Not setting metadata\n",
      "Not setting metadata\n",
      "10 matching events found\n",
      "No baseline correction applied\n",
      "0 projection items activated\n",
      "Loading data for 10 events and 500 original time points ...\n",
      "0 bad epochs dropped\n",
      "Fitted sphere radius:         93.6 mm\n",
      "Origin head coordinates:      6.4 2.4 42.2 mm\n",
      "Origin device coordinates:    6.4 2.4 42.2 mm\n"
     ]
    },
    {
     "name": "stderr",
     "output_type": "stream",
     "text": [
      "/home/christian/code/acareeg/acareeg/lemon.py:58: RuntimeWarning: Limited 1 annotation(s) that were expanding outside the data range.\n",
      "  raw = mne.io.read_raw_eeglab(str(Path(root_path) / eeg_rel_path / f\"sub-{subject}_{event_id}.set\"), verbose=False)\n",
      "/home/christian/code/acareeg/acareeg/lemon.py:58: RuntimeWarning: The data contains 'boundary' events, indicating data discontinuities. Be cautious of filtering and epoching around these events.\n",
      "  raw = mne.io.read_raw_eeglab(str(Path(root_path) / eeg_rel_path / f\"sub-{subject}_{event_id}.set\"), verbose=False)\n",
      "<ipython-input-2-c47d3aa7e58e>:39: RuntimeWarning: Epochs are not baseline corrected, covariance matrix may be inaccurate\n",
      "  noise_cov = mne.compute_covariance(epochs, method=\"auto\", verbose=False).as_diag()\n",
      "<ipython-input-2-c47d3aa7e58e>:40: RuntimeWarning: No average EEG reference present in info[\"projs\"], covariance may be adversely affected. Consider recomputing covariance using with an average eeg reference projector added.\n",
      "  inverse_operator = mne.minimum_norm.make_inverse_operator(epochs.info, fwd, noise_cov, loose=loose, verbose=False)\n",
      "<ipython-input-2-c47d3aa7e58e>:40: RuntimeWarning: No average EEG reference present in info[\"projs\"], covariance may be adversely affected. Consider recomputing covariance using with an average eeg reference projector added.\n",
      "  inverse_operator = mne.minimum_norm.make_inverse_operator(epochs.info, fwd, noise_cov, loose=loose, verbose=False)\n"
     ]
    },
    {
     "name": "stdout",
     "output_type": "stream",
     "text": [
      "Not setting metadata\n",
      "Not setting metadata\n",
      "10 matching events found\n",
      "No baseline correction applied\n",
      "0 projection items activated\n",
      "Loading data for 10 events and 500 original time points ...\n",
      "0 bad epochs dropped\n",
      "Fitted sphere radius:         100.8 mm\n",
      "Origin head coordinates:      1.5 -1.6 44.2 mm\n",
      "Origin device coordinates:    1.5 -1.6 44.2 mm\n"
     ]
    },
    {
     "name": "stderr",
     "output_type": "stream",
     "text": [
      "/home/christian/code/acareeg/acareeg/lemon.py:58: RuntimeWarning: Limited 1 annotation(s) that were expanding outside the data range.\n",
      "  raw = mne.io.read_raw_eeglab(str(Path(root_path) / eeg_rel_path / f\"sub-{subject}_{event_id}.set\"), verbose=False)\n",
      "/home/christian/code/acareeg/acareeg/lemon.py:58: RuntimeWarning: The data contains 'boundary' events, indicating data discontinuities. Be cautious of filtering and epoching around these events.\n",
      "  raw = mne.io.read_raw_eeglab(str(Path(root_path) / eeg_rel_path / f\"sub-{subject}_{event_id}.set\"), verbose=False)\n",
      "<ipython-input-2-c47d3aa7e58e>:39: RuntimeWarning: Epochs are not baseline corrected, covariance matrix may be inaccurate\n",
      "  noise_cov = mne.compute_covariance(epochs, method=\"auto\", verbose=False).as_diag()\n",
      "<ipython-input-2-c47d3aa7e58e>:40: RuntimeWarning: No average EEG reference present in info[\"projs\"], covariance may be adversely affected. Consider recomputing covariance using with an average eeg reference projector added.\n",
      "  inverse_operator = mne.minimum_norm.make_inverse_operator(epochs.info, fwd, noise_cov, loose=loose, verbose=False)\n",
      "<ipython-input-2-c47d3aa7e58e>:40: RuntimeWarning: No average EEG reference present in info[\"projs\"], covariance may be adversely affected. Consider recomputing covariance using with an average eeg reference projector added.\n",
      "  inverse_operator = mne.minimum_norm.make_inverse_operator(epochs.info, fwd, noise_cov, loose=loose, verbose=False)\n"
     ]
    },
    {
     "name": "stdout",
     "output_type": "stream",
     "text": [
      "Not setting metadata\n",
      "Not setting metadata\n",
      "10 matching events found\n",
      "No baseline correction applied\n",
      "0 projection items activated\n",
      "Loading data for 10 events and 500 original time points ...\n",
      "0 bad epochs dropped\n",
      "Fitted sphere radius:         102.8 mm\n",
      "Origin head coordinates:      3.7 -1.7 38.6 mm\n",
      "Origin device coordinates:    3.7 -1.7 38.6 mm\n"
     ]
    },
    {
     "name": "stderr",
     "output_type": "stream",
     "text": [
      "/home/christian/code/acareeg/acareeg/lemon.py:58: RuntimeWarning: Limited 1 annotation(s) that were expanding outside the data range.\n",
      "  raw = mne.io.read_raw_eeglab(str(Path(root_path) / eeg_rel_path / f\"sub-{subject}_{event_id}.set\"), verbose=False)\n",
      "/home/christian/code/acareeg/acareeg/lemon.py:58: RuntimeWarning: The data contains 'boundary' events, indicating data discontinuities. Be cautious of filtering and epoching around these events.\n",
      "  raw = mne.io.read_raw_eeglab(str(Path(root_path) / eeg_rel_path / f\"sub-{subject}_{event_id}.set\"), verbose=False)\n",
      "<ipython-input-2-c47d3aa7e58e>:39: RuntimeWarning: Epochs are not baseline corrected, covariance matrix may be inaccurate\n",
      "  noise_cov = mne.compute_covariance(epochs, method=\"auto\", verbose=False).as_diag()\n",
      "<ipython-input-2-c47d3aa7e58e>:40: RuntimeWarning: No average EEG reference present in info[\"projs\"], covariance may be adversely affected. Consider recomputing covariance using with an average eeg reference projector added.\n",
      "  inverse_operator = mne.minimum_norm.make_inverse_operator(epochs.info, fwd, noise_cov, loose=loose, verbose=False)\n",
      "<ipython-input-2-c47d3aa7e58e>:40: RuntimeWarning: No average EEG reference present in info[\"projs\"], covariance may be adversely affected. Consider recomputing covariance using with an average eeg reference projector added.\n",
      "  inverse_operator = mne.minimum_norm.make_inverse_operator(epochs.info, fwd, noise_cov, loose=loose, verbose=False)\n"
     ]
    },
    {
     "name": "stdout",
     "output_type": "stream",
     "text": [
      "Not setting metadata\n",
      "Not setting metadata\n",
      "10 matching events found\n",
      "No baseline correction applied\n",
      "0 projection items activated\n",
      "Loading data for 10 events and 500 original time points ...\n",
      "0 bad epochs dropped\n",
      "Fitted sphere radius:         98.9 mm\n",
      "Origin head coordinates:      4.7 5.1 49.1 mm\n",
      "Origin device coordinates:    4.7 5.1 49.1 mm\n"
     ]
    },
    {
     "name": "stderr",
     "output_type": "stream",
     "text": [
      "/home/christian/code/acareeg/acareeg/lemon.py:58: RuntimeWarning: Limited 1 annotation(s) that were expanding outside the data range.\n",
      "  raw = mne.io.read_raw_eeglab(str(Path(root_path) / eeg_rel_path / f\"sub-{subject}_{event_id}.set\"), verbose=False)\n",
      "/home/christian/code/acareeg/acareeg/lemon.py:58: RuntimeWarning: The data contains 'boundary' events, indicating data discontinuities. Be cautious of filtering and epoching around these events.\n",
      "  raw = mne.io.read_raw_eeglab(str(Path(root_path) / eeg_rel_path / f\"sub-{subject}_{event_id}.set\"), verbose=False)\n",
      "<ipython-input-2-c47d3aa7e58e>:39: RuntimeWarning: Epochs are not baseline corrected, covariance matrix may be inaccurate\n",
      "  noise_cov = mne.compute_covariance(epochs, method=\"auto\", verbose=False).as_diag()\n",
      "<ipython-input-2-c47d3aa7e58e>:40: RuntimeWarning: No average EEG reference present in info[\"projs\"], covariance may be adversely affected. Consider recomputing covariance using with an average eeg reference projector added.\n",
      "  inverse_operator = mne.minimum_norm.make_inverse_operator(epochs.info, fwd, noise_cov, loose=loose, verbose=False)\n",
      "<ipython-input-2-c47d3aa7e58e>:40: RuntimeWarning: No average EEG reference present in info[\"projs\"], covariance may be adversely affected. Consider recomputing covariance using with an average eeg reference projector added.\n",
      "  inverse_operator = mne.minimum_norm.make_inverse_operator(epochs.info, fwd, noise_cov, loose=loose, verbose=False)\n"
     ]
    },
    {
     "name": "stdout",
     "output_type": "stream",
     "text": [
      "Not setting metadata\n",
      "Not setting metadata\n",
      "10 matching events found\n",
      "No baseline correction applied\n",
      "0 projection items activated\n",
      "Loading data for 10 events and 500 original time points ...\n",
      "0 bad epochs dropped\n",
      "Fitted sphere radius:         99.6 mm\n",
      "Origin head coordinates:      1.2 1.6 40.7 mm\n",
      "Origin device coordinates:    1.2 1.6 40.7 mm\n"
     ]
    },
    {
     "name": "stderr",
     "output_type": "stream",
     "text": [
      "/home/christian/code/acareeg/acareeg/lemon.py:58: RuntimeWarning: Limited 1 annotation(s) that were expanding outside the data range.\n",
      "  raw = mne.io.read_raw_eeglab(str(Path(root_path) / eeg_rel_path / f\"sub-{subject}_{event_id}.set\"), verbose=False)\n",
      "/home/christian/code/acareeg/acareeg/lemon.py:58: RuntimeWarning: The data contains 'boundary' events, indicating data discontinuities. Be cautious of filtering and epoching around these events.\n",
      "  raw = mne.io.read_raw_eeglab(str(Path(root_path) / eeg_rel_path / f\"sub-{subject}_{event_id}.set\"), verbose=False)\n",
      "<ipython-input-2-c47d3aa7e58e>:39: RuntimeWarning: Epochs are not baseline corrected, covariance matrix may be inaccurate\n",
      "  noise_cov = mne.compute_covariance(epochs, method=\"auto\", verbose=False).as_diag()\n",
      "<ipython-input-2-c47d3aa7e58e>:40: RuntimeWarning: No average EEG reference present in info[\"projs\"], covariance may be adversely affected. Consider recomputing covariance using with an average eeg reference projector added.\n",
      "  inverse_operator = mne.minimum_norm.make_inverse_operator(epochs.info, fwd, noise_cov, loose=loose, verbose=False)\n",
      "<ipython-input-2-c47d3aa7e58e>:40: RuntimeWarning: No average EEG reference present in info[\"projs\"], covariance may be adversely affected. Consider recomputing covariance using with an average eeg reference projector added.\n",
      "  inverse_operator = mne.minimum_norm.make_inverse_operator(epochs.info, fwd, noise_cov, loose=loose, verbose=False)\n"
     ]
    },
    {
     "name": "stdout",
     "output_type": "stream",
     "text": [
      "Not setting metadata\n",
      "Not setting metadata\n",
      "10 matching events found\n",
      "No baseline correction applied\n",
      "0 projection items activated\n",
      "Loading data for 10 events and 500 original time points ...\n",
      "0 bad epochs dropped\n",
      "Fitted sphere radius:         95.4 mm\n",
      "Origin head coordinates:      3.2 -1.1 39.7 mm\n",
      "Origin device coordinates:    3.2 -1.1 39.7 mm\n"
     ]
    },
    {
     "name": "stderr",
     "output_type": "stream",
     "text": [
      "/home/christian/code/acareeg/acareeg/lemon.py:58: RuntimeWarning: Limited 1 annotation(s) that were expanding outside the data range.\n",
      "  raw = mne.io.read_raw_eeglab(str(Path(root_path) / eeg_rel_path / f\"sub-{subject}_{event_id}.set\"), verbose=False)\n",
      "/home/christian/code/acareeg/acareeg/lemon.py:58: RuntimeWarning: The data contains 'boundary' events, indicating data discontinuities. Be cautious of filtering and epoching around these events.\n",
      "  raw = mne.io.read_raw_eeglab(str(Path(root_path) / eeg_rel_path / f\"sub-{subject}_{event_id}.set\"), verbose=False)\n",
      "<ipython-input-2-c47d3aa7e58e>:39: RuntimeWarning: Epochs are not baseline corrected, covariance matrix may be inaccurate\n",
      "  noise_cov = mne.compute_covariance(epochs, method=\"auto\", verbose=False).as_diag()\n",
      "<ipython-input-2-c47d3aa7e58e>:40: RuntimeWarning: No average EEG reference present in info[\"projs\"], covariance may be adversely affected. Consider recomputing covariance using with an average eeg reference projector added.\n",
      "  inverse_operator = mne.minimum_norm.make_inverse_operator(epochs.info, fwd, noise_cov, loose=loose, verbose=False)\n",
      "<ipython-input-2-c47d3aa7e58e>:40: RuntimeWarning: No average EEG reference present in info[\"projs\"], covariance may be adversely affected. Consider recomputing covariance using with an average eeg reference projector added.\n",
      "  inverse_operator = mne.minimum_norm.make_inverse_operator(epochs.info, fwd, noise_cov, loose=loose, verbose=False)\n"
     ]
    },
    {
     "name": "stdout",
     "output_type": "stream",
     "text": [
      "Not setting metadata\n",
      "Not setting metadata\n",
      "10 matching events found\n",
      "No baseline correction applied\n",
      "0 projection items activated\n",
      "Loading data for 10 events and 500 original time points ...\n",
      "0 bad epochs dropped\n",
      "Fitted sphere radius:         102.7 mm\n",
      "Origin head coordinates:      2.7 4.1 50.5 mm\n",
      "Origin device coordinates:    2.7 4.1 50.5 mm\n"
     ]
    },
    {
     "name": "stderr",
     "output_type": "stream",
     "text": [
      "/home/christian/code/acareeg/acareeg/lemon.py:58: RuntimeWarning: Limited 1 annotation(s) that were expanding outside the data range.\n",
      "  raw = mne.io.read_raw_eeglab(str(Path(root_path) / eeg_rel_path / f\"sub-{subject}_{event_id}.set\"), verbose=False)\n",
      "/home/christian/code/acareeg/acareeg/lemon.py:58: RuntimeWarning: The data contains 'boundary' events, indicating data discontinuities. Be cautious of filtering and epoching around these events.\n",
      "  raw = mne.io.read_raw_eeglab(str(Path(root_path) / eeg_rel_path / f\"sub-{subject}_{event_id}.set\"), verbose=False)\n",
      "<ipython-input-2-c47d3aa7e58e>:39: RuntimeWarning: Epochs are not baseline corrected, covariance matrix may be inaccurate\n",
      "  noise_cov = mne.compute_covariance(epochs, method=\"auto\", verbose=False).as_diag()\n",
      "<ipython-input-2-c47d3aa7e58e>:40: RuntimeWarning: No average EEG reference present in info[\"projs\"], covariance may be adversely affected. Consider recomputing covariance using with an average eeg reference projector added.\n",
      "  inverse_operator = mne.minimum_norm.make_inverse_operator(epochs.info, fwd, noise_cov, loose=loose, verbose=False)\n",
      "<ipython-input-2-c47d3aa7e58e>:40: RuntimeWarning: No average EEG reference present in info[\"projs\"], covariance may be adversely affected. Consider recomputing covariance using with an average eeg reference projector added.\n",
      "  inverse_operator = mne.minimum_norm.make_inverse_operator(epochs.info, fwd, noise_cov, loose=loose, verbose=False)\n"
     ]
    },
    {
     "name": "stdout",
     "output_type": "stream",
     "text": [
      "Not setting metadata\n",
      "Not setting metadata\n",
      "10 matching events found\n",
      "No baseline correction applied\n",
      "0 projection items activated\n",
      "Loading data for 10 events and 500 original time points ...\n",
      "0 bad epochs dropped\n",
      "Fitted sphere radius:         94.5 mm\n",
      "Origin head coordinates:      -0.1 -5.1 43.7 mm\n",
      "Origin device coordinates:    -0.1 -5.1 43.7 mm\n"
     ]
    },
    {
     "name": "stderr",
     "output_type": "stream",
     "text": [
      "/home/christian/code/acareeg/acareeg/lemon.py:58: RuntimeWarning: Limited 1 annotation(s) that were expanding outside the data range.\n",
      "  raw = mne.io.read_raw_eeglab(str(Path(root_path) / eeg_rel_path / f\"sub-{subject}_{event_id}.set\"), verbose=False)\n",
      "/home/christian/code/acareeg/acareeg/lemon.py:58: RuntimeWarning: The data contains 'boundary' events, indicating data discontinuities. Be cautious of filtering and epoching around these events.\n",
      "  raw = mne.io.read_raw_eeglab(str(Path(root_path) / eeg_rel_path / f\"sub-{subject}_{event_id}.set\"), verbose=False)\n",
      "<ipython-input-2-c47d3aa7e58e>:39: RuntimeWarning: Epochs are not baseline corrected, covariance matrix may be inaccurate\n",
      "  noise_cov = mne.compute_covariance(epochs, method=\"auto\", verbose=False).as_diag()\n",
      "<ipython-input-2-c47d3aa7e58e>:40: RuntimeWarning: No average EEG reference present in info[\"projs\"], covariance may be adversely affected. Consider recomputing covariance using with an average eeg reference projector added.\n",
      "  inverse_operator = mne.minimum_norm.make_inverse_operator(epochs.info, fwd, noise_cov, loose=loose, verbose=False)\n",
      "<ipython-input-2-c47d3aa7e58e>:40: RuntimeWarning: No average EEG reference present in info[\"projs\"], covariance may be adversely affected. Consider recomputing covariance using with an average eeg reference projector added.\n",
      "  inverse_operator = mne.minimum_norm.make_inverse_operator(epochs.info, fwd, noise_cov, loose=loose, verbose=False)\n"
     ]
    },
    {
     "name": "stdout",
     "output_type": "stream",
     "text": [
      "Not setting metadata\n",
      "Not setting metadata\n",
      "10 matching events found\n",
      "No baseline correction applied\n",
      "0 projection items activated\n",
      "Loading data for 10 events and 500 original time points ...\n",
      "0 bad epochs dropped\n",
      "Fitted sphere radius:         101.3 mm\n",
      "Origin head coordinates:      2.0 0.8 42.0 mm\n",
      "Origin device coordinates:    2.0 0.8 42.0 mm\n"
     ]
    },
    {
     "name": "stderr",
     "output_type": "stream",
     "text": [
      "/home/christian/code/acareeg/acareeg/lemon.py:58: RuntimeWarning: Limited 1 annotation(s) that were expanding outside the data range.\n",
      "  raw = mne.io.read_raw_eeglab(str(Path(root_path) / eeg_rel_path / f\"sub-{subject}_{event_id}.set\"), verbose=False)\n",
      "/home/christian/code/acareeg/acareeg/lemon.py:58: RuntimeWarning: The data contains 'boundary' events, indicating data discontinuities. Be cautious of filtering and epoching around these events.\n",
      "  raw = mne.io.read_raw_eeglab(str(Path(root_path) / eeg_rel_path / f\"sub-{subject}_{event_id}.set\"), verbose=False)\n",
      "<ipython-input-2-c47d3aa7e58e>:39: RuntimeWarning: Epochs are not baseline corrected, covariance matrix may be inaccurate\n",
      "  noise_cov = mne.compute_covariance(epochs, method=\"auto\", verbose=False).as_diag()\n",
      "<ipython-input-2-c47d3aa7e58e>:40: RuntimeWarning: No average EEG reference present in info[\"projs\"], covariance may be adversely affected. Consider recomputing covariance using with an average eeg reference projector added.\n",
      "  inverse_operator = mne.minimum_norm.make_inverse_operator(epochs.info, fwd, noise_cov, loose=loose, verbose=False)\n",
      "<ipython-input-2-c47d3aa7e58e>:40: RuntimeWarning: No average EEG reference present in info[\"projs\"], covariance may be adversely affected. Consider recomputing covariance using with an average eeg reference projector added.\n",
      "  inverse_operator = mne.minimum_norm.make_inverse_operator(epochs.info, fwd, noise_cov, loose=loose, verbose=False)\n"
     ]
    },
    {
     "name": "stdout",
     "output_type": "stream",
     "text": [
      "Not setting metadata\n",
      "Not setting metadata\n",
      "10 matching events found\n",
      "No baseline correction applied\n",
      "0 projection items activated\n",
      "Loading data for 10 events and 500 original time points ...\n",
      "0 bad epochs dropped\n",
      "Fitted sphere radius:         96.6 mm\n",
      "Origin head coordinates:      2.1 4.9 39.7 mm\n",
      "Origin device coordinates:    2.1 4.9 39.7 mm\n"
     ]
    },
    {
     "name": "stderr",
     "output_type": "stream",
     "text": [
      "/home/christian/code/acareeg/acareeg/lemon.py:58: RuntimeWarning: Limited 1 annotation(s) that were expanding outside the data range.\n",
      "  raw = mne.io.read_raw_eeglab(str(Path(root_path) / eeg_rel_path / f\"sub-{subject}_{event_id}.set\"), verbose=False)\n",
      "/home/christian/code/acareeg/acareeg/lemon.py:58: RuntimeWarning: The data contains 'boundary' events, indicating data discontinuities. Be cautious of filtering and epoching around these events.\n",
      "  raw = mne.io.read_raw_eeglab(str(Path(root_path) / eeg_rel_path / f\"sub-{subject}_{event_id}.set\"), verbose=False)\n",
      "<ipython-input-2-c47d3aa7e58e>:39: RuntimeWarning: Epochs are not baseline corrected, covariance matrix may be inaccurate\n",
      "  noise_cov = mne.compute_covariance(epochs, method=\"auto\", verbose=False).as_diag()\n",
      "<ipython-input-2-c47d3aa7e58e>:40: RuntimeWarning: No average EEG reference present in info[\"projs\"], covariance may be adversely affected. Consider recomputing covariance using with an average eeg reference projector added.\n",
      "  inverse_operator = mne.minimum_norm.make_inverse_operator(epochs.info, fwd, noise_cov, loose=loose, verbose=False)\n",
      "<ipython-input-2-c47d3aa7e58e>:40: RuntimeWarning: No average EEG reference present in info[\"projs\"], covariance may be adversely affected. Consider recomputing covariance using with an average eeg reference projector added.\n",
      "  inverse_operator = mne.minimum_norm.make_inverse_operator(epochs.info, fwd, noise_cov, loose=loose, verbose=False)\n"
     ]
    },
    {
     "name": "stdout",
     "output_type": "stream",
     "text": [
      "Not setting metadata\n",
      "Not setting metadata\n",
      "10 matching events found\n",
      "No baseline correction applied\n",
      "0 projection items activated\n",
      "Loading data for 10 events and 500 original time points ...\n",
      "0 bad epochs dropped\n",
      "Fitted sphere radius:         103.3 mm\n",
      "Origin head coordinates:      2.4 5.8 40.3 mm\n",
      "Origin device coordinates:    2.4 5.8 40.3 mm\n"
     ]
    },
    {
     "name": "stderr",
     "output_type": "stream",
     "text": [
      "/home/christian/code/acareeg/acareeg/lemon.py:58: RuntimeWarning: Limited 1 annotation(s) that were expanding outside the data range.\n",
      "  raw = mne.io.read_raw_eeglab(str(Path(root_path) / eeg_rel_path / f\"sub-{subject}_{event_id}.set\"), verbose=False)\n",
      "/home/christian/code/acareeg/acareeg/lemon.py:58: RuntimeWarning: The data contains 'boundary' events, indicating data discontinuities. Be cautious of filtering and epoching around these events.\n",
      "  raw = mne.io.read_raw_eeglab(str(Path(root_path) / eeg_rel_path / f\"sub-{subject}_{event_id}.set\"), verbose=False)\n",
      "<ipython-input-2-c47d3aa7e58e>:39: RuntimeWarning: Epochs are not baseline corrected, covariance matrix may be inaccurate\n",
      "  noise_cov = mne.compute_covariance(epochs, method=\"auto\", verbose=False).as_diag()\n",
      "<ipython-input-2-c47d3aa7e58e>:40: RuntimeWarning: No average EEG reference present in info[\"projs\"], covariance may be adversely affected. Consider recomputing covariance using with an average eeg reference projector added.\n",
      "  inverse_operator = mne.minimum_norm.make_inverse_operator(epochs.info, fwd, noise_cov, loose=loose, verbose=False)\n",
      "<ipython-input-2-c47d3aa7e58e>:40: RuntimeWarning: No average EEG reference present in info[\"projs\"], covariance may be adversely affected. Consider recomputing covariance using with an average eeg reference projector added.\n",
      "  inverse_operator = mne.minimum_norm.make_inverse_operator(epochs.info, fwd, noise_cov, loose=loose, verbose=False)\n"
     ]
    },
    {
     "name": "stdout",
     "output_type": "stream",
     "text": [
      "Not setting metadata\n",
      "Not setting metadata\n",
      "10 matching events found\n",
      "No baseline correction applied\n",
      "0 projection items activated\n",
      "Loading data for 10 events and 500 original time points ...\n",
      "0 bad epochs dropped\n",
      "Fitted sphere radius:         100.7 mm\n",
      "Origin head coordinates:      1.1 0.4 42.0 mm\n",
      "Origin device coordinates:    1.1 0.4 42.0 mm\n"
     ]
    },
    {
     "name": "stderr",
     "output_type": "stream",
     "text": [
      "/home/christian/code/acareeg/acareeg/lemon.py:58: RuntimeWarning: Limited 1 annotation(s) that were expanding outside the data range.\n",
      "  raw = mne.io.read_raw_eeglab(str(Path(root_path) / eeg_rel_path / f\"sub-{subject}_{event_id}.set\"), verbose=False)\n",
      "/home/christian/code/acareeg/acareeg/lemon.py:58: RuntimeWarning: The data contains 'boundary' events, indicating data discontinuities. Be cautious of filtering and epoching around these events.\n",
      "  raw = mne.io.read_raw_eeglab(str(Path(root_path) / eeg_rel_path / f\"sub-{subject}_{event_id}.set\"), verbose=False)\n",
      "<ipython-input-2-c47d3aa7e58e>:39: RuntimeWarning: Epochs are not baseline corrected, covariance matrix may be inaccurate\n",
      "  noise_cov = mne.compute_covariance(epochs, method=\"auto\", verbose=False).as_diag()\n",
      "<ipython-input-2-c47d3aa7e58e>:40: RuntimeWarning: No average EEG reference present in info[\"projs\"], covariance may be adversely affected. Consider recomputing covariance using with an average eeg reference projector added.\n",
      "  inverse_operator = mne.minimum_norm.make_inverse_operator(epochs.info, fwd, noise_cov, loose=loose, verbose=False)\n",
      "<ipython-input-2-c47d3aa7e58e>:40: RuntimeWarning: No average EEG reference present in info[\"projs\"], covariance may be adversely affected. Consider recomputing covariance using with an average eeg reference projector added.\n",
      "  inverse_operator = mne.minimum_norm.make_inverse_operator(epochs.info, fwd, noise_cov, loose=loose, verbose=False)\n"
     ]
    },
    {
     "name": "stdout",
     "output_type": "stream",
     "text": [
      "Not setting metadata\n",
      "Not setting metadata\n",
      "10 matching events found\n",
      "No baseline correction applied\n",
      "0 projection items activated\n",
      "Loading data for 10 events and 500 original time points ...\n",
      "0 bad epochs dropped\n",
      "Fitted sphere radius:         98.9 mm\n",
      "Origin head coordinates:      4.5 4.0 40.4 mm\n",
      "Origin device coordinates:    4.5 4.0 40.4 mm\n"
     ]
    },
    {
     "data": {
      "application/vnd.jupyter.widget-view+json": {
       "model_id": "6bffd8b0667c4ce7bcc0fbb5f95957dc",
       "version_major": 2,
       "version_minor": 0
      },
      "text/plain": [
       "HBox(children=(FloatProgress(value=0.0, max=82.0), HTML(value='')))"
      ]
     },
     "metadata": {},
     "output_type": "display_data"
    },
    {
     "name": "stdout",
     "output_type": "stream",
     "text": [
      "\n"
     ]
    },
    {
     "data": {
      "application/vnd.jupyter.widget-view+json": {
       "model_id": "bc483e62121244e0b1adf8bc19e2976c",
       "version_major": 2,
       "version_minor": 0
      },
      "text/plain": [
       "HBox(children=(FloatProgress(value=0.0, max=82.0), HTML(value='')))"
      ]
     },
     "metadata": {},
     "output_type": "display_data"
    },
    {
     "name": "stdout",
     "output_type": "stream",
     "text": [
      "\n"
     ]
    },
    {
     "data": {
      "application/vnd.jupyter.widget-view+json": {
       "model_id": "",
       "version_major": 2,
       "version_minor": 0
      },
      "text/plain": [
       "HBox(children=(FloatProgress(value=0.0, max=82.0), HTML(value='')))"
      ]
     },
     "metadata": {},
     "output_type": "display_data"
    },
    {
     "name": "stderr",
     "output_type": "stream",
     "text": [
      "/home/christian/code/acareeg/acareeg/lemon.py:58: RuntimeWarning: Limited 1 annotation(s) that were expanding outside the data range.\n",
      "  raw = mne.io.read_raw_eeglab(str(Path(root_path) / eeg_rel_path / f\"sub-{subject}_{event_id}.set\"), verbose=False)\n",
      "/home/christian/code/acareeg/acareeg/lemon.py:58: RuntimeWarning: The data contains 'boundary' events, indicating data discontinuities. Be cautious of filtering and epoching around these events.\n",
      "  raw = mne.io.read_raw_eeglab(str(Path(root_path) / eeg_rel_path / f\"sub-{subject}_{event_id}.set\"), verbose=False)\n",
      "<ipython-input-2-c47d3aa7e58e>:39: RuntimeWarning: Epochs are not baseline corrected, covariance matrix may be inaccurate\n",
      "  noise_cov = mne.compute_covariance(epochs, method=\"auto\", verbose=False).as_diag()\n",
      "<ipython-input-2-c47d3aa7e58e>:40: RuntimeWarning: No average EEG reference present in info[\"projs\"], covariance may be adversely affected. Consider recomputing covariance using with an average eeg reference projector added.\n",
      "  inverse_operator = mne.minimum_norm.make_inverse_operator(epochs.info, fwd, noise_cov, loose=loose, verbose=False)\n",
      "<ipython-input-2-c47d3aa7e58e>:40: RuntimeWarning: No average EEG reference present in info[\"projs\"], covariance may be adversely affected. Consider recomputing covariance using with an average eeg reference projector added.\n",
      "  inverse_operator = mne.minimum_norm.make_inverse_operator(epochs.info, fwd, noise_cov, loose=loose, verbose=False)\n"
     ]
    },
    {
     "name": "stdout",
     "output_type": "stream",
     "text": [
      "Not setting metadata\n",
      "Not setting metadata\n",
      "10 matching events found\n",
      "No baseline correction applied\n",
      "0 projection items activated\n",
      "Loading data for 10 events and 500 original time points ...\n",
      "0 bad epochs dropped\n",
      "Fitted sphere radius:         102.9 mm\n",
      "Origin head coordinates:      0.4 3.3 48.6 mm\n",
      "Origin device coordinates:    0.4 3.3 48.6 mm\n"
     ]
    },
    {
     "name": "stderr",
     "output_type": "stream",
     "text": [
      "/home/christian/code/acareeg/acareeg/lemon.py:58: RuntimeWarning: Limited 1 annotation(s) that were expanding outside the data range.\n",
      "  raw = mne.io.read_raw_eeglab(str(Path(root_path) / eeg_rel_path / f\"sub-{subject}_{event_id}.set\"), verbose=False)\n",
      "/home/christian/code/acareeg/acareeg/lemon.py:58: RuntimeWarning: The data contains 'boundary' events, indicating data discontinuities. Be cautious of filtering and epoching around these events.\n",
      "  raw = mne.io.read_raw_eeglab(str(Path(root_path) / eeg_rel_path / f\"sub-{subject}_{event_id}.set\"), verbose=False)\n",
      "<ipython-input-2-c47d3aa7e58e>:39: RuntimeWarning: Epochs are not baseline corrected, covariance matrix may be inaccurate\n",
      "  noise_cov = mne.compute_covariance(epochs, method=\"auto\", verbose=False).as_diag()\n",
      "<ipython-input-2-c47d3aa7e58e>:40: RuntimeWarning: No average EEG reference present in info[\"projs\"], covariance may be adversely affected. Consider recomputing covariance using with an average eeg reference projector added.\n",
      "  inverse_operator = mne.minimum_norm.make_inverse_operator(epochs.info, fwd, noise_cov, loose=loose, verbose=False)\n",
      "<ipython-input-2-c47d3aa7e58e>:40: RuntimeWarning: No average EEG reference present in info[\"projs\"], covariance may be adversely affected. Consider recomputing covariance using with an average eeg reference projector added.\n",
      "  inverse_operator = mne.minimum_norm.make_inverse_operator(epochs.info, fwd, noise_cov, loose=loose, verbose=False)\n"
     ]
    },
    {
     "name": "stdout",
     "output_type": "stream",
     "text": [
      "Not setting metadata\n",
      "Not setting metadata\n",
      "10 matching events found\n",
      "No baseline correction applied\n",
      "0 projection items activated\n",
      "Loading data for 10 events and 500 original time points ...\n",
      "0 bad epochs dropped\n",
      "Fitted sphere radius:         99.4 mm\n",
      "Origin head coordinates:      4.3 5.8 49.5 mm\n",
      "Origin device coordinates:    4.3 5.8 49.5 mm\n"
     ]
    },
    {
     "name": "stderr",
     "output_type": "stream",
     "text": [
      "/home/christian/code/acareeg/acareeg/lemon.py:58: RuntimeWarning: Limited 1 annotation(s) that were expanding outside the data range.\n",
      "  raw = mne.io.read_raw_eeglab(str(Path(root_path) / eeg_rel_path / f\"sub-{subject}_{event_id}.set\"), verbose=False)\n",
      "/home/christian/code/acareeg/acareeg/lemon.py:58: RuntimeWarning: The data contains 'boundary' events, indicating data discontinuities. Be cautious of filtering and epoching around these events.\n",
      "  raw = mne.io.read_raw_eeglab(str(Path(root_path) / eeg_rel_path / f\"sub-{subject}_{event_id}.set\"), verbose=False)\n",
      "<ipython-input-2-c47d3aa7e58e>:39: RuntimeWarning: Epochs are not baseline corrected, covariance matrix may be inaccurate\n",
      "  noise_cov = mne.compute_covariance(epochs, method=\"auto\", verbose=False).as_diag()\n",
      "<ipython-input-2-c47d3aa7e58e>:40: RuntimeWarning: No average EEG reference present in info[\"projs\"], covariance may be adversely affected. Consider recomputing covariance using with an average eeg reference projector added.\n",
      "  inverse_operator = mne.minimum_norm.make_inverse_operator(epochs.info, fwd, noise_cov, loose=loose, verbose=False)\n",
      "<ipython-input-2-c47d3aa7e58e>:40: RuntimeWarning: No average EEG reference present in info[\"projs\"], covariance may be adversely affected. Consider recomputing covariance using with an average eeg reference projector added.\n",
      "  inverse_operator = mne.minimum_norm.make_inverse_operator(epochs.info, fwd, noise_cov, loose=loose, verbose=False)\n"
     ]
    },
    {
     "name": "stdout",
     "output_type": "stream",
     "text": [
      "Not setting metadata\n",
      "Not setting metadata\n",
      "10 matching events found\n",
      "No baseline correction applied\n",
      "0 projection items activated\n",
      "Loading data for 10 events and 500 original time points ...\n",
      "0 bad epochs dropped\n",
      "Fitted sphere radius:         103.0 mm\n",
      "Origin head coordinates:      0.4 11.5 42.4 mm\n",
      "Origin device coordinates:    0.4 11.5 42.4 mm\n"
     ]
    },
    {
     "name": "stderr",
     "output_type": "stream",
     "text": [
      "/home/christian/code/acareeg/acareeg/lemon.py:58: RuntimeWarning: Limited 1 annotation(s) that were expanding outside the data range.\n",
      "  raw = mne.io.read_raw_eeglab(str(Path(root_path) / eeg_rel_path / f\"sub-{subject}_{event_id}.set\"), verbose=False)\n",
      "/home/christian/code/acareeg/acareeg/lemon.py:58: RuntimeWarning: The data contains 'boundary' events, indicating data discontinuities. Be cautious of filtering and epoching around these events.\n",
      "  raw = mne.io.read_raw_eeglab(str(Path(root_path) / eeg_rel_path / f\"sub-{subject}_{event_id}.set\"), verbose=False)\n",
      "<ipython-input-2-c47d3aa7e58e>:39: RuntimeWarning: Epochs are not baseline corrected, covariance matrix may be inaccurate\n",
      "  noise_cov = mne.compute_covariance(epochs, method=\"auto\", verbose=False).as_diag()\n",
      "<ipython-input-2-c47d3aa7e58e>:40: RuntimeWarning: No average EEG reference present in info[\"projs\"], covariance may be adversely affected. Consider recomputing covariance using with an average eeg reference projector added.\n",
      "  inverse_operator = mne.minimum_norm.make_inverse_operator(epochs.info, fwd, noise_cov, loose=loose, verbose=False)\n",
      "<ipython-input-2-c47d3aa7e58e>:40: RuntimeWarning: No average EEG reference present in info[\"projs\"], covariance may be adversely affected. Consider recomputing covariance using with an average eeg reference projector added.\n",
      "  inverse_operator = mne.minimum_norm.make_inverse_operator(epochs.info, fwd, noise_cov, loose=loose, verbose=False)\n"
     ]
    },
    {
     "name": "stdout",
     "output_type": "stream",
     "text": [
      "Not setting metadata\n",
      "Not setting metadata\n",
      "10 matching events found\n",
      "No baseline correction applied\n",
      "0 projection items activated\n",
      "Loading data for 10 events and 500 original time points ...\n",
      "0 bad epochs dropped\n",
      "Fitted sphere radius:         105.2 mm\n",
      "Origin head coordinates:      3.2 1.8 42.6 mm\n",
      "Origin device coordinates:    3.2 1.8 42.6 mm\n"
     ]
    },
    {
     "name": "stderr",
     "output_type": "stream",
     "text": [
      "/home/christian/code/acareeg/acareeg/lemon.py:58: RuntimeWarning: Limited 1 annotation(s) that were expanding outside the data range.\n",
      "  raw = mne.io.read_raw_eeglab(str(Path(root_path) / eeg_rel_path / f\"sub-{subject}_{event_id}.set\"), verbose=False)\n",
      "/home/christian/code/acareeg/acareeg/lemon.py:58: RuntimeWarning: The data contains 'boundary' events, indicating data discontinuities. Be cautious of filtering and epoching around these events.\n",
      "  raw = mne.io.read_raw_eeglab(str(Path(root_path) / eeg_rel_path / f\"sub-{subject}_{event_id}.set\"), verbose=False)\n",
      "<ipython-input-2-c47d3aa7e58e>:39: RuntimeWarning: Epochs are not baseline corrected, covariance matrix may be inaccurate\n",
      "  noise_cov = mne.compute_covariance(epochs, method=\"auto\", verbose=False).as_diag()\n",
      "<ipython-input-2-c47d3aa7e58e>:40: RuntimeWarning: No average EEG reference present in info[\"projs\"], covariance may be adversely affected. Consider recomputing covariance using with an average eeg reference projector added.\n",
      "  inverse_operator = mne.minimum_norm.make_inverse_operator(epochs.info, fwd, noise_cov, loose=loose, verbose=False)\n",
      "<ipython-input-2-c47d3aa7e58e>:40: RuntimeWarning: No average EEG reference present in info[\"projs\"], covariance may be adversely affected. Consider recomputing covariance using with an average eeg reference projector added.\n",
      "  inverse_operator = mne.minimum_norm.make_inverse_operator(epochs.info, fwd, noise_cov, loose=loose, verbose=False)\n"
     ]
    },
    {
     "name": "stdout",
     "output_type": "stream",
     "text": [
      "Not setting metadata\n",
      "Not setting metadata\n",
      "10 matching events found\n",
      "No baseline correction applied\n",
      "0 projection items activated\n",
      "Loading data for 10 events and 500 original time points ...\n",
      "0 bad epochs dropped\n",
      "Fitted sphere radius:         102.4 mm\n",
      "Origin head coordinates:      3.2 -1.4 41.5 mm\n",
      "Origin device coordinates:    3.2 -1.4 41.5 mm\n"
     ]
    },
    {
     "name": "stderr",
     "output_type": "stream",
     "text": [
      "/home/christian/code/acareeg/acareeg/lemon.py:58: RuntimeWarning: Limited 1 annotation(s) that were expanding outside the data range.\n",
      "  raw = mne.io.read_raw_eeglab(str(Path(root_path) / eeg_rel_path / f\"sub-{subject}_{event_id}.set\"), verbose=False)\n",
      "/home/christian/code/acareeg/acareeg/lemon.py:58: RuntimeWarning: The data contains 'boundary' events, indicating data discontinuities. Be cautious of filtering and epoching around these events.\n",
      "  raw = mne.io.read_raw_eeglab(str(Path(root_path) / eeg_rel_path / f\"sub-{subject}_{event_id}.set\"), verbose=False)\n",
      "<ipython-input-2-c47d3aa7e58e>:39: RuntimeWarning: Epochs are not baseline corrected, covariance matrix may be inaccurate\n",
      "  noise_cov = mne.compute_covariance(epochs, method=\"auto\", verbose=False).as_diag()\n",
      "<ipython-input-2-c47d3aa7e58e>:40: RuntimeWarning: No average EEG reference present in info[\"projs\"], covariance may be adversely affected. Consider recomputing covariance using with an average eeg reference projector added.\n",
      "  inverse_operator = mne.minimum_norm.make_inverse_operator(epochs.info, fwd, noise_cov, loose=loose, verbose=False)\n",
      "<ipython-input-2-c47d3aa7e58e>:40: RuntimeWarning: No average EEG reference present in info[\"projs\"], covariance may be adversely affected. Consider recomputing covariance using with an average eeg reference projector added.\n",
      "  inverse_operator = mne.minimum_norm.make_inverse_operator(epochs.info, fwd, noise_cov, loose=loose, verbose=False)\n"
     ]
    },
    {
     "name": "stdout",
     "output_type": "stream",
     "text": [
      "Not setting metadata\n",
      "Not setting metadata\n",
      "10 matching events found\n",
      "No baseline correction applied\n",
      "0 projection items activated\n",
      "Loading data for 10 events and 500 original time points ...\n",
      "0 bad epochs dropped\n",
      "Fitted sphere radius:         99.0 mm\n",
      "Origin head coordinates:      -2.0 3.8 53.9 mm\n",
      "Origin device coordinates:    -2.0 3.8 53.9 mm\n"
     ]
    },
    {
     "name": "stderr",
     "output_type": "stream",
     "text": [
      "/home/christian/code/acareeg/acareeg/lemon.py:58: RuntimeWarning: Limited 1 annotation(s) that were expanding outside the data range.\n",
      "  raw = mne.io.read_raw_eeglab(str(Path(root_path) / eeg_rel_path / f\"sub-{subject}_{event_id}.set\"), verbose=False)\n",
      "/home/christian/code/acareeg/acareeg/lemon.py:58: RuntimeWarning: The data contains 'boundary' events, indicating data discontinuities. Be cautious of filtering and epoching around these events.\n",
      "  raw = mne.io.read_raw_eeglab(str(Path(root_path) / eeg_rel_path / f\"sub-{subject}_{event_id}.set\"), verbose=False)\n",
      "<ipython-input-2-c47d3aa7e58e>:39: RuntimeWarning: Epochs are not baseline corrected, covariance matrix may be inaccurate\n",
      "  noise_cov = mne.compute_covariance(epochs, method=\"auto\", verbose=False).as_diag()\n",
      "<ipython-input-2-c47d3aa7e58e>:40: RuntimeWarning: No average EEG reference present in info[\"projs\"], covariance may be adversely affected. Consider recomputing covariance using with an average eeg reference projector added.\n",
      "  inverse_operator = mne.minimum_norm.make_inverse_operator(epochs.info, fwd, noise_cov, loose=loose, verbose=False)\n",
      "<ipython-input-2-c47d3aa7e58e>:40: RuntimeWarning: No average EEG reference present in info[\"projs\"], covariance may be adversely affected. Consider recomputing covariance using with an average eeg reference projector added.\n",
      "  inverse_operator = mne.minimum_norm.make_inverse_operator(epochs.info, fwd, noise_cov, loose=loose, verbose=False)\n"
     ]
    },
    {
     "name": "stdout",
     "output_type": "stream",
     "text": [
      "Not setting metadata\n",
      "Not setting metadata\n",
      "10 matching events found\n",
      "No baseline correction applied\n",
      "0 projection items activated\n",
      "Loading data for 10 events and 500 original time points ...\n",
      "0 bad epochs dropped\n",
      "Fitted sphere radius:         99.4 mm\n",
      "Origin head coordinates:      6.5 -2.2 47.2 mm\n",
      "Origin device coordinates:    6.5 -2.2 47.2 mm\n"
     ]
    },
    {
     "name": "stderr",
     "output_type": "stream",
     "text": [
      "/home/christian/code/acareeg/acareeg/lemon.py:58: RuntimeWarning: Limited 1 annotation(s) that were expanding outside the data range.\n",
      "  raw = mne.io.read_raw_eeglab(str(Path(root_path) / eeg_rel_path / f\"sub-{subject}_{event_id}.set\"), verbose=False)\n",
      "/home/christian/code/acareeg/acareeg/lemon.py:58: RuntimeWarning: The data contains 'boundary' events, indicating data discontinuities. Be cautious of filtering and epoching around these events.\n",
      "  raw = mne.io.read_raw_eeglab(str(Path(root_path) / eeg_rel_path / f\"sub-{subject}_{event_id}.set\"), verbose=False)\n",
      "<ipython-input-2-c47d3aa7e58e>:39: RuntimeWarning: Epochs are not baseline corrected, covariance matrix may be inaccurate\n",
      "  noise_cov = mne.compute_covariance(epochs, method=\"auto\", verbose=False).as_diag()\n",
      "<ipython-input-2-c47d3aa7e58e>:40: RuntimeWarning: No average EEG reference present in info[\"projs\"], covariance may be adversely affected. Consider recomputing covariance using with an average eeg reference projector added.\n",
      "  inverse_operator = mne.minimum_norm.make_inverse_operator(epochs.info, fwd, noise_cov, loose=loose, verbose=False)\n",
      "<ipython-input-2-c47d3aa7e58e>:40: RuntimeWarning: No average EEG reference present in info[\"projs\"], covariance may be adversely affected. Consider recomputing covariance using with an average eeg reference projector added.\n",
      "  inverse_operator = mne.minimum_norm.make_inverse_operator(epochs.info, fwd, noise_cov, loose=loose, verbose=False)\n"
     ]
    },
    {
     "name": "stdout",
     "output_type": "stream",
     "text": [
      "Not setting metadata\n",
      "Not setting metadata\n",
      "10 matching events found\n",
      "No baseline correction applied\n",
      "0 projection items activated\n",
      "Loading data for 10 events and 500 original time points ...\n",
      "0 bad epochs dropped\n",
      "Fitted sphere radius:         104.0 mm\n",
      "Origin head coordinates:      3.3 11.0 42.8 mm\n",
      "Origin device coordinates:    3.3 11.0 42.8 mm\n"
     ]
    },
    {
     "name": "stderr",
     "output_type": "stream",
     "text": [
      "/home/christian/code/acareeg/acareeg/lemon.py:58: RuntimeWarning: Limited 1 annotation(s) that were expanding outside the data range.\n",
      "  raw = mne.io.read_raw_eeglab(str(Path(root_path) / eeg_rel_path / f\"sub-{subject}_{event_id}.set\"), verbose=False)\n",
      "/home/christian/code/acareeg/acareeg/lemon.py:58: RuntimeWarning: The data contains 'boundary' events, indicating data discontinuities. Be cautious of filtering and epoching around these events.\n",
      "  raw = mne.io.read_raw_eeglab(str(Path(root_path) / eeg_rel_path / f\"sub-{subject}_{event_id}.set\"), verbose=False)\n",
      "<ipython-input-2-c47d3aa7e58e>:39: RuntimeWarning: Epochs are not baseline corrected, covariance matrix may be inaccurate\n",
      "  noise_cov = mne.compute_covariance(epochs, method=\"auto\", verbose=False).as_diag()\n",
      "<ipython-input-2-c47d3aa7e58e>:40: RuntimeWarning: No average EEG reference present in info[\"projs\"], covariance may be adversely affected. Consider recomputing covariance using with an average eeg reference projector added.\n",
      "  inverse_operator = mne.minimum_norm.make_inverse_operator(epochs.info, fwd, noise_cov, loose=loose, verbose=False)\n",
      "<ipython-input-2-c47d3aa7e58e>:40: RuntimeWarning: No average EEG reference present in info[\"projs\"], covariance may be adversely affected. Consider recomputing covariance using with an average eeg reference projector added.\n",
      "  inverse_operator = mne.minimum_norm.make_inverse_operator(epochs.info, fwd, noise_cov, loose=loose, verbose=False)\n"
     ]
    },
    {
     "name": "stdout",
     "output_type": "stream",
     "text": [
      "Not setting metadata\n",
      "Not setting metadata\n",
      "10 matching events found\n",
      "No baseline correction applied\n",
      "0 projection items activated\n",
      "Loading data for 10 events and 500 original time points ...\n",
      "0 bad epochs dropped\n",
      "Fitted sphere radius:         102.9 mm\n",
      "Origin head coordinates:      3.9 0.1 39.6 mm\n",
      "Origin device coordinates:    3.9 0.1 39.6 mm\n"
     ]
    },
    {
     "name": "stderr",
     "output_type": "stream",
     "text": [
      "/home/christian/code/acareeg/acareeg/lemon.py:58: RuntimeWarning: Limited 1 annotation(s) that were expanding outside the data range.\n",
      "  raw = mne.io.read_raw_eeglab(str(Path(root_path) / eeg_rel_path / f\"sub-{subject}_{event_id}.set\"), verbose=False)\n",
      "/home/christian/code/acareeg/acareeg/lemon.py:58: RuntimeWarning: The data contains 'boundary' events, indicating data discontinuities. Be cautious of filtering and epoching around these events.\n",
      "  raw = mne.io.read_raw_eeglab(str(Path(root_path) / eeg_rel_path / f\"sub-{subject}_{event_id}.set\"), verbose=False)\n",
      "<ipython-input-2-c47d3aa7e58e>:39: RuntimeWarning: Epochs are not baseline corrected, covariance matrix may be inaccurate\n",
      "  noise_cov = mne.compute_covariance(epochs, method=\"auto\", verbose=False).as_diag()\n",
      "<ipython-input-2-c47d3aa7e58e>:40: RuntimeWarning: No average EEG reference present in info[\"projs\"], covariance may be adversely affected. Consider recomputing covariance using with an average eeg reference projector added.\n",
      "  inverse_operator = mne.minimum_norm.make_inverse_operator(epochs.info, fwd, noise_cov, loose=loose, verbose=False)\n",
      "<ipython-input-2-c47d3aa7e58e>:40: RuntimeWarning: No average EEG reference present in info[\"projs\"], covariance may be adversely affected. Consider recomputing covariance using with an average eeg reference projector added.\n",
      "  inverse_operator = mne.minimum_norm.make_inverse_operator(epochs.info, fwd, noise_cov, loose=loose, verbose=False)\n"
     ]
    },
    {
     "name": "stdout",
     "output_type": "stream",
     "text": [
      "Not setting metadata\n",
      "Not setting metadata\n",
      "10 matching events found\n",
      "No baseline correction applied\n",
      "0 projection items activated\n",
      "Loading data for 10 events and 500 original time points ...\n",
      "0 bad epochs dropped\n",
      "Fitted sphere radius:         100.5 mm\n",
      "Origin head coordinates:      2.3 1.5 43.3 mm\n",
      "Origin device coordinates:    2.3 1.5 43.3 mm\n"
     ]
    },
    {
     "name": "stderr",
     "output_type": "stream",
     "text": [
      "/home/christian/code/acareeg/acareeg/lemon.py:58: RuntimeWarning: Limited 1 annotation(s) that were expanding outside the data range.\n",
      "  raw = mne.io.read_raw_eeglab(str(Path(root_path) / eeg_rel_path / f\"sub-{subject}_{event_id}.set\"), verbose=False)\n",
      "/home/christian/code/acareeg/acareeg/lemon.py:58: RuntimeWarning: The data contains 'boundary' events, indicating data discontinuities. Be cautious of filtering and epoching around these events.\n",
      "  raw = mne.io.read_raw_eeglab(str(Path(root_path) / eeg_rel_path / f\"sub-{subject}_{event_id}.set\"), verbose=False)\n",
      "<ipython-input-2-c47d3aa7e58e>:39: RuntimeWarning: Epochs are not baseline corrected, covariance matrix may be inaccurate\n",
      "  noise_cov = mne.compute_covariance(epochs, method=\"auto\", verbose=False).as_diag()\n",
      "<ipython-input-2-c47d3aa7e58e>:40: RuntimeWarning: No average EEG reference present in info[\"projs\"], covariance may be adversely affected. Consider recomputing covariance using with an average eeg reference projector added.\n",
      "  inverse_operator = mne.minimum_norm.make_inverse_operator(epochs.info, fwd, noise_cov, loose=loose, verbose=False)\n",
      "<ipython-input-2-c47d3aa7e58e>:40: RuntimeWarning: No average EEG reference present in info[\"projs\"], covariance may be adversely affected. Consider recomputing covariance using with an average eeg reference projector added.\n",
      "  inverse_operator = mne.minimum_norm.make_inverse_operator(epochs.info, fwd, noise_cov, loose=loose, verbose=False)\n"
     ]
    },
    {
     "name": "stdout",
     "output_type": "stream",
     "text": [
      "Not setting metadata\n",
      "Not setting metadata\n",
      "10 matching events found\n",
      "No baseline correction applied\n",
      "0 projection items activated\n",
      "Loading data for 10 events and 500 original time points ...\n",
      "0 bad epochs dropped\n",
      "Fitted sphere radius:         97.8 mm\n",
      "Origin head coordinates:      1.6 1.4 44.7 mm\n",
      "Origin device coordinates:    1.6 1.4 44.7 mm\n"
     ]
    },
    {
     "name": "stderr",
     "output_type": "stream",
     "text": [
      "/home/christian/code/acareeg/acareeg/lemon.py:58: RuntimeWarning: Limited 1 annotation(s) that were expanding outside the data range.\n",
      "  raw = mne.io.read_raw_eeglab(str(Path(root_path) / eeg_rel_path / f\"sub-{subject}_{event_id}.set\"), verbose=False)\n",
      "/home/christian/code/acareeg/acareeg/lemon.py:58: RuntimeWarning: The data contains 'boundary' events, indicating data discontinuities. Be cautious of filtering and epoching around these events.\n",
      "  raw = mne.io.read_raw_eeglab(str(Path(root_path) / eeg_rel_path / f\"sub-{subject}_{event_id}.set\"), verbose=False)\n",
      "<ipython-input-2-c47d3aa7e58e>:39: RuntimeWarning: Epochs are not baseline corrected, covariance matrix may be inaccurate\n",
      "  noise_cov = mne.compute_covariance(epochs, method=\"auto\", verbose=False).as_diag()\n",
      "<ipython-input-2-c47d3aa7e58e>:40: RuntimeWarning: No average EEG reference present in info[\"projs\"], covariance may be adversely affected. Consider recomputing covariance using with an average eeg reference projector added.\n",
      "  inverse_operator = mne.minimum_norm.make_inverse_operator(epochs.info, fwd, noise_cov, loose=loose, verbose=False)\n",
      "<ipython-input-2-c47d3aa7e58e>:40: RuntimeWarning: No average EEG reference present in info[\"projs\"], covariance may be adversely affected. Consider recomputing covariance using with an average eeg reference projector added.\n",
      "  inverse_operator = mne.minimum_norm.make_inverse_operator(epochs.info, fwd, noise_cov, loose=loose, verbose=False)\n"
     ]
    },
    {
     "name": "stdout",
     "output_type": "stream",
     "text": [
      "Not setting metadata\n",
      "Not setting metadata\n",
      "10 matching events found\n",
      "No baseline correction applied\n",
      "0 projection items activated\n",
      "Loading data for 10 events and 500 original time points ...\n",
      "0 bad epochs dropped\n",
      "Fitted sphere radius:         98.5 mm\n",
      "Origin head coordinates:      3.3 9.2 45.1 mm\n",
      "Origin device coordinates:    3.3 9.2 45.1 mm\n"
     ]
    },
    {
     "name": "stderr",
     "output_type": "stream",
     "text": [
      "/home/christian/code/acareeg/acareeg/lemon.py:58: RuntimeWarning: Limited 1 annotation(s) that were expanding outside the data range.\n",
      "  raw = mne.io.read_raw_eeglab(str(Path(root_path) / eeg_rel_path / f\"sub-{subject}_{event_id}.set\"), verbose=False)\n",
      "/home/christian/code/acareeg/acareeg/lemon.py:58: RuntimeWarning: The data contains 'boundary' events, indicating data discontinuities. Be cautious of filtering and epoching around these events.\n",
      "  raw = mne.io.read_raw_eeglab(str(Path(root_path) / eeg_rel_path / f\"sub-{subject}_{event_id}.set\"), verbose=False)\n",
      "<ipython-input-2-c47d3aa7e58e>:39: RuntimeWarning: Epochs are not baseline corrected, covariance matrix may be inaccurate\n",
      "  noise_cov = mne.compute_covariance(epochs, method=\"auto\", verbose=False).as_diag()\n",
      "<ipython-input-2-c47d3aa7e58e>:40: RuntimeWarning: No average EEG reference present in info[\"projs\"], covariance may be adversely affected. Consider recomputing covariance using with an average eeg reference projector added.\n",
      "  inverse_operator = mne.minimum_norm.make_inverse_operator(epochs.info, fwd, noise_cov, loose=loose, verbose=False)\n",
      "<ipython-input-2-c47d3aa7e58e>:40: RuntimeWarning: No average EEG reference present in info[\"projs\"], covariance may be adversely affected. Consider recomputing covariance using with an average eeg reference projector added.\n",
      "  inverse_operator = mne.minimum_norm.make_inverse_operator(epochs.info, fwd, noise_cov, loose=loose, verbose=False)\n"
     ]
    },
    {
     "name": "stdout",
     "output_type": "stream",
     "text": [
      "Not setting metadata\n",
      "Not setting metadata\n",
      "10 matching events found\n",
      "No baseline correction applied\n",
      "0 projection items activated\n",
      "Loading data for 10 events and 500 original time points ...\n",
      "0 bad epochs dropped\n",
      "Fitted sphere radius:         100.1 mm\n",
      "Origin head coordinates:      2.3 -1.6 39.0 mm\n",
      "Origin device coordinates:    2.3 -1.6 39.0 mm\n"
     ]
    },
    {
     "name": "stderr",
     "output_type": "stream",
     "text": [
      "/home/christian/code/acareeg/acareeg/lemon.py:58: RuntimeWarning: Limited 1 annotation(s) that were expanding outside the data range.\n",
      "  raw = mne.io.read_raw_eeglab(str(Path(root_path) / eeg_rel_path / f\"sub-{subject}_{event_id}.set\"), verbose=False)\n",
      "/home/christian/code/acareeg/acareeg/lemon.py:58: RuntimeWarning: The data contains 'boundary' events, indicating data discontinuities. Be cautious of filtering and epoching around these events.\n",
      "  raw = mne.io.read_raw_eeglab(str(Path(root_path) / eeg_rel_path / f\"sub-{subject}_{event_id}.set\"), verbose=False)\n",
      "<ipython-input-2-c47d3aa7e58e>:39: RuntimeWarning: Epochs are not baseline corrected, covariance matrix may be inaccurate\n",
      "  noise_cov = mne.compute_covariance(epochs, method=\"auto\", verbose=False).as_diag()\n",
      "<ipython-input-2-c47d3aa7e58e>:40: RuntimeWarning: No average EEG reference present in info[\"projs\"], covariance may be adversely affected. Consider recomputing covariance using with an average eeg reference projector added.\n",
      "  inverse_operator = mne.minimum_norm.make_inverse_operator(epochs.info, fwd, noise_cov, loose=loose, verbose=False)\n",
      "<ipython-input-2-c47d3aa7e58e>:40: RuntimeWarning: No average EEG reference present in info[\"projs\"], covariance may be adversely affected. Consider recomputing covariance using with an average eeg reference projector added.\n",
      "  inverse_operator = mne.minimum_norm.make_inverse_operator(epochs.info, fwd, noise_cov, loose=loose, verbose=False)\n"
     ]
    },
    {
     "name": "stdout",
     "output_type": "stream",
     "text": [
      "Not setting metadata\n",
      "Not setting metadata\n",
      "10 matching events found\n",
      "No baseline correction applied\n",
      "0 projection items activated\n",
      "Loading data for 10 events and 500 original time points ...\n",
      "0 bad epochs dropped\n",
      "Fitted sphere radius:         101.2 mm\n",
      "Origin head coordinates:      2.7 6.7 45.7 mm\n",
      "Origin device coordinates:    2.7 6.7 45.7 mm\n"
     ]
    },
    {
     "name": "stderr",
     "output_type": "stream",
     "text": [
      "/home/christian/code/acareeg/acareeg/lemon.py:58: RuntimeWarning: Limited 1 annotation(s) that were expanding outside the data range.\n",
      "  raw = mne.io.read_raw_eeglab(str(Path(root_path) / eeg_rel_path / f\"sub-{subject}_{event_id}.set\"), verbose=False)\n",
      "/home/christian/code/acareeg/acareeg/lemon.py:58: RuntimeWarning: The data contains 'boundary' events, indicating data discontinuities. Be cautious of filtering and epoching around these events.\n",
      "  raw = mne.io.read_raw_eeglab(str(Path(root_path) / eeg_rel_path / f\"sub-{subject}_{event_id}.set\"), verbose=False)\n",
      "<ipython-input-2-c47d3aa7e58e>:39: RuntimeWarning: Epochs are not baseline corrected, covariance matrix may be inaccurate\n",
      "  noise_cov = mne.compute_covariance(epochs, method=\"auto\", verbose=False).as_diag()\n",
      "<ipython-input-2-c47d3aa7e58e>:40: RuntimeWarning: No average EEG reference present in info[\"projs\"], covariance may be adversely affected. Consider recomputing covariance using with an average eeg reference projector added.\n",
      "  inverse_operator = mne.minimum_norm.make_inverse_operator(epochs.info, fwd, noise_cov, loose=loose, verbose=False)\n",
      "<ipython-input-2-c47d3aa7e58e>:40: RuntimeWarning: No average EEG reference present in info[\"projs\"], covariance may be adversely affected. Consider recomputing covariance using with an average eeg reference projector added.\n",
      "  inverse_operator = mne.minimum_norm.make_inverse_operator(epochs.info, fwd, noise_cov, loose=loose, verbose=False)\n"
     ]
    },
    {
     "name": "stdout",
     "output_type": "stream",
     "text": [
      "Not setting metadata\n",
      "Not setting metadata\n",
      "10 matching events found\n",
      "No baseline correction applied\n",
      "0 projection items activated\n",
      "Loading data for 10 events and 500 original time points ...\n",
      "0 bad epochs dropped\n",
      "Fitted sphere radius:         99.5 mm\n",
      "Origin head coordinates:      0.5 4.1 42.2 mm\n",
      "Origin device coordinates:    0.5 4.1 42.2 mm\n"
     ]
    },
    {
     "name": "stderr",
     "output_type": "stream",
     "text": [
      "/home/christian/code/acareeg/acareeg/lemon.py:58: RuntimeWarning: Limited 1 annotation(s) that were expanding outside the data range.\n",
      "  raw = mne.io.read_raw_eeglab(str(Path(root_path) / eeg_rel_path / f\"sub-{subject}_{event_id}.set\"), verbose=False)\n",
      "/home/christian/code/acareeg/acareeg/lemon.py:58: RuntimeWarning: The data contains 'boundary' events, indicating data discontinuities. Be cautious of filtering and epoching around these events.\n",
      "  raw = mne.io.read_raw_eeglab(str(Path(root_path) / eeg_rel_path / f\"sub-{subject}_{event_id}.set\"), verbose=False)\n",
      "<ipython-input-2-c47d3aa7e58e>:39: RuntimeWarning: Epochs are not baseline corrected, covariance matrix may be inaccurate\n",
      "  noise_cov = mne.compute_covariance(epochs, method=\"auto\", verbose=False).as_diag()\n",
      "<ipython-input-2-c47d3aa7e58e>:40: RuntimeWarning: No average EEG reference present in info[\"projs\"], covariance may be adversely affected. Consider recomputing covariance using with an average eeg reference projector added.\n",
      "  inverse_operator = mne.minimum_norm.make_inverse_operator(epochs.info, fwd, noise_cov, loose=loose, verbose=False)\n",
      "<ipython-input-2-c47d3aa7e58e>:40: RuntimeWarning: No average EEG reference present in info[\"projs\"], covariance may be adversely affected. Consider recomputing covariance using with an average eeg reference projector added.\n",
      "  inverse_operator = mne.minimum_norm.make_inverse_operator(epochs.info, fwd, noise_cov, loose=loose, verbose=False)\n"
     ]
    },
    {
     "name": "stdout",
     "output_type": "stream",
     "text": [
      "Not setting metadata\n",
      "Not setting metadata\n",
      "10 matching events found\n",
      "No baseline correction applied\n",
      "0 projection items activated\n",
      "Loading data for 10 events and 500 original time points ...\n",
      "0 bad epochs dropped\n",
      "Fitted sphere radius:         99.5 mm\n",
      "Origin head coordinates:      1.6 -3.6 41.7 mm\n",
      "Origin device coordinates:    1.6 -3.6 41.7 mm\n"
     ]
    },
    {
     "name": "stderr",
     "output_type": "stream",
     "text": [
      "/home/christian/code/acareeg/acareeg/lemon.py:58: RuntimeWarning: Limited 1 annotation(s) that were expanding outside the data range.\n",
      "  raw = mne.io.read_raw_eeglab(str(Path(root_path) / eeg_rel_path / f\"sub-{subject}_{event_id}.set\"), verbose=False)\n",
      "/home/christian/code/acareeg/acareeg/lemon.py:58: RuntimeWarning: The data contains 'boundary' events, indicating data discontinuities. Be cautious of filtering and epoching around these events.\n",
      "  raw = mne.io.read_raw_eeglab(str(Path(root_path) / eeg_rel_path / f\"sub-{subject}_{event_id}.set\"), verbose=False)\n",
      "<ipython-input-2-c47d3aa7e58e>:39: RuntimeWarning: Epochs are not baseline corrected, covariance matrix may be inaccurate\n",
      "  noise_cov = mne.compute_covariance(epochs, method=\"auto\", verbose=False).as_diag()\n",
      "<ipython-input-2-c47d3aa7e58e>:40: RuntimeWarning: No average EEG reference present in info[\"projs\"], covariance may be adversely affected. Consider recomputing covariance using with an average eeg reference projector added.\n",
      "  inverse_operator = mne.minimum_norm.make_inverse_operator(epochs.info, fwd, noise_cov, loose=loose, verbose=False)\n",
      "<ipython-input-2-c47d3aa7e58e>:40: RuntimeWarning: No average EEG reference present in info[\"projs\"], covariance may be adversely affected. Consider recomputing covariance using with an average eeg reference projector added.\n",
      "  inverse_operator = mne.minimum_norm.make_inverse_operator(epochs.info, fwd, noise_cov, loose=loose, verbose=False)\n"
     ]
    },
    {
     "name": "stdout",
     "output_type": "stream",
     "text": [
      "Not setting metadata\n",
      "Not setting metadata\n",
      "10 matching events found\n",
      "No baseline correction applied\n",
      "0 projection items activated\n",
      "Loading data for 10 events and 500 original time points ...\n",
      "0 bad epochs dropped\n",
      "Fitted sphere radius:         98.5 mm\n",
      "Origin head coordinates:      3.5 -2.5 45.9 mm\n",
      "Origin device coordinates:    3.5 -2.5 45.9 mm\n"
     ]
    },
    {
     "name": "stderr",
     "output_type": "stream",
     "text": [
      "/home/christian/code/acareeg/acareeg/lemon.py:58: RuntimeWarning: Limited 1 annotation(s) that were expanding outside the data range.\n",
      "  raw = mne.io.read_raw_eeglab(str(Path(root_path) / eeg_rel_path / f\"sub-{subject}_{event_id}.set\"), verbose=False)\n",
      "/home/christian/code/acareeg/acareeg/lemon.py:58: RuntimeWarning: The data contains 'boundary' events, indicating data discontinuities. Be cautious of filtering and epoching around these events.\n",
      "  raw = mne.io.read_raw_eeglab(str(Path(root_path) / eeg_rel_path / f\"sub-{subject}_{event_id}.set\"), verbose=False)\n",
      "<ipython-input-2-c47d3aa7e58e>:39: RuntimeWarning: Epochs are not baseline corrected, covariance matrix may be inaccurate\n",
      "  noise_cov = mne.compute_covariance(epochs, method=\"auto\", verbose=False).as_diag()\n",
      "<ipython-input-2-c47d3aa7e58e>:40: RuntimeWarning: No average EEG reference present in info[\"projs\"], covariance may be adversely affected. Consider recomputing covariance using with an average eeg reference projector added.\n",
      "  inverse_operator = mne.minimum_norm.make_inverse_operator(epochs.info, fwd, noise_cov, loose=loose, verbose=False)\n",
      "<ipython-input-2-c47d3aa7e58e>:40: RuntimeWarning: No average EEG reference present in info[\"projs\"], covariance may be adversely affected. Consider recomputing covariance using with an average eeg reference projector added.\n",
      "  inverse_operator = mne.minimum_norm.make_inverse_operator(epochs.info, fwd, noise_cov, loose=loose, verbose=False)\n"
     ]
    },
    {
     "name": "stdout",
     "output_type": "stream",
     "text": [
      "Not setting metadata\n",
      "Not setting metadata\n",
      "10 matching events found\n",
      "No baseline correction applied\n",
      "0 projection items activated\n",
      "Loading data for 10 events and 500 original time points ...\n",
      "0 bad epochs dropped\n",
      "Fitted sphere radius:         100.6 mm\n",
      "Origin head coordinates:      1.4 -2.2 40.7 mm\n",
      "Origin device coordinates:    1.4 -2.2 40.7 mm\n"
     ]
    },
    {
     "name": "stderr",
     "output_type": "stream",
     "text": [
      "/home/christian/code/acareeg/acareeg/lemon.py:58: RuntimeWarning: Limited 1 annotation(s) that were expanding outside the data range.\n",
      "  raw = mne.io.read_raw_eeglab(str(Path(root_path) / eeg_rel_path / f\"sub-{subject}_{event_id}.set\"), verbose=False)\n",
      "/home/christian/code/acareeg/acareeg/lemon.py:58: RuntimeWarning: The data contains 'boundary' events, indicating data discontinuities. Be cautious of filtering and epoching around these events.\n",
      "  raw = mne.io.read_raw_eeglab(str(Path(root_path) / eeg_rel_path / f\"sub-{subject}_{event_id}.set\"), verbose=False)\n",
      "<ipython-input-2-c47d3aa7e58e>:39: RuntimeWarning: Epochs are not baseline corrected, covariance matrix may be inaccurate\n",
      "  noise_cov = mne.compute_covariance(epochs, method=\"auto\", verbose=False).as_diag()\n",
      "<ipython-input-2-c47d3aa7e58e>:40: RuntimeWarning: No average EEG reference present in info[\"projs\"], covariance may be adversely affected. Consider recomputing covariance using with an average eeg reference projector added.\n",
      "  inverse_operator = mne.minimum_norm.make_inverse_operator(epochs.info, fwd, noise_cov, loose=loose, verbose=False)\n",
      "<ipython-input-2-c47d3aa7e58e>:40: RuntimeWarning: No average EEG reference present in info[\"projs\"], covariance may be adversely affected. Consider recomputing covariance using with an average eeg reference projector added.\n",
      "  inverse_operator = mne.minimum_norm.make_inverse_operator(epochs.info, fwd, noise_cov, loose=loose, verbose=False)\n"
     ]
    },
    {
     "name": "stdout",
     "output_type": "stream",
     "text": [
      "Not setting metadata\n",
      "Not setting metadata\n",
      "10 matching events found\n",
      "No baseline correction applied\n",
      "0 projection items activated\n",
      "Loading data for 10 events and 500 original time points ...\n",
      "0 bad epochs dropped\n",
      "Fitted sphere radius:         103.5 mm\n",
      "Origin head coordinates:      4.0 4.2 43.1 mm\n",
      "Origin device coordinates:    4.0 4.2 43.1 mm\n"
     ]
    },
    {
     "name": "stderr",
     "output_type": "stream",
     "text": [
      "/home/christian/code/acareeg/acareeg/lemon.py:58: RuntimeWarning: Limited 1 annotation(s) that were expanding outside the data range.\n",
      "  raw = mne.io.read_raw_eeglab(str(Path(root_path) / eeg_rel_path / f\"sub-{subject}_{event_id}.set\"), verbose=False)\n",
      "/home/christian/code/acareeg/acareeg/lemon.py:58: RuntimeWarning: The data contains 'boundary' events, indicating data discontinuities. Be cautious of filtering and epoching around these events.\n",
      "  raw = mne.io.read_raw_eeglab(str(Path(root_path) / eeg_rel_path / f\"sub-{subject}_{event_id}.set\"), verbose=False)\n",
      "<ipython-input-2-c47d3aa7e58e>:39: RuntimeWarning: Epochs are not baseline corrected, covariance matrix may be inaccurate\n",
      "  noise_cov = mne.compute_covariance(epochs, method=\"auto\", verbose=False).as_diag()\n",
      "<ipython-input-2-c47d3aa7e58e>:40: RuntimeWarning: No average EEG reference present in info[\"projs\"], covariance may be adversely affected. Consider recomputing covariance using with an average eeg reference projector added.\n",
      "  inverse_operator = mne.minimum_norm.make_inverse_operator(epochs.info, fwd, noise_cov, loose=loose, verbose=False)\n",
      "<ipython-input-2-c47d3aa7e58e>:40: RuntimeWarning: No average EEG reference present in info[\"projs\"], covariance may be adversely affected. Consider recomputing covariance using with an average eeg reference projector added.\n",
      "  inverse_operator = mne.minimum_norm.make_inverse_operator(epochs.info, fwd, noise_cov, loose=loose, verbose=False)\n"
     ]
    },
    {
     "name": "stdout",
     "output_type": "stream",
     "text": [
      "Not setting metadata\n",
      "Not setting metadata\n",
      "10 matching events found\n",
      "No baseline correction applied\n",
      "0 projection items activated\n",
      "Loading data for 10 events and 500 original time points ...\n",
      "0 bad epochs dropped\n",
      "Fitted sphere radius:         101.0 mm\n",
      "Origin head coordinates:      7.0 7.5 34.2 mm\n",
      "Origin device coordinates:    7.0 7.5 34.2 mm\n"
     ]
    },
    {
     "name": "stderr",
     "output_type": "stream",
     "text": [
      "/home/christian/code/acareeg/acareeg/lemon.py:58: RuntimeWarning: Limited 1 annotation(s) that were expanding outside the data range.\n",
      "  raw = mne.io.read_raw_eeglab(str(Path(root_path) / eeg_rel_path / f\"sub-{subject}_{event_id}.set\"), verbose=False)\n",
      "/home/christian/code/acareeg/acareeg/lemon.py:58: RuntimeWarning: The data contains 'boundary' events, indicating data discontinuities. Be cautious of filtering and epoching around these events.\n",
      "  raw = mne.io.read_raw_eeglab(str(Path(root_path) / eeg_rel_path / f\"sub-{subject}_{event_id}.set\"), verbose=False)\n",
      "<ipython-input-2-c47d3aa7e58e>:39: RuntimeWarning: Epochs are not baseline corrected, covariance matrix may be inaccurate\n",
      "  noise_cov = mne.compute_covariance(epochs, method=\"auto\", verbose=False).as_diag()\n",
      "<ipython-input-2-c47d3aa7e58e>:40: RuntimeWarning: No average EEG reference present in info[\"projs\"], covariance may be adversely affected. Consider recomputing covariance using with an average eeg reference projector added.\n",
      "  inverse_operator = mne.minimum_norm.make_inverse_operator(epochs.info, fwd, noise_cov, loose=loose, verbose=False)\n",
      "<ipython-input-2-c47d3aa7e58e>:40: RuntimeWarning: No average EEG reference present in info[\"projs\"], covariance may be adversely affected. Consider recomputing covariance using with an average eeg reference projector added.\n",
      "  inverse_operator = mne.minimum_norm.make_inverse_operator(epochs.info, fwd, noise_cov, loose=loose, verbose=False)\n"
     ]
    },
    {
     "name": "stdout",
     "output_type": "stream",
     "text": [
      "Not setting metadata\n",
      "Not setting metadata\n",
      "10 matching events found\n",
      "No baseline correction applied\n",
      "0 projection items activated\n",
      "Loading data for 10 events and 500 original time points ...\n",
      "0 bad epochs dropped\n",
      "Fitted sphere radius:         103.3 mm\n",
      "Origin head coordinates:      0.3 3.2 38.8 mm\n",
      "Origin device coordinates:    0.3 3.2 38.8 mm\n"
     ]
    },
    {
     "name": "stderr",
     "output_type": "stream",
     "text": [
      "/home/christian/code/acareeg/acareeg/lemon.py:58: RuntimeWarning: Limited 1 annotation(s) that were expanding outside the data range.\n",
      "  raw = mne.io.read_raw_eeglab(str(Path(root_path) / eeg_rel_path / f\"sub-{subject}_{event_id}.set\"), verbose=False)\n",
      "/home/christian/code/acareeg/acareeg/lemon.py:58: RuntimeWarning: The data contains 'boundary' events, indicating data discontinuities. Be cautious of filtering and epoching around these events.\n",
      "  raw = mne.io.read_raw_eeglab(str(Path(root_path) / eeg_rel_path / f\"sub-{subject}_{event_id}.set\"), verbose=False)\n",
      "<ipython-input-2-c47d3aa7e58e>:39: RuntimeWarning: Epochs are not baseline corrected, covariance matrix may be inaccurate\n",
      "  noise_cov = mne.compute_covariance(epochs, method=\"auto\", verbose=False).as_diag()\n",
      "<ipython-input-2-c47d3aa7e58e>:40: RuntimeWarning: No average EEG reference present in info[\"projs\"], covariance may be adversely affected. Consider recomputing covariance using with an average eeg reference projector added.\n",
      "  inverse_operator = mne.minimum_norm.make_inverse_operator(epochs.info, fwd, noise_cov, loose=loose, verbose=False)\n",
      "<ipython-input-2-c47d3aa7e58e>:40: RuntimeWarning: No average EEG reference present in info[\"projs\"], covariance may be adversely affected. Consider recomputing covariance using with an average eeg reference projector added.\n",
      "  inverse_operator = mne.minimum_norm.make_inverse_operator(epochs.info, fwd, noise_cov, loose=loose, verbose=False)\n"
     ]
    },
    {
     "name": "stdout",
     "output_type": "stream",
     "text": [
      "Not setting metadata\n",
      "Not setting metadata\n",
      "10 matching events found\n",
      "No baseline correction applied\n",
      "0 projection items activated\n",
      "Loading data for 10 events and 500 original time points ...\n",
      "0 bad epochs dropped\n",
      "Fitted sphere radius:         105.4 mm\n",
      "Origin head coordinates:      3.9 -2.1 48.2 mm\n",
      "Origin device coordinates:    3.9 -2.1 48.2 mm\n"
     ]
    },
    {
     "name": "stderr",
     "output_type": "stream",
     "text": [
      "/home/christian/code/acareeg/acareeg/lemon.py:58: RuntimeWarning: Limited 1 annotation(s) that were expanding outside the data range.\n",
      "  raw = mne.io.read_raw_eeglab(str(Path(root_path) / eeg_rel_path / f\"sub-{subject}_{event_id}.set\"), verbose=False)\n",
      "/home/christian/code/acareeg/acareeg/lemon.py:58: RuntimeWarning: The data contains 'boundary' events, indicating data discontinuities. Be cautious of filtering and epoching around these events.\n",
      "  raw = mne.io.read_raw_eeglab(str(Path(root_path) / eeg_rel_path / f\"sub-{subject}_{event_id}.set\"), verbose=False)\n",
      "<ipython-input-2-c47d3aa7e58e>:39: RuntimeWarning: Epochs are not baseline corrected, covariance matrix may be inaccurate\n",
      "  noise_cov = mne.compute_covariance(epochs, method=\"auto\", verbose=False).as_diag()\n",
      "<ipython-input-2-c47d3aa7e58e>:40: RuntimeWarning: No average EEG reference present in info[\"projs\"], covariance may be adversely affected. Consider recomputing covariance using with an average eeg reference projector added.\n",
      "  inverse_operator = mne.minimum_norm.make_inverse_operator(epochs.info, fwd, noise_cov, loose=loose, verbose=False)\n",
      "<ipython-input-2-c47d3aa7e58e>:40: RuntimeWarning: No average EEG reference present in info[\"projs\"], covariance may be adversely affected. Consider recomputing covariance using with an average eeg reference projector added.\n",
      "  inverse_operator = mne.minimum_norm.make_inverse_operator(epochs.info, fwd, noise_cov, loose=loose, verbose=False)\n"
     ]
    },
    {
     "name": "stdout",
     "output_type": "stream",
     "text": [
      "Not setting metadata\n",
      "Not setting metadata\n",
      "10 matching events found\n",
      "No baseline correction applied\n",
      "0 projection items activated\n",
      "Loading data for 10 events and 500 original time points ...\n",
      "0 bad epochs dropped\n",
      "Fitted sphere radius:         102.8 mm\n",
      "Origin head coordinates:      4.6 -3.7 51.4 mm\n",
      "Origin device coordinates:    4.6 -3.7 51.4 mm\n"
     ]
    },
    {
     "name": "stderr",
     "output_type": "stream",
     "text": [
      "/home/christian/code/acareeg/acareeg/lemon.py:58: RuntimeWarning: Limited 1 annotation(s) that were expanding outside the data range.\n",
      "  raw = mne.io.read_raw_eeglab(str(Path(root_path) / eeg_rel_path / f\"sub-{subject}_{event_id}.set\"), verbose=False)\n",
      "/home/christian/code/acareeg/acareeg/lemon.py:58: RuntimeWarning: The data contains 'boundary' events, indicating data discontinuities. Be cautious of filtering and epoching around these events.\n",
      "  raw = mne.io.read_raw_eeglab(str(Path(root_path) / eeg_rel_path / f\"sub-{subject}_{event_id}.set\"), verbose=False)\n",
      "<ipython-input-2-c47d3aa7e58e>:39: RuntimeWarning: Epochs are not baseline corrected, covariance matrix may be inaccurate\n",
      "  noise_cov = mne.compute_covariance(epochs, method=\"auto\", verbose=False).as_diag()\n",
      "<ipython-input-2-c47d3aa7e58e>:40: RuntimeWarning: No average EEG reference present in info[\"projs\"], covariance may be adversely affected. Consider recomputing covariance using with an average eeg reference projector added.\n",
      "  inverse_operator = mne.minimum_norm.make_inverse_operator(epochs.info, fwd, noise_cov, loose=loose, verbose=False)\n",
      "<ipython-input-2-c47d3aa7e58e>:40: RuntimeWarning: No average EEG reference present in info[\"projs\"], covariance may be adversely affected. Consider recomputing covariance using with an average eeg reference projector added.\n",
      "  inverse_operator = mne.minimum_norm.make_inverse_operator(epochs.info, fwd, noise_cov, loose=loose, verbose=False)\n"
     ]
    },
    {
     "name": "stdout",
     "output_type": "stream",
     "text": [
      "Not setting metadata\n",
      "Not setting metadata\n",
      "10 matching events found\n",
      "No baseline correction applied\n",
      "0 projection items activated\n",
      "Loading data for 10 events and 500 original time points ...\n",
      "0 bad epochs dropped\n",
      "Fitted sphere radius:         102.6 mm\n",
      "Origin head coordinates:      2.5 4.4 40.7 mm\n",
      "Origin device coordinates:    2.5 4.4 40.7 mm\n"
     ]
    },
    {
     "name": "stderr",
     "output_type": "stream",
     "text": [
      "/home/christian/code/acareeg/acareeg/lemon.py:58: RuntimeWarning: Limited 1 annotation(s) that were expanding outside the data range.\n",
      "  raw = mne.io.read_raw_eeglab(str(Path(root_path) / eeg_rel_path / f\"sub-{subject}_{event_id}.set\"), verbose=False)\n",
      "/home/christian/code/acareeg/acareeg/lemon.py:58: RuntimeWarning: The data contains 'boundary' events, indicating data discontinuities. Be cautious of filtering and epoching around these events.\n",
      "  raw = mne.io.read_raw_eeglab(str(Path(root_path) / eeg_rel_path / f\"sub-{subject}_{event_id}.set\"), verbose=False)\n",
      "<ipython-input-2-c47d3aa7e58e>:39: RuntimeWarning: Epochs are not baseline corrected, covariance matrix may be inaccurate\n",
      "  noise_cov = mne.compute_covariance(epochs, method=\"auto\", verbose=False).as_diag()\n",
      "<ipython-input-2-c47d3aa7e58e>:40: RuntimeWarning: No average EEG reference present in info[\"projs\"], covariance may be adversely affected. Consider recomputing covariance using with an average eeg reference projector added.\n",
      "  inverse_operator = mne.minimum_norm.make_inverse_operator(epochs.info, fwd, noise_cov, loose=loose, verbose=False)\n",
      "<ipython-input-2-c47d3aa7e58e>:40: RuntimeWarning: No average EEG reference present in info[\"projs\"], covariance may be adversely affected. Consider recomputing covariance using with an average eeg reference projector added.\n",
      "  inverse_operator = mne.minimum_norm.make_inverse_operator(epochs.info, fwd, noise_cov, loose=loose, verbose=False)\n"
     ]
    },
    {
     "name": "stdout",
     "output_type": "stream",
     "text": [
      "Not setting metadata\n",
      "Not setting metadata\n",
      "10 matching events found\n",
      "No baseline correction applied\n",
      "0 projection items activated\n",
      "Loading data for 10 events and 500 original time points ...\n",
      "0 bad epochs dropped\n",
      "Fitted sphere radius:         91.1 mm\n",
      "Origin head coordinates:      -7.4 -14.2 -48.0 mm\n",
      "Origin device coordinates:    -7.4 -14.2 -48.0 mm\n"
     ]
    },
    {
     "name": "stderr",
     "output_type": "stream",
     "text": [
      "/home/christian/code/acareeg/acareeg/lemon.py:58: RuntimeWarning: Limited 1 annotation(s) that were expanding outside the data range.\n",
      "  raw = mne.io.read_raw_eeglab(str(Path(root_path) / eeg_rel_path / f\"sub-{subject}_{event_id}.set\"), verbose=False)\n",
      "/home/christian/code/acareeg/acareeg/lemon.py:58: RuntimeWarning: The data contains 'boundary' events, indicating data discontinuities. Be cautious of filtering and epoching around these events.\n",
      "  raw = mne.io.read_raw_eeglab(str(Path(root_path) / eeg_rel_path / f\"sub-{subject}_{event_id}.set\"), verbose=False)\n",
      "<ipython-input-2-c47d3aa7e58e>:39: RuntimeWarning: Epochs are not baseline corrected, covariance matrix may be inaccurate\n",
      "  noise_cov = mne.compute_covariance(epochs, method=\"auto\", verbose=False).as_diag()\n",
      "<ipython-input-2-c47d3aa7e58e>:40: RuntimeWarning: No average EEG reference present in info[\"projs\"], covariance may be adversely affected. Consider recomputing covariance using with an average eeg reference projector added.\n",
      "  inverse_operator = mne.minimum_norm.make_inverse_operator(epochs.info, fwd, noise_cov, loose=loose, verbose=False)\n",
      "<ipython-input-2-c47d3aa7e58e>:40: RuntimeWarning: No average EEG reference present in info[\"projs\"], covariance may be adversely affected. Consider recomputing covariance using with an average eeg reference projector added.\n",
      "  inverse_operator = mne.minimum_norm.make_inverse_operator(epochs.info, fwd, noise_cov, loose=loose, verbose=False)\n"
     ]
    },
    {
     "name": "stdout",
     "output_type": "stream",
     "text": [
      "Not setting metadata\n",
      "Not setting metadata\n",
      "10 matching events found\n",
      "No baseline correction applied\n",
      "0 projection items activated\n",
      "Loading data for 10 events and 500 original time points ...\n",
      "0 bad epochs dropped\n",
      "Fitted sphere radius:         103.0 mm\n",
      "Origin head coordinates:      1.1 3.7 32.9 mm\n",
      "Origin device coordinates:    1.1 3.7 32.9 mm\n"
     ]
    },
    {
     "name": "stderr",
     "output_type": "stream",
     "text": [
      "/home/christian/code/acareeg/acareeg/lemon.py:58: RuntimeWarning: Limited 1 annotation(s) that were expanding outside the data range.\n",
      "  raw = mne.io.read_raw_eeglab(str(Path(root_path) / eeg_rel_path / f\"sub-{subject}_{event_id}.set\"), verbose=False)\n",
      "/home/christian/code/acareeg/acareeg/lemon.py:58: RuntimeWarning: The data contains 'boundary' events, indicating data discontinuities. Be cautious of filtering and epoching around these events.\n",
      "  raw = mne.io.read_raw_eeglab(str(Path(root_path) / eeg_rel_path / f\"sub-{subject}_{event_id}.set\"), verbose=False)\n",
      "<ipython-input-2-c47d3aa7e58e>:39: RuntimeWarning: Epochs are not baseline corrected, covariance matrix may be inaccurate\n",
      "  noise_cov = mne.compute_covariance(epochs, method=\"auto\", verbose=False).as_diag()\n",
      "<ipython-input-2-c47d3aa7e58e>:40: RuntimeWarning: No average EEG reference present in info[\"projs\"], covariance may be adversely affected. Consider recomputing covariance using with an average eeg reference projector added.\n",
      "  inverse_operator = mne.minimum_norm.make_inverse_operator(epochs.info, fwd, noise_cov, loose=loose, verbose=False)\n",
      "<ipython-input-2-c47d3aa7e58e>:40: RuntimeWarning: No average EEG reference present in info[\"projs\"], covariance may be adversely affected. Consider recomputing covariance using with an average eeg reference projector added.\n",
      "  inverse_operator = mne.minimum_norm.make_inverse_operator(epochs.info, fwd, noise_cov, loose=loose, verbose=False)\n"
     ]
    },
    {
     "name": "stdout",
     "output_type": "stream",
     "text": [
      "Not setting metadata\n",
      "Not setting metadata\n",
      "10 matching events found\n",
      "No baseline correction applied\n",
      "0 projection items activated\n",
      "Loading data for 10 events and 500 original time points ...\n",
      "0 bad epochs dropped\n",
      "Fitted sphere radius:         102.8 mm\n",
      "Origin head coordinates:      3.6 4.3 35.9 mm\n",
      "Origin device coordinates:    3.6 4.3 35.9 mm\n"
     ]
    },
    {
     "name": "stderr",
     "output_type": "stream",
     "text": [
      "/home/christian/code/acareeg/acareeg/lemon.py:58: RuntimeWarning: Limited 1 annotation(s) that were expanding outside the data range.\n",
      "  raw = mne.io.read_raw_eeglab(str(Path(root_path) / eeg_rel_path / f\"sub-{subject}_{event_id}.set\"), verbose=False)\n",
      "/home/christian/code/acareeg/acareeg/lemon.py:58: RuntimeWarning: The data contains 'boundary' events, indicating data discontinuities. Be cautious of filtering and epoching around these events.\n",
      "  raw = mne.io.read_raw_eeglab(str(Path(root_path) / eeg_rel_path / f\"sub-{subject}_{event_id}.set\"), verbose=False)\n",
      "<ipython-input-2-c47d3aa7e58e>:39: RuntimeWarning: Epochs are not baseline corrected, covariance matrix may be inaccurate\n",
      "  noise_cov = mne.compute_covariance(epochs, method=\"auto\", verbose=False).as_diag()\n",
      "<ipython-input-2-c47d3aa7e58e>:40: RuntimeWarning: No average EEG reference present in info[\"projs\"], covariance may be adversely affected. Consider recomputing covariance using with an average eeg reference projector added.\n",
      "  inverse_operator = mne.minimum_norm.make_inverse_operator(epochs.info, fwd, noise_cov, loose=loose, verbose=False)\n",
      "<ipython-input-2-c47d3aa7e58e>:40: RuntimeWarning: No average EEG reference present in info[\"projs\"], covariance may be adversely affected. Consider recomputing covariance using with an average eeg reference projector added.\n",
      "  inverse_operator = mne.minimum_norm.make_inverse_operator(epochs.info, fwd, noise_cov, loose=loose, verbose=False)\n"
     ]
    },
    {
     "name": "stdout",
     "output_type": "stream",
     "text": [
      "Not setting metadata\n",
      "Not setting metadata\n",
      "10 matching events found\n",
      "No baseline correction applied\n",
      "0 projection items activated\n",
      "Loading data for 10 events and 500 original time points ...\n",
      "0 bad epochs dropped\n",
      "Fitted sphere radius:         94.7 mm\n",
      "Origin head coordinates:      3.2 1.4 38.3 mm\n",
      "Origin device coordinates:    3.2 1.4 38.3 mm\n"
     ]
    },
    {
     "name": "stderr",
     "output_type": "stream",
     "text": [
      "/home/christian/code/acareeg/acareeg/lemon.py:58: RuntimeWarning: Limited 1 annotation(s) that were expanding outside the data range.\n",
      "  raw = mne.io.read_raw_eeglab(str(Path(root_path) / eeg_rel_path / f\"sub-{subject}_{event_id}.set\"), verbose=False)\n",
      "/home/christian/code/acareeg/acareeg/lemon.py:58: RuntimeWarning: The data contains 'boundary' events, indicating data discontinuities. Be cautious of filtering and epoching around these events.\n",
      "  raw = mne.io.read_raw_eeglab(str(Path(root_path) / eeg_rel_path / f\"sub-{subject}_{event_id}.set\"), verbose=False)\n",
      "<ipython-input-2-c47d3aa7e58e>:39: RuntimeWarning: Epochs are not baseline corrected, covariance matrix may be inaccurate\n",
      "  noise_cov = mne.compute_covariance(epochs, method=\"auto\", verbose=False).as_diag()\n",
      "<ipython-input-2-c47d3aa7e58e>:40: RuntimeWarning: No average EEG reference present in info[\"projs\"], covariance may be adversely affected. Consider recomputing covariance using with an average eeg reference projector added.\n",
      "  inverse_operator = mne.minimum_norm.make_inverse_operator(epochs.info, fwd, noise_cov, loose=loose, verbose=False)\n",
      "<ipython-input-2-c47d3aa7e58e>:40: RuntimeWarning: No average EEG reference present in info[\"projs\"], covariance may be adversely affected. Consider recomputing covariance using with an average eeg reference projector added.\n",
      "  inverse_operator = mne.minimum_norm.make_inverse_operator(epochs.info, fwd, noise_cov, loose=loose, verbose=False)\n"
     ]
    },
    {
     "name": "stdout",
     "output_type": "stream",
     "text": [
      "Not setting metadata\n",
      "Not setting metadata\n",
      "10 matching events found\n",
      "No baseline correction applied\n",
      "0 projection items activated\n",
      "Loading data for 10 events and 500 original time points ...\n",
      "0 bad epochs dropped\n",
      "Fitted sphere radius:         99.9 mm\n",
      "Origin head coordinates:      4.8 -1.5 31.8 mm\n",
      "Origin device coordinates:    4.8 -1.5 31.8 mm\n"
     ]
    },
    {
     "name": "stderr",
     "output_type": "stream",
     "text": [
      "/home/christian/code/acareeg/acareeg/lemon.py:58: RuntimeWarning: Limited 1 annotation(s) that were expanding outside the data range.\n",
      "  raw = mne.io.read_raw_eeglab(str(Path(root_path) / eeg_rel_path / f\"sub-{subject}_{event_id}.set\"), verbose=False)\n",
      "/home/christian/code/acareeg/acareeg/lemon.py:58: RuntimeWarning: The data contains 'boundary' events, indicating data discontinuities. Be cautious of filtering and epoching around these events.\n",
      "  raw = mne.io.read_raw_eeglab(str(Path(root_path) / eeg_rel_path / f\"sub-{subject}_{event_id}.set\"), verbose=False)\n",
      "<ipython-input-2-c47d3aa7e58e>:39: RuntimeWarning: Epochs are not baseline corrected, covariance matrix may be inaccurate\n",
      "  noise_cov = mne.compute_covariance(epochs, method=\"auto\", verbose=False).as_diag()\n",
      "<ipython-input-2-c47d3aa7e58e>:40: RuntimeWarning: No average EEG reference present in info[\"projs\"], covariance may be adversely affected. Consider recomputing covariance using with an average eeg reference projector added.\n",
      "  inverse_operator = mne.minimum_norm.make_inverse_operator(epochs.info, fwd, noise_cov, loose=loose, verbose=False)\n",
      "<ipython-input-2-c47d3aa7e58e>:40: RuntimeWarning: No average EEG reference present in info[\"projs\"], covariance may be adversely affected. Consider recomputing covariance using with an average eeg reference projector added.\n",
      "  inverse_operator = mne.minimum_norm.make_inverse_operator(epochs.info, fwd, noise_cov, loose=loose, verbose=False)\n"
     ]
    },
    {
     "name": "stdout",
     "output_type": "stream",
     "text": [
      "Not setting metadata\n",
      "Not setting metadata\n",
      "10 matching events found\n",
      "No baseline correction applied\n",
      "0 projection items activated\n",
      "Loading data for 10 events and 500 original time points ...\n",
      "0 bad epochs dropped\n",
      "Fitted sphere radius:         100.2 mm\n",
      "Origin head coordinates:      3.0 3.9 41.0 mm\n",
      "Origin device coordinates:    3.0 3.9 41.0 mm\n"
     ]
    },
    {
     "name": "stderr",
     "output_type": "stream",
     "text": [
      "/home/christian/code/acareeg/acareeg/lemon.py:58: RuntimeWarning: Limited 1 annotation(s) that were expanding outside the data range.\n",
      "  raw = mne.io.read_raw_eeglab(str(Path(root_path) / eeg_rel_path / f\"sub-{subject}_{event_id}.set\"), verbose=False)\n",
      "/home/christian/code/acareeg/acareeg/lemon.py:58: RuntimeWarning: The data contains 'boundary' events, indicating data discontinuities. Be cautious of filtering and epoching around these events.\n",
      "  raw = mne.io.read_raw_eeglab(str(Path(root_path) / eeg_rel_path / f\"sub-{subject}_{event_id}.set\"), verbose=False)\n",
      "<ipython-input-2-c47d3aa7e58e>:39: RuntimeWarning: Epochs are not baseline corrected, covariance matrix may be inaccurate\n",
      "  noise_cov = mne.compute_covariance(epochs, method=\"auto\", verbose=False).as_diag()\n",
      "<ipython-input-2-c47d3aa7e58e>:40: RuntimeWarning: No average EEG reference present in info[\"projs\"], covariance may be adversely affected. Consider recomputing covariance using with an average eeg reference projector added.\n",
      "  inverse_operator = mne.minimum_norm.make_inverse_operator(epochs.info, fwd, noise_cov, loose=loose, verbose=False)\n",
      "<ipython-input-2-c47d3aa7e58e>:40: RuntimeWarning: No average EEG reference present in info[\"projs\"], covariance may be adversely affected. Consider recomputing covariance using with an average eeg reference projector added.\n",
      "  inverse_operator = mne.minimum_norm.make_inverse_operator(epochs.info, fwd, noise_cov, loose=loose, verbose=False)\n"
     ]
    },
    {
     "name": "stdout",
     "output_type": "stream",
     "text": [
      "Not setting metadata\n",
      "Not setting metadata\n",
      "10 matching events found\n",
      "No baseline correction applied\n",
      "0 projection items activated\n",
      "Loading data for 10 events and 500 original time points ...\n",
      "0 bad epochs dropped\n",
      "Fitted sphere radius:         102.4 mm\n",
      "Origin head coordinates:      3.4 -1.1 38.6 mm\n",
      "Origin device coordinates:    3.4 -1.1 38.6 mm\n"
     ]
    },
    {
     "name": "stderr",
     "output_type": "stream",
     "text": [
      "/home/christian/code/acareeg/acareeg/lemon.py:58: RuntimeWarning: Limited 1 annotation(s) that were expanding outside the data range.\n",
      "  raw = mne.io.read_raw_eeglab(str(Path(root_path) / eeg_rel_path / f\"sub-{subject}_{event_id}.set\"), verbose=False)\n",
      "/home/christian/code/acareeg/acareeg/lemon.py:58: RuntimeWarning: The data contains 'boundary' events, indicating data discontinuities. Be cautious of filtering and epoching around these events.\n",
      "  raw = mne.io.read_raw_eeglab(str(Path(root_path) / eeg_rel_path / f\"sub-{subject}_{event_id}.set\"), verbose=False)\n",
      "<ipython-input-2-c47d3aa7e58e>:39: RuntimeWarning: Epochs are not baseline corrected, covariance matrix may be inaccurate\n",
      "  noise_cov = mne.compute_covariance(epochs, method=\"auto\", verbose=False).as_diag()\n",
      "<ipython-input-2-c47d3aa7e58e>:40: RuntimeWarning: No average EEG reference present in info[\"projs\"], covariance may be adversely affected. Consider recomputing covariance using with an average eeg reference projector added.\n",
      "  inverse_operator = mne.minimum_norm.make_inverse_operator(epochs.info, fwd, noise_cov, loose=loose, verbose=False)\n",
      "<ipython-input-2-c47d3aa7e58e>:40: RuntimeWarning: No average EEG reference present in info[\"projs\"], covariance may be adversely affected. Consider recomputing covariance using with an average eeg reference projector added.\n",
      "  inverse_operator = mne.minimum_norm.make_inverse_operator(epochs.info, fwd, noise_cov, loose=loose, verbose=False)\n"
     ]
    },
    {
     "name": "stdout",
     "output_type": "stream",
     "text": [
      "Not setting metadata\n",
      "Not setting metadata\n",
      "10 matching events found\n",
      "No baseline correction applied\n",
      "0 projection items activated\n",
      "Loading data for 10 events and 500 original time points ...\n",
      "0 bad epochs dropped\n",
      "Fitted sphere radius:         92.0 mm\n",
      "Origin head coordinates:      -8.6 -17.2 -43.7 mm\n",
      "Origin device coordinates:    -8.6 -17.2 -43.7 mm\n"
     ]
    },
    {
     "name": "stderr",
     "output_type": "stream",
     "text": [
      "/home/christian/code/acareeg/acareeg/lemon.py:58: RuntimeWarning: Limited 1 annotation(s) that were expanding outside the data range.\n",
      "  raw = mne.io.read_raw_eeglab(str(Path(root_path) / eeg_rel_path / f\"sub-{subject}_{event_id}.set\"), verbose=False)\n",
      "/home/christian/code/acareeg/acareeg/lemon.py:58: RuntimeWarning: The data contains 'boundary' events, indicating data discontinuities. Be cautious of filtering and epoching around these events.\n",
      "  raw = mne.io.read_raw_eeglab(str(Path(root_path) / eeg_rel_path / f\"sub-{subject}_{event_id}.set\"), verbose=False)\n",
      "<ipython-input-2-c47d3aa7e58e>:39: RuntimeWarning: Epochs are not baseline corrected, covariance matrix may be inaccurate\n",
      "  noise_cov = mne.compute_covariance(epochs, method=\"auto\", verbose=False).as_diag()\n",
      "<ipython-input-2-c47d3aa7e58e>:40: RuntimeWarning: No average EEG reference present in info[\"projs\"], covariance may be adversely affected. Consider recomputing covariance using with an average eeg reference projector added.\n",
      "  inverse_operator = mne.minimum_norm.make_inverse_operator(epochs.info, fwd, noise_cov, loose=loose, verbose=False)\n",
      "<ipython-input-2-c47d3aa7e58e>:40: RuntimeWarning: No average EEG reference present in info[\"projs\"], covariance may be adversely affected. Consider recomputing covariance using with an average eeg reference projector added.\n",
      "  inverse_operator = mne.minimum_norm.make_inverse_operator(epochs.info, fwd, noise_cov, loose=loose, verbose=False)\n"
     ]
    },
    {
     "name": "stdout",
     "output_type": "stream",
     "text": [
      "Not setting metadata\n",
      "Not setting metadata\n",
      "10 matching events found\n",
      "No baseline correction applied\n",
      "0 projection items activated\n",
      "Loading data for 10 events and 500 original time points ...\n",
      "0 bad epochs dropped\n",
      "Fitted sphere radius:         95.0 mm\n",
      "Origin head coordinates:      -2.9 -1.3 37.2 mm\n",
      "Origin device coordinates:    -2.9 -1.3 37.2 mm\n"
     ]
    },
    {
     "name": "stderr",
     "output_type": "stream",
     "text": [
      "/home/christian/code/acareeg/acareeg/lemon.py:58: RuntimeWarning: Limited 1 annotation(s) that were expanding outside the data range.\n",
      "  raw = mne.io.read_raw_eeglab(str(Path(root_path) / eeg_rel_path / f\"sub-{subject}_{event_id}.set\"), verbose=False)\n",
      "/home/christian/code/acareeg/acareeg/lemon.py:58: RuntimeWarning: The data contains 'boundary' events, indicating data discontinuities. Be cautious of filtering and epoching around these events.\n",
      "  raw = mne.io.read_raw_eeglab(str(Path(root_path) / eeg_rel_path / f\"sub-{subject}_{event_id}.set\"), verbose=False)\n",
      "<ipython-input-2-c47d3aa7e58e>:39: RuntimeWarning: Epochs are not baseline corrected, covariance matrix may be inaccurate\n",
      "  noise_cov = mne.compute_covariance(epochs, method=\"auto\", verbose=False).as_diag()\n",
      "<ipython-input-2-c47d3aa7e58e>:40: RuntimeWarning: No average EEG reference present in info[\"projs\"], covariance may be adversely affected. Consider recomputing covariance using with an average eeg reference projector added.\n",
      "  inverse_operator = mne.minimum_norm.make_inverse_operator(epochs.info, fwd, noise_cov, loose=loose, verbose=False)\n",
      "<ipython-input-2-c47d3aa7e58e>:40: RuntimeWarning: No average EEG reference present in info[\"projs\"], covariance may be adversely affected. Consider recomputing covariance using with an average eeg reference projector added.\n",
      "  inverse_operator = mne.minimum_norm.make_inverse_operator(epochs.info, fwd, noise_cov, loose=loose, verbose=False)\n"
     ]
    },
    {
     "name": "stdout",
     "output_type": "stream",
     "text": [
      "Not setting metadata\n",
      "Not setting metadata\n",
      "10 matching events found\n",
      "No baseline correction applied\n",
      "0 projection items activated\n",
      "Loading data for 10 events and 500 original time points ...\n",
      "0 bad epochs dropped\n",
      "Fitted sphere radius:         94.5 mm\n",
      "Origin head coordinates:      2.8 3.6 38.2 mm\n",
      "Origin device coordinates:    2.8 3.6 38.2 mm\n"
     ]
    },
    {
     "name": "stderr",
     "output_type": "stream",
     "text": [
      "/home/christian/code/acareeg/acareeg/lemon.py:58: RuntimeWarning: Limited 1 annotation(s) that were expanding outside the data range.\n",
      "  raw = mne.io.read_raw_eeglab(str(Path(root_path) / eeg_rel_path / f\"sub-{subject}_{event_id}.set\"), verbose=False)\n",
      "/home/christian/code/acareeg/acareeg/lemon.py:58: RuntimeWarning: The data contains 'boundary' events, indicating data discontinuities. Be cautious of filtering and epoching around these events.\n",
      "  raw = mne.io.read_raw_eeglab(str(Path(root_path) / eeg_rel_path / f\"sub-{subject}_{event_id}.set\"), verbose=False)\n",
      "<ipython-input-2-c47d3aa7e58e>:39: RuntimeWarning: Epochs are not baseline corrected, covariance matrix may be inaccurate\n",
      "  noise_cov = mne.compute_covariance(epochs, method=\"auto\", verbose=False).as_diag()\n",
      "<ipython-input-2-c47d3aa7e58e>:40: RuntimeWarning: No average EEG reference present in info[\"projs\"], covariance may be adversely affected. Consider recomputing covariance using with an average eeg reference projector added.\n",
      "  inverse_operator = mne.minimum_norm.make_inverse_operator(epochs.info, fwd, noise_cov, loose=loose, verbose=False)\n",
      "<ipython-input-2-c47d3aa7e58e>:40: RuntimeWarning: No average EEG reference present in info[\"projs\"], covariance may be adversely affected. Consider recomputing covariance using with an average eeg reference projector added.\n",
      "  inverse_operator = mne.minimum_norm.make_inverse_operator(epochs.info, fwd, noise_cov, loose=loose, verbose=False)\n"
     ]
    },
    {
     "name": "stdout",
     "output_type": "stream",
     "text": [
      "Not setting metadata\n",
      "Not setting metadata\n",
      "10 matching events found\n",
      "No baseline correction applied\n",
      "0 projection items activated\n",
      "Loading data for 10 events and 500 original time points ...\n",
      "0 bad epochs dropped\n",
      "Fitted sphere radius:         99.7 mm\n",
      "Origin head coordinates:      4.2 6.9 49.8 mm\n",
      "Origin device coordinates:    4.2 6.9 49.8 mm\n"
     ]
    },
    {
     "name": "stderr",
     "output_type": "stream",
     "text": [
      "/home/christian/code/acareeg/acareeg/lemon.py:58: RuntimeWarning: Limited 1 annotation(s) that were expanding outside the data range.\n",
      "  raw = mne.io.read_raw_eeglab(str(Path(root_path) / eeg_rel_path / f\"sub-{subject}_{event_id}.set\"), verbose=False)\n",
      "/home/christian/code/acareeg/acareeg/lemon.py:58: RuntimeWarning: The data contains 'boundary' events, indicating data discontinuities. Be cautious of filtering and epoching around these events.\n",
      "  raw = mne.io.read_raw_eeglab(str(Path(root_path) / eeg_rel_path / f\"sub-{subject}_{event_id}.set\"), verbose=False)\n",
      "<ipython-input-2-c47d3aa7e58e>:39: RuntimeWarning: Epochs are not baseline corrected, covariance matrix may be inaccurate\n",
      "  noise_cov = mne.compute_covariance(epochs, method=\"auto\", verbose=False).as_diag()\n",
      "<ipython-input-2-c47d3aa7e58e>:40: RuntimeWarning: No average EEG reference present in info[\"projs\"], covariance may be adversely affected. Consider recomputing covariance using with an average eeg reference projector added.\n",
      "  inverse_operator = mne.minimum_norm.make_inverse_operator(epochs.info, fwd, noise_cov, loose=loose, verbose=False)\n",
      "<ipython-input-2-c47d3aa7e58e>:40: RuntimeWarning: No average EEG reference present in info[\"projs\"], covariance may be adversely affected. Consider recomputing covariance using with an average eeg reference projector added.\n",
      "  inverse_operator = mne.minimum_norm.make_inverse_operator(epochs.info, fwd, noise_cov, loose=loose, verbose=False)\n"
     ]
    },
    {
     "name": "stdout",
     "output_type": "stream",
     "text": [
      "Not setting metadata\n",
      "Not setting metadata\n",
      "10 matching events found\n",
      "No baseline correction applied\n",
      "0 projection items activated\n",
      "Loading data for 10 events and 500 original time points ...\n",
      "0 bad epochs dropped\n",
      "Fitted sphere radius:         94.8 mm\n",
      "Origin head coordinates:      0.9 -2.0 43.7 mm\n",
      "Origin device coordinates:    0.9 -2.0 43.7 mm\n"
     ]
    },
    {
     "name": "stderr",
     "output_type": "stream",
     "text": [
      "/home/christian/code/acareeg/acareeg/lemon.py:58: RuntimeWarning: Limited 1 annotation(s) that were expanding outside the data range.\n",
      "  raw = mne.io.read_raw_eeglab(str(Path(root_path) / eeg_rel_path / f\"sub-{subject}_{event_id}.set\"), verbose=False)\n",
      "/home/christian/code/acareeg/acareeg/lemon.py:58: RuntimeWarning: The data contains 'boundary' events, indicating data discontinuities. Be cautious of filtering and epoching around these events.\n",
      "  raw = mne.io.read_raw_eeglab(str(Path(root_path) / eeg_rel_path / f\"sub-{subject}_{event_id}.set\"), verbose=False)\n",
      "<ipython-input-2-c47d3aa7e58e>:39: RuntimeWarning: Epochs are not baseline corrected, covariance matrix may be inaccurate\n",
      "  noise_cov = mne.compute_covariance(epochs, method=\"auto\", verbose=False).as_diag()\n",
      "<ipython-input-2-c47d3aa7e58e>:40: RuntimeWarning: No average EEG reference present in info[\"projs\"], covariance may be adversely affected. Consider recomputing covariance using with an average eeg reference projector added.\n",
      "  inverse_operator = mne.minimum_norm.make_inverse_operator(epochs.info, fwd, noise_cov, loose=loose, verbose=False)\n",
      "<ipython-input-2-c47d3aa7e58e>:40: RuntimeWarning: No average EEG reference present in info[\"projs\"], covariance may be adversely affected. Consider recomputing covariance using with an average eeg reference projector added.\n",
      "  inverse_operator = mne.minimum_norm.make_inverse_operator(epochs.info, fwd, noise_cov, loose=loose, verbose=False)\n"
     ]
    },
    {
     "name": "stdout",
     "output_type": "stream",
     "text": [
      "Not setting metadata\n",
      "Not setting metadata\n",
      "10 matching events found\n",
      "No baseline correction applied\n",
      "0 projection items activated\n",
      "Loading data for 10 events and 500 original time points ...\n",
      "0 bad epochs dropped\n",
      "Fitted sphere radius:         98.8 mm\n",
      "Origin head coordinates:      3.6 3.6 46.5 mm\n",
      "Origin device coordinates:    3.6 3.6 46.5 mm\n"
     ]
    },
    {
     "name": "stderr",
     "output_type": "stream",
     "text": [
      "/home/christian/code/acareeg/acareeg/lemon.py:58: RuntimeWarning: Limited 1 annotation(s) that were expanding outside the data range.\n",
      "  raw = mne.io.read_raw_eeglab(str(Path(root_path) / eeg_rel_path / f\"sub-{subject}_{event_id}.set\"), verbose=False)\n",
      "/home/christian/code/acareeg/acareeg/lemon.py:58: RuntimeWarning: The data contains 'boundary' events, indicating data discontinuities. Be cautious of filtering and epoching around these events.\n",
      "  raw = mne.io.read_raw_eeglab(str(Path(root_path) / eeg_rel_path / f\"sub-{subject}_{event_id}.set\"), verbose=False)\n",
      "<ipython-input-2-c47d3aa7e58e>:39: RuntimeWarning: Epochs are not baseline corrected, covariance matrix may be inaccurate\n",
      "  noise_cov = mne.compute_covariance(epochs, method=\"auto\", verbose=False).as_diag()\n",
      "<ipython-input-2-c47d3aa7e58e>:40: RuntimeWarning: No average EEG reference present in info[\"projs\"], covariance may be adversely affected. Consider recomputing covariance using with an average eeg reference projector added.\n",
      "  inverse_operator = mne.minimum_norm.make_inverse_operator(epochs.info, fwd, noise_cov, loose=loose, verbose=False)\n",
      "<ipython-input-2-c47d3aa7e58e>:40: RuntimeWarning: No average EEG reference present in info[\"projs\"], covariance may be adversely affected. Consider recomputing covariance using with an average eeg reference projector added.\n",
      "  inverse_operator = mne.minimum_norm.make_inverse_operator(epochs.info, fwd, noise_cov, loose=loose, verbose=False)\n"
     ]
    },
    {
     "name": "stdout",
     "output_type": "stream",
     "text": [
      "Not setting metadata\n",
      "Not setting metadata\n",
      "10 matching events found\n",
      "No baseline correction applied\n",
      "0 projection items activated\n",
      "Loading data for 10 events and 500 original time points ...\n",
      "0 bad epochs dropped\n",
      "Fitted sphere radius:         100.2 mm\n",
      "Origin head coordinates:      6.6 5.4 38.2 mm\n",
      "Origin device coordinates:    6.6 5.4 38.2 mm\n"
     ]
    },
    {
     "name": "stderr",
     "output_type": "stream",
     "text": [
      "/home/christian/code/acareeg/acareeg/lemon.py:58: RuntimeWarning: Limited 1 annotation(s) that were expanding outside the data range.\n",
      "  raw = mne.io.read_raw_eeglab(str(Path(root_path) / eeg_rel_path / f\"sub-{subject}_{event_id}.set\"), verbose=False)\n",
      "/home/christian/code/acareeg/acareeg/lemon.py:58: RuntimeWarning: The data contains 'boundary' events, indicating data discontinuities. Be cautious of filtering and epoching around these events.\n",
      "  raw = mne.io.read_raw_eeglab(str(Path(root_path) / eeg_rel_path / f\"sub-{subject}_{event_id}.set\"), verbose=False)\n",
      "<ipython-input-2-c47d3aa7e58e>:39: RuntimeWarning: Epochs are not baseline corrected, covariance matrix may be inaccurate\n",
      "  noise_cov = mne.compute_covariance(epochs, method=\"auto\", verbose=False).as_diag()\n",
      "<ipython-input-2-c47d3aa7e58e>:40: RuntimeWarning: No average EEG reference present in info[\"projs\"], covariance may be adversely affected. Consider recomputing covariance using with an average eeg reference projector added.\n",
      "  inverse_operator = mne.minimum_norm.make_inverse_operator(epochs.info, fwd, noise_cov, loose=loose, verbose=False)\n",
      "<ipython-input-2-c47d3aa7e58e>:40: RuntimeWarning: No average EEG reference present in info[\"projs\"], covariance may be adversely affected. Consider recomputing covariance using with an average eeg reference projector added.\n",
      "  inverse_operator = mne.minimum_norm.make_inverse_operator(epochs.info, fwd, noise_cov, loose=loose, verbose=False)\n"
     ]
    },
    {
     "name": "stdout",
     "output_type": "stream",
     "text": [
      "Not setting metadata\n",
      "Not setting metadata\n",
      "10 matching events found\n",
      "No baseline correction applied\n",
      "0 projection items activated\n",
      "Loading data for 10 events and 500 original time points ...\n",
      "0 bad epochs dropped\n",
      "Fitted sphere radius:         99.1 mm\n",
      "Origin head coordinates:      0.3 5.6 46.1 mm\n",
      "Origin device coordinates:    0.3 5.6 46.1 mm\n"
     ]
    },
    {
     "name": "stderr",
     "output_type": "stream",
     "text": [
      "/home/christian/code/acareeg/acareeg/lemon.py:58: RuntimeWarning: Limited 1 annotation(s) that were expanding outside the data range.\n",
      "  raw = mne.io.read_raw_eeglab(str(Path(root_path) / eeg_rel_path / f\"sub-{subject}_{event_id}.set\"), verbose=False)\n",
      "/home/christian/code/acareeg/acareeg/lemon.py:58: RuntimeWarning: The data contains 'boundary' events, indicating data discontinuities. Be cautious of filtering and epoching around these events.\n",
      "  raw = mne.io.read_raw_eeglab(str(Path(root_path) / eeg_rel_path / f\"sub-{subject}_{event_id}.set\"), verbose=False)\n",
      "<ipython-input-2-c47d3aa7e58e>:39: RuntimeWarning: Epochs are not baseline corrected, covariance matrix may be inaccurate\n",
      "  noise_cov = mne.compute_covariance(epochs, method=\"auto\", verbose=False).as_diag()\n",
      "<ipython-input-2-c47d3aa7e58e>:40: RuntimeWarning: No average EEG reference present in info[\"projs\"], covariance may be adversely affected. Consider recomputing covariance using with an average eeg reference projector added.\n",
      "  inverse_operator = mne.minimum_norm.make_inverse_operator(epochs.info, fwd, noise_cov, loose=loose, verbose=False)\n",
      "<ipython-input-2-c47d3aa7e58e>:40: RuntimeWarning: No average EEG reference present in info[\"projs\"], covariance may be adversely affected. Consider recomputing covariance using with an average eeg reference projector added.\n",
      "  inverse_operator = mne.minimum_norm.make_inverse_operator(epochs.info, fwd, noise_cov, loose=loose, verbose=False)\n"
     ]
    },
    {
     "name": "stdout",
     "output_type": "stream",
     "text": [
      "Not setting metadata\n",
      "Not setting metadata\n",
      "10 matching events found\n",
      "No baseline correction applied\n",
      "0 projection items activated\n",
      "Loading data for 10 events and 500 original time points ...\n",
      "0 bad epochs dropped\n",
      "Fitted sphere radius:         96.0 mm\n",
      "Origin head coordinates:      5.0 -7.1 38.0 mm\n",
      "Origin device coordinates:    5.0 -7.1 38.0 mm\n"
     ]
    },
    {
     "name": "stderr",
     "output_type": "stream",
     "text": [
      "/home/christian/code/acareeg/acareeg/lemon.py:58: RuntimeWarning: Limited 1 annotation(s) that were expanding outside the data range.\n",
      "  raw = mne.io.read_raw_eeglab(str(Path(root_path) / eeg_rel_path / f\"sub-{subject}_{event_id}.set\"), verbose=False)\n",
      "/home/christian/code/acareeg/acareeg/lemon.py:58: RuntimeWarning: The data contains 'boundary' events, indicating data discontinuities. Be cautious of filtering and epoching around these events.\n",
      "  raw = mne.io.read_raw_eeglab(str(Path(root_path) / eeg_rel_path / f\"sub-{subject}_{event_id}.set\"), verbose=False)\n",
      "<ipython-input-2-c47d3aa7e58e>:39: RuntimeWarning: Epochs are not baseline corrected, covariance matrix may be inaccurate\n",
      "  noise_cov = mne.compute_covariance(epochs, method=\"auto\", verbose=False).as_diag()\n",
      "<ipython-input-2-c47d3aa7e58e>:40: RuntimeWarning: No average EEG reference present in info[\"projs\"], covariance may be adversely affected. Consider recomputing covariance using with an average eeg reference projector added.\n",
      "  inverse_operator = mne.minimum_norm.make_inverse_operator(epochs.info, fwd, noise_cov, loose=loose, verbose=False)\n",
      "<ipython-input-2-c47d3aa7e58e>:40: RuntimeWarning: No average EEG reference present in info[\"projs\"], covariance may be adversely affected. Consider recomputing covariance using with an average eeg reference projector added.\n",
      "  inverse_operator = mne.minimum_norm.make_inverse_operator(epochs.info, fwd, noise_cov, loose=loose, verbose=False)\n"
     ]
    },
    {
     "name": "stdout",
     "output_type": "stream",
     "text": [
      "Not setting metadata\n",
      "Not setting metadata\n",
      "10 matching events found\n",
      "No baseline correction applied\n",
      "0 projection items activated\n",
      "Loading data for 10 events and 500 original time points ...\n",
      "0 bad epochs dropped\n",
      "Fitted sphere radius:         102.7 mm\n",
      "Origin head coordinates:      2.5 1.8 42.7 mm\n",
      "Origin device coordinates:    2.5 1.8 42.7 mm\n"
     ]
    },
    {
     "name": "stderr",
     "output_type": "stream",
     "text": [
      "/home/christian/code/acareeg/acareeg/lemon.py:58: RuntimeWarning: Limited 1 annotation(s) that were expanding outside the data range.\n",
      "  raw = mne.io.read_raw_eeglab(str(Path(root_path) / eeg_rel_path / f\"sub-{subject}_{event_id}.set\"), verbose=False)\n",
      "/home/christian/code/acareeg/acareeg/lemon.py:58: RuntimeWarning: The data contains 'boundary' events, indicating data discontinuities. Be cautious of filtering and epoching around these events.\n",
      "  raw = mne.io.read_raw_eeglab(str(Path(root_path) / eeg_rel_path / f\"sub-{subject}_{event_id}.set\"), verbose=False)\n",
      "<ipython-input-2-c47d3aa7e58e>:39: RuntimeWarning: Epochs are not baseline corrected, covariance matrix may be inaccurate\n",
      "  noise_cov = mne.compute_covariance(epochs, method=\"auto\", verbose=False).as_diag()\n",
      "<ipython-input-2-c47d3aa7e58e>:40: RuntimeWarning: No average EEG reference present in info[\"projs\"], covariance may be adversely affected. Consider recomputing covariance using with an average eeg reference projector added.\n",
      "  inverse_operator = mne.minimum_norm.make_inverse_operator(epochs.info, fwd, noise_cov, loose=loose, verbose=False)\n",
      "<ipython-input-2-c47d3aa7e58e>:40: RuntimeWarning: No average EEG reference present in info[\"projs\"], covariance may be adversely affected. Consider recomputing covariance using with an average eeg reference projector added.\n",
      "  inverse_operator = mne.minimum_norm.make_inverse_operator(epochs.info, fwd, noise_cov, loose=loose, verbose=False)\n"
     ]
    },
    {
     "name": "stdout",
     "output_type": "stream",
     "text": [
      "Not setting metadata\n",
      "Not setting metadata\n",
      "10 matching events found\n",
      "No baseline correction applied\n",
      "0 projection items activated\n",
      "Loading data for 10 events and 500 original time points ...\n",
      "0 bad epochs dropped\n",
      "Fitted sphere radius:         103.1 mm\n",
      "Origin head coordinates:      3.2 10.6 38.9 mm\n",
      "Origin device coordinates:    3.2 10.6 38.9 mm\n"
     ]
    },
    {
     "name": "stderr",
     "output_type": "stream",
     "text": [
      "/home/christian/code/acareeg/acareeg/lemon.py:58: RuntimeWarning: Limited 1 annotation(s) that were expanding outside the data range.\n",
      "  raw = mne.io.read_raw_eeglab(str(Path(root_path) / eeg_rel_path / f\"sub-{subject}_{event_id}.set\"), verbose=False)\n",
      "/home/christian/code/acareeg/acareeg/lemon.py:58: RuntimeWarning: The data contains 'boundary' events, indicating data discontinuities. Be cautious of filtering and epoching around these events.\n",
      "  raw = mne.io.read_raw_eeglab(str(Path(root_path) / eeg_rel_path / f\"sub-{subject}_{event_id}.set\"), verbose=False)\n",
      "<ipython-input-2-c47d3aa7e58e>:39: RuntimeWarning: Epochs are not baseline corrected, covariance matrix may be inaccurate\n",
      "  noise_cov = mne.compute_covariance(epochs, method=\"auto\", verbose=False).as_diag()\n",
      "<ipython-input-2-c47d3aa7e58e>:40: RuntimeWarning: No average EEG reference present in info[\"projs\"], covariance may be adversely affected. Consider recomputing covariance using with an average eeg reference projector added.\n",
      "  inverse_operator = mne.minimum_norm.make_inverse_operator(epochs.info, fwd, noise_cov, loose=loose, verbose=False)\n",
      "<ipython-input-2-c47d3aa7e58e>:40: RuntimeWarning: No average EEG reference present in info[\"projs\"], covariance may be adversely affected. Consider recomputing covariance using with an average eeg reference projector added.\n",
      "  inverse_operator = mne.minimum_norm.make_inverse_operator(epochs.info, fwd, noise_cov, loose=loose, verbose=False)\n"
     ]
    },
    {
     "name": "stdout",
     "output_type": "stream",
     "text": [
      "Not setting metadata\n",
      "Not setting metadata\n",
      "10 matching events found\n",
      "No baseline correction applied\n",
      "0 projection items activated\n",
      "Loading data for 10 events and 500 original time points ...\n",
      "0 bad epochs dropped\n",
      "Fitted sphere radius:         97.3 mm\n",
      "Origin head coordinates:      2.8 -1.4 42.2 mm\n",
      "Origin device coordinates:    2.8 -1.4 42.2 mm\n"
     ]
    },
    {
     "name": "stderr",
     "output_type": "stream",
     "text": [
      "/home/christian/code/acareeg/acareeg/lemon.py:58: RuntimeWarning: Limited 1 annotation(s) that were expanding outside the data range.\n",
      "  raw = mne.io.read_raw_eeglab(str(Path(root_path) / eeg_rel_path / f\"sub-{subject}_{event_id}.set\"), verbose=False)\n",
      "/home/christian/code/acareeg/acareeg/lemon.py:58: RuntimeWarning: The data contains 'boundary' events, indicating data discontinuities. Be cautious of filtering and epoching around these events.\n",
      "  raw = mne.io.read_raw_eeglab(str(Path(root_path) / eeg_rel_path / f\"sub-{subject}_{event_id}.set\"), verbose=False)\n",
      "<ipython-input-2-c47d3aa7e58e>:39: RuntimeWarning: Epochs are not baseline corrected, covariance matrix may be inaccurate\n",
      "  noise_cov = mne.compute_covariance(epochs, method=\"auto\", verbose=False).as_diag()\n",
      "<ipython-input-2-c47d3aa7e58e>:40: RuntimeWarning: No average EEG reference present in info[\"projs\"], covariance may be adversely affected. Consider recomputing covariance using with an average eeg reference projector added.\n",
      "  inverse_operator = mne.minimum_norm.make_inverse_operator(epochs.info, fwd, noise_cov, loose=loose, verbose=False)\n",
      "<ipython-input-2-c47d3aa7e58e>:40: RuntimeWarning: No average EEG reference present in info[\"projs\"], covariance may be adversely affected. Consider recomputing covariance using with an average eeg reference projector added.\n",
      "  inverse_operator = mne.minimum_norm.make_inverse_operator(epochs.info, fwd, noise_cov, loose=loose, verbose=False)\n"
     ]
    },
    {
     "name": "stdout",
     "output_type": "stream",
     "text": [
      "Not setting metadata\n",
      "Not setting metadata\n",
      "10 matching events found\n",
      "No baseline correction applied\n",
      "0 projection items activated\n",
      "Loading data for 10 events and 500 original time points ...\n",
      "0 bad epochs dropped\n",
      "Fitted sphere radius:         96.7 mm\n",
      "Origin head coordinates:      4.0 2.2 39.5 mm\n",
      "Origin device coordinates:    4.0 2.2 39.5 mm\n"
     ]
    },
    {
     "name": "stderr",
     "output_type": "stream",
     "text": [
      "/home/christian/code/acareeg/acareeg/lemon.py:58: RuntimeWarning: Limited 1 annotation(s) that were expanding outside the data range.\n",
      "  raw = mne.io.read_raw_eeglab(str(Path(root_path) / eeg_rel_path / f\"sub-{subject}_{event_id}.set\"), verbose=False)\n",
      "/home/christian/code/acareeg/acareeg/lemon.py:58: RuntimeWarning: The data contains 'boundary' events, indicating data discontinuities. Be cautious of filtering and epoching around these events.\n",
      "  raw = mne.io.read_raw_eeglab(str(Path(root_path) / eeg_rel_path / f\"sub-{subject}_{event_id}.set\"), verbose=False)\n",
      "<ipython-input-2-c47d3aa7e58e>:39: RuntimeWarning: Epochs are not baseline corrected, covariance matrix may be inaccurate\n",
      "  noise_cov = mne.compute_covariance(epochs, method=\"auto\", verbose=False).as_diag()\n",
      "<ipython-input-2-c47d3aa7e58e>:40: RuntimeWarning: No average EEG reference present in info[\"projs\"], covariance may be adversely affected. Consider recomputing covariance using with an average eeg reference projector added.\n",
      "  inverse_operator = mne.minimum_norm.make_inverse_operator(epochs.info, fwd, noise_cov, loose=loose, verbose=False)\n",
      "<ipython-input-2-c47d3aa7e58e>:40: RuntimeWarning: No average EEG reference present in info[\"projs\"], covariance may be adversely affected. Consider recomputing covariance using with an average eeg reference projector added.\n",
      "  inverse_operator = mne.minimum_norm.make_inverse_operator(epochs.info, fwd, noise_cov, loose=loose, verbose=False)\n"
     ]
    },
    {
     "name": "stdout",
     "output_type": "stream",
     "text": [
      "Not setting metadata\n",
      "Not setting metadata\n",
      "10 matching events found\n",
      "No baseline correction applied\n",
      "0 projection items activated\n",
      "Loading data for 10 events and 500 original time points ...\n",
      "0 bad epochs dropped\n",
      "Fitted sphere radius:         103.8 mm\n",
      "Origin head coordinates:      6.7 11.7 48.3 mm\n",
      "Origin device coordinates:    6.7 11.7 48.3 mm\n"
     ]
    },
    {
     "name": "stderr",
     "output_type": "stream",
     "text": [
      "/home/christian/code/acareeg/acareeg/lemon.py:58: RuntimeWarning: Limited 1 annotation(s) that were expanding outside the data range.\n",
      "  raw = mne.io.read_raw_eeglab(str(Path(root_path) / eeg_rel_path / f\"sub-{subject}_{event_id}.set\"), verbose=False)\n",
      "/home/christian/code/acareeg/acareeg/lemon.py:58: RuntimeWarning: The data contains 'boundary' events, indicating data discontinuities. Be cautious of filtering and epoching around these events.\n",
      "  raw = mne.io.read_raw_eeglab(str(Path(root_path) / eeg_rel_path / f\"sub-{subject}_{event_id}.set\"), verbose=False)\n",
      "<ipython-input-2-c47d3aa7e58e>:39: RuntimeWarning: Epochs are not baseline corrected, covariance matrix may be inaccurate\n",
      "  noise_cov = mne.compute_covariance(epochs, method=\"auto\", verbose=False).as_diag()\n",
      "<ipython-input-2-c47d3aa7e58e>:40: RuntimeWarning: No average EEG reference present in info[\"projs\"], covariance may be adversely affected. Consider recomputing covariance using with an average eeg reference projector added.\n",
      "  inverse_operator = mne.minimum_norm.make_inverse_operator(epochs.info, fwd, noise_cov, loose=loose, verbose=False)\n",
      "<ipython-input-2-c47d3aa7e58e>:40: RuntimeWarning: No average EEG reference present in info[\"projs\"], covariance may be adversely affected. Consider recomputing covariance using with an average eeg reference projector added.\n",
      "  inverse_operator = mne.minimum_norm.make_inverse_operator(epochs.info, fwd, noise_cov, loose=loose, verbose=False)\n"
     ]
    },
    {
     "name": "stdout",
     "output_type": "stream",
     "text": [
      "Not setting metadata\n",
      "Not setting metadata\n",
      "10 matching events found\n",
      "No baseline correction applied\n",
      "0 projection items activated\n",
      "Loading data for 10 events and 500 original time points ...\n",
      "0 bad epochs dropped\n",
      "Fitted sphere radius:         98.3 mm\n",
      "Origin head coordinates:      6.3 13.5 48.1 mm\n",
      "Origin device coordinates:    6.3 13.5 48.1 mm\n"
     ]
    },
    {
     "name": "stderr",
     "output_type": "stream",
     "text": [
      "/home/christian/code/acareeg/acareeg/lemon.py:58: RuntimeWarning: Limited 1 annotation(s) that were expanding outside the data range.\n",
      "  raw = mne.io.read_raw_eeglab(str(Path(root_path) / eeg_rel_path / f\"sub-{subject}_{event_id}.set\"), verbose=False)\n",
      "/home/christian/code/acareeg/acareeg/lemon.py:58: RuntimeWarning: The data contains 'boundary' events, indicating data discontinuities. Be cautious of filtering and epoching around these events.\n",
      "  raw = mne.io.read_raw_eeglab(str(Path(root_path) / eeg_rel_path / f\"sub-{subject}_{event_id}.set\"), verbose=False)\n",
      "<ipython-input-2-c47d3aa7e58e>:39: RuntimeWarning: Epochs are not baseline corrected, covariance matrix may be inaccurate\n",
      "  noise_cov = mne.compute_covariance(epochs, method=\"auto\", verbose=False).as_diag()\n",
      "<ipython-input-2-c47d3aa7e58e>:40: RuntimeWarning: No average EEG reference present in info[\"projs\"], covariance may be adversely affected. Consider recomputing covariance using with an average eeg reference projector added.\n",
      "  inverse_operator = mne.minimum_norm.make_inverse_operator(epochs.info, fwd, noise_cov, loose=loose, verbose=False)\n",
      "<ipython-input-2-c47d3aa7e58e>:40: RuntimeWarning: No average EEG reference present in info[\"projs\"], covariance may be adversely affected. Consider recomputing covariance using with an average eeg reference projector added.\n",
      "  inverse_operator = mne.minimum_norm.make_inverse_operator(epochs.info, fwd, noise_cov, loose=loose, verbose=False)\n"
     ]
    },
    {
     "name": "stdout",
     "output_type": "stream",
     "text": [
      "Not setting metadata\n",
      "Not setting metadata\n",
      "10 matching events found\n",
      "No baseline correction applied\n",
      "0 projection items activated\n",
      "Loading data for 10 events and 500 original time points ...\n",
      "0 bad epochs dropped\n",
      "Fitted sphere radius:         97.0 mm\n",
      "Origin head coordinates:      4.4 3.9 49.8 mm\n",
      "Origin device coordinates:    4.4 3.9 49.8 mm\n"
     ]
    },
    {
     "name": "stderr",
     "output_type": "stream",
     "text": [
      "/home/christian/code/acareeg/acareeg/lemon.py:58: RuntimeWarning: Limited 1 annotation(s) that were expanding outside the data range.\n",
      "  raw = mne.io.read_raw_eeglab(str(Path(root_path) / eeg_rel_path / f\"sub-{subject}_{event_id}.set\"), verbose=False)\n",
      "/home/christian/code/acareeg/acareeg/lemon.py:58: RuntimeWarning: The data contains 'boundary' events, indicating data discontinuities. Be cautious of filtering and epoching around these events.\n",
      "  raw = mne.io.read_raw_eeglab(str(Path(root_path) / eeg_rel_path / f\"sub-{subject}_{event_id}.set\"), verbose=False)\n",
      "<ipython-input-2-c47d3aa7e58e>:39: RuntimeWarning: Epochs are not baseline corrected, covariance matrix may be inaccurate\n",
      "  noise_cov = mne.compute_covariance(epochs, method=\"auto\", verbose=False).as_diag()\n",
      "<ipython-input-2-c47d3aa7e58e>:40: RuntimeWarning: No average EEG reference present in info[\"projs\"], covariance may be adversely affected. Consider recomputing covariance using with an average eeg reference projector added.\n",
      "  inverse_operator = mne.minimum_norm.make_inverse_operator(epochs.info, fwd, noise_cov, loose=loose, verbose=False)\n",
      "<ipython-input-2-c47d3aa7e58e>:40: RuntimeWarning: No average EEG reference present in info[\"projs\"], covariance may be adversely affected. Consider recomputing covariance using with an average eeg reference projector added.\n",
      "  inverse_operator = mne.minimum_norm.make_inverse_operator(epochs.info, fwd, noise_cov, loose=loose, verbose=False)\n"
     ]
    },
    {
     "name": "stdout",
     "output_type": "stream",
     "text": [
      "Not setting metadata\n",
      "Not setting metadata\n",
      "10 matching events found\n",
      "No baseline correction applied\n",
      "0 projection items activated\n",
      "Loading data for 10 events and 500 original time points ...\n",
      "0 bad epochs dropped\n",
      "Fitted sphere radius:         101.3 mm\n",
      "Origin head coordinates:      0.3 -2.6 37.6 mm\n",
      "Origin device coordinates:    0.3 -2.6 37.6 mm\n"
     ]
    },
    {
     "name": "stderr",
     "output_type": "stream",
     "text": [
      "/home/christian/code/acareeg/acareeg/lemon.py:58: RuntimeWarning: Limited 1 annotation(s) that were expanding outside the data range.\n",
      "  raw = mne.io.read_raw_eeglab(str(Path(root_path) / eeg_rel_path / f\"sub-{subject}_{event_id}.set\"), verbose=False)\n",
      "/home/christian/code/acareeg/acareeg/lemon.py:58: RuntimeWarning: The data contains 'boundary' events, indicating data discontinuities. Be cautious of filtering and epoching around these events.\n",
      "  raw = mne.io.read_raw_eeglab(str(Path(root_path) / eeg_rel_path / f\"sub-{subject}_{event_id}.set\"), verbose=False)\n",
      "<ipython-input-2-c47d3aa7e58e>:39: RuntimeWarning: Epochs are not baseline corrected, covariance matrix may be inaccurate\n",
      "  noise_cov = mne.compute_covariance(epochs, method=\"auto\", verbose=False).as_diag()\n",
      "<ipython-input-2-c47d3aa7e58e>:40: RuntimeWarning: No average EEG reference present in info[\"projs\"], covariance may be adversely affected. Consider recomputing covariance using with an average eeg reference projector added.\n",
      "  inverse_operator = mne.minimum_norm.make_inverse_operator(epochs.info, fwd, noise_cov, loose=loose, verbose=False)\n",
      "<ipython-input-2-c47d3aa7e58e>:40: RuntimeWarning: No average EEG reference present in info[\"projs\"], covariance may be adversely affected. Consider recomputing covariance using with an average eeg reference projector added.\n",
      "  inverse_operator = mne.minimum_norm.make_inverse_operator(epochs.info, fwd, noise_cov, loose=loose, verbose=False)\n"
     ]
    },
    {
     "name": "stdout",
     "output_type": "stream",
     "text": [
      "Not setting metadata\n",
      "Not setting metadata\n",
      "10 matching events found\n",
      "No baseline correction applied\n",
      "0 projection items activated\n",
      "Loading data for 10 events and 500 original time points ...\n",
      "0 bad epochs dropped\n",
      "Fitted sphere radius:         97.7 mm\n",
      "Origin head coordinates:      -2.1 2.2 48.0 mm\n",
      "Origin device coordinates:    -2.1 2.2 48.0 mm\n"
     ]
    },
    {
     "name": "stderr",
     "output_type": "stream",
     "text": [
      "/home/christian/code/acareeg/acareeg/lemon.py:58: RuntimeWarning: Limited 1 annotation(s) that were expanding outside the data range.\n",
      "  raw = mne.io.read_raw_eeglab(str(Path(root_path) / eeg_rel_path / f\"sub-{subject}_{event_id}.set\"), verbose=False)\n",
      "/home/christian/code/acareeg/acareeg/lemon.py:58: RuntimeWarning: The data contains 'boundary' events, indicating data discontinuities. Be cautious of filtering and epoching around these events.\n",
      "  raw = mne.io.read_raw_eeglab(str(Path(root_path) / eeg_rel_path / f\"sub-{subject}_{event_id}.set\"), verbose=False)\n",
      "<ipython-input-2-c47d3aa7e58e>:39: RuntimeWarning: Epochs are not baseline corrected, covariance matrix may be inaccurate\n",
      "  noise_cov = mne.compute_covariance(epochs, method=\"auto\", verbose=False).as_diag()\n",
      "<ipython-input-2-c47d3aa7e58e>:40: RuntimeWarning: No average EEG reference present in info[\"projs\"], covariance may be adversely affected. Consider recomputing covariance using with an average eeg reference projector added.\n",
      "  inverse_operator = mne.minimum_norm.make_inverse_operator(epochs.info, fwd, noise_cov, loose=loose, verbose=False)\n",
      "<ipython-input-2-c47d3aa7e58e>:40: RuntimeWarning: No average EEG reference present in info[\"projs\"], covariance may be adversely affected. Consider recomputing covariance using with an average eeg reference projector added.\n",
      "  inverse_operator = mne.minimum_norm.make_inverse_operator(epochs.info, fwd, noise_cov, loose=loose, verbose=False)\n"
     ]
    },
    {
     "name": "stdout",
     "output_type": "stream",
     "text": [
      "Not setting metadata\n",
      "Not setting metadata\n",
      "10 matching events found\n",
      "No baseline correction applied\n",
      "0 projection items activated\n",
      "Loading data for 10 events and 500 original time points ...\n",
      "0 bad epochs dropped\n",
      "Fitted sphere radius:         102.0 mm\n",
      "Origin head coordinates:      3.4 3.8 49.4 mm\n",
      "Origin device coordinates:    3.4 3.8 49.4 mm\n"
     ]
    },
    {
     "name": "stderr",
     "output_type": "stream",
     "text": [
      "/home/christian/code/acareeg/acareeg/lemon.py:58: RuntimeWarning: Limited 1 annotation(s) that were expanding outside the data range.\n",
      "  raw = mne.io.read_raw_eeglab(str(Path(root_path) / eeg_rel_path / f\"sub-{subject}_{event_id}.set\"), verbose=False)\n",
      "/home/christian/code/acareeg/acareeg/lemon.py:58: RuntimeWarning: The data contains 'boundary' events, indicating data discontinuities. Be cautious of filtering and epoching around these events.\n",
      "  raw = mne.io.read_raw_eeglab(str(Path(root_path) / eeg_rel_path / f\"sub-{subject}_{event_id}.set\"), verbose=False)\n",
      "<ipython-input-2-c47d3aa7e58e>:39: RuntimeWarning: Epochs are not baseline corrected, covariance matrix may be inaccurate\n",
      "  noise_cov = mne.compute_covariance(epochs, method=\"auto\", verbose=False).as_diag()\n",
      "<ipython-input-2-c47d3aa7e58e>:40: RuntimeWarning: No average EEG reference present in info[\"projs\"], covariance may be adversely affected. Consider recomputing covariance using with an average eeg reference projector added.\n",
      "  inverse_operator = mne.minimum_norm.make_inverse_operator(epochs.info, fwd, noise_cov, loose=loose, verbose=False)\n",
      "<ipython-input-2-c47d3aa7e58e>:40: RuntimeWarning: No average EEG reference present in info[\"projs\"], covariance may be adversely affected. Consider recomputing covariance using with an average eeg reference projector added.\n",
      "  inverse_operator = mne.minimum_norm.make_inverse_operator(epochs.info, fwd, noise_cov, loose=loose, verbose=False)\n"
     ]
    },
    {
     "name": "stdout",
     "output_type": "stream",
     "text": [
      "Not setting metadata\n",
      "Not setting metadata\n",
      "10 matching events found\n",
      "No baseline correction applied\n",
      "0 projection items activated\n",
      "Loading data for 10 events and 500 original time points ...\n",
      "0 bad epochs dropped\n",
      "Fitted sphere radius:         98.9 mm\n",
      "Origin head coordinates:      4.1 1.5 40.1 mm\n",
      "Origin device coordinates:    4.1 1.5 40.1 mm\n"
     ]
    },
    {
     "name": "stderr",
     "output_type": "stream",
     "text": [
      "/home/christian/code/acareeg/acareeg/lemon.py:58: RuntimeWarning: Limited 1 annotation(s) that were expanding outside the data range.\n",
      "  raw = mne.io.read_raw_eeglab(str(Path(root_path) / eeg_rel_path / f\"sub-{subject}_{event_id}.set\"), verbose=False)\n",
      "/home/christian/code/acareeg/acareeg/lemon.py:58: RuntimeWarning: The data contains 'boundary' events, indicating data discontinuities. Be cautious of filtering and epoching around these events.\n",
      "  raw = mne.io.read_raw_eeglab(str(Path(root_path) / eeg_rel_path / f\"sub-{subject}_{event_id}.set\"), verbose=False)\n",
      "<ipython-input-2-c47d3aa7e58e>:39: RuntimeWarning: Epochs are not baseline corrected, covariance matrix may be inaccurate\n",
      "  noise_cov = mne.compute_covariance(epochs, method=\"auto\", verbose=False).as_diag()\n",
      "<ipython-input-2-c47d3aa7e58e>:40: RuntimeWarning: No average EEG reference present in info[\"projs\"], covariance may be adversely affected. Consider recomputing covariance using with an average eeg reference projector added.\n",
      "  inverse_operator = mne.minimum_norm.make_inverse_operator(epochs.info, fwd, noise_cov, loose=loose, verbose=False)\n",
      "<ipython-input-2-c47d3aa7e58e>:40: RuntimeWarning: No average EEG reference present in info[\"projs\"], covariance may be adversely affected. Consider recomputing covariance using with an average eeg reference projector added.\n",
      "  inverse_operator = mne.minimum_norm.make_inverse_operator(epochs.info, fwd, noise_cov, loose=loose, verbose=False)\n"
     ]
    },
    {
     "name": "stdout",
     "output_type": "stream",
     "text": [
      "Not setting metadata\n",
      "Not setting metadata\n",
      "10 matching events found\n",
      "No baseline correction applied\n",
      "0 projection items activated\n",
      "Loading data for 10 events and 500 original time points ...\n",
      "0 bad epochs dropped\n",
      "Fitted sphere radius:         102.0 mm\n",
      "Origin head coordinates:      4.3 3.7 47.3 mm\n",
      "Origin device coordinates:    4.3 3.7 47.3 mm\n"
     ]
    },
    {
     "name": "stderr",
     "output_type": "stream",
     "text": [
      "/home/christian/code/acareeg/acareeg/lemon.py:58: RuntimeWarning: Limited 1 annotation(s) that were expanding outside the data range.\n",
      "  raw = mne.io.read_raw_eeglab(str(Path(root_path) / eeg_rel_path / f\"sub-{subject}_{event_id}.set\"), verbose=False)\n",
      "/home/christian/code/acareeg/acareeg/lemon.py:58: RuntimeWarning: The data contains 'boundary' events, indicating data discontinuities. Be cautious of filtering and epoching around these events.\n",
      "  raw = mne.io.read_raw_eeglab(str(Path(root_path) / eeg_rel_path / f\"sub-{subject}_{event_id}.set\"), verbose=False)\n",
      "<ipython-input-2-c47d3aa7e58e>:39: RuntimeWarning: Epochs are not baseline corrected, covariance matrix may be inaccurate\n",
      "  noise_cov = mne.compute_covariance(epochs, method=\"auto\", verbose=False).as_diag()\n",
      "<ipython-input-2-c47d3aa7e58e>:40: RuntimeWarning: No average EEG reference present in info[\"projs\"], covariance may be adversely affected. Consider recomputing covariance using with an average eeg reference projector added.\n",
      "  inverse_operator = mne.minimum_norm.make_inverse_operator(epochs.info, fwd, noise_cov, loose=loose, verbose=False)\n",
      "<ipython-input-2-c47d3aa7e58e>:40: RuntimeWarning: No average EEG reference present in info[\"projs\"], covariance may be adversely affected. Consider recomputing covariance using with an average eeg reference projector added.\n",
      "  inverse_operator = mne.minimum_norm.make_inverse_operator(epochs.info, fwd, noise_cov, loose=loose, verbose=False)\n"
     ]
    },
    {
     "name": "stdout",
     "output_type": "stream",
     "text": [
      "Not setting metadata\n",
      "Not setting metadata\n",
      "10 matching events found\n",
      "No baseline correction applied\n",
      "0 projection items activated\n",
      "Loading data for 10 events and 500 original time points ...\n",
      "0 bad epochs dropped\n",
      "Fitted sphere radius:         100.2 mm\n",
      "Origin head coordinates:      0.5 1.0 45.3 mm\n",
      "Origin device coordinates:    0.5 1.0 45.3 mm\n"
     ]
    },
    {
     "name": "stderr",
     "output_type": "stream",
     "text": [
      "/home/christian/code/acareeg/acareeg/lemon.py:58: RuntimeWarning: Limited 1 annotation(s) that were expanding outside the data range.\n",
      "  raw = mne.io.read_raw_eeglab(str(Path(root_path) / eeg_rel_path / f\"sub-{subject}_{event_id}.set\"), verbose=False)\n",
      "/home/christian/code/acareeg/acareeg/lemon.py:58: RuntimeWarning: The data contains 'boundary' events, indicating data discontinuities. Be cautious of filtering and epoching around these events.\n",
      "  raw = mne.io.read_raw_eeglab(str(Path(root_path) / eeg_rel_path / f\"sub-{subject}_{event_id}.set\"), verbose=False)\n",
      "<ipython-input-2-c47d3aa7e58e>:39: RuntimeWarning: Epochs are not baseline corrected, covariance matrix may be inaccurate\n",
      "  noise_cov = mne.compute_covariance(epochs, method=\"auto\", verbose=False).as_diag()\n",
      "<ipython-input-2-c47d3aa7e58e>:40: RuntimeWarning: No average EEG reference present in info[\"projs\"], covariance may be adversely affected. Consider recomputing covariance using with an average eeg reference projector added.\n",
      "  inverse_operator = mne.minimum_norm.make_inverse_operator(epochs.info, fwd, noise_cov, loose=loose, verbose=False)\n",
      "<ipython-input-2-c47d3aa7e58e>:40: RuntimeWarning: No average EEG reference present in info[\"projs\"], covariance may be adversely affected. Consider recomputing covariance using with an average eeg reference projector added.\n",
      "  inverse_operator = mne.minimum_norm.make_inverse_operator(epochs.info, fwd, noise_cov, loose=loose, verbose=False)\n"
     ]
    },
    {
     "name": "stdout",
     "output_type": "stream",
     "text": [
      "Not setting metadata\n",
      "Not setting metadata\n",
      "10 matching events found\n",
      "No baseline correction applied\n",
      "0 projection items activated\n",
      "Loading data for 10 events and 500 original time points ...\n",
      "0 bad epochs dropped\n",
      "Fitted sphere radius:         98.2 mm\n",
      "Origin head coordinates:      1.0 4.6 38.5 mm\n",
      "Origin device coordinates:    1.0 4.6 38.5 mm\n"
     ]
    },
    {
     "name": "stderr",
     "output_type": "stream",
     "text": [
      "/home/christian/code/acareeg/acareeg/lemon.py:58: RuntimeWarning: Limited 1 annotation(s) that were expanding outside the data range.\n",
      "  raw = mne.io.read_raw_eeglab(str(Path(root_path) / eeg_rel_path / f\"sub-{subject}_{event_id}.set\"), verbose=False)\n",
      "/home/christian/code/acareeg/acareeg/lemon.py:58: RuntimeWarning: The data contains 'boundary' events, indicating data discontinuities. Be cautious of filtering and epoching around these events.\n",
      "  raw = mne.io.read_raw_eeglab(str(Path(root_path) / eeg_rel_path / f\"sub-{subject}_{event_id}.set\"), verbose=False)\n",
      "<ipython-input-2-c47d3aa7e58e>:39: RuntimeWarning: Epochs are not baseline corrected, covariance matrix may be inaccurate\n",
      "  noise_cov = mne.compute_covariance(epochs, method=\"auto\", verbose=False).as_diag()\n",
      "<ipython-input-2-c47d3aa7e58e>:40: RuntimeWarning: No average EEG reference present in info[\"projs\"], covariance may be adversely affected. Consider recomputing covariance using with an average eeg reference projector added.\n",
      "  inverse_operator = mne.minimum_norm.make_inverse_operator(epochs.info, fwd, noise_cov, loose=loose, verbose=False)\n",
      "<ipython-input-2-c47d3aa7e58e>:40: RuntimeWarning: No average EEG reference present in info[\"projs\"], covariance may be adversely affected. Consider recomputing covariance using with an average eeg reference projector added.\n",
      "  inverse_operator = mne.minimum_norm.make_inverse_operator(epochs.info, fwd, noise_cov, loose=loose, verbose=False)\n"
     ]
    },
    {
     "name": "stdout",
     "output_type": "stream",
     "text": [
      "Not setting metadata\n",
      "Not setting metadata\n",
      "10 matching events found\n",
      "No baseline correction applied\n",
      "0 projection items activated\n",
      "Loading data for 10 events and 500 original time points ...\n",
      "0 bad epochs dropped\n",
      "Fitted sphere radius:         102.7 mm\n",
      "Origin head coordinates:      0.1 -0.7 38.7 mm\n",
      "Origin device coordinates:    0.1 -0.7 38.7 mm\n"
     ]
    },
    {
     "name": "stderr",
     "output_type": "stream",
     "text": [
      "/home/christian/code/acareeg/acareeg/lemon.py:58: RuntimeWarning: Limited 1 annotation(s) that were expanding outside the data range.\n",
      "  raw = mne.io.read_raw_eeglab(str(Path(root_path) / eeg_rel_path / f\"sub-{subject}_{event_id}.set\"), verbose=False)\n",
      "/home/christian/code/acareeg/acareeg/lemon.py:58: RuntimeWarning: The data contains 'boundary' events, indicating data discontinuities. Be cautious of filtering and epoching around these events.\n",
      "  raw = mne.io.read_raw_eeglab(str(Path(root_path) / eeg_rel_path / f\"sub-{subject}_{event_id}.set\"), verbose=False)\n",
      "<ipython-input-2-c47d3aa7e58e>:39: RuntimeWarning: Epochs are not baseline corrected, covariance matrix may be inaccurate\n",
      "  noise_cov = mne.compute_covariance(epochs, method=\"auto\", verbose=False).as_diag()\n",
      "<ipython-input-2-c47d3aa7e58e>:40: RuntimeWarning: No average EEG reference present in info[\"projs\"], covariance may be adversely affected. Consider recomputing covariance using with an average eeg reference projector added.\n",
      "  inverse_operator = mne.minimum_norm.make_inverse_operator(epochs.info, fwd, noise_cov, loose=loose, verbose=False)\n",
      "<ipython-input-2-c47d3aa7e58e>:40: RuntimeWarning: No average EEG reference present in info[\"projs\"], covariance may be adversely affected. Consider recomputing covariance using with an average eeg reference projector added.\n",
      "  inverse_operator = mne.minimum_norm.make_inverse_operator(epochs.info, fwd, noise_cov, loose=loose, verbose=False)\n"
     ]
    },
    {
     "name": "stdout",
     "output_type": "stream",
     "text": [
      "Not setting metadata\n",
      "Not setting metadata\n",
      "10 matching events found\n",
      "No baseline correction applied\n",
      "0 projection items activated\n",
      "Loading data for 10 events and 500 original time points ...\n",
      "0 bad epochs dropped\n",
      "Fitted sphere radius:         100.0 mm\n",
      "Origin head coordinates:      1.8 3.7 40.7 mm\n",
      "Origin device coordinates:    1.8 3.7 40.7 mm\n"
     ]
    },
    {
     "name": "stderr",
     "output_type": "stream",
     "text": [
      "/home/christian/code/acareeg/acareeg/lemon.py:58: RuntimeWarning: Limited 1 annotation(s) that were expanding outside the data range.\n",
      "  raw = mne.io.read_raw_eeglab(str(Path(root_path) / eeg_rel_path / f\"sub-{subject}_{event_id}.set\"), verbose=False)\n",
      "/home/christian/code/acareeg/acareeg/lemon.py:58: RuntimeWarning: The data contains 'boundary' events, indicating data discontinuities. Be cautious of filtering and epoching around these events.\n",
      "  raw = mne.io.read_raw_eeglab(str(Path(root_path) / eeg_rel_path / f\"sub-{subject}_{event_id}.set\"), verbose=False)\n",
      "<ipython-input-2-c47d3aa7e58e>:39: RuntimeWarning: Epochs are not baseline corrected, covariance matrix may be inaccurate\n",
      "  noise_cov = mne.compute_covariance(epochs, method=\"auto\", verbose=False).as_diag()\n",
      "<ipython-input-2-c47d3aa7e58e>:40: RuntimeWarning: No average EEG reference present in info[\"projs\"], covariance may be adversely affected. Consider recomputing covariance using with an average eeg reference projector added.\n",
      "  inverse_operator = mne.minimum_norm.make_inverse_operator(epochs.info, fwd, noise_cov, loose=loose, verbose=False)\n",
      "<ipython-input-2-c47d3aa7e58e>:40: RuntimeWarning: No average EEG reference present in info[\"projs\"], covariance may be adversely affected. Consider recomputing covariance using with an average eeg reference projector added.\n",
      "  inverse_operator = mne.minimum_norm.make_inverse_operator(epochs.info, fwd, noise_cov, loose=loose, verbose=False)\n"
     ]
    },
    {
     "name": "stdout",
     "output_type": "stream",
     "text": [
      "Not setting metadata\n",
      "Not setting metadata\n",
      "10 matching events found\n",
      "No baseline correction applied\n",
      "0 projection items activated\n",
      "Loading data for 10 events and 500 original time points ...\n",
      "0 bad epochs dropped\n",
      "Fitted sphere radius:         100.6 mm\n",
      "Origin head coordinates:      3.9 2.1 41.9 mm\n",
      "Origin device coordinates:    3.9 2.1 41.9 mm\n"
     ]
    },
    {
     "name": "stderr",
     "output_type": "stream",
     "text": [
      "/home/christian/code/acareeg/acareeg/lemon.py:58: RuntimeWarning: Limited 1 annotation(s) that were expanding outside the data range.\n",
      "  raw = mne.io.read_raw_eeglab(str(Path(root_path) / eeg_rel_path / f\"sub-{subject}_{event_id}.set\"), verbose=False)\n",
      "/home/christian/code/acareeg/acareeg/lemon.py:58: RuntimeWarning: The data contains 'boundary' events, indicating data discontinuities. Be cautious of filtering and epoching around these events.\n",
      "  raw = mne.io.read_raw_eeglab(str(Path(root_path) / eeg_rel_path / f\"sub-{subject}_{event_id}.set\"), verbose=False)\n",
      "<ipython-input-2-c47d3aa7e58e>:39: RuntimeWarning: Epochs are not baseline corrected, covariance matrix may be inaccurate\n",
      "  noise_cov = mne.compute_covariance(epochs, method=\"auto\", verbose=False).as_diag()\n",
      "<ipython-input-2-c47d3aa7e58e>:40: RuntimeWarning: No average EEG reference present in info[\"projs\"], covariance may be adversely affected. Consider recomputing covariance using with an average eeg reference projector added.\n",
      "  inverse_operator = mne.minimum_norm.make_inverse_operator(epochs.info, fwd, noise_cov, loose=loose, verbose=False)\n",
      "<ipython-input-2-c47d3aa7e58e>:40: RuntimeWarning: No average EEG reference present in info[\"projs\"], covariance may be adversely affected. Consider recomputing covariance using with an average eeg reference projector added.\n",
      "  inverse_operator = mne.minimum_norm.make_inverse_operator(epochs.info, fwd, noise_cov, loose=loose, verbose=False)\n"
     ]
    },
    {
     "name": "stdout",
     "output_type": "stream",
     "text": [
      "Not setting metadata\n",
      "Not setting metadata\n",
      "10 matching events found\n",
      "No baseline correction applied\n",
      "0 projection items activated\n",
      "Loading data for 10 events and 500 original time points ...\n",
      "0 bad epochs dropped\n",
      "Fitted sphere radius:         96.9 mm\n",
      "Origin head coordinates:      0.9 1.3 40.9 mm\n",
      "Origin device coordinates:    0.9 1.3 40.9 mm\n"
     ]
    },
    {
     "name": "stderr",
     "output_type": "stream",
     "text": [
      "/home/christian/code/acareeg/acareeg/lemon.py:58: RuntimeWarning: Limited 1 annotation(s) that were expanding outside the data range.\n",
      "  raw = mne.io.read_raw_eeglab(str(Path(root_path) / eeg_rel_path / f\"sub-{subject}_{event_id}.set\"), verbose=False)\n",
      "/home/christian/code/acareeg/acareeg/lemon.py:58: RuntimeWarning: The data contains 'boundary' events, indicating data discontinuities. Be cautious of filtering and epoching around these events.\n",
      "  raw = mne.io.read_raw_eeglab(str(Path(root_path) / eeg_rel_path / f\"sub-{subject}_{event_id}.set\"), verbose=False)\n",
      "<ipython-input-2-c47d3aa7e58e>:39: RuntimeWarning: Epochs are not baseline corrected, covariance matrix may be inaccurate\n",
      "  noise_cov = mne.compute_covariance(epochs, method=\"auto\", verbose=False).as_diag()\n",
      "<ipython-input-2-c47d3aa7e58e>:40: RuntimeWarning: No average EEG reference present in info[\"projs\"], covariance may be adversely affected. Consider recomputing covariance using with an average eeg reference projector added.\n",
      "  inverse_operator = mne.minimum_norm.make_inverse_operator(epochs.info, fwd, noise_cov, loose=loose, verbose=False)\n",
      "<ipython-input-2-c47d3aa7e58e>:40: RuntimeWarning: No average EEG reference present in info[\"projs\"], covariance may be adversely affected. Consider recomputing covariance using with an average eeg reference projector added.\n",
      "  inverse_operator = mne.minimum_norm.make_inverse_operator(epochs.info, fwd, noise_cov, loose=loose, verbose=False)\n"
     ]
    },
    {
     "name": "stdout",
     "output_type": "stream",
     "text": [
      "Not setting metadata\n",
      "Not setting metadata\n",
      "10 matching events found\n",
      "No baseline correction applied\n",
      "0 projection items activated\n",
      "Loading data for 10 events and 500 original time points ...\n",
      "0 bad epochs dropped\n",
      "Fitted sphere radius:         96.8 mm\n",
      "Origin head coordinates:      3.6 -2.7 42.9 mm\n",
      "Origin device coordinates:    3.6 -2.7 42.9 mm\n"
     ]
    },
    {
     "name": "stderr",
     "output_type": "stream",
     "text": [
      "/home/christian/code/acareeg/acareeg/lemon.py:58: RuntimeWarning: Limited 1 annotation(s) that were expanding outside the data range.\n",
      "  raw = mne.io.read_raw_eeglab(str(Path(root_path) / eeg_rel_path / f\"sub-{subject}_{event_id}.set\"), verbose=False)\n",
      "/home/christian/code/acareeg/acareeg/lemon.py:58: RuntimeWarning: The data contains 'boundary' events, indicating data discontinuities. Be cautious of filtering and epoching around these events.\n",
      "  raw = mne.io.read_raw_eeglab(str(Path(root_path) / eeg_rel_path / f\"sub-{subject}_{event_id}.set\"), verbose=False)\n",
      "<ipython-input-2-c47d3aa7e58e>:39: RuntimeWarning: Epochs are not baseline corrected, covariance matrix may be inaccurate\n",
      "  noise_cov = mne.compute_covariance(epochs, method=\"auto\", verbose=False).as_diag()\n",
      "<ipython-input-2-c47d3aa7e58e>:40: RuntimeWarning: No average EEG reference present in info[\"projs\"], covariance may be adversely affected. Consider recomputing covariance using with an average eeg reference projector added.\n",
      "  inverse_operator = mne.minimum_norm.make_inverse_operator(epochs.info, fwd, noise_cov, loose=loose, verbose=False)\n",
      "<ipython-input-2-c47d3aa7e58e>:40: RuntimeWarning: No average EEG reference present in info[\"projs\"], covariance may be adversely affected. Consider recomputing covariance using with an average eeg reference projector added.\n",
      "  inverse_operator = mne.minimum_norm.make_inverse_operator(epochs.info, fwd, noise_cov, loose=loose, verbose=False)\n"
     ]
    },
    {
     "name": "stdout",
     "output_type": "stream",
     "text": [
      "Not setting metadata\n",
      "Not setting metadata\n",
      "10 matching events found\n",
      "No baseline correction applied\n",
      "0 projection items activated\n",
      "Loading data for 10 events and 500 original time points ...\n",
      "0 bad epochs dropped\n",
      "Fitted sphere radius:         99.5 mm\n",
      "Origin head coordinates:      1.4 4.4 43.3 mm\n",
      "Origin device coordinates:    1.4 4.4 43.3 mm\n"
     ]
    },
    {
     "name": "stderr",
     "output_type": "stream",
     "text": [
      "/home/christian/code/acareeg/acareeg/lemon.py:58: RuntimeWarning: Limited 1 annotation(s) that were expanding outside the data range.\n",
      "  raw = mne.io.read_raw_eeglab(str(Path(root_path) / eeg_rel_path / f\"sub-{subject}_{event_id}.set\"), verbose=False)\n",
      "/home/christian/code/acareeg/acareeg/lemon.py:58: RuntimeWarning: The data contains 'boundary' events, indicating data discontinuities. Be cautious of filtering and epoching around these events.\n",
      "  raw = mne.io.read_raw_eeglab(str(Path(root_path) / eeg_rel_path / f\"sub-{subject}_{event_id}.set\"), verbose=False)\n",
      "<ipython-input-2-c47d3aa7e58e>:39: RuntimeWarning: Epochs are not baseline corrected, covariance matrix may be inaccurate\n",
      "  noise_cov = mne.compute_covariance(epochs, method=\"auto\", verbose=False).as_diag()\n",
      "<ipython-input-2-c47d3aa7e58e>:40: RuntimeWarning: No average EEG reference present in info[\"projs\"], covariance may be adversely affected. Consider recomputing covariance using with an average eeg reference projector added.\n",
      "  inverse_operator = mne.minimum_norm.make_inverse_operator(epochs.info, fwd, noise_cov, loose=loose, verbose=False)\n",
      "<ipython-input-2-c47d3aa7e58e>:40: RuntimeWarning: No average EEG reference present in info[\"projs\"], covariance may be adversely affected. Consider recomputing covariance using with an average eeg reference projector added.\n",
      "  inverse_operator = mne.minimum_norm.make_inverse_operator(epochs.info, fwd, noise_cov, loose=loose, verbose=False)\n"
     ]
    },
    {
     "name": "stdout",
     "output_type": "stream",
     "text": [
      "Not setting metadata\n",
      "Not setting metadata\n",
      "10 matching events found\n",
      "No baseline correction applied\n",
      "0 projection items activated\n",
      "Loading data for 10 events and 500 original time points ...\n",
      "0 bad epochs dropped\n",
      "Fitted sphere radius:         101.0 mm\n",
      "Origin head coordinates:      3.2 -4.0 47.7 mm\n",
      "Origin device coordinates:    3.2 -4.0 47.7 mm\n"
     ]
    },
    {
     "name": "stderr",
     "output_type": "stream",
     "text": [
      "/home/christian/code/acareeg/acareeg/lemon.py:58: RuntimeWarning: Limited 1 annotation(s) that were expanding outside the data range.\n",
      "  raw = mne.io.read_raw_eeglab(str(Path(root_path) / eeg_rel_path / f\"sub-{subject}_{event_id}.set\"), verbose=False)\n",
      "/home/christian/code/acareeg/acareeg/lemon.py:58: RuntimeWarning: The data contains 'boundary' events, indicating data discontinuities. Be cautious of filtering and epoching around these events.\n",
      "  raw = mne.io.read_raw_eeglab(str(Path(root_path) / eeg_rel_path / f\"sub-{subject}_{event_id}.set\"), verbose=False)\n",
      "<ipython-input-2-c47d3aa7e58e>:39: RuntimeWarning: Epochs are not baseline corrected, covariance matrix may be inaccurate\n",
      "  noise_cov = mne.compute_covariance(epochs, method=\"auto\", verbose=False).as_diag()\n",
      "<ipython-input-2-c47d3aa7e58e>:40: RuntimeWarning: No average EEG reference present in info[\"projs\"], covariance may be adversely affected. Consider recomputing covariance using with an average eeg reference projector added.\n",
      "  inverse_operator = mne.minimum_norm.make_inverse_operator(epochs.info, fwd, noise_cov, loose=loose, verbose=False)\n",
      "<ipython-input-2-c47d3aa7e58e>:40: RuntimeWarning: No average EEG reference present in info[\"projs\"], covariance may be adversely affected. Consider recomputing covariance using with an average eeg reference projector added.\n",
      "  inverse_operator = mne.minimum_norm.make_inverse_operator(epochs.info, fwd, noise_cov, loose=loose, verbose=False)\n"
     ]
    },
    {
     "name": "stdout",
     "output_type": "stream",
     "text": [
      "Not setting metadata\n",
      "Not setting metadata\n",
      "10 matching events found\n",
      "No baseline correction applied\n",
      "0 projection items activated\n",
      "Loading data for 10 events and 500 original time points ...\n",
      "0 bad epochs dropped\n",
      "Fitted sphere radius:         98.2 mm\n",
      "Origin head coordinates:      5.1 6.3 52.2 mm\n",
      "Origin device coordinates:    5.1 6.3 52.2 mm\n"
     ]
    },
    {
     "name": "stderr",
     "output_type": "stream",
     "text": [
      "/home/christian/code/acareeg/acareeg/lemon.py:58: RuntimeWarning: Limited 1 annotation(s) that were expanding outside the data range.\n",
      "  raw = mne.io.read_raw_eeglab(str(Path(root_path) / eeg_rel_path / f\"sub-{subject}_{event_id}.set\"), verbose=False)\n",
      "/home/christian/code/acareeg/acareeg/lemon.py:58: RuntimeWarning: The data contains 'boundary' events, indicating data discontinuities. Be cautious of filtering and epoching around these events.\n",
      "  raw = mne.io.read_raw_eeglab(str(Path(root_path) / eeg_rel_path / f\"sub-{subject}_{event_id}.set\"), verbose=False)\n",
      "<ipython-input-2-c47d3aa7e58e>:39: RuntimeWarning: Epochs are not baseline corrected, covariance matrix may be inaccurate\n",
      "  noise_cov = mne.compute_covariance(epochs, method=\"auto\", verbose=False).as_diag()\n",
      "<ipython-input-2-c47d3aa7e58e>:40: RuntimeWarning: No average EEG reference present in info[\"projs\"], covariance may be adversely affected. Consider recomputing covariance using with an average eeg reference projector added.\n",
      "  inverse_operator = mne.minimum_norm.make_inverse_operator(epochs.info, fwd, noise_cov, loose=loose, verbose=False)\n",
      "<ipython-input-2-c47d3aa7e58e>:40: RuntimeWarning: No average EEG reference present in info[\"projs\"], covariance may be adversely affected. Consider recomputing covariance using with an average eeg reference projector added.\n",
      "  inverse_operator = mne.minimum_norm.make_inverse_operator(epochs.info, fwd, noise_cov, loose=loose, verbose=False)\n"
     ]
    },
    {
     "name": "stdout",
     "output_type": "stream",
     "text": [
      "Not setting metadata\n",
      "Not setting metadata\n",
      "10 matching events found\n",
      "No baseline correction applied\n",
      "0 projection items activated\n",
      "Loading data for 10 events and 500 original time points ...\n",
      "0 bad epochs dropped\n",
      "Fitted sphere radius:         103.7 mm\n",
      "Origin head coordinates:      -1.0 3.4 44.1 mm\n",
      "Origin device coordinates:    -1.0 3.4 44.1 mm\n"
     ]
    },
    {
     "name": "stderr",
     "output_type": "stream",
     "text": [
      "/home/christian/code/acareeg/acareeg/lemon.py:58: RuntimeWarning: Limited 1 annotation(s) that were expanding outside the data range.\n",
      "  raw = mne.io.read_raw_eeglab(str(Path(root_path) / eeg_rel_path / f\"sub-{subject}_{event_id}.set\"), verbose=False)\n",
      "/home/christian/code/acareeg/acareeg/lemon.py:58: RuntimeWarning: The data contains 'boundary' events, indicating data discontinuities. Be cautious of filtering and epoching around these events.\n",
      "  raw = mne.io.read_raw_eeglab(str(Path(root_path) / eeg_rel_path / f\"sub-{subject}_{event_id}.set\"), verbose=False)\n",
      "<ipython-input-2-c47d3aa7e58e>:39: RuntimeWarning: Epochs are not baseline corrected, covariance matrix may be inaccurate\n",
      "  noise_cov = mne.compute_covariance(epochs, method=\"auto\", verbose=False).as_diag()\n",
      "<ipython-input-2-c47d3aa7e58e>:40: RuntimeWarning: No average EEG reference present in info[\"projs\"], covariance may be adversely affected. Consider recomputing covariance using with an average eeg reference projector added.\n",
      "  inverse_operator = mne.minimum_norm.make_inverse_operator(epochs.info, fwd, noise_cov, loose=loose, verbose=False)\n",
      "<ipython-input-2-c47d3aa7e58e>:40: RuntimeWarning: No average EEG reference present in info[\"projs\"], covariance may be adversely affected. Consider recomputing covariance using with an average eeg reference projector added.\n",
      "  inverse_operator = mne.minimum_norm.make_inverse_operator(epochs.info, fwd, noise_cov, loose=loose, verbose=False)\n"
     ]
    },
    {
     "name": "stdout",
     "output_type": "stream",
     "text": [
      "Not setting metadata\n",
      "Not setting metadata\n",
      "10 matching events found\n",
      "No baseline correction applied\n",
      "0 projection items activated\n",
      "Loading data for 10 events and 500 original time points ...\n",
      "0 bad epochs dropped\n",
      "Fitted sphere radius:         100.7 mm\n",
      "Origin head coordinates:      2.7 5.8 55.3 mm\n",
      "Origin device coordinates:    2.7 5.8 55.3 mm\n"
     ]
    },
    {
     "name": "stderr",
     "output_type": "stream",
     "text": [
      "/home/christian/code/acareeg/acareeg/lemon.py:58: RuntimeWarning: Limited 1 annotation(s) that were expanding outside the data range.\n",
      "  raw = mne.io.read_raw_eeglab(str(Path(root_path) / eeg_rel_path / f\"sub-{subject}_{event_id}.set\"), verbose=False)\n",
      "/home/christian/code/acareeg/acareeg/lemon.py:58: RuntimeWarning: The data contains 'boundary' events, indicating data discontinuities. Be cautious of filtering and epoching around these events.\n",
      "  raw = mne.io.read_raw_eeglab(str(Path(root_path) / eeg_rel_path / f\"sub-{subject}_{event_id}.set\"), verbose=False)\n",
      "<ipython-input-2-c47d3aa7e58e>:39: RuntimeWarning: Epochs are not baseline corrected, covariance matrix may be inaccurate\n",
      "  noise_cov = mne.compute_covariance(epochs, method=\"auto\", verbose=False).as_diag()\n",
      "<ipython-input-2-c47d3aa7e58e>:40: RuntimeWarning: No average EEG reference present in info[\"projs\"], covariance may be adversely affected. Consider recomputing covariance using with an average eeg reference projector added.\n",
      "  inverse_operator = mne.minimum_norm.make_inverse_operator(epochs.info, fwd, noise_cov, loose=loose, verbose=False)\n",
      "<ipython-input-2-c47d3aa7e58e>:40: RuntimeWarning: No average EEG reference present in info[\"projs\"], covariance may be adversely affected. Consider recomputing covariance using with an average eeg reference projector added.\n",
      "  inverse_operator = mne.minimum_norm.make_inverse_operator(epochs.info, fwd, noise_cov, loose=loose, verbose=False)\n"
     ]
    },
    {
     "name": "stdout",
     "output_type": "stream",
     "text": [
      "Not setting metadata\n",
      "Not setting metadata\n",
      "10 matching events found\n",
      "No baseline correction applied\n",
      "0 projection items activated\n",
      "Loading data for 10 events and 500 original time points ...\n",
      "0 bad epochs dropped\n",
      "Fitted sphere radius:         104.4 mm\n",
      "Origin head coordinates:      5.2 1.2 41.7 mm\n",
      "Origin device coordinates:    5.2 1.2 41.7 mm\n"
     ]
    },
    {
     "name": "stderr",
     "output_type": "stream",
     "text": [
      "/home/christian/code/acareeg/acareeg/lemon.py:58: RuntimeWarning: Limited 1 annotation(s) that were expanding outside the data range.\n",
      "  raw = mne.io.read_raw_eeglab(str(Path(root_path) / eeg_rel_path / f\"sub-{subject}_{event_id}.set\"), verbose=False)\n",
      "/home/christian/code/acareeg/acareeg/lemon.py:58: RuntimeWarning: The data contains 'boundary' events, indicating data discontinuities. Be cautious of filtering and epoching around these events.\n",
      "  raw = mne.io.read_raw_eeglab(str(Path(root_path) / eeg_rel_path / f\"sub-{subject}_{event_id}.set\"), verbose=False)\n",
      "<ipython-input-2-c47d3aa7e58e>:39: RuntimeWarning: Epochs are not baseline corrected, covariance matrix may be inaccurate\n",
      "  noise_cov = mne.compute_covariance(epochs, method=\"auto\", verbose=False).as_diag()\n",
      "<ipython-input-2-c47d3aa7e58e>:40: RuntimeWarning: No average EEG reference present in info[\"projs\"], covariance may be adversely affected. Consider recomputing covariance using with an average eeg reference projector added.\n",
      "  inverse_operator = mne.minimum_norm.make_inverse_operator(epochs.info, fwd, noise_cov, loose=loose, verbose=False)\n",
      "<ipython-input-2-c47d3aa7e58e>:40: RuntimeWarning: No average EEG reference present in info[\"projs\"], covariance may be adversely affected. Consider recomputing covariance using with an average eeg reference projector added.\n",
      "  inverse_operator = mne.minimum_norm.make_inverse_operator(epochs.info, fwd, noise_cov, loose=loose, verbose=False)\n"
     ]
    },
    {
     "name": "stdout",
     "output_type": "stream",
     "text": [
      "Not setting metadata\n",
      "Not setting metadata\n",
      "10 matching events found\n",
      "No baseline correction applied\n",
      "0 projection items activated\n",
      "Loading data for 10 events and 500 original time points ...\n",
      "0 bad epochs dropped\n",
      "Fitted sphere radius:         98.1 mm\n",
      "Origin head coordinates:      3.0 2.7 46.9 mm\n",
      "Origin device coordinates:    3.0 2.7 46.9 mm\n"
     ]
    },
    {
     "name": "stderr",
     "output_type": "stream",
     "text": [
      "/home/christian/code/acareeg/acareeg/lemon.py:58: RuntimeWarning: Limited 1 annotation(s) that were expanding outside the data range.\n",
      "  raw = mne.io.read_raw_eeglab(str(Path(root_path) / eeg_rel_path / f\"sub-{subject}_{event_id}.set\"), verbose=False)\n",
      "/home/christian/code/acareeg/acareeg/lemon.py:58: RuntimeWarning: The data contains 'boundary' events, indicating data discontinuities. Be cautious of filtering and epoching around these events.\n",
      "  raw = mne.io.read_raw_eeglab(str(Path(root_path) / eeg_rel_path / f\"sub-{subject}_{event_id}.set\"), verbose=False)\n",
      "<ipython-input-2-c47d3aa7e58e>:39: RuntimeWarning: Epochs are not baseline corrected, covariance matrix may be inaccurate\n",
      "  noise_cov = mne.compute_covariance(epochs, method=\"auto\", verbose=False).as_diag()\n",
      "<ipython-input-2-c47d3aa7e58e>:40: RuntimeWarning: No average EEG reference present in info[\"projs\"], covariance may be adversely affected. Consider recomputing covariance using with an average eeg reference projector added.\n",
      "  inverse_operator = mne.minimum_norm.make_inverse_operator(epochs.info, fwd, noise_cov, loose=loose, verbose=False)\n",
      "<ipython-input-2-c47d3aa7e58e>:40: RuntimeWarning: No average EEG reference present in info[\"projs\"], covariance may be adversely affected. Consider recomputing covariance using with an average eeg reference projector added.\n",
      "  inverse_operator = mne.minimum_norm.make_inverse_operator(epochs.info, fwd, noise_cov, loose=loose, verbose=False)\n"
     ]
    },
    {
     "name": "stdout",
     "output_type": "stream",
     "text": [
      "Not setting metadata\n",
      "Not setting metadata\n",
      "10 matching events found\n",
      "No baseline correction applied\n",
      "0 projection items activated\n",
      "Loading data for 10 events and 500 original time points ...\n",
      "0 bad epochs dropped\n",
      "Fitted sphere radius:         100.5 mm\n",
      "Origin head coordinates:      2.4 0.4 37.1 mm\n",
      "Origin device coordinates:    2.4 0.4 37.1 mm\n"
     ]
    },
    {
     "name": "stderr",
     "output_type": "stream",
     "text": [
      "/home/christian/code/acareeg/acareeg/lemon.py:58: RuntimeWarning: Limited 1 annotation(s) that were expanding outside the data range.\n",
      "  raw = mne.io.read_raw_eeglab(str(Path(root_path) / eeg_rel_path / f\"sub-{subject}_{event_id}.set\"), verbose=False)\n",
      "/home/christian/code/acareeg/acareeg/lemon.py:58: RuntimeWarning: The data contains 'boundary' events, indicating data discontinuities. Be cautious of filtering and epoching around these events.\n",
      "  raw = mne.io.read_raw_eeglab(str(Path(root_path) / eeg_rel_path / f\"sub-{subject}_{event_id}.set\"), verbose=False)\n",
      "<ipython-input-2-c47d3aa7e58e>:39: RuntimeWarning: Epochs are not baseline corrected, covariance matrix may be inaccurate\n",
      "  noise_cov = mne.compute_covariance(epochs, method=\"auto\", verbose=False).as_diag()\n",
      "<ipython-input-2-c47d3aa7e58e>:40: RuntimeWarning: No average EEG reference present in info[\"projs\"], covariance may be adversely affected. Consider recomputing covariance using with an average eeg reference projector added.\n",
      "  inverse_operator = mne.minimum_norm.make_inverse_operator(epochs.info, fwd, noise_cov, loose=loose, verbose=False)\n",
      "<ipython-input-2-c47d3aa7e58e>:40: RuntimeWarning: No average EEG reference present in info[\"projs\"], covariance may be adversely affected. Consider recomputing covariance using with an average eeg reference projector added.\n",
      "  inverse_operator = mne.minimum_norm.make_inverse_operator(epochs.info, fwd, noise_cov, loose=loose, verbose=False)\n"
     ]
    },
    {
     "name": "stdout",
     "output_type": "stream",
     "text": [
      "Not setting metadata\n",
      "Not setting metadata\n",
      "10 matching events found\n",
      "No baseline correction applied\n",
      "0 projection items activated\n",
      "Loading data for 10 events and 500 original time points ...\n",
      "0 bad epochs dropped\n",
      "Fitted sphere radius:         97.6 mm\n",
      "Origin head coordinates:      3.0 -0.1 45.6 mm\n",
      "Origin device coordinates:    3.0 -0.1 45.6 mm\n"
     ]
    },
    {
     "name": "stderr",
     "output_type": "stream",
     "text": [
      "/home/christian/code/acareeg/acareeg/lemon.py:58: RuntimeWarning: Limited 1 annotation(s) that were expanding outside the data range.\n",
      "  raw = mne.io.read_raw_eeglab(str(Path(root_path) / eeg_rel_path / f\"sub-{subject}_{event_id}.set\"), verbose=False)\n",
      "/home/christian/code/acareeg/acareeg/lemon.py:58: RuntimeWarning: The data contains 'boundary' events, indicating data discontinuities. Be cautious of filtering and epoching around these events.\n",
      "  raw = mne.io.read_raw_eeglab(str(Path(root_path) / eeg_rel_path / f\"sub-{subject}_{event_id}.set\"), verbose=False)\n",
      "<ipython-input-2-c47d3aa7e58e>:39: RuntimeWarning: Epochs are not baseline corrected, covariance matrix may be inaccurate\n",
      "  noise_cov = mne.compute_covariance(epochs, method=\"auto\", verbose=False).as_diag()\n",
      "<ipython-input-2-c47d3aa7e58e>:40: RuntimeWarning: No average EEG reference present in info[\"projs\"], covariance may be adversely affected. Consider recomputing covariance using with an average eeg reference projector added.\n",
      "  inverse_operator = mne.minimum_norm.make_inverse_operator(epochs.info, fwd, noise_cov, loose=loose, verbose=False)\n",
      "<ipython-input-2-c47d3aa7e58e>:40: RuntimeWarning: No average EEG reference present in info[\"projs\"], covariance may be adversely affected. Consider recomputing covariance using with an average eeg reference projector added.\n",
      "  inverse_operator = mne.minimum_norm.make_inverse_operator(epochs.info, fwd, noise_cov, loose=loose, verbose=False)\n"
     ]
    },
    {
     "name": "stdout",
     "output_type": "stream",
     "text": [
      "Not setting metadata\n",
      "Not setting metadata\n",
      "10 matching events found\n",
      "No baseline correction applied\n",
      "0 projection items activated\n",
      "Loading data for 10 events and 500 original time points ...\n",
      "0 bad epochs dropped\n",
      "Fitted sphere radius:         100.8 mm\n",
      "Origin head coordinates:      3.8 -3.6 37.9 mm\n",
      "Origin device coordinates:    3.8 -3.6 37.9 mm\n"
     ]
    },
    {
     "name": "stderr",
     "output_type": "stream",
     "text": [
      "/home/christian/code/acareeg/acareeg/lemon.py:58: RuntimeWarning: Limited 1 annotation(s) that were expanding outside the data range.\n",
      "  raw = mne.io.read_raw_eeglab(str(Path(root_path) / eeg_rel_path / f\"sub-{subject}_{event_id}.set\"), verbose=False)\n",
      "/home/christian/code/acareeg/acareeg/lemon.py:58: RuntimeWarning: The data contains 'boundary' events, indicating data discontinuities. Be cautious of filtering and epoching around these events.\n",
      "  raw = mne.io.read_raw_eeglab(str(Path(root_path) / eeg_rel_path / f\"sub-{subject}_{event_id}.set\"), verbose=False)\n",
      "<ipython-input-2-c47d3aa7e58e>:39: RuntimeWarning: Epochs are not baseline corrected, covariance matrix may be inaccurate\n",
      "  noise_cov = mne.compute_covariance(epochs, method=\"auto\", verbose=False).as_diag()\n",
      "<ipython-input-2-c47d3aa7e58e>:40: RuntimeWarning: No average EEG reference present in info[\"projs\"], covariance may be adversely affected. Consider recomputing covariance using with an average eeg reference projector added.\n",
      "  inverse_operator = mne.minimum_norm.make_inverse_operator(epochs.info, fwd, noise_cov, loose=loose, verbose=False)\n",
      "<ipython-input-2-c47d3aa7e58e>:40: RuntimeWarning: No average EEG reference present in info[\"projs\"], covariance may be adversely affected. Consider recomputing covariance using with an average eeg reference projector added.\n",
      "  inverse_operator = mne.minimum_norm.make_inverse_operator(epochs.info, fwd, noise_cov, loose=loose, verbose=False)\n"
     ]
    },
    {
     "name": "stdout",
     "output_type": "stream",
     "text": [
      "Not setting metadata\n",
      "Not setting metadata\n",
      "10 matching events found\n",
      "No baseline correction applied\n",
      "0 projection items activated\n",
      "Loading data for 10 events and 500 original time points ...\n",
      "0 bad epochs dropped\n",
      "Fitted sphere radius:         93.6 mm\n",
      "Origin head coordinates:      6.4 2.4 42.2 mm\n",
      "Origin device coordinates:    6.4 2.4 42.2 mm\n"
     ]
    },
    {
     "name": "stderr",
     "output_type": "stream",
     "text": [
      "/home/christian/code/acareeg/acareeg/lemon.py:58: RuntimeWarning: Limited 1 annotation(s) that were expanding outside the data range.\n",
      "  raw = mne.io.read_raw_eeglab(str(Path(root_path) / eeg_rel_path / f\"sub-{subject}_{event_id}.set\"), verbose=False)\n",
      "/home/christian/code/acareeg/acareeg/lemon.py:58: RuntimeWarning: The data contains 'boundary' events, indicating data discontinuities. Be cautious of filtering and epoching around these events.\n",
      "  raw = mne.io.read_raw_eeglab(str(Path(root_path) / eeg_rel_path / f\"sub-{subject}_{event_id}.set\"), verbose=False)\n",
      "<ipython-input-2-c47d3aa7e58e>:39: RuntimeWarning: Epochs are not baseline corrected, covariance matrix may be inaccurate\n",
      "  noise_cov = mne.compute_covariance(epochs, method=\"auto\", verbose=False).as_diag()\n",
      "<ipython-input-2-c47d3aa7e58e>:40: RuntimeWarning: No average EEG reference present in info[\"projs\"], covariance may be adversely affected. Consider recomputing covariance using with an average eeg reference projector added.\n",
      "  inverse_operator = mne.minimum_norm.make_inverse_operator(epochs.info, fwd, noise_cov, loose=loose, verbose=False)\n",
      "<ipython-input-2-c47d3aa7e58e>:40: RuntimeWarning: No average EEG reference present in info[\"projs\"], covariance may be adversely affected. Consider recomputing covariance using with an average eeg reference projector added.\n",
      "  inverse_operator = mne.minimum_norm.make_inverse_operator(epochs.info, fwd, noise_cov, loose=loose, verbose=False)\n"
     ]
    },
    {
     "name": "stdout",
     "output_type": "stream",
     "text": [
      "Not setting metadata\n",
      "Not setting metadata\n",
      "10 matching events found\n",
      "No baseline correction applied\n",
      "0 projection items activated\n",
      "Loading data for 10 events and 500 original time points ...\n",
      "0 bad epochs dropped\n",
      "Fitted sphere radius:         100.8 mm\n",
      "Origin head coordinates:      1.5 -1.6 44.2 mm\n",
      "Origin device coordinates:    1.5 -1.6 44.2 mm\n"
     ]
    },
    {
     "name": "stderr",
     "output_type": "stream",
     "text": [
      "/home/christian/code/acareeg/acareeg/lemon.py:58: RuntimeWarning: Limited 1 annotation(s) that were expanding outside the data range.\n",
      "  raw = mne.io.read_raw_eeglab(str(Path(root_path) / eeg_rel_path / f\"sub-{subject}_{event_id}.set\"), verbose=False)\n",
      "/home/christian/code/acareeg/acareeg/lemon.py:58: RuntimeWarning: The data contains 'boundary' events, indicating data discontinuities. Be cautious of filtering and epoching around these events.\n",
      "  raw = mne.io.read_raw_eeglab(str(Path(root_path) / eeg_rel_path / f\"sub-{subject}_{event_id}.set\"), verbose=False)\n",
      "<ipython-input-2-c47d3aa7e58e>:39: RuntimeWarning: Epochs are not baseline corrected, covariance matrix may be inaccurate\n",
      "  noise_cov = mne.compute_covariance(epochs, method=\"auto\", verbose=False).as_diag()\n",
      "<ipython-input-2-c47d3aa7e58e>:40: RuntimeWarning: No average EEG reference present in info[\"projs\"], covariance may be adversely affected. Consider recomputing covariance using with an average eeg reference projector added.\n",
      "  inverse_operator = mne.minimum_norm.make_inverse_operator(epochs.info, fwd, noise_cov, loose=loose, verbose=False)\n",
      "<ipython-input-2-c47d3aa7e58e>:40: RuntimeWarning: No average EEG reference present in info[\"projs\"], covariance may be adversely affected. Consider recomputing covariance using with an average eeg reference projector added.\n",
      "  inverse_operator = mne.minimum_norm.make_inverse_operator(epochs.info, fwd, noise_cov, loose=loose, verbose=False)\n"
     ]
    },
    {
     "name": "stdout",
     "output_type": "stream",
     "text": [
      "Not setting metadata\n",
      "Not setting metadata\n",
      "10 matching events found\n",
      "No baseline correction applied\n",
      "0 projection items activated\n",
      "Loading data for 10 events and 500 original time points ...\n",
      "0 bad epochs dropped\n",
      "Fitted sphere radius:         102.8 mm\n",
      "Origin head coordinates:      3.7 -1.7 38.6 mm\n",
      "Origin device coordinates:    3.7 -1.7 38.6 mm\n"
     ]
    },
    {
     "name": "stderr",
     "output_type": "stream",
     "text": [
      "/home/christian/code/acareeg/acareeg/lemon.py:58: RuntimeWarning: Limited 1 annotation(s) that were expanding outside the data range.\n",
      "  raw = mne.io.read_raw_eeglab(str(Path(root_path) / eeg_rel_path / f\"sub-{subject}_{event_id}.set\"), verbose=False)\n",
      "/home/christian/code/acareeg/acareeg/lemon.py:58: RuntimeWarning: The data contains 'boundary' events, indicating data discontinuities. Be cautious of filtering and epoching around these events.\n",
      "  raw = mne.io.read_raw_eeglab(str(Path(root_path) / eeg_rel_path / f\"sub-{subject}_{event_id}.set\"), verbose=False)\n",
      "<ipython-input-2-c47d3aa7e58e>:39: RuntimeWarning: Epochs are not baseline corrected, covariance matrix may be inaccurate\n",
      "  noise_cov = mne.compute_covariance(epochs, method=\"auto\", verbose=False).as_diag()\n",
      "<ipython-input-2-c47d3aa7e58e>:40: RuntimeWarning: No average EEG reference present in info[\"projs\"], covariance may be adversely affected. Consider recomputing covariance using with an average eeg reference projector added.\n",
      "  inverse_operator = mne.minimum_norm.make_inverse_operator(epochs.info, fwd, noise_cov, loose=loose, verbose=False)\n",
      "<ipython-input-2-c47d3aa7e58e>:40: RuntimeWarning: No average EEG reference present in info[\"projs\"], covariance may be adversely affected. Consider recomputing covariance using with an average eeg reference projector added.\n",
      "  inverse_operator = mne.minimum_norm.make_inverse_operator(epochs.info, fwd, noise_cov, loose=loose, verbose=False)\n"
     ]
    },
    {
     "name": "stdout",
     "output_type": "stream",
     "text": [
      "Not setting metadata\n",
      "Not setting metadata\n",
      "10 matching events found\n",
      "No baseline correction applied\n",
      "0 projection items activated\n",
      "Loading data for 10 events and 500 original time points ...\n",
      "0 bad epochs dropped\n",
      "Fitted sphere radius:         98.9 mm\n",
      "Origin head coordinates:      4.7 5.1 49.1 mm\n",
      "Origin device coordinates:    4.7 5.1 49.1 mm\n"
     ]
    },
    {
     "name": "stderr",
     "output_type": "stream",
     "text": [
      "/home/christian/code/acareeg/acareeg/lemon.py:58: RuntimeWarning: Limited 1 annotation(s) that were expanding outside the data range.\n",
      "  raw = mne.io.read_raw_eeglab(str(Path(root_path) / eeg_rel_path / f\"sub-{subject}_{event_id}.set\"), verbose=False)\n",
      "/home/christian/code/acareeg/acareeg/lemon.py:58: RuntimeWarning: The data contains 'boundary' events, indicating data discontinuities. Be cautious of filtering and epoching around these events.\n",
      "  raw = mne.io.read_raw_eeglab(str(Path(root_path) / eeg_rel_path / f\"sub-{subject}_{event_id}.set\"), verbose=False)\n",
      "<ipython-input-2-c47d3aa7e58e>:39: RuntimeWarning: Epochs are not baseline corrected, covariance matrix may be inaccurate\n",
      "  noise_cov = mne.compute_covariance(epochs, method=\"auto\", verbose=False).as_diag()\n",
      "<ipython-input-2-c47d3aa7e58e>:40: RuntimeWarning: No average EEG reference present in info[\"projs\"], covariance may be adversely affected. Consider recomputing covariance using with an average eeg reference projector added.\n",
      "  inverse_operator = mne.minimum_norm.make_inverse_operator(epochs.info, fwd, noise_cov, loose=loose, verbose=False)\n",
      "<ipython-input-2-c47d3aa7e58e>:40: RuntimeWarning: No average EEG reference present in info[\"projs\"], covariance may be adversely affected. Consider recomputing covariance using with an average eeg reference projector added.\n",
      "  inverse_operator = mne.minimum_norm.make_inverse_operator(epochs.info, fwd, noise_cov, loose=loose, verbose=False)\n"
     ]
    },
    {
     "name": "stdout",
     "output_type": "stream",
     "text": [
      "Not setting metadata\n",
      "Not setting metadata\n",
      "10 matching events found\n",
      "No baseline correction applied\n",
      "0 projection items activated\n",
      "Loading data for 10 events and 500 original time points ...\n",
      "0 bad epochs dropped\n",
      "Fitted sphere radius:         99.6 mm\n",
      "Origin head coordinates:      1.2 1.6 40.7 mm\n",
      "Origin device coordinates:    1.2 1.6 40.7 mm\n"
     ]
    },
    {
     "name": "stderr",
     "output_type": "stream",
     "text": [
      "/home/christian/code/acareeg/acareeg/lemon.py:58: RuntimeWarning: Limited 1 annotation(s) that were expanding outside the data range.\n",
      "  raw = mne.io.read_raw_eeglab(str(Path(root_path) / eeg_rel_path / f\"sub-{subject}_{event_id}.set\"), verbose=False)\n",
      "/home/christian/code/acareeg/acareeg/lemon.py:58: RuntimeWarning: The data contains 'boundary' events, indicating data discontinuities. Be cautious of filtering and epoching around these events.\n",
      "  raw = mne.io.read_raw_eeglab(str(Path(root_path) / eeg_rel_path / f\"sub-{subject}_{event_id}.set\"), verbose=False)\n",
      "<ipython-input-2-c47d3aa7e58e>:39: RuntimeWarning: Epochs are not baseline corrected, covariance matrix may be inaccurate\n",
      "  noise_cov = mne.compute_covariance(epochs, method=\"auto\", verbose=False).as_diag()\n",
      "<ipython-input-2-c47d3aa7e58e>:40: RuntimeWarning: No average EEG reference present in info[\"projs\"], covariance may be adversely affected. Consider recomputing covariance using with an average eeg reference projector added.\n",
      "  inverse_operator = mne.minimum_norm.make_inverse_operator(epochs.info, fwd, noise_cov, loose=loose, verbose=False)\n",
      "<ipython-input-2-c47d3aa7e58e>:40: RuntimeWarning: No average EEG reference present in info[\"projs\"], covariance may be adversely affected. Consider recomputing covariance using with an average eeg reference projector added.\n",
      "  inverse_operator = mne.minimum_norm.make_inverse_operator(epochs.info, fwd, noise_cov, loose=loose, verbose=False)\n"
     ]
    },
    {
     "name": "stdout",
     "output_type": "stream",
     "text": [
      "Not setting metadata\n",
      "Not setting metadata\n",
      "10 matching events found\n",
      "No baseline correction applied\n",
      "0 projection items activated\n",
      "Loading data for 10 events and 500 original time points ...\n",
      "0 bad epochs dropped\n",
      "Fitted sphere radius:         95.4 mm\n",
      "Origin head coordinates:      3.2 -1.1 39.7 mm\n",
      "Origin device coordinates:    3.2 -1.1 39.7 mm\n"
     ]
    },
    {
     "name": "stderr",
     "output_type": "stream",
     "text": [
      "/home/christian/code/acareeg/acareeg/lemon.py:58: RuntimeWarning: Limited 1 annotation(s) that were expanding outside the data range.\n",
      "  raw = mne.io.read_raw_eeglab(str(Path(root_path) / eeg_rel_path / f\"sub-{subject}_{event_id}.set\"), verbose=False)\n",
      "/home/christian/code/acareeg/acareeg/lemon.py:58: RuntimeWarning: The data contains 'boundary' events, indicating data discontinuities. Be cautious of filtering and epoching around these events.\n",
      "  raw = mne.io.read_raw_eeglab(str(Path(root_path) / eeg_rel_path / f\"sub-{subject}_{event_id}.set\"), verbose=False)\n",
      "<ipython-input-2-c47d3aa7e58e>:39: RuntimeWarning: Epochs are not baseline corrected, covariance matrix may be inaccurate\n",
      "  noise_cov = mne.compute_covariance(epochs, method=\"auto\", verbose=False).as_diag()\n",
      "<ipython-input-2-c47d3aa7e58e>:40: RuntimeWarning: No average EEG reference present in info[\"projs\"], covariance may be adversely affected. Consider recomputing covariance using with an average eeg reference projector added.\n",
      "  inverse_operator = mne.minimum_norm.make_inverse_operator(epochs.info, fwd, noise_cov, loose=loose, verbose=False)\n",
      "<ipython-input-2-c47d3aa7e58e>:40: RuntimeWarning: No average EEG reference present in info[\"projs\"], covariance may be adversely affected. Consider recomputing covariance using with an average eeg reference projector added.\n",
      "  inverse_operator = mne.minimum_norm.make_inverse_operator(epochs.info, fwd, noise_cov, loose=loose, verbose=False)\n"
     ]
    },
    {
     "name": "stdout",
     "output_type": "stream",
     "text": [
      "Not setting metadata\n",
      "Not setting metadata\n",
      "10 matching events found\n",
      "No baseline correction applied\n",
      "0 projection items activated\n",
      "Loading data for 10 events and 500 original time points ...\n",
      "0 bad epochs dropped\n",
      "Fitted sphere radius:         102.7 mm\n",
      "Origin head coordinates:      2.7 4.1 50.5 mm\n",
      "Origin device coordinates:    2.7 4.1 50.5 mm\n"
     ]
    },
    {
     "name": "stderr",
     "output_type": "stream",
     "text": [
      "/home/christian/code/acareeg/acareeg/lemon.py:58: RuntimeWarning: Limited 1 annotation(s) that were expanding outside the data range.\n",
      "  raw = mne.io.read_raw_eeglab(str(Path(root_path) / eeg_rel_path / f\"sub-{subject}_{event_id}.set\"), verbose=False)\n",
      "/home/christian/code/acareeg/acareeg/lemon.py:58: RuntimeWarning: The data contains 'boundary' events, indicating data discontinuities. Be cautious of filtering and epoching around these events.\n",
      "  raw = mne.io.read_raw_eeglab(str(Path(root_path) / eeg_rel_path / f\"sub-{subject}_{event_id}.set\"), verbose=False)\n",
      "<ipython-input-2-c47d3aa7e58e>:39: RuntimeWarning: Epochs are not baseline corrected, covariance matrix may be inaccurate\n",
      "  noise_cov = mne.compute_covariance(epochs, method=\"auto\", verbose=False).as_diag()\n",
      "<ipython-input-2-c47d3aa7e58e>:40: RuntimeWarning: No average EEG reference present in info[\"projs\"], covariance may be adversely affected. Consider recomputing covariance using with an average eeg reference projector added.\n",
      "  inverse_operator = mne.minimum_norm.make_inverse_operator(epochs.info, fwd, noise_cov, loose=loose, verbose=False)\n",
      "<ipython-input-2-c47d3aa7e58e>:40: RuntimeWarning: No average EEG reference present in info[\"projs\"], covariance may be adversely affected. Consider recomputing covariance using with an average eeg reference projector added.\n",
      "  inverse_operator = mne.minimum_norm.make_inverse_operator(epochs.info, fwd, noise_cov, loose=loose, verbose=False)\n"
     ]
    },
    {
     "name": "stdout",
     "output_type": "stream",
     "text": [
      "Not setting metadata\n",
      "Not setting metadata\n",
      "10 matching events found\n",
      "No baseline correction applied\n",
      "0 projection items activated\n",
      "Loading data for 10 events and 500 original time points ...\n",
      "0 bad epochs dropped\n",
      "Fitted sphere radius:         94.5 mm\n",
      "Origin head coordinates:      -0.1 -5.1 43.7 mm\n",
      "Origin device coordinates:    -0.1 -5.1 43.7 mm\n"
     ]
    },
    {
     "name": "stderr",
     "output_type": "stream",
     "text": [
      "/home/christian/code/acareeg/acareeg/lemon.py:58: RuntimeWarning: Limited 1 annotation(s) that were expanding outside the data range.\n",
      "  raw = mne.io.read_raw_eeglab(str(Path(root_path) / eeg_rel_path / f\"sub-{subject}_{event_id}.set\"), verbose=False)\n",
      "/home/christian/code/acareeg/acareeg/lemon.py:58: RuntimeWarning: The data contains 'boundary' events, indicating data discontinuities. Be cautious of filtering and epoching around these events.\n",
      "  raw = mne.io.read_raw_eeglab(str(Path(root_path) / eeg_rel_path / f\"sub-{subject}_{event_id}.set\"), verbose=False)\n",
      "<ipython-input-2-c47d3aa7e58e>:39: RuntimeWarning: Epochs are not baseline corrected, covariance matrix may be inaccurate\n",
      "  noise_cov = mne.compute_covariance(epochs, method=\"auto\", verbose=False).as_diag()\n",
      "<ipython-input-2-c47d3aa7e58e>:40: RuntimeWarning: No average EEG reference present in info[\"projs\"], covariance may be adversely affected. Consider recomputing covariance using with an average eeg reference projector added.\n",
      "  inverse_operator = mne.minimum_norm.make_inverse_operator(epochs.info, fwd, noise_cov, loose=loose, verbose=False)\n",
      "<ipython-input-2-c47d3aa7e58e>:40: RuntimeWarning: No average EEG reference present in info[\"projs\"], covariance may be adversely affected. Consider recomputing covariance using with an average eeg reference projector added.\n",
      "  inverse_operator = mne.minimum_norm.make_inverse_operator(epochs.info, fwd, noise_cov, loose=loose, verbose=False)\n"
     ]
    },
    {
     "name": "stdout",
     "output_type": "stream",
     "text": [
      "Not setting metadata\n",
      "Not setting metadata\n",
      "10 matching events found\n",
      "No baseline correction applied\n",
      "0 projection items activated\n",
      "Loading data for 10 events and 500 original time points ...\n",
      "0 bad epochs dropped\n",
      "Fitted sphere radius:         101.3 mm\n",
      "Origin head coordinates:      2.0 0.8 42.0 mm\n",
      "Origin device coordinates:    2.0 0.8 42.0 mm\n"
     ]
    },
    {
     "name": "stderr",
     "output_type": "stream",
     "text": [
      "/home/christian/code/acareeg/acareeg/lemon.py:58: RuntimeWarning: Limited 1 annotation(s) that were expanding outside the data range.\n",
      "  raw = mne.io.read_raw_eeglab(str(Path(root_path) / eeg_rel_path / f\"sub-{subject}_{event_id}.set\"), verbose=False)\n",
      "/home/christian/code/acareeg/acareeg/lemon.py:58: RuntimeWarning: The data contains 'boundary' events, indicating data discontinuities. Be cautious of filtering and epoching around these events.\n",
      "  raw = mne.io.read_raw_eeglab(str(Path(root_path) / eeg_rel_path / f\"sub-{subject}_{event_id}.set\"), verbose=False)\n",
      "<ipython-input-2-c47d3aa7e58e>:39: RuntimeWarning: Epochs are not baseline corrected, covariance matrix may be inaccurate\n",
      "  noise_cov = mne.compute_covariance(epochs, method=\"auto\", verbose=False).as_diag()\n",
      "<ipython-input-2-c47d3aa7e58e>:40: RuntimeWarning: No average EEG reference present in info[\"projs\"], covariance may be adversely affected. Consider recomputing covariance using with an average eeg reference projector added.\n",
      "  inverse_operator = mne.minimum_norm.make_inverse_operator(epochs.info, fwd, noise_cov, loose=loose, verbose=False)\n",
      "<ipython-input-2-c47d3aa7e58e>:40: RuntimeWarning: No average EEG reference present in info[\"projs\"], covariance may be adversely affected. Consider recomputing covariance using with an average eeg reference projector added.\n",
      "  inverse_operator = mne.minimum_norm.make_inverse_operator(epochs.info, fwd, noise_cov, loose=loose, verbose=False)\n"
     ]
    },
    {
     "name": "stdout",
     "output_type": "stream",
     "text": [
      "Not setting metadata\n",
      "Not setting metadata\n",
      "10 matching events found\n",
      "No baseline correction applied\n",
      "0 projection items activated\n",
      "Loading data for 10 events and 500 original time points ...\n",
      "0 bad epochs dropped\n",
      "Fitted sphere radius:         96.6 mm\n",
      "Origin head coordinates:      2.1 4.9 39.7 mm\n",
      "Origin device coordinates:    2.1 4.9 39.7 mm\n"
     ]
    },
    {
     "name": "stderr",
     "output_type": "stream",
     "text": [
      "/home/christian/code/acareeg/acareeg/lemon.py:58: RuntimeWarning: Limited 1 annotation(s) that were expanding outside the data range.\n",
      "  raw = mne.io.read_raw_eeglab(str(Path(root_path) / eeg_rel_path / f\"sub-{subject}_{event_id}.set\"), verbose=False)\n",
      "/home/christian/code/acareeg/acareeg/lemon.py:58: RuntimeWarning: The data contains 'boundary' events, indicating data discontinuities. Be cautious of filtering and epoching around these events.\n",
      "  raw = mne.io.read_raw_eeglab(str(Path(root_path) / eeg_rel_path / f\"sub-{subject}_{event_id}.set\"), verbose=False)\n",
      "<ipython-input-2-c47d3aa7e58e>:39: RuntimeWarning: Epochs are not baseline corrected, covariance matrix may be inaccurate\n",
      "  noise_cov = mne.compute_covariance(epochs, method=\"auto\", verbose=False).as_diag()\n",
      "<ipython-input-2-c47d3aa7e58e>:40: RuntimeWarning: No average EEG reference present in info[\"projs\"], covariance may be adversely affected. Consider recomputing covariance using with an average eeg reference projector added.\n",
      "  inverse_operator = mne.minimum_norm.make_inverse_operator(epochs.info, fwd, noise_cov, loose=loose, verbose=False)\n",
      "<ipython-input-2-c47d3aa7e58e>:40: RuntimeWarning: No average EEG reference present in info[\"projs\"], covariance may be adversely affected. Consider recomputing covariance using with an average eeg reference projector added.\n",
      "  inverse_operator = mne.minimum_norm.make_inverse_operator(epochs.info, fwd, noise_cov, loose=loose, verbose=False)\n"
     ]
    },
    {
     "name": "stdout",
     "output_type": "stream",
     "text": [
      "Not setting metadata\n",
      "Not setting metadata\n",
      "10 matching events found\n",
      "No baseline correction applied\n",
      "0 projection items activated\n",
      "Loading data for 10 events and 500 original time points ...\n",
      "0 bad epochs dropped\n",
      "Fitted sphere radius:         103.3 mm\n",
      "Origin head coordinates:      2.4 5.8 40.3 mm\n",
      "Origin device coordinates:    2.4 5.8 40.3 mm\n"
     ]
    },
    {
     "name": "stderr",
     "output_type": "stream",
     "text": [
      "/home/christian/code/acareeg/acareeg/lemon.py:58: RuntimeWarning: Limited 1 annotation(s) that were expanding outside the data range.\n",
      "  raw = mne.io.read_raw_eeglab(str(Path(root_path) / eeg_rel_path / f\"sub-{subject}_{event_id}.set\"), verbose=False)\n",
      "/home/christian/code/acareeg/acareeg/lemon.py:58: RuntimeWarning: The data contains 'boundary' events, indicating data discontinuities. Be cautious of filtering and epoching around these events.\n",
      "  raw = mne.io.read_raw_eeglab(str(Path(root_path) / eeg_rel_path / f\"sub-{subject}_{event_id}.set\"), verbose=False)\n",
      "<ipython-input-2-c47d3aa7e58e>:39: RuntimeWarning: Epochs are not baseline corrected, covariance matrix may be inaccurate\n",
      "  noise_cov = mne.compute_covariance(epochs, method=\"auto\", verbose=False).as_diag()\n",
      "<ipython-input-2-c47d3aa7e58e>:40: RuntimeWarning: No average EEG reference present in info[\"projs\"], covariance may be adversely affected. Consider recomputing covariance using with an average eeg reference projector added.\n",
      "  inverse_operator = mne.minimum_norm.make_inverse_operator(epochs.info, fwd, noise_cov, loose=loose, verbose=False)\n",
      "<ipython-input-2-c47d3aa7e58e>:40: RuntimeWarning: No average EEG reference present in info[\"projs\"], covariance may be adversely affected. Consider recomputing covariance using with an average eeg reference projector added.\n",
      "  inverse_operator = mne.minimum_norm.make_inverse_operator(epochs.info, fwd, noise_cov, loose=loose, verbose=False)\n"
     ]
    },
    {
     "name": "stdout",
     "output_type": "stream",
     "text": [
      "Not setting metadata\n",
      "Not setting metadata\n",
      "10 matching events found\n",
      "No baseline correction applied\n",
      "0 projection items activated\n",
      "Loading data for 10 events and 500 original time points ...\n",
      "0 bad epochs dropped\n",
      "Fitted sphere radius:         100.7 mm\n",
      "Origin head coordinates:      1.1 0.4 42.0 mm\n",
      "Origin device coordinates:    1.1 0.4 42.0 mm\n"
     ]
    },
    {
     "name": "stderr",
     "output_type": "stream",
     "text": [
      "/home/christian/code/acareeg/acareeg/lemon.py:58: RuntimeWarning: Limited 1 annotation(s) that were expanding outside the data range.\n",
      "  raw = mne.io.read_raw_eeglab(str(Path(root_path) / eeg_rel_path / f\"sub-{subject}_{event_id}.set\"), verbose=False)\n",
      "/home/christian/code/acareeg/acareeg/lemon.py:58: RuntimeWarning: The data contains 'boundary' events, indicating data discontinuities. Be cautious of filtering and epoching around these events.\n",
      "  raw = mne.io.read_raw_eeglab(str(Path(root_path) / eeg_rel_path / f\"sub-{subject}_{event_id}.set\"), verbose=False)\n",
      "<ipython-input-2-c47d3aa7e58e>:39: RuntimeWarning: Epochs are not baseline corrected, covariance matrix may be inaccurate\n",
      "  noise_cov = mne.compute_covariance(epochs, method=\"auto\", verbose=False).as_diag()\n",
      "<ipython-input-2-c47d3aa7e58e>:40: RuntimeWarning: No average EEG reference present in info[\"projs\"], covariance may be adversely affected. Consider recomputing covariance using with an average eeg reference projector added.\n",
      "  inverse_operator = mne.minimum_norm.make_inverse_operator(epochs.info, fwd, noise_cov, loose=loose, verbose=False)\n",
      "<ipython-input-2-c47d3aa7e58e>:40: RuntimeWarning: No average EEG reference present in info[\"projs\"], covariance may be adversely affected. Consider recomputing covariance using with an average eeg reference projector added.\n",
      "  inverse_operator = mne.minimum_norm.make_inverse_operator(epochs.info, fwd, noise_cov, loose=loose, verbose=False)\n"
     ]
    },
    {
     "name": "stdout",
     "output_type": "stream",
     "text": [
      "Not setting metadata\n",
      "Not setting metadata\n",
      "10 matching events found\n",
      "No baseline correction applied\n",
      "0 projection items activated\n",
      "Loading data for 10 events and 500 original time points ...\n",
      "0 bad epochs dropped\n",
      "Fitted sphere radius:         98.9 mm\n",
      "Origin head coordinates:      4.5 4.0 40.4 mm\n",
      "Origin device coordinates:    4.5 4.0 40.4 mm\n"
     ]
    },
    {
     "data": {
      "application/vnd.jupyter.widget-view+json": {
       "model_id": "c85e76aebedc4e7c86ad0e046c0c1533",
       "version_major": 2,
       "version_minor": 0
      },
      "text/plain": [
       "HBox(children=(FloatProgress(value=0.0, max=82.0), HTML(value='')))"
      ]
     },
     "metadata": {},
     "output_type": "display_data"
    },
    {
     "name": "stdout",
     "output_type": "stream",
     "text": [
      "\n"
     ]
    },
    {
     "data": {
      "application/vnd.jupyter.widget-view+json": {
       "model_id": "66fedb9ed8ad446f8f6df1b25f7b2fbe",
       "version_major": 2,
       "version_minor": 0
      },
      "text/plain": [
       "HBox(children=(FloatProgress(value=0.0, max=82.0), HTML(value='')))"
      ]
     },
     "metadata": {},
     "output_type": "display_data"
    },
    {
     "name": "stdout",
     "output_type": "stream",
     "text": [
      "\n"
     ]
    },
    {
     "data": {
      "application/vnd.jupyter.widget-view+json": {
       "model_id": "8b5db7ae53f64ccd9ebfc0e7c6bd2a02",
       "version_major": 2,
       "version_minor": 0
      },
      "text/plain": [
       "HBox(children=(FloatProgress(value=0.0, max=82.0), HTML(value='')))"
      ]
     },
     "metadata": {},
     "output_type": "display_data"
    },
    {
     "name": "stderr",
     "output_type": "stream",
     "text": [
      "/home/christian/code/acareeg/acareeg/lemon.py:58: RuntimeWarning: Limited 1 annotation(s) that were expanding outside the data range.\n",
      "  raw = mne.io.read_raw_eeglab(str(Path(root_path) / eeg_rel_path / f\"sub-{subject}_{event_id}.set\"), verbose=False)\n",
      "/home/christian/code/acareeg/acareeg/lemon.py:58: RuntimeWarning: The data contains 'boundary' events, indicating data discontinuities. Be cautious of filtering and epoching around these events.\n",
      "  raw = mne.io.read_raw_eeglab(str(Path(root_path) / eeg_rel_path / f\"sub-{subject}_{event_id}.set\"), verbose=False)\n",
      "<ipython-input-2-c47d3aa7e58e>:39: RuntimeWarning: Epochs are not baseline corrected, covariance matrix may be inaccurate\n",
      "  noise_cov = mne.compute_covariance(epochs, method=\"auto\", verbose=False).as_diag()\n",
      "<ipython-input-2-c47d3aa7e58e>:40: RuntimeWarning: No average EEG reference present in info[\"projs\"], covariance may be adversely affected. Consider recomputing covariance using with an average eeg reference projector added.\n",
      "  inverse_operator = mne.minimum_norm.make_inverse_operator(epochs.info, fwd, noise_cov, loose=loose, verbose=False)\n",
      "<ipython-input-2-c47d3aa7e58e>:40: RuntimeWarning: No average EEG reference present in info[\"projs\"], covariance may be adversely affected. Consider recomputing covariance using with an average eeg reference projector added.\n",
      "  inverse_operator = mne.minimum_norm.make_inverse_operator(epochs.info, fwd, noise_cov, loose=loose, verbose=False)\n"
     ]
    },
    {
     "name": "stdout",
     "output_type": "stream",
     "text": [
      "Not setting metadata\n",
      "Not setting metadata\n",
      "10 matching events found\n",
      "No baseline correction applied\n",
      "0 projection items activated\n",
      "Loading data for 10 events and 500 original time points ...\n",
      "0 bad epochs dropped\n",
      "Fitted sphere radius:         102.9 mm\n",
      "Origin head coordinates:      0.4 3.3 48.6 mm\n",
      "Origin device coordinates:    0.4 3.3 48.6 mm\n"
     ]
    },
    {
     "name": "stderr",
     "output_type": "stream",
     "text": [
      "/home/christian/code/acareeg/acareeg/lemon.py:58: RuntimeWarning: Limited 1 annotation(s) that were expanding outside the data range.\n",
      "  raw = mne.io.read_raw_eeglab(str(Path(root_path) / eeg_rel_path / f\"sub-{subject}_{event_id}.set\"), verbose=False)\n",
      "/home/christian/code/acareeg/acareeg/lemon.py:58: RuntimeWarning: The data contains 'boundary' events, indicating data discontinuities. Be cautious of filtering and epoching around these events.\n",
      "  raw = mne.io.read_raw_eeglab(str(Path(root_path) / eeg_rel_path / f\"sub-{subject}_{event_id}.set\"), verbose=False)\n",
      "<ipython-input-2-c47d3aa7e58e>:39: RuntimeWarning: Epochs are not baseline corrected, covariance matrix may be inaccurate\n",
      "  noise_cov = mne.compute_covariance(epochs, method=\"auto\", verbose=False).as_diag()\n",
      "<ipython-input-2-c47d3aa7e58e>:40: RuntimeWarning: No average EEG reference present in info[\"projs\"], covariance may be adversely affected. Consider recomputing covariance using with an average eeg reference projector added.\n",
      "  inverse_operator = mne.minimum_norm.make_inverse_operator(epochs.info, fwd, noise_cov, loose=loose, verbose=False)\n",
      "<ipython-input-2-c47d3aa7e58e>:40: RuntimeWarning: No average EEG reference present in info[\"projs\"], covariance may be adversely affected. Consider recomputing covariance using with an average eeg reference projector added.\n",
      "  inverse_operator = mne.minimum_norm.make_inverse_operator(epochs.info, fwd, noise_cov, loose=loose, verbose=False)\n"
     ]
    },
    {
     "name": "stdout",
     "output_type": "stream",
     "text": [
      "Not setting metadata\n",
      "Not setting metadata\n",
      "10 matching events found\n",
      "No baseline correction applied\n",
      "0 projection items activated\n",
      "Loading data for 10 events and 500 original time points ...\n",
      "0 bad epochs dropped\n",
      "Fitted sphere radius:         99.4 mm\n",
      "Origin head coordinates:      4.3 5.8 49.5 mm\n",
      "Origin device coordinates:    4.3 5.8 49.5 mm\n"
     ]
    },
    {
     "name": "stderr",
     "output_type": "stream",
     "text": [
      "/home/christian/code/acareeg/acareeg/lemon.py:58: RuntimeWarning: Limited 1 annotation(s) that were expanding outside the data range.\n",
      "  raw = mne.io.read_raw_eeglab(str(Path(root_path) / eeg_rel_path / f\"sub-{subject}_{event_id}.set\"), verbose=False)\n",
      "/home/christian/code/acareeg/acareeg/lemon.py:58: RuntimeWarning: The data contains 'boundary' events, indicating data discontinuities. Be cautious of filtering and epoching around these events.\n",
      "  raw = mne.io.read_raw_eeglab(str(Path(root_path) / eeg_rel_path / f\"sub-{subject}_{event_id}.set\"), verbose=False)\n",
      "<ipython-input-2-c47d3aa7e58e>:39: RuntimeWarning: Epochs are not baseline corrected, covariance matrix may be inaccurate\n",
      "  noise_cov = mne.compute_covariance(epochs, method=\"auto\", verbose=False).as_diag()\n",
      "<ipython-input-2-c47d3aa7e58e>:40: RuntimeWarning: No average EEG reference present in info[\"projs\"], covariance may be adversely affected. Consider recomputing covariance using with an average eeg reference projector added.\n",
      "  inverse_operator = mne.minimum_norm.make_inverse_operator(epochs.info, fwd, noise_cov, loose=loose, verbose=False)\n",
      "<ipython-input-2-c47d3aa7e58e>:40: RuntimeWarning: No average EEG reference present in info[\"projs\"], covariance may be adversely affected. Consider recomputing covariance using with an average eeg reference projector added.\n",
      "  inverse_operator = mne.minimum_norm.make_inverse_operator(epochs.info, fwd, noise_cov, loose=loose, verbose=False)\n"
     ]
    },
    {
     "name": "stdout",
     "output_type": "stream",
     "text": [
      "Not setting metadata\n",
      "Not setting metadata\n",
      "10 matching events found\n",
      "No baseline correction applied\n",
      "0 projection items activated\n",
      "Loading data for 10 events and 500 original time points ...\n",
      "0 bad epochs dropped\n",
      "Fitted sphere radius:         103.0 mm\n",
      "Origin head coordinates:      0.4 11.5 42.4 mm\n",
      "Origin device coordinates:    0.4 11.5 42.4 mm\n"
     ]
    },
    {
     "name": "stderr",
     "output_type": "stream",
     "text": [
      "/home/christian/code/acareeg/acareeg/lemon.py:58: RuntimeWarning: Limited 1 annotation(s) that were expanding outside the data range.\n",
      "  raw = mne.io.read_raw_eeglab(str(Path(root_path) / eeg_rel_path / f\"sub-{subject}_{event_id}.set\"), verbose=False)\n",
      "/home/christian/code/acareeg/acareeg/lemon.py:58: RuntimeWarning: The data contains 'boundary' events, indicating data discontinuities. Be cautious of filtering and epoching around these events.\n",
      "  raw = mne.io.read_raw_eeglab(str(Path(root_path) / eeg_rel_path / f\"sub-{subject}_{event_id}.set\"), verbose=False)\n",
      "<ipython-input-2-c47d3aa7e58e>:39: RuntimeWarning: Epochs are not baseline corrected, covariance matrix may be inaccurate\n",
      "  noise_cov = mne.compute_covariance(epochs, method=\"auto\", verbose=False).as_diag()\n",
      "<ipython-input-2-c47d3aa7e58e>:40: RuntimeWarning: No average EEG reference present in info[\"projs\"], covariance may be adversely affected. Consider recomputing covariance using with an average eeg reference projector added.\n",
      "  inverse_operator = mne.minimum_norm.make_inverse_operator(epochs.info, fwd, noise_cov, loose=loose, verbose=False)\n",
      "<ipython-input-2-c47d3aa7e58e>:40: RuntimeWarning: No average EEG reference present in info[\"projs\"], covariance may be adversely affected. Consider recomputing covariance using with an average eeg reference projector added.\n",
      "  inverse_operator = mne.minimum_norm.make_inverse_operator(epochs.info, fwd, noise_cov, loose=loose, verbose=False)\n"
     ]
    },
    {
     "name": "stdout",
     "output_type": "stream",
     "text": [
      "Not setting metadata\n",
      "Not setting metadata\n",
      "10 matching events found\n",
      "No baseline correction applied\n",
      "0 projection items activated\n",
      "Loading data for 10 events and 500 original time points ...\n",
      "0 bad epochs dropped\n",
      "Fitted sphere radius:         105.2 mm\n",
      "Origin head coordinates:      3.2 1.8 42.6 mm\n",
      "Origin device coordinates:    3.2 1.8 42.6 mm\n"
     ]
    },
    {
     "name": "stderr",
     "output_type": "stream",
     "text": [
      "/home/christian/code/acareeg/acareeg/lemon.py:58: RuntimeWarning: Limited 1 annotation(s) that were expanding outside the data range.\n",
      "  raw = mne.io.read_raw_eeglab(str(Path(root_path) / eeg_rel_path / f\"sub-{subject}_{event_id}.set\"), verbose=False)\n",
      "/home/christian/code/acareeg/acareeg/lemon.py:58: RuntimeWarning: The data contains 'boundary' events, indicating data discontinuities. Be cautious of filtering and epoching around these events.\n",
      "  raw = mne.io.read_raw_eeglab(str(Path(root_path) / eeg_rel_path / f\"sub-{subject}_{event_id}.set\"), verbose=False)\n",
      "<ipython-input-2-c47d3aa7e58e>:39: RuntimeWarning: Epochs are not baseline corrected, covariance matrix may be inaccurate\n",
      "  noise_cov = mne.compute_covariance(epochs, method=\"auto\", verbose=False).as_diag()\n",
      "<ipython-input-2-c47d3aa7e58e>:40: RuntimeWarning: No average EEG reference present in info[\"projs\"], covariance may be adversely affected. Consider recomputing covariance using with an average eeg reference projector added.\n",
      "  inverse_operator = mne.minimum_norm.make_inverse_operator(epochs.info, fwd, noise_cov, loose=loose, verbose=False)\n",
      "<ipython-input-2-c47d3aa7e58e>:40: RuntimeWarning: No average EEG reference present in info[\"projs\"], covariance may be adversely affected. Consider recomputing covariance using with an average eeg reference projector added.\n",
      "  inverse_operator = mne.minimum_norm.make_inverse_operator(epochs.info, fwd, noise_cov, loose=loose, verbose=False)\n"
     ]
    },
    {
     "name": "stdout",
     "output_type": "stream",
     "text": [
      "Not setting metadata\n",
      "Not setting metadata\n",
      "10 matching events found\n",
      "No baseline correction applied\n",
      "0 projection items activated\n",
      "Loading data for 10 events and 500 original time points ...\n",
      "0 bad epochs dropped\n",
      "Fitted sphere radius:         102.4 mm\n",
      "Origin head coordinates:      3.2 -1.4 41.5 mm\n",
      "Origin device coordinates:    3.2 -1.4 41.5 mm\n"
     ]
    },
    {
     "name": "stderr",
     "output_type": "stream",
     "text": [
      "/home/christian/code/acareeg/acareeg/lemon.py:58: RuntimeWarning: Limited 1 annotation(s) that were expanding outside the data range.\n",
      "  raw = mne.io.read_raw_eeglab(str(Path(root_path) / eeg_rel_path / f\"sub-{subject}_{event_id}.set\"), verbose=False)\n",
      "/home/christian/code/acareeg/acareeg/lemon.py:58: RuntimeWarning: The data contains 'boundary' events, indicating data discontinuities. Be cautious of filtering and epoching around these events.\n",
      "  raw = mne.io.read_raw_eeglab(str(Path(root_path) / eeg_rel_path / f\"sub-{subject}_{event_id}.set\"), verbose=False)\n",
      "<ipython-input-2-c47d3aa7e58e>:39: RuntimeWarning: Epochs are not baseline corrected, covariance matrix may be inaccurate\n",
      "  noise_cov = mne.compute_covariance(epochs, method=\"auto\", verbose=False).as_diag()\n",
      "<ipython-input-2-c47d3aa7e58e>:40: RuntimeWarning: No average EEG reference present in info[\"projs\"], covariance may be adversely affected. Consider recomputing covariance using with an average eeg reference projector added.\n",
      "  inverse_operator = mne.minimum_norm.make_inverse_operator(epochs.info, fwd, noise_cov, loose=loose, verbose=False)\n",
      "<ipython-input-2-c47d3aa7e58e>:40: RuntimeWarning: No average EEG reference present in info[\"projs\"], covariance may be adversely affected. Consider recomputing covariance using with an average eeg reference projector added.\n",
      "  inverse_operator = mne.minimum_norm.make_inverse_operator(epochs.info, fwd, noise_cov, loose=loose, verbose=False)\n"
     ]
    },
    {
     "name": "stdout",
     "output_type": "stream",
     "text": [
      "Not setting metadata\n",
      "Not setting metadata\n",
      "10 matching events found\n",
      "No baseline correction applied\n",
      "0 projection items activated\n",
      "Loading data for 10 events and 500 original time points ...\n",
      "0 bad epochs dropped\n",
      "Fitted sphere radius:         99.0 mm\n",
      "Origin head coordinates:      -2.0 3.8 53.9 mm\n",
      "Origin device coordinates:    -2.0 3.8 53.9 mm\n"
     ]
    },
    {
     "name": "stderr",
     "output_type": "stream",
     "text": [
      "/home/christian/code/acareeg/acareeg/lemon.py:58: RuntimeWarning: Limited 1 annotation(s) that were expanding outside the data range.\n",
      "  raw = mne.io.read_raw_eeglab(str(Path(root_path) / eeg_rel_path / f\"sub-{subject}_{event_id}.set\"), verbose=False)\n",
      "/home/christian/code/acareeg/acareeg/lemon.py:58: RuntimeWarning: The data contains 'boundary' events, indicating data discontinuities. Be cautious of filtering and epoching around these events.\n",
      "  raw = mne.io.read_raw_eeglab(str(Path(root_path) / eeg_rel_path / f\"sub-{subject}_{event_id}.set\"), verbose=False)\n",
      "<ipython-input-2-c47d3aa7e58e>:39: RuntimeWarning: Epochs are not baseline corrected, covariance matrix may be inaccurate\n",
      "  noise_cov = mne.compute_covariance(epochs, method=\"auto\", verbose=False).as_diag()\n",
      "<ipython-input-2-c47d3aa7e58e>:40: RuntimeWarning: No average EEG reference present in info[\"projs\"], covariance may be adversely affected. Consider recomputing covariance using with an average eeg reference projector added.\n",
      "  inverse_operator = mne.minimum_norm.make_inverse_operator(epochs.info, fwd, noise_cov, loose=loose, verbose=False)\n",
      "<ipython-input-2-c47d3aa7e58e>:40: RuntimeWarning: No average EEG reference present in info[\"projs\"], covariance may be adversely affected. Consider recomputing covariance using with an average eeg reference projector added.\n",
      "  inverse_operator = mne.minimum_norm.make_inverse_operator(epochs.info, fwd, noise_cov, loose=loose, verbose=False)\n"
     ]
    },
    {
     "name": "stdout",
     "output_type": "stream",
     "text": [
      "Not setting metadata\n",
      "Not setting metadata\n",
      "10 matching events found\n",
      "No baseline correction applied\n",
      "0 projection items activated\n",
      "Loading data for 10 events and 500 original time points ...\n",
      "0 bad epochs dropped\n",
      "Fitted sphere radius:         99.4 mm\n",
      "Origin head coordinates:      6.5 -2.2 47.2 mm\n",
      "Origin device coordinates:    6.5 -2.2 47.2 mm\n"
     ]
    },
    {
     "name": "stderr",
     "output_type": "stream",
     "text": [
      "/home/christian/code/acareeg/acareeg/lemon.py:58: RuntimeWarning: Limited 1 annotation(s) that were expanding outside the data range.\n",
      "  raw = mne.io.read_raw_eeglab(str(Path(root_path) / eeg_rel_path / f\"sub-{subject}_{event_id}.set\"), verbose=False)\n",
      "/home/christian/code/acareeg/acareeg/lemon.py:58: RuntimeWarning: The data contains 'boundary' events, indicating data discontinuities. Be cautious of filtering and epoching around these events.\n",
      "  raw = mne.io.read_raw_eeglab(str(Path(root_path) / eeg_rel_path / f\"sub-{subject}_{event_id}.set\"), verbose=False)\n",
      "<ipython-input-2-c47d3aa7e58e>:39: RuntimeWarning: Epochs are not baseline corrected, covariance matrix may be inaccurate\n",
      "  noise_cov = mne.compute_covariance(epochs, method=\"auto\", verbose=False).as_diag()\n",
      "<ipython-input-2-c47d3aa7e58e>:40: RuntimeWarning: No average EEG reference present in info[\"projs\"], covariance may be adversely affected. Consider recomputing covariance using with an average eeg reference projector added.\n",
      "  inverse_operator = mne.minimum_norm.make_inverse_operator(epochs.info, fwd, noise_cov, loose=loose, verbose=False)\n",
      "<ipython-input-2-c47d3aa7e58e>:40: RuntimeWarning: No average EEG reference present in info[\"projs\"], covariance may be adversely affected. Consider recomputing covariance using with an average eeg reference projector added.\n",
      "  inverse_operator = mne.minimum_norm.make_inverse_operator(epochs.info, fwd, noise_cov, loose=loose, verbose=False)\n"
     ]
    },
    {
     "name": "stdout",
     "output_type": "stream",
     "text": [
      "Not setting metadata\n",
      "Not setting metadata\n",
      "10 matching events found\n",
      "No baseline correction applied\n",
      "0 projection items activated\n",
      "Loading data for 10 events and 500 original time points ...\n",
      "0 bad epochs dropped\n",
      "Fitted sphere radius:         104.0 mm\n",
      "Origin head coordinates:      3.3 11.0 42.8 mm\n",
      "Origin device coordinates:    3.3 11.0 42.8 mm\n"
     ]
    },
    {
     "name": "stderr",
     "output_type": "stream",
     "text": [
      "/home/christian/code/acareeg/acareeg/lemon.py:58: RuntimeWarning: Limited 1 annotation(s) that were expanding outside the data range.\n",
      "  raw = mne.io.read_raw_eeglab(str(Path(root_path) / eeg_rel_path / f\"sub-{subject}_{event_id}.set\"), verbose=False)\n",
      "/home/christian/code/acareeg/acareeg/lemon.py:58: RuntimeWarning: The data contains 'boundary' events, indicating data discontinuities. Be cautious of filtering and epoching around these events.\n",
      "  raw = mne.io.read_raw_eeglab(str(Path(root_path) / eeg_rel_path / f\"sub-{subject}_{event_id}.set\"), verbose=False)\n",
      "<ipython-input-2-c47d3aa7e58e>:39: RuntimeWarning: Epochs are not baseline corrected, covariance matrix may be inaccurate\n",
      "  noise_cov = mne.compute_covariance(epochs, method=\"auto\", verbose=False).as_diag()\n",
      "<ipython-input-2-c47d3aa7e58e>:40: RuntimeWarning: No average EEG reference present in info[\"projs\"], covariance may be adversely affected. Consider recomputing covariance using with an average eeg reference projector added.\n",
      "  inverse_operator = mne.minimum_norm.make_inverse_operator(epochs.info, fwd, noise_cov, loose=loose, verbose=False)\n",
      "<ipython-input-2-c47d3aa7e58e>:40: RuntimeWarning: No average EEG reference present in info[\"projs\"], covariance may be adversely affected. Consider recomputing covariance using with an average eeg reference projector added.\n",
      "  inverse_operator = mne.minimum_norm.make_inverse_operator(epochs.info, fwd, noise_cov, loose=loose, verbose=False)\n"
     ]
    },
    {
     "name": "stdout",
     "output_type": "stream",
     "text": [
      "Not setting metadata\n",
      "Not setting metadata\n",
      "10 matching events found\n",
      "No baseline correction applied\n",
      "0 projection items activated\n",
      "Loading data for 10 events and 500 original time points ...\n",
      "0 bad epochs dropped\n",
      "Fitted sphere radius:         102.9 mm\n",
      "Origin head coordinates:      3.9 0.1 39.6 mm\n",
      "Origin device coordinates:    3.9 0.1 39.6 mm\n"
     ]
    },
    {
     "name": "stderr",
     "output_type": "stream",
     "text": [
      "/home/christian/code/acareeg/acareeg/lemon.py:58: RuntimeWarning: Limited 1 annotation(s) that were expanding outside the data range.\n",
      "  raw = mne.io.read_raw_eeglab(str(Path(root_path) / eeg_rel_path / f\"sub-{subject}_{event_id}.set\"), verbose=False)\n",
      "/home/christian/code/acareeg/acareeg/lemon.py:58: RuntimeWarning: The data contains 'boundary' events, indicating data discontinuities. Be cautious of filtering and epoching around these events.\n",
      "  raw = mne.io.read_raw_eeglab(str(Path(root_path) / eeg_rel_path / f\"sub-{subject}_{event_id}.set\"), verbose=False)\n",
      "<ipython-input-2-c47d3aa7e58e>:39: RuntimeWarning: Epochs are not baseline corrected, covariance matrix may be inaccurate\n",
      "  noise_cov = mne.compute_covariance(epochs, method=\"auto\", verbose=False).as_diag()\n",
      "<ipython-input-2-c47d3aa7e58e>:40: RuntimeWarning: No average EEG reference present in info[\"projs\"], covariance may be adversely affected. Consider recomputing covariance using with an average eeg reference projector added.\n",
      "  inverse_operator = mne.minimum_norm.make_inverse_operator(epochs.info, fwd, noise_cov, loose=loose, verbose=False)\n",
      "<ipython-input-2-c47d3aa7e58e>:40: RuntimeWarning: No average EEG reference present in info[\"projs\"], covariance may be adversely affected. Consider recomputing covariance using with an average eeg reference projector added.\n",
      "  inverse_operator = mne.minimum_norm.make_inverse_operator(epochs.info, fwd, noise_cov, loose=loose, verbose=False)\n"
     ]
    },
    {
     "name": "stdout",
     "output_type": "stream",
     "text": [
      "Not setting metadata\n",
      "Not setting metadata\n",
      "10 matching events found\n",
      "No baseline correction applied\n",
      "0 projection items activated\n",
      "Loading data for 10 events and 500 original time points ...\n",
      "0 bad epochs dropped\n",
      "Fitted sphere radius:         100.5 mm\n",
      "Origin head coordinates:      2.3 1.5 43.3 mm\n",
      "Origin device coordinates:    2.3 1.5 43.3 mm\n"
     ]
    },
    {
     "name": "stderr",
     "output_type": "stream",
     "text": [
      "/home/christian/code/acareeg/acareeg/lemon.py:58: RuntimeWarning: Limited 1 annotation(s) that were expanding outside the data range.\n",
      "  raw = mne.io.read_raw_eeglab(str(Path(root_path) / eeg_rel_path / f\"sub-{subject}_{event_id}.set\"), verbose=False)\n",
      "/home/christian/code/acareeg/acareeg/lemon.py:58: RuntimeWarning: The data contains 'boundary' events, indicating data discontinuities. Be cautious of filtering and epoching around these events.\n",
      "  raw = mne.io.read_raw_eeglab(str(Path(root_path) / eeg_rel_path / f\"sub-{subject}_{event_id}.set\"), verbose=False)\n",
      "<ipython-input-2-c47d3aa7e58e>:39: RuntimeWarning: Epochs are not baseline corrected, covariance matrix may be inaccurate\n",
      "  noise_cov = mne.compute_covariance(epochs, method=\"auto\", verbose=False).as_diag()\n",
      "<ipython-input-2-c47d3aa7e58e>:40: RuntimeWarning: No average EEG reference present in info[\"projs\"], covariance may be adversely affected. Consider recomputing covariance using with an average eeg reference projector added.\n",
      "  inverse_operator = mne.minimum_norm.make_inverse_operator(epochs.info, fwd, noise_cov, loose=loose, verbose=False)\n",
      "<ipython-input-2-c47d3aa7e58e>:40: RuntimeWarning: No average EEG reference present in info[\"projs\"], covariance may be adversely affected. Consider recomputing covariance using with an average eeg reference projector added.\n",
      "  inverse_operator = mne.minimum_norm.make_inverse_operator(epochs.info, fwd, noise_cov, loose=loose, verbose=False)\n"
     ]
    },
    {
     "name": "stdout",
     "output_type": "stream",
     "text": [
      "Not setting metadata\n",
      "Not setting metadata\n",
      "10 matching events found\n",
      "No baseline correction applied\n",
      "0 projection items activated\n",
      "Loading data for 10 events and 500 original time points ...\n",
      "0 bad epochs dropped\n",
      "Fitted sphere radius:         97.8 mm\n",
      "Origin head coordinates:      1.6 1.4 44.7 mm\n",
      "Origin device coordinates:    1.6 1.4 44.7 mm\n"
     ]
    },
    {
     "name": "stderr",
     "output_type": "stream",
     "text": [
      "/home/christian/code/acareeg/acareeg/lemon.py:58: RuntimeWarning: Limited 1 annotation(s) that were expanding outside the data range.\n",
      "  raw = mne.io.read_raw_eeglab(str(Path(root_path) / eeg_rel_path / f\"sub-{subject}_{event_id}.set\"), verbose=False)\n",
      "/home/christian/code/acareeg/acareeg/lemon.py:58: RuntimeWarning: The data contains 'boundary' events, indicating data discontinuities. Be cautious of filtering and epoching around these events.\n",
      "  raw = mne.io.read_raw_eeglab(str(Path(root_path) / eeg_rel_path / f\"sub-{subject}_{event_id}.set\"), verbose=False)\n",
      "<ipython-input-2-c47d3aa7e58e>:39: RuntimeWarning: Epochs are not baseline corrected, covariance matrix may be inaccurate\n",
      "  noise_cov = mne.compute_covariance(epochs, method=\"auto\", verbose=False).as_diag()\n",
      "<ipython-input-2-c47d3aa7e58e>:40: RuntimeWarning: No average EEG reference present in info[\"projs\"], covariance may be adversely affected. Consider recomputing covariance using with an average eeg reference projector added.\n",
      "  inverse_operator = mne.minimum_norm.make_inverse_operator(epochs.info, fwd, noise_cov, loose=loose, verbose=False)\n",
      "<ipython-input-2-c47d3aa7e58e>:40: RuntimeWarning: No average EEG reference present in info[\"projs\"], covariance may be adversely affected. Consider recomputing covariance using with an average eeg reference projector added.\n",
      "  inverse_operator = mne.minimum_norm.make_inverse_operator(epochs.info, fwd, noise_cov, loose=loose, verbose=False)\n"
     ]
    },
    {
     "name": "stdout",
     "output_type": "stream",
     "text": [
      "Not setting metadata\n",
      "Not setting metadata\n",
      "10 matching events found\n",
      "No baseline correction applied\n",
      "0 projection items activated\n",
      "Loading data for 10 events and 500 original time points ...\n",
      "0 bad epochs dropped\n",
      "Fitted sphere radius:         98.5 mm\n",
      "Origin head coordinates:      3.3 9.2 45.1 mm\n",
      "Origin device coordinates:    3.3 9.2 45.1 mm\n"
     ]
    },
    {
     "name": "stderr",
     "output_type": "stream",
     "text": [
      "/home/christian/code/acareeg/acareeg/lemon.py:58: RuntimeWarning: Limited 1 annotation(s) that were expanding outside the data range.\n",
      "  raw = mne.io.read_raw_eeglab(str(Path(root_path) / eeg_rel_path / f\"sub-{subject}_{event_id}.set\"), verbose=False)\n",
      "/home/christian/code/acareeg/acareeg/lemon.py:58: RuntimeWarning: The data contains 'boundary' events, indicating data discontinuities. Be cautious of filtering and epoching around these events.\n",
      "  raw = mne.io.read_raw_eeglab(str(Path(root_path) / eeg_rel_path / f\"sub-{subject}_{event_id}.set\"), verbose=False)\n",
      "<ipython-input-2-c47d3aa7e58e>:39: RuntimeWarning: Epochs are not baseline corrected, covariance matrix may be inaccurate\n",
      "  noise_cov = mne.compute_covariance(epochs, method=\"auto\", verbose=False).as_diag()\n",
      "<ipython-input-2-c47d3aa7e58e>:40: RuntimeWarning: No average EEG reference present in info[\"projs\"], covariance may be adversely affected. Consider recomputing covariance using with an average eeg reference projector added.\n",
      "  inverse_operator = mne.minimum_norm.make_inverse_operator(epochs.info, fwd, noise_cov, loose=loose, verbose=False)\n",
      "<ipython-input-2-c47d3aa7e58e>:40: RuntimeWarning: No average EEG reference present in info[\"projs\"], covariance may be adversely affected. Consider recomputing covariance using with an average eeg reference projector added.\n",
      "  inverse_operator = mne.minimum_norm.make_inverse_operator(epochs.info, fwd, noise_cov, loose=loose, verbose=False)\n"
     ]
    },
    {
     "name": "stdout",
     "output_type": "stream",
     "text": [
      "Not setting metadata\n",
      "Not setting metadata\n",
      "10 matching events found\n",
      "No baseline correction applied\n",
      "0 projection items activated\n",
      "Loading data for 10 events and 500 original time points ...\n",
      "0 bad epochs dropped\n",
      "Fitted sphere radius:         100.1 mm\n",
      "Origin head coordinates:      2.3 -1.6 39.0 mm\n",
      "Origin device coordinates:    2.3 -1.6 39.0 mm\n"
     ]
    },
    {
     "name": "stderr",
     "output_type": "stream",
     "text": [
      "/home/christian/code/acareeg/acareeg/lemon.py:58: RuntimeWarning: Limited 1 annotation(s) that were expanding outside the data range.\n",
      "  raw = mne.io.read_raw_eeglab(str(Path(root_path) / eeg_rel_path / f\"sub-{subject}_{event_id}.set\"), verbose=False)\n",
      "/home/christian/code/acareeg/acareeg/lemon.py:58: RuntimeWarning: The data contains 'boundary' events, indicating data discontinuities. Be cautious of filtering and epoching around these events.\n",
      "  raw = mne.io.read_raw_eeglab(str(Path(root_path) / eeg_rel_path / f\"sub-{subject}_{event_id}.set\"), verbose=False)\n",
      "<ipython-input-2-c47d3aa7e58e>:39: RuntimeWarning: Epochs are not baseline corrected, covariance matrix may be inaccurate\n",
      "  noise_cov = mne.compute_covariance(epochs, method=\"auto\", verbose=False).as_diag()\n",
      "<ipython-input-2-c47d3aa7e58e>:40: RuntimeWarning: No average EEG reference present in info[\"projs\"], covariance may be adversely affected. Consider recomputing covariance using with an average eeg reference projector added.\n",
      "  inverse_operator = mne.minimum_norm.make_inverse_operator(epochs.info, fwd, noise_cov, loose=loose, verbose=False)\n",
      "<ipython-input-2-c47d3aa7e58e>:40: RuntimeWarning: No average EEG reference present in info[\"projs\"], covariance may be adversely affected. Consider recomputing covariance using with an average eeg reference projector added.\n",
      "  inverse_operator = mne.minimum_norm.make_inverse_operator(epochs.info, fwd, noise_cov, loose=loose, verbose=False)\n"
     ]
    },
    {
     "name": "stdout",
     "output_type": "stream",
     "text": [
      "Not setting metadata\n",
      "Not setting metadata\n",
      "10 matching events found\n",
      "No baseline correction applied\n",
      "0 projection items activated\n",
      "Loading data for 10 events and 500 original time points ...\n",
      "0 bad epochs dropped\n",
      "Fitted sphere radius:         101.2 mm\n",
      "Origin head coordinates:      2.7 6.7 45.7 mm\n",
      "Origin device coordinates:    2.7 6.7 45.7 mm\n"
     ]
    },
    {
     "name": "stderr",
     "output_type": "stream",
     "text": [
      "/home/christian/code/acareeg/acareeg/lemon.py:58: RuntimeWarning: Limited 1 annotation(s) that were expanding outside the data range.\n",
      "  raw = mne.io.read_raw_eeglab(str(Path(root_path) / eeg_rel_path / f\"sub-{subject}_{event_id}.set\"), verbose=False)\n",
      "/home/christian/code/acareeg/acareeg/lemon.py:58: RuntimeWarning: The data contains 'boundary' events, indicating data discontinuities. Be cautious of filtering and epoching around these events.\n",
      "  raw = mne.io.read_raw_eeglab(str(Path(root_path) / eeg_rel_path / f\"sub-{subject}_{event_id}.set\"), verbose=False)\n",
      "<ipython-input-2-c47d3aa7e58e>:39: RuntimeWarning: Epochs are not baseline corrected, covariance matrix may be inaccurate\n",
      "  noise_cov = mne.compute_covariance(epochs, method=\"auto\", verbose=False).as_diag()\n",
      "<ipython-input-2-c47d3aa7e58e>:40: RuntimeWarning: No average EEG reference present in info[\"projs\"], covariance may be adversely affected. Consider recomputing covariance using with an average eeg reference projector added.\n",
      "  inverse_operator = mne.minimum_norm.make_inverse_operator(epochs.info, fwd, noise_cov, loose=loose, verbose=False)\n",
      "<ipython-input-2-c47d3aa7e58e>:40: RuntimeWarning: No average EEG reference present in info[\"projs\"], covariance may be adversely affected. Consider recomputing covariance using with an average eeg reference projector added.\n",
      "  inverse_operator = mne.minimum_norm.make_inverse_operator(epochs.info, fwd, noise_cov, loose=loose, verbose=False)\n"
     ]
    },
    {
     "name": "stdout",
     "output_type": "stream",
     "text": [
      "Not setting metadata\n",
      "Not setting metadata\n",
      "10 matching events found\n",
      "No baseline correction applied\n",
      "0 projection items activated\n",
      "Loading data for 10 events and 500 original time points ...\n",
      "0 bad epochs dropped\n",
      "Fitted sphere radius:         99.5 mm\n",
      "Origin head coordinates:      0.5 4.1 42.2 mm\n",
      "Origin device coordinates:    0.5 4.1 42.2 mm\n"
     ]
    },
    {
     "name": "stderr",
     "output_type": "stream",
     "text": [
      "/home/christian/code/acareeg/acareeg/lemon.py:58: RuntimeWarning: Limited 1 annotation(s) that were expanding outside the data range.\n",
      "  raw = mne.io.read_raw_eeglab(str(Path(root_path) / eeg_rel_path / f\"sub-{subject}_{event_id}.set\"), verbose=False)\n",
      "/home/christian/code/acareeg/acareeg/lemon.py:58: RuntimeWarning: The data contains 'boundary' events, indicating data discontinuities. Be cautious of filtering and epoching around these events.\n",
      "  raw = mne.io.read_raw_eeglab(str(Path(root_path) / eeg_rel_path / f\"sub-{subject}_{event_id}.set\"), verbose=False)\n",
      "<ipython-input-2-c47d3aa7e58e>:39: RuntimeWarning: Epochs are not baseline corrected, covariance matrix may be inaccurate\n",
      "  noise_cov = mne.compute_covariance(epochs, method=\"auto\", verbose=False).as_diag()\n",
      "<ipython-input-2-c47d3aa7e58e>:40: RuntimeWarning: No average EEG reference present in info[\"projs\"], covariance may be adversely affected. Consider recomputing covariance using with an average eeg reference projector added.\n",
      "  inverse_operator = mne.minimum_norm.make_inverse_operator(epochs.info, fwd, noise_cov, loose=loose, verbose=False)\n",
      "<ipython-input-2-c47d3aa7e58e>:40: RuntimeWarning: No average EEG reference present in info[\"projs\"], covariance may be adversely affected. Consider recomputing covariance using with an average eeg reference projector added.\n",
      "  inverse_operator = mne.minimum_norm.make_inverse_operator(epochs.info, fwd, noise_cov, loose=loose, verbose=False)\n"
     ]
    },
    {
     "name": "stdout",
     "output_type": "stream",
     "text": [
      "Not setting metadata\n",
      "Not setting metadata\n",
      "10 matching events found\n",
      "No baseline correction applied\n",
      "0 projection items activated\n",
      "Loading data for 10 events and 500 original time points ...\n",
      "0 bad epochs dropped\n",
      "Fitted sphere radius:         99.5 mm\n",
      "Origin head coordinates:      1.6 -3.6 41.7 mm\n",
      "Origin device coordinates:    1.6 -3.6 41.7 mm\n"
     ]
    },
    {
     "name": "stderr",
     "output_type": "stream",
     "text": [
      "/home/christian/code/acareeg/acareeg/lemon.py:58: RuntimeWarning: Limited 1 annotation(s) that were expanding outside the data range.\n",
      "  raw = mne.io.read_raw_eeglab(str(Path(root_path) / eeg_rel_path / f\"sub-{subject}_{event_id}.set\"), verbose=False)\n",
      "/home/christian/code/acareeg/acareeg/lemon.py:58: RuntimeWarning: The data contains 'boundary' events, indicating data discontinuities. Be cautious of filtering and epoching around these events.\n",
      "  raw = mne.io.read_raw_eeglab(str(Path(root_path) / eeg_rel_path / f\"sub-{subject}_{event_id}.set\"), verbose=False)\n",
      "<ipython-input-2-c47d3aa7e58e>:39: RuntimeWarning: Epochs are not baseline corrected, covariance matrix may be inaccurate\n",
      "  noise_cov = mne.compute_covariance(epochs, method=\"auto\", verbose=False).as_diag()\n",
      "<ipython-input-2-c47d3aa7e58e>:40: RuntimeWarning: No average EEG reference present in info[\"projs\"], covariance may be adversely affected. Consider recomputing covariance using with an average eeg reference projector added.\n",
      "  inverse_operator = mne.minimum_norm.make_inverse_operator(epochs.info, fwd, noise_cov, loose=loose, verbose=False)\n",
      "<ipython-input-2-c47d3aa7e58e>:40: RuntimeWarning: No average EEG reference present in info[\"projs\"], covariance may be adversely affected. Consider recomputing covariance using with an average eeg reference projector added.\n",
      "  inverse_operator = mne.minimum_norm.make_inverse_operator(epochs.info, fwd, noise_cov, loose=loose, verbose=False)\n"
     ]
    },
    {
     "name": "stdout",
     "output_type": "stream",
     "text": [
      "Not setting metadata\n",
      "Not setting metadata\n",
      "10 matching events found\n",
      "No baseline correction applied\n",
      "0 projection items activated\n",
      "Loading data for 10 events and 500 original time points ...\n",
      "0 bad epochs dropped\n",
      "Fitted sphere radius:         98.5 mm\n",
      "Origin head coordinates:      3.5 -2.5 45.9 mm\n",
      "Origin device coordinates:    3.5 -2.5 45.9 mm\n"
     ]
    },
    {
     "name": "stderr",
     "output_type": "stream",
     "text": [
      "/home/christian/code/acareeg/acareeg/lemon.py:58: RuntimeWarning: Limited 1 annotation(s) that were expanding outside the data range.\n",
      "  raw = mne.io.read_raw_eeglab(str(Path(root_path) / eeg_rel_path / f\"sub-{subject}_{event_id}.set\"), verbose=False)\n",
      "/home/christian/code/acareeg/acareeg/lemon.py:58: RuntimeWarning: The data contains 'boundary' events, indicating data discontinuities. Be cautious of filtering and epoching around these events.\n",
      "  raw = mne.io.read_raw_eeglab(str(Path(root_path) / eeg_rel_path / f\"sub-{subject}_{event_id}.set\"), verbose=False)\n",
      "<ipython-input-2-c47d3aa7e58e>:39: RuntimeWarning: Epochs are not baseline corrected, covariance matrix may be inaccurate\n",
      "  noise_cov = mne.compute_covariance(epochs, method=\"auto\", verbose=False).as_diag()\n",
      "<ipython-input-2-c47d3aa7e58e>:40: RuntimeWarning: No average EEG reference present in info[\"projs\"], covariance may be adversely affected. Consider recomputing covariance using with an average eeg reference projector added.\n",
      "  inverse_operator = mne.minimum_norm.make_inverse_operator(epochs.info, fwd, noise_cov, loose=loose, verbose=False)\n",
      "<ipython-input-2-c47d3aa7e58e>:40: RuntimeWarning: No average EEG reference present in info[\"projs\"], covariance may be adversely affected. Consider recomputing covariance using with an average eeg reference projector added.\n",
      "  inverse_operator = mne.minimum_norm.make_inverse_operator(epochs.info, fwd, noise_cov, loose=loose, verbose=False)\n"
     ]
    },
    {
     "name": "stdout",
     "output_type": "stream",
     "text": [
      "Not setting metadata\n",
      "Not setting metadata\n",
      "10 matching events found\n",
      "No baseline correction applied\n",
      "0 projection items activated\n",
      "Loading data for 10 events and 500 original time points ...\n",
      "0 bad epochs dropped\n",
      "Fitted sphere radius:         100.6 mm\n",
      "Origin head coordinates:      1.4 -2.2 40.7 mm\n",
      "Origin device coordinates:    1.4 -2.2 40.7 mm\n"
     ]
    },
    {
     "name": "stderr",
     "output_type": "stream",
     "text": [
      "/home/christian/code/acareeg/acareeg/lemon.py:58: RuntimeWarning: Limited 1 annotation(s) that were expanding outside the data range.\n",
      "  raw = mne.io.read_raw_eeglab(str(Path(root_path) / eeg_rel_path / f\"sub-{subject}_{event_id}.set\"), verbose=False)\n",
      "/home/christian/code/acareeg/acareeg/lemon.py:58: RuntimeWarning: The data contains 'boundary' events, indicating data discontinuities. Be cautious of filtering and epoching around these events.\n",
      "  raw = mne.io.read_raw_eeglab(str(Path(root_path) / eeg_rel_path / f\"sub-{subject}_{event_id}.set\"), verbose=False)\n",
      "<ipython-input-2-c47d3aa7e58e>:39: RuntimeWarning: Epochs are not baseline corrected, covariance matrix may be inaccurate\n",
      "  noise_cov = mne.compute_covariance(epochs, method=\"auto\", verbose=False).as_diag()\n",
      "<ipython-input-2-c47d3aa7e58e>:40: RuntimeWarning: No average EEG reference present in info[\"projs\"], covariance may be adversely affected. Consider recomputing covariance using with an average eeg reference projector added.\n",
      "  inverse_operator = mne.minimum_norm.make_inverse_operator(epochs.info, fwd, noise_cov, loose=loose, verbose=False)\n",
      "<ipython-input-2-c47d3aa7e58e>:40: RuntimeWarning: No average EEG reference present in info[\"projs\"], covariance may be adversely affected. Consider recomputing covariance using with an average eeg reference projector added.\n",
      "  inverse_operator = mne.minimum_norm.make_inverse_operator(epochs.info, fwd, noise_cov, loose=loose, verbose=False)\n"
     ]
    },
    {
     "name": "stdout",
     "output_type": "stream",
     "text": [
      "Not setting metadata\n",
      "Not setting metadata\n",
      "10 matching events found\n",
      "No baseline correction applied\n",
      "0 projection items activated\n",
      "Loading data for 10 events and 500 original time points ...\n",
      "0 bad epochs dropped\n",
      "Fitted sphere radius:         103.5 mm\n",
      "Origin head coordinates:      4.0 4.2 43.1 mm\n",
      "Origin device coordinates:    4.0 4.2 43.1 mm\n"
     ]
    },
    {
     "name": "stderr",
     "output_type": "stream",
     "text": [
      "/home/christian/code/acareeg/acareeg/lemon.py:58: RuntimeWarning: Limited 1 annotation(s) that were expanding outside the data range.\n",
      "  raw = mne.io.read_raw_eeglab(str(Path(root_path) / eeg_rel_path / f\"sub-{subject}_{event_id}.set\"), verbose=False)\n",
      "/home/christian/code/acareeg/acareeg/lemon.py:58: RuntimeWarning: The data contains 'boundary' events, indicating data discontinuities. Be cautious of filtering and epoching around these events.\n",
      "  raw = mne.io.read_raw_eeglab(str(Path(root_path) / eeg_rel_path / f\"sub-{subject}_{event_id}.set\"), verbose=False)\n",
      "<ipython-input-2-c47d3aa7e58e>:39: RuntimeWarning: Epochs are not baseline corrected, covariance matrix may be inaccurate\n",
      "  noise_cov = mne.compute_covariance(epochs, method=\"auto\", verbose=False).as_diag()\n",
      "<ipython-input-2-c47d3aa7e58e>:40: RuntimeWarning: No average EEG reference present in info[\"projs\"], covariance may be adversely affected. Consider recomputing covariance using with an average eeg reference projector added.\n",
      "  inverse_operator = mne.minimum_norm.make_inverse_operator(epochs.info, fwd, noise_cov, loose=loose, verbose=False)\n",
      "<ipython-input-2-c47d3aa7e58e>:40: RuntimeWarning: No average EEG reference present in info[\"projs\"], covariance may be adversely affected. Consider recomputing covariance using with an average eeg reference projector added.\n",
      "  inverse_operator = mne.minimum_norm.make_inverse_operator(epochs.info, fwd, noise_cov, loose=loose, verbose=False)\n"
     ]
    },
    {
     "name": "stdout",
     "output_type": "stream",
     "text": [
      "Not setting metadata\n",
      "Not setting metadata\n",
      "10 matching events found\n",
      "No baseline correction applied\n",
      "0 projection items activated\n",
      "Loading data for 10 events and 500 original time points ...\n",
      "0 bad epochs dropped\n",
      "Fitted sphere radius:         101.0 mm\n",
      "Origin head coordinates:      7.0 7.5 34.2 mm\n",
      "Origin device coordinates:    7.0 7.5 34.2 mm\n"
     ]
    },
    {
     "name": "stderr",
     "output_type": "stream",
     "text": [
      "/home/christian/code/acareeg/acareeg/lemon.py:58: RuntimeWarning: Limited 1 annotation(s) that were expanding outside the data range.\n",
      "  raw = mne.io.read_raw_eeglab(str(Path(root_path) / eeg_rel_path / f\"sub-{subject}_{event_id}.set\"), verbose=False)\n",
      "/home/christian/code/acareeg/acareeg/lemon.py:58: RuntimeWarning: The data contains 'boundary' events, indicating data discontinuities. Be cautious of filtering and epoching around these events.\n",
      "  raw = mne.io.read_raw_eeglab(str(Path(root_path) / eeg_rel_path / f\"sub-{subject}_{event_id}.set\"), verbose=False)\n",
      "<ipython-input-2-c47d3aa7e58e>:39: RuntimeWarning: Epochs are not baseline corrected, covariance matrix may be inaccurate\n",
      "  noise_cov = mne.compute_covariance(epochs, method=\"auto\", verbose=False).as_diag()\n",
      "<ipython-input-2-c47d3aa7e58e>:40: RuntimeWarning: No average EEG reference present in info[\"projs\"], covariance may be adversely affected. Consider recomputing covariance using with an average eeg reference projector added.\n",
      "  inverse_operator = mne.minimum_norm.make_inverse_operator(epochs.info, fwd, noise_cov, loose=loose, verbose=False)\n",
      "<ipython-input-2-c47d3aa7e58e>:40: RuntimeWarning: No average EEG reference present in info[\"projs\"], covariance may be adversely affected. Consider recomputing covariance using with an average eeg reference projector added.\n",
      "  inverse_operator = mne.minimum_norm.make_inverse_operator(epochs.info, fwd, noise_cov, loose=loose, verbose=False)\n"
     ]
    },
    {
     "name": "stdout",
     "output_type": "stream",
     "text": [
      "Not setting metadata\n",
      "Not setting metadata\n",
      "10 matching events found\n",
      "No baseline correction applied\n",
      "0 projection items activated\n",
      "Loading data for 10 events and 500 original time points ...\n",
      "0 bad epochs dropped\n",
      "Fitted sphere radius:         103.3 mm\n",
      "Origin head coordinates:      0.3 3.2 38.8 mm\n",
      "Origin device coordinates:    0.3 3.2 38.8 mm\n"
     ]
    },
    {
     "name": "stderr",
     "output_type": "stream",
     "text": [
      "/home/christian/code/acareeg/acareeg/lemon.py:58: RuntimeWarning: Limited 1 annotation(s) that were expanding outside the data range.\n",
      "  raw = mne.io.read_raw_eeglab(str(Path(root_path) / eeg_rel_path / f\"sub-{subject}_{event_id}.set\"), verbose=False)\n",
      "/home/christian/code/acareeg/acareeg/lemon.py:58: RuntimeWarning: The data contains 'boundary' events, indicating data discontinuities. Be cautious of filtering and epoching around these events.\n",
      "  raw = mne.io.read_raw_eeglab(str(Path(root_path) / eeg_rel_path / f\"sub-{subject}_{event_id}.set\"), verbose=False)\n",
      "<ipython-input-2-c47d3aa7e58e>:39: RuntimeWarning: Epochs are not baseline corrected, covariance matrix may be inaccurate\n",
      "  noise_cov = mne.compute_covariance(epochs, method=\"auto\", verbose=False).as_diag()\n",
      "<ipython-input-2-c47d3aa7e58e>:40: RuntimeWarning: No average EEG reference present in info[\"projs\"], covariance may be adversely affected. Consider recomputing covariance using with an average eeg reference projector added.\n",
      "  inverse_operator = mne.minimum_norm.make_inverse_operator(epochs.info, fwd, noise_cov, loose=loose, verbose=False)\n",
      "<ipython-input-2-c47d3aa7e58e>:40: RuntimeWarning: No average EEG reference present in info[\"projs\"], covariance may be adversely affected. Consider recomputing covariance using with an average eeg reference projector added.\n",
      "  inverse_operator = mne.minimum_norm.make_inverse_operator(epochs.info, fwd, noise_cov, loose=loose, verbose=False)\n"
     ]
    },
    {
     "name": "stdout",
     "output_type": "stream",
     "text": [
      "Not setting metadata\n",
      "Not setting metadata\n",
      "10 matching events found\n",
      "No baseline correction applied\n",
      "0 projection items activated\n",
      "Loading data for 10 events and 500 original time points ...\n",
      "0 bad epochs dropped\n",
      "Fitted sphere radius:         105.4 mm\n",
      "Origin head coordinates:      3.9 -2.1 48.2 mm\n",
      "Origin device coordinates:    3.9 -2.1 48.2 mm\n"
     ]
    },
    {
     "name": "stderr",
     "output_type": "stream",
     "text": [
      "/home/christian/code/acareeg/acareeg/lemon.py:58: RuntimeWarning: Limited 1 annotation(s) that were expanding outside the data range.\n",
      "  raw = mne.io.read_raw_eeglab(str(Path(root_path) / eeg_rel_path / f\"sub-{subject}_{event_id}.set\"), verbose=False)\n",
      "/home/christian/code/acareeg/acareeg/lemon.py:58: RuntimeWarning: The data contains 'boundary' events, indicating data discontinuities. Be cautious of filtering and epoching around these events.\n",
      "  raw = mne.io.read_raw_eeglab(str(Path(root_path) / eeg_rel_path / f\"sub-{subject}_{event_id}.set\"), verbose=False)\n",
      "<ipython-input-2-c47d3aa7e58e>:39: RuntimeWarning: Epochs are not baseline corrected, covariance matrix may be inaccurate\n",
      "  noise_cov = mne.compute_covariance(epochs, method=\"auto\", verbose=False).as_diag()\n",
      "<ipython-input-2-c47d3aa7e58e>:40: RuntimeWarning: No average EEG reference present in info[\"projs\"], covariance may be adversely affected. Consider recomputing covariance using with an average eeg reference projector added.\n",
      "  inverse_operator = mne.minimum_norm.make_inverse_operator(epochs.info, fwd, noise_cov, loose=loose, verbose=False)\n",
      "<ipython-input-2-c47d3aa7e58e>:40: RuntimeWarning: No average EEG reference present in info[\"projs\"], covariance may be adversely affected. Consider recomputing covariance using with an average eeg reference projector added.\n",
      "  inverse_operator = mne.minimum_norm.make_inverse_operator(epochs.info, fwd, noise_cov, loose=loose, verbose=False)\n"
     ]
    },
    {
     "name": "stdout",
     "output_type": "stream",
     "text": [
      "Not setting metadata\n",
      "Not setting metadata\n",
      "10 matching events found\n",
      "No baseline correction applied\n",
      "0 projection items activated\n",
      "Loading data for 10 events and 500 original time points ...\n",
      "0 bad epochs dropped\n",
      "Fitted sphere radius:         102.8 mm\n",
      "Origin head coordinates:      4.6 -3.7 51.4 mm\n",
      "Origin device coordinates:    4.6 -3.7 51.4 mm\n"
     ]
    },
    {
     "name": "stderr",
     "output_type": "stream",
     "text": [
      "/home/christian/code/acareeg/acareeg/lemon.py:58: RuntimeWarning: Limited 1 annotation(s) that were expanding outside the data range.\n",
      "  raw = mne.io.read_raw_eeglab(str(Path(root_path) / eeg_rel_path / f\"sub-{subject}_{event_id}.set\"), verbose=False)\n",
      "/home/christian/code/acareeg/acareeg/lemon.py:58: RuntimeWarning: The data contains 'boundary' events, indicating data discontinuities. Be cautious of filtering and epoching around these events.\n",
      "  raw = mne.io.read_raw_eeglab(str(Path(root_path) / eeg_rel_path / f\"sub-{subject}_{event_id}.set\"), verbose=False)\n",
      "<ipython-input-2-c47d3aa7e58e>:39: RuntimeWarning: Epochs are not baseline corrected, covariance matrix may be inaccurate\n",
      "  noise_cov = mne.compute_covariance(epochs, method=\"auto\", verbose=False).as_diag()\n",
      "<ipython-input-2-c47d3aa7e58e>:40: RuntimeWarning: No average EEG reference present in info[\"projs\"], covariance may be adversely affected. Consider recomputing covariance using with an average eeg reference projector added.\n",
      "  inverse_operator = mne.minimum_norm.make_inverse_operator(epochs.info, fwd, noise_cov, loose=loose, verbose=False)\n",
      "<ipython-input-2-c47d3aa7e58e>:40: RuntimeWarning: No average EEG reference present in info[\"projs\"], covariance may be adversely affected. Consider recomputing covariance using with an average eeg reference projector added.\n",
      "  inverse_operator = mne.minimum_norm.make_inverse_operator(epochs.info, fwd, noise_cov, loose=loose, verbose=False)\n"
     ]
    },
    {
     "name": "stdout",
     "output_type": "stream",
     "text": [
      "Not setting metadata\n",
      "Not setting metadata\n",
      "10 matching events found\n",
      "No baseline correction applied\n",
      "0 projection items activated\n",
      "Loading data for 10 events and 500 original time points ...\n",
      "0 bad epochs dropped\n",
      "Fitted sphere radius:         102.6 mm\n",
      "Origin head coordinates:      2.5 4.4 40.7 mm\n",
      "Origin device coordinates:    2.5 4.4 40.7 mm\n"
     ]
    },
    {
     "name": "stderr",
     "output_type": "stream",
     "text": [
      "/home/christian/code/acareeg/acareeg/lemon.py:58: RuntimeWarning: Limited 1 annotation(s) that were expanding outside the data range.\n",
      "  raw = mne.io.read_raw_eeglab(str(Path(root_path) / eeg_rel_path / f\"sub-{subject}_{event_id}.set\"), verbose=False)\n",
      "/home/christian/code/acareeg/acareeg/lemon.py:58: RuntimeWarning: The data contains 'boundary' events, indicating data discontinuities. Be cautious of filtering and epoching around these events.\n",
      "  raw = mne.io.read_raw_eeglab(str(Path(root_path) / eeg_rel_path / f\"sub-{subject}_{event_id}.set\"), verbose=False)\n",
      "<ipython-input-2-c47d3aa7e58e>:39: RuntimeWarning: Epochs are not baseline corrected, covariance matrix may be inaccurate\n",
      "  noise_cov = mne.compute_covariance(epochs, method=\"auto\", verbose=False).as_diag()\n",
      "<ipython-input-2-c47d3aa7e58e>:40: RuntimeWarning: No average EEG reference present in info[\"projs\"], covariance may be adversely affected. Consider recomputing covariance using with an average eeg reference projector added.\n",
      "  inverse_operator = mne.minimum_norm.make_inverse_operator(epochs.info, fwd, noise_cov, loose=loose, verbose=False)\n",
      "<ipython-input-2-c47d3aa7e58e>:40: RuntimeWarning: No average EEG reference present in info[\"projs\"], covariance may be adversely affected. Consider recomputing covariance using with an average eeg reference projector added.\n",
      "  inverse_operator = mne.minimum_norm.make_inverse_operator(epochs.info, fwd, noise_cov, loose=loose, verbose=False)\n"
     ]
    },
    {
     "name": "stdout",
     "output_type": "stream",
     "text": [
      "Not setting metadata\n",
      "Not setting metadata\n",
      "10 matching events found\n",
      "No baseline correction applied\n",
      "0 projection items activated\n",
      "Loading data for 10 events and 500 original time points ...\n",
      "0 bad epochs dropped\n",
      "Fitted sphere radius:         91.1 mm\n",
      "Origin head coordinates:      -7.4 -14.2 -48.0 mm\n",
      "Origin device coordinates:    -7.4 -14.2 -48.0 mm\n"
     ]
    },
    {
     "name": "stderr",
     "output_type": "stream",
     "text": [
      "/home/christian/code/acareeg/acareeg/lemon.py:58: RuntimeWarning: Limited 1 annotation(s) that were expanding outside the data range.\n",
      "  raw = mne.io.read_raw_eeglab(str(Path(root_path) / eeg_rel_path / f\"sub-{subject}_{event_id}.set\"), verbose=False)\n",
      "/home/christian/code/acareeg/acareeg/lemon.py:58: RuntimeWarning: The data contains 'boundary' events, indicating data discontinuities. Be cautious of filtering and epoching around these events.\n",
      "  raw = mne.io.read_raw_eeglab(str(Path(root_path) / eeg_rel_path / f\"sub-{subject}_{event_id}.set\"), verbose=False)\n",
      "<ipython-input-2-c47d3aa7e58e>:39: RuntimeWarning: Epochs are not baseline corrected, covariance matrix may be inaccurate\n",
      "  noise_cov = mne.compute_covariance(epochs, method=\"auto\", verbose=False).as_diag()\n",
      "<ipython-input-2-c47d3aa7e58e>:40: RuntimeWarning: No average EEG reference present in info[\"projs\"], covariance may be adversely affected. Consider recomputing covariance using with an average eeg reference projector added.\n",
      "  inverse_operator = mne.minimum_norm.make_inverse_operator(epochs.info, fwd, noise_cov, loose=loose, verbose=False)\n",
      "<ipython-input-2-c47d3aa7e58e>:40: RuntimeWarning: No average EEG reference present in info[\"projs\"], covariance may be adversely affected. Consider recomputing covariance using with an average eeg reference projector added.\n",
      "  inverse_operator = mne.minimum_norm.make_inverse_operator(epochs.info, fwd, noise_cov, loose=loose, verbose=False)\n"
     ]
    },
    {
     "name": "stdout",
     "output_type": "stream",
     "text": [
      "Not setting metadata\n",
      "Not setting metadata\n",
      "10 matching events found\n",
      "No baseline correction applied\n",
      "0 projection items activated\n",
      "Loading data for 10 events and 500 original time points ...\n",
      "0 bad epochs dropped\n",
      "Fitted sphere radius:         103.0 mm\n",
      "Origin head coordinates:      1.1 3.7 32.9 mm\n",
      "Origin device coordinates:    1.1 3.7 32.9 mm\n"
     ]
    },
    {
     "name": "stderr",
     "output_type": "stream",
     "text": [
      "/home/christian/code/acareeg/acareeg/lemon.py:58: RuntimeWarning: Limited 1 annotation(s) that were expanding outside the data range.\n",
      "  raw = mne.io.read_raw_eeglab(str(Path(root_path) / eeg_rel_path / f\"sub-{subject}_{event_id}.set\"), verbose=False)\n",
      "/home/christian/code/acareeg/acareeg/lemon.py:58: RuntimeWarning: The data contains 'boundary' events, indicating data discontinuities. Be cautious of filtering and epoching around these events.\n",
      "  raw = mne.io.read_raw_eeglab(str(Path(root_path) / eeg_rel_path / f\"sub-{subject}_{event_id}.set\"), verbose=False)\n",
      "<ipython-input-2-c47d3aa7e58e>:39: RuntimeWarning: Epochs are not baseline corrected, covariance matrix may be inaccurate\n",
      "  noise_cov = mne.compute_covariance(epochs, method=\"auto\", verbose=False).as_diag()\n",
      "<ipython-input-2-c47d3aa7e58e>:40: RuntimeWarning: No average EEG reference present in info[\"projs\"], covariance may be adversely affected. Consider recomputing covariance using with an average eeg reference projector added.\n",
      "  inverse_operator = mne.minimum_norm.make_inverse_operator(epochs.info, fwd, noise_cov, loose=loose, verbose=False)\n",
      "<ipython-input-2-c47d3aa7e58e>:40: RuntimeWarning: No average EEG reference present in info[\"projs\"], covariance may be adversely affected. Consider recomputing covariance using with an average eeg reference projector added.\n",
      "  inverse_operator = mne.minimum_norm.make_inverse_operator(epochs.info, fwd, noise_cov, loose=loose, verbose=False)\n"
     ]
    },
    {
     "name": "stdout",
     "output_type": "stream",
     "text": [
      "Not setting metadata\n",
      "Not setting metadata\n",
      "10 matching events found\n",
      "No baseline correction applied\n",
      "0 projection items activated\n",
      "Loading data for 10 events and 500 original time points ...\n",
      "0 bad epochs dropped\n",
      "Fitted sphere radius:         102.8 mm\n",
      "Origin head coordinates:      3.6 4.3 35.9 mm\n",
      "Origin device coordinates:    3.6 4.3 35.9 mm\n"
     ]
    },
    {
     "name": "stderr",
     "output_type": "stream",
     "text": [
      "/home/christian/code/acareeg/acareeg/lemon.py:58: RuntimeWarning: Limited 1 annotation(s) that were expanding outside the data range.\n",
      "  raw = mne.io.read_raw_eeglab(str(Path(root_path) / eeg_rel_path / f\"sub-{subject}_{event_id}.set\"), verbose=False)\n",
      "/home/christian/code/acareeg/acareeg/lemon.py:58: RuntimeWarning: The data contains 'boundary' events, indicating data discontinuities. Be cautious of filtering and epoching around these events.\n",
      "  raw = mne.io.read_raw_eeglab(str(Path(root_path) / eeg_rel_path / f\"sub-{subject}_{event_id}.set\"), verbose=False)\n",
      "<ipython-input-2-c47d3aa7e58e>:39: RuntimeWarning: Epochs are not baseline corrected, covariance matrix may be inaccurate\n",
      "  noise_cov = mne.compute_covariance(epochs, method=\"auto\", verbose=False).as_diag()\n",
      "<ipython-input-2-c47d3aa7e58e>:40: RuntimeWarning: No average EEG reference present in info[\"projs\"], covariance may be adversely affected. Consider recomputing covariance using with an average eeg reference projector added.\n",
      "  inverse_operator = mne.minimum_norm.make_inverse_operator(epochs.info, fwd, noise_cov, loose=loose, verbose=False)\n",
      "<ipython-input-2-c47d3aa7e58e>:40: RuntimeWarning: No average EEG reference present in info[\"projs\"], covariance may be adversely affected. Consider recomputing covariance using with an average eeg reference projector added.\n",
      "  inverse_operator = mne.minimum_norm.make_inverse_operator(epochs.info, fwd, noise_cov, loose=loose, verbose=False)\n"
     ]
    },
    {
     "name": "stdout",
     "output_type": "stream",
     "text": [
      "Not setting metadata\n",
      "Not setting metadata\n",
      "10 matching events found\n",
      "No baseline correction applied\n",
      "0 projection items activated\n",
      "Loading data for 10 events and 500 original time points ...\n",
      "0 bad epochs dropped\n",
      "Fitted sphere radius:         94.7 mm\n",
      "Origin head coordinates:      3.2 1.4 38.3 mm\n",
      "Origin device coordinates:    3.2 1.4 38.3 mm\n"
     ]
    },
    {
     "name": "stderr",
     "output_type": "stream",
     "text": [
      "/home/christian/code/acareeg/acareeg/lemon.py:58: RuntimeWarning: Limited 1 annotation(s) that were expanding outside the data range.\n",
      "  raw = mne.io.read_raw_eeglab(str(Path(root_path) / eeg_rel_path / f\"sub-{subject}_{event_id}.set\"), verbose=False)\n",
      "/home/christian/code/acareeg/acareeg/lemon.py:58: RuntimeWarning: The data contains 'boundary' events, indicating data discontinuities. Be cautious of filtering and epoching around these events.\n",
      "  raw = mne.io.read_raw_eeglab(str(Path(root_path) / eeg_rel_path / f\"sub-{subject}_{event_id}.set\"), verbose=False)\n",
      "<ipython-input-2-c47d3aa7e58e>:39: RuntimeWarning: Epochs are not baseline corrected, covariance matrix may be inaccurate\n",
      "  noise_cov = mne.compute_covariance(epochs, method=\"auto\", verbose=False).as_diag()\n",
      "<ipython-input-2-c47d3aa7e58e>:40: RuntimeWarning: No average EEG reference present in info[\"projs\"], covariance may be adversely affected. Consider recomputing covariance using with an average eeg reference projector added.\n",
      "  inverse_operator = mne.minimum_norm.make_inverse_operator(epochs.info, fwd, noise_cov, loose=loose, verbose=False)\n",
      "<ipython-input-2-c47d3aa7e58e>:40: RuntimeWarning: No average EEG reference present in info[\"projs\"], covariance may be adversely affected. Consider recomputing covariance using with an average eeg reference projector added.\n",
      "  inverse_operator = mne.minimum_norm.make_inverse_operator(epochs.info, fwd, noise_cov, loose=loose, verbose=False)\n"
     ]
    },
    {
     "name": "stdout",
     "output_type": "stream",
     "text": [
      "Not setting metadata\n",
      "Not setting metadata\n",
      "10 matching events found\n",
      "No baseline correction applied\n",
      "0 projection items activated\n",
      "Loading data for 10 events and 500 original time points ...\n",
      "0 bad epochs dropped\n",
      "Fitted sphere radius:         99.9 mm\n",
      "Origin head coordinates:      4.8 -1.5 31.8 mm\n",
      "Origin device coordinates:    4.8 -1.5 31.8 mm\n"
     ]
    },
    {
     "name": "stderr",
     "output_type": "stream",
     "text": [
      "/home/christian/code/acareeg/acareeg/lemon.py:58: RuntimeWarning: Limited 1 annotation(s) that were expanding outside the data range.\n",
      "  raw = mne.io.read_raw_eeglab(str(Path(root_path) / eeg_rel_path / f\"sub-{subject}_{event_id}.set\"), verbose=False)\n",
      "/home/christian/code/acareeg/acareeg/lemon.py:58: RuntimeWarning: The data contains 'boundary' events, indicating data discontinuities. Be cautious of filtering and epoching around these events.\n",
      "  raw = mne.io.read_raw_eeglab(str(Path(root_path) / eeg_rel_path / f\"sub-{subject}_{event_id}.set\"), verbose=False)\n",
      "<ipython-input-2-c47d3aa7e58e>:39: RuntimeWarning: Epochs are not baseline corrected, covariance matrix may be inaccurate\n",
      "  noise_cov = mne.compute_covariance(epochs, method=\"auto\", verbose=False).as_diag()\n",
      "<ipython-input-2-c47d3aa7e58e>:40: RuntimeWarning: No average EEG reference present in info[\"projs\"], covariance may be adversely affected. Consider recomputing covariance using with an average eeg reference projector added.\n",
      "  inverse_operator = mne.minimum_norm.make_inverse_operator(epochs.info, fwd, noise_cov, loose=loose, verbose=False)\n",
      "<ipython-input-2-c47d3aa7e58e>:40: RuntimeWarning: No average EEG reference present in info[\"projs\"], covariance may be adversely affected. Consider recomputing covariance using with an average eeg reference projector added.\n",
      "  inverse_operator = mne.minimum_norm.make_inverse_operator(epochs.info, fwd, noise_cov, loose=loose, verbose=False)\n"
     ]
    },
    {
     "name": "stdout",
     "output_type": "stream",
     "text": [
      "Not setting metadata\n",
      "Not setting metadata\n",
      "10 matching events found\n",
      "No baseline correction applied\n",
      "0 projection items activated\n",
      "Loading data for 10 events and 500 original time points ...\n",
      "0 bad epochs dropped\n",
      "Fitted sphere radius:         100.2 mm\n",
      "Origin head coordinates:      3.0 3.9 41.0 mm\n",
      "Origin device coordinates:    3.0 3.9 41.0 mm\n"
     ]
    },
    {
     "name": "stderr",
     "output_type": "stream",
     "text": [
      "/home/christian/code/acareeg/acareeg/lemon.py:58: RuntimeWarning: Limited 1 annotation(s) that were expanding outside the data range.\n",
      "  raw = mne.io.read_raw_eeglab(str(Path(root_path) / eeg_rel_path / f\"sub-{subject}_{event_id}.set\"), verbose=False)\n",
      "/home/christian/code/acareeg/acareeg/lemon.py:58: RuntimeWarning: The data contains 'boundary' events, indicating data discontinuities. Be cautious of filtering and epoching around these events.\n",
      "  raw = mne.io.read_raw_eeglab(str(Path(root_path) / eeg_rel_path / f\"sub-{subject}_{event_id}.set\"), verbose=False)\n",
      "<ipython-input-2-c47d3aa7e58e>:39: RuntimeWarning: Epochs are not baseline corrected, covariance matrix may be inaccurate\n",
      "  noise_cov = mne.compute_covariance(epochs, method=\"auto\", verbose=False).as_diag()\n",
      "<ipython-input-2-c47d3aa7e58e>:40: RuntimeWarning: No average EEG reference present in info[\"projs\"], covariance may be adversely affected. Consider recomputing covariance using with an average eeg reference projector added.\n",
      "  inverse_operator = mne.minimum_norm.make_inverse_operator(epochs.info, fwd, noise_cov, loose=loose, verbose=False)\n",
      "<ipython-input-2-c47d3aa7e58e>:40: RuntimeWarning: No average EEG reference present in info[\"projs\"], covariance may be adversely affected. Consider recomputing covariance using with an average eeg reference projector added.\n",
      "  inverse_operator = mne.minimum_norm.make_inverse_operator(epochs.info, fwd, noise_cov, loose=loose, verbose=False)\n"
     ]
    },
    {
     "name": "stdout",
     "output_type": "stream",
     "text": [
      "Not setting metadata\n",
      "Not setting metadata\n",
      "10 matching events found\n",
      "No baseline correction applied\n",
      "0 projection items activated\n",
      "Loading data for 10 events and 500 original time points ...\n",
      "0 bad epochs dropped\n",
      "Fitted sphere radius:         102.4 mm\n",
      "Origin head coordinates:      3.4 -1.1 38.6 mm\n",
      "Origin device coordinates:    3.4 -1.1 38.6 mm\n"
     ]
    },
    {
     "name": "stderr",
     "output_type": "stream",
     "text": [
      "/home/christian/code/acareeg/acareeg/lemon.py:58: RuntimeWarning: Limited 1 annotation(s) that were expanding outside the data range.\n",
      "  raw = mne.io.read_raw_eeglab(str(Path(root_path) / eeg_rel_path / f\"sub-{subject}_{event_id}.set\"), verbose=False)\n",
      "/home/christian/code/acareeg/acareeg/lemon.py:58: RuntimeWarning: The data contains 'boundary' events, indicating data discontinuities. Be cautious of filtering and epoching around these events.\n",
      "  raw = mne.io.read_raw_eeglab(str(Path(root_path) / eeg_rel_path / f\"sub-{subject}_{event_id}.set\"), verbose=False)\n",
      "<ipython-input-2-c47d3aa7e58e>:39: RuntimeWarning: Epochs are not baseline corrected, covariance matrix may be inaccurate\n",
      "  noise_cov = mne.compute_covariance(epochs, method=\"auto\", verbose=False).as_diag()\n",
      "<ipython-input-2-c47d3aa7e58e>:40: RuntimeWarning: No average EEG reference present in info[\"projs\"], covariance may be adversely affected. Consider recomputing covariance using with an average eeg reference projector added.\n",
      "  inverse_operator = mne.minimum_norm.make_inverse_operator(epochs.info, fwd, noise_cov, loose=loose, verbose=False)\n",
      "<ipython-input-2-c47d3aa7e58e>:40: RuntimeWarning: No average EEG reference present in info[\"projs\"], covariance may be adversely affected. Consider recomputing covariance using with an average eeg reference projector added.\n",
      "  inverse_operator = mne.minimum_norm.make_inverse_operator(epochs.info, fwd, noise_cov, loose=loose, verbose=False)\n"
     ]
    },
    {
     "name": "stdout",
     "output_type": "stream",
     "text": [
      "Not setting metadata\n",
      "Not setting metadata\n",
      "10 matching events found\n",
      "No baseline correction applied\n",
      "0 projection items activated\n",
      "Loading data for 10 events and 500 original time points ...\n",
      "0 bad epochs dropped\n",
      "Fitted sphere radius:         92.0 mm\n",
      "Origin head coordinates:      -8.6 -17.2 -43.7 mm\n",
      "Origin device coordinates:    -8.6 -17.2 -43.7 mm\n"
     ]
    },
    {
     "name": "stderr",
     "output_type": "stream",
     "text": [
      "/home/christian/code/acareeg/acareeg/lemon.py:58: RuntimeWarning: Limited 1 annotation(s) that were expanding outside the data range.\n",
      "  raw = mne.io.read_raw_eeglab(str(Path(root_path) / eeg_rel_path / f\"sub-{subject}_{event_id}.set\"), verbose=False)\n",
      "/home/christian/code/acareeg/acareeg/lemon.py:58: RuntimeWarning: The data contains 'boundary' events, indicating data discontinuities. Be cautious of filtering and epoching around these events.\n",
      "  raw = mne.io.read_raw_eeglab(str(Path(root_path) / eeg_rel_path / f\"sub-{subject}_{event_id}.set\"), verbose=False)\n",
      "<ipython-input-2-c47d3aa7e58e>:39: RuntimeWarning: Epochs are not baseline corrected, covariance matrix may be inaccurate\n",
      "  noise_cov = mne.compute_covariance(epochs, method=\"auto\", verbose=False).as_diag()\n",
      "<ipython-input-2-c47d3aa7e58e>:40: RuntimeWarning: No average EEG reference present in info[\"projs\"], covariance may be adversely affected. Consider recomputing covariance using with an average eeg reference projector added.\n",
      "  inverse_operator = mne.minimum_norm.make_inverse_operator(epochs.info, fwd, noise_cov, loose=loose, verbose=False)\n",
      "<ipython-input-2-c47d3aa7e58e>:40: RuntimeWarning: No average EEG reference present in info[\"projs\"], covariance may be adversely affected. Consider recomputing covariance using with an average eeg reference projector added.\n",
      "  inverse_operator = mne.minimum_norm.make_inverse_operator(epochs.info, fwd, noise_cov, loose=loose, verbose=False)\n"
     ]
    },
    {
     "name": "stdout",
     "output_type": "stream",
     "text": [
      "Not setting metadata\n",
      "Not setting metadata\n",
      "10 matching events found\n",
      "No baseline correction applied\n",
      "0 projection items activated\n",
      "Loading data for 10 events and 500 original time points ...\n",
      "0 bad epochs dropped\n",
      "Fitted sphere radius:         95.0 mm\n",
      "Origin head coordinates:      -2.9 -1.3 37.2 mm\n",
      "Origin device coordinates:    -2.9 -1.3 37.2 mm\n"
     ]
    },
    {
     "name": "stderr",
     "output_type": "stream",
     "text": [
      "/home/christian/code/acareeg/acareeg/lemon.py:58: RuntimeWarning: Limited 1 annotation(s) that were expanding outside the data range.\n",
      "  raw = mne.io.read_raw_eeglab(str(Path(root_path) / eeg_rel_path / f\"sub-{subject}_{event_id}.set\"), verbose=False)\n",
      "/home/christian/code/acareeg/acareeg/lemon.py:58: RuntimeWarning: The data contains 'boundary' events, indicating data discontinuities. Be cautious of filtering and epoching around these events.\n",
      "  raw = mne.io.read_raw_eeglab(str(Path(root_path) / eeg_rel_path / f\"sub-{subject}_{event_id}.set\"), verbose=False)\n",
      "<ipython-input-2-c47d3aa7e58e>:39: RuntimeWarning: Epochs are not baseline corrected, covariance matrix may be inaccurate\n",
      "  noise_cov = mne.compute_covariance(epochs, method=\"auto\", verbose=False).as_diag()\n",
      "<ipython-input-2-c47d3aa7e58e>:40: RuntimeWarning: No average EEG reference present in info[\"projs\"], covariance may be adversely affected. Consider recomputing covariance using with an average eeg reference projector added.\n",
      "  inverse_operator = mne.minimum_norm.make_inverse_operator(epochs.info, fwd, noise_cov, loose=loose, verbose=False)\n",
      "<ipython-input-2-c47d3aa7e58e>:40: RuntimeWarning: No average EEG reference present in info[\"projs\"], covariance may be adversely affected. Consider recomputing covariance using with an average eeg reference projector added.\n",
      "  inverse_operator = mne.minimum_norm.make_inverse_operator(epochs.info, fwd, noise_cov, loose=loose, verbose=False)\n"
     ]
    },
    {
     "name": "stdout",
     "output_type": "stream",
     "text": [
      "Not setting metadata\n",
      "Not setting metadata\n",
      "10 matching events found\n",
      "No baseline correction applied\n",
      "0 projection items activated\n",
      "Loading data for 10 events and 500 original time points ...\n",
      "0 bad epochs dropped\n",
      "Fitted sphere radius:         94.5 mm\n",
      "Origin head coordinates:      2.8 3.6 38.2 mm\n",
      "Origin device coordinates:    2.8 3.6 38.2 mm\n"
     ]
    },
    {
     "name": "stderr",
     "output_type": "stream",
     "text": [
      "/home/christian/code/acareeg/acareeg/lemon.py:58: RuntimeWarning: Limited 1 annotation(s) that were expanding outside the data range.\n",
      "  raw = mne.io.read_raw_eeglab(str(Path(root_path) / eeg_rel_path / f\"sub-{subject}_{event_id}.set\"), verbose=False)\n",
      "/home/christian/code/acareeg/acareeg/lemon.py:58: RuntimeWarning: The data contains 'boundary' events, indicating data discontinuities. Be cautious of filtering and epoching around these events.\n",
      "  raw = mne.io.read_raw_eeglab(str(Path(root_path) / eeg_rel_path / f\"sub-{subject}_{event_id}.set\"), verbose=False)\n",
      "<ipython-input-2-c47d3aa7e58e>:39: RuntimeWarning: Epochs are not baseline corrected, covariance matrix may be inaccurate\n",
      "  noise_cov = mne.compute_covariance(epochs, method=\"auto\", verbose=False).as_diag()\n",
      "<ipython-input-2-c47d3aa7e58e>:40: RuntimeWarning: No average EEG reference present in info[\"projs\"], covariance may be adversely affected. Consider recomputing covariance using with an average eeg reference projector added.\n",
      "  inverse_operator = mne.minimum_norm.make_inverse_operator(epochs.info, fwd, noise_cov, loose=loose, verbose=False)\n",
      "<ipython-input-2-c47d3aa7e58e>:40: RuntimeWarning: No average EEG reference present in info[\"projs\"], covariance may be adversely affected. Consider recomputing covariance using with an average eeg reference projector added.\n",
      "  inverse_operator = mne.minimum_norm.make_inverse_operator(epochs.info, fwd, noise_cov, loose=loose, verbose=False)\n"
     ]
    },
    {
     "name": "stdout",
     "output_type": "stream",
     "text": [
      "Not setting metadata\n",
      "Not setting metadata\n",
      "10 matching events found\n",
      "No baseline correction applied\n",
      "0 projection items activated\n",
      "Loading data for 10 events and 500 original time points ...\n",
      "0 bad epochs dropped\n",
      "Fitted sphere radius:         99.7 mm\n",
      "Origin head coordinates:      4.2 6.9 49.8 mm\n",
      "Origin device coordinates:    4.2 6.9 49.8 mm\n"
     ]
    },
    {
     "name": "stderr",
     "output_type": "stream",
     "text": [
      "/home/christian/code/acareeg/acareeg/lemon.py:58: RuntimeWarning: Limited 1 annotation(s) that were expanding outside the data range.\n",
      "  raw = mne.io.read_raw_eeglab(str(Path(root_path) / eeg_rel_path / f\"sub-{subject}_{event_id}.set\"), verbose=False)\n",
      "/home/christian/code/acareeg/acareeg/lemon.py:58: RuntimeWarning: The data contains 'boundary' events, indicating data discontinuities. Be cautious of filtering and epoching around these events.\n",
      "  raw = mne.io.read_raw_eeglab(str(Path(root_path) / eeg_rel_path / f\"sub-{subject}_{event_id}.set\"), verbose=False)\n",
      "<ipython-input-2-c47d3aa7e58e>:39: RuntimeWarning: Epochs are not baseline corrected, covariance matrix may be inaccurate\n",
      "  noise_cov = mne.compute_covariance(epochs, method=\"auto\", verbose=False).as_diag()\n",
      "<ipython-input-2-c47d3aa7e58e>:40: RuntimeWarning: No average EEG reference present in info[\"projs\"], covariance may be adversely affected. Consider recomputing covariance using with an average eeg reference projector added.\n",
      "  inverse_operator = mne.minimum_norm.make_inverse_operator(epochs.info, fwd, noise_cov, loose=loose, verbose=False)\n",
      "<ipython-input-2-c47d3aa7e58e>:40: RuntimeWarning: No average EEG reference present in info[\"projs\"], covariance may be adversely affected. Consider recomputing covariance using with an average eeg reference projector added.\n",
      "  inverse_operator = mne.minimum_norm.make_inverse_operator(epochs.info, fwd, noise_cov, loose=loose, verbose=False)\n"
     ]
    },
    {
     "name": "stdout",
     "output_type": "stream",
     "text": [
      "Not setting metadata\n",
      "Not setting metadata\n",
      "10 matching events found\n",
      "No baseline correction applied\n",
      "0 projection items activated\n",
      "Loading data for 10 events and 500 original time points ...\n",
      "0 bad epochs dropped\n",
      "Fitted sphere radius:         94.8 mm\n",
      "Origin head coordinates:      0.9 -2.0 43.7 mm\n",
      "Origin device coordinates:    0.9 -2.0 43.7 mm\n"
     ]
    },
    {
     "name": "stderr",
     "output_type": "stream",
     "text": [
      "/home/christian/code/acareeg/acareeg/lemon.py:58: RuntimeWarning: Limited 1 annotation(s) that were expanding outside the data range.\n",
      "  raw = mne.io.read_raw_eeglab(str(Path(root_path) / eeg_rel_path / f\"sub-{subject}_{event_id}.set\"), verbose=False)\n",
      "/home/christian/code/acareeg/acareeg/lemon.py:58: RuntimeWarning: The data contains 'boundary' events, indicating data discontinuities. Be cautious of filtering and epoching around these events.\n",
      "  raw = mne.io.read_raw_eeglab(str(Path(root_path) / eeg_rel_path / f\"sub-{subject}_{event_id}.set\"), verbose=False)\n",
      "<ipython-input-2-c47d3aa7e58e>:39: RuntimeWarning: Epochs are not baseline corrected, covariance matrix may be inaccurate\n",
      "  noise_cov = mne.compute_covariance(epochs, method=\"auto\", verbose=False).as_diag()\n",
      "<ipython-input-2-c47d3aa7e58e>:40: RuntimeWarning: No average EEG reference present in info[\"projs\"], covariance may be adversely affected. Consider recomputing covariance using with an average eeg reference projector added.\n",
      "  inverse_operator = mne.minimum_norm.make_inverse_operator(epochs.info, fwd, noise_cov, loose=loose, verbose=False)\n",
      "<ipython-input-2-c47d3aa7e58e>:40: RuntimeWarning: No average EEG reference present in info[\"projs\"], covariance may be adversely affected. Consider recomputing covariance using with an average eeg reference projector added.\n",
      "  inverse_operator = mne.minimum_norm.make_inverse_operator(epochs.info, fwd, noise_cov, loose=loose, verbose=False)\n"
     ]
    },
    {
     "name": "stdout",
     "output_type": "stream",
     "text": [
      "Not setting metadata\n",
      "Not setting metadata\n",
      "10 matching events found\n",
      "No baseline correction applied\n",
      "0 projection items activated\n",
      "Loading data for 10 events and 500 original time points ...\n",
      "0 bad epochs dropped\n",
      "Fitted sphere radius:         98.8 mm\n",
      "Origin head coordinates:      3.6 3.6 46.5 mm\n",
      "Origin device coordinates:    3.6 3.6 46.5 mm\n"
     ]
    },
    {
     "name": "stderr",
     "output_type": "stream",
     "text": [
      "/home/christian/code/acareeg/acareeg/lemon.py:58: RuntimeWarning: Limited 1 annotation(s) that were expanding outside the data range.\n",
      "  raw = mne.io.read_raw_eeglab(str(Path(root_path) / eeg_rel_path / f\"sub-{subject}_{event_id}.set\"), verbose=False)\n",
      "/home/christian/code/acareeg/acareeg/lemon.py:58: RuntimeWarning: The data contains 'boundary' events, indicating data discontinuities. Be cautious of filtering and epoching around these events.\n",
      "  raw = mne.io.read_raw_eeglab(str(Path(root_path) / eeg_rel_path / f\"sub-{subject}_{event_id}.set\"), verbose=False)\n",
      "<ipython-input-2-c47d3aa7e58e>:39: RuntimeWarning: Epochs are not baseline corrected, covariance matrix may be inaccurate\n",
      "  noise_cov = mne.compute_covariance(epochs, method=\"auto\", verbose=False).as_diag()\n",
      "<ipython-input-2-c47d3aa7e58e>:40: RuntimeWarning: No average EEG reference present in info[\"projs\"], covariance may be adversely affected. Consider recomputing covariance using with an average eeg reference projector added.\n",
      "  inverse_operator = mne.minimum_norm.make_inverse_operator(epochs.info, fwd, noise_cov, loose=loose, verbose=False)\n",
      "<ipython-input-2-c47d3aa7e58e>:40: RuntimeWarning: No average EEG reference present in info[\"projs\"], covariance may be adversely affected. Consider recomputing covariance using with an average eeg reference projector added.\n",
      "  inverse_operator = mne.minimum_norm.make_inverse_operator(epochs.info, fwd, noise_cov, loose=loose, verbose=False)\n"
     ]
    },
    {
     "name": "stdout",
     "output_type": "stream",
     "text": [
      "Not setting metadata\n",
      "Not setting metadata\n",
      "10 matching events found\n",
      "No baseline correction applied\n",
      "0 projection items activated\n",
      "Loading data for 10 events and 500 original time points ...\n",
      "0 bad epochs dropped\n",
      "Fitted sphere radius:         100.2 mm\n",
      "Origin head coordinates:      6.6 5.4 38.2 mm\n",
      "Origin device coordinates:    6.6 5.4 38.2 mm\n"
     ]
    },
    {
     "name": "stderr",
     "output_type": "stream",
     "text": [
      "/home/christian/code/acareeg/acareeg/lemon.py:58: RuntimeWarning: Limited 1 annotation(s) that were expanding outside the data range.\n",
      "  raw = mne.io.read_raw_eeglab(str(Path(root_path) / eeg_rel_path / f\"sub-{subject}_{event_id}.set\"), verbose=False)\n",
      "/home/christian/code/acareeg/acareeg/lemon.py:58: RuntimeWarning: The data contains 'boundary' events, indicating data discontinuities. Be cautious of filtering and epoching around these events.\n",
      "  raw = mne.io.read_raw_eeglab(str(Path(root_path) / eeg_rel_path / f\"sub-{subject}_{event_id}.set\"), verbose=False)\n",
      "<ipython-input-2-c47d3aa7e58e>:39: RuntimeWarning: Epochs are not baseline corrected, covariance matrix may be inaccurate\n",
      "  noise_cov = mne.compute_covariance(epochs, method=\"auto\", verbose=False).as_diag()\n",
      "<ipython-input-2-c47d3aa7e58e>:40: RuntimeWarning: No average EEG reference present in info[\"projs\"], covariance may be adversely affected. Consider recomputing covariance using with an average eeg reference projector added.\n",
      "  inverse_operator = mne.minimum_norm.make_inverse_operator(epochs.info, fwd, noise_cov, loose=loose, verbose=False)\n",
      "<ipython-input-2-c47d3aa7e58e>:40: RuntimeWarning: No average EEG reference present in info[\"projs\"], covariance may be adversely affected. Consider recomputing covariance using with an average eeg reference projector added.\n",
      "  inverse_operator = mne.minimum_norm.make_inverse_operator(epochs.info, fwd, noise_cov, loose=loose, verbose=False)\n"
     ]
    },
    {
     "name": "stdout",
     "output_type": "stream",
     "text": [
      "Not setting metadata\n",
      "Not setting metadata\n",
      "10 matching events found\n",
      "No baseline correction applied\n",
      "0 projection items activated\n",
      "Loading data for 10 events and 500 original time points ...\n",
      "0 bad epochs dropped\n",
      "Fitted sphere radius:         99.1 mm\n",
      "Origin head coordinates:      0.3 5.6 46.1 mm\n",
      "Origin device coordinates:    0.3 5.6 46.1 mm\n"
     ]
    },
    {
     "name": "stderr",
     "output_type": "stream",
     "text": [
      "/home/christian/code/acareeg/acareeg/lemon.py:58: RuntimeWarning: Limited 1 annotation(s) that were expanding outside the data range.\n",
      "  raw = mne.io.read_raw_eeglab(str(Path(root_path) / eeg_rel_path / f\"sub-{subject}_{event_id}.set\"), verbose=False)\n",
      "/home/christian/code/acareeg/acareeg/lemon.py:58: RuntimeWarning: The data contains 'boundary' events, indicating data discontinuities. Be cautious of filtering and epoching around these events.\n",
      "  raw = mne.io.read_raw_eeglab(str(Path(root_path) / eeg_rel_path / f\"sub-{subject}_{event_id}.set\"), verbose=False)\n",
      "<ipython-input-2-c47d3aa7e58e>:39: RuntimeWarning: Epochs are not baseline corrected, covariance matrix may be inaccurate\n",
      "  noise_cov = mne.compute_covariance(epochs, method=\"auto\", verbose=False).as_diag()\n",
      "<ipython-input-2-c47d3aa7e58e>:40: RuntimeWarning: No average EEG reference present in info[\"projs\"], covariance may be adversely affected. Consider recomputing covariance using with an average eeg reference projector added.\n",
      "  inverse_operator = mne.minimum_norm.make_inverse_operator(epochs.info, fwd, noise_cov, loose=loose, verbose=False)\n",
      "<ipython-input-2-c47d3aa7e58e>:40: RuntimeWarning: No average EEG reference present in info[\"projs\"], covariance may be adversely affected. Consider recomputing covariance using with an average eeg reference projector added.\n",
      "  inverse_operator = mne.minimum_norm.make_inverse_operator(epochs.info, fwd, noise_cov, loose=loose, verbose=False)\n"
     ]
    }
   ],
   "source": [
    "lambda2s = [1e0, 1e-2, 1e-4, 1e-8]\n",
    "lambda2s_str = [\"1e-0\", \"1e-2\", \"1e-4\", \"1e-8\"]\n",
    "df_within_sim = {}\n",
    "df_within_csd_sim = {}\n",
    "df_within_sources = {}\n",
    "subjects = []\n",
    "snr = []\n",
    "np.random.seed(46346)\n",
    "for lambda2 in tqdm(lambda2s):\n",
    "    trials_sim = []\n",
    "    trials_csd_sim = []\n",
    "    df_within_sources[lambda2] = []\n",
    "    \n",
    "    for subject in tqdm(complete_subjects, leave=False): \n",
    "        epochs_sim, epochs, df_within_sources_01, stcs_01 = get_epochs_sim_lemon(subject, fwd, lambda2=lambda2, seed=None)\n",
    "        df_within_sources[lambda2].append(df_within_sources_01)        \n",
    "        trials_sim.append(get_epochs_to_trials([epochs_sim], subject, use_csd=False))\n",
    "        trials_csd_sim.append(get_epochs_to_trials([epochs_sim], subject, use_csd=True))\n",
    "        if lambda2 == 1e-4:\n",
    "            for epoch_sim, epoch in zip(epochs_sim, epochs):\n",
    "                snr.append(10*np.log10((np.abs((epoch + epoch_sim)).mean()/2)/np.abs(epoch-epoch_sim).mean()))\n",
    "                subjects.append(subject)            \n",
    "\n",
    "    df_within_sim[lambda2] = get_coh_dist_df(xr.concat(trials_sim, dim=\"subject\"), locations)\n",
    "    df_within_csd_sim[lambda2] = get_coh_dist_df(xr.concat(trials_csd_sim, dim=\"subject\"), locations)\n",
    "    df_within_sources[lambda2] = pd.concat(df_within_sources[lambda2])\n",
    "    \n",
    "snr_df = pd.DataFrame(dict(snr=snr, subject=subjects))    "
   ]
  },
  {
   "cell_type": "code",
   "execution_count": null,
   "metadata": {},
   "outputs": [],
   "source": [
    "fig, axes = plt.subplots(1, 3, figsize=(5, 2.5), sharey=True, sharex=False)\n",
    "fig.patch.set_facecolor('white')\n",
    "\n",
    "dfs = []\n",
    "for kind, reference, df in zip([\"wtn\", \"wtn\", \"btwn\", \"btwn\"],\n",
    "                               [\"SCD\", \"ave\", \"SCD\", \"ave\"],\n",
    "                               [df_within_csd, df_within, df_between_csd, df_between]): \n",
    "    tmp = df.drop(columns=\"con\").groupby([\"ch_names1\", \"ch_names2\"]).mean()\n",
    "    tmp[\"ref\"] = reference\n",
    "    tmp[\"kind\"] = kind\n",
    "    dfs.append(tmp)\n",
    "dfs = pd.concat(dfs)\n",
    "dfs[\"dist\"] = np.round(tmp[\"dist\"], -1)    \n",
    "sns.lineplot(x=\"dist\", y=\"abs_cohy\", hue=\"kind\", style=\"ref\", data=dfs, ax=axes[0])\n",
    "axes[0].set_xlim([dfs[\"dist\"].min()-5, dfs[\"dist\"].max()+5])\n",
    "\n",
    "dfs = []\n",
    "for lambda2, lambda2_str in zip(lambda2s, lambda2s_str):\n",
    "    for reference, df in zip([\"ave\", \"SCD\"], [df_within_sim[lambda2], df_within_csd_sim[lambda2]]): \n",
    "        tmp = df.drop(columns=\"con\").groupby([\"ch_names1\", \"ch_names2\"]).mean()\n",
    "        tmp[r\"$\\lambda^2$\"] = lambda2_str\n",
    "        tmp[\"ref\"] = reference\n",
    "        dfs.append(tmp)\n",
    "dfs = pd.concat(dfs)\n",
    "dfs[\"dist\"] = np.round(tmp[\"dist\"], -1)           \n",
    "sns.lineplot(x=\"dist\", y=\"abs_cohy\", hue=r\"$\\lambda^2$\", style=\"ref\", data=dfs, ax=axes[1])\n",
    "axes[1].set_xlim([dfs[\"dist\"].min()-5, dfs[\"dist\"].max()+5])\n",
    "\n",
    "dfs = []\n",
    "for lambda2, lambda2_str in zip(lambda2s, lambda2s_str):    \n",
    "    tmp = df_within_sources[lambda2].drop(columns=\"con\").groupby([\"ch_names1\", \"ch_names2\"]).mean()\n",
    "    tmp[r\"$\\lambda^2$\"] = lambda2_str\n",
    "    dfs.append(tmp)\n",
    "dfs = pd.concat(dfs)\n",
    "dfs[\"dist\"] = np.round(tmp[\"dist\"], -1)           \n",
    "sns.lineplot(x=\"dist\", y=\"abs_cohy\", hue=r\"$\\lambda^2$\", data=dfs, ax=axes[2])\n",
    "axes[2].set_xlim([dfs[\"dist\"].min()-5, dfs[\"dist\"].max()+5]) \n",
    "    \n",
    "for ax, title in zip(axes, [\"scalp\", \"simulated\", \"sources\"]):\n",
    "    ax.legend(ncol=2, prop={'size': 8}, columnspacing=1, borderaxespad=0.4,\n",
    "              handletextpad=0.4, borderpad=0.2, framealpha=0.3) \n",
    "    ax.set_ylabel(\"Coherence\")\n",
    "    ax.set_title(title, fontsize=10)\n",
    "    ax.set_xlabel(\"distance (mm)\")\n",
    "    \n",
    "fig.tight_layout(rect=[-0.02, -0.04, 1.02, 1.04], h_pad=0.0, w_pad=0)    \n",
    "ax.set_ylim(0, 1.5)\n",
    "ax.set_yticks([0, 0.2, 0.4, 0.6, 0.8, 1])\n",
    "\n",
    "fig.savefig(\"impact_lambda.png\", dpi=300)"
   ]
  },
  {
   "cell_type": "code",
   "execution_count": null,
   "metadata": {
    "scrolled": true
   },
   "outputs": [],
   "source": [
    "lambda2 = 1e-4\n",
    "df_within_sources_sur_spa = []\n",
    "trials_sim_sur_spa = []\n",
    "trials_csd_sim_sur_spa = []\n",
    "df_within_sources_sur_pha = []\n",
    "trials_sim_sur_pha = []\n",
    "trials_csd_sim_sur_pha = []\n",
    "np.random.seed(46346)\n",
    "for subject in tqdm(complete_subjects, leave=False): \n",
    "    epochs_sim_sur_spa, epochs_sur_spa, df_within_sources_01_sur_spa, stcs_01_sur_spa \\\n",
    "        = get_epochs_sim_lemon(subject, fwd, lambda2=lambda2, spatial_random=True, seed=None)\n",
    "    df_within_sources_sur_spa.append(df_within_sources_01_sur_spa)        \n",
    "    trials_sim_sur_spa.append(get_epochs_to_trials([epochs_sim_sur_spa], subject, use_csd=False))\n",
    "    trials_csd_sim_sur_spa.append(get_epochs_to_trials([epochs_sim_sur_spa], subject, use_csd=True))\n",
    "    \n",
    "    epochs_sim_sur_pha, epochs_sur_pha, df_within_sources_01_sur_pha, stcs_01_sur_pha \\\n",
    "        = get_epochs_sim_lemon(subject, fwd, lambda2=lambda2, phase_random=True, seed=None)\n",
    "    df_within_sources_sur_pha.append(df_within_sources_01_sur_pha)        \n",
    "    trials_sim_sur_pha.append(get_epochs_to_trials([epochs_sim_sur_pha], subject, use_csd=False))\n",
    "    trials_csd_sim_sur_pha.append(get_epochs_to_trials([epochs_sim_sur_pha], subject, use_csd=True))    \n",
    "    \n",
    "df_within_sim_sur_spa = get_coh_dist_df(xr.concat(trials_sim_sur_spa, dim=\"subject\"), locations)\n",
    "df_within_csd_sim_sur_spa = get_coh_dist_df(xr.concat(trials_csd_sim_sur_spa, dim=\"subject\"), locations)\n",
    "df_within_sources_sur_spa = pd.concat(df_within_sources_sur_spa)  \n",
    "\n",
    "df_within_sim_sur_pha = get_coh_dist_df(xr.concat(trials_sim_sur_pha, dim=\"subject\"), locations)\n",
    "df_within_csd_sim_sur_pha = get_coh_dist_df(xr.concat(trials_csd_sim_sur_pha, dim=\"subject\"), locations)\n",
    "df_within_sources_sur_pha = pd.concat(df_within_sources_sur_pha)"
   ]
  },
  {
   "cell_type": "code",
   "execution_count": null,
   "metadata": {},
   "outputs": [],
   "source": [
    "df_within_intra = pd.read_pickle(\"within_intracranial.pck\")\n",
    "df_between_intra = pd.read_pickle(\"between_intracranial.pck\")\n",
    "\n",
    "tmp_bw = df_between_intra.drop(columns=\"con\").groupby([\"ch_names1\", \"ch_names2\"]).mean().reset_index()\n",
    "tmp_bw[\"dist\"] = np.round(tmp_bw[\"dist\"], -1)\n",
    "dist_bw, abs_cohy_bw = tmp_bw.groupby([\"dist\"]).mean().reset_index().values.T\n",
    "offset = abs_cohy_bw[dist_bw < 75].mean()\n",
    "df_within_intra[\"abs_cohy\"] -= offset\n",
    "\n",
    "def fit_exp(df, x0):\n",
    "    def fun(x, df): \n",
    "        a, b = x\n",
    "        return np.abs(np.exp(a*df.dist.values)*b - df.abs_cohy.values).sum()\n",
    "\n",
    "    df = df.drop(columns=\"con\").sort_values(\"dist\").rolling(50, center=True).mean().dropna()[::50]\n",
    "    res = minimize(fun, x0, args=(df[df.dist < 75],))\n",
    "    return res.x[0], res.x[1], df\n",
    "\n",
    "x0 = np.array([-0.11, 0.2])\n",
    "a, b, df = fit_exp(df_within_intra, x0)   \n",
    "\n",
    "fig, ax = plt.subplots(1, 1, figsize=(3.5, 2.0), facecolor='white')\n",
    "ax.plot(df.dist[df.dist < 75], df.abs_cohy[df.dist < 75], \".\")\n",
    "ax.plot(np.arange(75), np.exp(a*np.arange(75))*b, \"k\")\n",
    "ax.set_xlim(3, 30)\n",
    "ax.set_ylim(-0.02, 0.2)\n",
    "ax.text(18, 0.17, f\"$\\sigma(d)={np.round(b, 4)}*exp({np.round(a, 4)})$\", ha=\"center\");\n",
    "ax.set_ylabel(\"Coherency\")\n",
    "ax.set_xlabel(\"Distance (mm)\")\n",
    "\n",
    "fig.tight_layout()\n",
    "fig.savefig(\"intra_coh_vs_dist.png\", dpi=300)"
   ]
  },
  {
   "cell_type": "code",
   "execution_count": null,
   "metadata": {
    "scrolled": true
   },
   "outputs": [],
   "source": [
    "kdtree = get_model_kdtree(fwd, dist_weight_max=20.0, progress=\"tqdm_notebook\")"
   ]
  },
  {
   "cell_type": "code",
   "execution_count": null,
   "metadata": {
    "scrolled": true
   },
   "outputs": [],
   "source": [
    "# Compute corrected epochs\n",
    "c = 0.35\n",
    "epochs_sim_corrected = {}\n",
    "correction_amp_factor = {}\n",
    "df_within_sources_cor = {}\n",
    "np.random.seed(567456)\n",
    "for subject in tqdm(complete_subjects, leave=True): \n",
    "    epochs = get_epochs_lemon(subject, lemon_root, event_id)\n",
    "    epochs = epochs[nb_selected_epochs]    \n",
    "    epochs.load_data()\n",
    "    stcs = get_sources(epochs, fwd, phase_random=True, seed=None)\n",
    "    for stc in stcs:\n",
    "        get_corrected_sources_one_epoch(stc, kdtree, a=a, b=b, c=c, seed=None)\n",
    "    epochs_sim_corrected[subject], df_within_sources_cor[subject] = get_corrected_amplitude_surrogate(epochs, stcs, fwd, seed=None)\n",
    "    \n",
    "df_within_sources_cor = pd.concat(df_within_sources_cor.values())"
   ]
  },
  {
   "cell_type": "code",
   "execution_count": null,
   "metadata": {
    "scrolled": true
   },
   "outputs": [],
   "source": [
    "corrected_sim_psds = []\n",
    "recording_psds = []\n",
    "sur_spa_psds = []\n",
    "sur_pha_psds = []\n",
    "np.random.seed(345345)\n",
    "for subject in tqdm(epochs_sim_corrected):\n",
    "    corrected_sim_psd, freqs = mne.time_frequency.psd_multitaper(epochs_sim_corrected[subject])\n",
    "    corrected_sim_psds.append(corrected_sim_psd.mean(0).mean(0))\n",
    "\n",
    "    epochs = get_epochs_lemon(subject, lemon_root, event_id)\n",
    "    recording_psds.append(mne.time_frequency.psd_multitaper(epochs)[0].mean(0).mean(0))\n",
    "    \n",
    "    epochs_sim_sur_spa = get_epochs_sim_lemon(subject, fwd, lambda2=1e-4, spatial_random=True, seed=None)[0]\n",
    "    sur_spa_psds.append(mne.time_frequency.psd_multitaper(epochs_sim_sur_spa)[0].mean(0).mean(0))\n",
    "    \n",
    "    epochs_sim_sur_pha = get_epochs_sim_lemon(subject, fwd, lambda2=1e-4, phase_random=True, seed=None)[0]\n",
    "    sur_pha_psds.append(mne.time_frequency.psd_multitaper(epochs_sim_sur_pha)[0].mean(0).mean(0))"
   ]
  },
  {
   "cell_type": "code",
   "execution_count": null,
   "metadata": {},
   "outputs": [],
   "source": [
    "trials_csd_sim_sur_cor = xr.concat([get_epochs_to_trials(sub_trials, subject, use_csd=True) \n",
    "                                    for subject, sub_trials in epochs_sim_corrected.items()], dim=\"subject\")\n",
    "df_within_csd_sim_sur_cor = get_coh_dist_df(trials_csd_sim_sur_cor, locations)\n",
    "\n",
    "trials_sim_sur_cor = xr.concat([get_epochs_to_trials(sub_trials, subject, use_csd=False) \n",
    "                                    for subject, sub_trials in epochs_sim_corrected.items()], dim=\"subject\")\n",
    "df_within_sim_sur_cor = get_coh_dist_df(trials_sim_sur_cor, locations)"
   ]
  },
  {
   "cell_type": "code",
   "execution_count": null,
   "metadata": {},
   "outputs": [],
   "source": [
    "fig, axes = plt.subplots(1, 3, figsize=(5, 2.5), sharey=True, sharex=False)\n",
    "fig.patch.set_facecolor('white')\n",
    "\n",
    "dfs = []\n",
    "dfs_sur_cor = [df_within_sim_sur_cor, df_within_csd_sim_sur_cor, df_within_sources_cor]\n",
    "dfs_sur_spa = [df_within_sim_sur_spa, df_within_csd_sim_sur_spa, df_within_sources_sur_spa]\n",
    "dfs_sur_pha = [df_within_sim_sur_pha, df_within_csd_sim_sur_pha, df_within_sources_sur_pha]\n",
    "dfs_originals = [df_within, df_within_csd, df_within_sources[lambda2]]\n",
    "for kind, dfs_kind in zip([\"rec\", \"spa\", \"pha\", \"cor\"], [dfs_originals, dfs_sur_spa, dfs_sur_pha, dfs_sur_cor]):\n",
    "    for ref, df, ax in zip([\"ave\", \"SCD\", \"sources\"], dfs_kind, axes): \n",
    "        tmp = df.drop(columns=\"con\").groupby([\"ch_names1\", \"ch_names2\"]).mean().reset_index()\n",
    "        tmp[\"kind\"] = kind\n",
    "        tmp[\"ref\"] = ref\n",
    "        tmp[\"dist\"] = np.round(tmp[\"dist\"]*2, -1)/2    \n",
    "        dfs.append(tmp)\n",
    "        \n",
    "df_within_sources_intra = pd.read_pickle(\"within_intracranial.pck\")        \n",
    "df_within_sources_intra = df_within_sources_intra.drop(columns=\"con\").groupby([\"ch_names1\", \"ch_names2\"]).mean().reset_index()\n",
    "df_within_sources_intra[\"kind\"] = \"intra\"\n",
    "df_within_sources_intra[\"ref\"] = \"sources\"\n",
    "df_within_sources_intra[\"dist\"] = np.round(df_within_sources_intra[\"dist\"], -1)    \n",
    "dfs.append(df_within_sources_intra)        \n",
    "dfs = pd.concat(dfs)\n",
    "\n",
    "for ref, df, ax in zip([\"ave\", \"SCD\", \"sources\"], dfs_kind, axes): \n",
    "    g = sns.lineplot(x=\"dist\", y=\"abs_cohy\", data=dfs[dfs.ref == ref], hue=\"kind\", ax=ax) #ax=axes[0])\n",
    "\n",
    "for ax, title in zip(axes, [\"Average reference\", \"SCD\", \"Sources\"]):\n",
    "    ax.set_ylabel(\"Coherence\")\n",
    "    ax.text(0.5, 0.92, title, ha=\"center\", transform=ax.transAxes)\n",
    "    ax.set_xlabel(\"distance (mm)\")\n",
    "    \n",
    "axes[2].legend()\n",
    "axes[1].legend().set_visible(False)\n",
    "axes[0].legend().set_visible(False)\n",
    "\n",
    "axes[2].set_xlabel(\"distance (mm)\")\n",
    "axes[2].set_xlim(0, 180)\n",
    "fig.tight_layout(rect=[-0.0, -0.04, 1.02, 0.92], h_pad=0.0, w_pad=0)    \n",
    "\n",
    "# Adding and inset\n",
    "from mpl_toolkits.axes_grid1.inset_locator import inset_axes\n",
    "\n",
    "axins = axes[2].inset_axes([0.23, 0.4, 0.7, 0.45])\n",
    "sns.lineplot(x=\"dist\", y=\"abs_cohy\", data=dfs[dfs.ref == \"sources\"], hue=\"kind\", ax=axins, legend=False)\n",
    "\n",
    "axins.get_xaxis().set_visible(False)\n",
    "axins.get_yaxis().set_visible(False)\n",
    "\n",
    "for spine in axins.spines.values():\n",
    "    spine.set_edgecolor([0, 0, 0, 0.2])\n",
    "\n",
    "g.legend(ncol=5, loc='right', bbox_to_anchor=(1.05, 1.1), columnspacing=1.8)    \n",
    "    \n",
    "axins.set_ylim(0, 0.2)\n",
    "axins.set_xlim(0, 50)\n",
    "\n",
    "fig.savefig(\"corrected_surrogate.png\", dpi=300)"
   ]
  },
  {
   "cell_type": "code",
   "execution_count": null,
   "metadata": {
    "scrolled": true
   },
   "outputs": [],
   "source": [
    "def get_df_subject_cor_opt(epochs, c=1.0, seed=324234):\n",
    "    if seed is not None:\n",
    "        np.random.seed(seed)\n",
    "    stcs = get_sources(epochs, fwd, phase_random=True, seed=None)\n",
    "    for stc in stcs:\n",
    "        get_corrected_sources_one_epoch(stc, kdtree, a=a, b=b, c=c, seed=None)\n",
    "    return get_corrected_amplitude_surrogate(epochs, stcs, fwd, seed=None)[1]    \n",
    "\n",
    "np.random.seed(324534)\n",
    "tmp2s = {}\n",
    "epochs = get_epochs_lemon(subject, lemon_root, event_id)[nb_selected_epochs].load_data()\n",
    "for c in tqdm([0.1, 0.2, 0.3, 0.4, 0.5, 0.6]):\n",
    "    df = get_df_subject_cor_opt(epochs, c=c, seed=None)\n",
    "    tmp2s[c] = df.drop(columns=\"con\").sort_values(\"dist\").rolling(10, center=True).mean().dropna()[::10].groupby(\"dist\").mean().reset_index()"
   ]
  },
  {
   "cell_type": "code",
   "execution_count": null,
   "metadata": {},
   "outputs": [],
   "source": [
    "fig, ax = plt.subplots(1, 1, figsize=(5, 2), facecolor='white')\n",
    "\n",
    "df_within_sources_intra = pd.read_pickle(\"within_intracranial.pck\")  \n",
    "df_within_sources_intra[\"dist_bin\"] = np.round(df_within_sources_intra.dist*2, -1)/2\n",
    "tmp1 = df_within_sources_intra.sort_values(\"dist\").rolling(50, center=True).mean().dropna()[::50]\n",
    "ax.plot(tmp1.dist, tmp1.abs_cohy, \".\", label=\"intra\")\n",
    "ax.plot(np.arange(75), np.exp(a*np.arange(75))*b + offset, \"k\", linewidth=2, label=r\"$\\sigma(d)$\")\n",
    "\n",
    "for c in [0.1, 0.2, 0.3, 0.4, 0.5, 0.6]:\n",
    "    tmp2 = tmp2s[c]\n",
    "    ax.plot(tmp2.dist, tmp2.abs_cohy, label=c)\n",
    "    \n",
    "ax.set_xlim(3, 30)\n",
    "ax.set_ylim(0, 0.20)\n",
    "ax.legend(ncol=3)\n",
    "ax.set_ylabel(\"Coherence\")\n",
    "ax.set_xlabel(\"Distance (mm)\")\n",
    "ax.text(22.5, 0.075, f\"$\\sigma(d)={np.round(b, 4)}*exp({np.round(a, 4)})$\", ha=\"center\");\n",
    "\n",
    "fig.tight_layout(rect=[-0.02, -0.06, 1.02, 1.06])\n",
    "fig.savefig(\"benchmark_c_value.png\", dpi=300)"
   ]
  },
  {
   "cell_type": "markdown",
   "metadata": {},
   "source": [
    "# Connectivity example"
   ]
  },
  {
   "cell_type": "code",
   "execution_count": null,
   "metadata": {},
   "outputs": [],
   "source": [
    "bands = [\"theta\", \"alpha\", \"beta\", \"gamma\"]\n",
    "xr_cons = {}\n",
    "for type_, trial_lst in zip([\"csd\", \"sim\"], [trials_csd, trials_csd_sim_sur_cor]):\n",
    "    xr_cons[type_] = []\n",
    "    for subject in tqdm(trial_lst.subject):\n",
    "        con = mne.connectivity.spectral_connectivity(trial_lst.sel(subject=subject).data, method='cohy', \n",
    "                                                     fmin=(4, 8, 12, 30),\n",
    "                                                     fmax=(8, 12, 30, 100),\n",
    "                                                     faverage=True,\n",
    "                                                     sfreq=250, mode='multitaper', verbose=False)[0]\n",
    "        xr_cons[type_].append(xr.DataArray([con],\n",
    "                                    dims=(\"subject\", \"channel1\", \"channel2\", \"band\"),\n",
    "                                    coords={\"subject\": [str(subject.values)],\n",
    "                                            \"channel1\": trial_lst.channel.values,\n",
    "                                            \"channel2\": trial_lst.channel.values,\n",
    "                                            \"band\": bands}))\n",
    "\n",
    "    xr_cons[type_] = xr.concat(xr_cons[type_], dim=\"subject\")"
   ]
  },
  {
   "cell_type": "code",
   "execution_count": null,
   "metadata": {},
   "outputs": [],
   "source": [
    "ch_pos = pd.DataFrame(epochs.get_montage().get_positions()[\"ch_pos\"]).T\n",
    "ch_pos.columns = [\"x\", \"y\", \"z\"]\n",
    "left = ch_pos[ch_pos[\"x\"] > 0]\n",
    "right = ch_pos[ch_pos[\"x\"] <= 0]\n",
    "channels = pd.concat([left.sort_values(\"y\"), right.sort_values(\"y\", ascending=False)]).index.values\n",
    "\n",
    "channels = np.roll(channels, len(channels) - list(channels).index(\"Oz\"))\n",
    "channels = [ch for ch in channels if ch not in ['Fz', 'Cz', 'AFz', 'Pz', 'CPz', 'POz']]\n",
    "angles = np.linspace(360, 0, len(channels), endpoint=False)-90"
   ]
  },
  {
   "cell_type": "code",
   "execution_count": null,
   "metadata": {},
   "outputs": [],
   "source": [
    "figs = {}\n",
    "axes_lst = {}\n",
    "figs_im = {}\n",
    "axes_im_lst = {}\n",
    "maxima = {}\n",
    "for i, band in tqdm(list(enumerate(bands))):\n",
    "    tmp = (xr_cons[\"csd\"].real.mean(\"subject\") - xr_cons[\"sim\"].real.quantile(0.95, \"subject\"))\n",
    "    tmp = tmp.sel(channel1=channels, channel2=channels).data[:, :, i]\n",
    "    tmp[tmp < 0] = 0\n",
    "    maxima[(\"real\", band)] = tmp.max()    \n",
    "    figs[i], axes_lst[i] = mne.viz.plot_connectivity_circle(tmp, [\"\"]*len(channels), vmin=0, vmax=tmp.max(),\n",
    "                                                            node_angles=angles, n_lines=np.sum(tmp > 0),\n",
    "                                                            colorbar=False, title=f\"{band} ({np.round(tmp.max(), 2)})\",\n",
    "                                                            show=False)\n",
    "    figs[i].savefig(f\"{band}_real.png\", dpi=300)\n",
    "    plt.close(figs[i])\n",
    "    \n",
    "    tmp = (xr_cons[\"csd\"].imag.mean(\"subject\") - xr_cons[\"sim\"].imag.quantile(0.95, \"subject\"))\n",
    "    tmp = tmp.sel(channel1=channels, channel2=channels).data[:, :, i]\n",
    "    maxima[(\"imag\", band)] = tmp.max()   \n",
    "    tmp[tmp < 0] = 0\n",
    "    figs_im[i], axes_im_lst[i] = mne.viz.plot_connectivity_circle(tmp, [\"\"]*len(channels), vmin=0, vmax=tmp.max(),\n",
    "                                                            node_angles=angles, n_lines=np.sum(tmp > 0),\n",
    "                                                            colorbar=False, title=f\"{band} ({np.round(tmp.max(), 2)})\",\n",
    "                                                            show=False)\n",
    "    plt.close(figs_im[i])\n",
    "    figs_im[i].savefig(f\"{band}_imag.png\", dpi=300)    "
   ]
  },
  {
   "cell_type": "code",
   "execution_count": null,
   "metadata": {},
   "outputs": [],
   "source": [
    "fig = plt.figure(figsize=(5, 3.2), facecolor='white') #constrained_layout=False, \n",
    "gs1 = plt.GridSpec(2, 4, hspace=0)        \n",
    "axes =np.array([[fig.add_subplot(gs1[i, j]) for j in range(4)]  for i in range(2)])\n",
    "for ax in axes.ravel():\n",
    "    ax.axes.xaxis.set_visible(False)\n",
    "    ax.axes.yaxis.set_visible(False)\n",
    "    ax.set(frame_on=False)\n",
    "    ax.set_aspect(1)    \n",
    "gs1.tight_layout(fig, rect=[-0.04, -0.02, 1.02, 1.02], w_pad=0.0, h_pad=0.0)\n",
    "\n",
    "for type_, ax_row, y_text in zip([\"real\", \"imag\"], axes, [0.84, 0.39]):\n",
    "    for band, ax, x_text in zip(bands, ax_row, [0.17, 0.405, 0.64, 0.875]):\n",
    "        img = mpimg.imread(f\"{band}_{type_}.png\")\n",
    "        margin = 600\n",
    "        \n",
    "        ax.imshow(img[300:-margin, margin:-margin])   \n",
    "        if type_ == \"real\": \n",
    "            ax.set_title(band, fontsize=10)        \n",
    "            \n",
    "        fig.text(x_text, y_text, str(np.round(maxima[(type_, band)], 5)), color=\"w\", ha=\"center\") \n",
    "\n",
    "fig.text(0.01, 0.62, \"Real\", rotation=90)\n",
    "fig.text(0.01, 0.09, \"Imaginary\", rotation=90)\n",
    "\n",
    "gs1.tight_layout(fig, rect=[0.02, -0.05, 1.02, 1.02], w_pad=0.0, h_pad=0.0)\n",
    "fig.savefig(\"connectivity.png\", dpi=300)"
   ]
  },
  {
   "cell_type": "markdown",
   "metadata": {},
   "source": [
    "# Plot showing the quality of the co-registration"
   ]
  },
  {
   "cell_type": "code",
   "execution_count": null,
   "metadata": {},
   "outputs": [],
   "source": [
    "fig = mne.viz.plot_alignment(epochs.info, src=src, eeg='projected', trans=trans,\n",
    "                             show_axes=True, mri_fiducials=True, dig='fiducials')\n",
    "\n",
    "\n",
    "fig.plotter.off_screen = True\n",
    "fig.plotter.set_background(\"white\")\n",
    "\n",
    "mne.viz.set_3d_view(figure=fig, azimuth=135, elevation=80, distance=0.6)\n",
    "\n",
    "fig.plotter.screenshot(f\"coregistration_1.png\")\n",
    "\n",
    "mne.viz.set_3d_view(figure=fig, azimuth=45, elevation=80, distance=0.6)\n",
    "fig.plotter.screenshot(f\"coregistration_2.png\")\n",
    "\n",
    "mne.viz.set_3d_view(figure=fig, azimuth=270, elevation=80, distance=0.6)\n",
    "fig.plotter.screenshot(f\"coregistration_3.png\");"
   ]
  },
  {
   "cell_type": "markdown",
   "metadata": {},
   "source": [
    "# Validation of simulation quality"
   ]
  },
  {
   "cell_type": "code",
   "execution_count": null,
   "metadata": {
    "scrolled": true
   },
   "outputs": [],
   "source": [
    "df_within_sources_01, stcs_01 = get_coh_dist_df_sources(epochs[:2], fwd, 0.1)\n",
    "raw_sim = mne.simulation.simulate_raw(info=epochs.info, stc=stcs_01, forward=fwd)\n",
    "nb_epochs = len(stcs_01)\n",
    "nb_samples = len(epochs.times)\n",
    "events = np.array([np.arange(0, nb_epochs * nb_samples, nb_samples), [0] * nb_epochs, [1] * nb_epochs]).T\n",
    "epochs_sim = mne.Epochs(raw_sim, events, tmin=epochs.times[0], tmax=epochs.times[-1], baseline=None, preload=True,\n",
    "                        reject_by_annotation=False)"
   ]
  },
  {
   "cell_type": "code",
   "execution_count": null,
   "metadata": {},
   "outputs": [],
   "source": [
    "plt.rcParams.update({'font.size': 10})\n",
    "\n",
    "fig, axes = plt.subplots(1, 2, figsize=(3.5, 2), sharex=True, sharey=True, facecolor='white')\n",
    "\n",
    "sns.heatmap(epochs[0].get_data().squeeze(), ax=axes[0], cbar_ax=None, cbar=False) #vmin=0, vmax=1\n",
    "sns.heatmap(epochs_sim[0].get_data().squeeze(), ax=axes[1], cbar_ax=None, cbar=False)\n",
    "fig.tight_layout(rect=[0, 0, .9, 1])\n",
    "for ax in axes:\n",
    "    ax.yaxis.set_ticks([]) \n",
    "    ax.xaxis.set_ticks([0, 250, 500])    \n",
    "    ax.xaxis.set_ticklabels([0, 1, 2], rotation=0)\n",
    "    ax.set_xlabel(\"Time (s)\")\n",
    "\n",
    "axes[0].set_ylabel(\"Channels\")\n",
    "    \n",
    "axes[0].set_title(\"Recorded\", fontsize=10)\n",
    "axes[1].set_title(\"Simulated\", fontsize=10)\n",
    "\n",
    "fig.tight_layout()\n",
    "fig.savefig(\"epoch_heatmap.png\", dpi=300)"
   ]
  },
  {
   "cell_type": "code",
   "execution_count": null,
   "metadata": {},
   "outputs": [],
   "source": [
    "x = epochs[0].get_data().squeeze()\n",
    "y = epochs_sim[0].get_data().squeeze()\n",
    "\n",
    "print(f\"SNR = {np.round(10*np.log10((np.abs((x + y)).mean()/2)/np.abs(x-y).mean()), 1)} dB\")"
   ]
  },
  {
   "cell_type": "code",
   "execution_count": null,
   "metadata": {},
   "outputs": [],
   "source": [
    "sp.preview(r'$$SNR=10\\log_{10}\\left( \\frac{\\overline{|x+y|}}{2\\overline{|x-y|}} \\right)$$', \n",
    "           viewer='file', filename='snr_eq.png', \n",
    "           dvioptions=[\"-D 600\"])"
   ]
  },
  {
   "cell_type": "code",
   "execution_count": null,
   "metadata": {},
   "outputs": [],
   "source": [
    "fig, ax = plt.subplots(1, 1, figsize=(1, 3.5), sharex=True, sharey=True, facecolor='white')\n",
    "plt.rcParams.update({'font.size': 10})\n",
    "\n",
    "sns.violinplot(x=\"snr\", y=\"subject\", data=snr_df[np.in1d(snr_df.subject, snr_df.subject.unique()[:10])], orient=\"h\", ax=ax)    \n",
    "ax.set_xlabel(\"SNR (dB)\")\n",
    "ax.set_ylabel(\"\")\n",
    "ax.set_yticks([])\n",
    "ax.set_xlim(15, 21)\n",
    "\n",
    "fig.tight_layout(rect=[-0.15, -0.02, 1.1, 1.02])\n",
    "fig.savefig(\"simulation_snr.png\", dpi=300)"
   ]
  },
  {
   "cell_type": "code",
   "execution_count": null,
   "metadata": {
    "scrolled": true
   },
   "outputs": [],
   "source": [
    "fig = plt.figure(figsize=(3.5, 3), facecolor='white') #constrained_layout=False, \n",
    "\n",
    "gs1 = plt.GridSpec(2, 2, hspace=0, height_ratios=[0.87, 1], width_ratios=[2, 0.7])        \n",
    "ax1 = fig.add_subplot(gs1[0, 0])\n",
    "ax2 = fig.add_subplot(gs1[1, 0])\n",
    "ax3 = fig.add_subplot(gs1[:, 1])\n",
    "for ax in [ax1, ax2, ax3]:\n",
    "    ax.axes.xaxis.set_visible(False)\n",
    "    ax.axes.yaxis.set_visible(False)\n",
    "gs1.tight_layout(fig, rect=[-0.04, -0.02, 1.02, 1.02], w_pad=0.0, h_pad=0.0)\n",
    "\n",
    "margin = 120\n",
    "img1 = mpimg.imread(\"coregistration_3.png\")[margin:-margin, margin:-margin, :]\n",
    "img2 = mpimg.imread(\"coregistration_2.png\")[margin:-margin, margin:-margin, :]\n",
    "img = np.concatenate([img1, img2], axis=1)\n",
    "\n",
    "ax1.imshow(img)\n",
    "ax1.set(frame_on=False)\n",
    "ax1.set_aspect(1)\n",
    "\n",
    "img = mpimg.imread(\"epoch_heatmap.png\")\n",
    "ax2.imshow(img)\n",
    "ax2.set(frame_on=False)\n",
    "ax2.set_aspect(1)\n",
    "\n",
    "img = mpimg.imread(\"simulation_snr.png\")\n",
    "ax3.imshow(img[5:, :, :])\n",
    "ax3.set(frame_on=False)\n",
    "ax3.set_aspect(1)\n",
    "\n",
    "fig.text(0.04, 0.95, \"a\", size=12, ha=\"center\", transform=fig.transFigure)\n",
    "fig.text(0.04, 0.45, \"b\", size=12, ha=\"center\", transform=fig.transFigure)\n",
    "fig.text(0.72, 0.95, \"c\", size=12, ha=\"center\", transform=fig.transFigure)\n",
    "\n",
    "gs1.tight_layout(fig, rect=[-0.04, -0.05, 1.02, 1.02], w_pad=0.0, h_pad=0.0)\n",
    "fig.savefig(\"method_paper.png\", dpi=300)"
   ]
  },
  {
   "cell_type": "code",
   "execution_count": null,
   "metadata": {},
   "outputs": [],
   "source": [
    "fig = plt.figure(figsize=(3.5, 4.2), facecolor='white') #constrained_layout=False, \n",
    "\n",
    "gs1 = plt.GridSpec(2, 1, hspace=0, height_ratios=[1, 1.25])        \n",
    "ax1 = fig.add_subplot(gs1[0])\n",
    "ax2 = fig.add_subplot(gs1[1])\n",
    "for ax in [ax1, ax2]:\n",
    "    ax.axes.xaxis.set_visible(False)\n",
    "    ax.axes.yaxis.set_visible(False)\n",
    "gs1.tight_layout(fig, rect=[-0.04, -0.02, 1.02, 1.02], w_pad=0.0, h_pad=0.0)\n",
    "\n",
    "img = mpimg.imread(\"intra_coh_vs_dist.png\")\n",
    "margin = 120\n",
    "ax1.imshow(img)\n",
    "ax1.set(frame_on=False)\n",
    "ax1.set_aspect(1)\n",
    "\n",
    "img = mpimg.imread(\"benchmark_c_value.png\")\n",
    "ax2.imshow(img)\n",
    "ax2.set(frame_on=False)\n",
    "ax2.set_aspect(1)\n",
    "\n",
    "gs1.tight_layout(fig, rect=[-0.04, -0.02, 1.02, 1.02], w_pad=0.0, h_pad=0.0)\n",
    "\n",
    "fig.text(0.04, 0.97, \"a\", size=12, ha=\"center\", transform=fig.transFigure)\n",
    "fig.text(0.04, 0.55, \"b\", size=12, ha=\"center\", transform=fig.transFigure)\n",
    "\n",
    "fig.savefig(\"method_corr_surrogate.png\", dpi=300)"
   ]
  },
  {
   "cell_type": "markdown",
   "metadata": {},
   "source": [
    "# Making equations images for Google doc"
   ]
  },
  {
   "cell_type": "code",
   "execution_count": null,
   "metadata": {},
   "outputs": [],
   "source": [
    "sp.preview(r'$$C(f)=\\left | \\frac{E\\left [ S_{XY}(f))\\right ]}{\\sqrt{E\\left [ S_{XX}(f))\\right ]E\\left [ S_{YY}(f))\\right ]}} \\right |$$', \n",
    "           viewer='file', filename='abs_coherence_eq.png', \n",
    "           dvioptions=[\"-D 600\"])\n",
    "sp.preview(r'$$\\varsigma (d)=be^a=0.3282e^{-0.2261}$$', \n",
    "           viewer='file', filename='varsigma_func.png', \n",
    "           dvioptions=[\"-D 600\"])\n",
    "sp.preview(r'$$\\widetilde{s_i}= s_i+\\sum_{s_j \\in \\Theta_i }\\varsigma (d(s_i, s_j))s_j$$', \n",
    "           viewer='file', filename='corrected_source_non_norm_eq.png', \n",
    "           dvioptions=[\"-D 600\"])\n",
    "sp.preview(r'$$\\widehat{s_i}= \\widetilde{s_i}\\frac{\\overline{|s_i|}}{\\overline{|\\widetilde{s_i}|}}$$', \n",
    "           viewer='file', filename='corrected_source_normed_eq.png', \n",
    "           dvioptions=[\"-D 600\"])"
   ]
  }
 ],
 "metadata": {
  "kernelspec": {
   "display_name": "Python 3",
   "language": "python",
   "name": "python3"
  },
  "language_info": {
   "codemirror_mode": {
    "name": "ipython",
    "version": 3
   },
   "file_extension": ".py",
   "mimetype": "text/x-python",
   "name": "python",
   "nbconvert_exporter": "python",
   "pygments_lexer": "ipython3",
   "version": "3.7.7"
  }
 },
 "nbformat": 4,
 "nbformat_minor": 4
}
