{
 "cells": [
  {
   "cell_type": "markdown",
   "metadata": {},
   "source": [
    "# Imports and functions"
   ]
  },
  {
   "cell_type": "code",
   "execution_count": 1,
   "metadata": {},
   "outputs": [
    {
     "name": "stderr",
     "output_type": "stream",
     "text": [
      "In /home/christian/anaconda3/lib/python3.7/site-packages/matplotlib/mpl-data/stylelib/_classic_test.mplstyle: \n",
      "The text.latex.preview rcparam was deprecated in Matplotlib 3.3 and will be removed two minor releases later.\n",
      "In /home/christian/anaconda3/lib/python3.7/site-packages/matplotlib/mpl-data/stylelib/_classic_test.mplstyle: \n",
      "The mathtext.fallback_to_cm rcparam was deprecated in Matplotlib 3.3 and will be removed two minor releases later.\n",
      "In /home/christian/anaconda3/lib/python3.7/site-packages/matplotlib/mpl-data/stylelib/_classic_test.mplstyle: Support for setting the 'mathtext.fallback_to_cm' rcParam is deprecated since 3.3 and will be removed two minor releases later; use 'mathtext.fallback : 'cm' instead.\n",
      "In /home/christian/anaconda3/lib/python3.7/site-packages/matplotlib/mpl-data/stylelib/_classic_test.mplstyle: \n",
      "The validate_bool_maybe_none function was deprecated in Matplotlib 3.3 and will be removed two minor releases later.\n",
      "In /home/christian/anaconda3/lib/python3.7/site-packages/matplotlib/mpl-data/stylelib/_classic_test.mplstyle: \n",
      "The savefig.jpeg_quality rcparam was deprecated in Matplotlib 3.3 and will be removed two minor releases later.\n",
      "In /home/christian/anaconda3/lib/python3.7/site-packages/matplotlib/mpl-data/stylelib/_classic_test.mplstyle: \n",
      "The keymap.all_axes rcparam was deprecated in Matplotlib 3.3 and will be removed two minor releases later.\n",
      "In /home/christian/anaconda3/lib/python3.7/site-packages/matplotlib/mpl-data/stylelib/_classic_test.mplstyle: \n",
      "The animation.avconv_path rcparam was deprecated in Matplotlib 3.3 and will be removed two minor releases later.\n",
      "In /home/christian/anaconda3/lib/python3.7/site-packages/matplotlib/mpl-data/stylelib/_classic_test.mplstyle: \n",
      "The animation.avconv_args rcparam was deprecated in Matplotlib 3.3 and will be removed two minor releases later.\n"
     ]
    }
   ],
   "source": [
    "import pandas as pd\n",
    "from pathlib import Path\n",
    "import seaborn as sns\n",
    "import mne\n",
    "import numpy as np\n",
    "import parse"
   ]
  },
  {
   "cell_type": "code",
   "execution_count": 2,
   "metadata": {},
   "outputs": [],
   "source": [
    "def get_clean_data(state, window_length=1.0, sfreq=200.0):\n",
    "    data_all = []\n",
    "    ch_names = []\n",
    "    state_paths = paths / (state + \"_AllRegions\")\n",
    "    for path in list(state_paths.glob(\"*.edf\")):\n",
    "        raw = mne.io.read_raw_edf(str(path), verbose=False)\n",
    "        ch_names.append([c[:-1] for c in raw.info[\"ch_names\"]])\n",
    "        \n",
    "        # BDF is 24 bits anyway, so 64 bits is not necessary\n",
    "        data_all.append(raw.get_data().astype(np.float32))\n",
    "\n",
    "        # Sanity check\n",
    "        assert(sfreq == raw.info[\"sfreq\"])\n",
    "\n",
    "    data_all = np.vstack(data_all)\n",
    "    ch_names = np.concatenate(ch_names)\n",
    "\n",
    "    nb_signals, nb_samples = data_all.shape\n",
    "    nb_windows = int(nb_samples/sfreq/window_length)\n",
    "    epochs = np.array(np.hsplit(data_all[:, :int(nb_windows*window_length*sfreq)], \n",
    "                                int(nb_samples/(window_length*sfreq))))\n",
    "\n",
    "    subjects = ch_to_subjects(ch_names)\n",
    "\n",
    "    epochs_clean_all_subjects = []\n",
    "\n",
    "    for subject in np.unique(subjects):\n",
    "        subject_epochs = epochs[:, np.where(subjects == subject)[0], :]\n",
    "\n",
    "        # zeroed signals of 2s have been inserted at discontinuity. Removing \n",
    "        # these zeroed epochs\n",
    "        x = np.abs(subject_epochs).sum(2)[:, 0]\n",
    "        assert(len(x[x > 1e-5]) == 60)\n",
    "        subject_epochs = subject_epochs[x > 1e-5, :, :]\n",
    "\n",
    "        epochs_clean_all_subjects.append(subject_epochs)\n",
    "\n",
    "    epochs_clean_all_subjects = np.concatenate(epochs_clean_all_subjects, axis=1)        \n",
    "\n",
    "    return np.concatenate(epochs_clean_all_subjects, axis=1), ch_names      \n",
    "\n",
    "def ch_to_subjects(ch_names):\n",
    "    return np.array([parse.parse(\"{:l}{:d}{:l}{:w}\", ch_name).fixed[1] \n",
    "                     for ch_name in ch_names])\n",
    "\n",
    "def get_dist(name1, name2):\n",
    "    return np.sqrt(np.sum((channel_info.loc[name1, [\"x\", \"y\", \"z\"]].values - \n",
    "                           channel_info.loc[name2, [\"x\", \"y\", \"z\"]].values)**2, axis=1))    "
   ]
  },
  {
   "cell_type": "markdown",
   "metadata": {},
   "source": [
    "# Setting parameters and loading data"
   ]
  },
  {
   "cell_type": "code",
   "execution_count": 3,
   "metadata": {},
   "outputs": [],
   "source": [
    "sfreq = 200.0\n",
    "con_method = \"cohy\"\n",
    "state = 'Wakefulness'\n",
    "window_length=1.0\n",
    "\n",
    "# The data contain in that repository can be procured here:\n",
    "# https://mni-open-ieegatlas.research.mcgill.ca/\n",
    "paths = Path(\"/media/christian/ElementsSE/intracranial/\") \n",
    "channel_info = pd.read_csv(\"/media/christian/ElementsSE/intracranial/information/ChannelInformation.csv\",\n",
    "                          quotechar=\"'\")\n",
    "patient, electrode = list(zip(*[parse.parse(\"{:l}{:d}{:l}{:w}\", ch_name).fixed \n",
    "                                for ch_name in channel_info[\"Channel name\"]]))[1:3]\n",
    "channel_info[\"electrode\"] = electrode\n",
    "channel_info = channel_info.set_index(\"Channel name\")"
   ]
  },
  {
   "cell_type": "markdown",
   "metadata": {},
   "source": [
    "# Computing and saving connectivity"
   ]
  },
  {
   "cell_type": "code",
   "execution_count": 4,
   "metadata": {},
   "outputs": [],
   "source": [
    "means = []\n",
    "epochs_con = []\n",
    "\n",
    "data_clean, ch_names = get_clean_data(state, window_length, sfreq)        \n",
    "subjects = ch_to_subjects(ch_names)\n",
    "nb_signals, nb_samples = data_clean.shape\n",
    "nb_windows = int(nb_samples/sfreq/window_length)\n",
    "data_clean = data_clean[:, :int(nb_windows*window_length*sfreq)]\n",
    "\n",
    "# epochs X channels X time\n",
    "epochs = np.array(np.hsplit(data_clean, nb_windows))  \n",
    "\n",
    "recompute = False\n",
    "if recompute or not Path(\"con_intracranial.npy\").exists():\n",
    "    con, freqs, times, n_epochs, n_tapers = \\\n",
    "        mne.connectivity.spectral_connectivity(epochs, \n",
    "                                               method=con_method, \n",
    "                                               sfreq=sfreq, verbose=True,\n",
    "                                               faverage=True, block_size=1000)\n",
    "    np.save(\"con_intracranial.npy\", con)\n",
    "\n",
    "con = np.load(\"con_intracranial.npy\")"
   ]
  },
  {
   "cell_type": "markdown",
   "metadata": {},
   "source": [
    "# Formatting the data as dataframes  "
   ]
  },
  {
   "cell_type": "code",
   "execution_count": 5,
   "metadata": {},
   "outputs": [],
   "source": [
    "inds = np.tril_indices(nb_signals, k=-1)\n",
    "\n",
    "ch_name1 = np.ravel(np.tile(ch_names, (nb_signals, 1))[inds])\n",
    "ch_name2 = np.ravel(np.tile(np.array(ch_names)[:, None], (1, nb_signals))[inds])\n",
    "\n",
    "subjects1 = ch_to_subjects(ch_name1)    \n",
    "subjects2 = ch_to_subjects(ch_name2)    \n",
    "\n",
    "df_between = pd.DataFrame({\"con\": np.ravel(con[inds])[subjects1 != subjects2],\n",
    "                           \"ch_names1\": ch_name1[subjects1 != subjects2], \n",
    "                           \"ch_names2\": ch_name2[subjects1 != subjects2]})\n",
    "df_between[\"dist\"] = get_dist(df_between.ch_names1.values, df_between.ch_names2.values)\n",
    "df_between[\"abs_cohy\"] = np.abs(df_between.con)\n",
    "\n",
    "df_within = pd.DataFrame({\"con\": np.ravel(con[inds])[subjects1 == subjects2],\n",
    "                           \"ch_names1\": ch_name1[subjects1 == subjects2], \n",
    "                           \"ch_names2\": ch_name2[subjects1 == subjects2]})\n",
    "df_within[\"dist\"] = get_dist(df_within.ch_names1.values, df_within.ch_names2.values)\n",
    "df_within[\"abs_cohy\"] = np.abs(df_within.con)"
   ]
  },
  {
   "cell_type": "markdown",
   "metadata": {},
   "source": [
    "# Displaying the average connectivity and exporting the data for further analyses"
   ]
  },
  {
   "cell_type": "code",
   "execution_count": 6,
   "metadata": {},
   "outputs": [
    {
     "name": "stderr",
     "output_type": "stream",
     "text": [
      "/home/christian/anaconda3/lib/python3.7/site-packages/seaborn/_decorators.py:43: FutureWarning: Pass the following variables as keyword args: x, y. From version 0.12, the only valid positional argument will be `data`, and passing other arguments without an explicit keyword will result in an error or misinterpretation.\n",
      "  FutureWarning\n",
      "/home/christian/anaconda3/lib/python3.7/site-packages/seaborn/_decorators.py:43: FutureWarning: Pass the following variables as keyword args: x, y. From version 0.12, the only valid positional argument will be `data`, and passing other arguments without an explicit keyword will result in an error or misinterpretation.\n",
      "  FutureWarning\n"
     ]
    },
    {
     "data": {
      "text/plain": [
       "<AxesSubplot:xlabel='dist', ylabel='abs_cohy'>"
      ]
     },
     "execution_count": 6,
     "metadata": {},
     "output_type": "execute_result"
    },
    {
     "data": {
      "image/png": "[encoded data removed]",
      "text/plain": [
       "<Figure size 432x288 with 1 Axes>"
      ]
     },
     "metadata": {
      "needs_background": "light"
     },
     "output_type": "display_data"
    }
   ],
   "source": [
    "sns.lineplot(np.round(df_within[\"dist\"], -1), df_within[\"abs_cohy\"])\n",
    "sns.lineplot(np.round(df_between[\"dist\"], -1), df_between[\"abs_cohy\"])"
   ]
  },
  {
   "cell_type": "code",
   "execution_count": 7,
   "metadata": {},
   "outputs": [],
   "source": [
    "df_within.to_pickle(\"within_intracranial.pck\")\n",
    "df_between.to_pickle(\"between_intracranial.pck\")"
   ]
  }
 ],
 "metadata": {
  "kernelspec": {
   "display_name": "Python 3",
   "language": "python",
   "name": "python3"
  },
  "language_info": {
   "codemirror_mode": {
    "name": "ipython",
    "version": 3
   },
   "file_extension": ".py",
   "mimetype": "text/x-python",
   "name": "python",
   "nbconvert_exporter": "python",
   "pygments_lexer": "ipython3",
   "version": "3.7.7"
  }
 },
 "nbformat": 4,
 "nbformat_minor": 2
}
